{
 "cells": [
  {
   "cell_type": "code",
   "execution_count": 1,
   "metadata": {},
   "outputs": [
    {
     "name": "stdout",
     "output_type": "stream",
     "text": [
      "Requirement already satisfied: seaborn in c:\\users\\sid\\appdata\\local\\programs\\python\\python310\\lib\\site-packages (0.13.2)\n",
      "Requirement already satisfied: numpy!=1.24.0,>=1.20 in c:\\users\\sid\\appdata\\local\\programs\\python\\python310\\lib\\site-packages (from seaborn) (1.25.2)\n",
      "Requirement already satisfied: pandas>=1.2 in c:\\users\\sid\\appdata\\local\\programs\\python\\python310\\lib\\site-packages (from seaborn) (2.1.2)\n",
      "Requirement already satisfied: matplotlib!=3.6.1,>=3.4 in c:\\users\\sid\\appdata\\local\\programs\\python\\python310\\lib\\site-packages (from seaborn) (3.8.2)\n",
      "Requirement already satisfied: contourpy>=1.0.1 in c:\\users\\sid\\appdata\\local\\programs\\python\\python310\\lib\\site-packages (from matplotlib!=3.6.1,>=3.4->seaborn) (1.1.1)\n",
      "Requirement already satisfied: cycler>=0.10 in c:\\users\\sid\\appdata\\local\\programs\\python\\python310\\lib\\site-packages (from matplotlib!=3.6.1,>=3.4->seaborn) (0.12.1)\n",
      "Requirement already satisfied: fonttools>=4.22.0 in c:\\users\\sid\\appdata\\local\\programs\\python\\python310\\lib\\site-packages (from matplotlib!=3.6.1,>=3.4->seaborn) (4.43.1)\n",
      "Requirement already satisfied: kiwisolver>=1.3.1 in c:\\users\\sid\\appdata\\local\\programs\\python\\python310\\lib\\site-packages (from matplotlib!=3.6.1,>=3.4->seaborn) (1.4.5)\n",
      "Requirement already satisfied: packaging>=20.0 in c:\\users\\sid\\appdata\\local\\programs\\python\\python310\\lib\\site-packages (from matplotlib!=3.6.1,>=3.4->seaborn) (23.0)\n",
      "Requirement already satisfied: pillow>=8 in c:\\users\\sid\\appdata\\local\\programs\\python\\python310\\lib\\site-packages (from matplotlib!=3.6.1,>=3.4->seaborn) (9.4.0)\n",
      "Requirement already satisfied: pyparsing>=2.3.1 in c:\\users\\sid\\appdata\\local\\programs\\python\\python310\\lib\\site-packages (from matplotlib!=3.6.1,>=3.4->seaborn) (3.1.1)\n",
      "Requirement already satisfied: python-dateutil>=2.7 in c:\\users\\sid\\appdata\\local\\programs\\python\\python310\\lib\\site-packages (from matplotlib!=3.6.1,>=3.4->seaborn) (2.8.2)\n",
      "Requirement already satisfied: pytz>=2020.1 in c:\\users\\sid\\appdata\\local\\programs\\python\\python310\\lib\\site-packages (from pandas>=1.2->seaborn) (2023.3.post1)\n",
      "Requirement already satisfied: tzdata>=2022.1 in c:\\users\\sid\\appdata\\local\\programs\\python\\python310\\lib\\site-packages (from pandas>=1.2->seaborn) (2023.3)\n",
      "Requirement already satisfied: six>=1.5 in c:\\users\\sid\\appdata\\local\\programs\\python\\python310\\lib\\site-packages (from python-dateutil>=2.7->matplotlib!=3.6.1,>=3.4->seaborn) (1.16.0)\n",
      "Note: you may need to restart the kernel to use updated packages.\n"
     ]
    },
    {
     "name": "stderr",
     "output_type": "stream",
     "text": [
      "\n",
      "[notice] A new release of pip is available: 24.0 -> 24.1\n",
      "[notice] To update, run: python.exe -m pip install --upgrade pip\n"
     ]
    }
   ],
   "source": [
    "%pip install seaborn"
   ]
  },
  {
   "cell_type": "code",
   "execution_count": 2,
   "metadata": {},
   "outputs": [],
   "source": [
    "#import libraries\n",
    "\n",
    "import os\n",
    "import math\n",
    "import cv2\n",
    "import struct\n",
    "import glob\n",
    "from tqdm import tqdm\n",
    "from PIL import Image\n",
    "import pandas as pd\n",
    "import numpy as np\n",
    "import matplotlib.pyplot as plt\n",
    "import matplotlib.image as mpimg\n",
    "import seaborn as sns\n",
    "import xml.etree.ElementTree as ET"
   ]
  },
  {
   "cell_type": "code",
   "execution_count": 84,
   "metadata": {},
   "outputs": [],
   "source": [
    "PROCESSED_DATA = './ICDAR/ICDAR_Processed'\n",
    "IMAGE_PATH = os.path.join(PROCESSED_DATA, 'image')\n",
    "TABLE_MASK_PATH = os.path.join(PROCESSED_DATA, 'table_mask')\n",
    "COL_MASK_PATH = os.path.join(PROCESSED_DATA, 'col_mask')\n",
    "ORIG_DATA_PATH = '.\\ICDAR\\ICDAR2019_cTDaR/training\\TRACKB1\\ground_truth'"
   ]
  },
  {
   "cell_type": "code",
   "execution_count": 14,
   "metadata": {},
   "outputs": [],
   "source": [
    "os.makedirs(PROCESSED_DATA, exist_ok = True)\n",
    "os.makedirs(IMAGE_PATH, exist_ok = True)\n",
    "os.makedirs(TABLE_MASK_PATH, exist_ok = True)\n",
    "os.makedirs(COL_MASK_PATH, exist_ok = True)"
   ]
  },
  {
   "cell_type": "code",
   "execution_count": null,
   "metadata": {},
   "outputs": [],
   "source": [
    "import xml.etree.ElementTree as ET\n",
    "tree = ET.parse('cTDaR_t00005.xml')\n",
    "root = tree.getroot()"
   ]
  },
  {
   "cell_type": "code",
   "execution_count": 23,
   "metadata": {},
   "outputs": [],
   "source": [
    "# Function to set a value in the table\n",
    "def set_value(table, row, col, value):\n",
    "    table[(row, col)] = value\n",
    "\n",
    "# Function to get a value from the table\n",
    "def get_value(table, row, col):\n",
    "    return table.get((row, col), None)"
   ]
  },
  {
   "cell_type": "markdown",
   "metadata": {},
   "source": [
    "# Point Extraction from XMLS"
   ]
  },
  {
   "cell_type": "markdown",
   "metadata": {},
   "source": [
    "### Extraction and arrangement of points for columns from XMLs"
   ]
  },
  {
   "cell_type": "code",
   "execution_count": 24,
   "metadata": {},
   "outputs": [],
   "source": [
    "import math\n",
    "def parrange(start_row, start_col, end_row, end_col, pointsfornow, points):\n",
    "  if(end_row == None):\n",
    "    end_row = start_row\n",
    "  if(end_col == None):\n",
    "    end_col = start_col\n",
    "  rows = end_row - start_row + 1\n",
    "  cols = end_col - start_col + 1\n",
    "  if(rows == 1 and cols == 1):\n",
    "    set_value(pointsfornow, start_row, start_col, points[0:4])\n",
    "    set_value(pointsfornow, start_row, start_col, [points[0], points[1], points[math.floor((len(points)-2)/2)+1], points[math.floor((len(points)-2)/2)+2]])\n",
    "  elif (rows != 1 or cols != 1) and len(points) > 4:\n",
    "    left = points[:rows+1]\n",
    "    top = points[rows+1:rows+cols]\n",
    "    right = points[rows+cols:rows+cols+rows+1]\n",
    "    bottom = points[rows+cols+rows+1:]\n",
    "    right.reverse()\n",
    "    bottom.reverse()\n",
    "    pts1 = True if len(points) == 2*(rows+cols) else False\n",
    "    L1 = True if len(left) == rows+1 else False\n",
    "    R1 = True if len(left) == rows+1 else False\n",
    "    T1 = True if  len(top) == cols-1 else False\n",
    "    B1 = True if  len(bottom) == cols-1 else False\n",
    "    master = True if pts1 and L1 and R1 and T1 and B1 else False\n",
    "    for row in range(rows):\n",
    "      for col in range(cols):\n",
    "        if col == 0 and cols > 1 and master and len(top)>0:\n",
    "          set_value(pointsfornow, start_row+row, start_col+col, [left[row], left[row+1], top[col], bottom[col]])\n",
    "        elif col == cols-1 and master and len(top)>0:\n",
    "          set_value(pointsfornow, start_row+row, start_col+col, [bottom[col-1], top[col-1], right[row], right[row+1]])\n",
    "        elif col > 0 and col < cols-1 and master and len(top)>0:\n",
    "          set_value(pointsfornow, start_row+row, start_col+col, [bottom[col-1], top[col-1], top[col], bottom[col]])\n",
    "        else:\n",
    "          set_value(pointsfornow, start_row+row, start_col+col, None)"
   ]
  },
  {
   "cell_type": "code",
   "execution_count": 26,
   "metadata": {},
   "outputs": [],
   "source": [
    "def string_to_points(coord_string):\n",
    "    points = coord_string.split()\n",
    "    return [tuple(map(int, point.split(','))) for point in points]\n"
   ]
  },
  {
   "cell_type": "code",
   "execution_count": 28,
   "metadata": {},
   "outputs": [],
   "source": [
    "def getall(root):\n",
    "  table= []\n",
    "  all_points = []\n",
    "  max_col = []  # Variable to track the maximum end-col value\n",
    "\n",
    "  for child in root: #Tables in Document\n",
    "      pointsfornow = {}\n",
    "      mxc = 0\n",
    "      for child2 in child: #coord for table and cell in Table\n",
    "        if 'points' in child2.attrib:\n",
    "              table.append(string_to_points(child2.attrib['points']))\n",
    "        else:\n",
    "            start_row, start_col, end_row, end_col = None, None, None, None\n",
    "            try:\n",
    "              start_row = int(child2.attrib['start-row'])\n",
    "              start_col = int(child2.attrib['start-col'])\n",
    "              end_row = int(child2.attrib['end-row'])\n",
    "              end_col = int(child2.attrib['end-col'])\n",
    "            except(ValueError, TypeError):\n",
    "              print(\"exception in Start/End Row/Column\")\n",
    "            try:\n",
    "              if end_col > mxc:\n",
    "                mxc = end_col\n",
    "            except (ValueError, TypeError):\n",
    "              print(\"exception in max col\")\n",
    "              if start_col > mxc:\n",
    "                mxc = start_col\n",
    "        for child3 in child2: #coord in Cell within Table\n",
    "          if 'points' in child3.attrib:\n",
    "                  parrange(start_row, start_col, end_row, end_col, pointsfornow, string_to_points(child3.attrib['points']))\n",
    "      all_points.append(pointsfornow)\n",
    "      max_col.append(mxc+1)\n",
    "  return table, all_points, max_col "
   ]
  },
  {
   "cell_type": "markdown",
   "metadata": {},
   "source": [
    "## THIS is for COLUMN MASK ONLY"
   ]
  },
  {
   "cell_type": "code",
   "execution_count": 29,
   "metadata": {},
   "outputs": [],
   "source": [
    "def customsort(points):\n",
    "  toreturn = []\n",
    "  for unsorted_dict in points:\n",
    "    sorted_dict = dict(sorted(unsorted_dict.items(), key=lambda item: (item[0][0], item[0][1])))\n",
    "    toreturn.append(sorted_dict)\n",
    "  return toreturn"
   ]
  },
  {
   "cell_type": "code",
   "execution_count": 30,
   "metadata": {},
   "outputs": [],
   "source": [
    "def toplot(all_poins, max_col):\n",
    "    ret = []\n",
    "    resultant = list(all_poins.items())[-max_col:]\n",
    "    replacefrm = list(all_poins.items())[:max_col]\n",
    "    R1 = resultant[0][0][0]\n",
    "    R2 = replacefrm[0][0][0]\n",
    "    resultant = dict(resultant)\n",
    "    replacefrm = dict(replacefrm)\n",
    "    print(resultant)\n",
    "    print(replacefrm)\n",
    "    for i in range(max_col):\n",
    "      j, k = 1, 1\n",
    "      res, rep = resultant[(R1, i)],  replacefrm[(R2, i)]\n",
    "      while res == None:\n",
    "        res= all_poins[(R1 - j, i)]\n",
    "        j = j+1\n",
    "      while rep == None:\n",
    "        rep = all_poins[(R2 + k, i)]\n",
    "        k = k+1\n",
    "      res[0] = rep[0]\n",
    "      res[3] = rep[3]\n",
    "      res[0], res[1], res[2], res[3] = list(res[0]), list(res[1]), list(res[2]), list(res[3])\n",
    "      res[0][0] += 40\n",
    "      res[1][0] += 40\n",
    "      res[2][0] -= 40\n",
    "      res[3][0] -= 40\n",
    "      res[0], res[1], res[2], res[3] = tuple(res[0]), tuple(res[1]), tuple(res[2]), tuple(res[3])\n",
    "      ret.append(res)\n",
    "    return ret"
   ]
  },
  {
   "cell_type": "markdown",
   "metadata": {},
   "source": [
    "# Mask Generation"
   ]
  },
  {
   "cell_type": "code",
   "execution_count": null,
   "metadata": {},
   "outputs": [],
   "source": [
    "from PIL import Image, ImageDraw\n",
    "\n",
    "def get_image_dimensions(image_path):\n",
    "    with Image.open(image_path) as img:\n",
    "        width, height = img.size\n",
    "        return width, height"
   ]
  },
  {
   "cell_type": "code",
   "execution_count": null,
   "metadata": {},
   "outputs": [],
   "source": [
    "def trailplot(resultant, image_path):\n",
    "# Define the size of the bitmap\n",
    "  # width = 10000\n",
    "  # height = 10000\n",
    "  width, height = get_image_dimensions(image_path)\n",
    "\n",
    "# Create a blank black image\n",
    "  img = Image.new('RGB', (width, height), color='black')\n",
    "  draw = ImageDraw.Draw(img)\n",
    "  closed_areas = [[(951, 501), (875, 3179), (924, 3181), (1003, 503)],\n",
    " [(1083, 503), (1004, 3181), (1463, 3193), (1541, 515)],\n",
    " [(1621, 515), (1543, 3193), (1640, 3197), (1717, 519)],\n",
    " [(1797, 519), (1720, 3197), (1913, 3203), (1983, 525)],\n",
    " [(2063, 525), (1993, 3203), (2419, 3214), (2487, 536)],\n",
    " [(2567, 536), (2499, 3214), (2603, 3218), (2656, 540)],\n",
    " [(2736, 540), (2683, 3218), (2866, 3224), (2908, 546)],\n",
    " [(2988, 546), (2946, 3224), (3406, 3236), (3450, 558)],\n",
    " [(3530, 558), (3486, 3236), (3588, 3241), (3631, 562)],\n",
    " [(3711, 562), (3668, 3241), (3857, 3248), (3903, 569)],\n",
    " [(3983, 569), (3937, 3248), (4412, 3261), (4453, 582)]]\n",
    "\n",
    "# Draw the closed areas in white\n",
    "  for area in closed_areas:\n",
    "     draw.polygon(area, fill='white')\n",
    "\n",
    "# Save the image\n",
    "  img.save('output_bitmap.png')"
   ]
  },
  {
   "cell_type": "markdown",
   "metadata": {},
   "source": [
    "# EDA"
   ]
  },
  {
   "cell_type": "markdown",
   "metadata": {},
   "source": [
    "## Marmot Dataset"
   ]
  },
  {
   "cell_type": "markdown",
   "metadata": {},
   "source": [
    "We will be using data in terms of\n",
    "\n",
    "- Positive Samples : Images with table in them\n",
    "- Negative Samples : Images with no table in them"
   ]
  },
  {
   "cell_type": "code",
   "execution_count": 71,
   "metadata": {},
   "outputs": [],
   "source": [
    "xmls = glob.glob('./ICDAR/ICDAR2019_cTDaR/training/TRACKB1/ground_truth' + '/*.xml')\n",
    "jpgs = glob.glob('./ICDAR/ICDAR2019_cTDaR/training/TRACKB1/ground_truth' + '/*.jpg')"
   ]
  },
  {
   "cell_type": "code",
   "execution_count": 62,
   "metadata": {},
   "outputs": [
    {
     "data": {
      "text/plain": [
       "['./ICDAR/ICDAR2019_cTDaR/training/TRACKB1/ground_truth\\\\cTDaR_t00000.xml',\n",
       " './ICDAR/ICDAR2019_cTDaR/training/TRACKB1/ground_truth\\\\cTDaR_t00001.xml',\n",
       " './ICDAR/ICDAR2019_cTDaR/training/TRACKB1/ground_truth\\\\cTDaR_t00002.xml',\n",
       " './ICDAR/ICDAR2019_cTDaR/training/TRACKB1/ground_truth\\\\cTDaR_t00003.xml',\n",
       " './ICDAR/ICDAR2019_cTDaR/training/TRACKB1/ground_truth\\\\cTDaR_t00004.xml',\n",
       " './ICDAR/ICDAR2019_cTDaR/training/TRACKB1/ground_truth\\\\cTDaR_t00005.xml',\n",
       " './ICDAR/ICDAR2019_cTDaR/training/TRACKB1/ground_truth\\\\cTDaR_t00006.xml',\n",
       " './ICDAR/ICDAR2019_cTDaR/training/TRACKB1/ground_truth\\\\cTDaR_t00007.xml',\n",
       " './ICDAR/ICDAR2019_cTDaR/training/TRACKB1/ground_truth\\\\cTDaR_t00008.xml',\n",
       " './ICDAR/ICDAR2019_cTDaR/training/TRACKB1/ground_truth\\\\cTDaR_t00009.xml',\n",
       " './ICDAR/ICDAR2019_cTDaR/training/TRACKB1/ground_truth\\\\cTDaR_t00010.xml',\n",
       " './ICDAR/ICDAR2019_cTDaR/training/TRACKB1/ground_truth\\\\cTDaR_t00018.xml',\n",
       " './ICDAR/ICDAR2019_cTDaR/training/TRACKB1/ground_truth\\\\cTDaR_t00019.xml',\n",
       " './ICDAR/ICDAR2019_cTDaR/training/TRACKB1/ground_truth\\\\cTDaR_t00020.xml',\n",
       " './ICDAR/ICDAR2019_cTDaR/training/TRACKB1/ground_truth\\\\cTDaR_t00021.xml',\n",
       " './ICDAR/ICDAR2019_cTDaR/training/TRACKB1/ground_truth\\\\cTDaR_t00022.xml',\n",
       " './ICDAR/ICDAR2019_cTDaR/training/TRACKB1/ground_truth\\\\cTDaR_t00023.xml',\n",
       " './ICDAR/ICDAR2019_cTDaR/training/TRACKB1/ground_truth\\\\cTDaR_t00024.xml',\n",
       " './ICDAR/ICDAR2019_cTDaR/training/TRACKB1/ground_truth\\\\cTDaR_t00025.xml',\n",
       " './ICDAR/ICDAR2019_cTDaR/training/TRACKB1/ground_truth\\\\cTDaR_t00026.xml',\n",
       " './ICDAR/ICDAR2019_cTDaR/training/TRACKB1/ground_truth\\\\cTDaR_t00027.xml',\n",
       " './ICDAR/ICDAR2019_cTDaR/training/TRACKB1/ground_truth\\\\cTDaR_t00028.xml',\n",
       " './ICDAR/ICDAR2019_cTDaR/training/TRACKB1/ground_truth\\\\cTDaR_t00029.xml',\n",
       " './ICDAR/ICDAR2019_cTDaR/training/TRACKB1/ground_truth\\\\cTDaR_t00030.xml',\n",
       " './ICDAR/ICDAR2019_cTDaR/training/TRACKB1/ground_truth\\\\cTDaR_t00031.xml',\n",
       " './ICDAR/ICDAR2019_cTDaR/training/TRACKB1/ground_truth\\\\cTDaR_t00032.xml',\n",
       " './ICDAR/ICDAR2019_cTDaR/training/TRACKB1/ground_truth\\\\cTDaR_t00033.xml',\n",
       " './ICDAR/ICDAR2019_cTDaR/training/TRACKB1/ground_truth\\\\cTDaR_t00034.xml',\n",
       " './ICDAR/ICDAR2019_cTDaR/training/TRACKB1/ground_truth\\\\cTDaR_t00035.xml',\n",
       " './ICDAR/ICDAR2019_cTDaR/training/TRACKB1/ground_truth\\\\cTDaR_t00036.xml',\n",
       " './ICDAR/ICDAR2019_cTDaR/training/TRACKB1/ground_truth\\\\cTDaR_t00037.xml',\n",
       " './ICDAR/ICDAR2019_cTDaR/training/TRACKB1/ground_truth\\\\cTDaR_t00038.xml',\n",
       " './ICDAR/ICDAR2019_cTDaR/training/TRACKB1/ground_truth\\\\cTDaR_t00039.xml',\n",
       " './ICDAR/ICDAR2019_cTDaR/training/TRACKB1/ground_truth\\\\cTDaR_t00040.xml',\n",
       " './ICDAR/ICDAR2019_cTDaR/training/TRACKB1/ground_truth\\\\cTDaR_t00041.xml',\n",
       " './ICDAR/ICDAR2019_cTDaR/training/TRACKB1/ground_truth\\\\cTDaR_t00042.xml',\n",
       " './ICDAR/ICDAR2019_cTDaR/training/TRACKB1/ground_truth\\\\cTDaR_t00043.xml',\n",
       " './ICDAR/ICDAR2019_cTDaR/training/TRACKB1/ground_truth\\\\cTDaR_t00044.xml',\n",
       " './ICDAR/ICDAR2019_cTDaR/training/TRACKB1/ground_truth\\\\cTDaR_t00045.xml',\n",
       " './ICDAR/ICDAR2019_cTDaR/training/TRACKB1/ground_truth\\\\cTDaR_t00046.xml',\n",
       " './ICDAR/ICDAR2019_cTDaR/training/TRACKB1/ground_truth\\\\cTDaR_t00047.xml',\n",
       " './ICDAR/ICDAR2019_cTDaR/training/TRACKB1/ground_truth\\\\cTDaR_t00048.xml',\n",
       " './ICDAR/ICDAR2019_cTDaR/training/TRACKB1/ground_truth\\\\cTDaR_t00049.xml',\n",
       " './ICDAR/ICDAR2019_cTDaR/training/TRACKB1/ground_truth\\\\cTDaR_t00050.xml',\n",
       " './ICDAR/ICDAR2019_cTDaR/training/TRACKB1/ground_truth\\\\cTDaR_t00051.xml',\n",
       " './ICDAR/ICDAR2019_cTDaR/training/TRACKB1/ground_truth\\\\cTDaR_t00052.xml',\n",
       " './ICDAR/ICDAR2019_cTDaR/training/TRACKB1/ground_truth\\\\cTDaR_t00053.xml',\n",
       " './ICDAR/ICDAR2019_cTDaR/training/TRACKB1/ground_truth\\\\cTDaR_t00054.xml',\n",
       " './ICDAR/ICDAR2019_cTDaR/training/TRACKB1/ground_truth\\\\cTDaR_t00055.xml',\n",
       " './ICDAR/ICDAR2019_cTDaR/training/TRACKB1/ground_truth\\\\cTDaR_t00056.xml',\n",
       " './ICDAR/ICDAR2019_cTDaR/training/TRACKB1/ground_truth\\\\cTDaR_t00057.xml',\n",
       " './ICDAR/ICDAR2019_cTDaR/training/TRACKB1/ground_truth\\\\cTDaR_t00058.xml',\n",
       " './ICDAR/ICDAR2019_cTDaR/training/TRACKB1/ground_truth\\\\cTDaR_t00059.xml',\n",
       " './ICDAR/ICDAR2019_cTDaR/training/TRACKB1/ground_truth\\\\cTDaR_t00060.xml',\n",
       " './ICDAR/ICDAR2019_cTDaR/training/TRACKB1/ground_truth\\\\cTDaR_t00061.xml',\n",
       " './ICDAR/ICDAR2019_cTDaR/training/TRACKB1/ground_truth\\\\cTDaR_t00062.xml',\n",
       " './ICDAR/ICDAR2019_cTDaR/training/TRACKB1/ground_truth\\\\cTDaR_t00063.xml',\n",
       " './ICDAR/ICDAR2019_cTDaR/training/TRACKB1/ground_truth\\\\cTDaR_t00064.xml',\n",
       " './ICDAR/ICDAR2019_cTDaR/training/TRACKB1/ground_truth\\\\cTDaR_t00065.xml',\n",
       " './ICDAR/ICDAR2019_cTDaR/training/TRACKB1/ground_truth\\\\cTDaR_t00066.xml',\n",
       " './ICDAR/ICDAR2019_cTDaR/training/TRACKB1/ground_truth\\\\cTDaR_t00067.xml',\n",
       " './ICDAR/ICDAR2019_cTDaR/training/TRACKB1/ground_truth\\\\cTDaR_t00068.xml',\n",
       " './ICDAR/ICDAR2019_cTDaR/training/TRACKB1/ground_truth\\\\cTDaR_t00069.xml',\n",
       " './ICDAR/ICDAR2019_cTDaR/training/TRACKB1/ground_truth\\\\cTDaR_t00070.xml',\n",
       " './ICDAR/ICDAR2019_cTDaR/training/TRACKB1/ground_truth\\\\cTDaR_t00091.xml',\n",
       " './ICDAR/ICDAR2019_cTDaR/training/TRACKB1/ground_truth\\\\cTDaR_t00092.xml',\n",
       " './ICDAR/ICDAR2019_cTDaR/training/TRACKB1/ground_truth\\\\cTDaR_t00093.xml',\n",
       " './ICDAR/ICDAR2019_cTDaR/training/TRACKB1/ground_truth\\\\cTDaR_t00094.xml',\n",
       " './ICDAR/ICDAR2019_cTDaR/training/TRACKB1/ground_truth\\\\cTDaR_t00095.xml',\n",
       " './ICDAR/ICDAR2019_cTDaR/training/TRACKB1/ground_truth\\\\cTDaR_t00096.xml',\n",
       " './ICDAR/ICDAR2019_cTDaR/training/TRACKB1/ground_truth\\\\cTDaR_t00097.xml',\n",
       " './ICDAR/ICDAR2019_cTDaR/training/TRACKB1/ground_truth\\\\cTDaR_t00098.xml',\n",
       " './ICDAR/ICDAR2019_cTDaR/training/TRACKB1/ground_truth\\\\cTDaR_t00099.xml',\n",
       " './ICDAR/ICDAR2019_cTDaR/training/TRACKB1/ground_truth\\\\cTDaR_t00100.xml',\n",
       " './ICDAR/ICDAR2019_cTDaR/training/TRACKB1/ground_truth\\\\cTDaR_t00101.xml',\n",
       " './ICDAR/ICDAR2019_cTDaR/training/TRACKB1/ground_truth\\\\cTDaR_t00116.xml',\n",
       " './ICDAR/ICDAR2019_cTDaR/training/TRACKB1/ground_truth\\\\cTDaR_t00117.xml',\n",
       " './ICDAR/ICDAR2019_cTDaR/training/TRACKB1/ground_truth\\\\cTDaR_t00118.xml',\n",
       " './ICDAR/ICDAR2019_cTDaR/training/TRACKB1/ground_truth\\\\cTDaR_t00119.xml',\n",
       " './ICDAR/ICDAR2019_cTDaR/training/TRACKB1/ground_truth\\\\cTDaR_t00120.xml',\n",
       " './ICDAR/ICDAR2019_cTDaR/training/TRACKB1/ground_truth\\\\cTDaR_t00121.xml',\n",
       " './ICDAR/ICDAR2019_cTDaR/training/TRACKB1/ground_truth\\\\cTDaR_t00122.xml',\n",
       " './ICDAR/ICDAR2019_cTDaR/training/TRACKB1/ground_truth\\\\cTDaR_t00125.xml',\n",
       " './ICDAR/ICDAR2019_cTDaR/training/TRACKB1/ground_truth\\\\cTDaR_t00126.xml',\n",
       " './ICDAR/ICDAR2019_cTDaR/training/TRACKB1/ground_truth\\\\cTDaR_t00127.xml',\n",
       " './ICDAR/ICDAR2019_cTDaR/training/TRACKB1/ground_truth\\\\cTDaR_t00128.xml',\n",
       " './ICDAR/ICDAR2019_cTDaR/training/TRACKB1/ground_truth\\\\cTDaR_t00129.xml',\n",
       " './ICDAR/ICDAR2019_cTDaR/training/TRACKB1/ground_truth\\\\cTDaR_t00130.xml',\n",
       " './ICDAR/ICDAR2019_cTDaR/training/TRACKB1/ground_truth\\\\cTDaR_t00131.xml',\n",
       " './ICDAR/ICDAR2019_cTDaR/training/TRACKB1/ground_truth\\\\cTDaR_t00132.xml',\n",
       " './ICDAR/ICDAR2019_cTDaR/training/TRACKB1/ground_truth\\\\cTDaR_t00133.xml',\n",
       " './ICDAR/ICDAR2019_cTDaR/training/TRACKB1/ground_truth\\\\cTDaR_t00134.xml',\n",
       " './ICDAR/ICDAR2019_cTDaR/training/TRACKB1/ground_truth\\\\cTDaR_t00135.xml',\n",
       " './ICDAR/ICDAR2019_cTDaR/training/TRACKB1/ground_truth\\\\cTDaR_t00136.xml',\n",
       " './ICDAR/ICDAR2019_cTDaR/training/TRACKB1/ground_truth\\\\cTDaR_t00137.xml',\n",
       " './ICDAR/ICDAR2019_cTDaR/training/TRACKB1/ground_truth\\\\cTDaR_t00138.xml',\n",
       " './ICDAR/ICDAR2019_cTDaR/training/TRACKB1/ground_truth\\\\cTDaR_t00139.xml',\n",
       " './ICDAR/ICDAR2019_cTDaR/training/TRACKB1/ground_truth\\\\cTDaR_t00140.xml',\n",
       " './ICDAR/ICDAR2019_cTDaR/training/TRACKB1/ground_truth\\\\cTDaR_t00141.xml',\n",
       " './ICDAR/ICDAR2019_cTDaR/training/TRACKB1/ground_truth\\\\cTDaR_t00142.xml',\n",
       " './ICDAR/ICDAR2019_cTDaR/training/TRACKB1/ground_truth\\\\cTDaR_t00143.xml',\n",
       " './ICDAR/ICDAR2019_cTDaR/training/TRACKB1/ground_truth\\\\cTDaR_t00144.xml',\n",
       " './ICDAR/ICDAR2019_cTDaR/training/TRACKB1/ground_truth\\\\cTDaR_t00145.xml',\n",
       " './ICDAR/ICDAR2019_cTDaR/training/TRACKB1/ground_truth\\\\cTDaR_t00167.xml',\n",
       " './ICDAR/ICDAR2019_cTDaR/training/TRACKB1/ground_truth\\\\cTDaR_t00168.xml',\n",
       " './ICDAR/ICDAR2019_cTDaR/training/TRACKB1/ground_truth\\\\cTDaR_t00169.xml',\n",
       " './ICDAR/ICDAR2019_cTDaR/training/TRACKB1/ground_truth\\\\cTDaR_t00170.xml',\n",
       " './ICDAR/ICDAR2019_cTDaR/training/TRACKB1/ground_truth\\\\cTDaR_t00171.xml',\n",
       " './ICDAR/ICDAR2019_cTDaR/training/TRACKB1/ground_truth\\\\cTDaR_t00172.xml',\n",
       " './ICDAR/ICDAR2019_cTDaR/training/TRACKB1/ground_truth\\\\cTDaR_t00173.xml',\n",
       " './ICDAR/ICDAR2019_cTDaR/training/TRACKB1/ground_truth\\\\cTDaR_t00174.xml',\n",
       " './ICDAR/ICDAR2019_cTDaR/training/TRACKB1/ground_truth\\\\cTDaR_t00177.xml',\n",
       " './ICDAR/ICDAR2019_cTDaR/training/TRACKB1/ground_truth\\\\cTDaR_t00178.xml',\n",
       " './ICDAR/ICDAR2019_cTDaR/training/TRACKB1/ground_truth\\\\cTDaR_t00179.xml',\n",
       " './ICDAR/ICDAR2019_cTDaR/training/TRACKB1/ground_truth\\\\cTDaR_t00180.xml',\n",
       " './ICDAR/ICDAR2019_cTDaR/training/TRACKB1/ground_truth\\\\cTDaR_t00181.xml',\n",
       " './ICDAR/ICDAR2019_cTDaR/training/TRACKB1/ground_truth\\\\cTDaR_t00182.xml',\n",
       " './ICDAR/ICDAR2019_cTDaR/training/TRACKB1/ground_truth\\\\cTDaR_t00183.xml',\n",
       " './ICDAR/ICDAR2019_cTDaR/training/TRACKB1/ground_truth\\\\cTDaR_t00184.xml',\n",
       " './ICDAR/ICDAR2019_cTDaR/training/TRACKB1/ground_truth\\\\cTDaR_t00185.xml',\n",
       " './ICDAR/ICDAR2019_cTDaR/training/TRACKB1/ground_truth\\\\cTDaR_t00186.xml',\n",
       " './ICDAR/ICDAR2019_cTDaR/training/TRACKB1/ground_truth\\\\cTDaR_t00187.xml',\n",
       " './ICDAR/ICDAR2019_cTDaR/training/TRACKB1/ground_truth\\\\cTDaR_t00188.xml',\n",
       " './ICDAR/ICDAR2019_cTDaR/training/TRACKB1/ground_truth\\\\cTDaR_t00189.xml',\n",
       " './ICDAR/ICDAR2019_cTDaR/training/TRACKB1/ground_truth\\\\cTDaR_t00190.xml',\n",
       " './ICDAR/ICDAR2019_cTDaR/training/TRACKB1/ground_truth\\\\cTDaR_t00191.xml',\n",
       " './ICDAR/ICDAR2019_cTDaR/training/TRACKB1/ground_truth\\\\cTDaR_t00192.xml',\n",
       " './ICDAR/ICDAR2019_cTDaR/training/TRACKB1/ground_truth\\\\cTDaR_t00198.xml',\n",
       " './ICDAR/ICDAR2019_cTDaR/training/TRACKB1/ground_truth\\\\cTDaR_t00199.xml',\n",
       " './ICDAR/ICDAR2019_cTDaR/training/TRACKB1/ground_truth\\\\cTDaR_t00200.xml',\n",
       " './ICDAR/ICDAR2019_cTDaR/training/TRACKB1/ground_truth\\\\cTDaR_t00201.xml',\n",
       " './ICDAR/ICDAR2019_cTDaR/training/TRACKB1/ground_truth\\\\cTDaR_t00202.xml',\n",
       " './ICDAR/ICDAR2019_cTDaR/training/TRACKB1/ground_truth\\\\cTDaR_t00203.xml',\n",
       " './ICDAR/ICDAR2019_cTDaR/training/TRACKB1/ground_truth\\\\cTDaR_t00204.xml',\n",
       " './ICDAR/ICDAR2019_cTDaR/training/TRACKB1/ground_truth\\\\cTDaR_t00205.xml',\n",
       " './ICDAR/ICDAR2019_cTDaR/training/TRACKB1/ground_truth\\\\cTDaR_t00206.xml',\n",
       " './ICDAR/ICDAR2019_cTDaR/training/TRACKB1/ground_truth\\\\cTDaR_t00207.xml',\n",
       " './ICDAR/ICDAR2019_cTDaR/training/TRACKB1/ground_truth\\\\cTDaR_t00208.xml',\n",
       " './ICDAR/ICDAR2019_cTDaR/training/TRACKB1/ground_truth\\\\cTDaR_t00209.xml',\n",
       " './ICDAR/ICDAR2019_cTDaR/training/TRACKB1/ground_truth\\\\cTDaR_t00228.xml',\n",
       " './ICDAR/ICDAR2019_cTDaR/training/TRACKB1/ground_truth\\\\cTDaR_t00229.xml',\n",
       " './ICDAR/ICDAR2019_cTDaR/training/TRACKB1/ground_truth\\\\cTDaR_t00230.xml',\n",
       " './ICDAR/ICDAR2019_cTDaR/training/TRACKB1/ground_truth\\\\cTDaR_t00231.xml',\n",
       " './ICDAR/ICDAR2019_cTDaR/training/TRACKB1/ground_truth\\\\cTDaR_t00232.xml',\n",
       " './ICDAR/ICDAR2019_cTDaR/training/TRACKB1/ground_truth\\\\cTDaR_t00233.xml',\n",
       " './ICDAR/ICDAR2019_cTDaR/training/TRACKB1/ground_truth\\\\cTDaR_t00234.xml',\n",
       " './ICDAR/ICDAR2019_cTDaR/training/TRACKB1/ground_truth\\\\cTDaR_t00235.xml',\n",
       " './ICDAR/ICDAR2019_cTDaR/training/TRACKB1/ground_truth\\\\cTDaR_t00236.xml',\n",
       " './ICDAR/ICDAR2019_cTDaR/training/TRACKB1/ground_truth\\\\cTDaR_t00237.xml',\n",
       " './ICDAR/ICDAR2019_cTDaR/training/TRACKB1/ground_truth\\\\cTDaR_t00238.xml',\n",
       " './ICDAR/ICDAR2019_cTDaR/training/TRACKB1/ground_truth\\\\cTDaR_t00239.xml',\n",
       " './ICDAR/ICDAR2019_cTDaR/training/TRACKB1/ground_truth\\\\cTDaR_t00240.xml',\n",
       " './ICDAR/ICDAR2019_cTDaR/training/TRACKB1/ground_truth\\\\cTDaR_t00241.xml',\n",
       " './ICDAR/ICDAR2019_cTDaR/training/TRACKB1/ground_truth\\\\cTDaR_t00242.xml',\n",
       " './ICDAR/ICDAR2019_cTDaR/training/TRACKB1/ground_truth\\\\cTDaR_t00243.xml',\n",
       " './ICDAR/ICDAR2019_cTDaR/training/TRACKB1/ground_truth\\\\cTDaR_t00244.xml',\n",
       " './ICDAR/ICDAR2019_cTDaR/training/TRACKB1/ground_truth\\\\cTDaR_t00245.xml',\n",
       " './ICDAR/ICDAR2019_cTDaR/training/TRACKB1/ground_truth\\\\cTDaR_t00246.xml',\n",
       " './ICDAR/ICDAR2019_cTDaR/training/TRACKB1/ground_truth\\\\cTDaR_t00247.xml',\n",
       " './ICDAR/ICDAR2019_cTDaR/training/TRACKB1/ground_truth\\\\cTDaR_t00254.xml',\n",
       " './ICDAR/ICDAR2019_cTDaR/training/TRACKB1/ground_truth\\\\cTDaR_t00255.xml',\n",
       " './ICDAR/ICDAR2019_cTDaR/training/TRACKB1/ground_truth\\\\cTDaR_t00256.xml',\n",
       " './ICDAR/ICDAR2019_cTDaR/training/TRACKB1/ground_truth\\\\cTDaR_t00257.xml',\n",
       " './ICDAR/ICDAR2019_cTDaR/training/TRACKB1/ground_truth\\\\cTDaR_t00258.xml',\n",
       " './ICDAR/ICDAR2019_cTDaR/training/TRACKB1/ground_truth\\\\cTDaR_t00259.xml',\n",
       " './ICDAR/ICDAR2019_cTDaR/training/TRACKB1/ground_truth\\\\cTDaR_t00260.xml',\n",
       " './ICDAR/ICDAR2019_cTDaR/training/TRACKB1/ground_truth\\\\cTDaR_t00261.xml',\n",
       " './ICDAR/ICDAR2019_cTDaR/training/TRACKB1/ground_truth\\\\cTDaR_t00262.xml',\n",
       " './ICDAR/ICDAR2019_cTDaR/training/TRACKB1/ground_truth\\\\cTDaR_t00263.xml',\n",
       " './ICDAR/ICDAR2019_cTDaR/training/TRACKB1/ground_truth\\\\cTDaR_t00264.xml',\n",
       " './ICDAR/ICDAR2019_cTDaR/training/TRACKB1/ground_truth\\\\cTDaR_t00265.xml',\n",
       " './ICDAR/ICDAR2019_cTDaR/training/TRACKB1/ground_truth\\\\cTDaR_t00266.xml',\n",
       " './ICDAR/ICDAR2019_cTDaR/training/TRACKB1/ground_truth\\\\cTDaR_t00267.xml',\n",
       " './ICDAR/ICDAR2019_cTDaR/training/TRACKB1/ground_truth\\\\cTDaR_t00268.xml',\n",
       " './ICDAR/ICDAR2019_cTDaR/training/TRACKB1/ground_truth\\\\cTDaR_t00269.xml',\n",
       " './ICDAR/ICDAR2019_cTDaR/training/TRACKB1/ground_truth\\\\cTDaR_t00270.xml',\n",
       " './ICDAR/ICDAR2019_cTDaR/training/TRACKB1/ground_truth\\\\cTDaR_t00271.xml',\n",
       " './ICDAR/ICDAR2019_cTDaR/training/TRACKB1/ground_truth\\\\cTDaR_t00272.xml',\n",
       " './ICDAR/ICDAR2019_cTDaR/training/TRACKB1/ground_truth\\\\cTDaR_t00273.xml',\n",
       " './ICDAR/ICDAR2019_cTDaR/training/TRACKB1/ground_truth\\\\cTDaR_t00274.xml',\n",
       " './ICDAR/ICDAR2019_cTDaR/training/TRACKB1/ground_truth\\\\cTDaR_t00275.xml',\n",
       " './ICDAR/ICDAR2019_cTDaR/training/TRACKB1/ground_truth\\\\cTDaR_t00276.xml',\n",
       " './ICDAR/ICDAR2019_cTDaR/training/TRACKB1/ground_truth\\\\cTDaR_t00277.xml',\n",
       " './ICDAR/ICDAR2019_cTDaR/training/TRACKB1/ground_truth\\\\cTDaR_t00278.xml',\n",
       " './ICDAR/ICDAR2019_cTDaR/training/TRACKB1/ground_truth\\\\cTDaR_t00279.xml',\n",
       " './ICDAR/ICDAR2019_cTDaR/training/TRACKB1/ground_truth\\\\cTDaR_t00280.xml',\n",
       " './ICDAR/ICDAR2019_cTDaR/training/TRACKB1/ground_truth\\\\cTDaR_t00281.xml',\n",
       " './ICDAR/ICDAR2019_cTDaR/training/TRACKB1/ground_truth\\\\cTDaR_t00282.xml',\n",
       " './ICDAR/ICDAR2019_cTDaR/training/TRACKB1/ground_truth\\\\cTDaR_t00283.xml',\n",
       " './ICDAR/ICDAR2019_cTDaR/training/TRACKB1/ground_truth\\\\cTDaR_t00284.xml',\n",
       " './ICDAR/ICDAR2019_cTDaR/training/TRACKB1/ground_truth\\\\cTDaR_t00304.xml',\n",
       " './ICDAR/ICDAR2019_cTDaR/training/TRACKB1/ground_truth\\\\cTDaR_t00305.xml',\n",
       " './ICDAR/ICDAR2019_cTDaR/training/TRACKB1/ground_truth\\\\cTDaR_t00306.xml',\n",
       " './ICDAR/ICDAR2019_cTDaR/training/TRACKB1/ground_truth\\\\cTDaR_t00307.xml',\n",
       " './ICDAR/ICDAR2019_cTDaR/training/TRACKB1/ground_truth\\\\cTDaR_t00308.xml',\n",
       " './ICDAR/ICDAR2019_cTDaR/training/TRACKB1/ground_truth\\\\cTDaR_t00309.xml',\n",
       " './ICDAR/ICDAR2019_cTDaR/training/TRACKB1/ground_truth\\\\cTDaR_t00310.xml',\n",
       " './ICDAR/ICDAR2019_cTDaR/training/TRACKB1/ground_truth\\\\cTDaR_t00311.xml',\n",
       " './ICDAR/ICDAR2019_cTDaR/training/TRACKB1/ground_truth\\\\cTDaR_t00312.xml',\n",
       " './ICDAR/ICDAR2019_cTDaR/training/TRACKB1/ground_truth\\\\cTDaR_t00313.xml',\n",
       " './ICDAR/ICDAR2019_cTDaR/training/TRACKB1/ground_truth\\\\cTDaR_t00314.xml',\n",
       " './ICDAR/ICDAR2019_cTDaR/training/TRACKB1/ground_truth\\\\cTDaR_t00315.xml',\n",
       " './ICDAR/ICDAR2019_cTDaR/training/TRACKB1/ground_truth\\\\cTDaR_t00316.xml',\n",
       " './ICDAR/ICDAR2019_cTDaR/training/TRACKB1/ground_truth\\\\cTDaR_t00317.xml',\n",
       " './ICDAR/ICDAR2019_cTDaR/training/TRACKB1/ground_truth\\\\cTDaR_t00318.xml',\n",
       " './ICDAR/ICDAR2019_cTDaR/training/TRACKB1/ground_truth\\\\cTDaR_t00319.xml',\n",
       " './ICDAR/ICDAR2019_cTDaR/training/TRACKB1/ground_truth\\\\cTDaR_t00320.xml',\n",
       " './ICDAR/ICDAR2019_cTDaR/training/TRACKB1/ground_truth\\\\cTDaR_t00321.xml',\n",
       " './ICDAR/ICDAR2019_cTDaR/training/TRACKB1/ground_truth\\\\cTDaR_t00343.xml',\n",
       " './ICDAR/ICDAR2019_cTDaR/training/TRACKB1/ground_truth\\\\cTDaR_t00344.xml',\n",
       " './ICDAR/ICDAR2019_cTDaR/training/TRACKB1/ground_truth\\\\cTDaR_t00345.xml',\n",
       " './ICDAR/ICDAR2019_cTDaR/training/TRACKB1/ground_truth\\\\cTDaR_t00346.xml',\n",
       " './ICDAR/ICDAR2019_cTDaR/training/TRACKB1/ground_truth\\\\cTDaR_t00347.xml',\n",
       " './ICDAR/ICDAR2019_cTDaR/training/TRACKB1/ground_truth\\\\cTDaR_t00348.xml',\n",
       " './ICDAR/ICDAR2019_cTDaR/training/TRACKB1/ground_truth\\\\cTDaR_t00349.xml',\n",
       " './ICDAR/ICDAR2019_cTDaR/training/TRACKB1/ground_truth\\\\cTDaR_t00350.xml',\n",
       " './ICDAR/ICDAR2019_cTDaR/training/TRACKB1/ground_truth\\\\cTDaR_t00351.xml',\n",
       " './ICDAR/ICDAR2019_cTDaR/training/TRACKB1/ground_truth\\\\cTDaR_t00352.xml',\n",
       " './ICDAR/ICDAR2019_cTDaR/training/TRACKB1/ground_truth\\\\cTDaR_t00353.xml',\n",
       " './ICDAR/ICDAR2019_cTDaR/training/TRACKB1/ground_truth\\\\cTDaR_t00354.xml',\n",
       " './ICDAR/ICDAR2019_cTDaR/training/TRACKB1/ground_truth\\\\cTDaR_t00355.xml',\n",
       " './ICDAR/ICDAR2019_cTDaR/training/TRACKB1/ground_truth\\\\cTDaR_t00356.xml',\n",
       " './ICDAR/ICDAR2019_cTDaR/training/TRACKB1/ground_truth\\\\cTDaR_t00357.xml',\n",
       " './ICDAR/ICDAR2019_cTDaR/training/TRACKB1/ground_truth\\\\cTDaR_t00358.xml',\n",
       " './ICDAR/ICDAR2019_cTDaR/training/TRACKB1/ground_truth\\\\cTDaR_t00359.xml',\n",
       " './ICDAR/ICDAR2019_cTDaR/training/TRACKB1/ground_truth\\\\cTDaR_t00360.xml',\n",
       " './ICDAR/ICDAR2019_cTDaR/training/TRACKB1/ground_truth\\\\cTDaR_t00361.xml',\n",
       " './ICDAR/ICDAR2019_cTDaR/training/TRACKB1/ground_truth\\\\cTDaR_t00362.xml',\n",
       " './ICDAR/ICDAR2019_cTDaR/training/TRACKB1/ground_truth\\\\cTDaR_t00363.xml',\n",
       " './ICDAR/ICDAR2019_cTDaR/training/TRACKB1/ground_truth\\\\cTDaR_t00364.xml',\n",
       " './ICDAR/ICDAR2019_cTDaR/training/TRACKB1/ground_truth\\\\cTDaR_t00365.xml',\n",
       " './ICDAR/ICDAR2019_cTDaR/training/TRACKB1/ground_truth\\\\cTDaR_t00366.xml',\n",
       " './ICDAR/ICDAR2019_cTDaR/training/TRACKB1/ground_truth\\\\cTDaR_t00367.xml',\n",
       " './ICDAR/ICDAR2019_cTDaR/training/TRACKB1/ground_truth\\\\cTDaR_t00368.xml',\n",
       " './ICDAR/ICDAR2019_cTDaR/training/TRACKB1/ground_truth\\\\cTDaR_t00369.xml',\n",
       " './ICDAR/ICDAR2019_cTDaR/training/TRACKB1/ground_truth\\\\cTDaR_t00370.xml',\n",
       " './ICDAR/ICDAR2019_cTDaR/training/TRACKB1/ground_truth\\\\cTDaR_t00371.xml',\n",
       " './ICDAR/ICDAR2019_cTDaR/training/TRACKB1/ground_truth\\\\cTDaR_t00372.xml',\n",
       " './ICDAR/ICDAR2019_cTDaR/training/TRACKB1/ground_truth\\\\cTDaR_t00373.xml',\n",
       " './ICDAR/ICDAR2019_cTDaR/training/TRACKB1/ground_truth\\\\cTDaR_t00388.xml',\n",
       " './ICDAR/ICDAR2019_cTDaR/training/TRACKB1/ground_truth\\\\cTDaR_t00389.xml',\n",
       " './ICDAR/ICDAR2019_cTDaR/training/TRACKB1/ground_truth\\\\cTDaR_t00390.xml',\n",
       " './ICDAR/ICDAR2019_cTDaR/training/TRACKB1/ground_truth\\\\cTDaR_t00391.xml',\n",
       " './ICDAR/ICDAR2019_cTDaR/training/TRACKB1/ground_truth\\\\cTDaR_t00392.xml',\n",
       " './ICDAR/ICDAR2019_cTDaR/training/TRACKB1/ground_truth\\\\cTDaR_t00393.xml',\n",
       " './ICDAR/ICDAR2019_cTDaR/training/TRACKB1/ground_truth\\\\cTDaR_t00394.xml',\n",
       " './ICDAR/ICDAR2019_cTDaR/training/TRACKB1/ground_truth\\\\cTDaR_t00395.xml',\n",
       " './ICDAR/ICDAR2019_cTDaR/training/TRACKB1/ground_truth\\\\cTDaR_t00396.xml',\n",
       " './ICDAR/ICDAR2019_cTDaR/training/TRACKB1/ground_truth\\\\cTDaR_t00397.xml',\n",
       " './ICDAR/ICDAR2019_cTDaR/training/TRACKB1/ground_truth\\\\cTDaR_t00398.xml',\n",
       " './ICDAR/ICDAR2019_cTDaR/training/TRACKB1/ground_truth\\\\cTDaR_t00403.xml',\n",
       " './ICDAR/ICDAR2019_cTDaR/training/TRACKB1/ground_truth\\\\cTDaR_t00404.xml',\n",
       " './ICDAR/ICDAR2019_cTDaR/training/TRACKB1/ground_truth\\\\cTDaR_t00405.xml',\n",
       " './ICDAR/ICDAR2019_cTDaR/training/TRACKB1/ground_truth\\\\cTDaR_t00406.xml',\n",
       " './ICDAR/ICDAR2019_cTDaR/training/TRACKB1/ground_truth\\\\cTDaR_t00407.xml',\n",
       " './ICDAR/ICDAR2019_cTDaR/training/TRACKB1/ground_truth\\\\cTDaR_t00408.xml',\n",
       " './ICDAR/ICDAR2019_cTDaR/training/TRACKB1/ground_truth\\\\cTDaR_t00409.xml',\n",
       " './ICDAR/ICDAR2019_cTDaR/training/TRACKB1/ground_truth\\\\cTDaR_t00410.xml',\n",
       " './ICDAR/ICDAR2019_cTDaR/training/TRACKB1/ground_truth\\\\cTDaR_t00411.xml',\n",
       " './ICDAR/ICDAR2019_cTDaR/training/TRACKB1/ground_truth\\\\cTDaR_t00412.xml',\n",
       " './ICDAR/ICDAR2019_cTDaR/training/TRACKB1/ground_truth\\\\cTDaR_t00413.xml',\n",
       " './ICDAR/ICDAR2019_cTDaR/training/TRACKB1/ground_truth\\\\cTDaR_t00414.xml',\n",
       " './ICDAR/ICDAR2019_cTDaR/training/TRACKB1/ground_truth\\\\cTDaR_t00415.xml',\n",
       " './ICDAR/ICDAR2019_cTDaR/training/TRACKB1/ground_truth\\\\cTDaR_t00416.xml',\n",
       " './ICDAR/ICDAR2019_cTDaR/training/TRACKB1/ground_truth\\\\cTDaR_t00417.xml',\n",
       " './ICDAR/ICDAR2019_cTDaR/training/TRACKB1/ground_truth\\\\cTDaR_t00418.xml',\n",
       " './ICDAR/ICDAR2019_cTDaR/training/TRACKB1/ground_truth\\\\cTDaR_t00419.xml',\n",
       " './ICDAR/ICDAR2019_cTDaR/training/TRACKB1/ground_truth\\\\cTDaR_t00420.xml',\n",
       " './ICDAR/ICDAR2019_cTDaR/training/TRACKB1/ground_truth\\\\cTDaR_t00421.xml',\n",
       " './ICDAR/ICDAR2019_cTDaR/training/TRACKB1/ground_truth\\\\cTDaR_t00422.xml',\n",
       " './ICDAR/ICDAR2019_cTDaR/training/TRACKB1/ground_truth\\\\cTDaR_t00423.xml',\n",
       " './ICDAR/ICDAR2019_cTDaR/training/TRACKB1/ground_truth\\\\cTDaR_t00424.xml',\n",
       " './ICDAR/ICDAR2019_cTDaR/training/TRACKB1/ground_truth\\\\cTDaR_t00425.xml',\n",
       " './ICDAR/ICDAR2019_cTDaR/training/TRACKB1/ground_truth\\\\cTDaR_t00426.xml',\n",
       " './ICDAR/ICDAR2019_cTDaR/training/TRACKB1/ground_truth\\\\cTDaR_t00427.xml',\n",
       " './ICDAR/ICDAR2019_cTDaR/training/TRACKB1/ground_truth\\\\cTDaR_t00428.xml',\n",
       " './ICDAR/ICDAR2019_cTDaR/training/TRACKB1/ground_truth\\\\cTDaR_t00429.xml',\n",
       " './ICDAR/ICDAR2019_cTDaR/training/TRACKB1/ground_truth\\\\cTDaR_t00430.xml',\n",
       " './ICDAR/ICDAR2019_cTDaR/training/TRACKB1/ground_truth\\\\cTDaR_t00431.xml',\n",
       " './ICDAR/ICDAR2019_cTDaR/training/TRACKB1/ground_truth\\\\cTDaR_t00432.xml',\n",
       " './ICDAR/ICDAR2019_cTDaR/training/TRACKB1/ground_truth\\\\cTDaR_t00433.xml',\n",
       " './ICDAR/ICDAR2019_cTDaR/training/TRACKB1/ground_truth\\\\cTDaR_t00434.xml',\n",
       " './ICDAR/ICDAR2019_cTDaR/training/TRACKB1/ground_truth\\\\cTDaR_t00435.xml',\n",
       " './ICDAR/ICDAR2019_cTDaR/training/TRACKB1/ground_truth\\\\cTDaR_t00436.xml',\n",
       " './ICDAR/ICDAR2019_cTDaR/training/TRACKB1/ground_truth\\\\cTDaR_t00437.xml',\n",
       " './ICDAR/ICDAR2019_cTDaR/training/TRACKB1/ground_truth\\\\cTDaR_t00438.xml',\n",
       " './ICDAR/ICDAR2019_cTDaR/training/TRACKB1/ground_truth\\\\cTDaR_t00439.xml',\n",
       " './ICDAR/ICDAR2019_cTDaR/training/TRACKB1/ground_truth\\\\cTDaR_t00440.xml',\n",
       " './ICDAR/ICDAR2019_cTDaR/training/TRACKB1/ground_truth\\\\cTDaR_t00441.xml',\n",
       " './ICDAR/ICDAR2019_cTDaR/training/TRACKB1/ground_truth\\\\cTDaR_t00442.xml',\n",
       " './ICDAR/ICDAR2019_cTDaR/training/TRACKB1/ground_truth\\\\cTDaR_t00443.xml',\n",
       " './ICDAR/ICDAR2019_cTDaR/training/TRACKB1/ground_truth\\\\cTDaR_t00448.xml',\n",
       " './ICDAR/ICDAR2019_cTDaR/training/TRACKB1/ground_truth\\\\cTDaR_t00449.xml',\n",
       " './ICDAR/ICDAR2019_cTDaR/training/TRACKB1/ground_truth\\\\cTDaR_t00450.xml',\n",
       " './ICDAR/ICDAR2019_cTDaR/training/TRACKB1/ground_truth\\\\cTDaR_t00451.xml',\n",
       " './ICDAR/ICDAR2019_cTDaR/training/TRACKB1/ground_truth\\\\cTDaR_t00452.xml',\n",
       " './ICDAR/ICDAR2019_cTDaR/training/TRACKB1/ground_truth\\\\cTDaR_t00453.xml',\n",
       " './ICDAR/ICDAR2019_cTDaR/training/TRACKB1/ground_truth\\\\cTDaR_t00454.xml',\n",
       " './ICDAR/ICDAR2019_cTDaR/training/TRACKB1/ground_truth\\\\cTDaR_t00455.xml',\n",
       " './ICDAR/ICDAR2019_cTDaR/training/TRACKB1/ground_truth\\\\cTDaR_t00456.xml',\n",
       " './ICDAR/ICDAR2019_cTDaR/training/TRACKB1/ground_truth\\\\cTDaR_t00457.xml',\n",
       " './ICDAR/ICDAR2019_cTDaR/training/TRACKB1/ground_truth\\\\cTDaR_t00458.xml',\n",
       " './ICDAR/ICDAR2019_cTDaR/training/TRACKB1/ground_truth\\\\cTDaR_t00459.xml',\n",
       " './ICDAR/ICDAR2019_cTDaR/training/TRACKB1/ground_truth\\\\cTDaR_t00460.xml',\n",
       " './ICDAR/ICDAR2019_cTDaR/training/TRACKB1/ground_truth\\\\cTDaR_t00461.xml',\n",
       " './ICDAR/ICDAR2019_cTDaR/training/TRACKB1/ground_truth\\\\cTDaR_t00462.xml',\n",
       " './ICDAR/ICDAR2019_cTDaR/training/TRACKB1/ground_truth\\\\cTDaR_t00463.xml',\n",
       " './ICDAR/ICDAR2019_cTDaR/training/TRACKB1/ground_truth\\\\cTDaR_t00464.xml',\n",
       " './ICDAR/ICDAR2019_cTDaR/training/TRACKB1/ground_truth\\\\cTDaR_t00465.xml',\n",
       " './ICDAR/ICDAR2019_cTDaR/training/TRACKB1/ground_truth\\\\cTDaR_t00466.xml',\n",
       " './ICDAR/ICDAR2019_cTDaR/training/TRACKB1/ground_truth\\\\cTDaR_t00467.xml',\n",
       " './ICDAR/ICDAR2019_cTDaR/training/TRACKB1/ground_truth\\\\cTDaR_t00468.xml',\n",
       " './ICDAR/ICDAR2019_cTDaR/training/TRACKB1/ground_truth\\\\cTDaR_t00469.xml',\n",
       " './ICDAR/ICDAR2019_cTDaR/training/TRACKB1/ground_truth\\\\cTDaR_t00470.xml',\n",
       " './ICDAR/ICDAR2019_cTDaR/training/TRACKB1/ground_truth\\\\cTDaR_t00471.xml',\n",
       " './ICDAR/ICDAR2019_cTDaR/training/TRACKB1/ground_truth\\\\cTDaR_t00472.xml',\n",
       " './ICDAR/ICDAR2019_cTDaR/training/TRACKB1/ground_truth\\\\cTDaR_t00473.xml',\n",
       " './ICDAR/ICDAR2019_cTDaR/training/TRACKB1/ground_truth\\\\cTDaR_t00474.xml',\n",
       " './ICDAR/ICDAR2019_cTDaR/training/TRACKB1/ground_truth\\\\cTDaR_t00475.xml',\n",
       " './ICDAR/ICDAR2019_cTDaR/training/TRACKB1/ground_truth\\\\cTDaR_t00476.xml',\n",
       " './ICDAR/ICDAR2019_cTDaR/training/TRACKB1/ground_truth\\\\cTDaR_t00501.xml',\n",
       " './ICDAR/ICDAR2019_cTDaR/training/TRACKB1/ground_truth\\\\cTDaR_t00502.xml',\n",
       " './ICDAR/ICDAR2019_cTDaR/training/TRACKB1/ground_truth\\\\cTDaR_t00503.xml',\n",
       " './ICDAR/ICDAR2019_cTDaR/training/TRACKB1/ground_truth\\\\cTDaR_t00504.xml',\n",
       " './ICDAR/ICDAR2019_cTDaR/training/TRACKB1/ground_truth\\\\cTDaR_t00505.xml',\n",
       " './ICDAR/ICDAR2019_cTDaR/training/TRACKB1/ground_truth\\\\cTDaR_t00506.xml',\n",
       " './ICDAR/ICDAR2019_cTDaR/training/TRACKB1/ground_truth\\\\cTDaR_t00507.xml',\n",
       " './ICDAR/ICDAR2019_cTDaR/training/TRACKB1/ground_truth\\\\cTDaR_t00508.xml',\n",
       " './ICDAR/ICDAR2019_cTDaR/training/TRACKB1/ground_truth\\\\cTDaR_t00509.xml',\n",
       " './ICDAR/ICDAR2019_cTDaR/training/TRACKB1/ground_truth\\\\cTDaR_t00510.xml',\n",
       " './ICDAR/ICDAR2019_cTDaR/training/TRACKB1/ground_truth\\\\cTDaR_t00511.xml',\n",
       " './ICDAR/ICDAR2019_cTDaR/training/TRACKB1/ground_truth\\\\cTDaR_t00512.xml',\n",
       " './ICDAR/ICDAR2019_cTDaR/training/TRACKB1/ground_truth\\\\cTDaR_t00513.xml',\n",
       " './ICDAR/ICDAR2019_cTDaR/training/TRACKB1/ground_truth\\\\cTDaR_t00514.xml',\n",
       " './ICDAR/ICDAR2019_cTDaR/training/TRACKB1/ground_truth\\\\cTDaR_t00515.xml',\n",
       " './ICDAR/ICDAR2019_cTDaR/training/TRACKB1/ground_truth\\\\cTDaR_t00516.xml',\n",
       " './ICDAR/ICDAR2019_cTDaR/training/TRACKB1/ground_truth\\\\cTDaR_t00517.xml',\n",
       " './ICDAR/ICDAR2019_cTDaR/training/TRACKB1/ground_truth\\\\cTDaR_t00518.xml',\n",
       " './ICDAR/ICDAR2019_cTDaR/training/TRACKB1/ground_truth\\\\cTDaR_t00519.xml',\n",
       " './ICDAR/ICDAR2019_cTDaR/training/TRACKB1/ground_truth\\\\cTDaR_t00520.xml',\n",
       " './ICDAR/ICDAR2019_cTDaR/training/TRACKB1/ground_truth\\\\cTDaR_t00521.xml',\n",
       " './ICDAR/ICDAR2019_cTDaR/training/TRACKB1/ground_truth\\\\cTDaR_t00522.xml',\n",
       " './ICDAR/ICDAR2019_cTDaR/training/TRACKB1/ground_truth\\\\cTDaR_t00530.xml',\n",
       " './ICDAR/ICDAR2019_cTDaR/training/TRACKB1/ground_truth\\\\cTDaR_t00531.xml',\n",
       " './ICDAR/ICDAR2019_cTDaR/training/TRACKB1/ground_truth\\\\cTDaR_t00532.xml',\n",
       " './ICDAR/ICDAR2019_cTDaR/training/TRACKB1/ground_truth\\\\cTDaR_t00533.xml',\n",
       " './ICDAR/ICDAR2019_cTDaR/training/TRACKB1/ground_truth\\\\cTDaR_t00534.xml',\n",
       " './ICDAR/ICDAR2019_cTDaR/training/TRACKB1/ground_truth\\\\cTDaR_t00535.xml',\n",
       " './ICDAR/ICDAR2019_cTDaR/training/TRACKB1/ground_truth\\\\cTDaR_t00536.xml',\n",
       " './ICDAR/ICDAR2019_cTDaR/training/TRACKB1/ground_truth\\\\cTDaR_t00537.xml',\n",
       " './ICDAR/ICDAR2019_cTDaR/training/TRACKB1/ground_truth\\\\cTDaR_t00538.xml',\n",
       " './ICDAR/ICDAR2019_cTDaR/training/TRACKB1/ground_truth\\\\cTDaR_t00539.xml',\n",
       " './ICDAR/ICDAR2019_cTDaR/training/TRACKB1/ground_truth\\\\cTDaR_t00540.xml',\n",
       " './ICDAR/ICDAR2019_cTDaR/training/TRACKB1/ground_truth\\\\cTDaR_t00541.xml',\n",
       " './ICDAR/ICDAR2019_cTDaR/training/TRACKB1/ground_truth\\\\cTDaR_t00542.xml',\n",
       " './ICDAR/ICDAR2019_cTDaR/training/TRACKB1/ground_truth\\\\cTDaR_t00543.xml',\n",
       " './ICDAR/ICDAR2019_cTDaR/training/TRACKB1/ground_truth\\\\cTDaR_t00544.xml',\n",
       " './ICDAR/ICDAR2019_cTDaR/training/TRACKB1/ground_truth\\\\cTDaR_t00545.xml',\n",
       " './ICDAR/ICDAR2019_cTDaR/training/TRACKB1/ground_truth\\\\cTDaR_t00546.xml',\n",
       " './ICDAR/ICDAR2019_cTDaR/training/TRACKB1/ground_truth\\\\cTDaR_t00547.xml',\n",
       " './ICDAR/ICDAR2019_cTDaR/training/TRACKB1/ground_truth\\\\cTDaR_t00548.xml',\n",
       " './ICDAR/ICDAR2019_cTDaR/training/TRACKB1/ground_truth\\\\cTDaR_t00549.xml',\n",
       " './ICDAR/ICDAR2019_cTDaR/training/TRACKB1/ground_truth\\\\cTDaR_t00550.xml',\n",
       " './ICDAR/ICDAR2019_cTDaR/training/TRACKB1/ground_truth\\\\cTDaR_t00551.xml',\n",
       " './ICDAR/ICDAR2019_cTDaR/training/TRACKB1/ground_truth\\\\cTDaR_t00552.xml',\n",
       " './ICDAR/ICDAR2019_cTDaR/training/TRACKB1/ground_truth\\\\cTDaR_t00553.xml',\n",
       " './ICDAR/ICDAR2019_cTDaR/training/TRACKB1/ground_truth\\\\cTDaR_t00554.xml',\n",
       " './ICDAR/ICDAR2019_cTDaR/training/TRACKB1/ground_truth\\\\cTDaR_t00555.xml',\n",
       " './ICDAR/ICDAR2019_cTDaR/training/TRACKB1/ground_truth\\\\cTDaR_t00556.xml',\n",
       " './ICDAR/ICDAR2019_cTDaR/training/TRACKB1/ground_truth\\\\cTDaR_t00557.xml',\n",
       " './ICDAR/ICDAR2019_cTDaR/training/TRACKB1/ground_truth\\\\cTDaR_t00558.xml',\n",
       " './ICDAR/ICDAR2019_cTDaR/training/TRACKB1/ground_truth\\\\cTDaR_t00559.xml',\n",
       " './ICDAR/ICDAR2019_cTDaR/training/TRACKB1/ground_truth\\\\cTDaR_t00560.xml',\n",
       " './ICDAR/ICDAR2019_cTDaR/training/TRACKB1/ground_truth\\\\cTDaR_t00561.xml',\n",
       " './ICDAR/ICDAR2019_cTDaR/training/TRACKB1/ground_truth\\\\cTDaR_t00562.xml',\n",
       " './ICDAR/ICDAR2019_cTDaR/training/TRACKB1/ground_truth\\\\cTDaR_t00563.xml',\n",
       " './ICDAR/ICDAR2019_cTDaR/training/TRACKB1/ground_truth\\\\cTDaR_t00564.xml',\n",
       " './ICDAR/ICDAR2019_cTDaR/training/TRACKB1/ground_truth\\\\cTDaR_t00565.xml',\n",
       " './ICDAR/ICDAR2019_cTDaR/training/TRACKB1/ground_truth\\\\cTDaR_t00566.xml',\n",
       " './ICDAR/ICDAR2019_cTDaR/training/TRACKB1/ground_truth\\\\cTDaR_t00567.xml',\n",
       " './ICDAR/ICDAR2019_cTDaR/training/TRACKB1/ground_truth\\\\cTDaR_t00568.xml',\n",
       " './ICDAR/ICDAR2019_cTDaR/training/TRACKB1/ground_truth\\\\cTDaR_t00569.xml',\n",
       " './ICDAR/ICDAR2019_cTDaR/training/TRACKB1/ground_truth\\\\cTDaR_t00570.xml',\n",
       " './ICDAR/ICDAR2019_cTDaR/training/TRACKB1/ground_truth\\\\cTDaR_t00571.xml',\n",
       " './ICDAR/ICDAR2019_cTDaR/training/TRACKB1/ground_truth\\\\cTDaR_t00572.xml',\n",
       " './ICDAR/ICDAR2019_cTDaR/training/TRACKB1/ground_truth\\\\cTDaR_t00573.xml',\n",
       " './ICDAR/ICDAR2019_cTDaR/training/TRACKB1/ground_truth\\\\cTDaR_t00574.xml',\n",
       " './ICDAR/ICDAR2019_cTDaR/training/TRACKB1/ground_truth\\\\cTDaR_t00575.xml',\n",
       " './ICDAR/ICDAR2019_cTDaR/training/TRACKB1/ground_truth\\\\cTDaR_t00576.xml',\n",
       " './ICDAR/ICDAR2019_cTDaR/training/TRACKB1/ground_truth\\\\cTDaR_t00577.xml',\n",
       " './ICDAR/ICDAR2019_cTDaR/training/TRACKB1/ground_truth\\\\cTDaR_t00578.xml',\n",
       " './ICDAR/ICDAR2019_cTDaR/training/TRACKB1/ground_truth\\\\cTDaR_t00579.xml',\n",
       " './ICDAR/ICDAR2019_cTDaR/training/TRACKB1/ground_truth\\\\cTDaR_t00580.xml',\n",
       " './ICDAR/ICDAR2019_cTDaR/training/TRACKB1/ground_truth\\\\cTDaR_t00581.xml',\n",
       " './ICDAR/ICDAR2019_cTDaR/training/TRACKB1/ground_truth\\\\cTDaR_t00582.xml',\n",
       " './ICDAR/ICDAR2019_cTDaR/training/TRACKB1/ground_truth\\\\cTDaR_t00583.xml',\n",
       " './ICDAR/ICDAR2019_cTDaR/training/TRACKB1/ground_truth\\\\cTDaR_t00584.xml',\n",
       " './ICDAR/ICDAR2019_cTDaR/training/TRACKB1/ground_truth\\\\cTDaR_t00585.xml',\n",
       " './ICDAR/ICDAR2019_cTDaR/training/TRACKB1/ground_truth\\\\cTDaR_t00586.xml',\n",
       " './ICDAR/ICDAR2019_cTDaR/training/TRACKB1/ground_truth\\\\cTDaR_t00587.xml',\n",
       " './ICDAR/ICDAR2019_cTDaR/training/TRACKB1/ground_truth\\\\cTDaR_t00588.xml',\n",
       " './ICDAR/ICDAR2019_cTDaR/training/TRACKB1/ground_truth\\\\cTDaR_t00589.xml',\n",
       " './ICDAR/ICDAR2019_cTDaR/training/TRACKB1/ground_truth\\\\cTDaR_t00590.xml',\n",
       " './ICDAR/ICDAR2019_cTDaR/training/TRACKB1/ground_truth\\\\cTDaR_t00591.xml',\n",
       " './ICDAR/ICDAR2019_cTDaR/training/TRACKB1/ground_truth\\\\cTDaR_t00592.xml',\n",
       " './ICDAR/ICDAR2019_cTDaR/training/TRACKB1/ground_truth\\\\cTDaR_t00593.xml',\n",
       " './ICDAR/ICDAR2019_cTDaR/training/TRACKB1/ground_truth\\\\cTDaR_t00594.xml',\n",
       " './ICDAR/ICDAR2019_cTDaR/training/TRACKB1/ground_truth\\\\cTDaR_t00595.xml',\n",
       " './ICDAR/ICDAR2019_cTDaR/training/TRACKB1/ground_truth\\\\cTDaR_t00596.xml',\n",
       " './ICDAR/ICDAR2019_cTDaR/training/TRACKB1/ground_truth\\\\cTDaR_t00597.xml',\n",
       " './ICDAR/ICDAR2019_cTDaR/training/TRACKB1/ground_truth\\\\cTDaR_t00598.xml',\n",
       " './ICDAR/ICDAR2019_cTDaR/training/TRACKB1/ground_truth\\\\cTDaR_t00599.xml',\n",
       " './ICDAR/ICDAR2019_cTDaR/training/TRACKB1/ground_truth\\\\cTDaR_t00600.xml',\n",
       " './ICDAR/ICDAR2019_cTDaR/training/TRACKB1/ground_truth\\\\cTDaR_t00601.xml',\n",
       " './ICDAR/ICDAR2019_cTDaR/training/TRACKB1/ground_truth\\\\cTDaR_t00602.xml',\n",
       " './ICDAR/ICDAR2019_cTDaR/training/TRACKB1/ground_truth\\\\cTDaR_t00603.xml',\n",
       " './ICDAR/ICDAR2019_cTDaR/training/TRACKB1/ground_truth\\\\cTDaR_t00604.xml',\n",
       " './ICDAR/ICDAR2019_cTDaR/training/TRACKB1/ground_truth\\\\cTDaR_t00605.xml',\n",
       " './ICDAR/ICDAR2019_cTDaR/training/TRACKB1/ground_truth\\\\cTDaR_t00606.xml',\n",
       " './ICDAR/ICDAR2019_cTDaR/training/TRACKB1/ground_truth\\\\cTDaR_t00607.xml',\n",
       " './ICDAR/ICDAR2019_cTDaR/training/TRACKB1/ground_truth\\\\cTDaR_t00608.xml',\n",
       " './ICDAR/ICDAR2019_cTDaR/training/TRACKB1/ground_truth\\\\cTDaR_t00609.xml',\n",
       " './ICDAR/ICDAR2019_cTDaR/training/TRACKB1/ground_truth\\\\cTDaR_t00610.xml',\n",
       " './ICDAR/ICDAR2019_cTDaR/training/TRACKB1/ground_truth\\\\cTDaR_t00611.xml',\n",
       " './ICDAR/ICDAR2019_cTDaR/training/TRACKB1/ground_truth\\\\cTDaR_t00612.xml',\n",
       " './ICDAR/ICDAR2019_cTDaR/training/TRACKB1/ground_truth\\\\cTDaR_t00613.xml',\n",
       " './ICDAR/ICDAR2019_cTDaR/training/TRACKB1/ground_truth\\\\cTDaR_t00614.xml',\n",
       " './ICDAR/ICDAR2019_cTDaR/training/TRACKB1/ground_truth\\\\cTDaR_t00615.xml',\n",
       " './ICDAR/ICDAR2019_cTDaR/training/TRACKB1/ground_truth\\\\cTDaR_t00616.xml',\n",
       " './ICDAR/ICDAR2019_cTDaR/training/TRACKB1/ground_truth\\\\cTDaR_t00617.xml',\n",
       " './ICDAR/ICDAR2019_cTDaR/training/TRACKB1/ground_truth\\\\cTDaR_t00618.xml',\n",
       " './ICDAR/ICDAR2019_cTDaR/training/TRACKB1/ground_truth\\\\cTDaR_t00619.xml',\n",
       " './ICDAR/ICDAR2019_cTDaR/training/TRACKB1/ground_truth\\\\cTDaR_t00620.xml',\n",
       " './ICDAR/ICDAR2019_cTDaR/training/TRACKB1/ground_truth\\\\cTDaR_t00641.xml',\n",
       " './ICDAR/ICDAR2019_cTDaR/training/TRACKB1/ground_truth\\\\cTDaR_t00642.xml',\n",
       " './ICDAR/ICDAR2019_cTDaR/training/TRACKB1/ground_truth\\\\cTDaR_t00643.xml',\n",
       " './ICDAR/ICDAR2019_cTDaR/training/TRACKB1/ground_truth\\\\cTDaR_t00644.xml',\n",
       " './ICDAR/ICDAR2019_cTDaR/training/TRACKB1/ground_truth\\\\cTDaR_t00645.xml',\n",
       " './ICDAR/ICDAR2019_cTDaR/training/TRACKB1/ground_truth\\\\cTDaR_t00646.xml',\n",
       " './ICDAR/ICDAR2019_cTDaR/training/TRACKB1/ground_truth\\\\cTDaR_t00647.xml',\n",
       " './ICDAR/ICDAR2019_cTDaR/training/TRACKB1/ground_truth\\\\cTDaR_t00650.xml',\n",
       " './ICDAR/ICDAR2019_cTDaR/training/TRACKB1/ground_truth\\\\cTDaR_t00651.xml',\n",
       " './ICDAR/ICDAR2019_cTDaR/training/TRACKB1/ground_truth\\\\cTDaR_t00652.xml',\n",
       " './ICDAR/ICDAR2019_cTDaR/training/TRACKB1/ground_truth\\\\cTDaR_t00653.xml',\n",
       " './ICDAR/ICDAR2019_cTDaR/training/TRACKB1/ground_truth\\\\cTDaR_t00654.xml',\n",
       " './ICDAR/ICDAR2019_cTDaR/training/TRACKB1/ground_truth\\\\cTDaR_t00655.xml',\n",
       " './ICDAR/ICDAR2019_cTDaR/training/TRACKB1/ground_truth\\\\cTDaR_t00656.xml',\n",
       " './ICDAR/ICDAR2019_cTDaR/training/TRACKB1/ground_truth\\\\cTDaR_t00657.xml',\n",
       " './ICDAR/ICDAR2019_cTDaR/training/TRACKB1/ground_truth\\\\cTDaR_t00658.xml',\n",
       " './ICDAR/ICDAR2019_cTDaR/training/TRACKB1/ground_truth\\\\cTDaR_t00662.xml',\n",
       " './ICDAR/ICDAR2019_cTDaR/training/TRACKB1/ground_truth\\\\cTDaR_t00663.xml',\n",
       " './ICDAR/ICDAR2019_cTDaR/training/TRACKB1/ground_truth\\\\cTDaR_t00664.xml',\n",
       " './ICDAR/ICDAR2019_cTDaR/training/TRACKB1/ground_truth\\\\cTDaR_t00665.xml',\n",
       " './ICDAR/ICDAR2019_cTDaR/training/TRACKB1/ground_truth\\\\cTDaR_t00666.xml',\n",
       " './ICDAR/ICDAR2019_cTDaR/training/TRACKB1/ground_truth\\\\cTDaR_t00667.xml',\n",
       " './ICDAR/ICDAR2019_cTDaR/training/TRACKB1/ground_truth\\\\cTDaR_t00668.xml',\n",
       " './ICDAR/ICDAR2019_cTDaR/training/TRACKB1/ground_truth\\\\cTDaR_t00669.xml',\n",
       " './ICDAR/ICDAR2019_cTDaR/training/TRACKB1/ground_truth\\\\cTDaR_t00670.xml',\n",
       " './ICDAR/ICDAR2019_cTDaR/training/TRACKB1/ground_truth\\\\cTDaR_t00671.xml',\n",
       " './ICDAR/ICDAR2019_cTDaR/training/TRACKB1/ground_truth\\\\cTDaR_t00672.xml',\n",
       " './ICDAR/ICDAR2019_cTDaR/training/TRACKB1/ground_truth\\\\cTDaR_t00673.xml',\n",
       " './ICDAR/ICDAR2019_cTDaR/training/TRACKB1/ground_truth\\\\cTDaR_t00674.xml',\n",
       " './ICDAR/ICDAR2019_cTDaR/training/TRACKB1/ground_truth\\\\cTDaR_t00675.xml',\n",
       " './ICDAR/ICDAR2019_cTDaR/training/TRACKB1/ground_truth\\\\cTDaR_t00676.xml',\n",
       " './ICDAR/ICDAR2019_cTDaR/training/TRACKB1/ground_truth\\\\cTDaR_t00677.xml',\n",
       " './ICDAR/ICDAR2019_cTDaR/training/TRACKB1/ground_truth\\\\cTDaR_t00678.xml',\n",
       " './ICDAR/ICDAR2019_cTDaR/training/TRACKB1/ground_truth\\\\cTDaR_t00679.xml',\n",
       " './ICDAR/ICDAR2019_cTDaR/training/TRACKB1/ground_truth\\\\cTDaR_t00708.xml',\n",
       " './ICDAR/ICDAR2019_cTDaR/training/TRACKB1/ground_truth\\\\cTDaR_t00709.xml',\n",
       " './ICDAR/ICDAR2019_cTDaR/training/TRACKB1/ground_truth\\\\cTDaR_t00710.xml',\n",
       " './ICDAR/ICDAR2019_cTDaR/training/TRACKB1/ground_truth\\\\cTDaR_t00711.xml',\n",
       " './ICDAR/ICDAR2019_cTDaR/training/TRACKB1/ground_truth\\\\cTDaR_t00712.xml',\n",
       " './ICDAR/ICDAR2019_cTDaR/training/TRACKB1/ground_truth\\\\cTDaR_t00713.xml',\n",
       " './ICDAR/ICDAR2019_cTDaR/training/TRACKB1/ground_truth\\\\cTDaR_t00714.xml',\n",
       " './ICDAR/ICDAR2019_cTDaR/training/TRACKB1/ground_truth\\\\cTDaR_t00715.xml',\n",
       " './ICDAR/ICDAR2019_cTDaR/training/TRACKB1/ground_truth\\\\cTDaR_t00716.xml',\n",
       " './ICDAR/ICDAR2019_cTDaR/training/TRACKB1/ground_truth\\\\cTDaR_t00717.xml',\n",
       " './ICDAR/ICDAR2019_cTDaR/training/TRACKB1/ground_truth\\\\cTDaR_t00718.xml',\n",
       " './ICDAR/ICDAR2019_cTDaR/training/TRACKB1/ground_truth\\\\cTDaR_t00719.xml',\n",
       " './ICDAR/ICDAR2019_cTDaR/training/TRACKB1/ground_truth\\\\cTDaR_t00760.xml',\n",
       " './ICDAR/ICDAR2019_cTDaR/training/TRACKB1/ground_truth\\\\cTDaR_t00761.xml',\n",
       " './ICDAR/ICDAR2019_cTDaR/training/TRACKB1/ground_truth\\\\cTDaR_t00762.xml',\n",
       " './ICDAR/ICDAR2019_cTDaR/training/TRACKB1/ground_truth\\\\cTDaR_t00763.xml',\n",
       " './ICDAR/ICDAR2019_cTDaR/training/TRACKB1/ground_truth\\\\cTDaR_t00764.xml',\n",
       " './ICDAR/ICDAR2019_cTDaR/training/TRACKB1/ground_truth\\\\cTDaR_t00765.xml',\n",
       " './ICDAR/ICDAR2019_cTDaR/training/TRACKB1/ground_truth\\\\cTDaR_t00766.xml',\n",
       " './ICDAR/ICDAR2019_cTDaR/training/TRACKB1/ground_truth\\\\cTDaR_t00767.xml',\n",
       " './ICDAR/ICDAR2019_cTDaR/training/TRACKB1/ground_truth\\\\cTDaR_t00768.xml',\n",
       " './ICDAR/ICDAR2019_cTDaR/training/TRACKB1/ground_truth\\\\cTDaR_t00769.xml',\n",
       " './ICDAR/ICDAR2019_cTDaR/training/TRACKB1/ground_truth\\\\cTDaR_t00770.xml',\n",
       " './ICDAR/ICDAR2019_cTDaR/training/TRACKB1/ground_truth\\\\cTDaR_t00771.xml',\n",
       " './ICDAR/ICDAR2019_cTDaR/training/TRACKB1/ground_truth\\\\cTDaR_t00772.xml',\n",
       " './ICDAR/ICDAR2019_cTDaR/training/TRACKB1/ground_truth\\\\cTDaR_t00799.xml',\n",
       " './ICDAR/ICDAR2019_cTDaR/training/TRACKB1/ground_truth\\\\cTDaR_t00800.xml',\n",
       " './ICDAR/ICDAR2019_cTDaR/training/TRACKB1/ground_truth\\\\cTDaR_t00801.xml',\n",
       " './ICDAR/ICDAR2019_cTDaR/training/TRACKB1/ground_truth\\\\cTDaR_t00802.xml',\n",
       " './ICDAR/ICDAR2019_cTDaR/training/TRACKB1/ground_truth\\\\cTDaR_t00803.xml',\n",
       " './ICDAR/ICDAR2019_cTDaR/training/TRACKB1/ground_truth\\\\cTDaR_t00804.xml',\n",
       " './ICDAR/ICDAR2019_cTDaR/training/TRACKB1/ground_truth\\\\cTDaR_t00805.xml',\n",
       " './ICDAR/ICDAR2019_cTDaR/training/TRACKB1/ground_truth\\\\cTDaR_t00806.xml',\n",
       " './ICDAR/ICDAR2019_cTDaR/training/TRACKB1/ground_truth\\\\cTDaR_t00807.xml',\n",
       " './ICDAR/ICDAR2019_cTDaR/training/TRACKB1/ground_truth\\\\cTDaR_t00808.xml',\n",
       " './ICDAR/ICDAR2019_cTDaR/training/TRACKB1/ground_truth\\\\cTDaR_t00809.xml',\n",
       " './ICDAR/ICDAR2019_cTDaR/training/TRACKB1/ground_truth\\\\cTDaR_t00815.xml',\n",
       " './ICDAR/ICDAR2019_cTDaR/training/TRACKB1/ground_truth\\\\cTDaR_t00816.xml',\n",
       " './ICDAR/ICDAR2019_cTDaR/training/TRACKB1/ground_truth\\\\cTDaR_t00817.xml',\n",
       " './ICDAR/ICDAR2019_cTDaR/training/TRACKB1/ground_truth\\\\cTDaR_t00818.xml',\n",
       " './ICDAR/ICDAR2019_cTDaR/training/TRACKB1/ground_truth\\\\cTDaR_t00819.xml',\n",
       " './ICDAR/ICDAR2019_cTDaR/training/TRACKB1/ground_truth\\\\cTDaR_t00820.xml',\n",
       " './ICDAR/ICDAR2019_cTDaR/training/TRACKB1/ground_truth\\\\cTDaR_t00821.xml',\n",
       " './ICDAR/ICDAR2019_cTDaR/training/TRACKB1/ground_truth\\\\cTDaR_t00822.xml',\n",
       " './ICDAR/ICDAR2019_cTDaR/training/TRACKB1/ground_truth\\\\cTDaR_t00823.xml',\n",
       " './ICDAR/ICDAR2019_cTDaR/training/TRACKB1/ground_truth\\\\cTDaR_t00824.xml',\n",
       " './ICDAR/ICDAR2019_cTDaR/training/TRACKB1/ground_truth\\\\cTDaR_t00825.xml',\n",
       " './ICDAR/ICDAR2019_cTDaR/training/TRACKB1/ground_truth\\\\cTDaR_t00826.xml',\n",
       " './ICDAR/ICDAR2019_cTDaR/training/TRACKB1/ground_truth\\\\cTDaR_t00827.xml',\n",
       " './ICDAR/ICDAR2019_cTDaR/training/TRACKB1/ground_truth\\\\cTDaR_t00841.xml',\n",
       " './ICDAR/ICDAR2019_cTDaR/training/TRACKB1/ground_truth\\\\cTDaR_t00842.xml',\n",
       " './ICDAR/ICDAR2019_cTDaR/training/TRACKB1/ground_truth\\\\cTDaR_t00843.xml',\n",
       " './ICDAR/ICDAR2019_cTDaR/training/TRACKB1/ground_truth\\\\cTDaR_t00844.xml',\n",
       " './ICDAR/ICDAR2019_cTDaR/training/TRACKB1/ground_truth\\\\cTDaR_t00845.xml',\n",
       " './ICDAR/ICDAR2019_cTDaR/training/TRACKB1/ground_truth\\\\cTDaR_t00846.xml',\n",
       " './ICDAR/ICDAR2019_cTDaR/training/TRACKB1/ground_truth\\\\cTDaR_t00851.xml',\n",
       " './ICDAR/ICDAR2019_cTDaR/training/TRACKB1/ground_truth\\\\cTDaR_t00852.xml',\n",
       " './ICDAR/ICDAR2019_cTDaR/training/TRACKB1/ground_truth\\\\cTDaR_t00853.xml',\n",
       " './ICDAR/ICDAR2019_cTDaR/training/TRACKB1/ground_truth\\\\cTDaR_t00854.xml',\n",
       " './ICDAR/ICDAR2019_cTDaR/training/TRACKB1/ground_truth\\\\cTDaR_t00855.xml',\n",
       " './ICDAR/ICDAR2019_cTDaR/training/TRACKB1/ground_truth\\\\cTDaR_t00856.xml',\n",
       " './ICDAR/ICDAR2019_cTDaR/training/TRACKB1/ground_truth\\\\cTDaR_t00857.xml',\n",
       " './ICDAR/ICDAR2019_cTDaR/training/TRACKB1/ground_truth\\\\cTDaR_t00860.xml',\n",
       " './ICDAR/ICDAR2019_cTDaR/training/TRACKB1/ground_truth\\\\cTDaR_t00861.xml',\n",
       " './ICDAR/ICDAR2019_cTDaR/training/TRACKB1/ground_truth\\\\cTDaR_t00862.xml',\n",
       " './ICDAR/ICDAR2019_cTDaR/training/TRACKB1/ground_truth\\\\cTDaR_t00863.xml',\n",
       " './ICDAR/ICDAR2019_cTDaR/training/TRACKB1/ground_truth\\\\cTDaR_t00864.xml',\n",
       " './ICDAR/ICDAR2019_cTDaR/training/TRACKB1/ground_truth\\\\cTDaR_t00865.xml',\n",
       " './ICDAR/ICDAR2019_cTDaR/training/TRACKB1/ground_truth\\\\cTDaR_t00866.xml',\n",
       " './ICDAR/ICDAR2019_cTDaR/training/TRACKB1/ground_truth\\\\cTDaR_t00867.xml',\n",
       " './ICDAR/ICDAR2019_cTDaR/training/TRACKB1/ground_truth\\\\cTDaR_t00868.xml',\n",
       " './ICDAR/ICDAR2019_cTDaR/training/TRACKB1/ground_truth\\\\cTDaR_t00869.xml',\n",
       " './ICDAR/ICDAR2019_cTDaR/training/TRACKB1/ground_truth\\\\cTDaR_t00870.xml',\n",
       " './ICDAR/ICDAR2019_cTDaR/training/TRACKB1/ground_truth\\\\cTDaR_t00871.xml',\n",
       " './ICDAR/ICDAR2019_cTDaR/training/TRACKB1/ground_truth\\\\cTDaR_t00872.xml',\n",
       " './ICDAR/ICDAR2019_cTDaR/training/TRACKB1/ground_truth\\\\cTDaR_t00873.xml',\n",
       " './ICDAR/ICDAR2019_cTDaR/training/TRACKB1/ground_truth\\\\cTDaR_t00874.xml',\n",
       " './ICDAR/ICDAR2019_cTDaR/training/TRACKB1/ground_truth\\\\cTDaR_t00875.xml',\n",
       " './ICDAR/ICDAR2019_cTDaR/training/TRACKB1/ground_truth\\\\cTDaR_t00876.xml',\n",
       " './ICDAR/ICDAR2019_cTDaR/training/TRACKB1/ground_truth\\\\cTDaR_t00877.xml',\n",
       " './ICDAR/ICDAR2019_cTDaR/training/TRACKB1/ground_truth\\\\cTDaR_t00878.xml',\n",
       " './ICDAR/ICDAR2019_cTDaR/training/TRACKB1/ground_truth\\\\cTDaR_t00879.xml',\n",
       " './ICDAR/ICDAR2019_cTDaR/training/TRACKB1/ground_truth\\\\cTDaR_t00880.xml',\n",
       " './ICDAR/ICDAR2019_cTDaR/training/TRACKB1/ground_truth\\\\cTDaR_t00881.xml',\n",
       " './ICDAR/ICDAR2019_cTDaR/training/TRACKB1/ground_truth\\\\cTDaR_t00882.xml',\n",
       " './ICDAR/ICDAR2019_cTDaR/training/TRACKB1/ground_truth\\\\cTDaR_t00883.xml',\n",
       " './ICDAR/ICDAR2019_cTDaR/training/TRACKB1/ground_truth\\\\cTDaR_t00884.xml',\n",
       " './ICDAR/ICDAR2019_cTDaR/training/TRACKB1/ground_truth\\\\cTDaR_t00885.xml',\n",
       " './ICDAR/ICDAR2019_cTDaR/training/TRACKB1/ground_truth\\\\cTDaR_t00886.xml',\n",
       " './ICDAR/ICDAR2019_cTDaR/training/TRACKB1/ground_truth\\\\cTDaR_t00887.xml',\n",
       " './ICDAR/ICDAR2019_cTDaR/training/TRACKB1/ground_truth\\\\cTDaR_t00888.xml',\n",
       " './ICDAR/ICDAR2019_cTDaR/training/TRACKB1/ground_truth\\\\cTDaR_t00889.xml',\n",
       " './ICDAR/ICDAR2019_cTDaR/training/TRACKB1/ground_truth\\\\cTDaR_t00890.xml',\n",
       " './ICDAR/ICDAR2019_cTDaR/training/TRACKB1/ground_truth\\\\cTDaR_t00891.xml',\n",
       " './ICDAR/ICDAR2019_cTDaR/training/TRACKB1/ground_truth\\\\cTDaR_t00892.xml',\n",
       " './ICDAR/ICDAR2019_cTDaR/training/TRACKB1/ground_truth\\\\cTDaR_t00893.xml',\n",
       " './ICDAR/ICDAR2019_cTDaR/training/TRACKB1/ground_truth\\\\cTDaR_t00894.xml',\n",
       " './ICDAR/ICDAR2019_cTDaR/training/TRACKB1/ground_truth\\\\cTDaR_t00895.xml',\n",
       " './ICDAR/ICDAR2019_cTDaR/training/TRACKB1/ground_truth\\\\cTDaR_t00896.xml',\n",
       " './ICDAR/ICDAR2019_cTDaR/training/TRACKB1/ground_truth\\\\cTDaR_t00897.xml',\n",
       " './ICDAR/ICDAR2019_cTDaR/training/TRACKB1/ground_truth\\\\cTDaR_t00898.xml',\n",
       " './ICDAR/ICDAR2019_cTDaR/training/TRACKB1/ground_truth\\\\cTDaR_t00899.xml',\n",
       " './ICDAR/ICDAR2019_cTDaR/training/TRACKB1/ground_truth\\\\cTDaR_t00900.xml',\n",
       " './ICDAR/ICDAR2019_cTDaR/training/TRACKB1/ground_truth\\\\cTDaR_t00901.xml',\n",
       " './ICDAR/ICDAR2019_cTDaR/training/TRACKB1/ground_truth\\\\cTDaR_t00902.xml',\n",
       " './ICDAR/ICDAR2019_cTDaR/training/TRACKB1/ground_truth\\\\cTDaR_t00903.xml',\n",
       " './ICDAR/ICDAR2019_cTDaR/training/TRACKB1/ground_truth\\\\cTDaR_t00904.xml',\n",
       " './ICDAR/ICDAR2019_cTDaR/training/TRACKB1/ground_truth\\\\cTDaR_t00905.xml',\n",
       " './ICDAR/ICDAR2019_cTDaR/training/TRACKB1/ground_truth\\\\cTDaR_t00906.xml',\n",
       " './ICDAR/ICDAR2019_cTDaR/training/TRACKB1/ground_truth\\\\cTDaR_t00907.xml',\n",
       " './ICDAR/ICDAR2019_cTDaR/training/TRACKB1/ground_truth\\\\cTDaR_t00908.xml',\n",
       " './ICDAR/ICDAR2019_cTDaR/training/TRACKB1/ground_truth\\\\cTDaR_t00909.xml',\n",
       " './ICDAR/ICDAR2019_cTDaR/training/TRACKB1/ground_truth\\\\cTDaR_t00910.xml',\n",
       " './ICDAR/ICDAR2019_cTDaR/training/TRACKB1/ground_truth\\\\cTDaR_t00911.xml',\n",
       " './ICDAR/ICDAR2019_cTDaR/training/TRACKB1/ground_truth\\\\cTDaR_t00912.xml',\n",
       " './ICDAR/ICDAR2019_cTDaR/training/TRACKB1/ground_truth\\\\cTDaR_t00913.xml',\n",
       " './ICDAR/ICDAR2019_cTDaR/training/TRACKB1/ground_truth\\\\cTDaR_t00914.xml',\n",
       " './ICDAR/ICDAR2019_cTDaR/training/TRACKB1/ground_truth\\\\cTDaR_t00915.xml',\n",
       " './ICDAR/ICDAR2019_cTDaR/training/TRACKB1/ground_truth\\\\cTDaR_t00916.xml',\n",
       " './ICDAR/ICDAR2019_cTDaR/training/TRACKB1/ground_truth\\\\cTDaR_t00917.xml',\n",
       " './ICDAR/ICDAR2019_cTDaR/training/TRACKB1/ground_truth\\\\cTDaR_t00918.xml',\n",
       " './ICDAR/ICDAR2019_cTDaR/training/TRACKB1/ground_truth\\\\cTDaR_t00919.xml',\n",
       " './ICDAR/ICDAR2019_cTDaR/training/TRACKB1/ground_truth\\\\cTDaR_t00920.xml',\n",
       " './ICDAR/ICDAR2019_cTDaR/training/TRACKB1/ground_truth\\\\cTDaR_t00921.xml',\n",
       " './ICDAR/ICDAR2019_cTDaR/training/TRACKB1/ground_truth\\\\cTDaR_t00922.xml',\n",
       " './ICDAR/ICDAR2019_cTDaR/training/TRACKB1/ground_truth\\\\cTDaR_t00923.xml',\n",
       " './ICDAR/ICDAR2019_cTDaR/training/TRACKB1/ground_truth\\\\cTDaR_t00924.xml',\n",
       " './ICDAR/ICDAR2019_cTDaR/training/TRACKB1/ground_truth\\\\cTDaR_t00925.xml',\n",
       " './ICDAR/ICDAR2019_cTDaR/training/TRACKB1/ground_truth\\\\cTDaR_t00926.xml',\n",
       " './ICDAR/ICDAR2019_cTDaR/training/TRACKB1/ground_truth\\\\cTDaR_t00927.xml',\n",
       " './ICDAR/ICDAR2019_cTDaR/training/TRACKB1/ground_truth\\\\cTDaR_t00928.xml',\n",
       " './ICDAR/ICDAR2019_cTDaR/training/TRACKB1/ground_truth\\\\cTDaR_t00929.xml',\n",
       " './ICDAR/ICDAR2019_cTDaR/training/TRACKB1/ground_truth\\\\cTDaR_t00930.xml']"
      ]
     },
     "execution_count": 62,
     "metadata": {},
     "output_type": "execute_result"
    }
   ],
   "source": [
    "xmls"
   ]
  },
  {
   "cell_type": "code",
   "execution_count": 63,
   "metadata": {},
   "outputs": [
    {
     "data": {
      "text/plain": [
       "['./ICDAR/ICDAR2019_cTDaR/training/TRACKB1/ground_truth\\\\cTDaR_t00000.jpg',\n",
       " './ICDAR/ICDAR2019_cTDaR/training/TRACKB1/ground_truth\\\\cTDaR_t00001.jpg',\n",
       " './ICDAR/ICDAR2019_cTDaR/training/TRACKB1/ground_truth\\\\cTDaR_t00002.jpg',\n",
       " './ICDAR/ICDAR2019_cTDaR/training/TRACKB1/ground_truth\\\\cTDaR_t00003.jpg',\n",
       " './ICDAR/ICDAR2019_cTDaR/training/TRACKB1/ground_truth\\\\cTDaR_t00004.jpg',\n",
       " './ICDAR/ICDAR2019_cTDaR/training/TRACKB1/ground_truth\\\\cTDaR_t00005.jpg',\n",
       " './ICDAR/ICDAR2019_cTDaR/training/TRACKB1/ground_truth\\\\cTDaR_t00006.jpg',\n",
       " './ICDAR/ICDAR2019_cTDaR/training/TRACKB1/ground_truth\\\\cTDaR_t00007.jpg',\n",
       " './ICDAR/ICDAR2019_cTDaR/training/TRACKB1/ground_truth\\\\cTDaR_t00008.jpg',\n",
       " './ICDAR/ICDAR2019_cTDaR/training/TRACKB1/ground_truth\\\\cTDaR_t00009.jpg',\n",
       " './ICDAR/ICDAR2019_cTDaR/training/TRACKB1/ground_truth\\\\cTDaR_t00010.jpg',\n",
       " './ICDAR/ICDAR2019_cTDaR/training/TRACKB1/ground_truth\\\\cTDaR_t00018.jpg',\n",
       " './ICDAR/ICDAR2019_cTDaR/training/TRACKB1/ground_truth\\\\cTDaR_t00019.jpg',\n",
       " './ICDAR/ICDAR2019_cTDaR/training/TRACKB1/ground_truth\\\\cTDaR_t00020.jpg',\n",
       " './ICDAR/ICDAR2019_cTDaR/training/TRACKB1/ground_truth\\\\cTDaR_t00021.jpg',\n",
       " './ICDAR/ICDAR2019_cTDaR/training/TRACKB1/ground_truth\\\\cTDaR_t00022.jpg',\n",
       " './ICDAR/ICDAR2019_cTDaR/training/TRACKB1/ground_truth\\\\cTDaR_t00023.jpg',\n",
       " './ICDAR/ICDAR2019_cTDaR/training/TRACKB1/ground_truth\\\\cTDaR_t00024.jpg',\n",
       " './ICDAR/ICDAR2019_cTDaR/training/TRACKB1/ground_truth\\\\cTDaR_t00025.jpg',\n",
       " './ICDAR/ICDAR2019_cTDaR/training/TRACKB1/ground_truth\\\\cTDaR_t00026.jpg',\n",
       " './ICDAR/ICDAR2019_cTDaR/training/TRACKB1/ground_truth\\\\cTDaR_t00027.jpg',\n",
       " './ICDAR/ICDAR2019_cTDaR/training/TRACKB1/ground_truth\\\\cTDaR_t00028.jpg',\n",
       " './ICDAR/ICDAR2019_cTDaR/training/TRACKB1/ground_truth\\\\cTDaR_t00029.jpg',\n",
       " './ICDAR/ICDAR2019_cTDaR/training/TRACKB1/ground_truth\\\\cTDaR_t00030.jpg',\n",
       " './ICDAR/ICDAR2019_cTDaR/training/TRACKB1/ground_truth\\\\cTDaR_t00031.jpg',\n",
       " './ICDAR/ICDAR2019_cTDaR/training/TRACKB1/ground_truth\\\\cTDaR_t00032.jpg',\n",
       " './ICDAR/ICDAR2019_cTDaR/training/TRACKB1/ground_truth\\\\cTDaR_t00033.jpg',\n",
       " './ICDAR/ICDAR2019_cTDaR/training/TRACKB1/ground_truth\\\\cTDaR_t00034.jpg',\n",
       " './ICDAR/ICDAR2019_cTDaR/training/TRACKB1/ground_truth\\\\cTDaR_t00035.jpg',\n",
       " './ICDAR/ICDAR2019_cTDaR/training/TRACKB1/ground_truth\\\\cTDaR_t00036.jpg',\n",
       " './ICDAR/ICDAR2019_cTDaR/training/TRACKB1/ground_truth\\\\cTDaR_t00037.jpg',\n",
       " './ICDAR/ICDAR2019_cTDaR/training/TRACKB1/ground_truth\\\\cTDaR_t00038.jpg',\n",
       " './ICDAR/ICDAR2019_cTDaR/training/TRACKB1/ground_truth\\\\cTDaR_t00039.jpg',\n",
       " './ICDAR/ICDAR2019_cTDaR/training/TRACKB1/ground_truth\\\\cTDaR_t00040.jpg',\n",
       " './ICDAR/ICDAR2019_cTDaR/training/TRACKB1/ground_truth\\\\cTDaR_t00041.jpg',\n",
       " './ICDAR/ICDAR2019_cTDaR/training/TRACKB1/ground_truth\\\\cTDaR_t00042.jpg',\n",
       " './ICDAR/ICDAR2019_cTDaR/training/TRACKB1/ground_truth\\\\cTDaR_t00043.jpg',\n",
       " './ICDAR/ICDAR2019_cTDaR/training/TRACKB1/ground_truth\\\\cTDaR_t00044.jpg',\n",
       " './ICDAR/ICDAR2019_cTDaR/training/TRACKB1/ground_truth\\\\cTDaR_t00045.jpg',\n",
       " './ICDAR/ICDAR2019_cTDaR/training/TRACKB1/ground_truth\\\\cTDaR_t00046.jpg',\n",
       " './ICDAR/ICDAR2019_cTDaR/training/TRACKB1/ground_truth\\\\cTDaR_t00047.jpg',\n",
       " './ICDAR/ICDAR2019_cTDaR/training/TRACKB1/ground_truth\\\\cTDaR_t00048.jpg',\n",
       " './ICDAR/ICDAR2019_cTDaR/training/TRACKB1/ground_truth\\\\cTDaR_t00049.jpg',\n",
       " './ICDAR/ICDAR2019_cTDaR/training/TRACKB1/ground_truth\\\\cTDaR_t00050.jpg',\n",
       " './ICDAR/ICDAR2019_cTDaR/training/TRACKB1/ground_truth\\\\cTDaR_t00051.jpg',\n",
       " './ICDAR/ICDAR2019_cTDaR/training/TRACKB1/ground_truth\\\\cTDaR_t00052.jpg',\n",
       " './ICDAR/ICDAR2019_cTDaR/training/TRACKB1/ground_truth\\\\cTDaR_t00053.jpg',\n",
       " './ICDAR/ICDAR2019_cTDaR/training/TRACKB1/ground_truth\\\\cTDaR_t00054.jpg',\n",
       " './ICDAR/ICDAR2019_cTDaR/training/TRACKB1/ground_truth\\\\cTDaR_t00055.jpg',\n",
       " './ICDAR/ICDAR2019_cTDaR/training/TRACKB1/ground_truth\\\\cTDaR_t00056.jpg',\n",
       " './ICDAR/ICDAR2019_cTDaR/training/TRACKB1/ground_truth\\\\cTDaR_t00057.jpg',\n",
       " './ICDAR/ICDAR2019_cTDaR/training/TRACKB1/ground_truth\\\\cTDaR_t00058.jpg',\n",
       " './ICDAR/ICDAR2019_cTDaR/training/TRACKB1/ground_truth\\\\cTDaR_t00059.jpg',\n",
       " './ICDAR/ICDAR2019_cTDaR/training/TRACKB1/ground_truth\\\\cTDaR_t00060.jpg',\n",
       " './ICDAR/ICDAR2019_cTDaR/training/TRACKB1/ground_truth\\\\cTDaR_t00061.jpg',\n",
       " './ICDAR/ICDAR2019_cTDaR/training/TRACKB1/ground_truth\\\\cTDaR_t00062.jpg',\n",
       " './ICDAR/ICDAR2019_cTDaR/training/TRACKB1/ground_truth\\\\cTDaR_t00063.jpg',\n",
       " './ICDAR/ICDAR2019_cTDaR/training/TRACKB1/ground_truth\\\\cTDaR_t00064.jpg',\n",
       " './ICDAR/ICDAR2019_cTDaR/training/TRACKB1/ground_truth\\\\cTDaR_t00065.jpg',\n",
       " './ICDAR/ICDAR2019_cTDaR/training/TRACKB1/ground_truth\\\\cTDaR_t00066.jpg',\n",
       " './ICDAR/ICDAR2019_cTDaR/training/TRACKB1/ground_truth\\\\cTDaR_t00067.jpg',\n",
       " './ICDAR/ICDAR2019_cTDaR/training/TRACKB1/ground_truth\\\\cTDaR_t00068.jpg',\n",
       " './ICDAR/ICDAR2019_cTDaR/training/TRACKB1/ground_truth\\\\cTDaR_t00069.jpg',\n",
       " './ICDAR/ICDAR2019_cTDaR/training/TRACKB1/ground_truth\\\\cTDaR_t00070.jpg',\n",
       " './ICDAR/ICDAR2019_cTDaR/training/TRACKB1/ground_truth\\\\cTDaR_t00091.jpg',\n",
       " './ICDAR/ICDAR2019_cTDaR/training/TRACKB1/ground_truth\\\\cTDaR_t00092.jpg',\n",
       " './ICDAR/ICDAR2019_cTDaR/training/TRACKB1/ground_truth\\\\cTDaR_t00093.jpg',\n",
       " './ICDAR/ICDAR2019_cTDaR/training/TRACKB1/ground_truth\\\\cTDaR_t00094.jpg',\n",
       " './ICDAR/ICDAR2019_cTDaR/training/TRACKB1/ground_truth\\\\cTDaR_t00095.jpg',\n",
       " './ICDAR/ICDAR2019_cTDaR/training/TRACKB1/ground_truth\\\\cTDaR_t00096.jpg',\n",
       " './ICDAR/ICDAR2019_cTDaR/training/TRACKB1/ground_truth\\\\cTDaR_t00097.jpg',\n",
       " './ICDAR/ICDAR2019_cTDaR/training/TRACKB1/ground_truth\\\\cTDaR_t00098.jpg',\n",
       " './ICDAR/ICDAR2019_cTDaR/training/TRACKB1/ground_truth\\\\cTDaR_t00099.jpg',\n",
       " './ICDAR/ICDAR2019_cTDaR/training/TRACKB1/ground_truth\\\\cTDaR_t00100.jpg',\n",
       " './ICDAR/ICDAR2019_cTDaR/training/TRACKB1/ground_truth\\\\cTDaR_t00101.jpg',\n",
       " './ICDAR/ICDAR2019_cTDaR/training/TRACKB1/ground_truth\\\\cTDaR_t00116.jpg',\n",
       " './ICDAR/ICDAR2019_cTDaR/training/TRACKB1/ground_truth\\\\cTDaR_t00117.jpg',\n",
       " './ICDAR/ICDAR2019_cTDaR/training/TRACKB1/ground_truth\\\\cTDaR_t00118.jpg',\n",
       " './ICDAR/ICDAR2019_cTDaR/training/TRACKB1/ground_truth\\\\cTDaR_t00119.jpg',\n",
       " './ICDAR/ICDAR2019_cTDaR/training/TRACKB1/ground_truth\\\\cTDaR_t00120.jpg',\n",
       " './ICDAR/ICDAR2019_cTDaR/training/TRACKB1/ground_truth\\\\cTDaR_t00121.jpg',\n",
       " './ICDAR/ICDAR2019_cTDaR/training/TRACKB1/ground_truth\\\\cTDaR_t00122.jpg',\n",
       " './ICDAR/ICDAR2019_cTDaR/training/TRACKB1/ground_truth\\\\cTDaR_t00125.jpg',\n",
       " './ICDAR/ICDAR2019_cTDaR/training/TRACKB1/ground_truth\\\\cTDaR_t00126.jpg',\n",
       " './ICDAR/ICDAR2019_cTDaR/training/TRACKB1/ground_truth\\\\cTDaR_t00127.jpg',\n",
       " './ICDAR/ICDAR2019_cTDaR/training/TRACKB1/ground_truth\\\\cTDaR_t00128.jpg',\n",
       " './ICDAR/ICDAR2019_cTDaR/training/TRACKB1/ground_truth\\\\cTDaR_t00129.jpg',\n",
       " './ICDAR/ICDAR2019_cTDaR/training/TRACKB1/ground_truth\\\\cTDaR_t00130.jpg',\n",
       " './ICDAR/ICDAR2019_cTDaR/training/TRACKB1/ground_truth\\\\cTDaR_t00131.jpg',\n",
       " './ICDAR/ICDAR2019_cTDaR/training/TRACKB1/ground_truth\\\\cTDaR_t00132.jpg',\n",
       " './ICDAR/ICDAR2019_cTDaR/training/TRACKB1/ground_truth\\\\cTDaR_t00133.jpg',\n",
       " './ICDAR/ICDAR2019_cTDaR/training/TRACKB1/ground_truth\\\\cTDaR_t00134.jpg',\n",
       " './ICDAR/ICDAR2019_cTDaR/training/TRACKB1/ground_truth\\\\cTDaR_t00135.jpg',\n",
       " './ICDAR/ICDAR2019_cTDaR/training/TRACKB1/ground_truth\\\\cTDaR_t00136.jpg',\n",
       " './ICDAR/ICDAR2019_cTDaR/training/TRACKB1/ground_truth\\\\cTDaR_t00137.jpg',\n",
       " './ICDAR/ICDAR2019_cTDaR/training/TRACKB1/ground_truth\\\\cTDaR_t00138.jpg',\n",
       " './ICDAR/ICDAR2019_cTDaR/training/TRACKB1/ground_truth\\\\cTDaR_t00139.jpg',\n",
       " './ICDAR/ICDAR2019_cTDaR/training/TRACKB1/ground_truth\\\\cTDaR_t00140.jpg',\n",
       " './ICDAR/ICDAR2019_cTDaR/training/TRACKB1/ground_truth\\\\cTDaR_t00141.jpg',\n",
       " './ICDAR/ICDAR2019_cTDaR/training/TRACKB1/ground_truth\\\\cTDaR_t00142.jpg',\n",
       " './ICDAR/ICDAR2019_cTDaR/training/TRACKB1/ground_truth\\\\cTDaR_t00143.jpg',\n",
       " './ICDAR/ICDAR2019_cTDaR/training/TRACKB1/ground_truth\\\\cTDaR_t00144.jpg',\n",
       " './ICDAR/ICDAR2019_cTDaR/training/TRACKB1/ground_truth\\\\cTDaR_t00145.jpg',\n",
       " './ICDAR/ICDAR2019_cTDaR/training/TRACKB1/ground_truth\\\\cTDaR_t00167.jpg',\n",
       " './ICDAR/ICDAR2019_cTDaR/training/TRACKB1/ground_truth\\\\cTDaR_t00168.jpg',\n",
       " './ICDAR/ICDAR2019_cTDaR/training/TRACKB1/ground_truth\\\\cTDaR_t00169.jpg',\n",
       " './ICDAR/ICDAR2019_cTDaR/training/TRACKB1/ground_truth\\\\cTDaR_t00170.jpg',\n",
       " './ICDAR/ICDAR2019_cTDaR/training/TRACKB1/ground_truth\\\\cTDaR_t00171.jpg',\n",
       " './ICDAR/ICDAR2019_cTDaR/training/TRACKB1/ground_truth\\\\cTDaR_t00172.jpg',\n",
       " './ICDAR/ICDAR2019_cTDaR/training/TRACKB1/ground_truth\\\\cTDaR_t00173.jpg',\n",
       " './ICDAR/ICDAR2019_cTDaR/training/TRACKB1/ground_truth\\\\cTDaR_t00174.jpg',\n",
       " './ICDAR/ICDAR2019_cTDaR/training/TRACKB1/ground_truth\\\\cTDaR_t00177.jpg',\n",
       " './ICDAR/ICDAR2019_cTDaR/training/TRACKB1/ground_truth\\\\cTDaR_t00178.jpg',\n",
       " './ICDAR/ICDAR2019_cTDaR/training/TRACKB1/ground_truth\\\\cTDaR_t00179.jpg',\n",
       " './ICDAR/ICDAR2019_cTDaR/training/TRACKB1/ground_truth\\\\cTDaR_t00180.jpg',\n",
       " './ICDAR/ICDAR2019_cTDaR/training/TRACKB1/ground_truth\\\\cTDaR_t00181.jpg',\n",
       " './ICDAR/ICDAR2019_cTDaR/training/TRACKB1/ground_truth\\\\cTDaR_t00182.jpg',\n",
       " './ICDAR/ICDAR2019_cTDaR/training/TRACKB1/ground_truth\\\\cTDaR_t00183.jpg',\n",
       " './ICDAR/ICDAR2019_cTDaR/training/TRACKB1/ground_truth\\\\cTDaR_t00184.jpg',\n",
       " './ICDAR/ICDAR2019_cTDaR/training/TRACKB1/ground_truth\\\\cTDaR_t00185.jpg',\n",
       " './ICDAR/ICDAR2019_cTDaR/training/TRACKB1/ground_truth\\\\cTDaR_t00186.jpg',\n",
       " './ICDAR/ICDAR2019_cTDaR/training/TRACKB1/ground_truth\\\\cTDaR_t00187.jpg',\n",
       " './ICDAR/ICDAR2019_cTDaR/training/TRACKB1/ground_truth\\\\cTDaR_t00188.jpg',\n",
       " './ICDAR/ICDAR2019_cTDaR/training/TRACKB1/ground_truth\\\\cTDaR_t00189.jpg',\n",
       " './ICDAR/ICDAR2019_cTDaR/training/TRACKB1/ground_truth\\\\cTDaR_t00190.jpg',\n",
       " './ICDAR/ICDAR2019_cTDaR/training/TRACKB1/ground_truth\\\\cTDaR_t00191.jpg',\n",
       " './ICDAR/ICDAR2019_cTDaR/training/TRACKB1/ground_truth\\\\cTDaR_t00192.jpg',\n",
       " './ICDAR/ICDAR2019_cTDaR/training/TRACKB1/ground_truth\\\\cTDaR_t00199.JPG',\n",
       " './ICDAR/ICDAR2019_cTDaR/training/TRACKB1/ground_truth\\\\cTDaR_t00200.JPG',\n",
       " './ICDAR/ICDAR2019_cTDaR/training/TRACKB1/ground_truth\\\\cTDaR_t00201.JPG',\n",
       " './ICDAR/ICDAR2019_cTDaR/training/TRACKB1/ground_truth\\\\cTDaR_t00202.JPG',\n",
       " './ICDAR/ICDAR2019_cTDaR/training/TRACKB1/ground_truth\\\\cTDaR_t00203.JPG',\n",
       " './ICDAR/ICDAR2019_cTDaR/training/TRACKB1/ground_truth\\\\cTDaR_t00204.JPG',\n",
       " './ICDAR/ICDAR2019_cTDaR/training/TRACKB1/ground_truth\\\\cTDaR_t00205.JPG',\n",
       " './ICDAR/ICDAR2019_cTDaR/training/TRACKB1/ground_truth\\\\cTDaR_t00206.JPG',\n",
       " './ICDAR/ICDAR2019_cTDaR/training/TRACKB1/ground_truth\\\\cTDaR_t00207.JPG',\n",
       " './ICDAR/ICDAR2019_cTDaR/training/TRACKB1/ground_truth\\\\cTDaR_t00208.JPG',\n",
       " './ICDAR/ICDAR2019_cTDaR/training/TRACKB1/ground_truth\\\\cTDaR_t00209.JPG',\n",
       " './ICDAR/ICDAR2019_cTDaR/training/TRACKB1/ground_truth\\\\cTDaR_t00254.jpg',\n",
       " './ICDAR/ICDAR2019_cTDaR/training/TRACKB1/ground_truth\\\\cTDaR_t00255.jpg',\n",
       " './ICDAR/ICDAR2019_cTDaR/training/TRACKB1/ground_truth\\\\cTDaR_t00256.jpg',\n",
       " './ICDAR/ICDAR2019_cTDaR/training/TRACKB1/ground_truth\\\\cTDaR_t00257.jpg',\n",
       " './ICDAR/ICDAR2019_cTDaR/training/TRACKB1/ground_truth\\\\cTDaR_t00258.jpg',\n",
       " './ICDAR/ICDAR2019_cTDaR/training/TRACKB1/ground_truth\\\\cTDaR_t00259.jpg',\n",
       " './ICDAR/ICDAR2019_cTDaR/training/TRACKB1/ground_truth\\\\cTDaR_t00260.jpg',\n",
       " './ICDAR/ICDAR2019_cTDaR/training/TRACKB1/ground_truth\\\\cTDaR_t00261.jpg',\n",
       " './ICDAR/ICDAR2019_cTDaR/training/TRACKB1/ground_truth\\\\cTDaR_t00262.jpg',\n",
       " './ICDAR/ICDAR2019_cTDaR/training/TRACKB1/ground_truth\\\\cTDaR_t00263.jpg',\n",
       " './ICDAR/ICDAR2019_cTDaR/training/TRACKB1/ground_truth\\\\cTDaR_t00264.jpg',\n",
       " './ICDAR/ICDAR2019_cTDaR/training/TRACKB1/ground_truth\\\\cTDaR_t00265.jpg',\n",
       " './ICDAR/ICDAR2019_cTDaR/training/TRACKB1/ground_truth\\\\cTDaR_t00266.jpg',\n",
       " './ICDAR/ICDAR2019_cTDaR/training/TRACKB1/ground_truth\\\\cTDaR_t00267.jpg',\n",
       " './ICDAR/ICDAR2019_cTDaR/training/TRACKB1/ground_truth\\\\cTDaR_t00268.jpg',\n",
       " './ICDAR/ICDAR2019_cTDaR/training/TRACKB1/ground_truth\\\\cTDaR_t00269.jpg',\n",
       " './ICDAR/ICDAR2019_cTDaR/training/TRACKB1/ground_truth\\\\cTDaR_t00270.jpg',\n",
       " './ICDAR/ICDAR2019_cTDaR/training/TRACKB1/ground_truth\\\\cTDaR_t00271.jpg',\n",
       " './ICDAR/ICDAR2019_cTDaR/training/TRACKB1/ground_truth\\\\cTDaR_t00272.jpg',\n",
       " './ICDAR/ICDAR2019_cTDaR/training/TRACKB1/ground_truth\\\\cTDaR_t00273.jpg',\n",
       " './ICDAR/ICDAR2019_cTDaR/training/TRACKB1/ground_truth\\\\cTDaR_t00274.jpg',\n",
       " './ICDAR/ICDAR2019_cTDaR/training/TRACKB1/ground_truth\\\\cTDaR_t00275.jpg',\n",
       " './ICDAR/ICDAR2019_cTDaR/training/TRACKB1/ground_truth\\\\cTDaR_t00276.jpg',\n",
       " './ICDAR/ICDAR2019_cTDaR/training/TRACKB1/ground_truth\\\\cTDaR_t00277.jpg',\n",
       " './ICDAR/ICDAR2019_cTDaR/training/TRACKB1/ground_truth\\\\cTDaR_t00278.jpg',\n",
       " './ICDAR/ICDAR2019_cTDaR/training/TRACKB1/ground_truth\\\\cTDaR_t00279.jpg',\n",
       " './ICDAR/ICDAR2019_cTDaR/training/TRACKB1/ground_truth\\\\cTDaR_t00280.jpg',\n",
       " './ICDAR/ICDAR2019_cTDaR/training/TRACKB1/ground_truth\\\\cTDaR_t00281.jpg',\n",
       " './ICDAR/ICDAR2019_cTDaR/training/TRACKB1/ground_truth\\\\cTDaR_t00282.jpg',\n",
       " './ICDAR/ICDAR2019_cTDaR/training/TRACKB1/ground_truth\\\\cTDaR_t00283.jpg',\n",
       " './ICDAR/ICDAR2019_cTDaR/training/TRACKB1/ground_truth\\\\cTDaR_t00284.jpg',\n",
       " './ICDAR/ICDAR2019_cTDaR/training/TRACKB1/ground_truth\\\\cTDaR_t00304.jpg',\n",
       " './ICDAR/ICDAR2019_cTDaR/training/TRACKB1/ground_truth\\\\cTDaR_t00305.jpg',\n",
       " './ICDAR/ICDAR2019_cTDaR/training/TRACKB1/ground_truth\\\\cTDaR_t00306.jpg',\n",
       " './ICDAR/ICDAR2019_cTDaR/training/TRACKB1/ground_truth\\\\cTDaR_t00307.jpg',\n",
       " './ICDAR/ICDAR2019_cTDaR/training/TRACKB1/ground_truth\\\\cTDaR_t00308.jpg',\n",
       " './ICDAR/ICDAR2019_cTDaR/training/TRACKB1/ground_truth\\\\cTDaR_t00309.jpg',\n",
       " './ICDAR/ICDAR2019_cTDaR/training/TRACKB1/ground_truth\\\\cTDaR_t00310.jpg',\n",
       " './ICDAR/ICDAR2019_cTDaR/training/TRACKB1/ground_truth\\\\cTDaR_t00311.jpg',\n",
       " './ICDAR/ICDAR2019_cTDaR/training/TRACKB1/ground_truth\\\\cTDaR_t00312.jpg',\n",
       " './ICDAR/ICDAR2019_cTDaR/training/TRACKB1/ground_truth\\\\cTDaR_t00313.jpg',\n",
       " './ICDAR/ICDAR2019_cTDaR/training/TRACKB1/ground_truth\\\\cTDaR_t00314.jpg',\n",
       " './ICDAR/ICDAR2019_cTDaR/training/TRACKB1/ground_truth\\\\cTDaR_t00315.jpg',\n",
       " './ICDAR/ICDAR2019_cTDaR/training/TRACKB1/ground_truth\\\\cTDaR_t00316.jpg',\n",
       " './ICDAR/ICDAR2019_cTDaR/training/TRACKB1/ground_truth\\\\cTDaR_t00317.jpg',\n",
       " './ICDAR/ICDAR2019_cTDaR/training/TRACKB1/ground_truth\\\\cTDaR_t00318.jpg',\n",
       " './ICDAR/ICDAR2019_cTDaR/training/TRACKB1/ground_truth\\\\cTDaR_t00319.jpg',\n",
       " './ICDAR/ICDAR2019_cTDaR/training/TRACKB1/ground_truth\\\\cTDaR_t00320.jpg',\n",
       " './ICDAR/ICDAR2019_cTDaR/training/TRACKB1/ground_truth\\\\cTDaR_t00321.jpg',\n",
       " './ICDAR/ICDAR2019_cTDaR/training/TRACKB1/ground_truth\\\\cTDaR_t00343.jpg',\n",
       " './ICDAR/ICDAR2019_cTDaR/training/TRACKB1/ground_truth\\\\cTDaR_t00344.jpg',\n",
       " './ICDAR/ICDAR2019_cTDaR/training/TRACKB1/ground_truth\\\\cTDaR_t00345.jpg',\n",
       " './ICDAR/ICDAR2019_cTDaR/training/TRACKB1/ground_truth\\\\cTDaR_t00346.jpg',\n",
       " './ICDAR/ICDAR2019_cTDaR/training/TRACKB1/ground_truth\\\\cTDaR_t00347.jpg',\n",
       " './ICDAR/ICDAR2019_cTDaR/training/TRACKB1/ground_truth\\\\cTDaR_t00348.jpg',\n",
       " './ICDAR/ICDAR2019_cTDaR/training/TRACKB1/ground_truth\\\\cTDaR_t00349.jpg',\n",
       " './ICDAR/ICDAR2019_cTDaR/training/TRACKB1/ground_truth\\\\cTDaR_t00350.jpg',\n",
       " './ICDAR/ICDAR2019_cTDaR/training/TRACKB1/ground_truth\\\\cTDaR_t00351.jpg',\n",
       " './ICDAR/ICDAR2019_cTDaR/training/TRACKB1/ground_truth\\\\cTDaR_t00352.jpg',\n",
       " './ICDAR/ICDAR2019_cTDaR/training/TRACKB1/ground_truth\\\\cTDaR_t00353.jpg',\n",
       " './ICDAR/ICDAR2019_cTDaR/training/TRACKB1/ground_truth\\\\cTDaR_t00354.jpg',\n",
       " './ICDAR/ICDAR2019_cTDaR/training/TRACKB1/ground_truth\\\\cTDaR_t00355.jpg',\n",
       " './ICDAR/ICDAR2019_cTDaR/training/TRACKB1/ground_truth\\\\cTDaR_t00356.jpg',\n",
       " './ICDAR/ICDAR2019_cTDaR/training/TRACKB1/ground_truth\\\\cTDaR_t00357.jpg',\n",
       " './ICDAR/ICDAR2019_cTDaR/training/TRACKB1/ground_truth\\\\cTDaR_t00358.jpg',\n",
       " './ICDAR/ICDAR2019_cTDaR/training/TRACKB1/ground_truth\\\\cTDaR_t00359.jpg',\n",
       " './ICDAR/ICDAR2019_cTDaR/training/TRACKB1/ground_truth\\\\cTDaR_t00360.jpg',\n",
       " './ICDAR/ICDAR2019_cTDaR/training/TRACKB1/ground_truth\\\\cTDaR_t00361.jpg',\n",
       " './ICDAR/ICDAR2019_cTDaR/training/TRACKB1/ground_truth\\\\cTDaR_t00362.jpg',\n",
       " './ICDAR/ICDAR2019_cTDaR/training/TRACKB1/ground_truth\\\\cTDaR_t00363.jpg',\n",
       " './ICDAR/ICDAR2019_cTDaR/training/TRACKB1/ground_truth\\\\cTDaR_t00364.jpg',\n",
       " './ICDAR/ICDAR2019_cTDaR/training/TRACKB1/ground_truth\\\\cTDaR_t00365.jpg',\n",
       " './ICDAR/ICDAR2019_cTDaR/training/TRACKB1/ground_truth\\\\cTDaR_t00366.jpg',\n",
       " './ICDAR/ICDAR2019_cTDaR/training/TRACKB1/ground_truth\\\\cTDaR_t00367.jpg',\n",
       " './ICDAR/ICDAR2019_cTDaR/training/TRACKB1/ground_truth\\\\cTDaR_t00368.jpg',\n",
       " './ICDAR/ICDAR2019_cTDaR/training/TRACKB1/ground_truth\\\\cTDaR_t00369.jpg',\n",
       " './ICDAR/ICDAR2019_cTDaR/training/TRACKB1/ground_truth\\\\cTDaR_t00370.jpg',\n",
       " './ICDAR/ICDAR2019_cTDaR/training/TRACKB1/ground_truth\\\\cTDaR_t00371.jpg',\n",
       " './ICDAR/ICDAR2019_cTDaR/training/TRACKB1/ground_truth\\\\cTDaR_t00372.jpg',\n",
       " './ICDAR/ICDAR2019_cTDaR/training/TRACKB1/ground_truth\\\\cTDaR_t00373.jpg',\n",
       " './ICDAR/ICDAR2019_cTDaR/training/TRACKB1/ground_truth\\\\cTDaR_t00388.jpg',\n",
       " './ICDAR/ICDAR2019_cTDaR/training/TRACKB1/ground_truth\\\\cTDaR_t00389.jpg',\n",
       " './ICDAR/ICDAR2019_cTDaR/training/TRACKB1/ground_truth\\\\cTDaR_t00390.jpg',\n",
       " './ICDAR/ICDAR2019_cTDaR/training/TRACKB1/ground_truth\\\\cTDaR_t00391.jpg',\n",
       " './ICDAR/ICDAR2019_cTDaR/training/TRACKB1/ground_truth\\\\cTDaR_t00392.jpg',\n",
       " './ICDAR/ICDAR2019_cTDaR/training/TRACKB1/ground_truth\\\\cTDaR_t00393.jpg',\n",
       " './ICDAR/ICDAR2019_cTDaR/training/TRACKB1/ground_truth\\\\cTDaR_t00394.jpg',\n",
       " './ICDAR/ICDAR2019_cTDaR/training/TRACKB1/ground_truth\\\\cTDaR_t00395.jpg',\n",
       " './ICDAR/ICDAR2019_cTDaR/training/TRACKB1/ground_truth\\\\cTDaR_t00396.jpg',\n",
       " './ICDAR/ICDAR2019_cTDaR/training/TRACKB1/ground_truth\\\\cTDaR_t00397.jpg',\n",
       " './ICDAR/ICDAR2019_cTDaR/training/TRACKB1/ground_truth\\\\cTDaR_t00398.jpg',\n",
       " './ICDAR/ICDAR2019_cTDaR/training/TRACKB1/ground_truth\\\\cTDaR_t00403.jpg',\n",
       " './ICDAR/ICDAR2019_cTDaR/training/TRACKB1/ground_truth\\\\cTDaR_t00404.jpg',\n",
       " './ICDAR/ICDAR2019_cTDaR/training/TRACKB1/ground_truth\\\\cTDaR_t00405.jpg',\n",
       " './ICDAR/ICDAR2019_cTDaR/training/TRACKB1/ground_truth\\\\cTDaR_t00406.jpg',\n",
       " './ICDAR/ICDAR2019_cTDaR/training/TRACKB1/ground_truth\\\\cTDaR_t00407.jpg',\n",
       " './ICDAR/ICDAR2019_cTDaR/training/TRACKB1/ground_truth\\\\cTDaR_t00408.jpg',\n",
       " './ICDAR/ICDAR2019_cTDaR/training/TRACKB1/ground_truth\\\\cTDaR_t00409.jpg',\n",
       " './ICDAR/ICDAR2019_cTDaR/training/TRACKB1/ground_truth\\\\cTDaR_t00410.jpg',\n",
       " './ICDAR/ICDAR2019_cTDaR/training/TRACKB1/ground_truth\\\\cTDaR_t00411.jpg',\n",
       " './ICDAR/ICDAR2019_cTDaR/training/TRACKB1/ground_truth\\\\cTDaR_t00412.jpg',\n",
       " './ICDAR/ICDAR2019_cTDaR/training/TRACKB1/ground_truth\\\\cTDaR_t00413.jpg',\n",
       " './ICDAR/ICDAR2019_cTDaR/training/TRACKB1/ground_truth\\\\cTDaR_t00414.jpg',\n",
       " './ICDAR/ICDAR2019_cTDaR/training/TRACKB1/ground_truth\\\\cTDaR_t00415.jpg',\n",
       " './ICDAR/ICDAR2019_cTDaR/training/TRACKB1/ground_truth\\\\cTDaR_t00416.jpg',\n",
       " './ICDAR/ICDAR2019_cTDaR/training/TRACKB1/ground_truth\\\\cTDaR_t00417.jpg',\n",
       " './ICDAR/ICDAR2019_cTDaR/training/TRACKB1/ground_truth\\\\cTDaR_t00418.jpg',\n",
       " './ICDAR/ICDAR2019_cTDaR/training/TRACKB1/ground_truth\\\\cTDaR_t00419.jpg',\n",
       " './ICDAR/ICDAR2019_cTDaR/training/TRACKB1/ground_truth\\\\cTDaR_t00420.jpg',\n",
       " './ICDAR/ICDAR2019_cTDaR/training/TRACKB1/ground_truth\\\\cTDaR_t00421.jpg',\n",
       " './ICDAR/ICDAR2019_cTDaR/training/TRACKB1/ground_truth\\\\cTDaR_t00422.jpg',\n",
       " './ICDAR/ICDAR2019_cTDaR/training/TRACKB1/ground_truth\\\\cTDaR_t00423.jpg',\n",
       " './ICDAR/ICDAR2019_cTDaR/training/TRACKB1/ground_truth\\\\cTDaR_t00424.jpg',\n",
       " './ICDAR/ICDAR2019_cTDaR/training/TRACKB1/ground_truth\\\\cTDaR_t00425.jpg',\n",
       " './ICDAR/ICDAR2019_cTDaR/training/TRACKB1/ground_truth\\\\cTDaR_t00426.jpg',\n",
       " './ICDAR/ICDAR2019_cTDaR/training/TRACKB1/ground_truth\\\\cTDaR_t00427.jpg',\n",
       " './ICDAR/ICDAR2019_cTDaR/training/TRACKB1/ground_truth\\\\cTDaR_t00428.jpg',\n",
       " './ICDAR/ICDAR2019_cTDaR/training/TRACKB1/ground_truth\\\\cTDaR_t00429.jpg',\n",
       " './ICDAR/ICDAR2019_cTDaR/training/TRACKB1/ground_truth\\\\cTDaR_t00430.jpg',\n",
       " './ICDAR/ICDAR2019_cTDaR/training/TRACKB1/ground_truth\\\\cTDaR_t00431.jpg',\n",
       " './ICDAR/ICDAR2019_cTDaR/training/TRACKB1/ground_truth\\\\cTDaR_t00432.jpg',\n",
       " './ICDAR/ICDAR2019_cTDaR/training/TRACKB1/ground_truth\\\\cTDaR_t00433.jpg',\n",
       " './ICDAR/ICDAR2019_cTDaR/training/TRACKB1/ground_truth\\\\cTDaR_t00434.jpg',\n",
       " './ICDAR/ICDAR2019_cTDaR/training/TRACKB1/ground_truth\\\\cTDaR_t00435.jpg',\n",
       " './ICDAR/ICDAR2019_cTDaR/training/TRACKB1/ground_truth\\\\cTDaR_t00436.jpg',\n",
       " './ICDAR/ICDAR2019_cTDaR/training/TRACKB1/ground_truth\\\\cTDaR_t00437.jpg',\n",
       " './ICDAR/ICDAR2019_cTDaR/training/TRACKB1/ground_truth\\\\cTDaR_t00438.jpg',\n",
       " './ICDAR/ICDAR2019_cTDaR/training/TRACKB1/ground_truth\\\\cTDaR_t00439.jpg',\n",
       " './ICDAR/ICDAR2019_cTDaR/training/TRACKB1/ground_truth\\\\cTDaR_t00440.jpg',\n",
       " './ICDAR/ICDAR2019_cTDaR/training/TRACKB1/ground_truth\\\\cTDaR_t00441.jpg',\n",
       " './ICDAR/ICDAR2019_cTDaR/training/TRACKB1/ground_truth\\\\cTDaR_t00442.jpg',\n",
       " './ICDAR/ICDAR2019_cTDaR/training/TRACKB1/ground_truth\\\\cTDaR_t00443.jpg',\n",
       " './ICDAR/ICDAR2019_cTDaR/training/TRACKB1/ground_truth\\\\cTDaR_t00448.JPG',\n",
       " './ICDAR/ICDAR2019_cTDaR/training/TRACKB1/ground_truth\\\\cTDaR_t00449.JPG',\n",
       " './ICDAR/ICDAR2019_cTDaR/training/TRACKB1/ground_truth\\\\cTDaR_t00450.JPG',\n",
       " './ICDAR/ICDAR2019_cTDaR/training/TRACKB1/ground_truth\\\\cTDaR_t00451.JPG',\n",
       " './ICDAR/ICDAR2019_cTDaR/training/TRACKB1/ground_truth\\\\cTDaR_t00452.JPG',\n",
       " './ICDAR/ICDAR2019_cTDaR/training/TRACKB1/ground_truth\\\\cTDaR_t00453.JPG',\n",
       " './ICDAR/ICDAR2019_cTDaR/training/TRACKB1/ground_truth\\\\cTDaR_t00454.JPG',\n",
       " './ICDAR/ICDAR2019_cTDaR/training/TRACKB1/ground_truth\\\\cTDaR_t00455.JPG',\n",
       " './ICDAR/ICDAR2019_cTDaR/training/TRACKB1/ground_truth\\\\cTDaR_t00456.JPG',\n",
       " './ICDAR/ICDAR2019_cTDaR/training/TRACKB1/ground_truth\\\\cTDaR_t00457.JPG',\n",
       " './ICDAR/ICDAR2019_cTDaR/training/TRACKB1/ground_truth\\\\cTDaR_t00458.JPG',\n",
       " './ICDAR/ICDAR2019_cTDaR/training/TRACKB1/ground_truth\\\\cTDaR_t00459.JPG',\n",
       " './ICDAR/ICDAR2019_cTDaR/training/TRACKB1/ground_truth\\\\cTDaR_t00460.JPG',\n",
       " './ICDAR/ICDAR2019_cTDaR/training/TRACKB1/ground_truth\\\\cTDaR_t00461.JPG',\n",
       " './ICDAR/ICDAR2019_cTDaR/training/TRACKB1/ground_truth\\\\cTDaR_t00462.JPG',\n",
       " './ICDAR/ICDAR2019_cTDaR/training/TRACKB1/ground_truth\\\\cTDaR_t00463.JPG',\n",
       " './ICDAR/ICDAR2019_cTDaR/training/TRACKB1/ground_truth\\\\cTDaR_t00464.JPG',\n",
       " './ICDAR/ICDAR2019_cTDaR/training/TRACKB1/ground_truth\\\\cTDaR_t00465.JPG',\n",
       " './ICDAR/ICDAR2019_cTDaR/training/TRACKB1/ground_truth\\\\cTDaR_t00466.JPG',\n",
       " './ICDAR/ICDAR2019_cTDaR/training/TRACKB1/ground_truth\\\\cTDaR_t00467.JPG',\n",
       " './ICDAR/ICDAR2019_cTDaR/training/TRACKB1/ground_truth\\\\cTDaR_t00468.JPG',\n",
       " './ICDAR/ICDAR2019_cTDaR/training/TRACKB1/ground_truth\\\\cTDaR_t00469.JPG',\n",
       " './ICDAR/ICDAR2019_cTDaR/training/TRACKB1/ground_truth\\\\cTDaR_t00470.JPG',\n",
       " './ICDAR/ICDAR2019_cTDaR/training/TRACKB1/ground_truth\\\\cTDaR_t00471.JPG',\n",
       " './ICDAR/ICDAR2019_cTDaR/training/TRACKB1/ground_truth\\\\cTDaR_t00472.JPG',\n",
       " './ICDAR/ICDAR2019_cTDaR/training/TRACKB1/ground_truth\\\\cTDaR_t00473.JPG',\n",
       " './ICDAR/ICDAR2019_cTDaR/training/TRACKB1/ground_truth\\\\cTDaR_t00474.JPG',\n",
       " './ICDAR/ICDAR2019_cTDaR/training/TRACKB1/ground_truth\\\\cTDaR_t00475.JPG',\n",
       " './ICDAR/ICDAR2019_cTDaR/training/TRACKB1/ground_truth\\\\cTDaR_t00476.JPG',\n",
       " './ICDAR/ICDAR2019_cTDaR/training/TRACKB1/ground_truth\\\\cTDaR_t00502.jpg',\n",
       " './ICDAR/ICDAR2019_cTDaR/training/TRACKB1/ground_truth\\\\cTDaR_t00503.jpg',\n",
       " './ICDAR/ICDAR2019_cTDaR/training/TRACKB1/ground_truth\\\\cTDaR_t00504.jpg',\n",
       " './ICDAR/ICDAR2019_cTDaR/training/TRACKB1/ground_truth\\\\cTDaR_t00505.jpg',\n",
       " './ICDAR/ICDAR2019_cTDaR/training/TRACKB1/ground_truth\\\\cTDaR_t00506.jpg',\n",
       " './ICDAR/ICDAR2019_cTDaR/training/TRACKB1/ground_truth\\\\cTDaR_t00507.jpg',\n",
       " './ICDAR/ICDAR2019_cTDaR/training/TRACKB1/ground_truth\\\\cTDaR_t00508.jpg',\n",
       " './ICDAR/ICDAR2019_cTDaR/training/TRACKB1/ground_truth\\\\cTDaR_t00509.jpg',\n",
       " './ICDAR/ICDAR2019_cTDaR/training/TRACKB1/ground_truth\\\\cTDaR_t00510.jpg',\n",
       " './ICDAR/ICDAR2019_cTDaR/training/TRACKB1/ground_truth\\\\cTDaR_t00511.jpg',\n",
       " './ICDAR/ICDAR2019_cTDaR/training/TRACKB1/ground_truth\\\\cTDaR_t00512.jpg',\n",
       " './ICDAR/ICDAR2019_cTDaR/training/TRACKB1/ground_truth\\\\cTDaR_t00513.jpg',\n",
       " './ICDAR/ICDAR2019_cTDaR/training/TRACKB1/ground_truth\\\\cTDaR_t00514.jpg',\n",
       " './ICDAR/ICDAR2019_cTDaR/training/TRACKB1/ground_truth\\\\cTDaR_t00515.jpg',\n",
       " './ICDAR/ICDAR2019_cTDaR/training/TRACKB1/ground_truth\\\\cTDaR_t00516.jpg',\n",
       " './ICDAR/ICDAR2019_cTDaR/training/TRACKB1/ground_truth\\\\cTDaR_t00517.jpg',\n",
       " './ICDAR/ICDAR2019_cTDaR/training/TRACKB1/ground_truth\\\\cTDaR_t00518.jpg',\n",
       " './ICDAR/ICDAR2019_cTDaR/training/TRACKB1/ground_truth\\\\cTDaR_t00519.jpg',\n",
       " './ICDAR/ICDAR2019_cTDaR/training/TRACKB1/ground_truth\\\\cTDaR_t00520.jpg',\n",
       " './ICDAR/ICDAR2019_cTDaR/training/TRACKB1/ground_truth\\\\cTDaR_t00521.jpg',\n",
       " './ICDAR/ICDAR2019_cTDaR/training/TRACKB1/ground_truth\\\\cTDaR_t00522.jpg',\n",
       " './ICDAR/ICDAR2019_cTDaR/training/TRACKB1/ground_truth\\\\cTDaR_t00530.jpg',\n",
       " './ICDAR/ICDAR2019_cTDaR/training/TRACKB1/ground_truth\\\\cTDaR_t00531.jpg',\n",
       " './ICDAR/ICDAR2019_cTDaR/training/TRACKB1/ground_truth\\\\cTDaR_t00532.jpg',\n",
       " './ICDAR/ICDAR2019_cTDaR/training/TRACKB1/ground_truth\\\\cTDaR_t00533.jpg',\n",
       " './ICDAR/ICDAR2019_cTDaR/training/TRACKB1/ground_truth\\\\cTDaR_t00534.jpg',\n",
       " './ICDAR/ICDAR2019_cTDaR/training/TRACKB1/ground_truth\\\\cTDaR_t00535.jpg',\n",
       " './ICDAR/ICDAR2019_cTDaR/training/TRACKB1/ground_truth\\\\cTDaR_t00536.jpg',\n",
       " './ICDAR/ICDAR2019_cTDaR/training/TRACKB1/ground_truth\\\\cTDaR_t00537.jpg',\n",
       " './ICDAR/ICDAR2019_cTDaR/training/TRACKB1/ground_truth\\\\cTDaR_t00538.jpg',\n",
       " './ICDAR/ICDAR2019_cTDaR/training/TRACKB1/ground_truth\\\\cTDaR_t00539.jpg',\n",
       " './ICDAR/ICDAR2019_cTDaR/training/TRACKB1/ground_truth\\\\cTDaR_t00540.jpg',\n",
       " './ICDAR/ICDAR2019_cTDaR/training/TRACKB1/ground_truth\\\\cTDaR_t00541.jpg',\n",
       " './ICDAR/ICDAR2019_cTDaR/training/TRACKB1/ground_truth\\\\cTDaR_t00542.jpg',\n",
       " './ICDAR/ICDAR2019_cTDaR/training/TRACKB1/ground_truth\\\\cTDaR_t00543.jpg',\n",
       " './ICDAR/ICDAR2019_cTDaR/training/TRACKB1/ground_truth\\\\cTDaR_t00544.jpg',\n",
       " './ICDAR/ICDAR2019_cTDaR/training/TRACKB1/ground_truth\\\\cTDaR_t00545.jpg',\n",
       " './ICDAR/ICDAR2019_cTDaR/training/TRACKB1/ground_truth\\\\cTDaR_t00546.jpg',\n",
       " './ICDAR/ICDAR2019_cTDaR/training/TRACKB1/ground_truth\\\\cTDaR_t00547.jpg',\n",
       " './ICDAR/ICDAR2019_cTDaR/training/TRACKB1/ground_truth\\\\cTDaR_t00548.jpg',\n",
       " './ICDAR/ICDAR2019_cTDaR/training/TRACKB1/ground_truth\\\\cTDaR_t00549.jpg',\n",
       " './ICDAR/ICDAR2019_cTDaR/training/TRACKB1/ground_truth\\\\cTDaR_t00550.jpg',\n",
       " './ICDAR/ICDAR2019_cTDaR/training/TRACKB1/ground_truth\\\\cTDaR_t00551.jpg',\n",
       " './ICDAR/ICDAR2019_cTDaR/training/TRACKB1/ground_truth\\\\cTDaR_t00552.jpg',\n",
       " './ICDAR/ICDAR2019_cTDaR/training/TRACKB1/ground_truth\\\\cTDaR_t00553.jpg',\n",
       " './ICDAR/ICDAR2019_cTDaR/training/TRACKB1/ground_truth\\\\cTDaR_t00554.jpg',\n",
       " './ICDAR/ICDAR2019_cTDaR/training/TRACKB1/ground_truth\\\\cTDaR_t00555.jpg',\n",
       " './ICDAR/ICDAR2019_cTDaR/training/TRACKB1/ground_truth\\\\cTDaR_t00556.jpg',\n",
       " './ICDAR/ICDAR2019_cTDaR/training/TRACKB1/ground_truth\\\\cTDaR_t00557.jpg',\n",
       " './ICDAR/ICDAR2019_cTDaR/training/TRACKB1/ground_truth\\\\cTDaR_t00558.jpg',\n",
       " './ICDAR/ICDAR2019_cTDaR/training/TRACKB1/ground_truth\\\\cTDaR_t00559.jpg',\n",
       " './ICDAR/ICDAR2019_cTDaR/training/TRACKB1/ground_truth\\\\cTDaR_t00560.jpg',\n",
       " './ICDAR/ICDAR2019_cTDaR/training/TRACKB1/ground_truth\\\\cTDaR_t00561.jpg',\n",
       " './ICDAR/ICDAR2019_cTDaR/training/TRACKB1/ground_truth\\\\cTDaR_t00562.jpg',\n",
       " './ICDAR/ICDAR2019_cTDaR/training/TRACKB1/ground_truth\\\\cTDaR_t00563.jpg',\n",
       " './ICDAR/ICDAR2019_cTDaR/training/TRACKB1/ground_truth\\\\cTDaR_t00564.jpg',\n",
       " './ICDAR/ICDAR2019_cTDaR/training/TRACKB1/ground_truth\\\\cTDaR_t00565.jpg',\n",
       " './ICDAR/ICDAR2019_cTDaR/training/TRACKB1/ground_truth\\\\cTDaR_t00566.jpg',\n",
       " './ICDAR/ICDAR2019_cTDaR/training/TRACKB1/ground_truth\\\\cTDaR_t00567.jpg',\n",
       " './ICDAR/ICDAR2019_cTDaR/training/TRACKB1/ground_truth\\\\cTDaR_t00568.jpg',\n",
       " './ICDAR/ICDAR2019_cTDaR/training/TRACKB1/ground_truth\\\\cTDaR_t00569.jpg',\n",
       " './ICDAR/ICDAR2019_cTDaR/training/TRACKB1/ground_truth\\\\cTDaR_t00570.jpg',\n",
       " './ICDAR/ICDAR2019_cTDaR/training/TRACKB1/ground_truth\\\\cTDaR_t00571.jpg',\n",
       " './ICDAR/ICDAR2019_cTDaR/training/TRACKB1/ground_truth\\\\cTDaR_t00572.jpg',\n",
       " './ICDAR/ICDAR2019_cTDaR/training/TRACKB1/ground_truth\\\\cTDaR_t00573.jpg',\n",
       " './ICDAR/ICDAR2019_cTDaR/training/TRACKB1/ground_truth\\\\cTDaR_t00574.jpg',\n",
       " './ICDAR/ICDAR2019_cTDaR/training/TRACKB1/ground_truth\\\\cTDaR_t00575.jpg',\n",
       " './ICDAR/ICDAR2019_cTDaR/training/TRACKB1/ground_truth\\\\cTDaR_t00576.jpg',\n",
       " './ICDAR/ICDAR2019_cTDaR/training/TRACKB1/ground_truth\\\\cTDaR_t00577.jpg',\n",
       " './ICDAR/ICDAR2019_cTDaR/training/TRACKB1/ground_truth\\\\cTDaR_t00578.jpg',\n",
       " './ICDAR/ICDAR2019_cTDaR/training/TRACKB1/ground_truth\\\\cTDaR_t00579.jpg',\n",
       " './ICDAR/ICDAR2019_cTDaR/training/TRACKB1/ground_truth\\\\cTDaR_t00580.jpg',\n",
       " './ICDAR/ICDAR2019_cTDaR/training/TRACKB1/ground_truth\\\\cTDaR_t00581.jpg',\n",
       " './ICDAR/ICDAR2019_cTDaR/training/TRACKB1/ground_truth\\\\cTDaR_t00582.jpg',\n",
       " './ICDAR/ICDAR2019_cTDaR/training/TRACKB1/ground_truth\\\\cTDaR_t00583.jpg',\n",
       " './ICDAR/ICDAR2019_cTDaR/training/TRACKB1/ground_truth\\\\cTDaR_t00584.jpg',\n",
       " './ICDAR/ICDAR2019_cTDaR/training/TRACKB1/ground_truth\\\\cTDaR_t00585.jpg',\n",
       " './ICDAR/ICDAR2019_cTDaR/training/TRACKB1/ground_truth\\\\cTDaR_t00586.jpg',\n",
       " './ICDAR/ICDAR2019_cTDaR/training/TRACKB1/ground_truth\\\\cTDaR_t00587.jpg',\n",
       " './ICDAR/ICDAR2019_cTDaR/training/TRACKB1/ground_truth\\\\cTDaR_t00588.jpg',\n",
       " './ICDAR/ICDAR2019_cTDaR/training/TRACKB1/ground_truth\\\\cTDaR_t00589.jpg',\n",
       " './ICDAR/ICDAR2019_cTDaR/training/TRACKB1/ground_truth\\\\cTDaR_t00590.jpg',\n",
       " './ICDAR/ICDAR2019_cTDaR/training/TRACKB1/ground_truth\\\\cTDaR_t00591.jpg',\n",
       " './ICDAR/ICDAR2019_cTDaR/training/TRACKB1/ground_truth\\\\cTDaR_t00592.jpg',\n",
       " './ICDAR/ICDAR2019_cTDaR/training/TRACKB1/ground_truth\\\\cTDaR_t00593.jpg',\n",
       " './ICDAR/ICDAR2019_cTDaR/training/TRACKB1/ground_truth\\\\cTDaR_t00594.jpg',\n",
       " './ICDAR/ICDAR2019_cTDaR/training/TRACKB1/ground_truth\\\\cTDaR_t00595.jpg',\n",
       " './ICDAR/ICDAR2019_cTDaR/training/TRACKB1/ground_truth\\\\cTDaR_t00596.jpg',\n",
       " './ICDAR/ICDAR2019_cTDaR/training/TRACKB1/ground_truth\\\\cTDaR_t00597.jpg',\n",
       " './ICDAR/ICDAR2019_cTDaR/training/TRACKB1/ground_truth\\\\cTDaR_t00598.jpg',\n",
       " './ICDAR/ICDAR2019_cTDaR/training/TRACKB1/ground_truth\\\\cTDaR_t00599.jpg',\n",
       " './ICDAR/ICDAR2019_cTDaR/training/TRACKB1/ground_truth\\\\cTDaR_t00600.jpg',\n",
       " './ICDAR/ICDAR2019_cTDaR/training/TRACKB1/ground_truth\\\\cTDaR_t00601.jpg',\n",
       " './ICDAR/ICDAR2019_cTDaR/training/TRACKB1/ground_truth\\\\cTDaR_t00602.jpg',\n",
       " './ICDAR/ICDAR2019_cTDaR/training/TRACKB1/ground_truth\\\\cTDaR_t00603.jpg',\n",
       " './ICDAR/ICDAR2019_cTDaR/training/TRACKB1/ground_truth\\\\cTDaR_t00604.jpg',\n",
       " './ICDAR/ICDAR2019_cTDaR/training/TRACKB1/ground_truth\\\\cTDaR_t00605.jpg',\n",
       " './ICDAR/ICDAR2019_cTDaR/training/TRACKB1/ground_truth\\\\cTDaR_t00606.jpg',\n",
       " './ICDAR/ICDAR2019_cTDaR/training/TRACKB1/ground_truth\\\\cTDaR_t00607.jpg',\n",
       " './ICDAR/ICDAR2019_cTDaR/training/TRACKB1/ground_truth\\\\cTDaR_t00608.jpg',\n",
       " './ICDAR/ICDAR2019_cTDaR/training/TRACKB1/ground_truth\\\\cTDaR_t00609.jpg',\n",
       " './ICDAR/ICDAR2019_cTDaR/training/TRACKB1/ground_truth\\\\cTDaR_t00610.jpg',\n",
       " './ICDAR/ICDAR2019_cTDaR/training/TRACKB1/ground_truth\\\\cTDaR_t00611.jpg',\n",
       " './ICDAR/ICDAR2019_cTDaR/training/TRACKB1/ground_truth\\\\cTDaR_t00612.jpg',\n",
       " './ICDAR/ICDAR2019_cTDaR/training/TRACKB1/ground_truth\\\\cTDaR_t00613.jpg',\n",
       " './ICDAR/ICDAR2019_cTDaR/training/TRACKB1/ground_truth\\\\cTDaR_t00614.jpg',\n",
       " './ICDAR/ICDAR2019_cTDaR/training/TRACKB1/ground_truth\\\\cTDaR_t00615.jpg',\n",
       " './ICDAR/ICDAR2019_cTDaR/training/TRACKB1/ground_truth\\\\cTDaR_t00616.jpg',\n",
       " './ICDAR/ICDAR2019_cTDaR/training/TRACKB1/ground_truth\\\\cTDaR_t00617.jpg',\n",
       " './ICDAR/ICDAR2019_cTDaR/training/TRACKB1/ground_truth\\\\cTDaR_t00618.jpg',\n",
       " './ICDAR/ICDAR2019_cTDaR/training/TRACKB1/ground_truth\\\\cTDaR_t00619.jpg',\n",
       " './ICDAR/ICDAR2019_cTDaR/training/TRACKB1/ground_truth\\\\cTDaR_t00620.jpg',\n",
       " './ICDAR/ICDAR2019_cTDaR/training/TRACKB1/ground_truth\\\\cTDaR_t00641.jpg',\n",
       " './ICDAR/ICDAR2019_cTDaR/training/TRACKB1/ground_truth\\\\cTDaR_t00642.jpg',\n",
       " './ICDAR/ICDAR2019_cTDaR/training/TRACKB1/ground_truth\\\\cTDaR_t00643.jpg',\n",
       " './ICDAR/ICDAR2019_cTDaR/training/TRACKB1/ground_truth\\\\cTDaR_t00644.jpg',\n",
       " './ICDAR/ICDAR2019_cTDaR/training/TRACKB1/ground_truth\\\\cTDaR_t00645.jpg',\n",
       " './ICDAR/ICDAR2019_cTDaR/training/TRACKB1/ground_truth\\\\cTDaR_t00646.jpg',\n",
       " './ICDAR/ICDAR2019_cTDaR/training/TRACKB1/ground_truth\\\\cTDaR_t00647.jpg',\n",
       " './ICDAR/ICDAR2019_cTDaR/training/TRACKB1/ground_truth\\\\cTDaR_t00650.JPG',\n",
       " './ICDAR/ICDAR2019_cTDaR/training/TRACKB1/ground_truth\\\\cTDaR_t00651.jpg',\n",
       " './ICDAR/ICDAR2019_cTDaR/training/TRACKB1/ground_truth\\\\cTDaR_t00652.jpg',\n",
       " './ICDAR/ICDAR2019_cTDaR/training/TRACKB1/ground_truth\\\\cTDaR_t00653.jpg',\n",
       " './ICDAR/ICDAR2019_cTDaR/training/TRACKB1/ground_truth\\\\cTDaR_t00654.jpg',\n",
       " './ICDAR/ICDAR2019_cTDaR/training/TRACKB1/ground_truth\\\\cTDaR_t00655.jpg',\n",
       " './ICDAR/ICDAR2019_cTDaR/training/TRACKB1/ground_truth\\\\cTDaR_t00656.JPG',\n",
       " './ICDAR/ICDAR2019_cTDaR/training/TRACKB1/ground_truth\\\\cTDaR_t00657.jpg',\n",
       " './ICDAR/ICDAR2019_cTDaR/training/TRACKB1/ground_truth\\\\cTDaR_t00658.jpg',\n",
       " './ICDAR/ICDAR2019_cTDaR/training/TRACKB1/ground_truth\\\\cTDaR_t00662.jpg',\n",
       " './ICDAR/ICDAR2019_cTDaR/training/TRACKB1/ground_truth\\\\cTDaR_t00663.jpg',\n",
       " './ICDAR/ICDAR2019_cTDaR/training/TRACKB1/ground_truth\\\\cTDaR_t00664.jpg',\n",
       " './ICDAR/ICDAR2019_cTDaR/training/TRACKB1/ground_truth\\\\cTDaR_t00665.jpg',\n",
       " './ICDAR/ICDAR2019_cTDaR/training/TRACKB1/ground_truth\\\\cTDaR_t00666.jpg',\n",
       " './ICDAR/ICDAR2019_cTDaR/training/TRACKB1/ground_truth\\\\cTDaR_t00667.jpg',\n",
       " './ICDAR/ICDAR2019_cTDaR/training/TRACKB1/ground_truth\\\\cTDaR_t00668.jpg',\n",
       " './ICDAR/ICDAR2019_cTDaR/training/TRACKB1/ground_truth\\\\cTDaR_t00669.jpg',\n",
       " './ICDAR/ICDAR2019_cTDaR/training/TRACKB1/ground_truth\\\\cTDaR_t00670.jpg',\n",
       " './ICDAR/ICDAR2019_cTDaR/training/TRACKB1/ground_truth\\\\cTDaR_t00671.jpg',\n",
       " './ICDAR/ICDAR2019_cTDaR/training/TRACKB1/ground_truth\\\\cTDaR_t00672.jpg',\n",
       " './ICDAR/ICDAR2019_cTDaR/training/TRACKB1/ground_truth\\\\cTDaR_t00673.jpg',\n",
       " './ICDAR/ICDAR2019_cTDaR/training/TRACKB1/ground_truth\\\\cTDaR_t00674.jpg',\n",
       " './ICDAR/ICDAR2019_cTDaR/training/TRACKB1/ground_truth\\\\cTDaR_t00675.jpg',\n",
       " './ICDAR/ICDAR2019_cTDaR/training/TRACKB1/ground_truth\\\\cTDaR_t00676.jpg',\n",
       " './ICDAR/ICDAR2019_cTDaR/training/TRACKB1/ground_truth\\\\cTDaR_t00677.jpg',\n",
       " './ICDAR/ICDAR2019_cTDaR/training/TRACKB1/ground_truth\\\\cTDaR_t00678.jpg',\n",
       " './ICDAR/ICDAR2019_cTDaR/training/TRACKB1/ground_truth\\\\cTDaR_t00679.jpg',\n",
       " './ICDAR/ICDAR2019_cTDaR/training/TRACKB1/ground_truth\\\\cTDaR_t00708.jpg',\n",
       " './ICDAR/ICDAR2019_cTDaR/training/TRACKB1/ground_truth\\\\cTDaR_t00709.jpg',\n",
       " './ICDAR/ICDAR2019_cTDaR/training/TRACKB1/ground_truth\\\\cTDaR_t00710.jpg',\n",
       " './ICDAR/ICDAR2019_cTDaR/training/TRACKB1/ground_truth\\\\cTDaR_t00711.jpg',\n",
       " './ICDAR/ICDAR2019_cTDaR/training/TRACKB1/ground_truth\\\\cTDaR_t00712.jpg',\n",
       " './ICDAR/ICDAR2019_cTDaR/training/TRACKB1/ground_truth\\\\cTDaR_t00713.jpg',\n",
       " './ICDAR/ICDAR2019_cTDaR/training/TRACKB1/ground_truth\\\\cTDaR_t00714.jpg',\n",
       " './ICDAR/ICDAR2019_cTDaR/training/TRACKB1/ground_truth\\\\cTDaR_t00715.jpg',\n",
       " './ICDAR/ICDAR2019_cTDaR/training/TRACKB1/ground_truth\\\\cTDaR_t00716.jpg',\n",
       " './ICDAR/ICDAR2019_cTDaR/training/TRACKB1/ground_truth\\\\cTDaR_t00717.jpg',\n",
       " './ICDAR/ICDAR2019_cTDaR/training/TRACKB1/ground_truth\\\\cTDaR_t00718.jpg',\n",
       " './ICDAR/ICDAR2019_cTDaR/training/TRACKB1/ground_truth\\\\cTDaR_t00719.jpg',\n",
       " './ICDAR/ICDAR2019_cTDaR/training/TRACKB1/ground_truth\\\\cTDaR_t00760.jpg',\n",
       " './ICDAR/ICDAR2019_cTDaR/training/TRACKB1/ground_truth\\\\cTDaR_t00761.jpg',\n",
       " './ICDAR/ICDAR2019_cTDaR/training/TRACKB1/ground_truth\\\\cTDaR_t00762.jpg',\n",
       " './ICDAR/ICDAR2019_cTDaR/training/TRACKB1/ground_truth\\\\cTDaR_t00763.jpg',\n",
       " './ICDAR/ICDAR2019_cTDaR/training/TRACKB1/ground_truth\\\\cTDaR_t00764.jpg',\n",
       " './ICDAR/ICDAR2019_cTDaR/training/TRACKB1/ground_truth\\\\cTDaR_t00765.jpg',\n",
       " './ICDAR/ICDAR2019_cTDaR/training/TRACKB1/ground_truth\\\\cTDaR_t00766.jpg',\n",
       " './ICDAR/ICDAR2019_cTDaR/training/TRACKB1/ground_truth\\\\cTDaR_t00767.jpg',\n",
       " './ICDAR/ICDAR2019_cTDaR/training/TRACKB1/ground_truth\\\\cTDaR_t00768.jpg',\n",
       " './ICDAR/ICDAR2019_cTDaR/training/TRACKB1/ground_truth\\\\cTDaR_t00769.jpg',\n",
       " './ICDAR/ICDAR2019_cTDaR/training/TRACKB1/ground_truth\\\\cTDaR_t00770.jpg',\n",
       " './ICDAR/ICDAR2019_cTDaR/training/TRACKB1/ground_truth\\\\cTDaR_t00771.jpg',\n",
       " './ICDAR/ICDAR2019_cTDaR/training/TRACKB1/ground_truth\\\\cTDaR_t00772.jpg',\n",
       " './ICDAR/ICDAR2019_cTDaR/training/TRACKB1/ground_truth\\\\cTDaR_t00799.jpg',\n",
       " './ICDAR/ICDAR2019_cTDaR/training/TRACKB1/ground_truth\\\\cTDaR_t00800.jpg',\n",
       " './ICDAR/ICDAR2019_cTDaR/training/TRACKB1/ground_truth\\\\cTDaR_t00801.jpg',\n",
       " './ICDAR/ICDAR2019_cTDaR/training/TRACKB1/ground_truth\\\\cTDaR_t00802.jpg',\n",
       " './ICDAR/ICDAR2019_cTDaR/training/TRACKB1/ground_truth\\\\cTDaR_t00803.jpg',\n",
       " './ICDAR/ICDAR2019_cTDaR/training/TRACKB1/ground_truth\\\\cTDaR_t00804.jpg',\n",
       " './ICDAR/ICDAR2019_cTDaR/training/TRACKB1/ground_truth\\\\cTDaR_t00805.jpg',\n",
       " './ICDAR/ICDAR2019_cTDaR/training/TRACKB1/ground_truth\\\\cTDaR_t00806.jpg',\n",
       " './ICDAR/ICDAR2019_cTDaR/training/TRACKB1/ground_truth\\\\cTDaR_t00807.jpg',\n",
       " './ICDAR/ICDAR2019_cTDaR/training/TRACKB1/ground_truth\\\\cTDaR_t00808.jpg',\n",
       " './ICDAR/ICDAR2019_cTDaR/training/TRACKB1/ground_truth\\\\cTDaR_t00809.jpg',\n",
       " './ICDAR/ICDAR2019_cTDaR/training/TRACKB1/ground_truth\\\\cTDaR_t00841.jpg',\n",
       " './ICDAR/ICDAR2019_cTDaR/training/TRACKB1/ground_truth\\\\cTDaR_t00842.jpg',\n",
       " './ICDAR/ICDAR2019_cTDaR/training/TRACKB1/ground_truth\\\\cTDaR_t00843.jpg',\n",
       " './ICDAR/ICDAR2019_cTDaR/training/TRACKB1/ground_truth\\\\cTDaR_t00844.jpg',\n",
       " './ICDAR/ICDAR2019_cTDaR/training/TRACKB1/ground_truth\\\\cTDaR_t00845.jpg',\n",
       " './ICDAR/ICDAR2019_cTDaR/training/TRACKB1/ground_truth\\\\cTDaR_t00846.jpg',\n",
       " './ICDAR/ICDAR2019_cTDaR/training/TRACKB1/ground_truth\\\\cTDaR_t00851.jpg',\n",
       " './ICDAR/ICDAR2019_cTDaR/training/TRACKB1/ground_truth\\\\cTDaR_t00852.jpg',\n",
       " './ICDAR/ICDAR2019_cTDaR/training/TRACKB1/ground_truth\\\\cTDaR_t00853.jpg',\n",
       " './ICDAR/ICDAR2019_cTDaR/training/TRACKB1/ground_truth\\\\cTDaR_t00854.jpg',\n",
       " './ICDAR/ICDAR2019_cTDaR/training/TRACKB1/ground_truth\\\\cTDaR_t00855.jpg',\n",
       " './ICDAR/ICDAR2019_cTDaR/training/TRACKB1/ground_truth\\\\cTDaR_t00856.jpg',\n",
       " './ICDAR/ICDAR2019_cTDaR/training/TRACKB1/ground_truth\\\\cTDaR_t00857.jpg',\n",
       " './ICDAR/ICDAR2019_cTDaR/training/TRACKB1/ground_truth\\\\cTDaR_t00860.jpg',\n",
       " './ICDAR/ICDAR2019_cTDaR/training/TRACKB1/ground_truth\\\\cTDaR_t00861.jpg',\n",
       " './ICDAR/ICDAR2019_cTDaR/training/TRACKB1/ground_truth\\\\cTDaR_t00862.jpg',\n",
       " './ICDAR/ICDAR2019_cTDaR/training/TRACKB1/ground_truth\\\\cTDaR_t00863.jpg',\n",
       " './ICDAR/ICDAR2019_cTDaR/training/TRACKB1/ground_truth\\\\cTDaR_t00864.jpg',\n",
       " './ICDAR/ICDAR2019_cTDaR/training/TRACKB1/ground_truth\\\\cTDaR_t00865.jpg',\n",
       " './ICDAR/ICDAR2019_cTDaR/training/TRACKB1/ground_truth\\\\cTDaR_t00866.jpg',\n",
       " './ICDAR/ICDAR2019_cTDaR/training/TRACKB1/ground_truth\\\\cTDaR_t00867.jpg',\n",
       " './ICDAR/ICDAR2019_cTDaR/training/TRACKB1/ground_truth\\\\cTDaR_t00868.jpg',\n",
       " './ICDAR/ICDAR2019_cTDaR/training/TRACKB1/ground_truth\\\\cTDaR_t00869.jpg',\n",
       " './ICDAR/ICDAR2019_cTDaR/training/TRACKB1/ground_truth\\\\cTDaR_t00870.jpg',\n",
       " './ICDAR/ICDAR2019_cTDaR/training/TRACKB1/ground_truth\\\\cTDaR_t00871.jpg',\n",
       " './ICDAR/ICDAR2019_cTDaR/training/TRACKB1/ground_truth\\\\cTDaR_t00872.jpg',\n",
       " './ICDAR/ICDAR2019_cTDaR/training/TRACKB1/ground_truth\\\\cTDaR_t00873.jpg',\n",
       " './ICDAR/ICDAR2019_cTDaR/training/TRACKB1/ground_truth\\\\cTDaR_t00874.jpg',\n",
       " './ICDAR/ICDAR2019_cTDaR/training/TRACKB1/ground_truth\\\\cTDaR_t00875.jpg',\n",
       " './ICDAR/ICDAR2019_cTDaR/training/TRACKB1/ground_truth\\\\cTDaR_t00876.jpg',\n",
       " './ICDAR/ICDAR2019_cTDaR/training/TRACKB1/ground_truth\\\\cTDaR_t00877.jpg',\n",
       " './ICDAR/ICDAR2019_cTDaR/training/TRACKB1/ground_truth\\\\cTDaR_t00878.jpg',\n",
       " './ICDAR/ICDAR2019_cTDaR/training/TRACKB1/ground_truth\\\\cTDaR_t00879.jpg',\n",
       " './ICDAR/ICDAR2019_cTDaR/training/TRACKB1/ground_truth\\\\cTDaR_t00880.jpg',\n",
       " './ICDAR/ICDAR2019_cTDaR/training/TRACKB1/ground_truth\\\\cTDaR_t00881.jpg',\n",
       " './ICDAR/ICDAR2019_cTDaR/training/TRACKB1/ground_truth\\\\cTDaR_t00882.jpg',\n",
       " './ICDAR/ICDAR2019_cTDaR/training/TRACKB1/ground_truth\\\\cTDaR_t00883.jpg',\n",
       " './ICDAR/ICDAR2019_cTDaR/training/TRACKB1/ground_truth\\\\cTDaR_t00884.jpg',\n",
       " './ICDAR/ICDAR2019_cTDaR/training/TRACKB1/ground_truth\\\\cTDaR_t00885.jpg',\n",
       " './ICDAR/ICDAR2019_cTDaR/training/TRACKB1/ground_truth\\\\cTDaR_t00886.jpg',\n",
       " './ICDAR/ICDAR2019_cTDaR/training/TRACKB1/ground_truth\\\\cTDaR_t00887.jpg',\n",
       " './ICDAR/ICDAR2019_cTDaR/training/TRACKB1/ground_truth\\\\cTDaR_t00888.jpg',\n",
       " './ICDAR/ICDAR2019_cTDaR/training/TRACKB1/ground_truth\\\\cTDaR_t00889.jpg',\n",
       " './ICDAR/ICDAR2019_cTDaR/training/TRACKB1/ground_truth\\\\cTDaR_t00890.jpg',\n",
       " './ICDAR/ICDAR2019_cTDaR/training/TRACKB1/ground_truth\\\\cTDaR_t00891.jpg',\n",
       " './ICDAR/ICDAR2019_cTDaR/training/TRACKB1/ground_truth\\\\cTDaR_t00892.jpg',\n",
       " './ICDAR/ICDAR2019_cTDaR/training/TRACKB1/ground_truth\\\\cTDaR_t00893.jpg',\n",
       " './ICDAR/ICDAR2019_cTDaR/training/TRACKB1/ground_truth\\\\cTDaR_t00894.jpg',\n",
       " './ICDAR/ICDAR2019_cTDaR/training/TRACKB1/ground_truth\\\\cTDaR_t00895.jpg',\n",
       " './ICDAR/ICDAR2019_cTDaR/training/TRACKB1/ground_truth\\\\cTDaR_t00896.jpg',\n",
       " './ICDAR/ICDAR2019_cTDaR/training/TRACKB1/ground_truth\\\\cTDaR_t00897.jpg',\n",
       " './ICDAR/ICDAR2019_cTDaR/training/TRACKB1/ground_truth\\\\cTDaR_t00898.jpg',\n",
       " './ICDAR/ICDAR2019_cTDaR/training/TRACKB1/ground_truth\\\\cTDaR_t00899.jpg',\n",
       " './ICDAR/ICDAR2019_cTDaR/training/TRACKB1/ground_truth\\\\cTDaR_t00900.jpg',\n",
       " './ICDAR/ICDAR2019_cTDaR/training/TRACKB1/ground_truth\\\\cTDaR_t00901.jpg',\n",
       " './ICDAR/ICDAR2019_cTDaR/training/TRACKB1/ground_truth\\\\cTDaR_t00902.jpg',\n",
       " './ICDAR/ICDAR2019_cTDaR/training/TRACKB1/ground_truth\\\\cTDaR_t00903.jpg',\n",
       " './ICDAR/ICDAR2019_cTDaR/training/TRACKB1/ground_truth\\\\cTDaR_t00904.jpg',\n",
       " './ICDAR/ICDAR2019_cTDaR/training/TRACKB1/ground_truth\\\\cTDaR_t00905.jpg',\n",
       " './ICDAR/ICDAR2019_cTDaR/training/TRACKB1/ground_truth\\\\cTDaR_t00906.jpg',\n",
       " './ICDAR/ICDAR2019_cTDaR/training/TRACKB1/ground_truth\\\\cTDaR_t00907.jpg',\n",
       " './ICDAR/ICDAR2019_cTDaR/training/TRACKB1/ground_truth\\\\cTDaR_t00908.jpg',\n",
       " './ICDAR/ICDAR2019_cTDaR/training/TRACKB1/ground_truth\\\\cTDaR_t00909.jpg',\n",
       " './ICDAR/ICDAR2019_cTDaR/training/TRACKB1/ground_truth\\\\cTDaR_t00910.jpg',\n",
       " './ICDAR/ICDAR2019_cTDaR/training/TRACKB1/ground_truth\\\\cTDaR_t00911.jpg',\n",
       " './ICDAR/ICDAR2019_cTDaR/training/TRACKB1/ground_truth\\\\cTDaR_t00912.jpg',\n",
       " './ICDAR/ICDAR2019_cTDaR/training/TRACKB1/ground_truth\\\\cTDaR_t00913.jpg',\n",
       " './ICDAR/ICDAR2019_cTDaR/training/TRACKB1/ground_truth\\\\cTDaR_t00914.jpg',\n",
       " './ICDAR/ICDAR2019_cTDaR/training/TRACKB1/ground_truth\\\\cTDaR_t00915.jpg',\n",
       " './ICDAR/ICDAR2019_cTDaR/training/TRACKB1/ground_truth\\\\cTDaR_t00916.jpg',\n",
       " './ICDAR/ICDAR2019_cTDaR/training/TRACKB1/ground_truth\\\\cTDaR_t00917.jpg',\n",
       " './ICDAR/ICDAR2019_cTDaR/training/TRACKB1/ground_truth\\\\cTDaR_t00918.jpg',\n",
       " './ICDAR/ICDAR2019_cTDaR/training/TRACKB1/ground_truth\\\\cTDaR_t00919.jpg',\n",
       " './ICDAR/ICDAR2019_cTDaR/training/TRACKB1/ground_truth\\\\cTDaR_t00920.jpg',\n",
       " './ICDAR/ICDAR2019_cTDaR/training/TRACKB1/ground_truth\\\\cTDaR_t00921.jpg',\n",
       " './ICDAR/ICDAR2019_cTDaR/training/TRACKB1/ground_truth\\\\cTDaR_t00922.jpg',\n",
       " './ICDAR/ICDAR2019_cTDaR/training/TRACKB1/ground_truth\\\\cTDaR_t00923.jpg',\n",
       " './ICDAR/ICDAR2019_cTDaR/training/TRACKB1/ground_truth\\\\cTDaR_t00924.jpg',\n",
       " './ICDAR/ICDAR2019_cTDaR/training/TRACKB1/ground_truth\\\\cTDaR_t00925.jpg',\n",
       " './ICDAR/ICDAR2019_cTDaR/training/TRACKB1/ground_truth\\\\cTDaR_t00926.jpg',\n",
       " './ICDAR/ICDAR2019_cTDaR/training/TRACKB1/ground_truth\\\\cTDaR_t00927.jpg',\n",
       " './ICDAR/ICDAR2019_cTDaR/training/TRACKB1/ground_truth\\\\cTDaR_t00928.jpg',\n",
       " './ICDAR/ICDAR2019_cTDaR/training/TRACKB1/ground_truth\\\\cTDaR_t00929.jpg',\n",
       " './ICDAR/ICDAR2019_cTDaR/training/TRACKB1/ground_truth\\\\cTDaR_t00930.jpg']"
      ]
     },
     "execution_count": 63,
     "metadata": {},
     "output_type": "execute_result"
    }
   ],
   "source": [
    "jpgs"
   ]
  },
  {
   "cell_type": "code",
   "execution_count": 52,
   "metadata": {},
   "outputs": [],
   "source": [
    "# Convert a PNG image to JPEG\n",
    "def convert_png_to_jpg(png_file, jpg_file):\n",
    "  \"\"\"Converts a PNG image to a JPEG image.\n",
    "\n",
    "  Args:\n",
    "    png_file: The path to the PNG image file.\n",
    "    jpg_file: The path to the JPEG image file.\n",
    "  \"\"\"\n",
    "\n",
    "  # Open the PNG image.\n",
    "  img = Image.open(png_file)\n",
    "\n",
    "  # Convert the image to JPEG.\n",
    "  img.convert(\"RGB\").save(jpg_file, \"JPEG\")\n",
    "\n",
    "# Convert a TIFF image to JPEG\n",
    "def convert_tiff_to_jpg(tiff_file, jpg_file):\n",
    "  \"\"\"Converts a TIFF image to a JPEG image.\n",
    "\n",
    "  Args:\n",
    "    tiff_file: The path to the TIFF image file.\n",
    "    jpg_file: The path to the JPEG image file.\n",
    "  \"\"\"\n",
    "\n",
    "  # Open the TIFF image.\n",
    "  img = Image.open(tiff_file)\n",
    "\n",
    "  # Convert the image to JPEG.\n",
    "  img.convert(\"RGB\").save(jpg_file, \"JPEG\")\n",
    "\n",
    "# Example usage:\n",
    "\n",
    "# convert_png_to_jpg(\"image.png\", \"image.jpg\")\n",
    "# convert_tiff_to_jpg(\"image.tif\", \"image.jpg\")"
   ]
  },
  {
   "cell_type": "code",
   "execution_count": 64,
   "metadata": {},
   "outputs": [],
   "source": [
    "tifs = glob.glob('./ICDAR/ICDAR2019_cTDaR/training/TRACKB1/ground_truth' + '/*.TIFF')\n",
    "pngs = glob.glob('./ICDAR/ICDAR2019_cTDaR/training/TRACKB1/ground_truth' + '/*.png')"
   ]
  },
  {
   "cell_type": "code",
   "execution_count": null,
   "metadata": {},
   "outputs": [],
   "source": [
    "tifs"
   ]
  },
  {
   "cell_type": "code",
   "execution_count": 66,
   "metadata": {},
   "outputs": [
    {
     "name": "stdout",
     "output_type": "stream",
     "text": [
      "./ICDAR/ICDAR2019_cTDaR/training/TRACKB1/ground_truth\\cTDaR_t00815.jpg\n",
      "./ICDAR/ICDAR2019_cTDaR/training/TRACKB1/ground_truth\\cTDaR_t00816.jpg\n",
      "./ICDAR/ICDAR2019_cTDaR/training/TRACKB1/ground_truth\\cTDaR_t00817.jpg\n",
      "./ICDAR/ICDAR2019_cTDaR/training/TRACKB1/ground_truth\\cTDaR_t00818.jpg\n",
      "./ICDAR/ICDAR2019_cTDaR/training/TRACKB1/ground_truth\\cTDaR_t00819.jpg\n",
      "./ICDAR/ICDAR2019_cTDaR/training/TRACKB1/ground_truth\\cTDaR_t00820.jpg\n",
      "./ICDAR/ICDAR2019_cTDaR/training/TRACKB1/ground_truth\\cTDaR_t00821.jpg\n",
      "./ICDAR/ICDAR2019_cTDaR/training/TRACKB1/ground_truth\\cTDaR_t00822.jpg\n",
      "./ICDAR/ICDAR2019_cTDaR/training/TRACKB1/ground_truth\\cTDaR_t00823.jpg\n",
      "./ICDAR/ICDAR2019_cTDaR/training/TRACKB1/ground_truth\\cTDaR_t00824.jpg\n",
      "./ICDAR/ICDAR2019_cTDaR/training/TRACKB1/ground_truth\\cTDaR_t00825.jpg\n",
      "./ICDAR/ICDAR2019_cTDaR/training/TRACKB1/ground_truth\\cTDaR_t00826.jpg\n",
      "./ICDAR/ICDAR2019_cTDaR/training/TRACKB1/ground_truth\\cTDaR_t00827.jpg\n"
     ]
    }
   ],
   "source": [
    "for i in tifs:\n",
    "    input_path = i\n",
    "    output_path = input_path.replace('.TIFF', '.jpg')\n",
    "    convert_tiff_to_jpg(input_path, output_path)\n",
    "    print(output_path)\n",
    "    \n"
   ]
  },
  {
   "cell_type": "code",
   "execution_count": 67,
   "metadata": {},
   "outputs": [
    {
     "name": "stdout",
     "output_type": "stream",
     "text": [
      "./ICDAR/ICDAR2019_cTDaR/training/TRACKB1/ground_truth\\cTDaR_t00198.jpg\n",
      "./ICDAR/ICDAR2019_cTDaR/training/TRACKB1/ground_truth\\cTDaR_t00228.jpg\n",
      "./ICDAR/ICDAR2019_cTDaR/training/TRACKB1/ground_truth\\cTDaR_t00229.jpg\n",
      "./ICDAR/ICDAR2019_cTDaR/training/TRACKB1/ground_truth\\cTDaR_t00230.jpg\n",
      "./ICDAR/ICDAR2019_cTDaR/training/TRACKB1/ground_truth\\cTDaR_t00231.jpg\n",
      "./ICDAR/ICDAR2019_cTDaR/training/TRACKB1/ground_truth\\cTDaR_t00232.jpg\n",
      "./ICDAR/ICDAR2019_cTDaR/training/TRACKB1/ground_truth\\cTDaR_t00233.jpg\n",
      "./ICDAR/ICDAR2019_cTDaR/training/TRACKB1/ground_truth\\cTDaR_t00234.jpg\n",
      "./ICDAR/ICDAR2019_cTDaR/training/TRACKB1/ground_truth\\cTDaR_t00235.jpg\n",
      "./ICDAR/ICDAR2019_cTDaR/training/TRACKB1/ground_truth\\cTDaR_t00236.jpg\n",
      "./ICDAR/ICDAR2019_cTDaR/training/TRACKB1/ground_truth\\cTDaR_t00237.jpg\n",
      "./ICDAR/ICDAR2019_cTDaR/training/TRACKB1/ground_truth\\cTDaR_t00238.jpg\n",
      "./ICDAR/ICDAR2019_cTDaR/training/TRACKB1/ground_truth\\cTDaR_t00239.jpg\n",
      "./ICDAR/ICDAR2019_cTDaR/training/TRACKB1/ground_truth\\cTDaR_t00240.jpg\n",
      "./ICDAR/ICDAR2019_cTDaR/training/TRACKB1/ground_truth\\cTDaR_t00241.jpg\n",
      "./ICDAR/ICDAR2019_cTDaR/training/TRACKB1/ground_truth\\cTDaR_t00242.jpg\n",
      "./ICDAR/ICDAR2019_cTDaR/training/TRACKB1/ground_truth\\cTDaR_t00243.jpg\n",
      "./ICDAR/ICDAR2019_cTDaR/training/TRACKB1/ground_truth\\cTDaR_t00244.jpg\n",
      "./ICDAR/ICDAR2019_cTDaR/training/TRACKB1/ground_truth\\cTDaR_t00245.jpg\n",
      "./ICDAR/ICDAR2019_cTDaR/training/TRACKB1/ground_truth\\cTDaR_t00246.jpg\n",
      "./ICDAR/ICDAR2019_cTDaR/training/TRACKB1/ground_truth\\cTDaR_t00247.jpg\n",
      "./ICDAR/ICDAR2019_cTDaR/training/TRACKB1/ground_truth\\cTDaR_t00501.jpg\n"
     ]
    }
   ],
   "source": [
    "for i in pngs:\n",
    "    input_path = i\n",
    "    output_path = input_path.replace('.png', '.jpg')\n",
    "    convert_png_to_jpg(input_path, output_path)\n",
    "    print(output_path)"
   ]
  },
  {
   "cell_type": "code",
   "execution_count": 73,
   "metadata": {},
   "outputs": [
    {
     "data": {
      "text/plain": [
       "600"
      ]
     },
     "execution_count": 73,
     "metadata": {},
     "output_type": "execute_result"
    }
   ],
   "source": [
    "len(xmls)"
   ]
  },
  {
   "cell_type": "code",
   "execution_count": 74,
   "metadata": {},
   "outputs": [
    {
     "data": {
      "text/plain": [
       "600"
      ]
     },
     "execution_count": 74,
     "metadata": {},
     "output_type": "execute_result"
    }
   ],
   "source": [
    "len(jpgs)"
   ]
  },
  {
   "cell_type": "code",
   "execution_count": 72,
   "metadata": {},
   "outputs": [
    {
     "data": {
      "image/png": "[encoded data removed]",
      "text/plain": [
       "<Figure size 1000x500 with 1 Axes>"
      ]
     },
     "metadata": {},
     "output_type": "display_data"
    }
   ],
   "source": [
    "fig = plt.figure(figsize = (10, 5))\n",
    "\n",
    "x = ['XML', 'JPG']\n",
    "y = [len(xmls), len(jpgs)]\n",
    "plt.bar(x, y,width = 0.4)\n",
    "plt.title('Distribution of Image files and Ground Truth')\n",
    "plt.show()"
   ]
  },
  {
   "cell_type": "code",
   "execution_count": 7,
   "metadata": {},
   "outputs": [],
   "source": [
    "new_h, new_w = 1024, 1024"
   ]
  },
  {
   "cell_type": "code",
   "execution_count": null,
   "metadata": {},
   "outputs": [],
   "source": [
    "def trailplot(resultant, image_path, pathtosave):\n",
    "# Define the size of the bitmap\n",
    "  width, height = get_image_dimensions(image_path)\n",
    "\n",
    "# Create a blank black image\n",
    "  img = Image.new('RGB', (width, height), color='black')\n",
    "  draw = ImageDraw.Draw(img)\n",
    "\n",
    "# Define the closed areas\n",
    "  closed_areas = resultant\n",
    "# Draw the closed areas in white\n",
    "  for area in closed_areas:\n",
    "    draw.polygon(area, fill='white')\n",
    "\n",
    "# Save the image\n",
    "  img.save(pathtosave)"
   ]
  },
  {
   "cell_type": "markdown",
   "metadata": {},
   "source": [
    "## Data Preprocessing"
   ]
  },
  {
   "cell_type": "code",
   "execution_count": 86,
   "metadata": {},
   "outputs": [],
   "source": [
    "import xml.etree.ElementTree as ET\n"
   ]
  },
  {
   "cell_type": "code",
   "execution_count": 85,
   "metadata": {},
   "outputs": [
    {
     "name": "stderr",
     "output_type": "stream",
     "text": [
      "1it [00:00,  3.57it/s]"
     ]
    },
    {
     "name": "stdout",
     "output_type": "stream",
     "text": [
      ".\\ICDAR\\ICDAR2019_cTDaR/training\\TRACKB1\\ground_truth\\cTDaR_t00000.xml 4912 3584\n"
     ]
    },
    {
     "name": "stderr",
     "output_type": "stream",
     "text": [
      "2it [00:00,  3.45it/s]"
     ]
    },
    {
     "name": "stdout",
     "output_type": "stream",
     "text": [
      ".\\ICDAR\\ICDAR2019_cTDaR/training\\TRACKB1\\ground_truth\\cTDaR_t00001.xml 4912 3584\n"
     ]
    },
    {
     "name": "stderr",
     "output_type": "stream",
     "text": [
      "3it [00:00,  3.56it/s]"
     ]
    },
    {
     "name": "stdout",
     "output_type": "stream",
     "text": [
      ".\\ICDAR\\ICDAR2019_cTDaR/training\\TRACKB1\\ground_truth\\cTDaR_t00002.xml 4912 3584\n"
     ]
    },
    {
     "name": "stderr",
     "output_type": "stream",
     "text": [
      "4it [00:01,  3.32it/s]"
     ]
    },
    {
     "name": "stdout",
     "output_type": "stream",
     "text": [
      ".\\ICDAR\\ICDAR2019_cTDaR/training\\TRACKB1\\ground_truth\\cTDaR_t00003.xml 4912 3584\n"
     ]
    },
    {
     "name": "stderr",
     "output_type": "stream",
     "text": [
      "5it [00:01,  3.44it/s]"
     ]
    },
    {
     "name": "stdout",
     "output_type": "stream",
     "text": [
      ".\\ICDAR\\ICDAR2019_cTDaR/training\\TRACKB1\\ground_truth\\cTDaR_t00004.xml 4912 3584\n"
     ]
    },
    {
     "name": "stderr",
     "output_type": "stream",
     "text": [
      "6it [00:01,  3.67it/s]"
     ]
    },
    {
     "name": "stdout",
     "output_type": "stream",
     "text": [
      ".\\ICDAR\\ICDAR2019_cTDaR/training\\TRACKB1\\ground_truth\\cTDaR_t00005.xml 4912 3584\n"
     ]
    },
    {
     "name": "stderr",
     "output_type": "stream",
     "text": [
      "7it [00:01,  3.78it/s]"
     ]
    },
    {
     "name": "stdout",
     "output_type": "stream",
     "text": [
      ".\\ICDAR\\ICDAR2019_cTDaR/training\\TRACKB1\\ground_truth\\cTDaR_t00006.xml 4912 3584\n"
     ]
    },
    {
     "name": "stderr",
     "output_type": "stream",
     "text": [
      "8it [00:02,  3.77it/s]"
     ]
    },
    {
     "name": "stdout",
     "output_type": "stream",
     "text": [
      ".\\ICDAR\\ICDAR2019_cTDaR/training\\TRACKB1\\ground_truth\\cTDaR_t00007.xml 4912 3584\n"
     ]
    },
    {
     "name": "stderr",
     "output_type": "stream",
     "text": [
      "9it [00:02,  4.03it/s]"
     ]
    },
    {
     "name": "stdout",
     "output_type": "stream",
     "text": [
      ".\\ICDAR\\ICDAR2019_cTDaR/training\\TRACKB1\\ground_truth\\cTDaR_t00008.xml 4912 3584\n"
     ]
    },
    {
     "name": "stderr",
     "output_type": "stream",
     "text": [
      "10it [00:02,  4.18it/s]"
     ]
    },
    {
     "name": "stdout",
     "output_type": "stream",
     "text": [
      ".\\ICDAR\\ICDAR2019_cTDaR/training\\TRACKB1\\ground_truth\\cTDaR_t00009.xml 4912 3584\n"
     ]
    },
    {
     "name": "stderr",
     "output_type": "stream",
     "text": [
      "11it [00:02,  4.34it/s]"
     ]
    },
    {
     "name": "stdout",
     "output_type": "stream",
     "text": [
      ".\\ICDAR\\ICDAR2019_cTDaR/training\\TRACKB1\\ground_truth\\cTDaR_t00010.xml 4912 3584\n"
     ]
    },
    {
     "name": "stderr",
     "output_type": "stream",
     "text": [
      "12it [00:03,  3.54it/s]"
     ]
    },
    {
     "name": "stdout",
     "output_type": "stream",
     "text": [
      ".\\ICDAR\\ICDAR2019_cTDaR/training\\TRACKB1\\ground_truth\\cTDaR_t00018.xml 4355 3418\n"
     ]
    },
    {
     "name": "stderr",
     "output_type": "stream",
     "text": [
      "13it [00:03,  2.73it/s]"
     ]
    },
    {
     "name": "stdout",
     "output_type": "stream",
     "text": [
      ".\\ICDAR\\ICDAR2019_cTDaR/training\\TRACKB1\\ground_truth\\cTDaR_t00019.xml 5148 3921\n"
     ]
    },
    {
     "name": "stderr",
     "output_type": "stream",
     "text": [
      "14it [00:04,  2.38it/s]"
     ]
    },
    {
     "name": "stdout",
     "output_type": "stream",
     "text": [
      ".\\ICDAR\\ICDAR2019_cTDaR/training\\TRACKB1\\ground_truth\\cTDaR_t00020.xml 4863 3612\n"
     ]
    },
    {
     "name": "stderr",
     "output_type": "stream",
     "text": [
      "15it [00:04,  2.45it/s]"
     ]
    },
    {
     "name": "stdout",
     "output_type": "stream",
     "text": [
      ".\\ICDAR\\ICDAR2019_cTDaR/training\\TRACKB1\\ground_truth\\cTDaR_t00021.xml 4149 3296\n"
     ]
    },
    {
     "name": "stderr",
     "output_type": "stream",
     "text": [
      "16it [00:04,  2.80it/s]"
     ]
    },
    {
     "name": "stdout",
     "output_type": "stream",
     "text": [
      ".\\ICDAR\\ICDAR2019_cTDaR/training\\TRACKB1\\ground_truth\\cTDaR_t00022.xml 2006 3127\n"
     ]
    },
    {
     "name": "stderr",
     "output_type": "stream",
     "text": [
      "17it [00:05,  2.61it/s]"
     ]
    },
    {
     "name": "stdout",
     "output_type": "stream",
     "text": [
      ".\\ICDAR\\ICDAR2019_cTDaR/training\\TRACKB1\\ground_truth\\cTDaR_t00023.xml 5110 3996\n"
     ]
    },
    {
     "name": "stderr",
     "output_type": "stream",
     "text": [
      "18it [00:06,  2.06it/s]"
     ]
    },
    {
     "name": "stdout",
     "output_type": "stream",
     "text": [
      ".\\ICDAR\\ICDAR2019_cTDaR/training\\TRACKB1\\ground_truth\\cTDaR_t00024.xml 5862 4380\n"
     ]
    },
    {
     "name": "stderr",
     "output_type": "stream",
     "text": [
      "19it [00:06,  1.83it/s]"
     ]
    },
    {
     "name": "stdout",
     "output_type": "stream",
     "text": [
      ".\\ICDAR\\ICDAR2019_cTDaR/training\\TRACKB1\\ground_truth\\cTDaR_t00025.xml 4706 3644\n"
     ]
    },
    {
     "name": "stderr",
     "output_type": "stream",
     "text": [
      "20it [00:07,  1.97it/s]"
     ]
    },
    {
     "name": "stdout",
     "output_type": "stream",
     "text": [
      ".\\ICDAR\\ICDAR2019_cTDaR/training\\TRACKB1\\ground_truth\\cTDaR_t00026.xml 3983 3074\n"
     ]
    },
    {
     "name": "stderr",
     "output_type": "stream",
     "text": [
      "21it [00:08,  1.61it/s]"
     ]
    },
    {
     "name": "stdout",
     "output_type": "stream",
     "text": [
      ".\\ICDAR\\ICDAR2019_cTDaR/training\\TRACKB1\\ground_truth\\cTDaR_t00027.xml 5651 4407\n"
     ]
    },
    {
     "name": "stderr",
     "output_type": "stream",
     "text": [
      "22it [00:08,  1.63it/s]"
     ]
    },
    {
     "name": "stdout",
     "output_type": "stream",
     "text": [
      ".\\ICDAR\\ICDAR2019_cTDaR/training\\TRACKB1\\ground_truth\\cTDaR_t00028.xml 5705 4254\n"
     ]
    },
    {
     "name": "stderr",
     "output_type": "stream",
     "text": [
      "23it [00:09,  1.85it/s]"
     ]
    },
    {
     "name": "stdout",
     "output_type": "stream",
     "text": [
      ".\\ICDAR\\ICDAR2019_cTDaR/training\\TRACKB1\\ground_truth\\cTDaR_t00029.xml 4247 3225\n"
     ]
    },
    {
     "name": "stderr",
     "output_type": "stream",
     "text": [
      "24it [00:09,  1.91it/s]"
     ]
    },
    {
     "name": "stdout",
     "output_type": "stream",
     "text": [
      ".\\ICDAR\\ICDAR2019_cTDaR/training\\TRACKB1\\ground_truth\\cTDaR_t00030.xml 4273 3336\n"
     ]
    },
    {
     "name": "stderr",
     "output_type": "stream",
     "text": [
      "25it [00:09,  2.12it/s]"
     ]
    },
    {
     "name": "stdout",
     "output_type": "stream",
     "text": [
      ".\\ICDAR\\ICDAR2019_cTDaR/training\\TRACKB1\\ground_truth\\cTDaR_t00031.xml 4270 3129\n"
     ]
    },
    {
     "name": "stderr",
     "output_type": "stream",
     "text": [
      "26it [00:10,  1.76it/s]"
     ]
    },
    {
     "name": "stdout",
     "output_type": "stream",
     "text": [
      ".\\ICDAR\\ICDAR2019_cTDaR/training\\TRACKB1\\ground_truth\\cTDaR_t00032.xml 5141 4103\n"
     ]
    },
    {
     "name": "stderr",
     "output_type": "stream",
     "text": [
      "27it [00:11,  2.03it/s]"
     ]
    },
    {
     "name": "stdout",
     "output_type": "stream",
     "text": [
      ".\\ICDAR\\ICDAR2019_cTDaR/training\\TRACKB1\\ground_truth\\cTDaR_t00033.xml 2117 2985\n"
     ]
    },
    {
     "name": "stderr",
     "output_type": "stream",
     "text": [
      "28it [00:11,  2.15it/s]"
     ]
    },
    {
     "name": "stdout",
     "output_type": "stream",
     "text": [
      ".\\ICDAR\\ICDAR2019_cTDaR/training\\TRACKB1\\ground_truth\\cTDaR_t00034.xml 2831 4422\n"
     ]
    },
    {
     "name": "stderr",
     "output_type": "stream",
     "text": [
      "29it [00:11,  2.22it/s]"
     ]
    },
    {
     "name": "stdout",
     "output_type": "stream",
     "text": [
      ".\\ICDAR\\ICDAR2019_cTDaR/training\\TRACKB1\\ground_truth\\cTDaR_t00035.xml 2845 4266\n"
     ]
    },
    {
     "name": "stderr",
     "output_type": "stream",
     "text": [
      "30it [00:12,  2.51it/s]"
     ]
    },
    {
     "name": "stdout",
     "output_type": "stream",
     "text": [
      ".\\ICDAR\\ICDAR2019_cTDaR/training\\TRACKB1\\ground_truth\\cTDaR_t00036.xml 2012 3329\n"
     ]
    },
    {
     "name": "stderr",
     "output_type": "stream",
     "text": [
      "31it [00:12,  2.35it/s]"
     ]
    },
    {
     "name": "stdout",
     "output_type": "stream",
     "text": [
      ".\\ICDAR\\ICDAR2019_cTDaR/training\\TRACKB1\\ground_truth\\cTDaR_t00037.xml 3240 4760\n"
     ]
    },
    {
     "name": "stderr",
     "output_type": "stream",
     "text": [
      "32it [00:12,  2.63it/s]"
     ]
    },
    {
     "name": "stdout",
     "output_type": "stream",
     "text": [
      ".\\ICDAR\\ICDAR2019_cTDaR/training\\TRACKB1\\ground_truth\\cTDaR_t00038.xml 2085 3393\n"
     ]
    },
    {
     "name": "stderr",
     "output_type": "stream",
     "text": [
      "34it [00:13,  3.58it/s]"
     ]
    },
    {
     "name": "stdout",
     "output_type": "stream",
     "text": [
      ".\\ICDAR\\ICDAR2019_cTDaR/training\\TRACKB1\\ground_truth\\cTDaR_t00039.xml 2080 3254\n",
      ".\\ICDAR\\ICDAR2019_cTDaR/training\\TRACKB1\\ground_truth\\cTDaR_t00040.xml 1526 1977\n"
     ]
    },
    {
     "name": "stderr",
     "output_type": "stream",
     "text": [
      "35it [00:13,  3.54it/s]"
     ]
    },
    {
     "name": "stdout",
     "output_type": "stream",
     "text": [
      ".\\ICDAR\\ICDAR2019_cTDaR/training\\TRACKB1\\ground_truth\\cTDaR_t00041.xml 2256 3559\n"
     ]
    },
    {
     "name": "stderr",
     "output_type": "stream",
     "text": [
      "36it [00:14,  2.82it/s]"
     ]
    },
    {
     "name": "stdout",
     "output_type": "stream",
     "text": [
      ".\\ICDAR\\ICDAR2019_cTDaR/training\\TRACKB1\\ground_truth\\cTDaR_t00042.xml 4084 3302\n"
     ]
    },
    {
     "name": "stderr",
     "output_type": "stream",
     "text": [
      "37it [00:14,  2.58it/s]"
     ]
    },
    {
     "name": "stdout",
     "output_type": "stream",
     "text": [
      ".\\ICDAR\\ICDAR2019_cTDaR/training\\TRACKB1\\ground_truth\\cTDaR_t00043.xml 4787 3939\n"
     ]
    },
    {
     "name": "stderr",
     "output_type": "stream",
     "text": [
      "38it [00:15,  2.30it/s]"
     ]
    },
    {
     "name": "stdout",
     "output_type": "stream",
     "text": [
      ".\\ICDAR\\ICDAR2019_cTDaR/training\\TRACKB1\\ground_truth\\cTDaR_t00044.xml 5132 4087\n"
     ]
    },
    {
     "name": "stderr",
     "output_type": "stream",
     "text": [
      "39it [00:15,  2.41it/s]"
     ]
    },
    {
     "name": "stdout",
     "output_type": "stream",
     "text": [
      ".\\ICDAR\\ICDAR2019_cTDaR/training\\TRACKB1\\ground_truth\\cTDaR_t00045.xml 4114 3538\n"
     ]
    },
    {
     "name": "stderr",
     "output_type": "stream",
     "text": [
      "40it [00:15,  2.27it/s]"
     ]
    },
    {
     "name": "stdout",
     "output_type": "stream",
     "text": [
      ".\\ICDAR\\ICDAR2019_cTDaR/training\\TRACKB1\\ground_truth\\cTDaR_t00046.xml 4622 3788\n"
     ]
    },
    {
     "name": "stderr",
     "output_type": "stream",
     "text": [
      "41it [00:16,  2.09it/s]"
     ]
    },
    {
     "name": "stdout",
     "output_type": "stream",
     "text": [
      ".\\ICDAR\\ICDAR2019_cTDaR/training\\TRACKB1\\ground_truth\\cTDaR_t00047.xml 5123 3821\n"
     ]
    },
    {
     "name": "stderr",
     "output_type": "stream",
     "text": [
      "42it [00:16,  2.26it/s]"
     ]
    },
    {
     "name": "stdout",
     "output_type": "stream",
     "text": [
      ".\\ICDAR\\ICDAR2019_cTDaR/training\\TRACKB1\\ground_truth\\cTDaR_t00048.xml 4163 3433\n"
     ]
    },
    {
     "name": "stderr",
     "output_type": "stream",
     "text": [
      "43it [00:17,  2.24it/s]"
     ]
    },
    {
     "name": "stdout",
     "output_type": "stream",
     "text": [
      ".\\ICDAR\\ICDAR2019_cTDaR/training\\TRACKB1\\ground_truth\\cTDaR_t00049.xml 5096 4169\n"
     ]
    },
    {
     "name": "stderr",
     "output_type": "stream",
     "text": [
      "44it [00:17,  2.16it/s]"
     ]
    },
    {
     "name": "stdout",
     "output_type": "stream",
     "text": [
      ".\\ICDAR\\ICDAR2019_cTDaR/training\\TRACKB1\\ground_truth\\cTDaR_t00050.xml 5935 4617\n"
     ]
    },
    {
     "name": "stderr",
     "output_type": "stream",
     "text": [
      "45it [00:18,  2.29it/s]"
     ]
    },
    {
     "name": "stdout",
     "output_type": "stream",
     "text": [
      ".\\ICDAR\\ICDAR2019_cTDaR/training\\TRACKB1\\ground_truth\\cTDaR_t00051.xml 4656 3672\n"
     ]
    },
    {
     "name": "stderr",
     "output_type": "stream",
     "text": [
      "46it [00:18,  2.49it/s]"
     ]
    },
    {
     "name": "stdout",
     "output_type": "stream",
     "text": [
      ".\\ICDAR\\ICDAR2019_cTDaR/training\\TRACKB1\\ground_truth\\cTDaR_t00052.xml 5971 4640\n"
     ]
    },
    {
     "name": "stderr",
     "output_type": "stream",
     "text": [
      "48it [00:18,  3.29it/s]"
     ]
    },
    {
     "name": "stdout",
     "output_type": "stream",
     "text": [
      ".\\ICDAR\\ICDAR2019_cTDaR/training\\TRACKB1\\ground_truth\\cTDaR_t00053.xml 5214 3396\n",
      ".\\ICDAR\\ICDAR2019_cTDaR/training\\TRACKB1\\ground_truth\\cTDaR_t00054.xml 4039 3321\n"
     ]
    },
    {
     "name": "stderr",
     "output_type": "stream",
     "text": [
      "49it [00:19,  3.30it/s]"
     ]
    },
    {
     "name": "stdout",
     "output_type": "stream",
     "text": [
      ".\\ICDAR\\ICDAR2019_cTDaR/training\\TRACKB1\\ground_truth\\cTDaR_t00055.xml 5436 4326\n"
     ]
    },
    {
     "name": "stderr",
     "output_type": "stream",
     "text": [
      "51it [00:19,  3.93it/s]"
     ]
    },
    {
     "name": "stdout",
     "output_type": "stream",
     "text": [
      ".\\ICDAR\\ICDAR2019_cTDaR/training\\TRACKB1\\ground_truth\\cTDaR_t00056.xml 5285 4189\n",
      ".\\ICDAR\\ICDAR2019_cTDaR/training\\TRACKB1\\ground_truth\\cTDaR_t00057.xml 2573 3936\n"
     ]
    },
    {
     "name": "stderr",
     "output_type": "stream",
     "text": [
      "53it [00:20,  4.32it/s]"
     ]
    },
    {
     "name": "stdout",
     "output_type": "stream",
     "text": [
      ".\\ICDAR\\ICDAR2019_cTDaR/training\\TRACKB1\\ground_truth\\cTDaR_t00058.xml 4902 3750\n",
      ".\\ICDAR\\ICDAR2019_cTDaR/training\\TRACKB1\\ground_truth\\cTDaR_t00059.xml 4250 3214\n"
     ]
    },
    {
     "name": "stderr",
     "output_type": "stream",
     "text": [
      "54it [00:20,  4.63it/s]"
     ]
    },
    {
     "name": "stdout",
     "output_type": "stream",
     "text": [
      ".\\ICDAR\\ICDAR2019_cTDaR/training\\TRACKB1\\ground_truth\\cTDaR_t00060.xml 2450 3752\n"
     ]
    },
    {
     "name": "stderr",
     "output_type": "stream",
     "text": [
      "55it [00:20,  4.32it/s]"
     ]
    },
    {
     "name": "stdout",
     "output_type": "stream",
     "text": [
      ".\\ICDAR\\ICDAR2019_cTDaR/training\\TRACKB1\\ground_truth\\cTDaR_t00061.xml 5033 4130\n"
     ]
    },
    {
     "name": "stderr",
     "output_type": "stream",
     "text": [
      "56it [00:20,  4.05it/s]"
     ]
    },
    {
     "name": "stdout",
     "output_type": "stream",
     "text": [
      ".\\ICDAR\\ICDAR2019_cTDaR/training\\TRACKB1\\ground_truth\\cTDaR_t00062.xml 5186 4202\n"
     ]
    },
    {
     "name": "stderr",
     "output_type": "stream",
     "text": [
      "58it [00:21,  4.20it/s]"
     ]
    },
    {
     "name": "stdout",
     "output_type": "stream",
     "text": [
      ".\\ICDAR\\ICDAR2019_cTDaR/training\\TRACKB1\\ground_truth\\cTDaR_t00063.xml 5112 4006\n",
      ".\\ICDAR\\ICDAR2019_cTDaR/training\\TRACKB1\\ground_truth\\cTDaR_t00064.xml 4164 3515\n"
     ]
    },
    {
     "name": "stderr",
     "output_type": "stream",
     "text": [
      "59it [00:21,  4.12it/s]"
     ]
    },
    {
     "name": "stdout",
     "output_type": "stream",
     "text": [
      ".\\ICDAR\\ICDAR2019_cTDaR/training\\TRACKB1\\ground_truth\\cTDaR_t00065.xml 5067 3669\n"
     ]
    },
    {
     "name": "stderr",
     "output_type": "stream",
     "text": [
      "60it [00:21,  4.29it/s]"
     ]
    },
    {
     "name": "stdout",
     "output_type": "stream",
     "text": [
      ".\\ICDAR\\ICDAR2019_cTDaR/training\\TRACKB1\\ground_truth\\cTDaR_t00066.xml 4722 3731\n",
      ".\\ICDAR\\ICDAR2019_cTDaR/training\\TRACKB1\\ground_truth\\cTDaR_t00067.xml 4247 3338\n"
     ]
    },
    {
     "name": "stderr",
     "output_type": "stream",
     "text": [
      "62it [00:22,  4.73it/s]"
     ]
    },
    {
     "name": "stdout",
     "output_type": "stream",
     "text": [
      ".\\ICDAR\\ICDAR2019_cTDaR/training\\TRACKB1\\ground_truth\\cTDaR_t00068.xml 3951 3088\n"
     ]
    },
    {
     "name": "stderr",
     "output_type": "stream",
     "text": [
      "63it [00:22,  4.39it/s]"
     ]
    },
    {
     "name": "stdout",
     "output_type": "stream",
     "text": [
      ".\\ICDAR\\ICDAR2019_cTDaR/training\\TRACKB1\\ground_truth\\cTDaR_t00069.xml 5319 4179\n"
     ]
    },
    {
     "name": "stderr",
     "output_type": "stream",
     "text": [
      "64it [00:22,  4.55it/s]"
     ]
    },
    {
     "name": "stdout",
     "output_type": "stream",
     "text": [
      ".\\ICDAR\\ICDAR2019_cTDaR/training\\TRACKB1\\ground_truth\\cTDaR_t00070.xml 4206 3480\n"
     ]
    },
    {
     "name": "stderr",
     "output_type": "stream",
     "text": [
      "65it [00:22,  4.48it/s]"
     ]
    },
    {
     "name": "stdout",
     "output_type": "stream",
     "text": [
      ".\\ICDAR\\ICDAR2019_cTDaR/training\\TRACKB1\\ground_truth\\cTDaR_t00091.xml 4544 3510\n"
     ]
    },
    {
     "name": "stderr",
     "output_type": "stream",
     "text": [
      "66it [00:23,  4.46it/s]"
     ]
    },
    {
     "name": "stdout",
     "output_type": "stream",
     "text": [
      ".\\ICDAR\\ICDAR2019_cTDaR/training\\TRACKB1\\ground_truth\\cTDaR_t00092.xml 4544 3510\n"
     ]
    },
    {
     "name": "stderr",
     "output_type": "stream",
     "text": [
      "68it [00:23,  4.62it/s]"
     ]
    },
    {
     "name": "stdout",
     "output_type": "stream",
     "text": [
      ".\\ICDAR\\ICDAR2019_cTDaR/training\\TRACKB1\\ground_truth\\cTDaR_t00093.xml 4544 3510\n",
      ".\\ICDAR\\ICDAR2019_cTDaR/training\\TRACKB1\\ground_truth\\cTDaR_t00094.xml 4497 3510\n"
     ]
    },
    {
     "name": "stderr",
     "output_type": "stream",
     "text": [
      "70it [00:23,  4.82it/s]"
     ]
    },
    {
     "name": "stdout",
     "output_type": "stream",
     "text": [
      ".\\ICDAR\\ICDAR2019_cTDaR/training\\TRACKB1\\ground_truth\\cTDaR_t00095.xml 4498 3510\n",
      ".\\ICDAR\\ICDAR2019_cTDaR/training\\TRACKB1\\ground_truth\\cTDaR_t00096.xml 4498 3510\n"
     ]
    },
    {
     "name": "stderr",
     "output_type": "stream",
     "text": [
      "72it [00:24,  4.92it/s]"
     ]
    },
    {
     "name": "stdout",
     "output_type": "stream",
     "text": [
      ".\\ICDAR\\ICDAR2019_cTDaR/training\\TRACKB1\\ground_truth\\cTDaR_t00097.xml 4498 3510\n",
      ".\\ICDAR\\ICDAR2019_cTDaR/training\\TRACKB1\\ground_truth\\cTDaR_t00098.xml 4498 3510\n"
     ]
    },
    {
     "name": "stderr",
     "output_type": "stream",
     "text": [
      "73it [00:24,  4.81it/s]"
     ]
    },
    {
     "name": "stdout",
     "output_type": "stream",
     "text": [
      ".\\ICDAR\\ICDAR2019_cTDaR/training\\TRACKB1\\ground_truth\\cTDaR_t00099.xml 4498 3510\n"
     ]
    },
    {
     "name": "stderr",
     "output_type": "stream",
     "text": [
      "74it [00:24,  4.79it/s]"
     ]
    },
    {
     "name": "stdout",
     "output_type": "stream",
     "text": [
      ".\\ICDAR\\ICDAR2019_cTDaR/training\\TRACKB1\\ground_truth\\cTDaR_t00100.xml 4498 3510\n"
     ]
    },
    {
     "name": "stderr",
     "output_type": "stream",
     "text": [
      "75it [00:24,  4.82it/s]"
     ]
    },
    {
     "name": "stdout",
     "output_type": "stream",
     "text": [
      ".\\ICDAR\\ICDAR2019_cTDaR/training\\TRACKB1\\ground_truth\\cTDaR_t00101.xml 4498 3510\n"
     ]
    },
    {
     "name": "stderr",
     "output_type": "stream",
     "text": [
      "77it [00:25,  5.38it/s]"
     ]
    },
    {
     "name": "stdout",
     "output_type": "stream",
     "text": [
      ".\\ICDAR\\ICDAR2019_cTDaR/training\\TRACKB1\\ground_truth\\cTDaR_t00116.xml 3508 4963\n",
      ".\\ICDAR\\ICDAR2019_cTDaR/training\\TRACKB1\\ground_truth\\cTDaR_t00117.xml 3508 4963\n"
     ]
    },
    {
     "name": "stderr",
     "output_type": "stream",
     "text": [
      "79it [00:25,  6.81it/s]"
     ]
    },
    {
     "name": "stdout",
     "output_type": "stream",
     "text": [
      ".\\ICDAR\\ICDAR2019_cTDaR/training\\TRACKB1\\ground_truth\\cTDaR_t00118.xml 3508 4963\n",
      ".\\ICDAR\\ICDAR2019_cTDaR/training\\TRACKB1\\ground_truth\\cTDaR_t00119.xml 3508 4963\n"
     ]
    },
    {
     "name": "stderr",
     "output_type": "stream",
     "text": [
      "81it [00:25,  7.23it/s]"
     ]
    },
    {
     "name": "stdout",
     "output_type": "stream",
     "text": [
      ".\\ICDAR\\ICDAR2019_cTDaR/training\\TRACKB1\\ground_truth\\cTDaR_t00120.xml 3508 4963\n",
      ".\\ICDAR\\ICDAR2019_cTDaR/training\\TRACKB1\\ground_truth\\cTDaR_t00121.xml 3508 4963\n"
     ]
    },
    {
     "name": "stderr",
     "output_type": "stream",
     "text": [
      "82it [00:25,  7.50it/s]"
     ]
    },
    {
     "name": "stdout",
     "output_type": "stream",
     "text": [
      ".\\ICDAR\\ICDAR2019_cTDaR/training\\TRACKB1\\ground_truth\\cTDaR_t00122.xml 3508 4963\n"
     ]
    },
    {
     "name": "stderr",
     "output_type": "stream",
     "text": [
      "83it [00:26,  3.77it/s]"
     ]
    },
    {
     "name": "stdout",
     "output_type": "stream",
     "text": [
      ".\\ICDAR\\ICDAR2019_cTDaR/training\\TRACKB1\\ground_truth\\cTDaR_t00125.xml 8152 5369\n"
     ]
    },
    {
     "name": "stderr",
     "output_type": "stream",
     "text": [
      "84it [00:27,  2.46it/s]"
     ]
    },
    {
     "name": "stdout",
     "output_type": "stream",
     "text": [
      ".\\ICDAR\\ICDAR2019_cTDaR/training\\TRACKB1\\ground_truth\\cTDaR_t00126.xml 8238 5483\n"
     ]
    },
    {
     "name": "stderr",
     "output_type": "stream",
     "text": [
      "85it [00:28,  1.87it/s]"
     ]
    },
    {
     "name": "stdout",
     "output_type": "stream",
     "text": [
      ".\\ICDAR\\ICDAR2019_cTDaR/training\\TRACKB1\\ground_truth\\cTDaR_t00127.xml 8191 5431\n"
     ]
    },
    {
     "name": "stderr",
     "output_type": "stream",
     "text": [
      "86it [00:29,  1.66it/s]"
     ]
    },
    {
     "name": "stdout",
     "output_type": "stream",
     "text": [
      ".\\ICDAR\\ICDAR2019_cTDaR/training\\TRACKB1\\ground_truth\\cTDaR_t00128.xml 8226 5452\n"
     ]
    },
    {
     "name": "stderr",
     "output_type": "stream",
     "text": [
      "87it [00:29,  1.54it/s]"
     ]
    },
    {
     "name": "stdout",
     "output_type": "stream",
     "text": [
      ".\\ICDAR\\ICDAR2019_cTDaR/training\\TRACKB1\\ground_truth\\cTDaR_t00129.xml 8253 5396\n"
     ]
    },
    {
     "name": "stderr",
     "output_type": "stream",
     "text": [
      "88it [00:30,  1.43it/s]"
     ]
    },
    {
     "name": "stdout",
     "output_type": "stream",
     "text": [
      ".\\ICDAR\\ICDAR2019_cTDaR/training\\TRACKB1\\ground_truth\\cTDaR_t00130.xml 8270 5428\n"
     ]
    },
    {
     "name": "stderr",
     "output_type": "stream",
     "text": [
      "89it [00:31,  1.43it/s]"
     ]
    },
    {
     "name": "stdout",
     "output_type": "stream",
     "text": [
      ".\\ICDAR\\ICDAR2019_cTDaR/training\\TRACKB1\\ground_truth\\cTDaR_t00131.xml 8260 5471\n"
     ]
    },
    {
     "name": "stderr",
     "output_type": "stream",
     "text": [
      "90it [00:32,  1.43it/s]"
     ]
    },
    {
     "name": "stdout",
     "output_type": "stream",
     "text": [
      ".\\ICDAR\\ICDAR2019_cTDaR/training\\TRACKB1\\ground_truth\\cTDaR_t00132.xml 8172 5419\n"
     ]
    },
    {
     "name": "stderr",
     "output_type": "stream",
     "text": [
      "91it [00:32,  1.43it/s]"
     ]
    },
    {
     "name": "stdout",
     "output_type": "stream",
     "text": [
      ".\\ICDAR\\ICDAR2019_cTDaR/training\\TRACKB1\\ground_truth\\cTDaR_t00133.xml 8315 5496\n"
     ]
    },
    {
     "name": "stderr",
     "output_type": "stream",
     "text": [
      "92it [00:33,  1.43it/s]"
     ]
    },
    {
     "name": "stdout",
     "output_type": "stream",
     "text": [
      ".\\ICDAR\\ICDAR2019_cTDaR/training\\TRACKB1\\ground_truth\\cTDaR_t00134.xml 8225 5450\n"
     ]
    },
    {
     "name": "stderr",
     "output_type": "stream",
     "text": [
      "93it [00:34,  1.38it/s]"
     ]
    },
    {
     "name": "stdout",
     "output_type": "stream",
     "text": [
      ".\\ICDAR\\ICDAR2019_cTDaR/training\\TRACKB1\\ground_truth\\cTDaR_t00135.xml 8220 5447\n"
     ]
    },
    {
     "name": "stderr",
     "output_type": "stream",
     "text": [
      "94it [00:34,  1.41it/s]"
     ]
    },
    {
     "name": "stdout",
     "output_type": "stream",
     "text": [
      ".\\ICDAR\\ICDAR2019_cTDaR/training\\TRACKB1\\ground_truth\\cTDaR_t00136.xml 8196 5461\n"
     ]
    },
    {
     "name": "stderr",
     "output_type": "stream",
     "text": [
      "95it [00:35,  1.40it/s]"
     ]
    },
    {
     "name": "stdout",
     "output_type": "stream",
     "text": [
      ".\\ICDAR\\ICDAR2019_cTDaR/training\\TRACKB1\\ground_truth\\cTDaR_t00137.xml 8343 5559\n"
     ]
    },
    {
     "name": "stderr",
     "output_type": "stream",
     "text": [
      "96it [00:36,  1.41it/s]"
     ]
    },
    {
     "name": "stdout",
     "output_type": "stream",
     "text": [
      ".\\ICDAR\\ICDAR2019_cTDaR/training\\TRACKB1\\ground_truth\\cTDaR_t00138.xml 8264 5460\n"
     ]
    },
    {
     "name": "stderr",
     "output_type": "stream",
     "text": [
      "97it [00:37,  1.41it/s]"
     ]
    },
    {
     "name": "stdout",
     "output_type": "stream",
     "text": [
      ".\\ICDAR\\ICDAR2019_cTDaR/training\\TRACKB1\\ground_truth\\cTDaR_t00139.xml 8158 5429\n"
     ]
    },
    {
     "name": "stderr",
     "output_type": "stream",
     "text": [
      "98it [00:37,  1.42it/s]"
     ]
    },
    {
     "name": "stdout",
     "output_type": "stream",
     "text": [
      ".\\ICDAR\\ICDAR2019_cTDaR/training\\TRACKB1\\ground_truth\\cTDaR_t00140.xml 8219 5441\n"
     ]
    },
    {
     "name": "stderr",
     "output_type": "stream",
     "text": [
      "99it [00:38,  1.42it/s]"
     ]
    },
    {
     "name": "stdout",
     "output_type": "stream",
     "text": [
      ".\\ICDAR\\ICDAR2019_cTDaR/training\\TRACKB1\\ground_truth\\cTDaR_t00141.xml 8274 5450\n"
     ]
    },
    {
     "name": "stderr",
     "output_type": "stream",
     "text": [
      "100it [00:39,  1.43it/s]"
     ]
    },
    {
     "name": "stdout",
     "output_type": "stream",
     "text": [
      ".\\ICDAR\\ICDAR2019_cTDaR/training\\TRACKB1\\ground_truth\\cTDaR_t00142.xml 8230 5441\n"
     ]
    },
    {
     "name": "stderr",
     "output_type": "stream",
     "text": [
      "101it [00:39,  1.42it/s]"
     ]
    },
    {
     "name": "stdout",
     "output_type": "stream",
     "text": [
      ".\\ICDAR\\ICDAR2019_cTDaR/training\\TRACKB1\\ground_truth\\cTDaR_t00143.xml 8487 5545\n"
     ]
    },
    {
     "name": "stderr",
     "output_type": "stream",
     "text": [
      "102it [00:40,  1.42it/s]"
     ]
    },
    {
     "name": "stdout",
     "output_type": "stream",
     "text": [
      ".\\ICDAR\\ICDAR2019_cTDaR/training\\TRACKB1\\ground_truth\\cTDaR_t00144.xml 8210 5477\n"
     ]
    },
    {
     "name": "stderr",
     "output_type": "stream",
     "text": [
      "103it [00:41,  1.41it/s]"
     ]
    },
    {
     "name": "stdout",
     "output_type": "stream",
     "text": [
      ".\\ICDAR\\ICDAR2019_cTDaR/training\\TRACKB1\\ground_truth\\cTDaR_t00145.xml 8417 5526\n"
     ]
    },
    {
     "name": "stderr",
     "output_type": "stream",
     "text": [
      "104it [00:41,  1.57it/s]"
     ]
    },
    {
     "name": "stdout",
     "output_type": "stream",
     "text": [
      ".\\ICDAR\\ICDAR2019_cTDaR/training\\TRACKB1\\ground_truth\\cTDaR_t00167.xml 4156 6336\n"
     ]
    },
    {
     "name": "stderr",
     "output_type": "stream",
     "text": [
      "105it [00:42,  1.76it/s]"
     ]
    },
    {
     "name": "stdout",
     "output_type": "stream",
     "text": [
      ".\\ICDAR\\ICDAR2019_cTDaR/training\\TRACKB1\\ground_truth\\cTDaR_t00168.xml 6140 3832\n"
     ]
    },
    {
     "name": "stderr",
     "output_type": "stream",
     "text": [
      "107it [00:42,  2.20it/s]"
     ]
    },
    {
     "name": "stdout",
     "output_type": "stream",
     "text": [
      ".\\ICDAR\\ICDAR2019_cTDaR/training\\TRACKB1\\ground_truth\\cTDaR_t00169.xml 5648 5922\n",
      ".\\ICDAR\\ICDAR2019_cTDaR/training\\TRACKB1\\ground_truth\\cTDaR_t00170.xml 4072 2501\n"
     ]
    },
    {
     "name": "stderr",
     "output_type": "stream",
     "text": [
      "108it [00:43,  2.39it/s]"
     ]
    },
    {
     "name": "stdout",
     "output_type": "stream",
     "text": [
      ".\\ICDAR\\ICDAR2019_cTDaR/training\\TRACKB1\\ground_truth\\cTDaR_t00171.xml 3380 5581\n"
     ]
    },
    {
     "name": "stderr",
     "output_type": "stream",
     "text": [
      "109it [00:43,  2.12it/s]"
     ]
    },
    {
     "name": "stdout",
     "output_type": "stream",
     "text": [
      ".\\ICDAR\\ICDAR2019_cTDaR/training\\TRACKB1\\ground_truth\\cTDaR_t00172.xml 6904 5198\n"
     ]
    },
    {
     "name": "stderr",
     "output_type": "stream",
     "text": [
      "110it [00:44,  1.64it/s]"
     ]
    },
    {
     "name": "stdout",
     "output_type": "stream",
     "text": [
      ".\\ICDAR\\ICDAR2019_cTDaR/training\\TRACKB1\\ground_truth\\cTDaR_t00173.xml 8414 7662\n"
     ]
    },
    {
     "name": "stderr",
     "output_type": "stream",
     "text": [
      "111it [00:45,  1.54it/s]"
     ]
    },
    {
     "name": "stdout",
     "output_type": "stream",
     "text": [
      ".\\ICDAR\\ICDAR2019_cTDaR/training\\TRACKB1\\ground_truth\\cTDaR_t00174.xml 6468 6845\n"
     ]
    },
    {
     "name": "stderr",
     "output_type": "stream",
     "text": [
      "112it [00:45,  1.87it/s]"
     ]
    },
    {
     "name": "stdout",
     "output_type": "stream",
     "text": [
      ".\\ICDAR\\ICDAR2019_cTDaR/training\\TRACKB1\\ground_truth\\cTDaR_t00177.xml 4096 2731\n"
     ]
    },
    {
     "name": "stderr",
     "output_type": "stream",
     "text": [
      "113it [00:45,  2.28it/s]"
     ]
    },
    {
     "name": "stdout",
     "output_type": "stream",
     "text": [
      ".\\ICDAR\\ICDAR2019_cTDaR/training\\TRACKB1\\ground_truth\\cTDaR_t00178.xml 4096 2731\n"
     ]
    },
    {
     "name": "stderr",
     "output_type": "stream",
     "text": [
      "114it [00:46,  2.71it/s]"
     ]
    },
    {
     "name": "stdout",
     "output_type": "stream",
     "text": [
      ".\\ICDAR\\ICDAR2019_cTDaR/training\\TRACKB1\\ground_truth\\cTDaR_t00179.xml 4096 2731\n"
     ]
    },
    {
     "name": "stderr",
     "output_type": "stream",
     "text": [
      "115it [00:46,  2.98it/s]"
     ]
    },
    {
     "name": "stdout",
     "output_type": "stream",
     "text": [
      ".\\ICDAR\\ICDAR2019_cTDaR/training\\TRACKB1\\ground_truth\\cTDaR_t00180.xml 2731 4096\n"
     ]
    },
    {
     "name": "stderr",
     "output_type": "stream",
     "text": [
      "116it [00:46,  3.28it/s]"
     ]
    },
    {
     "name": "stdout",
     "output_type": "stream",
     "text": [
      ".\\ICDAR\\ICDAR2019_cTDaR/training\\TRACKB1\\ground_truth\\cTDaR_t00181.xml 2731 4096\n"
     ]
    },
    {
     "name": "stderr",
     "output_type": "stream",
     "text": [
      "117it [00:47,  3.02it/s]"
     ]
    },
    {
     "name": "stdout",
     "output_type": "stream",
     "text": [
      ".\\ICDAR\\ICDAR2019_cTDaR/training\\TRACKB1\\ground_truth\\cTDaR_t00182.xml 2731 4096\n"
     ]
    },
    {
     "name": "stderr",
     "output_type": "stream",
     "text": [
      "118it [00:47,  3.06it/s]"
     ]
    },
    {
     "name": "stdout",
     "output_type": "stream",
     "text": [
      ".\\ICDAR\\ICDAR2019_cTDaR/training\\TRACKB1\\ground_truth\\cTDaR_t00183.xml 4096 2731\n"
     ]
    },
    {
     "name": "stderr",
     "output_type": "stream",
     "text": [
      "119it [00:47,  2.87it/s]"
     ]
    },
    {
     "name": "stdout",
     "output_type": "stream",
     "text": [
      ".\\ICDAR\\ICDAR2019_cTDaR/training\\TRACKB1\\ground_truth\\cTDaR_t00184.xml 4096 2731\n"
     ]
    },
    {
     "name": "stderr",
     "output_type": "stream",
     "text": [
      "120it [00:48,  2.86it/s]"
     ]
    },
    {
     "name": "stdout",
     "output_type": "stream",
     "text": [
      ".\\ICDAR\\ICDAR2019_cTDaR/training\\TRACKB1\\ground_truth\\cTDaR_t00185.xml 2731 4096\n"
     ]
    },
    {
     "name": "stderr",
     "output_type": "stream",
     "text": [
      "121it [00:48,  2.87it/s]"
     ]
    },
    {
     "name": "stdout",
     "output_type": "stream",
     "text": [
      ".\\ICDAR\\ICDAR2019_cTDaR/training\\TRACKB1\\ground_truth\\cTDaR_t00186.xml 2484 4096\n"
     ]
    },
    {
     "name": "stderr",
     "output_type": "stream",
     "text": [
      "122it [00:48,  3.15it/s]"
     ]
    },
    {
     "name": "stdout",
     "output_type": "stream",
     "text": [
      ".\\ICDAR\\ICDAR2019_cTDaR/training\\TRACKB1\\ground_truth\\cTDaR_t00187.xml 2484 4096\n"
     ]
    },
    {
     "name": "stderr",
     "output_type": "stream",
     "text": [
      "123it [00:49,  3.14it/s]"
     ]
    },
    {
     "name": "stdout",
     "output_type": "stream",
     "text": [
      ".\\ICDAR\\ICDAR2019_cTDaR/training\\TRACKB1\\ground_truth\\cTDaR_t00188.xml 2484 4096\n"
     ]
    },
    {
     "name": "stderr",
     "output_type": "stream",
     "text": [
      "124it [00:49,  3.23it/s]"
     ]
    },
    {
     "name": "stdout",
     "output_type": "stream",
     "text": [
      ".\\ICDAR\\ICDAR2019_cTDaR/training\\TRACKB1\\ground_truth\\cTDaR_t00189.xml 2484 4096\n"
     ]
    },
    {
     "name": "stderr",
     "output_type": "stream",
     "text": [
      "125it [00:49,  3.32it/s]"
     ]
    },
    {
     "name": "stdout",
     "output_type": "stream",
     "text": [
      ".\\ICDAR\\ICDAR2019_cTDaR/training\\TRACKB1\\ground_truth\\cTDaR_t00190.xml 2484 4096\n"
     ]
    },
    {
     "name": "stderr",
     "output_type": "stream",
     "text": [
      "126it [00:49,  3.12it/s]"
     ]
    },
    {
     "name": "stdout",
     "output_type": "stream",
     "text": [
      ".\\ICDAR\\ICDAR2019_cTDaR/training\\TRACKB1\\ground_truth\\cTDaR_t00191.xml 4096 3275\n"
     ]
    },
    {
     "name": "stderr",
     "output_type": "stream",
     "text": [
      "127it [00:50,  2.99it/s]"
     ]
    },
    {
     "name": "stdout",
     "output_type": "stream",
     "text": [
      ".\\ICDAR\\ICDAR2019_cTDaR/training\\TRACKB1\\ground_truth\\cTDaR_t00192.xml 2731 4096\n"
     ]
    },
    {
     "name": "stderr",
     "output_type": "stream",
     "text": [
      "128it [00:50,  3.29it/s]"
     ]
    },
    {
     "name": "stdout",
     "output_type": "stream",
     "text": [
      ".\\ICDAR\\ICDAR2019_cTDaR/training\\TRACKB1\\ground_truth\\cTDaR_t00198.xml 3188 2300\n"
     ]
    },
    {
     "name": "stderr",
     "output_type": "stream",
     "text": [
      "129it [00:51,  2.43it/s]"
     ]
    },
    {
     "name": "stdout",
     "output_type": "stream",
     "text": [
      ".\\ICDAR\\ICDAR2019_cTDaR/training\\TRACKB1\\ground_truth\\cTDaR_t00199.JPG 4000 6000\n"
     ]
    },
    {
     "name": "stderr",
     "output_type": "stream",
     "text": [
      "130it [00:51,  2.14it/s]"
     ]
    },
    {
     "name": "stdout",
     "output_type": "stream",
     "text": [
      ".\\ICDAR\\ICDAR2019_cTDaR/training\\TRACKB1\\ground_truth\\cTDaR_t00200.JPG 4000 6000\n"
     ]
    },
    {
     "name": "stderr",
     "output_type": "stream",
     "text": [
      "131it [00:52,  1.87it/s]"
     ]
    },
    {
     "name": "stdout",
     "output_type": "stream",
     "text": [
      ".\\ICDAR\\ICDAR2019_cTDaR/training\\TRACKB1\\ground_truth\\cTDaR_t00201.JPG 4000 6000\n"
     ]
    },
    {
     "name": "stderr",
     "output_type": "stream",
     "text": [
      "132it [00:53,  1.84it/s]"
     ]
    },
    {
     "name": "stdout",
     "output_type": "stream",
     "text": [
      ".\\ICDAR\\ICDAR2019_cTDaR/training\\TRACKB1\\ground_truth\\cTDaR_t00202.JPG 4000 6000\n"
     ]
    },
    {
     "name": "stderr",
     "output_type": "stream",
     "text": [
      "133it [00:53,  1.80it/s]"
     ]
    },
    {
     "name": "stdout",
     "output_type": "stream",
     "text": [
      ".\\ICDAR\\ICDAR2019_cTDaR/training\\TRACKB1\\ground_truth\\cTDaR_t00203.JPG 4000 6000\n"
     ]
    },
    {
     "name": "stderr",
     "output_type": "stream",
     "text": [
      "134it [00:54,  1.70it/s]"
     ]
    },
    {
     "name": "stdout",
     "output_type": "stream",
     "text": [
      ".\\ICDAR\\ICDAR2019_cTDaR/training\\TRACKB1\\ground_truth\\cTDaR_t00204.JPG 4000 6000\n"
     ]
    },
    {
     "name": "stderr",
     "output_type": "stream",
     "text": [
      "135it [00:54,  1.71it/s]"
     ]
    },
    {
     "name": "stdout",
     "output_type": "stream",
     "text": [
      ".\\ICDAR\\ICDAR2019_cTDaR/training\\TRACKB1\\ground_truth\\cTDaR_t00205.JPG 4000 6000\n"
     ]
    },
    {
     "name": "stderr",
     "output_type": "stream",
     "text": [
      "136it [00:55,  1.65it/s]"
     ]
    },
    {
     "name": "stdout",
     "output_type": "stream",
     "text": [
      ".\\ICDAR\\ICDAR2019_cTDaR/training\\TRACKB1\\ground_truth\\cTDaR_t00206.JPG 4000 6000\n"
     ]
    },
    {
     "name": "stderr",
     "output_type": "stream",
     "text": [
      "137it [00:56,  1.72it/s]"
     ]
    },
    {
     "name": "stdout",
     "output_type": "stream",
     "text": [
      ".\\ICDAR\\ICDAR2019_cTDaR/training\\TRACKB1\\ground_truth\\cTDaR_t00207.JPG 4000 6000\n"
     ]
    },
    {
     "name": "stderr",
     "output_type": "stream",
     "text": [
      "138it [00:56,  1.70it/s]"
     ]
    },
    {
     "name": "stdout",
     "output_type": "stream",
     "text": [
      ".\\ICDAR\\ICDAR2019_cTDaR/training\\TRACKB1\\ground_truth\\cTDaR_t00208.JPG 4000 6000\n"
     ]
    },
    {
     "name": "stderr",
     "output_type": "stream",
     "text": [
      "139it [00:57,  1.51it/s]"
     ]
    },
    {
     "name": "stdout",
     "output_type": "stream",
     "text": [
      ".\\ICDAR\\ICDAR2019_cTDaR/training\\TRACKB1\\ground_truth\\cTDaR_t00209.JPG 4000 6000\n"
     ]
    },
    {
     "name": "stderr",
     "output_type": "stream",
     "text": [
      "140it [00:57,  1.90it/s]"
     ]
    },
    {
     "name": "stdout",
     "output_type": "stream",
     "text": [
      ".\\ICDAR\\ICDAR2019_cTDaR/training\\TRACKB1\\ground_truth\\cTDaR_t00228.xml 2495 4086\n"
     ]
    },
    {
     "name": "stderr",
     "output_type": "stream",
     "text": [
      "141it [00:58,  2.26it/s]"
     ]
    },
    {
     "name": "stdout",
     "output_type": "stream",
     "text": [
      ".\\ICDAR\\ICDAR2019_cTDaR/training\\TRACKB1\\ground_truth\\cTDaR_t00229.xml 2494 4086\n"
     ]
    },
    {
     "name": "stderr",
     "output_type": "stream",
     "text": [
      "142it [00:58,  2.32it/s]"
     ]
    },
    {
     "name": "stdout",
     "output_type": "stream",
     "text": [
      ".\\ICDAR\\ICDAR2019_cTDaR/training\\TRACKB1\\ground_truth\\cTDaR_t00230.xml 2494 4086\n"
     ]
    },
    {
     "name": "stderr",
     "output_type": "stream",
     "text": [
      "144it [00:58,  3.12it/s]"
     ]
    },
    {
     "name": "stdout",
     "output_type": "stream",
     "text": [
      ".\\ICDAR\\ICDAR2019_cTDaR/training\\TRACKB1\\ground_truth\\cTDaR_t00231.xml 2495 4086\n",
      ".\\ICDAR\\ICDAR2019_cTDaR/training\\TRACKB1\\ground_truth\\cTDaR_t00232.xml 2494 4086\n"
     ]
    },
    {
     "name": "stderr",
     "output_type": "stream",
     "text": [
      "145it [00:59,  3.64it/s]"
     ]
    },
    {
     "name": "stdout",
     "output_type": "stream",
     "text": [
      ".\\ICDAR\\ICDAR2019_cTDaR/training\\TRACKB1\\ground_truth\\cTDaR_t00233.xml 2413 3977\n"
     ]
    },
    {
     "name": "stderr",
     "output_type": "stream",
     "text": [
      "147it [00:59,  4.25it/s]"
     ]
    },
    {
     "name": "stdout",
     "output_type": "stream",
     "text": [
      ".\\ICDAR\\ICDAR2019_cTDaR/training\\TRACKB1\\ground_truth\\cTDaR_t00234.xml 2413 3977\n",
      ".\\ICDAR\\ICDAR2019_cTDaR/training\\TRACKB1\\ground_truth\\cTDaR_t00235.xml 2413 3977\n"
     ]
    },
    {
     "name": "stderr",
     "output_type": "stream",
     "text": [
      "149it [00:59,  4.75it/s]"
     ]
    },
    {
     "name": "stdout",
     "output_type": "stream",
     "text": [
      ".\\ICDAR\\ICDAR2019_cTDaR/training\\TRACKB1\\ground_truth\\cTDaR_t00236.xml 2413 3977\n",
      ".\\ICDAR\\ICDAR2019_cTDaR/training\\TRACKB1\\ground_truth\\cTDaR_t00237.xml 2413 3977\n"
     ]
    },
    {
     "name": "stderr",
     "output_type": "stream",
     "text": [
      "150it [00:59,  5.06it/s]"
     ]
    },
    {
     "name": "stdout",
     "output_type": "stream",
     "text": [
      ".\\ICDAR\\ICDAR2019_cTDaR/training\\TRACKB1\\ground_truth\\cTDaR_t00238.xml 2413 3977\n"
     ]
    },
    {
     "name": "stderr",
     "output_type": "stream",
     "text": [
      "152it [01:00,  4.96it/s]"
     ]
    },
    {
     "name": "stdout",
     "output_type": "stream",
     "text": [
      ".\\ICDAR\\ICDAR2019_cTDaR/training\\TRACKB1\\ground_truth\\cTDaR_t00239.xml 2413 3977\n",
      ".\\ICDAR\\ICDAR2019_cTDaR/training\\TRACKB1\\ground_truth\\cTDaR_t00240.xml 2413 3977\n"
     ]
    },
    {
     "name": "stderr",
     "output_type": "stream",
     "text": [
      "154it [01:00,  4.88it/s]"
     ]
    },
    {
     "name": "stdout",
     "output_type": "stream",
     "text": [
      ".\\ICDAR\\ICDAR2019_cTDaR/training\\TRACKB1\\ground_truth\\cTDaR_t00241.xml 2413 3977\n",
      ".\\ICDAR\\ICDAR2019_cTDaR/training\\TRACKB1\\ground_truth\\cTDaR_t00242.xml 2413 3977\n"
     ]
    },
    {
     "name": "stderr",
     "output_type": "stream",
     "text": [
      "155it [01:01,  4.36it/s]"
     ]
    },
    {
     "name": "stdout",
     "output_type": "stream",
     "text": [
      ".\\ICDAR\\ICDAR2019_cTDaR/training\\TRACKB1\\ground_truth\\cTDaR_t00243.xml 2495 4086\n"
     ]
    },
    {
     "name": "stderr",
     "output_type": "stream",
     "text": [
      "157it [01:01,  4.47it/s]"
     ]
    },
    {
     "name": "stdout",
     "output_type": "stream",
     "text": [
      ".\\ICDAR\\ICDAR2019_cTDaR/training\\TRACKB1\\ground_truth\\cTDaR_t00244.xml 2494 4086\n",
      ".\\ICDAR\\ICDAR2019_cTDaR/training\\TRACKB1\\ground_truth\\cTDaR_t00245.xml 2417 2967\n"
     ]
    },
    {
     "name": "stderr",
     "output_type": "stream",
     "text": [
      "159it [01:01,  5.49it/s]"
     ]
    },
    {
     "name": "stdout",
     "output_type": "stream",
     "text": [
      ".\\ICDAR\\ICDAR2019_cTDaR/training\\TRACKB1\\ground_truth\\cTDaR_t00246.xml 2417 2967\n",
      ".\\ICDAR\\ICDAR2019_cTDaR/training\\TRACKB1\\ground_truth\\cTDaR_t00247.xml 2419 2967\n"
     ]
    },
    {
     "name": "stderr",
     "output_type": "stream",
     "text": [
      "160it [01:02,  4.63it/s]"
     ]
    },
    {
     "name": "stdout",
     "output_type": "stream",
     "text": [
      ".\\ICDAR\\ICDAR2019_cTDaR/training\\TRACKB1\\ground_truth\\cTDaR_t00254.xml 2136 2647\n"
     ]
    },
    {
     "name": "stderr",
     "output_type": "stream",
     "text": [
      "162it [01:02,  4.67it/s]"
     ]
    },
    {
     "name": "stdout",
     "output_type": "stream",
     "text": [
      ".\\ICDAR\\ICDAR2019_cTDaR/training\\TRACKB1\\ground_truth\\cTDaR_t00255.xml 2135 2657\n",
      ".\\ICDAR\\ICDAR2019_cTDaR/training\\TRACKB1\\ground_truth\\cTDaR_t00256.xml 2133 2656\n"
     ]
    },
    {
     "name": "stderr",
     "output_type": "stream",
     "text": [
      "163it [01:02,  4.56it/s]"
     ]
    },
    {
     "name": "stdout",
     "output_type": "stream",
     "text": [
      ".\\ICDAR\\ICDAR2019_cTDaR/training\\TRACKB1\\ground_truth\\cTDaR_t00257.xml 2131 2635\n"
     ]
    },
    {
     "name": "stderr",
     "output_type": "stream",
     "text": [
      "164it [01:03,  4.55it/s]"
     ]
    },
    {
     "name": "stdout",
     "output_type": "stream",
     "text": [
      ".\\ICDAR\\ICDAR2019_cTDaR/training\\TRACKB1\\ground_truth\\cTDaR_t00258.xml 2129 2631\n"
     ]
    },
    {
     "name": "stderr",
     "output_type": "stream",
     "text": [
      "165it [01:03,  4.04it/s]"
     ]
    },
    {
     "name": "stdout",
     "output_type": "stream",
     "text": [
      ".\\ICDAR\\ICDAR2019_cTDaR/training\\TRACKB1\\ground_truth\\cTDaR_t00259.xml 2101 2616\n"
     ]
    },
    {
     "name": "stderr",
     "output_type": "stream",
     "text": [
      "166it [01:03,  3.52it/s]"
     ]
    },
    {
     "name": "stdout",
     "output_type": "stream",
     "text": [
      ".\\ICDAR\\ICDAR2019_cTDaR/training\\TRACKB1\\ground_truth\\cTDaR_t00260.xml 2119 2623\n"
     ]
    },
    {
     "name": "stderr",
     "output_type": "stream",
     "text": [
      "167it [01:03,  3.81it/s]"
     ]
    },
    {
     "name": "stdout",
     "output_type": "stream",
     "text": [
      ".\\ICDAR\\ICDAR2019_cTDaR/training\\TRACKB1\\ground_truth\\cTDaR_t00261.xml 2067 2625\n"
     ]
    },
    {
     "name": "stderr",
     "output_type": "stream",
     "text": [
      "168it [01:04,  4.01it/s]"
     ]
    },
    {
     "name": "stdout",
     "output_type": "stream",
     "text": [
      ".\\ICDAR\\ICDAR2019_cTDaR/training\\TRACKB1\\ground_truth\\cTDaR_t00262.xml 2153 2627\n"
     ]
    },
    {
     "name": "stderr",
     "output_type": "stream",
     "text": [
      "169it [01:04,  3.46it/s]"
     ]
    },
    {
     "name": "stdout",
     "output_type": "stream",
     "text": [
      ".\\ICDAR\\ICDAR2019_cTDaR/training\\TRACKB1\\ground_truth\\cTDaR_t00263.xml 2139 2637\n"
     ]
    },
    {
     "name": "stderr",
     "output_type": "stream",
     "text": [
      "170it [01:04,  3.71it/s]"
     ]
    },
    {
     "name": "stdout",
     "output_type": "stream",
     "text": [
      ".\\ICDAR\\ICDAR2019_cTDaR/training\\TRACKB1\\ground_truth\\cTDaR_t00264.xml 2138 2634\n"
     ]
    },
    {
     "name": "stderr",
     "output_type": "stream",
     "text": [
      "172it [01:05,  4.40it/s]"
     ]
    },
    {
     "name": "stdout",
     "output_type": "stream",
     "text": [
      ".\\ICDAR\\ICDAR2019_cTDaR/training\\TRACKB1\\ground_truth\\cTDaR_t00265.xml 2138 2633\n",
      ".\\ICDAR\\ICDAR2019_cTDaR/training\\TRACKB1\\ground_truth\\cTDaR_t00266.xml 2137 2633\n"
     ]
    },
    {
     "name": "stderr",
     "output_type": "stream",
     "text": [
      "174it [01:05,  4.82it/s]"
     ]
    },
    {
     "name": "stdout",
     "output_type": "stream",
     "text": [
      ".\\ICDAR\\ICDAR2019_cTDaR/training\\TRACKB1\\ground_truth\\cTDaR_t00267.xml 2136 2633\n",
      ".\\ICDAR\\ICDAR2019_cTDaR/training\\TRACKB1\\ground_truth\\cTDaR_t00268.xml 2104 2617\n"
     ]
    },
    {
     "name": "stderr",
     "output_type": "stream",
     "text": [
      "175it [01:05,  4.66it/s]"
     ]
    },
    {
     "name": "stdout",
     "output_type": "stream",
     "text": [
      ".\\ICDAR\\ICDAR2019_cTDaR/training\\TRACKB1\\ground_truth\\cTDaR_t00269.xml 2136 2633\n"
     ]
    },
    {
     "name": "stderr",
     "output_type": "stream",
     "text": [
      "177it [01:06,  4.96it/s]"
     ]
    },
    {
     "name": "stdout",
     "output_type": "stream",
     "text": [
      ".\\ICDAR\\ICDAR2019_cTDaR/training\\TRACKB1\\ground_truth\\cTDaR_t00270.xml 2133 2636\n",
      ".\\ICDAR\\ICDAR2019_cTDaR/training\\TRACKB1\\ground_truth\\cTDaR_t00271.xml 2139 2629\n"
     ]
    },
    {
     "name": "stderr",
     "output_type": "stream",
     "text": [
      "178it [01:06,  4.55it/s]"
     ]
    },
    {
     "name": "stdout",
     "output_type": "stream",
     "text": [
      ".\\ICDAR\\ICDAR2019_cTDaR/training\\TRACKB1\\ground_truth\\cTDaR_t00272.xml 2137 2629\n"
     ]
    },
    {
     "name": "stderr",
     "output_type": "stream",
     "text": [
      "179it [01:06,  4.48it/s]"
     ]
    },
    {
     "name": "stdout",
     "output_type": "stream",
     "text": [
      ".\\ICDAR\\ICDAR2019_cTDaR/training\\TRACKB1\\ground_truth\\cTDaR_t00273.xml 2133 2635\n"
     ]
    },
    {
     "name": "stderr",
     "output_type": "stream",
     "text": [
      "180it [01:06,  4.44it/s]"
     ]
    },
    {
     "name": "stdout",
     "output_type": "stream",
     "text": [
      ".\\ICDAR\\ICDAR2019_cTDaR/training\\TRACKB1\\ground_truth\\cTDaR_t00274.xml 2132 2626\n"
     ]
    },
    {
     "name": "stderr",
     "output_type": "stream",
     "text": [
      "181it [01:07,  3.58it/s]"
     ]
    },
    {
     "name": "stdout",
     "output_type": "stream",
     "text": [
      ".\\ICDAR\\ICDAR2019_cTDaR/training\\TRACKB1\\ground_truth\\cTDaR_t00275.xml 2128 2626\n"
     ]
    },
    {
     "name": "stderr",
     "output_type": "stream",
     "text": [
      "182it [01:07,  3.65it/s]"
     ]
    },
    {
     "name": "stdout",
     "output_type": "stream",
     "text": [
      ".\\ICDAR\\ICDAR2019_cTDaR/training\\TRACKB1\\ground_truth\\cTDaR_t00276.xml 2129 2626\n"
     ]
    },
    {
     "name": "stderr",
     "output_type": "stream",
     "text": [
      "183it [01:07,  3.13it/s]"
     ]
    },
    {
     "name": "stdout",
     "output_type": "stream",
     "text": [
      ".\\ICDAR\\ICDAR2019_cTDaR/training\\TRACKB1\\ground_truth\\cTDaR_t00277.xml 2125 2619\n"
     ]
    },
    {
     "name": "stderr",
     "output_type": "stream",
     "text": [
      "184it [01:08,  3.44it/s]"
     ]
    },
    {
     "name": "stdout",
     "output_type": "stream",
     "text": [
      ".\\ICDAR\\ICDAR2019_cTDaR/training\\TRACKB1\\ground_truth\\cTDaR_t00278.xml 2121 2603\n"
     ]
    },
    {
     "name": "stderr",
     "output_type": "stream",
     "text": [
      "186it [01:08,  3.64it/s]"
     ]
    },
    {
     "name": "stdout",
     "output_type": "stream",
     "text": [
      ".\\ICDAR\\ICDAR2019_cTDaR/training\\TRACKB1\\ground_truth\\cTDaR_t00279.xml 2109 2621\n",
      ".\\ICDAR\\ICDAR2019_cTDaR/training\\TRACKB1\\ground_truth\\cTDaR_t00280.xml 2142 2632\n"
     ]
    },
    {
     "name": "stderr",
     "output_type": "stream",
     "text": [
      "187it [01:08,  3.96it/s]"
     ]
    },
    {
     "name": "stdout",
     "output_type": "stream",
     "text": [
      ".\\ICDAR\\ICDAR2019_cTDaR/training\\TRACKB1\\ground_truth\\cTDaR_t00281.xml 2141 2633\n"
     ]
    },
    {
     "name": "stderr",
     "output_type": "stream",
     "text": [
      "188it [01:09,  4.16it/s]"
     ]
    },
    {
     "name": "stdout",
     "output_type": "stream",
     "text": [
      ".\\ICDAR\\ICDAR2019_cTDaR/training\\TRACKB1\\ground_truth\\cTDaR_t00282.xml 2137 2635\n"
     ]
    },
    {
     "name": "stderr",
     "output_type": "stream",
     "text": [
      "189it [01:09,  4.36it/s]"
     ]
    },
    {
     "name": "stdout",
     "output_type": "stream",
     "text": [
      ".\\ICDAR\\ICDAR2019_cTDaR/training\\TRACKB1\\ground_truth\\cTDaR_t00283.xml 2138 2635\n"
     ]
    },
    {
     "name": "stderr",
     "output_type": "stream",
     "text": [
      "190it [01:09,  4.43it/s]"
     ]
    },
    {
     "name": "stdout",
     "output_type": "stream",
     "text": [
      ".\\ICDAR\\ICDAR2019_cTDaR/training\\TRACKB1\\ground_truth\\cTDaR_t00284.xml 2137 2639\n"
     ]
    },
    {
     "name": "stderr",
     "output_type": "stream",
     "text": [
      "191it [01:10,  2.31it/s]"
     ]
    },
    {
     "name": "stdout",
     "output_type": "stream",
     "text": [
      ".\\ICDAR\\ICDAR2019_cTDaR/training\\TRACKB1\\ground_truth\\cTDaR_t00304.xml 8177 6218\n"
     ]
    },
    {
     "name": "stderr",
     "output_type": "stream",
     "text": [
      "192it [01:11,  1.58it/s]"
     ]
    },
    {
     "name": "stdout",
     "output_type": "stream",
     "text": [
      ".\\ICDAR\\ICDAR2019_cTDaR/training\\TRACKB1\\ground_truth\\cTDaR_t00305.xml 8188 6222\n"
     ]
    },
    {
     "name": "stderr",
     "output_type": "stream",
     "text": [
      "193it [01:12,  1.34it/s]"
     ]
    },
    {
     "name": "stdout",
     "output_type": "stream",
     "text": [
      ".\\ICDAR\\ICDAR2019_cTDaR/training\\TRACKB1\\ground_truth\\cTDaR_t00306.xml 8201 6241\n"
     ]
    },
    {
     "name": "stderr",
     "output_type": "stream",
     "text": [
      "194it [01:13,  1.24it/s]"
     ]
    },
    {
     "name": "stdout",
     "output_type": "stream",
     "text": [
      ".\\ICDAR\\ICDAR2019_cTDaR/training\\TRACKB1\\ground_truth\\cTDaR_t00307.xml 8302 6198\n"
     ]
    },
    {
     "name": "stderr",
     "output_type": "stream",
     "text": [
      "195it [01:14,  1.09it/s]"
     ]
    },
    {
     "name": "stdout",
     "output_type": "stream",
     "text": [
      ".\\ICDAR\\ICDAR2019_cTDaR/training\\TRACKB1\\ground_truth\\cTDaR_t00308.xml 8268 6151\n"
     ]
    },
    {
     "name": "stderr",
     "output_type": "stream",
     "text": [
      "196it [01:15,  1.03it/s]"
     ]
    },
    {
     "name": "stdout",
     "output_type": "stream",
     "text": [
      ".\\ICDAR\\ICDAR2019_cTDaR/training\\TRACKB1\\ground_truth\\cTDaR_t00309.xml 8313 6205\n"
     ]
    },
    {
     "name": "stderr",
     "output_type": "stream",
     "text": [
      "197it [01:16,  1.02it/s]"
     ]
    },
    {
     "name": "stdout",
     "output_type": "stream",
     "text": [
      ".\\ICDAR\\ICDAR2019_cTDaR/training\\TRACKB1\\ground_truth\\cTDaR_t00310.xml 8308 6224\n"
     ]
    },
    {
     "name": "stderr",
     "output_type": "stream",
     "text": [
      "198it [01:17,  1.04it/s]"
     ]
    },
    {
     "name": "stdout",
     "output_type": "stream",
     "text": [
      ".\\ICDAR\\ICDAR2019_cTDaR/training\\TRACKB1\\ground_truth\\cTDaR_t00311.xml 8311 6229\n"
     ]
    },
    {
     "name": "stderr",
     "output_type": "stream",
     "text": [
      "199it [01:18,  1.02it/s]"
     ]
    },
    {
     "name": "stdout",
     "output_type": "stream",
     "text": [
      ".\\ICDAR\\ICDAR2019_cTDaR/training\\TRACKB1\\ground_truth\\cTDaR_t00312.xml 8352 6230\n"
     ]
    },
    {
     "name": "stderr",
     "output_type": "stream",
     "text": [
      "200it [01:21,  1.50s/it]"
     ]
    },
    {
     "name": "stdout",
     "output_type": "stream",
     "text": [
      ".\\ICDAR\\ICDAR2019_cTDaR/training\\TRACKB1\\ground_truth\\cTDaR_t00313.xml 8316 6181\n"
     ]
    },
    {
     "name": "stderr",
     "output_type": "stream",
     "text": [
      "201it [01:22,  1.32s/it]"
     ]
    },
    {
     "name": "stdout",
     "output_type": "stream",
     "text": [
      ".\\ICDAR\\ICDAR2019_cTDaR/training\\TRACKB1\\ground_truth\\cTDaR_t00314.xml 8330 6227\n"
     ]
    },
    {
     "name": "stderr",
     "output_type": "stream",
     "text": [
      "202it [01:24,  1.51s/it]"
     ]
    },
    {
     "name": "stdout",
     "output_type": "stream",
     "text": [
      ".\\ICDAR\\ICDAR2019_cTDaR/training\\TRACKB1\\ground_truth\\cTDaR_t00315.xml 8334 6226\n"
     ]
    },
    {
     "name": "stderr",
     "output_type": "stream",
     "text": [
      "203it [01:25,  1.33s/it]"
     ]
    },
    {
     "name": "stdout",
     "output_type": "stream",
     "text": [
      ".\\ICDAR\\ICDAR2019_cTDaR/training\\TRACKB1\\ground_truth\\cTDaR_t00316.xml 8329 6216\n"
     ]
    },
    {
     "name": "stderr",
     "output_type": "stream",
     "text": [
      "204it [01:26,  1.27s/it]"
     ]
    },
    {
     "name": "stdout",
     "output_type": "stream",
     "text": [
      ".\\ICDAR\\ICDAR2019_cTDaR/training\\TRACKB1\\ground_truth\\cTDaR_t00317.xml 8352 6219\n"
     ]
    },
    {
     "name": "stderr",
     "output_type": "stream",
     "text": [
      "205it [01:27,  1.16s/it]"
     ]
    },
    {
     "name": "stdout",
     "output_type": "stream",
     "text": [
      ".\\ICDAR\\ICDAR2019_cTDaR/training\\TRACKB1\\ground_truth\\cTDaR_t00318.xml 8337 6234\n"
     ]
    },
    {
     "name": "stderr",
     "output_type": "stream",
     "text": [
      "206it [01:28,  1.08s/it]"
     ]
    },
    {
     "name": "stdout",
     "output_type": "stream",
     "text": [
      ".\\ICDAR\\ICDAR2019_cTDaR/training\\TRACKB1\\ground_truth\\cTDaR_t00319.xml 8336 6191\n"
     ]
    },
    {
     "name": "stderr",
     "output_type": "stream",
     "text": [
      "207it [01:29,  1.07s/it]"
     ]
    },
    {
     "name": "stdout",
     "output_type": "stream",
     "text": [
      ".\\ICDAR\\ICDAR2019_cTDaR/training\\TRACKB1\\ground_truth\\cTDaR_t00320.xml 8334 6192\n"
     ]
    },
    {
     "name": "stderr",
     "output_type": "stream",
     "text": [
      "208it [01:30,  1.07s/it]"
     ]
    },
    {
     "name": "stdout",
     "output_type": "stream",
     "text": [
      ".\\ICDAR\\ICDAR2019_cTDaR/training\\TRACKB1\\ground_truth\\cTDaR_t00321.xml 8319 6254\n"
     ]
    },
    {
     "name": "stderr",
     "output_type": "stream",
     "text": [
      "209it [01:30,  1.08it/s]"
     ]
    },
    {
     "name": "stdout",
     "output_type": "stream",
     "text": [
      ".\\ICDAR\\ICDAR2019_cTDaR/training\\TRACKB1\\ground_truth\\cTDaR_t00343.xml 5829 4460\n"
     ]
    },
    {
     "name": "stderr",
     "output_type": "stream",
     "text": [
      "210it [01:31,  1.21it/s]"
     ]
    },
    {
     "name": "stdout",
     "output_type": "stream",
     "text": [
      ".\\ICDAR\\ICDAR2019_cTDaR/training\\TRACKB1\\ground_truth\\cTDaR_t00344.xml 5829 4476\n"
     ]
    },
    {
     "name": "stderr",
     "output_type": "stream",
     "text": [
      "211it [01:32,  1.30it/s]"
     ]
    },
    {
     "name": "stdout",
     "output_type": "stream",
     "text": [
      ".\\ICDAR\\ICDAR2019_cTDaR/training\\TRACKB1\\ground_truth\\cTDaR_t00345.xml 5857 4465\n"
     ]
    },
    {
     "name": "stderr",
     "output_type": "stream",
     "text": [
      "212it [01:32,  1.41it/s]"
     ]
    },
    {
     "name": "stdout",
     "output_type": "stream",
     "text": [
      ".\\ICDAR\\ICDAR2019_cTDaR/training\\TRACKB1\\ground_truth\\cTDaR_t00346.xml 5833 4469\n"
     ]
    },
    {
     "name": "stderr",
     "output_type": "stream",
     "text": [
      "213it [01:33,  1.50it/s]"
     ]
    },
    {
     "name": "stdout",
     "output_type": "stream",
     "text": [
      ".\\ICDAR\\ICDAR2019_cTDaR/training\\TRACKB1\\ground_truth\\cTDaR_t00347.xml 5849 4471\n"
     ]
    },
    {
     "name": "stderr",
     "output_type": "stream",
     "text": [
      "214it [01:33,  1.55it/s]"
     ]
    },
    {
     "name": "stdout",
     "output_type": "stream",
     "text": [
      ".\\ICDAR\\ICDAR2019_cTDaR/training\\TRACKB1\\ground_truth\\cTDaR_t00348.xml 5821 4462\n"
     ]
    },
    {
     "name": "stderr",
     "output_type": "stream",
     "text": [
      "215it [01:34,  1.64it/s]"
     ]
    },
    {
     "name": "stdout",
     "output_type": "stream",
     "text": [
      ".\\ICDAR\\ICDAR2019_cTDaR/training\\TRACKB1\\ground_truth\\cTDaR_t00349.xml 5829 4464\n"
     ]
    },
    {
     "name": "stderr",
     "output_type": "stream",
     "text": [
      "216it [01:35,  1.60it/s]"
     ]
    },
    {
     "name": "stdout",
     "output_type": "stream",
     "text": [
      ".\\ICDAR\\ICDAR2019_cTDaR/training\\TRACKB1\\ground_truth\\cTDaR_t00350.xml 5833 4481\n"
     ]
    },
    {
     "name": "stderr",
     "output_type": "stream",
     "text": [
      "217it [01:35,  1.71it/s]"
     ]
    },
    {
     "name": "stdout",
     "output_type": "stream",
     "text": [
      ".\\ICDAR\\ICDAR2019_cTDaR/training\\TRACKB1\\ground_truth\\cTDaR_t00351.xml 5821 4481\n"
     ]
    },
    {
     "name": "stderr",
     "output_type": "stream",
     "text": [
      "218it [01:36,  1.75it/s]"
     ]
    },
    {
     "name": "stdout",
     "output_type": "stream",
     "text": [
      ".\\ICDAR\\ICDAR2019_cTDaR/training\\TRACKB1\\ground_truth\\cTDaR_t00352.xml 5817 4463\n"
     ]
    },
    {
     "name": "stderr",
     "output_type": "stream",
     "text": [
      "219it [01:36,  1.69it/s]"
     ]
    },
    {
     "name": "stdout",
     "output_type": "stream",
     "text": [
      ".\\ICDAR\\ICDAR2019_cTDaR/training\\TRACKB1\\ground_truth\\cTDaR_t00353.xml 5829 4463\n"
     ]
    },
    {
     "name": "stderr",
     "output_type": "stream",
     "text": [
      "220it [01:37,  1.68it/s]"
     ]
    },
    {
     "name": "stdout",
     "output_type": "stream",
     "text": [
      ".\\ICDAR\\ICDAR2019_cTDaR/training\\TRACKB1\\ground_truth\\cTDaR_t00354.xml 5841 4508\n"
     ]
    },
    {
     "name": "stderr",
     "output_type": "stream",
     "text": [
      "221it [01:37,  1.77it/s]"
     ]
    },
    {
     "name": "stdout",
     "output_type": "stream",
     "text": [
      ".\\ICDAR\\ICDAR2019_cTDaR/training\\TRACKB1\\ground_truth\\cTDaR_t00355.xml 5853 4468\n"
     ]
    },
    {
     "name": "stderr",
     "output_type": "stream",
     "text": [
      "222it [01:38,  1.85it/s]"
     ]
    },
    {
     "name": "stdout",
     "output_type": "stream",
     "text": [
      ".\\ICDAR\\ICDAR2019_cTDaR/training\\TRACKB1\\ground_truth\\cTDaR_t00356.xml 5845 4481\n"
     ]
    },
    {
     "name": "stderr",
     "output_type": "stream",
     "text": [
      "223it [01:38,  1.93it/s]"
     ]
    },
    {
     "name": "stdout",
     "output_type": "stream",
     "text": [
      ".\\ICDAR\\ICDAR2019_cTDaR/training\\TRACKB1\\ground_truth\\cTDaR_t00357.xml 5881 4492\n"
     ]
    },
    {
     "name": "stderr",
     "output_type": "stream",
     "text": [
      "224it [01:39,  1.95it/s]"
     ]
    },
    {
     "name": "stdout",
     "output_type": "stream",
     "text": [
      ".\\ICDAR\\ICDAR2019_cTDaR/training\\TRACKB1\\ground_truth\\cTDaR_t00358.xml 5857 4481\n"
     ]
    },
    {
     "name": "stderr",
     "output_type": "stream",
     "text": [
      "225it [01:39,  1.95it/s]"
     ]
    },
    {
     "name": "stdout",
     "output_type": "stream",
     "text": [
      ".\\ICDAR\\ICDAR2019_cTDaR/training\\TRACKB1\\ground_truth\\cTDaR_t00359.xml 5845 4475\n"
     ]
    },
    {
     "name": "stderr",
     "output_type": "stream",
     "text": [
      "226it [01:40,  1.82it/s]"
     ]
    },
    {
     "name": "stdout",
     "output_type": "stream",
     "text": [
      ".\\ICDAR\\ICDAR2019_cTDaR/training\\TRACKB1\\ground_truth\\cTDaR_t00360.xml 5857 4463\n"
     ]
    },
    {
     "name": "stderr",
     "output_type": "stream",
     "text": [
      "227it [01:41,  1.73it/s]"
     ]
    },
    {
     "name": "stdout",
     "output_type": "stream",
     "text": [
      ".\\ICDAR\\ICDAR2019_cTDaR/training\\TRACKB1\\ground_truth\\cTDaR_t00361.xml 5857 4463\n"
     ]
    },
    {
     "name": "stderr",
     "output_type": "stream",
     "text": [
      "228it [01:41,  1.68it/s]"
     ]
    },
    {
     "name": "stdout",
     "output_type": "stream",
     "text": [
      ".\\ICDAR\\ICDAR2019_cTDaR/training\\TRACKB1\\ground_truth\\cTDaR_t00362.xml 5829 4463\n"
     ]
    },
    {
     "name": "stderr",
     "output_type": "stream",
     "text": [
      "229it [01:42,  1.53it/s]"
     ]
    },
    {
     "name": "stdout",
     "output_type": "stream",
     "text": [
      ".\\ICDAR\\ICDAR2019_cTDaR/training\\TRACKB1\\ground_truth\\cTDaR_t00363.xml 5829 4451\n"
     ]
    },
    {
     "name": "stderr",
     "output_type": "stream",
     "text": [
      "230it [01:42,  1.61it/s]"
     ]
    },
    {
     "name": "stdout",
     "output_type": "stream",
     "text": [
      ".\\ICDAR\\ICDAR2019_cTDaR/training\\TRACKB1\\ground_truth\\cTDaR_t00364.xml 5865 4463\n"
     ]
    },
    {
     "name": "stderr",
     "output_type": "stream",
     "text": [
      "231it [01:43,  1.49it/s]"
     ]
    },
    {
     "name": "stdout",
     "output_type": "stream",
     "text": [
      ".\\ICDAR\\ICDAR2019_cTDaR/training\\TRACKB1\\ground_truth\\cTDaR_t00365.xml 5873 4482\n"
     ]
    },
    {
     "name": "stderr",
     "output_type": "stream",
     "text": [
      "232it [01:44,  1.59it/s]"
     ]
    },
    {
     "name": "stdout",
     "output_type": "stream",
     "text": [
      ".\\ICDAR\\ICDAR2019_cTDaR/training\\TRACKB1\\ground_truth\\cTDaR_t00366.xml 5853 4471\n"
     ]
    },
    {
     "name": "stderr",
     "output_type": "stream",
     "text": [
      "233it [01:45,  1.51it/s]"
     ]
    },
    {
     "name": "stdout",
     "output_type": "stream",
     "text": [
      ".\\ICDAR\\ICDAR2019_cTDaR/training\\TRACKB1\\ground_truth\\cTDaR_t00367.xml 5865 4475\n"
     ]
    },
    {
     "name": "stderr",
     "output_type": "stream",
     "text": [
      "234it [01:45,  1.51it/s]"
     ]
    },
    {
     "name": "stdout",
     "output_type": "stream",
     "text": [
      ".\\ICDAR\\ICDAR2019_cTDaR/training\\TRACKB1\\ground_truth\\cTDaR_t00368.xml 5861 4466\n"
     ]
    },
    {
     "name": "stderr",
     "output_type": "stream",
     "text": [
      "235it [01:46,  1.60it/s]"
     ]
    },
    {
     "name": "stdout",
     "output_type": "stream",
     "text": [
      ".\\ICDAR\\ICDAR2019_cTDaR/training\\TRACKB1\\ground_truth\\cTDaR_t00369.xml 5861 4490\n"
     ]
    },
    {
     "name": "stderr",
     "output_type": "stream",
     "text": [
      "236it [01:46,  1.62it/s]"
     ]
    },
    {
     "name": "stdout",
     "output_type": "stream",
     "text": [
      ".\\ICDAR\\ICDAR2019_cTDaR/training\\TRACKB1\\ground_truth\\cTDaR_t00370.xml 5849 4478\n"
     ]
    },
    {
     "name": "stderr",
     "output_type": "stream",
     "text": [
      "237it [01:50,  1.48s/it]"
     ]
    },
    {
     "name": "stdout",
     "output_type": "stream",
     "text": [
      ".\\ICDAR\\ICDAR2019_cTDaR/training\\TRACKB1\\ground_truth\\cTDaR_t00371.xml 5849 4490\n"
     ]
    },
    {
     "name": "stderr",
     "output_type": "stream",
     "text": [
      "238it [01:51,  1.32s/it]"
     ]
    },
    {
     "name": "stdout",
     "output_type": "stream",
     "text": [
      ".\\ICDAR\\ICDAR2019_cTDaR/training\\TRACKB1\\ground_truth\\cTDaR_t00372.xml 5865 4475\n"
     ]
    },
    {
     "name": "stderr",
     "output_type": "stream",
     "text": [
      "239it [01:52,  1.19s/it]"
     ]
    },
    {
     "name": "stdout",
     "output_type": "stream",
     "text": [
      ".\\ICDAR\\ICDAR2019_cTDaR/training\\TRACKB1\\ground_truth\\cTDaR_t00373.xml 5861 4466\n"
     ]
    },
    {
     "name": "stderr",
     "output_type": "stream",
     "text": [
      "240it [01:52,  1.06s/it]"
     ]
    },
    {
     "name": "stdout",
     "output_type": "stream",
     "text": [
      ".\\ICDAR\\ICDAR2019_cTDaR/training\\TRACKB1\\ground_truth\\cTDaR_t00388.xml 6416 4780\n"
     ]
    },
    {
     "name": "stderr",
     "output_type": "stream",
     "text": [
      "241it [01:53,  1.03s/it]"
     ]
    },
    {
     "name": "stdout",
     "output_type": "stream",
     "text": [
      ".\\ICDAR\\ICDAR2019_cTDaR/training\\TRACKB1\\ground_truth\\cTDaR_t00389.xml 6482 4780\n"
     ]
    },
    {
     "name": "stderr",
     "output_type": "stream",
     "text": [
      "242it [01:54,  1.08it/s]"
     ]
    },
    {
     "name": "stdout",
     "output_type": "stream",
     "text": [
      ".\\ICDAR\\ICDAR2019_cTDaR/training\\TRACKB1\\ground_truth\\cTDaR_t00390.xml 5388 4202\n"
     ]
    },
    {
     "name": "stderr",
     "output_type": "stream",
     "text": [
      "243it [01:55,  1.24it/s]"
     ]
    },
    {
     "name": "stdout",
     "output_type": "stream",
     "text": [
      ".\\ICDAR\\ICDAR2019_cTDaR/training\\TRACKB1\\ground_truth\\cTDaR_t00391.xml 4212 3148\n"
     ]
    },
    {
     "name": "stderr",
     "output_type": "stream",
     "text": [
      "244it [01:55,  1.39it/s]"
     ]
    },
    {
     "name": "stdout",
     "output_type": "stream",
     "text": [
      ".\\ICDAR\\ICDAR2019_cTDaR/training\\TRACKB1\\ground_truth\\cTDaR_t00392.xml 4212 3148\n"
     ]
    },
    {
     "name": "stderr",
     "output_type": "stream",
     "text": [
      "245it [01:56,  1.58it/s]"
     ]
    },
    {
     "name": "stdout",
     "output_type": "stream",
     "text": [
      ".\\ICDAR\\ICDAR2019_cTDaR/training\\TRACKB1\\ground_truth\\cTDaR_t00393.xml 4274 3226\n"
     ]
    },
    {
     "name": "stderr",
     "output_type": "stream",
     "text": [
      "246it [01:56,  1.72it/s]"
     ]
    },
    {
     "name": "stdout",
     "output_type": "stream",
     "text": [
      ".\\ICDAR\\ICDAR2019_cTDaR/training\\TRACKB1\\ground_truth\\cTDaR_t00394.xml 4274 3226\n"
     ]
    },
    {
     "name": "stderr",
     "output_type": "stream",
     "text": [
      "247it [01:57,  1.44it/s]"
     ]
    },
    {
     "name": "stdout",
     "output_type": "stream",
     "text": [
      ".\\ICDAR\\ICDAR2019_cTDaR/training\\TRACKB1\\ground_truth\\cTDaR_t00395.xml 5458 4182\n"
     ]
    },
    {
     "name": "stderr",
     "output_type": "stream",
     "text": [
      "248it [01:58,  1.44it/s]"
     ]
    },
    {
     "name": "stdout",
     "output_type": "stream",
     "text": [
      ".\\ICDAR\\ICDAR2019_cTDaR/training\\TRACKB1\\ground_truth\\cTDaR_t00396.xml 5458 4182\n"
     ]
    },
    {
     "name": "stderr",
     "output_type": "stream",
     "text": [
      "249it [01:58,  1.58it/s]"
     ]
    },
    {
     "name": "stdout",
     "output_type": "stream",
     "text": [
      ".\\ICDAR\\ICDAR2019_cTDaR/training\\TRACKB1\\ground_truth\\cTDaR_t00397.xml 4059 3109\n"
     ]
    },
    {
     "name": "stderr",
     "output_type": "stream",
     "text": [
      "250it [01:59,  1.66it/s]"
     ]
    },
    {
     "name": "stdout",
     "output_type": "stream",
     "text": [
      ".\\ICDAR\\ICDAR2019_cTDaR/training\\TRACKB1\\ground_truth\\cTDaR_t00398.xml 4003 3127\n"
     ]
    },
    {
     "name": "stderr",
     "output_type": "stream",
     "text": [
      "251it [02:00,  1.38it/s]"
     ]
    },
    {
     "name": "stdout",
     "output_type": "stream",
     "text": [
      ".\\ICDAR\\ICDAR2019_cTDaR/training\\TRACKB1\\ground_truth\\cTDaR_t00403.xml 3251 4859\n"
     ]
    },
    {
     "name": "stderr",
     "output_type": "stream",
     "text": [
      "252it [02:01,  1.21it/s]"
     ]
    },
    {
     "name": "stdout",
     "output_type": "stream",
     "text": [
      ".\\ICDAR\\ICDAR2019_cTDaR/training\\TRACKB1\\ground_truth\\cTDaR_t00404.xml 3251 4859\n"
     ]
    },
    {
     "name": "stderr",
     "output_type": "stream",
     "text": [
      "253it [02:02,  1.19it/s]"
     ]
    },
    {
     "name": "stdout",
     "output_type": "stream",
     "text": [
      ".\\ICDAR\\ICDAR2019_cTDaR/training\\TRACKB1\\ground_truth\\cTDaR_t00405.xml 3251 4859\n"
     ]
    },
    {
     "name": "stderr",
     "output_type": "stream",
     "text": [
      "254it [02:03,  1.17it/s]"
     ]
    },
    {
     "name": "stdout",
     "output_type": "stream",
     "text": [
      ".\\ICDAR\\ICDAR2019_cTDaR/training\\TRACKB1\\ground_truth\\cTDaR_t00406.xml 3251 4859\n"
     ]
    },
    {
     "name": "stderr",
     "output_type": "stream",
     "text": [
      "255it [02:03,  1.15it/s]"
     ]
    },
    {
     "name": "stdout",
     "output_type": "stream",
     "text": [
      ".\\ICDAR\\ICDAR2019_cTDaR/training\\TRACKB1\\ground_truth\\cTDaR_t00407.xml 3251 4859\n"
     ]
    },
    {
     "name": "stderr",
     "output_type": "stream",
     "text": [
      "256it [02:04,  1.18it/s]"
     ]
    },
    {
     "name": "stdout",
     "output_type": "stream",
     "text": [
      ".\\ICDAR\\ICDAR2019_cTDaR/training\\TRACKB1\\ground_truth\\cTDaR_t00408.xml 3251 4859\n"
     ]
    },
    {
     "name": "stderr",
     "output_type": "stream",
     "text": [
      "257it [02:05,  1.20it/s]"
     ]
    },
    {
     "name": "stdout",
     "output_type": "stream",
     "text": [
      ".\\ICDAR\\ICDAR2019_cTDaR/training\\TRACKB1\\ground_truth\\cTDaR_t00409.xml 3251 4859\n"
     ]
    },
    {
     "name": "stderr",
     "output_type": "stream",
     "text": [
      "258it [02:06,  1.18it/s]"
     ]
    },
    {
     "name": "stdout",
     "output_type": "stream",
     "text": [
      ".\\ICDAR\\ICDAR2019_cTDaR/training\\TRACKB1\\ground_truth\\cTDaR_t00410.xml 3251 4859\n"
     ]
    },
    {
     "name": "stderr",
     "output_type": "stream",
     "text": [
      "259it [02:07,  1.11it/s]"
     ]
    },
    {
     "name": "stdout",
     "output_type": "stream",
     "text": [
      ".\\ICDAR\\ICDAR2019_cTDaR/training\\TRACKB1\\ground_truth\\cTDaR_t00411.xml 3251 4859\n"
     ]
    },
    {
     "name": "stderr",
     "output_type": "stream",
     "text": [
      "260it [02:08,  1.13it/s]"
     ]
    },
    {
     "name": "stdout",
     "output_type": "stream",
     "text": [
      ".\\ICDAR\\ICDAR2019_cTDaR/training\\TRACKB1\\ground_truth\\cTDaR_t00412.xml 3251 4859\n"
     ]
    },
    {
     "name": "stderr",
     "output_type": "stream",
     "text": [
      "261it [02:09,  1.18it/s]"
     ]
    },
    {
     "name": "stdout",
     "output_type": "stream",
     "text": [
      ".\\ICDAR\\ICDAR2019_cTDaR/training\\TRACKB1\\ground_truth\\cTDaR_t00413.xml 3251 4859\n"
     ]
    },
    {
     "name": "stderr",
     "output_type": "stream",
     "text": [
      "262it [02:09,  1.20it/s]"
     ]
    },
    {
     "name": "stdout",
     "output_type": "stream",
     "text": [
      ".\\ICDAR\\ICDAR2019_cTDaR/training\\TRACKB1\\ground_truth\\cTDaR_t00414.xml 3251 4859\n"
     ]
    },
    {
     "name": "stderr",
     "output_type": "stream",
     "text": [
      "263it [02:10,  1.27it/s]"
     ]
    },
    {
     "name": "stdout",
     "output_type": "stream",
     "text": [
      ".\\ICDAR\\ICDAR2019_cTDaR/training\\TRACKB1\\ground_truth\\cTDaR_t00415.xml 3251 4859\n"
     ]
    },
    {
     "name": "stderr",
     "output_type": "stream",
     "text": [
      "264it [02:11,  1.27it/s]"
     ]
    },
    {
     "name": "stdout",
     "output_type": "stream",
     "text": [
      ".\\ICDAR\\ICDAR2019_cTDaR/training\\TRACKB1\\ground_truth\\cTDaR_t00416.xml 3251 4859\n"
     ]
    },
    {
     "name": "stderr",
     "output_type": "stream",
     "text": [
      "265it [02:11,  1.36it/s]"
     ]
    },
    {
     "name": "stdout",
     "output_type": "stream",
     "text": [
      ".\\ICDAR\\ICDAR2019_cTDaR/training\\TRACKB1\\ground_truth\\cTDaR_t00417.xml 3251 4859\n"
     ]
    },
    {
     "name": "stderr",
     "output_type": "stream",
     "text": [
      "266it [02:12,  1.43it/s]"
     ]
    },
    {
     "name": "stdout",
     "output_type": "stream",
     "text": [
      ".\\ICDAR\\ICDAR2019_cTDaR/training\\TRACKB1\\ground_truth\\cTDaR_t00418.xml 3251 4859\n"
     ]
    },
    {
     "name": "stderr",
     "output_type": "stream",
     "text": [
      "267it [02:13,  1.54it/s]"
     ]
    },
    {
     "name": "stdout",
     "output_type": "stream",
     "text": [
      ".\\ICDAR\\ICDAR2019_cTDaR/training\\TRACKB1\\ground_truth\\cTDaR_t00419.xml 3251 4859\n"
     ]
    },
    {
     "name": "stderr",
     "output_type": "stream",
     "text": [
      "268it [02:13,  1.55it/s]"
     ]
    },
    {
     "name": "stdout",
     "output_type": "stream",
     "text": [
      ".\\ICDAR\\ICDAR2019_cTDaR/training\\TRACKB1\\ground_truth\\cTDaR_t00420.xml 3251 4859\n"
     ]
    },
    {
     "name": "stderr",
     "output_type": "stream",
     "text": [
      "269it [02:14,  1.61it/s]"
     ]
    },
    {
     "name": "stdout",
     "output_type": "stream",
     "text": [
      ".\\ICDAR\\ICDAR2019_cTDaR/training\\TRACKB1\\ground_truth\\cTDaR_t00421.xml 3251 4859\n"
     ]
    },
    {
     "name": "stderr",
     "output_type": "stream",
     "text": [
      "270it [02:14,  1.58it/s]"
     ]
    },
    {
     "name": "stdout",
     "output_type": "stream",
     "text": [
      ".\\ICDAR\\ICDAR2019_cTDaR/training\\TRACKB1\\ground_truth\\cTDaR_t00422.xml 3251 4859\n"
     ]
    },
    {
     "name": "stderr",
     "output_type": "stream",
     "text": [
      "271it [02:15,  1.57it/s]"
     ]
    },
    {
     "name": "stdout",
     "output_type": "stream",
     "text": [
      ".\\ICDAR\\ICDAR2019_cTDaR/training\\TRACKB1\\ground_truth\\cTDaR_t00423.xml 3251 4859\n"
     ]
    },
    {
     "name": "stderr",
     "output_type": "stream",
     "text": [
      "272it [02:16,  1.58it/s]"
     ]
    },
    {
     "name": "stdout",
     "output_type": "stream",
     "text": [
      ".\\ICDAR\\ICDAR2019_cTDaR/training\\TRACKB1\\ground_truth\\cTDaR_t00424.xml 3251 4859\n"
     ]
    },
    {
     "name": "stderr",
     "output_type": "stream",
     "text": [
      "273it [02:16,  1.47it/s]"
     ]
    },
    {
     "name": "stdout",
     "output_type": "stream",
     "text": [
      ".\\ICDAR\\ICDAR2019_cTDaR/training\\TRACKB1\\ground_truth\\cTDaR_t00425.xml 3251 4859\n"
     ]
    },
    {
     "name": "stderr",
     "output_type": "stream",
     "text": [
      "274it [02:17,  1.49it/s]"
     ]
    },
    {
     "name": "stdout",
     "output_type": "stream",
     "text": [
      ".\\ICDAR\\ICDAR2019_cTDaR/training\\TRACKB1\\ground_truth\\cTDaR_t00426.xml 3251 4859\n"
     ]
    },
    {
     "name": "stderr",
     "output_type": "stream",
     "text": [
      "275it [02:18,  1.48it/s]"
     ]
    },
    {
     "name": "stdout",
     "output_type": "stream",
     "text": [
      ".\\ICDAR\\ICDAR2019_cTDaR/training\\TRACKB1\\ground_truth\\cTDaR_t00427.xml 3251 4859\n"
     ]
    },
    {
     "name": "stderr",
     "output_type": "stream",
     "text": [
      "276it [02:18,  1.50it/s]"
     ]
    },
    {
     "name": "stdout",
     "output_type": "stream",
     "text": [
      ".\\ICDAR\\ICDAR2019_cTDaR/training\\TRACKB1\\ground_truth\\cTDaR_t00428.xml 3251 4859\n"
     ]
    },
    {
     "name": "stderr",
     "output_type": "stream",
     "text": [
      "277it [02:19,  1.50it/s]"
     ]
    },
    {
     "name": "stdout",
     "output_type": "stream",
     "text": [
      ".\\ICDAR\\ICDAR2019_cTDaR/training\\TRACKB1\\ground_truth\\cTDaR_t00429.xml 3251 4859\n"
     ]
    },
    {
     "name": "stderr",
     "output_type": "stream",
     "text": [
      "278it [02:20,  1.58it/s]"
     ]
    },
    {
     "name": "stdout",
     "output_type": "stream",
     "text": [
      ".\\ICDAR\\ICDAR2019_cTDaR/training\\TRACKB1\\ground_truth\\cTDaR_t00430.xml 3251 4859\n"
     ]
    },
    {
     "name": "stderr",
     "output_type": "stream",
     "text": [
      "279it [02:20,  1.57it/s]"
     ]
    },
    {
     "name": "stdout",
     "output_type": "stream",
     "text": [
      ".\\ICDAR\\ICDAR2019_cTDaR/training\\TRACKB1\\ground_truth\\cTDaR_t00431.xml 3251 4859\n"
     ]
    },
    {
     "name": "stderr",
     "output_type": "stream",
     "text": [
      "280it [02:21,  1.57it/s]"
     ]
    },
    {
     "name": "stdout",
     "output_type": "stream",
     "text": [
      ".\\ICDAR\\ICDAR2019_cTDaR/training\\TRACKB1\\ground_truth\\cTDaR_t00432.xml 3251 4859\n"
     ]
    },
    {
     "name": "stderr",
     "output_type": "stream",
     "text": [
      "281it [02:22,  1.62it/s]"
     ]
    },
    {
     "name": "stdout",
     "output_type": "stream",
     "text": [
      ".\\ICDAR\\ICDAR2019_cTDaR/training\\TRACKB1\\ground_truth\\cTDaR_t00433.xml 3251 4859\n"
     ]
    },
    {
     "name": "stderr",
     "output_type": "stream",
     "text": [
      "282it [02:22,  1.62it/s]"
     ]
    },
    {
     "name": "stdout",
     "output_type": "stream",
     "text": [
      ".\\ICDAR\\ICDAR2019_cTDaR/training\\TRACKB1\\ground_truth\\cTDaR_t00434.xml 3251 4859\n"
     ]
    },
    {
     "name": "stderr",
     "output_type": "stream",
     "text": [
      "283it [02:23,  1.62it/s]"
     ]
    },
    {
     "name": "stdout",
     "output_type": "stream",
     "text": [
      ".\\ICDAR\\ICDAR2019_cTDaR/training\\TRACKB1\\ground_truth\\cTDaR_t00435.xml 3251 4859\n"
     ]
    },
    {
     "name": "stderr",
     "output_type": "stream",
     "text": [
      "284it [02:24,  1.53it/s]"
     ]
    },
    {
     "name": "stdout",
     "output_type": "stream",
     "text": [
      ".\\ICDAR\\ICDAR2019_cTDaR/training\\TRACKB1\\ground_truth\\cTDaR_t00436.xml 3251 4859\n"
     ]
    },
    {
     "name": "stderr",
     "output_type": "stream",
     "text": [
      "285it [02:24,  1.53it/s]"
     ]
    },
    {
     "name": "stdout",
     "output_type": "stream",
     "text": [
      ".\\ICDAR\\ICDAR2019_cTDaR/training\\TRACKB1\\ground_truth\\cTDaR_t00437.xml 3251 4859\n"
     ]
    },
    {
     "name": "stderr",
     "output_type": "stream",
     "text": [
      "286it [02:25,  1.55it/s]"
     ]
    },
    {
     "name": "stdout",
     "output_type": "stream",
     "text": [
      ".\\ICDAR\\ICDAR2019_cTDaR/training\\TRACKB1\\ground_truth\\cTDaR_t00438.xml 3251 4859\n"
     ]
    },
    {
     "name": "stderr",
     "output_type": "stream",
     "text": [
      "287it [02:25,  1.51it/s]"
     ]
    },
    {
     "name": "stdout",
     "output_type": "stream",
     "text": [
      ".\\ICDAR\\ICDAR2019_cTDaR/training\\TRACKB1\\ground_truth\\cTDaR_t00439.xml 3251 4859\n"
     ]
    },
    {
     "name": "stderr",
     "output_type": "stream",
     "text": [
      "288it [02:26,  1.58it/s]"
     ]
    },
    {
     "name": "stdout",
     "output_type": "stream",
     "text": [
      ".\\ICDAR\\ICDAR2019_cTDaR/training\\TRACKB1\\ground_truth\\cTDaR_t00440.xml 3251 4859\n"
     ]
    },
    {
     "name": "stderr",
     "output_type": "stream",
     "text": [
      "289it [02:27,  1.59it/s]"
     ]
    },
    {
     "name": "stdout",
     "output_type": "stream",
     "text": [
      ".\\ICDAR\\ICDAR2019_cTDaR/training\\TRACKB1\\ground_truth\\cTDaR_t00441.xml 3251 4859\n"
     ]
    },
    {
     "name": "stderr",
     "output_type": "stream",
     "text": [
      "290it [02:27,  1.60it/s]"
     ]
    },
    {
     "name": "stdout",
     "output_type": "stream",
     "text": [
      ".\\ICDAR\\ICDAR2019_cTDaR/training\\TRACKB1\\ground_truth\\cTDaR_t00442.xml 3251 4859\n"
     ]
    },
    {
     "name": "stderr",
     "output_type": "stream",
     "text": [
      "291it [02:28,  1.62it/s]"
     ]
    },
    {
     "name": "stdout",
     "output_type": "stream",
     "text": [
      ".\\ICDAR\\ICDAR2019_cTDaR/training\\TRACKB1\\ground_truth\\cTDaR_t00443.xml 3251 4859\n"
     ]
    },
    {
     "name": "stderr",
     "output_type": "stream",
     "text": [
      "292it [02:28,  1.81it/s]"
     ]
    },
    {
     "name": "stdout",
     "output_type": "stream",
     "text": [
      ".\\ICDAR\\ICDAR2019_cTDaR/training\\TRACKB1\\ground_truth\\cTDaR_t00448.JPG 2848 4288\n"
     ]
    },
    {
     "name": "stderr",
     "output_type": "stream",
     "text": [
      "293it [02:29,  1.95it/s]"
     ]
    },
    {
     "name": "stdout",
     "output_type": "stream",
     "text": [
      ".\\ICDAR\\ICDAR2019_cTDaR/training\\TRACKB1\\ground_truth\\cTDaR_t00449.JPG 2848 4288\n"
     ]
    },
    {
     "name": "stderr",
     "output_type": "stream",
     "text": [
      "294it [02:29,  2.04it/s]"
     ]
    },
    {
     "name": "stdout",
     "output_type": "stream",
     "text": [
      ".\\ICDAR\\ICDAR2019_cTDaR/training\\TRACKB1\\ground_truth\\cTDaR_t00450.JPG 2848 4288\n"
     ]
    },
    {
     "name": "stderr",
     "output_type": "stream",
     "text": [
      "295it [02:30,  2.15it/s]"
     ]
    },
    {
     "name": "stdout",
     "output_type": "stream",
     "text": [
      ".\\ICDAR\\ICDAR2019_cTDaR/training\\TRACKB1\\ground_truth\\cTDaR_t00451.JPG 2848 4288\n"
     ]
    },
    {
     "name": "stderr",
     "output_type": "stream",
     "text": [
      "296it [02:30,  2.32it/s]"
     ]
    },
    {
     "name": "stdout",
     "output_type": "stream",
     "text": [
      ".\\ICDAR\\ICDAR2019_cTDaR/training\\TRACKB1\\ground_truth\\cTDaR_t00452.JPG 2848 4288\n"
     ]
    },
    {
     "name": "stderr",
     "output_type": "stream",
     "text": [
      "297it [02:30,  2.22it/s]"
     ]
    },
    {
     "name": "stdout",
     "output_type": "stream",
     "text": [
      ".\\ICDAR\\ICDAR2019_cTDaR/training\\TRACKB1\\ground_truth\\cTDaR_t00453.JPG 2848 4288\n"
     ]
    },
    {
     "name": "stderr",
     "output_type": "stream",
     "text": [
      "298it [02:31,  2.38it/s]"
     ]
    },
    {
     "name": "stdout",
     "output_type": "stream",
     "text": [
      ".\\ICDAR\\ICDAR2019_cTDaR/training\\TRACKB1\\ground_truth\\cTDaR_t00454.JPG 2848 4288\n"
     ]
    },
    {
     "name": "stderr",
     "output_type": "stream",
     "text": [
      "299it [02:31,  2.44it/s]"
     ]
    },
    {
     "name": "stdout",
     "output_type": "stream",
     "text": [
      ".\\ICDAR\\ICDAR2019_cTDaR/training\\TRACKB1\\ground_truth\\cTDaR_t00455.JPG 2848 4288\n"
     ]
    },
    {
     "name": "stderr",
     "output_type": "stream",
     "text": [
      "300it [02:32,  2.40it/s]"
     ]
    },
    {
     "name": "stdout",
     "output_type": "stream",
     "text": [
      ".\\ICDAR\\ICDAR2019_cTDaR/training\\TRACKB1\\ground_truth\\cTDaR_t00456.JPG 2848 4288\n"
     ]
    },
    {
     "name": "stderr",
     "output_type": "stream",
     "text": [
      "301it [02:32,  2.46it/s]"
     ]
    },
    {
     "name": "stdout",
     "output_type": "stream",
     "text": [
      ".\\ICDAR\\ICDAR2019_cTDaR/training\\TRACKB1\\ground_truth\\cTDaR_t00457.JPG 2848 4288\n"
     ]
    },
    {
     "name": "stderr",
     "output_type": "stream",
     "text": [
      "302it [02:33,  2.19it/s]"
     ]
    },
    {
     "name": "stdout",
     "output_type": "stream",
     "text": [
      ".\\ICDAR\\ICDAR2019_cTDaR/training\\TRACKB1\\ground_truth\\cTDaR_t00458.JPG 2848 4288\n"
     ]
    },
    {
     "name": "stderr",
     "output_type": "stream",
     "text": [
      "303it [02:33,  2.37it/s]"
     ]
    },
    {
     "name": "stdout",
     "output_type": "stream",
     "text": [
      ".\\ICDAR\\ICDAR2019_cTDaR/training\\TRACKB1\\ground_truth\\cTDaR_t00459.JPG 2848 4288\n"
     ]
    },
    {
     "name": "stderr",
     "output_type": "stream",
     "text": [
      "304it [02:33,  2.45it/s]"
     ]
    },
    {
     "name": "stdout",
     "output_type": "stream",
     "text": [
      ".\\ICDAR\\ICDAR2019_cTDaR/training\\TRACKB1\\ground_truth\\cTDaR_t00460.JPG 2848 4288\n"
     ]
    },
    {
     "name": "stderr",
     "output_type": "stream",
     "text": [
      "305it [02:34,  2.58it/s]"
     ]
    },
    {
     "name": "stdout",
     "output_type": "stream",
     "text": [
      ".\\ICDAR\\ICDAR2019_cTDaR/training\\TRACKB1\\ground_truth\\cTDaR_t00461.JPG 2848 4288\n"
     ]
    },
    {
     "name": "stderr",
     "output_type": "stream",
     "text": [
      "306it [02:34,  2.65it/s]"
     ]
    },
    {
     "name": "stdout",
     "output_type": "stream",
     "text": [
      ".\\ICDAR\\ICDAR2019_cTDaR/training\\TRACKB1\\ground_truth\\cTDaR_t00462.JPG 2848 4288\n"
     ]
    },
    {
     "name": "stderr",
     "output_type": "stream",
     "text": [
      "307it [02:34,  2.61it/s]"
     ]
    },
    {
     "name": "stdout",
     "output_type": "stream",
     "text": [
      ".\\ICDAR\\ICDAR2019_cTDaR/training\\TRACKB1\\ground_truth\\cTDaR_t00463.JPG 2848 4288\n"
     ]
    },
    {
     "name": "stderr",
     "output_type": "stream",
     "text": [
      "308it [02:35,  2.45it/s]"
     ]
    },
    {
     "name": "stdout",
     "output_type": "stream",
     "text": [
      ".\\ICDAR\\ICDAR2019_cTDaR/training\\TRACKB1\\ground_truth\\cTDaR_t00464.JPG 2848 4288\n"
     ]
    },
    {
     "name": "stderr",
     "output_type": "stream",
     "text": [
      "309it [02:35,  2.47it/s]"
     ]
    },
    {
     "name": "stdout",
     "output_type": "stream",
     "text": [
      ".\\ICDAR\\ICDAR2019_cTDaR/training\\TRACKB1\\ground_truth\\cTDaR_t00465.JPG 2848 4288\n"
     ]
    },
    {
     "name": "stderr",
     "output_type": "stream",
     "text": [
      "310it [02:36,  2.44it/s]"
     ]
    },
    {
     "name": "stdout",
     "output_type": "stream",
     "text": [
      ".\\ICDAR\\ICDAR2019_cTDaR/training\\TRACKB1\\ground_truth\\cTDaR_t00466.JPG 2848 4288\n"
     ]
    },
    {
     "name": "stderr",
     "output_type": "stream",
     "text": [
      "311it [02:36,  2.43it/s]"
     ]
    },
    {
     "name": "stdout",
     "output_type": "stream",
     "text": [
      ".\\ICDAR\\ICDAR2019_cTDaR/training\\TRACKB1\\ground_truth\\cTDaR_t00467.JPG 2848 4288\n"
     ]
    },
    {
     "name": "stderr",
     "output_type": "stream",
     "text": [
      "312it [02:36,  2.39it/s]"
     ]
    },
    {
     "name": "stdout",
     "output_type": "stream",
     "text": [
      ".\\ICDAR\\ICDAR2019_cTDaR/training\\TRACKB1\\ground_truth\\cTDaR_t00468.JPG 2848 4288\n"
     ]
    },
    {
     "name": "stderr",
     "output_type": "stream",
     "text": [
      "313it [02:37,  2.23it/s]"
     ]
    },
    {
     "name": "stdout",
     "output_type": "stream",
     "text": [
      ".\\ICDAR\\ICDAR2019_cTDaR/training\\TRACKB1\\ground_truth\\cTDaR_t00469.JPG 2848 4288\n"
     ]
    },
    {
     "name": "stderr",
     "output_type": "stream",
     "text": [
      "314it [02:37,  2.36it/s]"
     ]
    },
    {
     "name": "stdout",
     "output_type": "stream",
     "text": [
      ".\\ICDAR\\ICDAR2019_cTDaR/training\\TRACKB1\\ground_truth\\cTDaR_t00470.JPG 2848 4288\n"
     ]
    },
    {
     "name": "stderr",
     "output_type": "stream",
     "text": [
      "315it [02:38,  2.46it/s]"
     ]
    },
    {
     "name": "stdout",
     "output_type": "stream",
     "text": [
      ".\\ICDAR\\ICDAR2019_cTDaR/training\\TRACKB1\\ground_truth\\cTDaR_t00471.JPG 2848 4288\n"
     ]
    },
    {
     "name": "stderr",
     "output_type": "stream",
     "text": [
      "316it [02:38,  2.32it/s]"
     ]
    },
    {
     "name": "stdout",
     "output_type": "stream",
     "text": [
      ".\\ICDAR\\ICDAR2019_cTDaR/training\\TRACKB1\\ground_truth\\cTDaR_t00472.JPG 2848 4288\n"
     ]
    },
    {
     "name": "stderr",
     "output_type": "stream",
     "text": [
      "317it [02:39,  1.92it/s]"
     ]
    },
    {
     "name": "stdout",
     "output_type": "stream",
     "text": [
      ".\\ICDAR\\ICDAR2019_cTDaR/training\\TRACKB1\\ground_truth\\cTDaR_t00473.JPG 2848 4288\n"
     ]
    },
    {
     "name": "stderr",
     "output_type": "stream",
     "text": [
      "318it [02:39,  2.10it/s]"
     ]
    },
    {
     "name": "stdout",
     "output_type": "stream",
     "text": [
      ".\\ICDAR\\ICDAR2019_cTDaR/training\\TRACKB1\\ground_truth\\cTDaR_t00474.JPG 2848 4288\n"
     ]
    },
    {
     "name": "stderr",
     "output_type": "stream",
     "text": [
      "319it [02:40,  2.15it/s]"
     ]
    },
    {
     "name": "stdout",
     "output_type": "stream",
     "text": [
      ".\\ICDAR\\ICDAR2019_cTDaR/training\\TRACKB1\\ground_truth\\cTDaR_t00475.JPG 2848 4288\n"
     ]
    },
    {
     "name": "stderr",
     "output_type": "stream",
     "text": [
      "320it [02:40,  2.16it/s]"
     ]
    },
    {
     "name": "stdout",
     "output_type": "stream",
     "text": [
      ".\\ICDAR\\ICDAR2019_cTDaR/training\\TRACKB1\\ground_truth\\cTDaR_t00476.JPG 2848 4288\n"
     ]
    },
    {
     "name": "stderr",
     "output_type": "stream",
     "text": [
      "321it [02:40,  2.52it/s]"
     ]
    },
    {
     "name": "stdout",
     "output_type": "stream",
     "text": [
      ".\\ICDAR\\ICDAR2019_cTDaR/training\\TRACKB1\\ground_truth\\cTDaR_t00501.xml 3504 2479\n"
     ]
    },
    {
     "name": "stderr",
     "output_type": "stream",
     "text": [
      "322it [02:41,  2.46it/s]"
     ]
    },
    {
     "name": "stdout",
     "output_type": "stream",
     "text": [
      ".\\ICDAR\\ICDAR2019_cTDaR/training\\TRACKB1\\ground_truth\\cTDaR_t00502.xml 3414 5378\n"
     ]
    },
    {
     "name": "stderr",
     "output_type": "stream",
     "text": [
      "323it [02:41,  2.47it/s]"
     ]
    },
    {
     "name": "stdout",
     "output_type": "stream",
     "text": [
      ".\\ICDAR\\ICDAR2019_cTDaR/training\\TRACKB1\\ground_truth\\cTDaR_t00503.xml 3390 5378\n"
     ]
    },
    {
     "name": "stderr",
     "output_type": "stream",
     "text": [
      "324it [02:42,  2.43it/s]"
     ]
    },
    {
     "name": "stdout",
     "output_type": "stream",
     "text": [
      ".\\ICDAR\\ICDAR2019_cTDaR/training\\TRACKB1\\ground_truth\\cTDaR_t00504.xml 5428 3559\n"
     ]
    },
    {
     "name": "stderr",
     "output_type": "stream",
     "text": [
      "325it [02:42,  2.48it/s]"
     ]
    },
    {
     "name": "stdout",
     "output_type": "stream",
     "text": [
      ".\\ICDAR\\ICDAR2019_cTDaR/training\\TRACKB1\\ground_truth\\cTDaR_t00505.xml 5209 3244\n"
     ]
    },
    {
     "name": "stderr",
     "output_type": "stream",
     "text": [
      "326it [02:42,  2.55it/s]"
     ]
    },
    {
     "name": "stdout",
     "output_type": "stream",
     "text": [
      ".\\ICDAR\\ICDAR2019_cTDaR/training\\TRACKB1\\ground_truth\\cTDaR_t00506.xml 5246 2869\n"
     ]
    },
    {
     "name": "stderr",
     "output_type": "stream",
     "text": [
      "327it [02:43,  2.36it/s]"
     ]
    },
    {
     "name": "stdout",
     "output_type": "stream",
     "text": [
      ".\\ICDAR\\ICDAR2019_cTDaR/training\\TRACKB1\\ground_truth\\cTDaR_t00507.xml 5186 3099\n"
     ]
    },
    {
     "name": "stderr",
     "output_type": "stream",
     "text": [
      "328it [02:43,  2.26it/s]"
     ]
    },
    {
     "name": "stdout",
     "output_type": "stream",
     "text": [
      ".\\ICDAR\\ICDAR2019_cTDaR/training\\TRACKB1\\ground_truth\\cTDaR_t00508.xml 3073 5174\n"
     ]
    },
    {
     "name": "stderr",
     "output_type": "stream",
     "text": [
      "329it [02:44,  2.26it/s]"
     ]
    },
    {
     "name": "stdout",
     "output_type": "stream",
     "text": [
      ".\\ICDAR\\ICDAR2019_cTDaR/training\\TRACKB1\\ground_truth\\cTDaR_t00509.xml 5330 3268\n"
     ]
    },
    {
     "name": "stderr",
     "output_type": "stream",
     "text": [
      "330it [02:44,  2.24it/s]"
     ]
    },
    {
     "name": "stdout",
     "output_type": "stream",
     "text": [
      ".\\ICDAR\\ICDAR2019_cTDaR/training\\TRACKB1\\ground_truth\\cTDaR_t00510.xml 3354 5341\n"
     ]
    },
    {
     "name": "stderr",
     "output_type": "stream",
     "text": [
      "331it [02:45,  2.28it/s]"
     ]
    },
    {
     "name": "stdout",
     "output_type": "stream",
     "text": [
      ".\\ICDAR\\ICDAR2019_cTDaR/training\\TRACKB1\\ground_truth\\cTDaR_t00511.xml 3454 5441\n"
     ]
    },
    {
     "name": "stderr",
     "output_type": "stream",
     "text": [
      "332it [02:45,  1.94it/s]"
     ]
    },
    {
     "name": "stdout",
     "output_type": "stream",
     "text": [
      ".\\ICDAR\\ICDAR2019_cTDaR/training\\TRACKB1\\ground_truth\\cTDaR_t00512.xml 6500 4969\n"
     ]
    },
    {
     "name": "stderr",
     "output_type": "stream",
     "text": [
      "332it [02:46,  2.00it/s]\n"
     ]
    },
    {
     "ename": "KeyboardInterrupt",
     "evalue": "",
     "output_type": "error",
     "traceback": [
      "\u001b[1;31m---------------------------------------------------------------------------\u001b[0m",
      "\u001b[1;31mKeyboardInterrupt\u001b[0m                         Traceback (most recent call last)",
      "Cell \u001b[1;32mIn[85], line 12\u001b[0m\n\u001b[0;32m     10\u001b[0m w, h \u001b[38;5;241m=\u001b[39m image\u001b[38;5;241m.\u001b[39msize\n\u001b[0;32m     11\u001b[0m \u001b[38;5;66;03m#convert to RGB image\u001b[39;00m\n\u001b[1;32m---> 12\u001b[0m image \u001b[38;5;241m=\u001b[39m \u001b[43mimage\u001b[49m\u001b[38;5;241;43m.\u001b[39;49m\u001b[43mresize\u001b[49m\u001b[43m(\u001b[49m\u001b[43m(\u001b[49m\u001b[43mnew_h\u001b[49m\u001b[43m,\u001b[49m\u001b[43m \u001b[49m\u001b[43mnew_w\u001b[49m\u001b[43m)\u001b[49m\u001b[43m)\u001b[49m\n\u001b[0;32m     13\u001b[0m \u001b[38;5;28;01mif\u001b[39;00m image\u001b[38;5;241m.\u001b[39mmode \u001b[38;5;241m!=\u001b[39m \u001b[38;5;124m'\u001b[39m\u001b[38;5;124mRGB\u001b[39m\u001b[38;5;124m'\u001b[39m:\n\u001b[0;32m     14\u001b[0m     image \u001b[38;5;241m=\u001b[39m image\u001b[38;5;241m.\u001b[39mconvert(\u001b[38;5;124m\"\u001b[39m\u001b[38;5;124mRGB\u001b[39m\u001b[38;5;124m\"\u001b[39m)\n",
      "File \u001b[1;32mc:\\Users\\sid\\AppData\\Local\\Programs\\Python\\Python310\\lib\\site-packages\\PIL\\Image.py:2156\u001b[0m, in \u001b[0;36mImage.resize\u001b[1;34m(self, size, resample, box, reducing_gap)\u001b[0m\n\u001b[0;32m   2152\u001b[0m     \u001b[38;5;28;01mraise\u001b[39;00m \u001b[38;5;167;01mValueError\u001b[39;00m(msg)\n\u001b[0;32m   2154\u001b[0m size \u001b[38;5;241m=\u001b[39m \u001b[38;5;28mtuple\u001b[39m(size)\n\u001b[1;32m-> 2156\u001b[0m \u001b[38;5;28;43mself\u001b[39;49m\u001b[38;5;241;43m.\u001b[39;49m\u001b[43mload\u001b[49m\u001b[43m(\u001b[49m\u001b[43m)\u001b[49m\n\u001b[0;32m   2157\u001b[0m \u001b[38;5;28;01mif\u001b[39;00m box \u001b[38;5;129;01mis\u001b[39;00m \u001b[38;5;28;01mNone\u001b[39;00m:\n\u001b[0;32m   2158\u001b[0m     box \u001b[38;5;241m=\u001b[39m (\u001b[38;5;241m0\u001b[39m, \u001b[38;5;241m0\u001b[39m) \u001b[38;5;241m+\u001b[39m \u001b[38;5;28mself\u001b[39m\u001b[38;5;241m.\u001b[39msize\n",
      "File \u001b[1;32mc:\\Users\\sid\\AppData\\Local\\Programs\\Python\\Python310\\lib\\site-packages\\PIL\\ImageFile.py:269\u001b[0m, in \u001b[0;36mImageFile.load\u001b[1;34m(self)\u001b[0m\n\u001b[0;32m    266\u001b[0m         \u001b[38;5;28;01mraise\u001b[39;00m \u001b[38;5;167;01mOSError\u001b[39;00m(msg)\n\u001b[0;32m    268\u001b[0m b \u001b[38;5;241m=\u001b[39m b \u001b[38;5;241m+\u001b[39m s\n\u001b[1;32m--> 269\u001b[0m n, err_code \u001b[38;5;241m=\u001b[39m \u001b[43mdecoder\u001b[49m\u001b[38;5;241;43m.\u001b[39;49m\u001b[43mdecode\u001b[49m\u001b[43m(\u001b[49m\u001b[43mb\u001b[49m\u001b[43m)\u001b[49m\n\u001b[0;32m    270\u001b[0m \u001b[38;5;28;01mif\u001b[39;00m n \u001b[38;5;241m<\u001b[39m \u001b[38;5;241m0\u001b[39m:\n\u001b[0;32m    271\u001b[0m     \u001b[38;5;28;01mbreak\u001b[39;00m\n",
      "\u001b[1;31mKeyboardInterrupt\u001b[0m: "
     ]
    }
   ],
   "source": [
    "processed_data = []\n",
    "\n",
    "for i, data in enumerate([jpgs]):\n",
    "    \n",
    "    for j, img_path in tqdm(enumerate(data)):\n",
    "        \n",
    "        image_name = os.path.basename(img_path)\n",
    "        image = Image.open(img_path)\n",
    "        w, h = image.size\n",
    "        #convert to RGB image\n",
    "        image = image.resize((new_h, new_w))\n",
    "        if image.mode != 'RGB':\n",
    "            image = image.convert(\"RGB\")\n",
    "        # table_bboxes, col_bboxes = [], []\n",
    "            \n",
    "        #get xml filename\n",
    "        xml_file = image_name.replace('.jpg', '.xml')\n",
    "        xml_path = os.path.join(ORIG_DATA_PATH, xml_file)\n",
    "        xml_file.replace(\" \", \"\")\n",
    "\n",
    "        #processing XML\n",
    "        tree = ET.parse(xml_file)\n",
    "        root = tree.getroot()\n",
    "\n",
    "        tables, all_points, max_col = getall(root)\n",
    "\n",
    "        crds = toplot(all_points, max_col)\n",
    "        colmask, tablemask = os.path.join(COL_MASK_PATH, image_name), os.path.join(TABLE_MASK_PATH, image_name)\n",
    "        trailplot(crds, img_path, colmask)\n",
    "        trailplot(tables, img_path, tablemask)\n",
    "        # print(xml_path, w, h)\n",
    "            \n",
    "        #     #get table boxes\n",
    "            # table_bboxes = get_table_bbox(table_xml_path, (new_h, new_w))\n",
    "        #     # print(\"column Path: \", column_xml_path)\n",
    "        #     # print(\"Table Path: \", table_xml_path)\n",
    "        #     #get column boxes , if table boxes are empty, approximate them using column boxes\n",
    "        #     if os.path.exists(column_xml_path):\n",
    "        #         col_bboxes, table_bboxes = get_col_bbox(column_xml_path, (h,w), (new_h, new_w), table_bboxes)\n",
    "        #         # print(\"col_bboxes: \", col_bboxes)\n",
    "        #     else:\n",
    "        #         # print(\"In else\")\n",
    "        #         col_bboxes = []\n",
    "            \n",
    "        # #generate masks\n",
    "        # table_mask = create_mask(new_h, new_w, table_bboxes)\n",
    "        # # col_mask = create_mask(new_h, new_w, [[110, 202, 220, 344], [271, 202, 291, 343], [305, 201, 419, 344]])\n",
    "        # col_mask = create_mask(new_h, new_w, col_bboxes)\n",
    "        # # print(\"test: \", type( [[110, 202, 220, 344], [271, 202, 291, 343], [305, 201, 419, 344]]))\n",
    "        # # image = cv2.imread(col_mask)\n",
    "        # # cv2.imshow(col_mask, image)\n",
    "        # # plt.imshow(col_mask) \n",
    "        # # print(type(table_mask))\n",
    "        # # plt.imshow(table_mask) \n",
    "#####################################################################################    \n",
    "        # #save images and masks\n",
    "        # if col_mask.mode != 'RGB':\n",
    "        #     col_mask = col_mask.convert('RGB')\n",
    "        # if table_mask.mode != 'RGB':\n",
    "        #     table_mask = table_mask.convert('RGB')\n",
    "        # save_image_path = os.path.join(IMAGE_PATH, image_name.replace('bmp', 'jpg'))\n",
    "        # save_table_mask_path = os.path.join(TABLE_MASK_PATH, image_name[:-4] + '_table_mask.png')\n",
    "        # save_col_mask_path = os.path.join(COL_MASK_PATH, image_name[:-4] + '_col_mask.png')\n",
    "        # # save_image_path = os.path.join(\"./Trail\", image_name.replace('bmp', 'jpg'))\n",
    "        # # save_table_mask_path = os.path.join(\"./Trail\", image_name[:-4] + '_table_mask.png')\n",
    "        # # save_col_mask_path = os.path.join(\"./Trail\", image_name[:-4] + '_col_mask.png')\n",
    "        \n",
    "        # image.save(save_image_path)\n",
    "        # table_mask.save(save_table_mask_path)\n",
    "        # col_mask.save(save_col_mask_path)\n",
    "        \n",
    "        # #add data to dataframe\n",
    "        # len_table = len(table_bboxes)\n",
    "        # len_cols = len(col_bboxes)\n",
    "\n",
    "        # value = (save_image_path, save_table_mask_path, save_col_mask_path, h, w, int(len_table != 0), \\\n",
    "        #          len_table, len_cols, table_bboxes, col_bboxes)\n",
    "        \n",
    "        # processed_data.append(value)\n",
    "        \n",
    "        # if j == 10:\n",
    "            # break\n",
    "    # if i == 4:\n",
    "        # break"
   ]
  },
  {
   "cell_type": "code",
   "execution_count": 69,
   "metadata": {},
   "outputs": [],
   "source": [
    "\n",
    "column_name = ['img_path','table_mask','col_mask','original_height','original_width','hasTable','table_count','col_count','table_bboxes','col_bboxes']\n",
    "processed_data = pd.DataFrame(processed_data, columns=column_name)"
   ]
  },
  {
   "cell_type": "code",
   "execution_count": 74,
   "metadata": {},
   "outputs": [],
   "source": [
    "processed_data.to_csv(\"processed_data.csv\", index = False)"
   ]
  },
  {
   "cell_type": "code",
   "execution_count": 75,
   "metadata": {},
   "outputs": [
    {
     "data": {
      "text/html": [
       "<div>\n",
       "<style scoped>\n",
       "    .dataframe tbody tr th:only-of-type {\n",
       "        vertical-align: middle;\n",
       "    }\n",
       "\n",
       "    .dataframe tbody tr th {\n",
       "        vertical-align: top;\n",
       "    }\n",
       "\n",
       "    .dataframe thead th {\n",
       "        text-align: right;\n",
       "    }\n",
       "</style>\n",
       "<table border=\"1\" class=\"dataframe\">\n",
       "  <thead>\n",
       "    <tr style=\"text-align: right;\">\n",
       "      <th></th>\n",
       "      <th>img_path</th>\n",
       "      <th>table_mask</th>\n",
       "      <th>col_mask</th>\n",
       "      <th>original_height</th>\n",
       "      <th>original_width</th>\n",
       "      <th>hasTable</th>\n",
       "      <th>table_count</th>\n",
       "      <th>col_count</th>\n",
       "      <th>table_bboxes</th>\n",
       "      <th>col_bboxes</th>\n",
       "    </tr>\n",
       "  </thead>\n",
       "  <tbody>\n",
       "    <tr>\n",
       "      <th>0</th>\n",
       "      <td>marmot_processed\\image\\10.1.1.1.2000_4.jpg</td>\n",
       "      <td>marmot_processed\\table_mask\\10.1.1.1.2000_4_ta...</td>\n",
       "      <td>marmot_processed\\col_mask\\10.1.1.1.2000_4_col_...</td>\n",
       "      <td>1008</td>\n",
       "      <td>768</td>\n",
       "      <td>0</td>\n",
       "      <td>0</td>\n",
       "      <td>0</td>\n",
       "      <td>[]</td>\n",
       "      <td>[]</td>\n",
       "    </tr>\n",
       "    <tr>\n",
       "      <th>1</th>\n",
       "      <td>marmot_processed\\image\\10.1.1.1.2004_4.jpg</td>\n",
       "      <td>marmot_processed\\table_mask\\10.1.1.1.2004_4_ta...</td>\n",
       "      <td>marmot_processed\\col_mask\\10.1.1.1.2004_4_col_...</td>\n",
       "      <td>1123</td>\n",
       "      <td>793</td>\n",
       "      <td>0</td>\n",
       "      <td>0</td>\n",
       "      <td>0</td>\n",
       "      <td>[]</td>\n",
       "      <td>[]</td>\n",
       "    </tr>\n",
       "    <tr>\n",
       "      <th>2</th>\n",
       "      <td>marmot_processed\\image\\10.1.1.1.2004_5.jpg</td>\n",
       "      <td>marmot_processed\\table_mask\\10.1.1.1.2004_5_ta...</td>\n",
       "      <td>marmot_processed\\col_mask\\10.1.1.1.2004_5_col_...</td>\n",
       "      <td>1123</td>\n",
       "      <td>793</td>\n",
       "      <td>0</td>\n",
       "      <td>0</td>\n",
       "      <td>0</td>\n",
       "      <td>[]</td>\n",
       "      <td>[]</td>\n",
       "    </tr>\n",
       "    <tr>\n",
       "      <th>3</th>\n",
       "      <td>marmot_processed\\image\\10.1.1.1.2005_12.jpg</td>\n",
       "      <td>marmot_processed\\table_mask\\10.1.1.1.2005_12_t...</td>\n",
       "      <td>marmot_processed\\col_mask\\10.1.1.1.2005_12_col...</td>\n",
       "      <td>1056</td>\n",
       "      <td>816</td>\n",
       "      <td>0</td>\n",
       "      <td>0</td>\n",
       "      <td>0</td>\n",
       "      <td>[]</td>\n",
       "      <td>[]</td>\n",
       "    </tr>\n",
       "    <tr>\n",
       "      <th>4</th>\n",
       "      <td>marmot_processed\\image\\10.1.1.1.2005_13.jpg</td>\n",
       "      <td>marmot_processed\\table_mask\\10.1.1.1.2005_13_t...</td>\n",
       "      <td>marmot_processed\\col_mask\\10.1.1.1.2005_13_col...</td>\n",
       "      <td>1056</td>\n",
       "      <td>816</td>\n",
       "      <td>0</td>\n",
       "      <td>0</td>\n",
       "      <td>0</td>\n",
       "      <td>[]</td>\n",
       "      <td>[]</td>\n",
       "    </tr>\n",
       "  </tbody>\n",
       "</table>\n",
       "</div>"
      ],
      "text/plain": [
       "                                      img_path  \\\n",
       "0   marmot_processed\\image\\10.1.1.1.2000_4.jpg   \n",
       "1   marmot_processed\\image\\10.1.1.1.2004_4.jpg   \n",
       "2   marmot_processed\\image\\10.1.1.1.2004_5.jpg   \n",
       "3  marmot_processed\\image\\10.1.1.1.2005_12.jpg   \n",
       "4  marmot_processed\\image\\10.1.1.1.2005_13.jpg   \n",
       "\n",
       "                                          table_mask  \\\n",
       "0  marmot_processed\\table_mask\\10.1.1.1.2000_4_ta...   \n",
       "1  marmot_processed\\table_mask\\10.1.1.1.2004_4_ta...   \n",
       "2  marmot_processed\\table_mask\\10.1.1.1.2004_5_ta...   \n",
       "3  marmot_processed\\table_mask\\10.1.1.1.2005_12_t...   \n",
       "4  marmot_processed\\table_mask\\10.1.1.1.2005_13_t...   \n",
       "\n",
       "                                            col_mask  original_height  \\\n",
       "0  marmot_processed\\col_mask\\10.1.1.1.2000_4_col_...             1008   \n",
       "1  marmot_processed\\col_mask\\10.1.1.1.2004_4_col_...             1123   \n",
       "2  marmot_processed\\col_mask\\10.1.1.1.2004_5_col_...             1123   \n",
       "3  marmot_processed\\col_mask\\10.1.1.1.2005_12_col...             1056   \n",
       "4  marmot_processed\\col_mask\\10.1.1.1.2005_13_col...             1056   \n",
       "\n",
       "   original_width  hasTable  table_count  col_count table_bboxes col_bboxes  \n",
       "0             768         0            0          0           []         []  \n",
       "1             793         0            0          0           []         []  \n",
       "2             793         0            0          0           []         []  \n",
       "3             816         0            0          0           []         []  \n",
       "4             816         0            0          0           []         []  "
      ]
     },
     "execution_count": 75,
     "metadata": {},
     "output_type": "execute_result"
    }
   ],
   "source": [
    "processed_data.head()"
   ]
  },
  {
   "cell_type": "code",
   "execution_count": 76,
   "metadata": {},
   "outputs": [],
   "source": [
    "processed_data = pd.read_csv('processed_data.csv')"
   ]
  },
  {
   "cell_type": "code",
   "execution_count": 77,
   "metadata": {},
   "outputs": [
    {
     "data": {
      "text/html": [
       "<div>\n",
       "<style scoped>\n",
       "    .dataframe tbody tr th:only-of-type {\n",
       "        vertical-align: middle;\n",
       "    }\n",
       "\n",
       "    .dataframe tbody tr th {\n",
       "        vertical-align: top;\n",
       "    }\n",
       "\n",
       "    .dataframe thead th {\n",
       "        text-align: right;\n",
       "    }\n",
       "</style>\n",
       "<table border=\"1\" class=\"dataframe\">\n",
       "  <thead>\n",
       "    <tr style=\"text-align: right;\">\n",
       "      <th></th>\n",
       "      <th>img_path</th>\n",
       "      <th>table_mask</th>\n",
       "      <th>col_mask</th>\n",
       "      <th>original_height</th>\n",
       "      <th>original_width</th>\n",
       "      <th>hasTable</th>\n",
       "      <th>table_count</th>\n",
       "      <th>col_count</th>\n",
       "      <th>table_bboxes</th>\n",
       "      <th>col_bboxes</th>\n",
       "    </tr>\n",
       "  </thead>\n",
       "  <tbody>\n",
       "    <tr>\n",
       "      <th>0</th>\n",
       "      <td>marmot_processed\\image\\10.1.1.1.2000_4.jpg</td>\n",
       "      <td>marmot_processed\\table_mask\\10.1.1.1.2000_4_ta...</td>\n",
       "      <td>marmot_processed\\col_mask\\10.1.1.1.2000_4_col_...</td>\n",
       "      <td>1008</td>\n",
       "      <td>768</td>\n",
       "      <td>0</td>\n",
       "      <td>0</td>\n",
       "      <td>0</td>\n",
       "      <td>[]</td>\n",
       "      <td>[]</td>\n",
       "    </tr>\n",
       "    <tr>\n",
       "      <th>1</th>\n",
       "      <td>marmot_processed\\image\\10.1.1.1.2004_4.jpg</td>\n",
       "      <td>marmot_processed\\table_mask\\10.1.1.1.2004_4_ta...</td>\n",
       "      <td>marmot_processed\\col_mask\\10.1.1.1.2004_4_col_...</td>\n",
       "      <td>1123</td>\n",
       "      <td>793</td>\n",
       "      <td>0</td>\n",
       "      <td>0</td>\n",
       "      <td>0</td>\n",
       "      <td>[]</td>\n",
       "      <td>[]</td>\n",
       "    </tr>\n",
       "    <tr>\n",
       "      <th>2</th>\n",
       "      <td>marmot_processed\\image\\10.1.1.1.2004_5.jpg</td>\n",
       "      <td>marmot_processed\\table_mask\\10.1.1.1.2004_5_ta...</td>\n",
       "      <td>marmot_processed\\col_mask\\10.1.1.1.2004_5_col_...</td>\n",
       "      <td>1123</td>\n",
       "      <td>793</td>\n",
       "      <td>0</td>\n",
       "      <td>0</td>\n",
       "      <td>0</td>\n",
       "      <td>[]</td>\n",
       "      <td>[]</td>\n",
       "    </tr>\n",
       "    <tr>\n",
       "      <th>3</th>\n",
       "      <td>marmot_processed\\image\\10.1.1.1.2005_12.jpg</td>\n",
       "      <td>marmot_processed\\table_mask\\10.1.1.1.2005_12_t...</td>\n",
       "      <td>marmot_processed\\col_mask\\10.1.1.1.2005_12_col...</td>\n",
       "      <td>1056</td>\n",
       "      <td>816</td>\n",
       "      <td>0</td>\n",
       "      <td>0</td>\n",
       "      <td>0</td>\n",
       "      <td>[]</td>\n",
       "      <td>[]</td>\n",
       "    </tr>\n",
       "    <tr>\n",
       "      <th>4</th>\n",
       "      <td>marmot_processed\\image\\10.1.1.1.2005_13.jpg</td>\n",
       "      <td>marmot_processed\\table_mask\\10.1.1.1.2005_13_t...</td>\n",
       "      <td>marmot_processed\\col_mask\\10.1.1.1.2005_13_col...</td>\n",
       "      <td>1056</td>\n",
       "      <td>816</td>\n",
       "      <td>0</td>\n",
       "      <td>0</td>\n",
       "      <td>0</td>\n",
       "      <td>[]</td>\n",
       "      <td>[]</td>\n",
       "    </tr>\n",
       "  </tbody>\n",
       "</table>\n",
       "</div>"
      ],
      "text/plain": [
       "                                      img_path  \\\n",
       "0   marmot_processed\\image\\10.1.1.1.2000_4.jpg   \n",
       "1   marmot_processed\\image\\10.1.1.1.2004_4.jpg   \n",
       "2   marmot_processed\\image\\10.1.1.1.2004_5.jpg   \n",
       "3  marmot_processed\\image\\10.1.1.1.2005_12.jpg   \n",
       "4  marmot_processed\\image\\10.1.1.1.2005_13.jpg   \n",
       "\n",
       "                                          table_mask  \\\n",
       "0  marmot_processed\\table_mask\\10.1.1.1.2000_4_ta...   \n",
       "1  marmot_processed\\table_mask\\10.1.1.1.2004_4_ta...   \n",
       "2  marmot_processed\\table_mask\\10.1.1.1.2004_5_ta...   \n",
       "3  marmot_processed\\table_mask\\10.1.1.1.2005_12_t...   \n",
       "4  marmot_processed\\table_mask\\10.1.1.1.2005_13_t...   \n",
       "\n",
       "                                            col_mask  original_height  \\\n",
       "0  marmot_processed\\col_mask\\10.1.1.1.2000_4_col_...             1008   \n",
       "1  marmot_processed\\col_mask\\10.1.1.1.2004_4_col_...             1123   \n",
       "2  marmot_processed\\col_mask\\10.1.1.1.2004_5_col_...             1123   \n",
       "3  marmot_processed\\col_mask\\10.1.1.1.2005_12_col...             1056   \n",
       "4  marmot_processed\\col_mask\\10.1.1.1.2005_13_col...             1056   \n",
       "\n",
       "   original_width  hasTable  table_count  col_count table_bboxes col_bboxes  \n",
       "0             768         0            0          0           []         []  \n",
       "1             793         0            0          0           []         []  \n",
       "2             793         0            0          0           []         []  \n",
       "3             816         0            0          0           []         []  \n",
       "4             816         0            0          0           []         []  "
      ]
     },
     "execution_count": 77,
     "metadata": {},
     "output_type": "execute_result"
    }
   ],
   "source": [
    "processed_data.head()"
   ]
  },
  {
   "cell_type": "markdown",
   "metadata": {},
   "source": [
    "## Advanced EDA"
   ]
  },
  {
   "cell_type": "code",
   "execution_count": null,
   "metadata": {},
   "outputs": [],
   "source": [
    "processed_data['hasTable'].value_counts().tolist()"
   ]
  },
  {
   "cell_type": "markdown",
   "metadata": {},
   "source": [
    "#### Positive : Negative Ratio"
   ]
  },
  {
   "cell_type": "code",
   "execution_count": null,
   "metadata": {},
   "outputs": [],
   "source": [
    "fig = plt.figure(figsize = (10, 5))\n",
    "\n",
    "x = ['Neg Samples', 'Pos Samples']\n",
    "data = processed_data['hasTable'].value_counts().tolist()\n",
    "y = [data[1],data[0]]\n",
    "plt.bar(x, y,width = 0.4)\n",
    "plt.title('Distribution of Positive and Negative Samples')\n",
    "plt.show()"
   ]
  },
  {
   "cell_type": "markdown",
   "metadata": {},
   "source": [
    "#### Columns without any Table"
   ]
  },
  {
   "cell_type": "code",
   "execution_count": null,
   "metadata": {},
   "outputs": [],
   "source": [
    "processed_data[(processed_data['table_count']==0)]"
   ]
  },
  {
   "cell_type": "markdown",
   "metadata": {},
   "source": [
    "#### Table with No Columns"
   ]
  },
  {
   "cell_type": "code",
   "execution_count": null,
   "metadata": {},
   "outputs": [],
   "source": [
    "processed_data[(processed_data['hasTable']==1) & (processed_data['col_count']==0)]"
   ]
  },
  {
   "cell_type": "markdown",
   "metadata": {},
   "source": [
    "#### plotting image with table but no columns"
   ]
  },
  {
   "cell_type": "code",
   "execution_count": null,
   "metadata": {},
   "outputs": [],
   "source": [
    "plt.figure(figsize = (20,10))\n",
    "image = plt.imread('marmot_processed/image/10.1.1.1.2010_5.jpg')\n",
    "plt.imshow(image)\n",
    "plt.title('Table with No columns')\n",
    "plt.show()"
   ]
  },
  {
   "cell_type": "code",
   "execution_count": null,
   "metadata": {},
   "outputs": [],
   "source": [
    "plt.figure(figsize = (20,10))\n",
    "image = plt.imread('marmot_processed/image/10.1.1.1.2107_9.jpg')\n",
    "plt.imshow(image)\n",
    "plt.title('Table with No columns')\n",
    "plt.show()"
   ]
  },
  {
   "cell_type": "code",
   "execution_count": null,
   "metadata": {},
   "outputs": [],
   "source": [
    "plt.figure(figsize = (20,10))\n",
    "image = plt.imread('marmot_processed/image/10.1.1.160.669_3.jpg')\n",
    "plt.imshow(image)\n",
    "plt.title('Table with No columns')\n",
    "plt.show()"
   ]
  },
  {
   "cell_type": "code",
   "execution_count": null,
   "metadata": {},
   "outputs": [],
   "source": [
    "plt.figure(figsize = (20,10))\n",
    "image = plt.imread('marmot_processed/image/10.1.1.7.2174_3.jpg')\n",
    "plt.imshow(image)\n",
    "plt.title('Table with No columns')\n",
    "plt.show()"
   ]
  },
  {
   "cell_type": "code",
   "execution_count": null,
   "metadata": {},
   "outputs": [],
   "source": [
    "plt.figure(figsize = (20,10))\n",
    "image = plt.imread('marmot_processed/image/10.1.1.7.2174_8.jpg')\n",
    "plt.imshow(image)\n",
    "plt.title('Table with No columns')\n",
    "plt.show()"
   ]
  },
  {
   "cell_type": "markdown",
   "metadata": {},
   "source": [
    "### Observations\n",
    "\n",
    "- There are 5 images with tables but no columns\n",
    "- There are total 494 Negative Samples and 499 Positive Samples.\n",
    "- Also, we confirmed that there are no columns with only tables."
   ]
  },
  {
   "cell_type": "code",
   "execution_count": null,
   "metadata": {},
   "outputs": [],
   "source": []
  },
  {
   "cell_type": "markdown",
   "metadata": {},
   "source": [
    "### Height of the Image"
   ]
  },
  {
   "cell_type": "code",
   "execution_count": null,
   "metadata": {},
   "outputs": [],
   "source": [
    "processed_data['original_height'].plot.hist(bins = 10)"
   ]
  },
  {
   "cell_type": "code",
   "execution_count": null,
   "metadata": {},
   "outputs": [],
   "source": [
    "sns.kdeplot(processed_data['original_height'], color='b', fill=True)\n",
    "  \n",
    "plt.xlabel('Height')\n",
    "plt.ylabel('Probability Density')\n",
    "plt.show()"
   ]
  },
  {
   "cell_type": "markdown",
   "metadata": {},
   "source": [
    "### Width of the Image"
   ]
  },
  {
   "cell_type": "code",
   "execution_count": null,
   "metadata": {},
   "outputs": [],
   "source": [
    "processed_data['original_width'].plot.hist(bins = 10)"
   ]
  },
  {
   "cell_type": "code",
   "execution_count": null,
   "metadata": {},
   "outputs": [],
   "source": [
    "sns.kdeplot(processed_data['original_width'], color='b', fill=True)\n",
    "\n",
    "plt.xlabel('Width')\n",
    "plt.ylabel('Probability Density')\n",
    "plt.show()"
   ]
  },
  {
   "cell_type": "markdown",
   "metadata": {},
   "source": [
    "### Total Tables"
   ]
  },
  {
   "cell_type": "code",
   "execution_count": null,
   "metadata": {},
   "outputs": [],
   "source": [
    "processed_data['table_count'].value_counts().plot.bar()\n",
    "plt.xlabel('Tables')\n",
    "plt.ylabel('Count')\n",
    "plt.show()"
   ]
  },
  {
   "cell_type": "markdown",
   "metadata": {},
   "source": [
    "### Total Columns"
   ]
  },
  {
   "cell_type": "code",
   "execution_count": null,
   "metadata": {},
   "outputs": [],
   "source": [
    "processed_data['col_count'].value_counts().plot.bar()\n",
    "plt.xlabel('Columns')\n",
    "plt.ylabel('Count')\n",
    "plt.show()"
   ]
  },
  {
   "cell_type": "code",
   "execution_count": null,
   "metadata": {},
   "outputs": [],
   "source": [
    "import json\n"
   ]
  },
  {
   "cell_type": "markdown",
   "metadata": {},
   "source": [
    "### Observations\n",
    "\n",
    "- Height of most images are between 1000 - 1100\n",
    "- Width of most images are between 700-800.\n",
    "- Apart from images with no Tables, most images contains only 1 table and at maximum 4 tables.\n",
    "- Total Columns in an image (can have multiple tables in a page) ranges from 4 - 42\n",
    "- We have also seen Image with no columns but have Tables in them."
   ]
  },
  {
   "cell_type": "markdown",
   "metadata": {},
   "source": [
    "### Height of Table"
   ]
  },
  {
   "cell_type": "code",
   "execution_count": null,
   "metadata": {},
   "outputs": [],
   "source": [
    "heights = []\n",
    "widths = []\n",
    "for boxes in processed_data[processed_data['hasTable']==1]['table_bboxes']:\n",
    "    # boxes = [json.loads('[' + boxes.strip('][').strip(',') + ']')]\n",
    "    print(boxes)\n",
    "# Convert the cleaned string to a Python list\n",
    "# array = json.loads('[' + cleaned_string + ']')\n",
    "    # for box in boxes:\n",
    "    #     heights.append(box[3]-box[1])\n",
    "    #     widths.append(box[2]-box[0])"
   ]
  },
  {
   "cell_type": "code",
   "execution_count": null,
   "metadata": {},
   "outputs": [],
   "source": [
    "min(col_widths)"
   ]
  },
  {
   "cell_type": "code",
   "execution_count": null,
   "metadata": {},
   "outputs": [],
   "source": [
    "sns.histplot(heights, color='b', Label='Table Height')\n",
    "\n",
    "plt.xlabel('Table Height')\n",
    "plt.ylabel('Counts')\n",
    "plt.show()"
   ]
  },
  {
   "cell_type": "code",
   "execution_count": null,
   "metadata": {},
   "outputs": [],
   "source": [
    "sns.kdeplot(heights, color='b', shade=True, Label='Table Height')\n",
    "\n",
    "plt.xlabel('Table Height')\n",
    "plt.ylabel('Probability Density')\n",
    "plt.show()"
   ]
  },
  {
   "cell_type": "markdown",
   "metadata": {},
   "source": [
    "### Width of the Table"
   ]
  },
  {
   "cell_type": "code",
   "execution_count": null,
   "metadata": {},
   "outputs": [],
   "source": [
    "sns.histplot(widths, color='b', Label='Table Width')\n",
    "\n",
    "plt.xlabel('Table Width')\n",
    "plt.ylabel('Counts')\n",
    "plt.show()"
   ]
  },
  {
   "cell_type": "code",
   "execution_count": null,
   "metadata": {},
   "outputs": [],
   "source": [
    "sns.kdeplot(widths, color='b', shade=True, Label='Table Width')\n",
    "\n",
    "plt.xlabel('Table Width')\n",
    "plt.ylabel('Probability Density')\n",
    "plt.show()"
   ]
  },
  {
   "cell_type": "markdown",
   "metadata": {},
   "source": [
    "### Height of the Column"
   ]
  },
  {
   "cell_type": "code",
   "execution_count": null,
   "metadata": {},
   "outputs": [],
   "source": [
    "col_heights = []\n",
    "col_widths = []\n",
    "for boxes in processed_data[processed_data['hasTable']==1]['col_bboxes']:\n",
    "    for box in boxes:\n",
    "        col_heights.append(box[3]-box[1])\n",
    "        col_widths.append(box[2]-box[0])"
   ]
  },
  {
   "cell_type": "code",
   "execution_count": null,
   "metadata": {},
   "outputs": [],
   "source": [
    "sns.histplot(col_heights, color='b', Label='Column Height')\n",
    "\n",
    "plt.xlabel('Column Height')\n",
    "plt.ylabel('Counts')\n",
    "plt.show()"
   ]
  },
  {
   "cell_type": "code",
   "execution_count": null,
   "metadata": {},
   "outputs": [],
   "source": [
    "sns.kdeplot(col_heights, color='b', shade=True, Label='Column Height')\n",
    "\n",
    "plt.xlabel('Column Height')\n",
    "plt.ylabel('Probability Density')\n",
    "plt.show()"
   ]
  },
  {
   "cell_type": "markdown",
   "metadata": {},
   "source": [
    "### Width of the Column"
   ]
  },
  {
   "cell_type": "code",
   "execution_count": null,
   "metadata": {},
   "outputs": [],
   "source": [
    "sns.histplot(col_widths, color='b', Label='Column Width')\n",
    "\n",
    "plt.xlabel('Column Width')\n",
    "plt.ylabel('Counts')\n",
    "plt.show()"
   ]
  },
  {
   "cell_type": "code",
   "execution_count": null,
   "metadata": {},
   "outputs": [],
   "source": [
    "sns.kdeplot(col_widths, color='b', shade=True, Label='Table Column')\n",
    "\n",
    "plt.xlabel('Table Column')\n",
    "plt.ylabel('Probability Density')\n",
    "plt.show()"
   ]
  },
  {
   "cell_type": "markdown",
   "metadata": {},
   "source": [
    "### Observations\n",
    "\n",
    "- Height of tables ranges from 30 - 870, but most are between  50-300.\n",
    "- Width of tables ranges from 50 - 900, but common width is 400.\n",
    "- Height of columns ranges from 10 - 880 showing a right skewed distribution\n",
    "- Width of columns ranges from 7 - 671 showing a right skewed distribution"
   ]
  }
 ],
 "metadata": {
  "interpreter": {
   "hash": "cce9c5b3b81fcb98a8d09dfcaff65dd7cd23b6605cc49ab6f14f654f1c8962b0"
  },
  "kernelspec": {
   "display_name": "Python 3",
   "language": "python",
   "name": "python3"
  },
  "language_info": {
   "codemirror_mode": {
    "name": "ipython",
    "version": 3
   },
   "file_extension": ".py",
   "mimetype": "text/x-python",
   "name": "python",
   "nbconvert_exporter": "python",
   "pygments_lexer": "ipython3",
   "version": "3.10.2"
  }
 },
 "nbformat": 4,
 "nbformat_minor": 4
}
