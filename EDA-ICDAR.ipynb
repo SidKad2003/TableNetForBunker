{
 "cells": [
  {
   "cell_type": "code",
   "execution_count": 3,
   "metadata": {},
   "outputs": [
    {
     "name": "stdout",
     "output_type": "stream",
     "text": [
      "Requirement already satisfied: seaborn in c:\\users\\sid\\appdata\\local\\programs\\python\\python310\\lib\\site-packages (0.13.2)\n",
      "Requirement already satisfied: numpy!=1.24.0,>=1.20 in c:\\users\\sid\\appdata\\local\\programs\\python\\python310\\lib\\site-packages (from seaborn) (1.25.2)\n",
      "Requirement already satisfied: pandas>=1.2 in c:\\users\\sid\\appdata\\local\\programs\\python\\python310\\lib\\site-packages (from seaborn) (2.1.2)\n",
      "Requirement already satisfied: matplotlib!=3.6.1,>=3.4 in c:\\users\\sid\\appdata\\local\\programs\\python\\python310\\lib\\site-packages (from seaborn) (3.8.2)\n",
      "Requirement already satisfied: contourpy>=1.0.1 in c:\\users\\sid\\appdata\\local\\programs\\python\\python310\\lib\\site-packages (from matplotlib!=3.6.1,>=3.4->seaborn) (1.1.1)\n",
      "Requirement already satisfied: cycler>=0.10 in c:\\users\\sid\\appdata\\local\\programs\\python\\python310\\lib\\site-packages (from matplotlib!=3.6.1,>=3.4->seaborn) (0.12.1)\n",
      "Requirement already satisfied: fonttools>=4.22.0 in c:\\users\\sid\\appdata\\local\\programs\\python\\python310\\lib\\site-packages (from matplotlib!=3.6.1,>=3.4->seaborn) (4.43.1)\n",
      "Requirement already satisfied: kiwisolver>=1.3.1 in c:\\users\\sid\\appdata\\local\\programs\\python\\python310\\lib\\site-packages (from matplotlib!=3.6.1,>=3.4->seaborn) (1.4.5)\n",
      "Requirement already satisfied: packaging>=20.0 in c:\\users\\sid\\appdata\\local\\programs\\python\\python310\\lib\\site-packages (from matplotlib!=3.6.1,>=3.4->seaborn) (23.0)\n",
      "Requirement already satisfied: pillow>=8 in c:\\users\\sid\\appdata\\local\\programs\\python\\python310\\lib\\site-packages (from matplotlib!=3.6.1,>=3.4->seaborn) (9.4.0)\n",
      "Requirement already satisfied: pyparsing>=2.3.1 in c:\\users\\sid\\appdata\\local\\programs\\python\\python310\\lib\\site-packages (from matplotlib!=3.6.1,>=3.4->seaborn) (3.1.1)\n",
      "Requirement already satisfied: python-dateutil>=2.7 in c:\\users\\sid\\appdata\\local\\programs\\python\\python310\\lib\\site-packages (from matplotlib!=3.6.1,>=3.4->seaborn) (2.8.2)\n",
      "Requirement already satisfied: pytz>=2020.1 in c:\\users\\sid\\appdata\\local\\programs\\python\\python310\\lib\\site-packages (from pandas>=1.2->seaborn) (2023.3.post1)\n",
      "Requirement already satisfied: tzdata>=2022.1 in c:\\users\\sid\\appdata\\local\\programs\\python\\python310\\lib\\site-packages (from pandas>=1.2->seaborn) (2023.3)\n",
      "Requirement already satisfied: six>=1.5 in c:\\users\\sid\\appdata\\local\\programs\\python\\python310\\lib\\site-packages (from python-dateutil>=2.7->matplotlib!=3.6.1,>=3.4->seaborn) (1.16.0)\n",
      "Note: you may need to restart the kernel to use updated packages.\n"
     ]
    },
    {
     "name": "stderr",
     "output_type": "stream",
     "text": [
      "\n",
      "[notice] A new release of pip is available: 24.0 -> 24.1\n",
      "[notice] To update, run: python.exe -m pip install --upgrade pip\n"
     ]
    }
   ],
   "source": [
    "%pip install seaborn"
   ]
  },
  {
   "cell_type": "code",
   "execution_count": 4,
   "metadata": {},
   "outputs": [],
   "source": [
    "#import libraries\n",
    "\n",
    "import os\n",
    "import math\n",
    "import cv2\n",
    "import struct\n",
    "import glob\n",
    "from tqdm import tqdm\n",
    "from PIL import Image\n",
    "import pandas as pd\n",
    "import numpy as np\n",
    "import matplotlib.pyplot as plt\n",
    "import matplotlib.image as mpimg\n",
    "import seaborn as sns\n",
    "import xml.etree.ElementTree as ET"
   ]
  },
  {
   "cell_type": "code",
   "execution_count": 5,
   "metadata": {},
   "outputs": [],
   "source": [
    "PROCESSED_DATA = './ICDAR/ICDAR_Processed'\n",
    "IMAGE_PATH = os.path.join(PROCESSED_DATA, 'image')\n",
    "TABLE_MASK_PATH = os.path.join(PROCESSED_DATA, 'table_mask')\n",
    "COL_MASK_PATH = os.path.join(PROCESSED_DATA, 'col_mask')\n",
    "ORIG_DATA_PATH = '.\\ICDAR\\ICDAR2019_cTDaR/training\\TRACKB1\\ground_truth'"
   ]
  },
  {
   "cell_type": "code",
   "execution_count": null,
   "metadata": {},
   "outputs": [],
   "source": [
    "os.makedirs(PROCESSED_DATA, exist_ok = True)\n",
    "os.makedirs(IMAGE_PATH, exist_ok = True)\n",
    "os.makedirs(TABLE_MASK_PATH, exist_ok = True)\n",
    "os.makedirs(COL_MASK_PATH, exist_ok = True)"
   ]
  },
  {
   "cell_type": "code",
   "execution_count": null,
   "metadata": {},
   "outputs": [],
   "source": [
    "import xml.etree.ElementTree as ET\n",
    "tree = ET.parse('cTDaR_t00005.xml')\n",
    "root = tree.getroot()"
   ]
  },
  {
   "cell_type": "code",
   "execution_count": 6,
   "metadata": {},
   "outputs": [],
   "source": [
    "# Function to set a value in the table\n",
    "def set_value(table, row, col, value):\n",
    "    table[(row, col)] = value\n",
    "\n",
    "# Function to get a value from the table\n",
    "def get_value(table, row, col):\n",
    "    return table.get((row, col), None)"
   ]
  },
  {
   "cell_type": "markdown",
   "metadata": {},
   "source": [
    "# Point Extraction from XMLS"
   ]
  },
  {
   "cell_type": "markdown",
   "metadata": {},
   "source": [
    "### Extraction and arrangement of points for columns from XMLs"
   ]
  },
  {
   "cell_type": "code",
   "execution_count": 49,
   "metadata": {},
   "outputs": [],
   "source": [
    "import math\n",
    "def parrange(start_row, start_col, end_row, end_col, pointsfornow, points):\n",
    "  if(end_row == None):\n",
    "    end_row = start_row\n",
    "  if(end_col == None):\n",
    "    end_col = start_col\n",
    "  rows = end_row - start_row + 1\n",
    "  cols = end_col - start_col + 1\n",
    "  if(rows == 1 and cols == 1):\n",
    "    set_value(pointsfornow, start_row, start_col, points[0:4])\n",
    "    set_value(pointsfornow, start_row, start_col, [points[0], points[1], points[math.floor((len(points)-2)/2)+1], points[math.floor((len(points)-2)/2)+2]])\n",
    "  elif (rows != 1 or cols != 1) and len(points) > 4:\n",
    "    left = points[:rows+1]\n",
    "    top = points[rows+1:rows+cols]\n",
    "    right = points[rows+cols:rows+cols+rows+1]\n",
    "    bottom = points[rows+cols+rows+1:]\n",
    "    right.reverse()\n",
    "    bottom.reverse()\n",
    "    pts1 = True if len(points) == 2*(rows+cols) else False\n",
    "    L1 = True if len(left) == rows+1 else False\n",
    "    R1 = True if len(left) == rows+1 else False\n",
    "    T1 = True if  len(top) == cols-1 else False\n",
    "    B1 = True if  len(bottom) == cols-1 else False\n",
    "    master = True if pts1 and L1 and R1 and T1 and B1 else False\n",
    "    for row in range(rows):\n",
    "      for col in range(cols):\n",
    "        if col == 0 and cols > 1 and master and len(top)>0:\n",
    "          set_value(pointsfornow, start_row+row, start_col+col, [left[row], left[row+1], top[col], bottom[col]])\n",
    "        elif col == cols-1 and master and len(top)>0:\n",
    "          set_value(pointsfornow, start_row+row, start_col+col, [bottom[col-1], top[col-1], right[row], right[row+1]])\n",
    "        elif col > 0 and col < cols-1 and master and len(top)>0:\n",
    "          set_value(pointsfornow, start_row+row, start_col+col, [bottom[col-1], top[col-1], top[col], bottom[col]])\n",
    "        else:\n",
    "          set_value(pointsfornow, start_row+row, start_col+col, None)\n",
    "  elif (rows != 1 or cols != 1):  \n",
    "    for row in range(rows):\n",
    "      for col in range(cols):\n",
    "        set_value(pointsfornow, start_row+row, start_col+col, [points[0], points[1], points[2], points[3]])"
   ]
  },
  {
   "cell_type": "code",
   "execution_count": 8,
   "metadata": {},
   "outputs": [],
   "source": [
    "def string_to_points(coord_string):\n",
    "    points = coord_string.split()\n",
    "    return [tuple(map(int, point.split(','))) for point in points]"
   ]
  },
  {
   "cell_type": "code",
   "execution_count": 9,
   "metadata": {},
   "outputs": [],
   "source": [
    "def getall(root):\n",
    "  table= []\n",
    "  all_points = []\n",
    "  max_col = []  # Variable to track the maximum end-col value\n",
    "\n",
    "  for child in root: #Tables in Document\n",
    "      pointsfornow = {}\n",
    "      mxc = 0\n",
    "      for child2 in child: #coord for table and cell in Table\n",
    "        if 'points' in child2.attrib:\n",
    "              table.append(string_to_points(child2.attrib['points']))\n",
    "        else:\n",
    "            start_row, start_col, end_row, end_col = None, None, None, None\n",
    "            try:\n",
    "              start_row = int(child2.attrib['start-row'])\n",
    "              start_col = int(child2.attrib['start-col'])\n",
    "              end_row = int(child2.attrib['end-row'])\n",
    "              end_col = int(child2.attrib['end-col'])\n",
    "            except(ValueError, TypeError):\n",
    "              print(\"exception in Start/End Row/Column\")\n",
    "            try:\n",
    "              if end_col > mxc:\n",
    "                mxc = end_col\n",
    "            except (ValueError, TypeError):\n",
    "              print(\"exception in max col\")\n",
    "              if start_col > mxc:\n",
    "                mxc = start_col\n",
    "        for child3 in child2: #coord in Cell within Table\n",
    "          if 'points' in child3.attrib:\n",
    "                  parrange(start_row, start_col, end_row, end_col, pointsfornow, string_to_points(child3.attrib['points']))\n",
    "      all_points.append(pointsfornow)\n",
    "      max_col.append(mxc+1)\n",
    "  return table, all_points, max_col "
   ]
  },
  {
   "cell_type": "markdown",
   "metadata": {},
   "source": [
    "## THIS is for COLUMN MASK ONLY"
   ]
  },
  {
   "cell_type": "code",
   "execution_count": 10,
   "metadata": {},
   "outputs": [],
   "source": [
    "def customsort(points):\n",
    "  toreturn = []\n",
    "  for unsorted_dict in points:\n",
    "    sorted_dict = dict(sorted(unsorted_dict.items(), key=lambda item: (item[0][0], item[0][1])))\n",
    "    toreturn.append(sorted_dict)\n",
    "  return toreturn"
   ]
  },
  {
   "cell_type": "code",
   "execution_count": 131,
   "metadata": {},
   "outputs": [],
   "source": [
    "def toplot(all_ps, max_col):\n",
    "    ret = []\n",
    "    for p, all_poins in enumerate(all_ps):\n",
    "      print(len(all_poins))\n",
    "      # print(all_poins.keys())\n",
    "      temp_ret = []\n",
    "      resultant = list(all_poins.items())[-max_col[p]:]\n",
    "      replacefrm = list(all_poins.items())[:max_col[p]]\n",
    "\n",
    "# Iterate through the dictionary keys\n",
    "      resultant = dict(resultant)\n",
    "      replacefrm = dict(replacefrm)\n",
    "      R1 = 0\n",
    "      for key1 in resultant.keys():\n",
    "        A = key1[0]\n",
    "        if A > R1:\n",
    "          R1 = A\n",
    "      R2 = 1234567890123456789012345678901234567890\n",
    "      for key2 in replacefrm.keys():\n",
    "        B = key2[0]\n",
    "        if B < R2:\n",
    "          R2 = B\n",
    "      # print(resultant)\n",
    "      # print(replacefrm)\n",
    "      # print(max_col[p], len(resultant), len(replacefrm))\n",
    "      for i in range(max_col[p]):\n",
    "        # j, k = 1, 1\n",
    "        # res, rep = resultant[(R1, i)],  replacefrm[(R2, i)]\n",
    "        j, k = 0, 0\n",
    "        res, rep = None, None\n",
    "        while res == None:\n",
    "          # print(\"j:\", j,\"R1:\", R1, all_poins[(R1 - j, i)])\n",
    "          # print(all_poins[(R1 - j, i)])\n",
    "          res= all_poins[(R1 - j, i)]\n",
    "          j = j+1\n",
    "          if(R1-j<0):\n",
    "            res= False\n",
    "        while rep == None:\n",
    "          # print(\"k:\", k,\"R2:\", R2, all_poins[(R2 + k, i)])\n",
    "          rep = all_poins[(R2 + k, i)]\n",
    "          k = k+1\n",
    "          # if(R1+k>R1):\n",
    "          try:\n",
    "            all_poins[(R2 + k, i)]\n",
    "          except:  \n",
    "            rep= False\n",
    "        if(rep == False and res == False):\n",
    "          print(\"!!!!!!!!!!!!!!!!!!!!works!!!!!!!!!!!!!!!!!!!!!\")\n",
    "        if(rep != False and res != False):\n",
    "          res[0] = rep[0]\n",
    "          res[3] = rep[3]\n",
    "          res[0], res[1], res[2], res[3] = list(res[0]), list(res[1]), list(res[2]), list(res[3])\n",
    "          res[0][0] += 20\n",
    "          res[1][0] += 20\n",
    "          res[2][0] -= 20\n",
    "          res[3][0] -= 20\n",
    "          res[0], res[1], res[2], res[3] = tuple(res[0]), tuple(res[1]), tuple(res[2]), tuple(res[3])\n",
    "          temp_ret.append(res)\n",
    "        # else:\n",
    "        #   #REDUCE MAX_COL[P] BY 1\n",
    "      #if:\n",
    "      # max_col[p] = max_col[p]-1\n",
    "      # print(\"temp_ret:\" , temp_ret)\n",
    "      ret.append(temp_ret)\n",
    "    return ret"
   ]
  },
  {
   "cell_type": "markdown",
   "metadata": {},
   "source": [
    "# Mask Generation"
   ]
  },
  {
   "cell_type": "code",
   "execution_count": 12,
   "metadata": {},
   "outputs": [],
   "source": [
    "from PIL import Image, ImageDraw\n",
    "\n",
    "def get_image_dimensions(image_path):\n",
    "    with Image.open(image_path) as img:\n",
    "        width, height = img.size\n",
    "        return width, height"
   ]
  },
  {
   "cell_type": "markdown",
   "metadata": {},
   "source": [
    "# EDA"
   ]
  },
  {
   "cell_type": "markdown",
   "metadata": {},
   "source": [
    "## Marmot Dataset"
   ]
  },
  {
   "cell_type": "markdown",
   "metadata": {},
   "source": [
    "We will be using data in terms of\n",
    "\n",
    "- Positive Samples : Images with table in them\n",
    "- Negative Samples : Images with no table in them"
   ]
  },
  {
   "cell_type": "code",
   "execution_count": 13,
   "metadata": {},
   "outputs": [],
   "source": [
    "xmls = glob.glob('./ICDAR/ICDAR2019_cTDaR/training/TRACKB1/ground_truth' + '/*.xml')\n",
    "jpgs = glob.glob('./ICDAR/ICDAR2019_cTDaR/training/TRACKB1/ground_truth' + '/*.jpg')"
   ]
  },
  {
   "cell_type": "code",
   "execution_count": 14,
   "metadata": {},
   "outputs": [
    {
     "data": {
      "text/plain": [
       "['./ICDAR/ICDAR2019_cTDaR/training/TRACKB1/ground_truth\\\\cTDaR_t00000.xml',\n",
       " './ICDAR/ICDAR2019_cTDaR/training/TRACKB1/ground_truth\\\\cTDaR_t00001.xml',\n",
       " './ICDAR/ICDAR2019_cTDaR/training/TRACKB1/ground_truth\\\\cTDaR_t00002.xml',\n",
       " './ICDAR/ICDAR2019_cTDaR/training/TRACKB1/ground_truth\\\\cTDaR_t00003.xml',\n",
       " './ICDAR/ICDAR2019_cTDaR/training/TRACKB1/ground_truth\\\\cTDaR_t00004.xml',\n",
       " './ICDAR/ICDAR2019_cTDaR/training/TRACKB1/ground_truth\\\\cTDaR_t00005.xml',\n",
       " './ICDAR/ICDAR2019_cTDaR/training/TRACKB1/ground_truth\\\\cTDaR_t00006.xml',\n",
       " './ICDAR/ICDAR2019_cTDaR/training/TRACKB1/ground_truth\\\\cTDaR_t00007.xml',\n",
       " './ICDAR/ICDAR2019_cTDaR/training/TRACKB1/ground_truth\\\\cTDaR_t00008.xml',\n",
       " './ICDAR/ICDAR2019_cTDaR/training/TRACKB1/ground_truth\\\\cTDaR_t00009.xml',\n",
       " './ICDAR/ICDAR2019_cTDaR/training/TRACKB1/ground_truth\\\\cTDaR_t00010.xml',\n",
       " './ICDAR/ICDAR2019_cTDaR/training/TRACKB1/ground_truth\\\\cTDaR_t00018.xml',\n",
       " './ICDAR/ICDAR2019_cTDaR/training/TRACKB1/ground_truth\\\\cTDaR_t00019.xml',\n",
       " './ICDAR/ICDAR2019_cTDaR/training/TRACKB1/ground_truth\\\\cTDaR_t00020.xml',\n",
       " './ICDAR/ICDAR2019_cTDaR/training/TRACKB1/ground_truth\\\\cTDaR_t00021.xml',\n",
       " './ICDAR/ICDAR2019_cTDaR/training/TRACKB1/ground_truth\\\\cTDaR_t00022.xml',\n",
       " './ICDAR/ICDAR2019_cTDaR/training/TRACKB1/ground_truth\\\\cTDaR_t00023.xml',\n",
       " './ICDAR/ICDAR2019_cTDaR/training/TRACKB1/ground_truth\\\\cTDaR_t00024.xml',\n",
       " './ICDAR/ICDAR2019_cTDaR/training/TRACKB1/ground_truth\\\\cTDaR_t00025.xml',\n",
       " './ICDAR/ICDAR2019_cTDaR/training/TRACKB1/ground_truth\\\\cTDaR_t00026.xml',\n",
       " './ICDAR/ICDAR2019_cTDaR/training/TRACKB1/ground_truth\\\\cTDaR_t00027.xml',\n",
       " './ICDAR/ICDAR2019_cTDaR/training/TRACKB1/ground_truth\\\\cTDaR_t00028.xml',\n",
       " './ICDAR/ICDAR2019_cTDaR/training/TRACKB1/ground_truth\\\\cTDaR_t00029.xml',\n",
       " './ICDAR/ICDAR2019_cTDaR/training/TRACKB1/ground_truth\\\\cTDaR_t00030.xml',\n",
       " './ICDAR/ICDAR2019_cTDaR/training/TRACKB1/ground_truth\\\\cTDaR_t00031.xml',\n",
       " './ICDAR/ICDAR2019_cTDaR/training/TRACKB1/ground_truth\\\\cTDaR_t00032.xml',\n",
       " './ICDAR/ICDAR2019_cTDaR/training/TRACKB1/ground_truth\\\\cTDaR_t00033.xml',\n",
       " './ICDAR/ICDAR2019_cTDaR/training/TRACKB1/ground_truth\\\\cTDaR_t00034.xml',\n",
       " './ICDAR/ICDAR2019_cTDaR/training/TRACKB1/ground_truth\\\\cTDaR_t00035.xml',\n",
       " './ICDAR/ICDAR2019_cTDaR/training/TRACKB1/ground_truth\\\\cTDaR_t00036.xml',\n",
       " './ICDAR/ICDAR2019_cTDaR/training/TRACKB1/ground_truth\\\\cTDaR_t00037.xml',\n",
       " './ICDAR/ICDAR2019_cTDaR/training/TRACKB1/ground_truth\\\\cTDaR_t00038.xml',\n",
       " './ICDAR/ICDAR2019_cTDaR/training/TRACKB1/ground_truth\\\\cTDaR_t00039.xml',\n",
       " './ICDAR/ICDAR2019_cTDaR/training/TRACKB1/ground_truth\\\\cTDaR_t00040.xml',\n",
       " './ICDAR/ICDAR2019_cTDaR/training/TRACKB1/ground_truth\\\\cTDaR_t00041.xml',\n",
       " './ICDAR/ICDAR2019_cTDaR/training/TRACKB1/ground_truth\\\\cTDaR_t00042.xml',\n",
       " './ICDAR/ICDAR2019_cTDaR/training/TRACKB1/ground_truth\\\\cTDaR_t00043.xml',\n",
       " './ICDAR/ICDAR2019_cTDaR/training/TRACKB1/ground_truth\\\\cTDaR_t00044.xml',\n",
       " './ICDAR/ICDAR2019_cTDaR/training/TRACKB1/ground_truth\\\\cTDaR_t00045.xml',\n",
       " './ICDAR/ICDAR2019_cTDaR/training/TRACKB1/ground_truth\\\\cTDaR_t00046.xml',\n",
       " './ICDAR/ICDAR2019_cTDaR/training/TRACKB1/ground_truth\\\\cTDaR_t00047.xml',\n",
       " './ICDAR/ICDAR2019_cTDaR/training/TRACKB1/ground_truth\\\\cTDaR_t00048.xml',\n",
       " './ICDAR/ICDAR2019_cTDaR/training/TRACKB1/ground_truth\\\\cTDaR_t00049.xml',\n",
       " './ICDAR/ICDAR2019_cTDaR/training/TRACKB1/ground_truth\\\\cTDaR_t00050.xml',\n",
       " './ICDAR/ICDAR2019_cTDaR/training/TRACKB1/ground_truth\\\\cTDaR_t00051.xml',\n",
       " './ICDAR/ICDAR2019_cTDaR/training/TRACKB1/ground_truth\\\\cTDaR_t00052.xml',\n",
       " './ICDAR/ICDAR2019_cTDaR/training/TRACKB1/ground_truth\\\\cTDaR_t00053.xml',\n",
       " './ICDAR/ICDAR2019_cTDaR/training/TRACKB1/ground_truth\\\\cTDaR_t00054.xml',\n",
       " './ICDAR/ICDAR2019_cTDaR/training/TRACKB1/ground_truth\\\\cTDaR_t00055.xml',\n",
       " './ICDAR/ICDAR2019_cTDaR/training/TRACKB1/ground_truth\\\\cTDaR_t00056.xml',\n",
       " './ICDAR/ICDAR2019_cTDaR/training/TRACKB1/ground_truth\\\\cTDaR_t00057.xml',\n",
       " './ICDAR/ICDAR2019_cTDaR/training/TRACKB1/ground_truth\\\\cTDaR_t00058.xml',\n",
       " './ICDAR/ICDAR2019_cTDaR/training/TRACKB1/ground_truth\\\\cTDaR_t00059.xml',\n",
       " './ICDAR/ICDAR2019_cTDaR/training/TRACKB1/ground_truth\\\\cTDaR_t00060.xml',\n",
       " './ICDAR/ICDAR2019_cTDaR/training/TRACKB1/ground_truth\\\\cTDaR_t00061.xml',\n",
       " './ICDAR/ICDAR2019_cTDaR/training/TRACKB1/ground_truth\\\\cTDaR_t00062.xml',\n",
       " './ICDAR/ICDAR2019_cTDaR/training/TRACKB1/ground_truth\\\\cTDaR_t00063.xml',\n",
       " './ICDAR/ICDAR2019_cTDaR/training/TRACKB1/ground_truth\\\\cTDaR_t00064.xml',\n",
       " './ICDAR/ICDAR2019_cTDaR/training/TRACKB1/ground_truth\\\\cTDaR_t00065.xml',\n",
       " './ICDAR/ICDAR2019_cTDaR/training/TRACKB1/ground_truth\\\\cTDaR_t00066.xml',\n",
       " './ICDAR/ICDAR2019_cTDaR/training/TRACKB1/ground_truth\\\\cTDaR_t00067.xml',\n",
       " './ICDAR/ICDAR2019_cTDaR/training/TRACKB1/ground_truth\\\\cTDaR_t00068.xml',\n",
       " './ICDAR/ICDAR2019_cTDaR/training/TRACKB1/ground_truth\\\\cTDaR_t00069.xml',\n",
       " './ICDAR/ICDAR2019_cTDaR/training/TRACKB1/ground_truth\\\\cTDaR_t00070.xml',\n",
       " './ICDAR/ICDAR2019_cTDaR/training/TRACKB1/ground_truth\\\\cTDaR_t00091.xml',\n",
       " './ICDAR/ICDAR2019_cTDaR/training/TRACKB1/ground_truth\\\\cTDaR_t00092.xml',\n",
       " './ICDAR/ICDAR2019_cTDaR/training/TRACKB1/ground_truth\\\\cTDaR_t00093.xml',\n",
       " './ICDAR/ICDAR2019_cTDaR/training/TRACKB1/ground_truth\\\\cTDaR_t00094.xml',\n",
       " './ICDAR/ICDAR2019_cTDaR/training/TRACKB1/ground_truth\\\\cTDaR_t00095.xml',\n",
       " './ICDAR/ICDAR2019_cTDaR/training/TRACKB1/ground_truth\\\\cTDaR_t00096.xml',\n",
       " './ICDAR/ICDAR2019_cTDaR/training/TRACKB1/ground_truth\\\\cTDaR_t00097.xml',\n",
       " './ICDAR/ICDAR2019_cTDaR/training/TRACKB1/ground_truth\\\\cTDaR_t00098.xml',\n",
       " './ICDAR/ICDAR2019_cTDaR/training/TRACKB1/ground_truth\\\\cTDaR_t00099.xml',\n",
       " './ICDAR/ICDAR2019_cTDaR/training/TRACKB1/ground_truth\\\\cTDaR_t00100.xml',\n",
       " './ICDAR/ICDAR2019_cTDaR/training/TRACKB1/ground_truth\\\\cTDaR_t00101.xml',\n",
       " './ICDAR/ICDAR2019_cTDaR/training/TRACKB1/ground_truth\\\\cTDaR_t00116.xml',\n",
       " './ICDAR/ICDAR2019_cTDaR/training/TRACKB1/ground_truth\\\\cTDaR_t00117.xml',\n",
       " './ICDAR/ICDAR2019_cTDaR/training/TRACKB1/ground_truth\\\\cTDaR_t00118.xml',\n",
       " './ICDAR/ICDAR2019_cTDaR/training/TRACKB1/ground_truth\\\\cTDaR_t00119.xml',\n",
       " './ICDAR/ICDAR2019_cTDaR/training/TRACKB1/ground_truth\\\\cTDaR_t00120.xml',\n",
       " './ICDAR/ICDAR2019_cTDaR/training/TRACKB1/ground_truth\\\\cTDaR_t00121.xml',\n",
       " './ICDAR/ICDAR2019_cTDaR/training/TRACKB1/ground_truth\\\\cTDaR_t00122.xml',\n",
       " './ICDAR/ICDAR2019_cTDaR/training/TRACKB1/ground_truth\\\\cTDaR_t00125.xml',\n",
       " './ICDAR/ICDAR2019_cTDaR/training/TRACKB1/ground_truth\\\\cTDaR_t00126.xml',\n",
       " './ICDAR/ICDAR2019_cTDaR/training/TRACKB1/ground_truth\\\\cTDaR_t00127.xml',\n",
       " './ICDAR/ICDAR2019_cTDaR/training/TRACKB1/ground_truth\\\\cTDaR_t00128.xml',\n",
       " './ICDAR/ICDAR2019_cTDaR/training/TRACKB1/ground_truth\\\\cTDaR_t00129.xml',\n",
       " './ICDAR/ICDAR2019_cTDaR/training/TRACKB1/ground_truth\\\\cTDaR_t00130.xml',\n",
       " './ICDAR/ICDAR2019_cTDaR/training/TRACKB1/ground_truth\\\\cTDaR_t00131.xml',\n",
       " './ICDAR/ICDAR2019_cTDaR/training/TRACKB1/ground_truth\\\\cTDaR_t00132.xml',\n",
       " './ICDAR/ICDAR2019_cTDaR/training/TRACKB1/ground_truth\\\\cTDaR_t00133.xml',\n",
       " './ICDAR/ICDAR2019_cTDaR/training/TRACKB1/ground_truth\\\\cTDaR_t00134.xml',\n",
       " './ICDAR/ICDAR2019_cTDaR/training/TRACKB1/ground_truth\\\\cTDaR_t00135.xml',\n",
       " './ICDAR/ICDAR2019_cTDaR/training/TRACKB1/ground_truth\\\\cTDaR_t00136.xml',\n",
       " './ICDAR/ICDAR2019_cTDaR/training/TRACKB1/ground_truth\\\\cTDaR_t00137.xml',\n",
       " './ICDAR/ICDAR2019_cTDaR/training/TRACKB1/ground_truth\\\\cTDaR_t00138.xml',\n",
       " './ICDAR/ICDAR2019_cTDaR/training/TRACKB1/ground_truth\\\\cTDaR_t00139.xml',\n",
       " './ICDAR/ICDAR2019_cTDaR/training/TRACKB1/ground_truth\\\\cTDaR_t00140.xml',\n",
       " './ICDAR/ICDAR2019_cTDaR/training/TRACKB1/ground_truth\\\\cTDaR_t00141.xml',\n",
       " './ICDAR/ICDAR2019_cTDaR/training/TRACKB1/ground_truth\\\\cTDaR_t00142.xml',\n",
       " './ICDAR/ICDAR2019_cTDaR/training/TRACKB1/ground_truth\\\\cTDaR_t00143.xml',\n",
       " './ICDAR/ICDAR2019_cTDaR/training/TRACKB1/ground_truth\\\\cTDaR_t00144.xml',\n",
       " './ICDAR/ICDAR2019_cTDaR/training/TRACKB1/ground_truth\\\\cTDaR_t00145.xml',\n",
       " './ICDAR/ICDAR2019_cTDaR/training/TRACKB1/ground_truth\\\\cTDaR_t00167.xml',\n",
       " './ICDAR/ICDAR2019_cTDaR/training/TRACKB1/ground_truth\\\\cTDaR_t00168.xml',\n",
       " './ICDAR/ICDAR2019_cTDaR/training/TRACKB1/ground_truth\\\\cTDaR_t00169.xml',\n",
       " './ICDAR/ICDAR2019_cTDaR/training/TRACKB1/ground_truth\\\\cTDaR_t00170.xml',\n",
       " './ICDAR/ICDAR2019_cTDaR/training/TRACKB1/ground_truth\\\\cTDaR_t00171.xml',\n",
       " './ICDAR/ICDAR2019_cTDaR/training/TRACKB1/ground_truth\\\\cTDaR_t00172.xml',\n",
       " './ICDAR/ICDAR2019_cTDaR/training/TRACKB1/ground_truth\\\\cTDaR_t00173.xml',\n",
       " './ICDAR/ICDAR2019_cTDaR/training/TRACKB1/ground_truth\\\\cTDaR_t00174.xml',\n",
       " './ICDAR/ICDAR2019_cTDaR/training/TRACKB1/ground_truth\\\\cTDaR_t00177.xml',\n",
       " './ICDAR/ICDAR2019_cTDaR/training/TRACKB1/ground_truth\\\\cTDaR_t00178.xml',\n",
       " './ICDAR/ICDAR2019_cTDaR/training/TRACKB1/ground_truth\\\\cTDaR_t00179.xml',\n",
       " './ICDAR/ICDAR2019_cTDaR/training/TRACKB1/ground_truth\\\\cTDaR_t00180.xml',\n",
       " './ICDAR/ICDAR2019_cTDaR/training/TRACKB1/ground_truth\\\\cTDaR_t00181.xml',\n",
       " './ICDAR/ICDAR2019_cTDaR/training/TRACKB1/ground_truth\\\\cTDaR_t00182.xml',\n",
       " './ICDAR/ICDAR2019_cTDaR/training/TRACKB1/ground_truth\\\\cTDaR_t00183.xml',\n",
       " './ICDAR/ICDAR2019_cTDaR/training/TRACKB1/ground_truth\\\\cTDaR_t00184.xml',\n",
       " './ICDAR/ICDAR2019_cTDaR/training/TRACKB1/ground_truth\\\\cTDaR_t00185.xml',\n",
       " './ICDAR/ICDAR2019_cTDaR/training/TRACKB1/ground_truth\\\\cTDaR_t00186.xml',\n",
       " './ICDAR/ICDAR2019_cTDaR/training/TRACKB1/ground_truth\\\\cTDaR_t00187.xml',\n",
       " './ICDAR/ICDAR2019_cTDaR/training/TRACKB1/ground_truth\\\\cTDaR_t00188.xml',\n",
       " './ICDAR/ICDAR2019_cTDaR/training/TRACKB1/ground_truth\\\\cTDaR_t00189.xml',\n",
       " './ICDAR/ICDAR2019_cTDaR/training/TRACKB1/ground_truth\\\\cTDaR_t00190.xml',\n",
       " './ICDAR/ICDAR2019_cTDaR/training/TRACKB1/ground_truth\\\\cTDaR_t00191.xml',\n",
       " './ICDAR/ICDAR2019_cTDaR/training/TRACKB1/ground_truth\\\\cTDaR_t00192.xml',\n",
       " './ICDAR/ICDAR2019_cTDaR/training/TRACKB1/ground_truth\\\\cTDaR_t00198.xml',\n",
       " './ICDAR/ICDAR2019_cTDaR/training/TRACKB1/ground_truth\\\\cTDaR_t00199.xml',\n",
       " './ICDAR/ICDAR2019_cTDaR/training/TRACKB1/ground_truth\\\\cTDaR_t00200.xml',\n",
       " './ICDAR/ICDAR2019_cTDaR/training/TRACKB1/ground_truth\\\\cTDaR_t00201.xml',\n",
       " './ICDAR/ICDAR2019_cTDaR/training/TRACKB1/ground_truth\\\\cTDaR_t00202.xml',\n",
       " './ICDAR/ICDAR2019_cTDaR/training/TRACKB1/ground_truth\\\\cTDaR_t00203.xml',\n",
       " './ICDAR/ICDAR2019_cTDaR/training/TRACKB1/ground_truth\\\\cTDaR_t00204.xml',\n",
       " './ICDAR/ICDAR2019_cTDaR/training/TRACKB1/ground_truth\\\\cTDaR_t00205.xml',\n",
       " './ICDAR/ICDAR2019_cTDaR/training/TRACKB1/ground_truth\\\\cTDaR_t00206.xml',\n",
       " './ICDAR/ICDAR2019_cTDaR/training/TRACKB1/ground_truth\\\\cTDaR_t00207.xml',\n",
       " './ICDAR/ICDAR2019_cTDaR/training/TRACKB1/ground_truth\\\\cTDaR_t00208.xml',\n",
       " './ICDAR/ICDAR2019_cTDaR/training/TRACKB1/ground_truth\\\\cTDaR_t00209.xml',\n",
       " './ICDAR/ICDAR2019_cTDaR/training/TRACKB1/ground_truth\\\\cTDaR_t00228.xml',\n",
       " './ICDAR/ICDAR2019_cTDaR/training/TRACKB1/ground_truth\\\\cTDaR_t00229.xml',\n",
       " './ICDAR/ICDAR2019_cTDaR/training/TRACKB1/ground_truth\\\\cTDaR_t00230.xml',\n",
       " './ICDAR/ICDAR2019_cTDaR/training/TRACKB1/ground_truth\\\\cTDaR_t00231.xml',\n",
       " './ICDAR/ICDAR2019_cTDaR/training/TRACKB1/ground_truth\\\\cTDaR_t00232.xml',\n",
       " './ICDAR/ICDAR2019_cTDaR/training/TRACKB1/ground_truth\\\\cTDaR_t00233.xml',\n",
       " './ICDAR/ICDAR2019_cTDaR/training/TRACKB1/ground_truth\\\\cTDaR_t00234.xml',\n",
       " './ICDAR/ICDAR2019_cTDaR/training/TRACKB1/ground_truth\\\\cTDaR_t00235.xml',\n",
       " './ICDAR/ICDAR2019_cTDaR/training/TRACKB1/ground_truth\\\\cTDaR_t00236.xml',\n",
       " './ICDAR/ICDAR2019_cTDaR/training/TRACKB1/ground_truth\\\\cTDaR_t00237.xml',\n",
       " './ICDAR/ICDAR2019_cTDaR/training/TRACKB1/ground_truth\\\\cTDaR_t00238.xml',\n",
       " './ICDAR/ICDAR2019_cTDaR/training/TRACKB1/ground_truth\\\\cTDaR_t00239.xml',\n",
       " './ICDAR/ICDAR2019_cTDaR/training/TRACKB1/ground_truth\\\\cTDaR_t00240.xml',\n",
       " './ICDAR/ICDAR2019_cTDaR/training/TRACKB1/ground_truth\\\\cTDaR_t00241.xml',\n",
       " './ICDAR/ICDAR2019_cTDaR/training/TRACKB1/ground_truth\\\\cTDaR_t00242.xml',\n",
       " './ICDAR/ICDAR2019_cTDaR/training/TRACKB1/ground_truth\\\\cTDaR_t00243.xml',\n",
       " './ICDAR/ICDAR2019_cTDaR/training/TRACKB1/ground_truth\\\\cTDaR_t00244.xml',\n",
       " './ICDAR/ICDAR2019_cTDaR/training/TRACKB1/ground_truth\\\\cTDaR_t00245.xml',\n",
       " './ICDAR/ICDAR2019_cTDaR/training/TRACKB1/ground_truth\\\\cTDaR_t00246.xml',\n",
       " './ICDAR/ICDAR2019_cTDaR/training/TRACKB1/ground_truth\\\\cTDaR_t00247.xml',\n",
       " './ICDAR/ICDAR2019_cTDaR/training/TRACKB1/ground_truth\\\\cTDaR_t00254.xml',\n",
       " './ICDAR/ICDAR2019_cTDaR/training/TRACKB1/ground_truth\\\\cTDaR_t00255.xml',\n",
       " './ICDAR/ICDAR2019_cTDaR/training/TRACKB1/ground_truth\\\\cTDaR_t00256.xml',\n",
       " './ICDAR/ICDAR2019_cTDaR/training/TRACKB1/ground_truth\\\\cTDaR_t00257.xml',\n",
       " './ICDAR/ICDAR2019_cTDaR/training/TRACKB1/ground_truth\\\\cTDaR_t00258.xml',\n",
       " './ICDAR/ICDAR2019_cTDaR/training/TRACKB1/ground_truth\\\\cTDaR_t00259.xml',\n",
       " './ICDAR/ICDAR2019_cTDaR/training/TRACKB1/ground_truth\\\\cTDaR_t00260.xml',\n",
       " './ICDAR/ICDAR2019_cTDaR/training/TRACKB1/ground_truth\\\\cTDaR_t00261.xml',\n",
       " './ICDAR/ICDAR2019_cTDaR/training/TRACKB1/ground_truth\\\\cTDaR_t00262.xml',\n",
       " './ICDAR/ICDAR2019_cTDaR/training/TRACKB1/ground_truth\\\\cTDaR_t00263.xml',\n",
       " './ICDAR/ICDAR2019_cTDaR/training/TRACKB1/ground_truth\\\\cTDaR_t00264.xml',\n",
       " './ICDAR/ICDAR2019_cTDaR/training/TRACKB1/ground_truth\\\\cTDaR_t00265.xml',\n",
       " './ICDAR/ICDAR2019_cTDaR/training/TRACKB1/ground_truth\\\\cTDaR_t00266.xml',\n",
       " './ICDAR/ICDAR2019_cTDaR/training/TRACKB1/ground_truth\\\\cTDaR_t00267.xml',\n",
       " './ICDAR/ICDAR2019_cTDaR/training/TRACKB1/ground_truth\\\\cTDaR_t00268.xml',\n",
       " './ICDAR/ICDAR2019_cTDaR/training/TRACKB1/ground_truth\\\\cTDaR_t00269.xml',\n",
       " './ICDAR/ICDAR2019_cTDaR/training/TRACKB1/ground_truth\\\\cTDaR_t00270.xml',\n",
       " './ICDAR/ICDAR2019_cTDaR/training/TRACKB1/ground_truth\\\\cTDaR_t00271.xml',\n",
       " './ICDAR/ICDAR2019_cTDaR/training/TRACKB1/ground_truth\\\\cTDaR_t00272.xml',\n",
       " './ICDAR/ICDAR2019_cTDaR/training/TRACKB1/ground_truth\\\\cTDaR_t00273.xml',\n",
       " './ICDAR/ICDAR2019_cTDaR/training/TRACKB1/ground_truth\\\\cTDaR_t00274.xml',\n",
       " './ICDAR/ICDAR2019_cTDaR/training/TRACKB1/ground_truth\\\\cTDaR_t00275.xml',\n",
       " './ICDAR/ICDAR2019_cTDaR/training/TRACKB1/ground_truth\\\\cTDaR_t00276.xml',\n",
       " './ICDAR/ICDAR2019_cTDaR/training/TRACKB1/ground_truth\\\\cTDaR_t00277.xml',\n",
       " './ICDAR/ICDAR2019_cTDaR/training/TRACKB1/ground_truth\\\\cTDaR_t00278.xml',\n",
       " './ICDAR/ICDAR2019_cTDaR/training/TRACKB1/ground_truth\\\\cTDaR_t00279.xml',\n",
       " './ICDAR/ICDAR2019_cTDaR/training/TRACKB1/ground_truth\\\\cTDaR_t00280.xml',\n",
       " './ICDAR/ICDAR2019_cTDaR/training/TRACKB1/ground_truth\\\\cTDaR_t00281.xml',\n",
       " './ICDAR/ICDAR2019_cTDaR/training/TRACKB1/ground_truth\\\\cTDaR_t00282.xml',\n",
       " './ICDAR/ICDAR2019_cTDaR/training/TRACKB1/ground_truth\\\\cTDaR_t00283.xml',\n",
       " './ICDAR/ICDAR2019_cTDaR/training/TRACKB1/ground_truth\\\\cTDaR_t00284.xml',\n",
       " './ICDAR/ICDAR2019_cTDaR/training/TRACKB1/ground_truth\\\\cTDaR_t00304.xml',\n",
       " './ICDAR/ICDAR2019_cTDaR/training/TRACKB1/ground_truth\\\\cTDaR_t00305.xml',\n",
       " './ICDAR/ICDAR2019_cTDaR/training/TRACKB1/ground_truth\\\\cTDaR_t00306.xml',\n",
       " './ICDAR/ICDAR2019_cTDaR/training/TRACKB1/ground_truth\\\\cTDaR_t00307.xml',\n",
       " './ICDAR/ICDAR2019_cTDaR/training/TRACKB1/ground_truth\\\\cTDaR_t00308.xml',\n",
       " './ICDAR/ICDAR2019_cTDaR/training/TRACKB1/ground_truth\\\\cTDaR_t00309.xml',\n",
       " './ICDAR/ICDAR2019_cTDaR/training/TRACKB1/ground_truth\\\\cTDaR_t00310.xml',\n",
       " './ICDAR/ICDAR2019_cTDaR/training/TRACKB1/ground_truth\\\\cTDaR_t00311.xml',\n",
       " './ICDAR/ICDAR2019_cTDaR/training/TRACKB1/ground_truth\\\\cTDaR_t00312.xml',\n",
       " './ICDAR/ICDAR2019_cTDaR/training/TRACKB1/ground_truth\\\\cTDaR_t00313.xml',\n",
       " './ICDAR/ICDAR2019_cTDaR/training/TRACKB1/ground_truth\\\\cTDaR_t00314.xml',\n",
       " './ICDAR/ICDAR2019_cTDaR/training/TRACKB1/ground_truth\\\\cTDaR_t00315.xml',\n",
       " './ICDAR/ICDAR2019_cTDaR/training/TRACKB1/ground_truth\\\\cTDaR_t00316.xml',\n",
       " './ICDAR/ICDAR2019_cTDaR/training/TRACKB1/ground_truth\\\\cTDaR_t00317.xml',\n",
       " './ICDAR/ICDAR2019_cTDaR/training/TRACKB1/ground_truth\\\\cTDaR_t00318.xml',\n",
       " './ICDAR/ICDAR2019_cTDaR/training/TRACKB1/ground_truth\\\\cTDaR_t00319.xml',\n",
       " './ICDAR/ICDAR2019_cTDaR/training/TRACKB1/ground_truth\\\\cTDaR_t00320.xml',\n",
       " './ICDAR/ICDAR2019_cTDaR/training/TRACKB1/ground_truth\\\\cTDaR_t00321.xml',\n",
       " './ICDAR/ICDAR2019_cTDaR/training/TRACKB1/ground_truth\\\\cTDaR_t00343.xml',\n",
       " './ICDAR/ICDAR2019_cTDaR/training/TRACKB1/ground_truth\\\\cTDaR_t00344.xml',\n",
       " './ICDAR/ICDAR2019_cTDaR/training/TRACKB1/ground_truth\\\\cTDaR_t00345.xml',\n",
       " './ICDAR/ICDAR2019_cTDaR/training/TRACKB1/ground_truth\\\\cTDaR_t00346.xml',\n",
       " './ICDAR/ICDAR2019_cTDaR/training/TRACKB1/ground_truth\\\\cTDaR_t00347.xml',\n",
       " './ICDAR/ICDAR2019_cTDaR/training/TRACKB1/ground_truth\\\\cTDaR_t00348.xml',\n",
       " './ICDAR/ICDAR2019_cTDaR/training/TRACKB1/ground_truth\\\\cTDaR_t00349.xml',\n",
       " './ICDAR/ICDAR2019_cTDaR/training/TRACKB1/ground_truth\\\\cTDaR_t00350.xml',\n",
       " './ICDAR/ICDAR2019_cTDaR/training/TRACKB1/ground_truth\\\\cTDaR_t00351.xml',\n",
       " './ICDAR/ICDAR2019_cTDaR/training/TRACKB1/ground_truth\\\\cTDaR_t00352.xml',\n",
       " './ICDAR/ICDAR2019_cTDaR/training/TRACKB1/ground_truth\\\\cTDaR_t00353.xml',\n",
       " './ICDAR/ICDAR2019_cTDaR/training/TRACKB1/ground_truth\\\\cTDaR_t00354.xml',\n",
       " './ICDAR/ICDAR2019_cTDaR/training/TRACKB1/ground_truth\\\\cTDaR_t00355.xml',\n",
       " './ICDAR/ICDAR2019_cTDaR/training/TRACKB1/ground_truth\\\\cTDaR_t00356.xml',\n",
       " './ICDAR/ICDAR2019_cTDaR/training/TRACKB1/ground_truth\\\\cTDaR_t00357.xml',\n",
       " './ICDAR/ICDAR2019_cTDaR/training/TRACKB1/ground_truth\\\\cTDaR_t00358.xml',\n",
       " './ICDAR/ICDAR2019_cTDaR/training/TRACKB1/ground_truth\\\\cTDaR_t00359.xml',\n",
       " './ICDAR/ICDAR2019_cTDaR/training/TRACKB1/ground_truth\\\\cTDaR_t00360.xml',\n",
       " './ICDAR/ICDAR2019_cTDaR/training/TRACKB1/ground_truth\\\\cTDaR_t00361.xml',\n",
       " './ICDAR/ICDAR2019_cTDaR/training/TRACKB1/ground_truth\\\\cTDaR_t00362.xml',\n",
       " './ICDAR/ICDAR2019_cTDaR/training/TRACKB1/ground_truth\\\\cTDaR_t00363.xml',\n",
       " './ICDAR/ICDAR2019_cTDaR/training/TRACKB1/ground_truth\\\\cTDaR_t00364.xml',\n",
       " './ICDAR/ICDAR2019_cTDaR/training/TRACKB1/ground_truth\\\\cTDaR_t00365.xml',\n",
       " './ICDAR/ICDAR2019_cTDaR/training/TRACKB1/ground_truth\\\\cTDaR_t00366.xml',\n",
       " './ICDAR/ICDAR2019_cTDaR/training/TRACKB1/ground_truth\\\\cTDaR_t00367.xml',\n",
       " './ICDAR/ICDAR2019_cTDaR/training/TRACKB1/ground_truth\\\\cTDaR_t00368.xml',\n",
       " './ICDAR/ICDAR2019_cTDaR/training/TRACKB1/ground_truth\\\\cTDaR_t00369.xml',\n",
       " './ICDAR/ICDAR2019_cTDaR/training/TRACKB1/ground_truth\\\\cTDaR_t00370.xml',\n",
       " './ICDAR/ICDAR2019_cTDaR/training/TRACKB1/ground_truth\\\\cTDaR_t00371.xml',\n",
       " './ICDAR/ICDAR2019_cTDaR/training/TRACKB1/ground_truth\\\\cTDaR_t00372.xml',\n",
       " './ICDAR/ICDAR2019_cTDaR/training/TRACKB1/ground_truth\\\\cTDaR_t00373.xml',\n",
       " './ICDAR/ICDAR2019_cTDaR/training/TRACKB1/ground_truth\\\\cTDaR_t00388.xml',\n",
       " './ICDAR/ICDAR2019_cTDaR/training/TRACKB1/ground_truth\\\\cTDaR_t00389.xml',\n",
       " './ICDAR/ICDAR2019_cTDaR/training/TRACKB1/ground_truth\\\\cTDaR_t00390.xml',\n",
       " './ICDAR/ICDAR2019_cTDaR/training/TRACKB1/ground_truth\\\\cTDaR_t00391.xml',\n",
       " './ICDAR/ICDAR2019_cTDaR/training/TRACKB1/ground_truth\\\\cTDaR_t00392.xml',\n",
       " './ICDAR/ICDAR2019_cTDaR/training/TRACKB1/ground_truth\\\\cTDaR_t00393.xml',\n",
       " './ICDAR/ICDAR2019_cTDaR/training/TRACKB1/ground_truth\\\\cTDaR_t00394.xml',\n",
       " './ICDAR/ICDAR2019_cTDaR/training/TRACKB1/ground_truth\\\\cTDaR_t00395.xml',\n",
       " './ICDAR/ICDAR2019_cTDaR/training/TRACKB1/ground_truth\\\\cTDaR_t00396.xml',\n",
       " './ICDAR/ICDAR2019_cTDaR/training/TRACKB1/ground_truth\\\\cTDaR_t00397.xml',\n",
       " './ICDAR/ICDAR2019_cTDaR/training/TRACKB1/ground_truth\\\\cTDaR_t00398.xml',\n",
       " './ICDAR/ICDAR2019_cTDaR/training/TRACKB1/ground_truth\\\\cTDaR_t00403.xml',\n",
       " './ICDAR/ICDAR2019_cTDaR/training/TRACKB1/ground_truth\\\\cTDaR_t00404.xml',\n",
       " './ICDAR/ICDAR2019_cTDaR/training/TRACKB1/ground_truth\\\\cTDaR_t00405.xml',\n",
       " './ICDAR/ICDAR2019_cTDaR/training/TRACKB1/ground_truth\\\\cTDaR_t00406.xml',\n",
       " './ICDAR/ICDAR2019_cTDaR/training/TRACKB1/ground_truth\\\\cTDaR_t00407.xml',\n",
       " './ICDAR/ICDAR2019_cTDaR/training/TRACKB1/ground_truth\\\\cTDaR_t00408.xml',\n",
       " './ICDAR/ICDAR2019_cTDaR/training/TRACKB1/ground_truth\\\\cTDaR_t00409.xml',\n",
       " './ICDAR/ICDAR2019_cTDaR/training/TRACKB1/ground_truth\\\\cTDaR_t00410.xml',\n",
       " './ICDAR/ICDAR2019_cTDaR/training/TRACKB1/ground_truth\\\\cTDaR_t00411.xml',\n",
       " './ICDAR/ICDAR2019_cTDaR/training/TRACKB1/ground_truth\\\\cTDaR_t00412.xml',\n",
       " './ICDAR/ICDAR2019_cTDaR/training/TRACKB1/ground_truth\\\\cTDaR_t00413.xml',\n",
       " './ICDAR/ICDAR2019_cTDaR/training/TRACKB1/ground_truth\\\\cTDaR_t00414.xml',\n",
       " './ICDAR/ICDAR2019_cTDaR/training/TRACKB1/ground_truth\\\\cTDaR_t00415.xml',\n",
       " './ICDAR/ICDAR2019_cTDaR/training/TRACKB1/ground_truth\\\\cTDaR_t00416.xml',\n",
       " './ICDAR/ICDAR2019_cTDaR/training/TRACKB1/ground_truth\\\\cTDaR_t00417.xml',\n",
       " './ICDAR/ICDAR2019_cTDaR/training/TRACKB1/ground_truth\\\\cTDaR_t00418.xml',\n",
       " './ICDAR/ICDAR2019_cTDaR/training/TRACKB1/ground_truth\\\\cTDaR_t00419.xml',\n",
       " './ICDAR/ICDAR2019_cTDaR/training/TRACKB1/ground_truth\\\\cTDaR_t00420.xml',\n",
       " './ICDAR/ICDAR2019_cTDaR/training/TRACKB1/ground_truth\\\\cTDaR_t00421.xml',\n",
       " './ICDAR/ICDAR2019_cTDaR/training/TRACKB1/ground_truth\\\\cTDaR_t00422.xml',\n",
       " './ICDAR/ICDAR2019_cTDaR/training/TRACKB1/ground_truth\\\\cTDaR_t00423.xml',\n",
       " './ICDAR/ICDAR2019_cTDaR/training/TRACKB1/ground_truth\\\\cTDaR_t00424.xml',\n",
       " './ICDAR/ICDAR2019_cTDaR/training/TRACKB1/ground_truth\\\\cTDaR_t00425.xml',\n",
       " './ICDAR/ICDAR2019_cTDaR/training/TRACKB1/ground_truth\\\\cTDaR_t00426.xml',\n",
       " './ICDAR/ICDAR2019_cTDaR/training/TRACKB1/ground_truth\\\\cTDaR_t00427.xml',\n",
       " './ICDAR/ICDAR2019_cTDaR/training/TRACKB1/ground_truth\\\\cTDaR_t00428.xml',\n",
       " './ICDAR/ICDAR2019_cTDaR/training/TRACKB1/ground_truth\\\\cTDaR_t00429.xml',\n",
       " './ICDAR/ICDAR2019_cTDaR/training/TRACKB1/ground_truth\\\\cTDaR_t00430.xml',\n",
       " './ICDAR/ICDAR2019_cTDaR/training/TRACKB1/ground_truth\\\\cTDaR_t00431.xml',\n",
       " './ICDAR/ICDAR2019_cTDaR/training/TRACKB1/ground_truth\\\\cTDaR_t00432.xml',\n",
       " './ICDAR/ICDAR2019_cTDaR/training/TRACKB1/ground_truth\\\\cTDaR_t00433.xml',\n",
       " './ICDAR/ICDAR2019_cTDaR/training/TRACKB1/ground_truth\\\\cTDaR_t00434.xml',\n",
       " './ICDAR/ICDAR2019_cTDaR/training/TRACKB1/ground_truth\\\\cTDaR_t00435.xml',\n",
       " './ICDAR/ICDAR2019_cTDaR/training/TRACKB1/ground_truth\\\\cTDaR_t00436.xml',\n",
       " './ICDAR/ICDAR2019_cTDaR/training/TRACKB1/ground_truth\\\\cTDaR_t00437.xml',\n",
       " './ICDAR/ICDAR2019_cTDaR/training/TRACKB1/ground_truth\\\\cTDaR_t00438.xml',\n",
       " './ICDAR/ICDAR2019_cTDaR/training/TRACKB1/ground_truth\\\\cTDaR_t00439.xml',\n",
       " './ICDAR/ICDAR2019_cTDaR/training/TRACKB1/ground_truth\\\\cTDaR_t00440.xml',\n",
       " './ICDAR/ICDAR2019_cTDaR/training/TRACKB1/ground_truth\\\\cTDaR_t00441.xml',\n",
       " './ICDAR/ICDAR2019_cTDaR/training/TRACKB1/ground_truth\\\\cTDaR_t00442.xml',\n",
       " './ICDAR/ICDAR2019_cTDaR/training/TRACKB1/ground_truth\\\\cTDaR_t00443.xml',\n",
       " './ICDAR/ICDAR2019_cTDaR/training/TRACKB1/ground_truth\\\\cTDaR_t00448.xml',\n",
       " './ICDAR/ICDAR2019_cTDaR/training/TRACKB1/ground_truth\\\\cTDaR_t00449.xml',\n",
       " './ICDAR/ICDAR2019_cTDaR/training/TRACKB1/ground_truth\\\\cTDaR_t00450.xml',\n",
       " './ICDAR/ICDAR2019_cTDaR/training/TRACKB1/ground_truth\\\\cTDaR_t00451.xml',\n",
       " './ICDAR/ICDAR2019_cTDaR/training/TRACKB1/ground_truth\\\\cTDaR_t00452.xml',\n",
       " './ICDAR/ICDAR2019_cTDaR/training/TRACKB1/ground_truth\\\\cTDaR_t00453.xml',\n",
       " './ICDAR/ICDAR2019_cTDaR/training/TRACKB1/ground_truth\\\\cTDaR_t00454.xml',\n",
       " './ICDAR/ICDAR2019_cTDaR/training/TRACKB1/ground_truth\\\\cTDaR_t00455.xml',\n",
       " './ICDAR/ICDAR2019_cTDaR/training/TRACKB1/ground_truth\\\\cTDaR_t00456.xml',\n",
       " './ICDAR/ICDAR2019_cTDaR/training/TRACKB1/ground_truth\\\\cTDaR_t00457.xml',\n",
       " './ICDAR/ICDAR2019_cTDaR/training/TRACKB1/ground_truth\\\\cTDaR_t00458.xml',\n",
       " './ICDAR/ICDAR2019_cTDaR/training/TRACKB1/ground_truth\\\\cTDaR_t00459.xml',\n",
       " './ICDAR/ICDAR2019_cTDaR/training/TRACKB1/ground_truth\\\\cTDaR_t00460.xml',\n",
       " './ICDAR/ICDAR2019_cTDaR/training/TRACKB1/ground_truth\\\\cTDaR_t00461.xml',\n",
       " './ICDAR/ICDAR2019_cTDaR/training/TRACKB1/ground_truth\\\\cTDaR_t00462.xml',\n",
       " './ICDAR/ICDAR2019_cTDaR/training/TRACKB1/ground_truth\\\\cTDaR_t00463.xml',\n",
       " './ICDAR/ICDAR2019_cTDaR/training/TRACKB1/ground_truth\\\\cTDaR_t00464.xml',\n",
       " './ICDAR/ICDAR2019_cTDaR/training/TRACKB1/ground_truth\\\\cTDaR_t00465.xml',\n",
       " './ICDAR/ICDAR2019_cTDaR/training/TRACKB1/ground_truth\\\\cTDaR_t00466.xml',\n",
       " './ICDAR/ICDAR2019_cTDaR/training/TRACKB1/ground_truth\\\\cTDaR_t00467.xml',\n",
       " './ICDAR/ICDAR2019_cTDaR/training/TRACKB1/ground_truth\\\\cTDaR_t00468.xml',\n",
       " './ICDAR/ICDAR2019_cTDaR/training/TRACKB1/ground_truth\\\\cTDaR_t00469.xml',\n",
       " './ICDAR/ICDAR2019_cTDaR/training/TRACKB1/ground_truth\\\\cTDaR_t00470.xml',\n",
       " './ICDAR/ICDAR2019_cTDaR/training/TRACKB1/ground_truth\\\\cTDaR_t00471.xml',\n",
       " './ICDAR/ICDAR2019_cTDaR/training/TRACKB1/ground_truth\\\\cTDaR_t00472.xml',\n",
       " './ICDAR/ICDAR2019_cTDaR/training/TRACKB1/ground_truth\\\\cTDaR_t00473.xml',\n",
       " './ICDAR/ICDAR2019_cTDaR/training/TRACKB1/ground_truth\\\\cTDaR_t00474.xml',\n",
       " './ICDAR/ICDAR2019_cTDaR/training/TRACKB1/ground_truth\\\\cTDaR_t00475.xml',\n",
       " './ICDAR/ICDAR2019_cTDaR/training/TRACKB1/ground_truth\\\\cTDaR_t00476.xml',\n",
       " './ICDAR/ICDAR2019_cTDaR/training/TRACKB1/ground_truth\\\\cTDaR_t00501.xml',\n",
       " './ICDAR/ICDAR2019_cTDaR/training/TRACKB1/ground_truth\\\\cTDaR_t00502.xml',\n",
       " './ICDAR/ICDAR2019_cTDaR/training/TRACKB1/ground_truth\\\\cTDaR_t00503.xml',\n",
       " './ICDAR/ICDAR2019_cTDaR/training/TRACKB1/ground_truth\\\\cTDaR_t00504.xml',\n",
       " './ICDAR/ICDAR2019_cTDaR/training/TRACKB1/ground_truth\\\\cTDaR_t00505.xml',\n",
       " './ICDAR/ICDAR2019_cTDaR/training/TRACKB1/ground_truth\\\\cTDaR_t00506.xml',\n",
       " './ICDAR/ICDAR2019_cTDaR/training/TRACKB1/ground_truth\\\\cTDaR_t00507.xml',\n",
       " './ICDAR/ICDAR2019_cTDaR/training/TRACKB1/ground_truth\\\\cTDaR_t00508.xml',\n",
       " './ICDAR/ICDAR2019_cTDaR/training/TRACKB1/ground_truth\\\\cTDaR_t00509.xml',\n",
       " './ICDAR/ICDAR2019_cTDaR/training/TRACKB1/ground_truth\\\\cTDaR_t00510.xml',\n",
       " './ICDAR/ICDAR2019_cTDaR/training/TRACKB1/ground_truth\\\\cTDaR_t00511.xml',\n",
       " './ICDAR/ICDAR2019_cTDaR/training/TRACKB1/ground_truth\\\\cTDaR_t00512.xml',\n",
       " './ICDAR/ICDAR2019_cTDaR/training/TRACKB1/ground_truth\\\\cTDaR_t00513.xml',\n",
       " './ICDAR/ICDAR2019_cTDaR/training/TRACKB1/ground_truth\\\\cTDaR_t00514.xml',\n",
       " './ICDAR/ICDAR2019_cTDaR/training/TRACKB1/ground_truth\\\\cTDaR_t00515.xml',\n",
       " './ICDAR/ICDAR2019_cTDaR/training/TRACKB1/ground_truth\\\\cTDaR_t00516.xml',\n",
       " './ICDAR/ICDAR2019_cTDaR/training/TRACKB1/ground_truth\\\\cTDaR_t00517.xml',\n",
       " './ICDAR/ICDAR2019_cTDaR/training/TRACKB1/ground_truth\\\\cTDaR_t00518.xml',\n",
       " './ICDAR/ICDAR2019_cTDaR/training/TRACKB1/ground_truth\\\\cTDaR_t00519.xml',\n",
       " './ICDAR/ICDAR2019_cTDaR/training/TRACKB1/ground_truth\\\\cTDaR_t00520.xml',\n",
       " './ICDAR/ICDAR2019_cTDaR/training/TRACKB1/ground_truth\\\\cTDaR_t00521.xml',\n",
       " './ICDAR/ICDAR2019_cTDaR/training/TRACKB1/ground_truth\\\\cTDaR_t00522.xml',\n",
       " './ICDAR/ICDAR2019_cTDaR/training/TRACKB1/ground_truth\\\\cTDaR_t00530.xml',\n",
       " './ICDAR/ICDAR2019_cTDaR/training/TRACKB1/ground_truth\\\\cTDaR_t00531.xml',\n",
       " './ICDAR/ICDAR2019_cTDaR/training/TRACKB1/ground_truth\\\\cTDaR_t00532.xml',\n",
       " './ICDAR/ICDAR2019_cTDaR/training/TRACKB1/ground_truth\\\\cTDaR_t00533.xml',\n",
       " './ICDAR/ICDAR2019_cTDaR/training/TRACKB1/ground_truth\\\\cTDaR_t00534.xml',\n",
       " './ICDAR/ICDAR2019_cTDaR/training/TRACKB1/ground_truth\\\\cTDaR_t00535.xml',\n",
       " './ICDAR/ICDAR2019_cTDaR/training/TRACKB1/ground_truth\\\\cTDaR_t00536.xml',\n",
       " './ICDAR/ICDAR2019_cTDaR/training/TRACKB1/ground_truth\\\\cTDaR_t00537.xml',\n",
       " './ICDAR/ICDAR2019_cTDaR/training/TRACKB1/ground_truth\\\\cTDaR_t00538.xml',\n",
       " './ICDAR/ICDAR2019_cTDaR/training/TRACKB1/ground_truth\\\\cTDaR_t00539.xml',\n",
       " './ICDAR/ICDAR2019_cTDaR/training/TRACKB1/ground_truth\\\\cTDaR_t00540.xml',\n",
       " './ICDAR/ICDAR2019_cTDaR/training/TRACKB1/ground_truth\\\\cTDaR_t00541.xml',\n",
       " './ICDAR/ICDAR2019_cTDaR/training/TRACKB1/ground_truth\\\\cTDaR_t00542.xml',\n",
       " './ICDAR/ICDAR2019_cTDaR/training/TRACKB1/ground_truth\\\\cTDaR_t00543.xml',\n",
       " './ICDAR/ICDAR2019_cTDaR/training/TRACKB1/ground_truth\\\\cTDaR_t00544.xml',\n",
       " './ICDAR/ICDAR2019_cTDaR/training/TRACKB1/ground_truth\\\\cTDaR_t00545.xml',\n",
       " './ICDAR/ICDAR2019_cTDaR/training/TRACKB1/ground_truth\\\\cTDaR_t00546.xml',\n",
       " './ICDAR/ICDAR2019_cTDaR/training/TRACKB1/ground_truth\\\\cTDaR_t00547.xml',\n",
       " './ICDAR/ICDAR2019_cTDaR/training/TRACKB1/ground_truth\\\\cTDaR_t00548.xml',\n",
       " './ICDAR/ICDAR2019_cTDaR/training/TRACKB1/ground_truth\\\\cTDaR_t00549.xml',\n",
       " './ICDAR/ICDAR2019_cTDaR/training/TRACKB1/ground_truth\\\\cTDaR_t00550.xml',\n",
       " './ICDAR/ICDAR2019_cTDaR/training/TRACKB1/ground_truth\\\\cTDaR_t00551.xml',\n",
       " './ICDAR/ICDAR2019_cTDaR/training/TRACKB1/ground_truth\\\\cTDaR_t00552.xml',\n",
       " './ICDAR/ICDAR2019_cTDaR/training/TRACKB1/ground_truth\\\\cTDaR_t00553.xml',\n",
       " './ICDAR/ICDAR2019_cTDaR/training/TRACKB1/ground_truth\\\\cTDaR_t00554.xml',\n",
       " './ICDAR/ICDAR2019_cTDaR/training/TRACKB1/ground_truth\\\\cTDaR_t00555.xml',\n",
       " './ICDAR/ICDAR2019_cTDaR/training/TRACKB1/ground_truth\\\\cTDaR_t00556.xml',\n",
       " './ICDAR/ICDAR2019_cTDaR/training/TRACKB1/ground_truth\\\\cTDaR_t00557.xml',\n",
       " './ICDAR/ICDAR2019_cTDaR/training/TRACKB1/ground_truth\\\\cTDaR_t00558.xml',\n",
       " './ICDAR/ICDAR2019_cTDaR/training/TRACKB1/ground_truth\\\\cTDaR_t00559.xml',\n",
       " './ICDAR/ICDAR2019_cTDaR/training/TRACKB1/ground_truth\\\\cTDaR_t00560.xml',\n",
       " './ICDAR/ICDAR2019_cTDaR/training/TRACKB1/ground_truth\\\\cTDaR_t00561.xml',\n",
       " './ICDAR/ICDAR2019_cTDaR/training/TRACKB1/ground_truth\\\\cTDaR_t00562.xml',\n",
       " './ICDAR/ICDAR2019_cTDaR/training/TRACKB1/ground_truth\\\\cTDaR_t00563.xml',\n",
       " './ICDAR/ICDAR2019_cTDaR/training/TRACKB1/ground_truth\\\\cTDaR_t00564.xml',\n",
       " './ICDAR/ICDAR2019_cTDaR/training/TRACKB1/ground_truth\\\\cTDaR_t00565.xml',\n",
       " './ICDAR/ICDAR2019_cTDaR/training/TRACKB1/ground_truth\\\\cTDaR_t00566.xml',\n",
       " './ICDAR/ICDAR2019_cTDaR/training/TRACKB1/ground_truth\\\\cTDaR_t00567.xml',\n",
       " './ICDAR/ICDAR2019_cTDaR/training/TRACKB1/ground_truth\\\\cTDaR_t00568.xml',\n",
       " './ICDAR/ICDAR2019_cTDaR/training/TRACKB1/ground_truth\\\\cTDaR_t00569.xml',\n",
       " './ICDAR/ICDAR2019_cTDaR/training/TRACKB1/ground_truth\\\\cTDaR_t00570.xml',\n",
       " './ICDAR/ICDAR2019_cTDaR/training/TRACKB1/ground_truth\\\\cTDaR_t00571.xml',\n",
       " './ICDAR/ICDAR2019_cTDaR/training/TRACKB1/ground_truth\\\\cTDaR_t00572.xml',\n",
       " './ICDAR/ICDAR2019_cTDaR/training/TRACKB1/ground_truth\\\\cTDaR_t00573.xml',\n",
       " './ICDAR/ICDAR2019_cTDaR/training/TRACKB1/ground_truth\\\\cTDaR_t00574.xml',\n",
       " './ICDAR/ICDAR2019_cTDaR/training/TRACKB1/ground_truth\\\\cTDaR_t00575.xml',\n",
       " './ICDAR/ICDAR2019_cTDaR/training/TRACKB1/ground_truth\\\\cTDaR_t00576.xml',\n",
       " './ICDAR/ICDAR2019_cTDaR/training/TRACKB1/ground_truth\\\\cTDaR_t00577.xml',\n",
       " './ICDAR/ICDAR2019_cTDaR/training/TRACKB1/ground_truth\\\\cTDaR_t00578.xml',\n",
       " './ICDAR/ICDAR2019_cTDaR/training/TRACKB1/ground_truth\\\\cTDaR_t00579.xml',\n",
       " './ICDAR/ICDAR2019_cTDaR/training/TRACKB1/ground_truth\\\\cTDaR_t00580.xml',\n",
       " './ICDAR/ICDAR2019_cTDaR/training/TRACKB1/ground_truth\\\\cTDaR_t00581.xml',\n",
       " './ICDAR/ICDAR2019_cTDaR/training/TRACKB1/ground_truth\\\\cTDaR_t00582.xml',\n",
       " './ICDAR/ICDAR2019_cTDaR/training/TRACKB1/ground_truth\\\\cTDaR_t00583.xml',\n",
       " './ICDAR/ICDAR2019_cTDaR/training/TRACKB1/ground_truth\\\\cTDaR_t00584.xml',\n",
       " './ICDAR/ICDAR2019_cTDaR/training/TRACKB1/ground_truth\\\\cTDaR_t00585.xml',\n",
       " './ICDAR/ICDAR2019_cTDaR/training/TRACKB1/ground_truth\\\\cTDaR_t00586.xml',\n",
       " './ICDAR/ICDAR2019_cTDaR/training/TRACKB1/ground_truth\\\\cTDaR_t00587.xml',\n",
       " './ICDAR/ICDAR2019_cTDaR/training/TRACKB1/ground_truth\\\\cTDaR_t00588.xml',\n",
       " './ICDAR/ICDAR2019_cTDaR/training/TRACKB1/ground_truth\\\\cTDaR_t00589.xml',\n",
       " './ICDAR/ICDAR2019_cTDaR/training/TRACKB1/ground_truth\\\\cTDaR_t00590.xml',\n",
       " './ICDAR/ICDAR2019_cTDaR/training/TRACKB1/ground_truth\\\\cTDaR_t00591.xml',\n",
       " './ICDAR/ICDAR2019_cTDaR/training/TRACKB1/ground_truth\\\\cTDaR_t00592.xml',\n",
       " './ICDAR/ICDAR2019_cTDaR/training/TRACKB1/ground_truth\\\\cTDaR_t00593.xml',\n",
       " './ICDAR/ICDAR2019_cTDaR/training/TRACKB1/ground_truth\\\\cTDaR_t00594.xml',\n",
       " './ICDAR/ICDAR2019_cTDaR/training/TRACKB1/ground_truth\\\\cTDaR_t00595.xml',\n",
       " './ICDAR/ICDAR2019_cTDaR/training/TRACKB1/ground_truth\\\\cTDaR_t00596.xml',\n",
       " './ICDAR/ICDAR2019_cTDaR/training/TRACKB1/ground_truth\\\\cTDaR_t00597.xml',\n",
       " './ICDAR/ICDAR2019_cTDaR/training/TRACKB1/ground_truth\\\\cTDaR_t00598.xml',\n",
       " './ICDAR/ICDAR2019_cTDaR/training/TRACKB1/ground_truth\\\\cTDaR_t00599.xml',\n",
       " './ICDAR/ICDAR2019_cTDaR/training/TRACKB1/ground_truth\\\\cTDaR_t00600.xml',\n",
       " './ICDAR/ICDAR2019_cTDaR/training/TRACKB1/ground_truth\\\\cTDaR_t00601.xml',\n",
       " './ICDAR/ICDAR2019_cTDaR/training/TRACKB1/ground_truth\\\\cTDaR_t00602.xml',\n",
       " './ICDAR/ICDAR2019_cTDaR/training/TRACKB1/ground_truth\\\\cTDaR_t00603.xml',\n",
       " './ICDAR/ICDAR2019_cTDaR/training/TRACKB1/ground_truth\\\\cTDaR_t00604.xml',\n",
       " './ICDAR/ICDAR2019_cTDaR/training/TRACKB1/ground_truth\\\\cTDaR_t00605.xml',\n",
       " './ICDAR/ICDAR2019_cTDaR/training/TRACKB1/ground_truth\\\\cTDaR_t00606.xml',\n",
       " './ICDAR/ICDAR2019_cTDaR/training/TRACKB1/ground_truth\\\\cTDaR_t00607.xml',\n",
       " './ICDAR/ICDAR2019_cTDaR/training/TRACKB1/ground_truth\\\\cTDaR_t00608.xml',\n",
       " './ICDAR/ICDAR2019_cTDaR/training/TRACKB1/ground_truth\\\\cTDaR_t00609.xml',\n",
       " './ICDAR/ICDAR2019_cTDaR/training/TRACKB1/ground_truth\\\\cTDaR_t00610.xml',\n",
       " './ICDAR/ICDAR2019_cTDaR/training/TRACKB1/ground_truth\\\\cTDaR_t00611.xml',\n",
       " './ICDAR/ICDAR2019_cTDaR/training/TRACKB1/ground_truth\\\\cTDaR_t00612.xml',\n",
       " './ICDAR/ICDAR2019_cTDaR/training/TRACKB1/ground_truth\\\\cTDaR_t00613.xml',\n",
       " './ICDAR/ICDAR2019_cTDaR/training/TRACKB1/ground_truth\\\\cTDaR_t00614.xml',\n",
       " './ICDAR/ICDAR2019_cTDaR/training/TRACKB1/ground_truth\\\\cTDaR_t00615.xml',\n",
       " './ICDAR/ICDAR2019_cTDaR/training/TRACKB1/ground_truth\\\\cTDaR_t00616.xml',\n",
       " './ICDAR/ICDAR2019_cTDaR/training/TRACKB1/ground_truth\\\\cTDaR_t00617.xml',\n",
       " './ICDAR/ICDAR2019_cTDaR/training/TRACKB1/ground_truth\\\\cTDaR_t00618.xml',\n",
       " './ICDAR/ICDAR2019_cTDaR/training/TRACKB1/ground_truth\\\\cTDaR_t00619.xml',\n",
       " './ICDAR/ICDAR2019_cTDaR/training/TRACKB1/ground_truth\\\\cTDaR_t00620.xml',\n",
       " './ICDAR/ICDAR2019_cTDaR/training/TRACKB1/ground_truth\\\\cTDaR_t00641.xml',\n",
       " './ICDAR/ICDAR2019_cTDaR/training/TRACKB1/ground_truth\\\\cTDaR_t00642.xml',\n",
       " './ICDAR/ICDAR2019_cTDaR/training/TRACKB1/ground_truth\\\\cTDaR_t00643.xml',\n",
       " './ICDAR/ICDAR2019_cTDaR/training/TRACKB1/ground_truth\\\\cTDaR_t00644.xml',\n",
       " './ICDAR/ICDAR2019_cTDaR/training/TRACKB1/ground_truth\\\\cTDaR_t00645.xml',\n",
       " './ICDAR/ICDAR2019_cTDaR/training/TRACKB1/ground_truth\\\\cTDaR_t00646.xml',\n",
       " './ICDAR/ICDAR2019_cTDaR/training/TRACKB1/ground_truth\\\\cTDaR_t00647.xml',\n",
       " './ICDAR/ICDAR2019_cTDaR/training/TRACKB1/ground_truth\\\\cTDaR_t00650.xml',\n",
       " './ICDAR/ICDAR2019_cTDaR/training/TRACKB1/ground_truth\\\\cTDaR_t00651.xml',\n",
       " './ICDAR/ICDAR2019_cTDaR/training/TRACKB1/ground_truth\\\\cTDaR_t00652.xml',\n",
       " './ICDAR/ICDAR2019_cTDaR/training/TRACKB1/ground_truth\\\\cTDaR_t00653.xml',\n",
       " './ICDAR/ICDAR2019_cTDaR/training/TRACKB1/ground_truth\\\\cTDaR_t00654.xml',\n",
       " './ICDAR/ICDAR2019_cTDaR/training/TRACKB1/ground_truth\\\\cTDaR_t00655.xml',\n",
       " './ICDAR/ICDAR2019_cTDaR/training/TRACKB1/ground_truth\\\\cTDaR_t00656.xml',\n",
       " './ICDAR/ICDAR2019_cTDaR/training/TRACKB1/ground_truth\\\\cTDaR_t00657.xml',\n",
       " './ICDAR/ICDAR2019_cTDaR/training/TRACKB1/ground_truth\\\\cTDaR_t00658.xml',\n",
       " './ICDAR/ICDAR2019_cTDaR/training/TRACKB1/ground_truth\\\\cTDaR_t00662.xml',\n",
       " './ICDAR/ICDAR2019_cTDaR/training/TRACKB1/ground_truth\\\\cTDaR_t00663.xml',\n",
       " './ICDAR/ICDAR2019_cTDaR/training/TRACKB1/ground_truth\\\\cTDaR_t00664.xml',\n",
       " './ICDAR/ICDAR2019_cTDaR/training/TRACKB1/ground_truth\\\\cTDaR_t00665.xml',\n",
       " './ICDAR/ICDAR2019_cTDaR/training/TRACKB1/ground_truth\\\\cTDaR_t00666.xml',\n",
       " './ICDAR/ICDAR2019_cTDaR/training/TRACKB1/ground_truth\\\\cTDaR_t00667.xml',\n",
       " './ICDAR/ICDAR2019_cTDaR/training/TRACKB1/ground_truth\\\\cTDaR_t00668.xml',\n",
       " './ICDAR/ICDAR2019_cTDaR/training/TRACKB1/ground_truth\\\\cTDaR_t00669.xml',\n",
       " './ICDAR/ICDAR2019_cTDaR/training/TRACKB1/ground_truth\\\\cTDaR_t00670.xml',\n",
       " './ICDAR/ICDAR2019_cTDaR/training/TRACKB1/ground_truth\\\\cTDaR_t00671.xml',\n",
       " './ICDAR/ICDAR2019_cTDaR/training/TRACKB1/ground_truth\\\\cTDaR_t00672.xml',\n",
       " './ICDAR/ICDAR2019_cTDaR/training/TRACKB1/ground_truth\\\\cTDaR_t00673.xml',\n",
       " './ICDAR/ICDAR2019_cTDaR/training/TRACKB1/ground_truth\\\\cTDaR_t00674.xml',\n",
       " './ICDAR/ICDAR2019_cTDaR/training/TRACKB1/ground_truth\\\\cTDaR_t00675.xml',\n",
       " './ICDAR/ICDAR2019_cTDaR/training/TRACKB1/ground_truth\\\\cTDaR_t00676.xml',\n",
       " './ICDAR/ICDAR2019_cTDaR/training/TRACKB1/ground_truth\\\\cTDaR_t00677.xml',\n",
       " './ICDAR/ICDAR2019_cTDaR/training/TRACKB1/ground_truth\\\\cTDaR_t00678.xml',\n",
       " './ICDAR/ICDAR2019_cTDaR/training/TRACKB1/ground_truth\\\\cTDaR_t00679.xml',\n",
       " './ICDAR/ICDAR2019_cTDaR/training/TRACKB1/ground_truth\\\\cTDaR_t00708.xml',\n",
       " './ICDAR/ICDAR2019_cTDaR/training/TRACKB1/ground_truth\\\\cTDaR_t00709.xml',\n",
       " './ICDAR/ICDAR2019_cTDaR/training/TRACKB1/ground_truth\\\\cTDaR_t00710.xml',\n",
       " './ICDAR/ICDAR2019_cTDaR/training/TRACKB1/ground_truth\\\\cTDaR_t00711.xml',\n",
       " './ICDAR/ICDAR2019_cTDaR/training/TRACKB1/ground_truth\\\\cTDaR_t00712.xml',\n",
       " './ICDAR/ICDAR2019_cTDaR/training/TRACKB1/ground_truth\\\\cTDaR_t00713.xml',\n",
       " './ICDAR/ICDAR2019_cTDaR/training/TRACKB1/ground_truth\\\\cTDaR_t00714.xml',\n",
       " './ICDAR/ICDAR2019_cTDaR/training/TRACKB1/ground_truth\\\\cTDaR_t00715.xml',\n",
       " './ICDAR/ICDAR2019_cTDaR/training/TRACKB1/ground_truth\\\\cTDaR_t00716.xml',\n",
       " './ICDAR/ICDAR2019_cTDaR/training/TRACKB1/ground_truth\\\\cTDaR_t00717.xml',\n",
       " './ICDAR/ICDAR2019_cTDaR/training/TRACKB1/ground_truth\\\\cTDaR_t00718.xml',\n",
       " './ICDAR/ICDAR2019_cTDaR/training/TRACKB1/ground_truth\\\\cTDaR_t00719.xml',\n",
       " './ICDAR/ICDAR2019_cTDaR/training/TRACKB1/ground_truth\\\\cTDaR_t00760.xml',\n",
       " './ICDAR/ICDAR2019_cTDaR/training/TRACKB1/ground_truth\\\\cTDaR_t00761.xml',\n",
       " './ICDAR/ICDAR2019_cTDaR/training/TRACKB1/ground_truth\\\\cTDaR_t00762.xml',\n",
       " './ICDAR/ICDAR2019_cTDaR/training/TRACKB1/ground_truth\\\\cTDaR_t00763.xml',\n",
       " './ICDAR/ICDAR2019_cTDaR/training/TRACKB1/ground_truth\\\\cTDaR_t00764.xml',\n",
       " './ICDAR/ICDAR2019_cTDaR/training/TRACKB1/ground_truth\\\\cTDaR_t00765.xml',\n",
       " './ICDAR/ICDAR2019_cTDaR/training/TRACKB1/ground_truth\\\\cTDaR_t00766.xml',\n",
       " './ICDAR/ICDAR2019_cTDaR/training/TRACKB1/ground_truth\\\\cTDaR_t00767.xml',\n",
       " './ICDAR/ICDAR2019_cTDaR/training/TRACKB1/ground_truth\\\\cTDaR_t00768.xml',\n",
       " './ICDAR/ICDAR2019_cTDaR/training/TRACKB1/ground_truth\\\\cTDaR_t00769.xml',\n",
       " './ICDAR/ICDAR2019_cTDaR/training/TRACKB1/ground_truth\\\\cTDaR_t00770.xml',\n",
       " './ICDAR/ICDAR2019_cTDaR/training/TRACKB1/ground_truth\\\\cTDaR_t00771.xml',\n",
       " './ICDAR/ICDAR2019_cTDaR/training/TRACKB1/ground_truth\\\\cTDaR_t00772.xml',\n",
       " './ICDAR/ICDAR2019_cTDaR/training/TRACKB1/ground_truth\\\\cTDaR_t00799.xml',\n",
       " './ICDAR/ICDAR2019_cTDaR/training/TRACKB1/ground_truth\\\\cTDaR_t00800.xml',\n",
       " './ICDAR/ICDAR2019_cTDaR/training/TRACKB1/ground_truth\\\\cTDaR_t00801.xml',\n",
       " './ICDAR/ICDAR2019_cTDaR/training/TRACKB1/ground_truth\\\\cTDaR_t00802.xml',\n",
       " './ICDAR/ICDAR2019_cTDaR/training/TRACKB1/ground_truth\\\\cTDaR_t00803.xml',\n",
       " './ICDAR/ICDAR2019_cTDaR/training/TRACKB1/ground_truth\\\\cTDaR_t00804.xml',\n",
       " './ICDAR/ICDAR2019_cTDaR/training/TRACKB1/ground_truth\\\\cTDaR_t00805.xml',\n",
       " './ICDAR/ICDAR2019_cTDaR/training/TRACKB1/ground_truth\\\\cTDaR_t00806.xml',\n",
       " './ICDAR/ICDAR2019_cTDaR/training/TRACKB1/ground_truth\\\\cTDaR_t00807.xml',\n",
       " './ICDAR/ICDAR2019_cTDaR/training/TRACKB1/ground_truth\\\\cTDaR_t00808.xml',\n",
       " './ICDAR/ICDAR2019_cTDaR/training/TRACKB1/ground_truth\\\\cTDaR_t00809.xml',\n",
       " './ICDAR/ICDAR2019_cTDaR/training/TRACKB1/ground_truth\\\\cTDaR_t00815.xml',\n",
       " './ICDAR/ICDAR2019_cTDaR/training/TRACKB1/ground_truth\\\\cTDaR_t00816.xml',\n",
       " './ICDAR/ICDAR2019_cTDaR/training/TRACKB1/ground_truth\\\\cTDaR_t00817.xml',\n",
       " './ICDAR/ICDAR2019_cTDaR/training/TRACKB1/ground_truth\\\\cTDaR_t00818.xml',\n",
       " './ICDAR/ICDAR2019_cTDaR/training/TRACKB1/ground_truth\\\\cTDaR_t00819.xml',\n",
       " './ICDAR/ICDAR2019_cTDaR/training/TRACKB1/ground_truth\\\\cTDaR_t00820.xml',\n",
       " './ICDAR/ICDAR2019_cTDaR/training/TRACKB1/ground_truth\\\\cTDaR_t00821.xml',\n",
       " './ICDAR/ICDAR2019_cTDaR/training/TRACKB1/ground_truth\\\\cTDaR_t00822.xml',\n",
       " './ICDAR/ICDAR2019_cTDaR/training/TRACKB1/ground_truth\\\\cTDaR_t00823.xml',\n",
       " './ICDAR/ICDAR2019_cTDaR/training/TRACKB1/ground_truth\\\\cTDaR_t00824.xml',\n",
       " './ICDAR/ICDAR2019_cTDaR/training/TRACKB1/ground_truth\\\\cTDaR_t00825.xml',\n",
       " './ICDAR/ICDAR2019_cTDaR/training/TRACKB1/ground_truth\\\\cTDaR_t00826.xml',\n",
       " './ICDAR/ICDAR2019_cTDaR/training/TRACKB1/ground_truth\\\\cTDaR_t00827.xml',\n",
       " './ICDAR/ICDAR2019_cTDaR/training/TRACKB1/ground_truth\\\\cTDaR_t00841.xml',\n",
       " './ICDAR/ICDAR2019_cTDaR/training/TRACKB1/ground_truth\\\\cTDaR_t00842.xml',\n",
       " './ICDAR/ICDAR2019_cTDaR/training/TRACKB1/ground_truth\\\\cTDaR_t00843.xml',\n",
       " './ICDAR/ICDAR2019_cTDaR/training/TRACKB1/ground_truth\\\\cTDaR_t00844.xml',\n",
       " './ICDAR/ICDAR2019_cTDaR/training/TRACKB1/ground_truth\\\\cTDaR_t00845.xml',\n",
       " './ICDAR/ICDAR2019_cTDaR/training/TRACKB1/ground_truth\\\\cTDaR_t00846.xml',\n",
       " './ICDAR/ICDAR2019_cTDaR/training/TRACKB1/ground_truth\\\\cTDaR_t00851.xml',\n",
       " './ICDAR/ICDAR2019_cTDaR/training/TRACKB1/ground_truth\\\\cTDaR_t00852.xml',\n",
       " './ICDAR/ICDAR2019_cTDaR/training/TRACKB1/ground_truth\\\\cTDaR_t00853.xml',\n",
       " './ICDAR/ICDAR2019_cTDaR/training/TRACKB1/ground_truth\\\\cTDaR_t00854.xml',\n",
       " './ICDAR/ICDAR2019_cTDaR/training/TRACKB1/ground_truth\\\\cTDaR_t00855.xml',\n",
       " './ICDAR/ICDAR2019_cTDaR/training/TRACKB1/ground_truth\\\\cTDaR_t00856.xml',\n",
       " './ICDAR/ICDAR2019_cTDaR/training/TRACKB1/ground_truth\\\\cTDaR_t00857.xml',\n",
       " './ICDAR/ICDAR2019_cTDaR/training/TRACKB1/ground_truth\\\\cTDaR_t00860.xml',\n",
       " './ICDAR/ICDAR2019_cTDaR/training/TRACKB1/ground_truth\\\\cTDaR_t00861.xml',\n",
       " './ICDAR/ICDAR2019_cTDaR/training/TRACKB1/ground_truth\\\\cTDaR_t00862.xml',\n",
       " './ICDAR/ICDAR2019_cTDaR/training/TRACKB1/ground_truth\\\\cTDaR_t00863.xml',\n",
       " './ICDAR/ICDAR2019_cTDaR/training/TRACKB1/ground_truth\\\\cTDaR_t00864.xml',\n",
       " './ICDAR/ICDAR2019_cTDaR/training/TRACKB1/ground_truth\\\\cTDaR_t00865.xml',\n",
       " './ICDAR/ICDAR2019_cTDaR/training/TRACKB1/ground_truth\\\\cTDaR_t00866.xml',\n",
       " './ICDAR/ICDAR2019_cTDaR/training/TRACKB1/ground_truth\\\\cTDaR_t00867.xml',\n",
       " './ICDAR/ICDAR2019_cTDaR/training/TRACKB1/ground_truth\\\\cTDaR_t00868.xml',\n",
       " './ICDAR/ICDAR2019_cTDaR/training/TRACKB1/ground_truth\\\\cTDaR_t00869.xml',\n",
       " './ICDAR/ICDAR2019_cTDaR/training/TRACKB1/ground_truth\\\\cTDaR_t00870.xml',\n",
       " './ICDAR/ICDAR2019_cTDaR/training/TRACKB1/ground_truth\\\\cTDaR_t00871.xml',\n",
       " './ICDAR/ICDAR2019_cTDaR/training/TRACKB1/ground_truth\\\\cTDaR_t00872.xml',\n",
       " './ICDAR/ICDAR2019_cTDaR/training/TRACKB1/ground_truth\\\\cTDaR_t00873.xml',\n",
       " './ICDAR/ICDAR2019_cTDaR/training/TRACKB1/ground_truth\\\\cTDaR_t00874.xml',\n",
       " './ICDAR/ICDAR2019_cTDaR/training/TRACKB1/ground_truth\\\\cTDaR_t00875.xml',\n",
       " './ICDAR/ICDAR2019_cTDaR/training/TRACKB1/ground_truth\\\\cTDaR_t00876.xml',\n",
       " './ICDAR/ICDAR2019_cTDaR/training/TRACKB1/ground_truth\\\\cTDaR_t00877.xml',\n",
       " './ICDAR/ICDAR2019_cTDaR/training/TRACKB1/ground_truth\\\\cTDaR_t00878.xml',\n",
       " './ICDAR/ICDAR2019_cTDaR/training/TRACKB1/ground_truth\\\\cTDaR_t00879.xml',\n",
       " './ICDAR/ICDAR2019_cTDaR/training/TRACKB1/ground_truth\\\\cTDaR_t00880.xml',\n",
       " './ICDAR/ICDAR2019_cTDaR/training/TRACKB1/ground_truth\\\\cTDaR_t00881.xml',\n",
       " './ICDAR/ICDAR2019_cTDaR/training/TRACKB1/ground_truth\\\\cTDaR_t00882.xml',\n",
       " './ICDAR/ICDAR2019_cTDaR/training/TRACKB1/ground_truth\\\\cTDaR_t00883.xml',\n",
       " './ICDAR/ICDAR2019_cTDaR/training/TRACKB1/ground_truth\\\\cTDaR_t00884.xml',\n",
       " './ICDAR/ICDAR2019_cTDaR/training/TRACKB1/ground_truth\\\\cTDaR_t00885.xml',\n",
       " './ICDAR/ICDAR2019_cTDaR/training/TRACKB1/ground_truth\\\\cTDaR_t00886.xml',\n",
       " './ICDAR/ICDAR2019_cTDaR/training/TRACKB1/ground_truth\\\\cTDaR_t00887.xml',\n",
       " './ICDAR/ICDAR2019_cTDaR/training/TRACKB1/ground_truth\\\\cTDaR_t00888.xml',\n",
       " './ICDAR/ICDAR2019_cTDaR/training/TRACKB1/ground_truth\\\\cTDaR_t00889.xml',\n",
       " './ICDAR/ICDAR2019_cTDaR/training/TRACKB1/ground_truth\\\\cTDaR_t00890.xml',\n",
       " './ICDAR/ICDAR2019_cTDaR/training/TRACKB1/ground_truth\\\\cTDaR_t00891.xml',\n",
       " './ICDAR/ICDAR2019_cTDaR/training/TRACKB1/ground_truth\\\\cTDaR_t00892.xml',\n",
       " './ICDAR/ICDAR2019_cTDaR/training/TRACKB1/ground_truth\\\\cTDaR_t00893.xml',\n",
       " './ICDAR/ICDAR2019_cTDaR/training/TRACKB1/ground_truth\\\\cTDaR_t00894.xml',\n",
       " './ICDAR/ICDAR2019_cTDaR/training/TRACKB1/ground_truth\\\\cTDaR_t00895.xml',\n",
       " './ICDAR/ICDAR2019_cTDaR/training/TRACKB1/ground_truth\\\\cTDaR_t00896.xml',\n",
       " './ICDAR/ICDAR2019_cTDaR/training/TRACKB1/ground_truth\\\\cTDaR_t00897.xml',\n",
       " './ICDAR/ICDAR2019_cTDaR/training/TRACKB1/ground_truth\\\\cTDaR_t00898.xml',\n",
       " './ICDAR/ICDAR2019_cTDaR/training/TRACKB1/ground_truth\\\\cTDaR_t00899.xml',\n",
       " './ICDAR/ICDAR2019_cTDaR/training/TRACKB1/ground_truth\\\\cTDaR_t00900.xml',\n",
       " './ICDAR/ICDAR2019_cTDaR/training/TRACKB1/ground_truth\\\\cTDaR_t00901.xml',\n",
       " './ICDAR/ICDAR2019_cTDaR/training/TRACKB1/ground_truth\\\\cTDaR_t00902.xml',\n",
       " './ICDAR/ICDAR2019_cTDaR/training/TRACKB1/ground_truth\\\\cTDaR_t00903.xml',\n",
       " './ICDAR/ICDAR2019_cTDaR/training/TRACKB1/ground_truth\\\\cTDaR_t00904.xml',\n",
       " './ICDAR/ICDAR2019_cTDaR/training/TRACKB1/ground_truth\\\\cTDaR_t00905.xml',\n",
       " './ICDAR/ICDAR2019_cTDaR/training/TRACKB1/ground_truth\\\\cTDaR_t00906.xml',\n",
       " './ICDAR/ICDAR2019_cTDaR/training/TRACKB1/ground_truth\\\\cTDaR_t00907.xml',\n",
       " './ICDAR/ICDAR2019_cTDaR/training/TRACKB1/ground_truth\\\\cTDaR_t00908.xml',\n",
       " './ICDAR/ICDAR2019_cTDaR/training/TRACKB1/ground_truth\\\\cTDaR_t00909.xml',\n",
       " './ICDAR/ICDAR2019_cTDaR/training/TRACKB1/ground_truth\\\\cTDaR_t00910.xml',\n",
       " './ICDAR/ICDAR2019_cTDaR/training/TRACKB1/ground_truth\\\\cTDaR_t00911.xml',\n",
       " './ICDAR/ICDAR2019_cTDaR/training/TRACKB1/ground_truth\\\\cTDaR_t00912.xml',\n",
       " './ICDAR/ICDAR2019_cTDaR/training/TRACKB1/ground_truth\\\\cTDaR_t00913.xml',\n",
       " './ICDAR/ICDAR2019_cTDaR/training/TRACKB1/ground_truth\\\\cTDaR_t00914.xml',\n",
       " './ICDAR/ICDAR2019_cTDaR/training/TRACKB1/ground_truth\\\\cTDaR_t00915.xml',\n",
       " './ICDAR/ICDAR2019_cTDaR/training/TRACKB1/ground_truth\\\\cTDaR_t00916.xml',\n",
       " './ICDAR/ICDAR2019_cTDaR/training/TRACKB1/ground_truth\\\\cTDaR_t00917.xml',\n",
       " './ICDAR/ICDAR2019_cTDaR/training/TRACKB1/ground_truth\\\\cTDaR_t00918.xml',\n",
       " './ICDAR/ICDAR2019_cTDaR/training/TRACKB1/ground_truth\\\\cTDaR_t00919.xml',\n",
       " './ICDAR/ICDAR2019_cTDaR/training/TRACKB1/ground_truth\\\\cTDaR_t00920.xml',\n",
       " './ICDAR/ICDAR2019_cTDaR/training/TRACKB1/ground_truth\\\\cTDaR_t00921.xml',\n",
       " './ICDAR/ICDAR2019_cTDaR/training/TRACKB1/ground_truth\\\\cTDaR_t00922.xml',\n",
       " './ICDAR/ICDAR2019_cTDaR/training/TRACKB1/ground_truth\\\\cTDaR_t00923.xml',\n",
       " './ICDAR/ICDAR2019_cTDaR/training/TRACKB1/ground_truth\\\\cTDaR_t00924.xml',\n",
       " './ICDAR/ICDAR2019_cTDaR/training/TRACKB1/ground_truth\\\\cTDaR_t00925.xml',\n",
       " './ICDAR/ICDAR2019_cTDaR/training/TRACKB1/ground_truth\\\\cTDaR_t00926.xml',\n",
       " './ICDAR/ICDAR2019_cTDaR/training/TRACKB1/ground_truth\\\\cTDaR_t00927.xml',\n",
       " './ICDAR/ICDAR2019_cTDaR/training/TRACKB1/ground_truth\\\\cTDaR_t00928.xml',\n",
       " './ICDAR/ICDAR2019_cTDaR/training/TRACKB1/ground_truth\\\\cTDaR_t00929.xml',\n",
       " './ICDAR/ICDAR2019_cTDaR/training/TRACKB1/ground_truth\\\\cTDaR_t00930.xml']"
      ]
     },
     "execution_count": 14,
     "metadata": {},
     "output_type": "execute_result"
    }
   ],
   "source": [
    "xmls"
   ]
  },
  {
   "cell_type": "code",
   "execution_count": 15,
   "metadata": {},
   "outputs": [
    {
     "data": {
      "text/plain": [
       "['./ICDAR/ICDAR2019_cTDaR/training/TRACKB1/ground_truth\\\\cTDaR_t00000.jpg',\n",
       " './ICDAR/ICDAR2019_cTDaR/training/TRACKB1/ground_truth\\\\cTDaR_t00001.jpg',\n",
       " './ICDAR/ICDAR2019_cTDaR/training/TRACKB1/ground_truth\\\\cTDaR_t00002.jpg',\n",
       " './ICDAR/ICDAR2019_cTDaR/training/TRACKB1/ground_truth\\\\cTDaR_t00003.jpg',\n",
       " './ICDAR/ICDAR2019_cTDaR/training/TRACKB1/ground_truth\\\\cTDaR_t00004.jpg',\n",
       " './ICDAR/ICDAR2019_cTDaR/training/TRACKB1/ground_truth\\\\cTDaR_t00005.jpg',\n",
       " './ICDAR/ICDAR2019_cTDaR/training/TRACKB1/ground_truth\\\\cTDaR_t00006.jpg',\n",
       " './ICDAR/ICDAR2019_cTDaR/training/TRACKB1/ground_truth\\\\cTDaR_t00007.jpg',\n",
       " './ICDAR/ICDAR2019_cTDaR/training/TRACKB1/ground_truth\\\\cTDaR_t00008.jpg',\n",
       " './ICDAR/ICDAR2019_cTDaR/training/TRACKB1/ground_truth\\\\cTDaR_t00009.jpg',\n",
       " './ICDAR/ICDAR2019_cTDaR/training/TRACKB1/ground_truth\\\\cTDaR_t00010.jpg',\n",
       " './ICDAR/ICDAR2019_cTDaR/training/TRACKB1/ground_truth\\\\cTDaR_t00018.jpg',\n",
       " './ICDAR/ICDAR2019_cTDaR/training/TRACKB1/ground_truth\\\\cTDaR_t00019.jpg',\n",
       " './ICDAR/ICDAR2019_cTDaR/training/TRACKB1/ground_truth\\\\cTDaR_t00020.jpg',\n",
       " './ICDAR/ICDAR2019_cTDaR/training/TRACKB1/ground_truth\\\\cTDaR_t00021.jpg',\n",
       " './ICDAR/ICDAR2019_cTDaR/training/TRACKB1/ground_truth\\\\cTDaR_t00022.jpg',\n",
       " './ICDAR/ICDAR2019_cTDaR/training/TRACKB1/ground_truth\\\\cTDaR_t00023.jpg',\n",
       " './ICDAR/ICDAR2019_cTDaR/training/TRACKB1/ground_truth\\\\cTDaR_t00024.jpg',\n",
       " './ICDAR/ICDAR2019_cTDaR/training/TRACKB1/ground_truth\\\\cTDaR_t00025.jpg',\n",
       " './ICDAR/ICDAR2019_cTDaR/training/TRACKB1/ground_truth\\\\cTDaR_t00026.jpg',\n",
       " './ICDAR/ICDAR2019_cTDaR/training/TRACKB1/ground_truth\\\\cTDaR_t00027.jpg',\n",
       " './ICDAR/ICDAR2019_cTDaR/training/TRACKB1/ground_truth\\\\cTDaR_t00028.jpg',\n",
       " './ICDAR/ICDAR2019_cTDaR/training/TRACKB1/ground_truth\\\\cTDaR_t00029.jpg',\n",
       " './ICDAR/ICDAR2019_cTDaR/training/TRACKB1/ground_truth\\\\cTDaR_t00030.jpg',\n",
       " './ICDAR/ICDAR2019_cTDaR/training/TRACKB1/ground_truth\\\\cTDaR_t00031.jpg',\n",
       " './ICDAR/ICDAR2019_cTDaR/training/TRACKB1/ground_truth\\\\cTDaR_t00032.jpg',\n",
       " './ICDAR/ICDAR2019_cTDaR/training/TRACKB1/ground_truth\\\\cTDaR_t00033.jpg',\n",
       " './ICDAR/ICDAR2019_cTDaR/training/TRACKB1/ground_truth\\\\cTDaR_t00034.jpg',\n",
       " './ICDAR/ICDAR2019_cTDaR/training/TRACKB1/ground_truth\\\\cTDaR_t00035.jpg',\n",
       " './ICDAR/ICDAR2019_cTDaR/training/TRACKB1/ground_truth\\\\cTDaR_t00036.jpg',\n",
       " './ICDAR/ICDAR2019_cTDaR/training/TRACKB1/ground_truth\\\\cTDaR_t00037.jpg',\n",
       " './ICDAR/ICDAR2019_cTDaR/training/TRACKB1/ground_truth\\\\cTDaR_t00038.jpg',\n",
       " './ICDAR/ICDAR2019_cTDaR/training/TRACKB1/ground_truth\\\\cTDaR_t00039.jpg',\n",
       " './ICDAR/ICDAR2019_cTDaR/training/TRACKB1/ground_truth\\\\cTDaR_t00040.jpg',\n",
       " './ICDAR/ICDAR2019_cTDaR/training/TRACKB1/ground_truth\\\\cTDaR_t00041.jpg',\n",
       " './ICDAR/ICDAR2019_cTDaR/training/TRACKB1/ground_truth\\\\cTDaR_t00042.jpg',\n",
       " './ICDAR/ICDAR2019_cTDaR/training/TRACKB1/ground_truth\\\\cTDaR_t00043.jpg',\n",
       " './ICDAR/ICDAR2019_cTDaR/training/TRACKB1/ground_truth\\\\cTDaR_t00044.jpg',\n",
       " './ICDAR/ICDAR2019_cTDaR/training/TRACKB1/ground_truth\\\\cTDaR_t00045.jpg',\n",
       " './ICDAR/ICDAR2019_cTDaR/training/TRACKB1/ground_truth\\\\cTDaR_t00046.jpg',\n",
       " './ICDAR/ICDAR2019_cTDaR/training/TRACKB1/ground_truth\\\\cTDaR_t00047.jpg',\n",
       " './ICDAR/ICDAR2019_cTDaR/training/TRACKB1/ground_truth\\\\cTDaR_t00048.jpg',\n",
       " './ICDAR/ICDAR2019_cTDaR/training/TRACKB1/ground_truth\\\\cTDaR_t00049.jpg',\n",
       " './ICDAR/ICDAR2019_cTDaR/training/TRACKB1/ground_truth\\\\cTDaR_t00050.jpg',\n",
       " './ICDAR/ICDAR2019_cTDaR/training/TRACKB1/ground_truth\\\\cTDaR_t00051.jpg',\n",
       " './ICDAR/ICDAR2019_cTDaR/training/TRACKB1/ground_truth\\\\cTDaR_t00052.jpg',\n",
       " './ICDAR/ICDAR2019_cTDaR/training/TRACKB1/ground_truth\\\\cTDaR_t00053.jpg',\n",
       " './ICDAR/ICDAR2019_cTDaR/training/TRACKB1/ground_truth\\\\cTDaR_t00054.jpg',\n",
       " './ICDAR/ICDAR2019_cTDaR/training/TRACKB1/ground_truth\\\\cTDaR_t00055.jpg',\n",
       " './ICDAR/ICDAR2019_cTDaR/training/TRACKB1/ground_truth\\\\cTDaR_t00056.jpg',\n",
       " './ICDAR/ICDAR2019_cTDaR/training/TRACKB1/ground_truth\\\\cTDaR_t00057.jpg',\n",
       " './ICDAR/ICDAR2019_cTDaR/training/TRACKB1/ground_truth\\\\cTDaR_t00058.jpg',\n",
       " './ICDAR/ICDAR2019_cTDaR/training/TRACKB1/ground_truth\\\\cTDaR_t00059.jpg',\n",
       " './ICDAR/ICDAR2019_cTDaR/training/TRACKB1/ground_truth\\\\cTDaR_t00060.jpg',\n",
       " './ICDAR/ICDAR2019_cTDaR/training/TRACKB1/ground_truth\\\\cTDaR_t00061.jpg',\n",
       " './ICDAR/ICDAR2019_cTDaR/training/TRACKB1/ground_truth\\\\cTDaR_t00062.jpg',\n",
       " './ICDAR/ICDAR2019_cTDaR/training/TRACKB1/ground_truth\\\\cTDaR_t00063.jpg',\n",
       " './ICDAR/ICDAR2019_cTDaR/training/TRACKB1/ground_truth\\\\cTDaR_t00064.jpg',\n",
       " './ICDAR/ICDAR2019_cTDaR/training/TRACKB1/ground_truth\\\\cTDaR_t00065.jpg',\n",
       " './ICDAR/ICDAR2019_cTDaR/training/TRACKB1/ground_truth\\\\cTDaR_t00066.jpg',\n",
       " './ICDAR/ICDAR2019_cTDaR/training/TRACKB1/ground_truth\\\\cTDaR_t00067.jpg',\n",
       " './ICDAR/ICDAR2019_cTDaR/training/TRACKB1/ground_truth\\\\cTDaR_t00068.jpg',\n",
       " './ICDAR/ICDAR2019_cTDaR/training/TRACKB1/ground_truth\\\\cTDaR_t00069.jpg',\n",
       " './ICDAR/ICDAR2019_cTDaR/training/TRACKB1/ground_truth\\\\cTDaR_t00070.jpg',\n",
       " './ICDAR/ICDAR2019_cTDaR/training/TRACKB1/ground_truth\\\\cTDaR_t00091.jpg',\n",
       " './ICDAR/ICDAR2019_cTDaR/training/TRACKB1/ground_truth\\\\cTDaR_t00092.jpg',\n",
       " './ICDAR/ICDAR2019_cTDaR/training/TRACKB1/ground_truth\\\\cTDaR_t00093.jpg',\n",
       " './ICDAR/ICDAR2019_cTDaR/training/TRACKB1/ground_truth\\\\cTDaR_t00094.jpg',\n",
       " './ICDAR/ICDAR2019_cTDaR/training/TRACKB1/ground_truth\\\\cTDaR_t00095.jpg',\n",
       " './ICDAR/ICDAR2019_cTDaR/training/TRACKB1/ground_truth\\\\cTDaR_t00096.jpg',\n",
       " './ICDAR/ICDAR2019_cTDaR/training/TRACKB1/ground_truth\\\\cTDaR_t00097.jpg',\n",
       " './ICDAR/ICDAR2019_cTDaR/training/TRACKB1/ground_truth\\\\cTDaR_t00098.jpg',\n",
       " './ICDAR/ICDAR2019_cTDaR/training/TRACKB1/ground_truth\\\\cTDaR_t00099.jpg',\n",
       " './ICDAR/ICDAR2019_cTDaR/training/TRACKB1/ground_truth\\\\cTDaR_t00100.jpg',\n",
       " './ICDAR/ICDAR2019_cTDaR/training/TRACKB1/ground_truth\\\\cTDaR_t00101.jpg',\n",
       " './ICDAR/ICDAR2019_cTDaR/training/TRACKB1/ground_truth\\\\cTDaR_t00116.jpg',\n",
       " './ICDAR/ICDAR2019_cTDaR/training/TRACKB1/ground_truth\\\\cTDaR_t00117.jpg',\n",
       " './ICDAR/ICDAR2019_cTDaR/training/TRACKB1/ground_truth\\\\cTDaR_t00118.jpg',\n",
       " './ICDAR/ICDAR2019_cTDaR/training/TRACKB1/ground_truth\\\\cTDaR_t00119.jpg',\n",
       " './ICDAR/ICDAR2019_cTDaR/training/TRACKB1/ground_truth\\\\cTDaR_t00120.jpg',\n",
       " './ICDAR/ICDAR2019_cTDaR/training/TRACKB1/ground_truth\\\\cTDaR_t00121.jpg',\n",
       " './ICDAR/ICDAR2019_cTDaR/training/TRACKB1/ground_truth\\\\cTDaR_t00122.jpg',\n",
       " './ICDAR/ICDAR2019_cTDaR/training/TRACKB1/ground_truth\\\\cTDaR_t00125.jpg',\n",
       " './ICDAR/ICDAR2019_cTDaR/training/TRACKB1/ground_truth\\\\cTDaR_t00126.jpg',\n",
       " './ICDAR/ICDAR2019_cTDaR/training/TRACKB1/ground_truth\\\\cTDaR_t00127.jpg',\n",
       " './ICDAR/ICDAR2019_cTDaR/training/TRACKB1/ground_truth\\\\cTDaR_t00128.jpg',\n",
       " './ICDAR/ICDAR2019_cTDaR/training/TRACKB1/ground_truth\\\\cTDaR_t00129.jpg',\n",
       " './ICDAR/ICDAR2019_cTDaR/training/TRACKB1/ground_truth\\\\cTDaR_t00130.jpg',\n",
       " './ICDAR/ICDAR2019_cTDaR/training/TRACKB1/ground_truth\\\\cTDaR_t00131.jpg',\n",
       " './ICDAR/ICDAR2019_cTDaR/training/TRACKB1/ground_truth\\\\cTDaR_t00132.jpg',\n",
       " './ICDAR/ICDAR2019_cTDaR/training/TRACKB1/ground_truth\\\\cTDaR_t00133.jpg',\n",
       " './ICDAR/ICDAR2019_cTDaR/training/TRACKB1/ground_truth\\\\cTDaR_t00134.jpg',\n",
       " './ICDAR/ICDAR2019_cTDaR/training/TRACKB1/ground_truth\\\\cTDaR_t00135.jpg',\n",
       " './ICDAR/ICDAR2019_cTDaR/training/TRACKB1/ground_truth\\\\cTDaR_t00136.jpg',\n",
       " './ICDAR/ICDAR2019_cTDaR/training/TRACKB1/ground_truth\\\\cTDaR_t00137.jpg',\n",
       " './ICDAR/ICDAR2019_cTDaR/training/TRACKB1/ground_truth\\\\cTDaR_t00138.jpg',\n",
       " './ICDAR/ICDAR2019_cTDaR/training/TRACKB1/ground_truth\\\\cTDaR_t00139.jpg',\n",
       " './ICDAR/ICDAR2019_cTDaR/training/TRACKB1/ground_truth\\\\cTDaR_t00140.jpg',\n",
       " './ICDAR/ICDAR2019_cTDaR/training/TRACKB1/ground_truth\\\\cTDaR_t00141.jpg',\n",
       " './ICDAR/ICDAR2019_cTDaR/training/TRACKB1/ground_truth\\\\cTDaR_t00142.jpg',\n",
       " './ICDAR/ICDAR2019_cTDaR/training/TRACKB1/ground_truth\\\\cTDaR_t00143.jpg',\n",
       " './ICDAR/ICDAR2019_cTDaR/training/TRACKB1/ground_truth\\\\cTDaR_t00144.jpg',\n",
       " './ICDAR/ICDAR2019_cTDaR/training/TRACKB1/ground_truth\\\\cTDaR_t00145.jpg',\n",
       " './ICDAR/ICDAR2019_cTDaR/training/TRACKB1/ground_truth\\\\cTDaR_t00167.jpg',\n",
       " './ICDAR/ICDAR2019_cTDaR/training/TRACKB1/ground_truth\\\\cTDaR_t00168.jpg',\n",
       " './ICDAR/ICDAR2019_cTDaR/training/TRACKB1/ground_truth\\\\cTDaR_t00169.jpg',\n",
       " './ICDAR/ICDAR2019_cTDaR/training/TRACKB1/ground_truth\\\\cTDaR_t00170.jpg',\n",
       " './ICDAR/ICDAR2019_cTDaR/training/TRACKB1/ground_truth\\\\cTDaR_t00171.jpg',\n",
       " './ICDAR/ICDAR2019_cTDaR/training/TRACKB1/ground_truth\\\\cTDaR_t00172.jpg',\n",
       " './ICDAR/ICDAR2019_cTDaR/training/TRACKB1/ground_truth\\\\cTDaR_t00173.jpg',\n",
       " './ICDAR/ICDAR2019_cTDaR/training/TRACKB1/ground_truth\\\\cTDaR_t00174.jpg',\n",
       " './ICDAR/ICDAR2019_cTDaR/training/TRACKB1/ground_truth\\\\cTDaR_t00177.jpg',\n",
       " './ICDAR/ICDAR2019_cTDaR/training/TRACKB1/ground_truth\\\\cTDaR_t00178.jpg',\n",
       " './ICDAR/ICDAR2019_cTDaR/training/TRACKB1/ground_truth\\\\cTDaR_t00179.jpg',\n",
       " './ICDAR/ICDAR2019_cTDaR/training/TRACKB1/ground_truth\\\\cTDaR_t00180.jpg',\n",
       " './ICDAR/ICDAR2019_cTDaR/training/TRACKB1/ground_truth\\\\cTDaR_t00181.jpg',\n",
       " './ICDAR/ICDAR2019_cTDaR/training/TRACKB1/ground_truth\\\\cTDaR_t00182.jpg',\n",
       " './ICDAR/ICDAR2019_cTDaR/training/TRACKB1/ground_truth\\\\cTDaR_t00183.jpg',\n",
       " './ICDAR/ICDAR2019_cTDaR/training/TRACKB1/ground_truth\\\\cTDaR_t00184.jpg',\n",
       " './ICDAR/ICDAR2019_cTDaR/training/TRACKB1/ground_truth\\\\cTDaR_t00185.jpg',\n",
       " './ICDAR/ICDAR2019_cTDaR/training/TRACKB1/ground_truth\\\\cTDaR_t00186.jpg',\n",
       " './ICDAR/ICDAR2019_cTDaR/training/TRACKB1/ground_truth\\\\cTDaR_t00187.jpg',\n",
       " './ICDAR/ICDAR2019_cTDaR/training/TRACKB1/ground_truth\\\\cTDaR_t00188.jpg',\n",
       " './ICDAR/ICDAR2019_cTDaR/training/TRACKB1/ground_truth\\\\cTDaR_t00189.jpg',\n",
       " './ICDAR/ICDAR2019_cTDaR/training/TRACKB1/ground_truth\\\\cTDaR_t00190.jpg',\n",
       " './ICDAR/ICDAR2019_cTDaR/training/TRACKB1/ground_truth\\\\cTDaR_t00191.jpg',\n",
       " './ICDAR/ICDAR2019_cTDaR/training/TRACKB1/ground_truth\\\\cTDaR_t00192.jpg',\n",
       " './ICDAR/ICDAR2019_cTDaR/training/TRACKB1/ground_truth\\\\cTDaR_t00198.jpg',\n",
       " './ICDAR/ICDAR2019_cTDaR/training/TRACKB1/ground_truth\\\\cTDaR_t00199.JPG',\n",
       " './ICDAR/ICDAR2019_cTDaR/training/TRACKB1/ground_truth\\\\cTDaR_t00200.JPG',\n",
       " './ICDAR/ICDAR2019_cTDaR/training/TRACKB1/ground_truth\\\\cTDaR_t00201.JPG',\n",
       " './ICDAR/ICDAR2019_cTDaR/training/TRACKB1/ground_truth\\\\cTDaR_t00202.JPG',\n",
       " './ICDAR/ICDAR2019_cTDaR/training/TRACKB1/ground_truth\\\\cTDaR_t00203.JPG',\n",
       " './ICDAR/ICDAR2019_cTDaR/training/TRACKB1/ground_truth\\\\cTDaR_t00204.JPG',\n",
       " './ICDAR/ICDAR2019_cTDaR/training/TRACKB1/ground_truth\\\\cTDaR_t00205.JPG',\n",
       " './ICDAR/ICDAR2019_cTDaR/training/TRACKB1/ground_truth\\\\cTDaR_t00206.JPG',\n",
       " './ICDAR/ICDAR2019_cTDaR/training/TRACKB1/ground_truth\\\\cTDaR_t00207.JPG',\n",
       " './ICDAR/ICDAR2019_cTDaR/training/TRACKB1/ground_truth\\\\cTDaR_t00208.JPG',\n",
       " './ICDAR/ICDAR2019_cTDaR/training/TRACKB1/ground_truth\\\\cTDaR_t00209.JPG',\n",
       " './ICDAR/ICDAR2019_cTDaR/training/TRACKB1/ground_truth\\\\cTDaR_t00228.jpg',\n",
       " './ICDAR/ICDAR2019_cTDaR/training/TRACKB1/ground_truth\\\\cTDaR_t00229.jpg',\n",
       " './ICDAR/ICDAR2019_cTDaR/training/TRACKB1/ground_truth\\\\cTDaR_t00230.jpg',\n",
       " './ICDAR/ICDAR2019_cTDaR/training/TRACKB1/ground_truth\\\\cTDaR_t00231.jpg',\n",
       " './ICDAR/ICDAR2019_cTDaR/training/TRACKB1/ground_truth\\\\cTDaR_t00232.jpg',\n",
       " './ICDAR/ICDAR2019_cTDaR/training/TRACKB1/ground_truth\\\\cTDaR_t00233.jpg',\n",
       " './ICDAR/ICDAR2019_cTDaR/training/TRACKB1/ground_truth\\\\cTDaR_t00234.jpg',\n",
       " './ICDAR/ICDAR2019_cTDaR/training/TRACKB1/ground_truth\\\\cTDaR_t00235.jpg',\n",
       " './ICDAR/ICDAR2019_cTDaR/training/TRACKB1/ground_truth\\\\cTDaR_t00236.jpg',\n",
       " './ICDAR/ICDAR2019_cTDaR/training/TRACKB1/ground_truth\\\\cTDaR_t00237.jpg',\n",
       " './ICDAR/ICDAR2019_cTDaR/training/TRACKB1/ground_truth\\\\cTDaR_t00238.jpg',\n",
       " './ICDAR/ICDAR2019_cTDaR/training/TRACKB1/ground_truth\\\\cTDaR_t00239.jpg',\n",
       " './ICDAR/ICDAR2019_cTDaR/training/TRACKB1/ground_truth\\\\cTDaR_t00240.jpg',\n",
       " './ICDAR/ICDAR2019_cTDaR/training/TRACKB1/ground_truth\\\\cTDaR_t00241.jpg',\n",
       " './ICDAR/ICDAR2019_cTDaR/training/TRACKB1/ground_truth\\\\cTDaR_t00242.jpg',\n",
       " './ICDAR/ICDAR2019_cTDaR/training/TRACKB1/ground_truth\\\\cTDaR_t00243.jpg',\n",
       " './ICDAR/ICDAR2019_cTDaR/training/TRACKB1/ground_truth\\\\cTDaR_t00244.jpg',\n",
       " './ICDAR/ICDAR2019_cTDaR/training/TRACKB1/ground_truth\\\\cTDaR_t00245.jpg',\n",
       " './ICDAR/ICDAR2019_cTDaR/training/TRACKB1/ground_truth\\\\cTDaR_t00246.jpg',\n",
       " './ICDAR/ICDAR2019_cTDaR/training/TRACKB1/ground_truth\\\\cTDaR_t00247.jpg',\n",
       " './ICDAR/ICDAR2019_cTDaR/training/TRACKB1/ground_truth\\\\cTDaR_t00254.jpg',\n",
       " './ICDAR/ICDAR2019_cTDaR/training/TRACKB1/ground_truth\\\\cTDaR_t00255.jpg',\n",
       " './ICDAR/ICDAR2019_cTDaR/training/TRACKB1/ground_truth\\\\cTDaR_t00256.jpg',\n",
       " './ICDAR/ICDAR2019_cTDaR/training/TRACKB1/ground_truth\\\\cTDaR_t00257.jpg',\n",
       " './ICDAR/ICDAR2019_cTDaR/training/TRACKB1/ground_truth\\\\cTDaR_t00258.jpg',\n",
       " './ICDAR/ICDAR2019_cTDaR/training/TRACKB1/ground_truth\\\\cTDaR_t00259.jpg',\n",
       " './ICDAR/ICDAR2019_cTDaR/training/TRACKB1/ground_truth\\\\cTDaR_t00260.jpg',\n",
       " './ICDAR/ICDAR2019_cTDaR/training/TRACKB1/ground_truth\\\\cTDaR_t00261.jpg',\n",
       " './ICDAR/ICDAR2019_cTDaR/training/TRACKB1/ground_truth\\\\cTDaR_t00262.jpg',\n",
       " './ICDAR/ICDAR2019_cTDaR/training/TRACKB1/ground_truth\\\\cTDaR_t00263.jpg',\n",
       " './ICDAR/ICDAR2019_cTDaR/training/TRACKB1/ground_truth\\\\cTDaR_t00264.jpg',\n",
       " './ICDAR/ICDAR2019_cTDaR/training/TRACKB1/ground_truth\\\\cTDaR_t00265.jpg',\n",
       " './ICDAR/ICDAR2019_cTDaR/training/TRACKB1/ground_truth\\\\cTDaR_t00266.jpg',\n",
       " './ICDAR/ICDAR2019_cTDaR/training/TRACKB1/ground_truth\\\\cTDaR_t00267.jpg',\n",
       " './ICDAR/ICDAR2019_cTDaR/training/TRACKB1/ground_truth\\\\cTDaR_t00268.jpg',\n",
       " './ICDAR/ICDAR2019_cTDaR/training/TRACKB1/ground_truth\\\\cTDaR_t00269.jpg',\n",
       " './ICDAR/ICDAR2019_cTDaR/training/TRACKB1/ground_truth\\\\cTDaR_t00270.jpg',\n",
       " './ICDAR/ICDAR2019_cTDaR/training/TRACKB1/ground_truth\\\\cTDaR_t00271.jpg',\n",
       " './ICDAR/ICDAR2019_cTDaR/training/TRACKB1/ground_truth\\\\cTDaR_t00272.jpg',\n",
       " './ICDAR/ICDAR2019_cTDaR/training/TRACKB1/ground_truth\\\\cTDaR_t00273.jpg',\n",
       " './ICDAR/ICDAR2019_cTDaR/training/TRACKB1/ground_truth\\\\cTDaR_t00274.jpg',\n",
       " './ICDAR/ICDAR2019_cTDaR/training/TRACKB1/ground_truth\\\\cTDaR_t00275.jpg',\n",
       " './ICDAR/ICDAR2019_cTDaR/training/TRACKB1/ground_truth\\\\cTDaR_t00276.jpg',\n",
       " './ICDAR/ICDAR2019_cTDaR/training/TRACKB1/ground_truth\\\\cTDaR_t00277.jpg',\n",
       " './ICDAR/ICDAR2019_cTDaR/training/TRACKB1/ground_truth\\\\cTDaR_t00278.jpg',\n",
       " './ICDAR/ICDAR2019_cTDaR/training/TRACKB1/ground_truth\\\\cTDaR_t00279.jpg',\n",
       " './ICDAR/ICDAR2019_cTDaR/training/TRACKB1/ground_truth\\\\cTDaR_t00280.jpg',\n",
       " './ICDAR/ICDAR2019_cTDaR/training/TRACKB1/ground_truth\\\\cTDaR_t00281.jpg',\n",
       " './ICDAR/ICDAR2019_cTDaR/training/TRACKB1/ground_truth\\\\cTDaR_t00282.jpg',\n",
       " './ICDAR/ICDAR2019_cTDaR/training/TRACKB1/ground_truth\\\\cTDaR_t00283.jpg',\n",
       " './ICDAR/ICDAR2019_cTDaR/training/TRACKB1/ground_truth\\\\cTDaR_t00284.jpg',\n",
       " './ICDAR/ICDAR2019_cTDaR/training/TRACKB1/ground_truth\\\\cTDaR_t00304.jpg',\n",
       " './ICDAR/ICDAR2019_cTDaR/training/TRACKB1/ground_truth\\\\cTDaR_t00305.jpg',\n",
       " './ICDAR/ICDAR2019_cTDaR/training/TRACKB1/ground_truth\\\\cTDaR_t00306.jpg',\n",
       " './ICDAR/ICDAR2019_cTDaR/training/TRACKB1/ground_truth\\\\cTDaR_t00307.jpg',\n",
       " './ICDAR/ICDAR2019_cTDaR/training/TRACKB1/ground_truth\\\\cTDaR_t00308.jpg',\n",
       " './ICDAR/ICDAR2019_cTDaR/training/TRACKB1/ground_truth\\\\cTDaR_t00309.jpg',\n",
       " './ICDAR/ICDAR2019_cTDaR/training/TRACKB1/ground_truth\\\\cTDaR_t00310.jpg',\n",
       " './ICDAR/ICDAR2019_cTDaR/training/TRACKB1/ground_truth\\\\cTDaR_t00311.jpg',\n",
       " './ICDAR/ICDAR2019_cTDaR/training/TRACKB1/ground_truth\\\\cTDaR_t00312.jpg',\n",
       " './ICDAR/ICDAR2019_cTDaR/training/TRACKB1/ground_truth\\\\cTDaR_t00313.jpg',\n",
       " './ICDAR/ICDAR2019_cTDaR/training/TRACKB1/ground_truth\\\\cTDaR_t00314.jpg',\n",
       " './ICDAR/ICDAR2019_cTDaR/training/TRACKB1/ground_truth\\\\cTDaR_t00315.jpg',\n",
       " './ICDAR/ICDAR2019_cTDaR/training/TRACKB1/ground_truth\\\\cTDaR_t00316.jpg',\n",
       " './ICDAR/ICDAR2019_cTDaR/training/TRACKB1/ground_truth\\\\cTDaR_t00317.jpg',\n",
       " './ICDAR/ICDAR2019_cTDaR/training/TRACKB1/ground_truth\\\\cTDaR_t00318.jpg',\n",
       " './ICDAR/ICDAR2019_cTDaR/training/TRACKB1/ground_truth\\\\cTDaR_t00319.jpg',\n",
       " './ICDAR/ICDAR2019_cTDaR/training/TRACKB1/ground_truth\\\\cTDaR_t00320.jpg',\n",
       " './ICDAR/ICDAR2019_cTDaR/training/TRACKB1/ground_truth\\\\cTDaR_t00321.jpg',\n",
       " './ICDAR/ICDAR2019_cTDaR/training/TRACKB1/ground_truth\\\\cTDaR_t00343.jpg',\n",
       " './ICDAR/ICDAR2019_cTDaR/training/TRACKB1/ground_truth\\\\cTDaR_t00344.jpg',\n",
       " './ICDAR/ICDAR2019_cTDaR/training/TRACKB1/ground_truth\\\\cTDaR_t00345.jpg',\n",
       " './ICDAR/ICDAR2019_cTDaR/training/TRACKB1/ground_truth\\\\cTDaR_t00346.jpg',\n",
       " './ICDAR/ICDAR2019_cTDaR/training/TRACKB1/ground_truth\\\\cTDaR_t00347.jpg',\n",
       " './ICDAR/ICDAR2019_cTDaR/training/TRACKB1/ground_truth\\\\cTDaR_t00348.jpg',\n",
       " './ICDAR/ICDAR2019_cTDaR/training/TRACKB1/ground_truth\\\\cTDaR_t00349.jpg',\n",
       " './ICDAR/ICDAR2019_cTDaR/training/TRACKB1/ground_truth\\\\cTDaR_t00350.jpg',\n",
       " './ICDAR/ICDAR2019_cTDaR/training/TRACKB1/ground_truth\\\\cTDaR_t00351.jpg',\n",
       " './ICDAR/ICDAR2019_cTDaR/training/TRACKB1/ground_truth\\\\cTDaR_t00352.jpg',\n",
       " './ICDAR/ICDAR2019_cTDaR/training/TRACKB1/ground_truth\\\\cTDaR_t00353.jpg',\n",
       " './ICDAR/ICDAR2019_cTDaR/training/TRACKB1/ground_truth\\\\cTDaR_t00354.jpg',\n",
       " './ICDAR/ICDAR2019_cTDaR/training/TRACKB1/ground_truth\\\\cTDaR_t00355.jpg',\n",
       " './ICDAR/ICDAR2019_cTDaR/training/TRACKB1/ground_truth\\\\cTDaR_t00356.jpg',\n",
       " './ICDAR/ICDAR2019_cTDaR/training/TRACKB1/ground_truth\\\\cTDaR_t00357.jpg',\n",
       " './ICDAR/ICDAR2019_cTDaR/training/TRACKB1/ground_truth\\\\cTDaR_t00358.jpg',\n",
       " './ICDAR/ICDAR2019_cTDaR/training/TRACKB1/ground_truth\\\\cTDaR_t00359.jpg',\n",
       " './ICDAR/ICDAR2019_cTDaR/training/TRACKB1/ground_truth\\\\cTDaR_t00360.jpg',\n",
       " './ICDAR/ICDAR2019_cTDaR/training/TRACKB1/ground_truth\\\\cTDaR_t00361.jpg',\n",
       " './ICDAR/ICDAR2019_cTDaR/training/TRACKB1/ground_truth\\\\cTDaR_t00362.jpg',\n",
       " './ICDAR/ICDAR2019_cTDaR/training/TRACKB1/ground_truth\\\\cTDaR_t00363.jpg',\n",
       " './ICDAR/ICDAR2019_cTDaR/training/TRACKB1/ground_truth\\\\cTDaR_t00364.jpg',\n",
       " './ICDAR/ICDAR2019_cTDaR/training/TRACKB1/ground_truth\\\\cTDaR_t00365.jpg',\n",
       " './ICDAR/ICDAR2019_cTDaR/training/TRACKB1/ground_truth\\\\cTDaR_t00366.jpg',\n",
       " './ICDAR/ICDAR2019_cTDaR/training/TRACKB1/ground_truth\\\\cTDaR_t00367.jpg',\n",
       " './ICDAR/ICDAR2019_cTDaR/training/TRACKB1/ground_truth\\\\cTDaR_t00368.jpg',\n",
       " './ICDAR/ICDAR2019_cTDaR/training/TRACKB1/ground_truth\\\\cTDaR_t00369.jpg',\n",
       " './ICDAR/ICDAR2019_cTDaR/training/TRACKB1/ground_truth\\\\cTDaR_t00370.jpg',\n",
       " './ICDAR/ICDAR2019_cTDaR/training/TRACKB1/ground_truth\\\\cTDaR_t00371.jpg',\n",
       " './ICDAR/ICDAR2019_cTDaR/training/TRACKB1/ground_truth\\\\cTDaR_t00372.jpg',\n",
       " './ICDAR/ICDAR2019_cTDaR/training/TRACKB1/ground_truth\\\\cTDaR_t00373.jpg',\n",
       " './ICDAR/ICDAR2019_cTDaR/training/TRACKB1/ground_truth\\\\cTDaR_t00388.jpg',\n",
       " './ICDAR/ICDAR2019_cTDaR/training/TRACKB1/ground_truth\\\\cTDaR_t00389.jpg',\n",
       " './ICDAR/ICDAR2019_cTDaR/training/TRACKB1/ground_truth\\\\cTDaR_t00390.jpg',\n",
       " './ICDAR/ICDAR2019_cTDaR/training/TRACKB1/ground_truth\\\\cTDaR_t00391.jpg',\n",
       " './ICDAR/ICDAR2019_cTDaR/training/TRACKB1/ground_truth\\\\cTDaR_t00392.jpg',\n",
       " './ICDAR/ICDAR2019_cTDaR/training/TRACKB1/ground_truth\\\\cTDaR_t00393.jpg',\n",
       " './ICDAR/ICDAR2019_cTDaR/training/TRACKB1/ground_truth\\\\cTDaR_t00394.jpg',\n",
       " './ICDAR/ICDAR2019_cTDaR/training/TRACKB1/ground_truth\\\\cTDaR_t00395.jpg',\n",
       " './ICDAR/ICDAR2019_cTDaR/training/TRACKB1/ground_truth\\\\cTDaR_t00396.jpg',\n",
       " './ICDAR/ICDAR2019_cTDaR/training/TRACKB1/ground_truth\\\\cTDaR_t00397.jpg',\n",
       " './ICDAR/ICDAR2019_cTDaR/training/TRACKB1/ground_truth\\\\cTDaR_t00398.jpg',\n",
       " './ICDAR/ICDAR2019_cTDaR/training/TRACKB1/ground_truth\\\\cTDaR_t00403.jpg',\n",
       " './ICDAR/ICDAR2019_cTDaR/training/TRACKB1/ground_truth\\\\cTDaR_t00404.jpg',\n",
       " './ICDAR/ICDAR2019_cTDaR/training/TRACKB1/ground_truth\\\\cTDaR_t00405.jpg',\n",
       " './ICDAR/ICDAR2019_cTDaR/training/TRACKB1/ground_truth\\\\cTDaR_t00406.jpg',\n",
       " './ICDAR/ICDAR2019_cTDaR/training/TRACKB1/ground_truth\\\\cTDaR_t00407.jpg',\n",
       " './ICDAR/ICDAR2019_cTDaR/training/TRACKB1/ground_truth\\\\cTDaR_t00408.jpg',\n",
       " './ICDAR/ICDAR2019_cTDaR/training/TRACKB1/ground_truth\\\\cTDaR_t00409.jpg',\n",
       " './ICDAR/ICDAR2019_cTDaR/training/TRACKB1/ground_truth\\\\cTDaR_t00410.jpg',\n",
       " './ICDAR/ICDAR2019_cTDaR/training/TRACKB1/ground_truth\\\\cTDaR_t00411.jpg',\n",
       " './ICDAR/ICDAR2019_cTDaR/training/TRACKB1/ground_truth\\\\cTDaR_t00412.jpg',\n",
       " './ICDAR/ICDAR2019_cTDaR/training/TRACKB1/ground_truth\\\\cTDaR_t00413.jpg',\n",
       " './ICDAR/ICDAR2019_cTDaR/training/TRACKB1/ground_truth\\\\cTDaR_t00414.jpg',\n",
       " './ICDAR/ICDAR2019_cTDaR/training/TRACKB1/ground_truth\\\\cTDaR_t00415.jpg',\n",
       " './ICDAR/ICDAR2019_cTDaR/training/TRACKB1/ground_truth\\\\cTDaR_t00416.jpg',\n",
       " './ICDAR/ICDAR2019_cTDaR/training/TRACKB1/ground_truth\\\\cTDaR_t00417.jpg',\n",
       " './ICDAR/ICDAR2019_cTDaR/training/TRACKB1/ground_truth\\\\cTDaR_t00418.jpg',\n",
       " './ICDAR/ICDAR2019_cTDaR/training/TRACKB1/ground_truth\\\\cTDaR_t00419.jpg',\n",
       " './ICDAR/ICDAR2019_cTDaR/training/TRACKB1/ground_truth\\\\cTDaR_t00420.jpg',\n",
       " './ICDAR/ICDAR2019_cTDaR/training/TRACKB1/ground_truth\\\\cTDaR_t00421.jpg',\n",
       " './ICDAR/ICDAR2019_cTDaR/training/TRACKB1/ground_truth\\\\cTDaR_t00422.jpg',\n",
       " './ICDAR/ICDAR2019_cTDaR/training/TRACKB1/ground_truth\\\\cTDaR_t00423.jpg',\n",
       " './ICDAR/ICDAR2019_cTDaR/training/TRACKB1/ground_truth\\\\cTDaR_t00424.jpg',\n",
       " './ICDAR/ICDAR2019_cTDaR/training/TRACKB1/ground_truth\\\\cTDaR_t00425.jpg',\n",
       " './ICDAR/ICDAR2019_cTDaR/training/TRACKB1/ground_truth\\\\cTDaR_t00426.jpg',\n",
       " './ICDAR/ICDAR2019_cTDaR/training/TRACKB1/ground_truth\\\\cTDaR_t00427.jpg',\n",
       " './ICDAR/ICDAR2019_cTDaR/training/TRACKB1/ground_truth\\\\cTDaR_t00428.jpg',\n",
       " './ICDAR/ICDAR2019_cTDaR/training/TRACKB1/ground_truth\\\\cTDaR_t00429.jpg',\n",
       " './ICDAR/ICDAR2019_cTDaR/training/TRACKB1/ground_truth\\\\cTDaR_t00430.jpg',\n",
       " './ICDAR/ICDAR2019_cTDaR/training/TRACKB1/ground_truth\\\\cTDaR_t00431.jpg',\n",
       " './ICDAR/ICDAR2019_cTDaR/training/TRACKB1/ground_truth\\\\cTDaR_t00432.jpg',\n",
       " './ICDAR/ICDAR2019_cTDaR/training/TRACKB1/ground_truth\\\\cTDaR_t00433.jpg',\n",
       " './ICDAR/ICDAR2019_cTDaR/training/TRACKB1/ground_truth\\\\cTDaR_t00434.jpg',\n",
       " './ICDAR/ICDAR2019_cTDaR/training/TRACKB1/ground_truth\\\\cTDaR_t00435.jpg',\n",
       " './ICDAR/ICDAR2019_cTDaR/training/TRACKB1/ground_truth\\\\cTDaR_t00436.jpg',\n",
       " './ICDAR/ICDAR2019_cTDaR/training/TRACKB1/ground_truth\\\\cTDaR_t00437.jpg',\n",
       " './ICDAR/ICDAR2019_cTDaR/training/TRACKB1/ground_truth\\\\cTDaR_t00438.jpg',\n",
       " './ICDAR/ICDAR2019_cTDaR/training/TRACKB1/ground_truth\\\\cTDaR_t00439.jpg',\n",
       " './ICDAR/ICDAR2019_cTDaR/training/TRACKB1/ground_truth\\\\cTDaR_t00440.jpg',\n",
       " './ICDAR/ICDAR2019_cTDaR/training/TRACKB1/ground_truth\\\\cTDaR_t00441.jpg',\n",
       " './ICDAR/ICDAR2019_cTDaR/training/TRACKB1/ground_truth\\\\cTDaR_t00442.jpg',\n",
       " './ICDAR/ICDAR2019_cTDaR/training/TRACKB1/ground_truth\\\\cTDaR_t00443.jpg',\n",
       " './ICDAR/ICDAR2019_cTDaR/training/TRACKB1/ground_truth\\\\cTDaR_t00448.JPG',\n",
       " './ICDAR/ICDAR2019_cTDaR/training/TRACKB1/ground_truth\\\\cTDaR_t00449.JPG',\n",
       " './ICDAR/ICDAR2019_cTDaR/training/TRACKB1/ground_truth\\\\cTDaR_t00450.JPG',\n",
       " './ICDAR/ICDAR2019_cTDaR/training/TRACKB1/ground_truth\\\\cTDaR_t00451.JPG',\n",
       " './ICDAR/ICDAR2019_cTDaR/training/TRACKB1/ground_truth\\\\cTDaR_t00452.JPG',\n",
       " './ICDAR/ICDAR2019_cTDaR/training/TRACKB1/ground_truth\\\\cTDaR_t00453.JPG',\n",
       " './ICDAR/ICDAR2019_cTDaR/training/TRACKB1/ground_truth\\\\cTDaR_t00454.JPG',\n",
       " './ICDAR/ICDAR2019_cTDaR/training/TRACKB1/ground_truth\\\\cTDaR_t00455.JPG',\n",
       " './ICDAR/ICDAR2019_cTDaR/training/TRACKB1/ground_truth\\\\cTDaR_t00456.JPG',\n",
       " './ICDAR/ICDAR2019_cTDaR/training/TRACKB1/ground_truth\\\\cTDaR_t00457.JPG',\n",
       " './ICDAR/ICDAR2019_cTDaR/training/TRACKB1/ground_truth\\\\cTDaR_t00458.JPG',\n",
       " './ICDAR/ICDAR2019_cTDaR/training/TRACKB1/ground_truth\\\\cTDaR_t00459.JPG',\n",
       " './ICDAR/ICDAR2019_cTDaR/training/TRACKB1/ground_truth\\\\cTDaR_t00460.JPG',\n",
       " './ICDAR/ICDAR2019_cTDaR/training/TRACKB1/ground_truth\\\\cTDaR_t00461.JPG',\n",
       " './ICDAR/ICDAR2019_cTDaR/training/TRACKB1/ground_truth\\\\cTDaR_t00462.JPG',\n",
       " './ICDAR/ICDAR2019_cTDaR/training/TRACKB1/ground_truth\\\\cTDaR_t00463.JPG',\n",
       " './ICDAR/ICDAR2019_cTDaR/training/TRACKB1/ground_truth\\\\cTDaR_t00464.JPG',\n",
       " './ICDAR/ICDAR2019_cTDaR/training/TRACKB1/ground_truth\\\\cTDaR_t00465.JPG',\n",
       " './ICDAR/ICDAR2019_cTDaR/training/TRACKB1/ground_truth\\\\cTDaR_t00466.JPG',\n",
       " './ICDAR/ICDAR2019_cTDaR/training/TRACKB1/ground_truth\\\\cTDaR_t00467.JPG',\n",
       " './ICDAR/ICDAR2019_cTDaR/training/TRACKB1/ground_truth\\\\cTDaR_t00468.JPG',\n",
       " './ICDAR/ICDAR2019_cTDaR/training/TRACKB1/ground_truth\\\\cTDaR_t00469.JPG',\n",
       " './ICDAR/ICDAR2019_cTDaR/training/TRACKB1/ground_truth\\\\cTDaR_t00470.JPG',\n",
       " './ICDAR/ICDAR2019_cTDaR/training/TRACKB1/ground_truth\\\\cTDaR_t00471.JPG',\n",
       " './ICDAR/ICDAR2019_cTDaR/training/TRACKB1/ground_truth\\\\cTDaR_t00472.JPG',\n",
       " './ICDAR/ICDAR2019_cTDaR/training/TRACKB1/ground_truth\\\\cTDaR_t00473.JPG',\n",
       " './ICDAR/ICDAR2019_cTDaR/training/TRACKB1/ground_truth\\\\cTDaR_t00474.JPG',\n",
       " './ICDAR/ICDAR2019_cTDaR/training/TRACKB1/ground_truth\\\\cTDaR_t00475.JPG',\n",
       " './ICDAR/ICDAR2019_cTDaR/training/TRACKB1/ground_truth\\\\cTDaR_t00476.JPG',\n",
       " './ICDAR/ICDAR2019_cTDaR/training/TRACKB1/ground_truth\\\\cTDaR_t00501.jpg',\n",
       " './ICDAR/ICDAR2019_cTDaR/training/TRACKB1/ground_truth\\\\cTDaR_t00502.jpg',\n",
       " './ICDAR/ICDAR2019_cTDaR/training/TRACKB1/ground_truth\\\\cTDaR_t00503.jpg',\n",
       " './ICDAR/ICDAR2019_cTDaR/training/TRACKB1/ground_truth\\\\cTDaR_t00504.jpg',\n",
       " './ICDAR/ICDAR2019_cTDaR/training/TRACKB1/ground_truth\\\\cTDaR_t00505.jpg',\n",
       " './ICDAR/ICDAR2019_cTDaR/training/TRACKB1/ground_truth\\\\cTDaR_t00506.jpg',\n",
       " './ICDAR/ICDAR2019_cTDaR/training/TRACKB1/ground_truth\\\\cTDaR_t00507.jpg',\n",
       " './ICDAR/ICDAR2019_cTDaR/training/TRACKB1/ground_truth\\\\cTDaR_t00508.jpg',\n",
       " './ICDAR/ICDAR2019_cTDaR/training/TRACKB1/ground_truth\\\\cTDaR_t00509.jpg',\n",
       " './ICDAR/ICDAR2019_cTDaR/training/TRACKB1/ground_truth\\\\cTDaR_t00510.jpg',\n",
       " './ICDAR/ICDAR2019_cTDaR/training/TRACKB1/ground_truth\\\\cTDaR_t00511.jpg',\n",
       " './ICDAR/ICDAR2019_cTDaR/training/TRACKB1/ground_truth\\\\cTDaR_t00512.jpg',\n",
       " './ICDAR/ICDAR2019_cTDaR/training/TRACKB1/ground_truth\\\\cTDaR_t00513.jpg',\n",
       " './ICDAR/ICDAR2019_cTDaR/training/TRACKB1/ground_truth\\\\cTDaR_t00514.jpg',\n",
       " './ICDAR/ICDAR2019_cTDaR/training/TRACKB1/ground_truth\\\\cTDaR_t00515.jpg',\n",
       " './ICDAR/ICDAR2019_cTDaR/training/TRACKB1/ground_truth\\\\cTDaR_t00516.jpg',\n",
       " './ICDAR/ICDAR2019_cTDaR/training/TRACKB1/ground_truth\\\\cTDaR_t00517.jpg',\n",
       " './ICDAR/ICDAR2019_cTDaR/training/TRACKB1/ground_truth\\\\cTDaR_t00518.jpg',\n",
       " './ICDAR/ICDAR2019_cTDaR/training/TRACKB1/ground_truth\\\\cTDaR_t00519.jpg',\n",
       " './ICDAR/ICDAR2019_cTDaR/training/TRACKB1/ground_truth\\\\cTDaR_t00520.jpg',\n",
       " './ICDAR/ICDAR2019_cTDaR/training/TRACKB1/ground_truth\\\\cTDaR_t00521.jpg',\n",
       " './ICDAR/ICDAR2019_cTDaR/training/TRACKB1/ground_truth\\\\cTDaR_t00522.jpg',\n",
       " './ICDAR/ICDAR2019_cTDaR/training/TRACKB1/ground_truth\\\\cTDaR_t00530.jpg',\n",
       " './ICDAR/ICDAR2019_cTDaR/training/TRACKB1/ground_truth\\\\cTDaR_t00531.jpg',\n",
       " './ICDAR/ICDAR2019_cTDaR/training/TRACKB1/ground_truth\\\\cTDaR_t00532.jpg',\n",
       " './ICDAR/ICDAR2019_cTDaR/training/TRACKB1/ground_truth\\\\cTDaR_t00533.jpg',\n",
       " './ICDAR/ICDAR2019_cTDaR/training/TRACKB1/ground_truth\\\\cTDaR_t00534.jpg',\n",
       " './ICDAR/ICDAR2019_cTDaR/training/TRACKB1/ground_truth\\\\cTDaR_t00535.jpg',\n",
       " './ICDAR/ICDAR2019_cTDaR/training/TRACKB1/ground_truth\\\\cTDaR_t00536.jpg',\n",
       " './ICDAR/ICDAR2019_cTDaR/training/TRACKB1/ground_truth\\\\cTDaR_t00537.jpg',\n",
       " './ICDAR/ICDAR2019_cTDaR/training/TRACKB1/ground_truth\\\\cTDaR_t00538.jpg',\n",
       " './ICDAR/ICDAR2019_cTDaR/training/TRACKB1/ground_truth\\\\cTDaR_t00539.jpg',\n",
       " './ICDAR/ICDAR2019_cTDaR/training/TRACKB1/ground_truth\\\\cTDaR_t00540.jpg',\n",
       " './ICDAR/ICDAR2019_cTDaR/training/TRACKB1/ground_truth\\\\cTDaR_t00541.jpg',\n",
       " './ICDAR/ICDAR2019_cTDaR/training/TRACKB1/ground_truth\\\\cTDaR_t00542.jpg',\n",
       " './ICDAR/ICDAR2019_cTDaR/training/TRACKB1/ground_truth\\\\cTDaR_t00543.jpg',\n",
       " './ICDAR/ICDAR2019_cTDaR/training/TRACKB1/ground_truth\\\\cTDaR_t00544.jpg',\n",
       " './ICDAR/ICDAR2019_cTDaR/training/TRACKB1/ground_truth\\\\cTDaR_t00545.jpg',\n",
       " './ICDAR/ICDAR2019_cTDaR/training/TRACKB1/ground_truth\\\\cTDaR_t00546.jpg',\n",
       " './ICDAR/ICDAR2019_cTDaR/training/TRACKB1/ground_truth\\\\cTDaR_t00547.jpg',\n",
       " './ICDAR/ICDAR2019_cTDaR/training/TRACKB1/ground_truth\\\\cTDaR_t00548.jpg',\n",
       " './ICDAR/ICDAR2019_cTDaR/training/TRACKB1/ground_truth\\\\cTDaR_t00549.jpg',\n",
       " './ICDAR/ICDAR2019_cTDaR/training/TRACKB1/ground_truth\\\\cTDaR_t00550.jpg',\n",
       " './ICDAR/ICDAR2019_cTDaR/training/TRACKB1/ground_truth\\\\cTDaR_t00551.jpg',\n",
       " './ICDAR/ICDAR2019_cTDaR/training/TRACKB1/ground_truth\\\\cTDaR_t00552.jpg',\n",
       " './ICDAR/ICDAR2019_cTDaR/training/TRACKB1/ground_truth\\\\cTDaR_t00553.jpg',\n",
       " './ICDAR/ICDAR2019_cTDaR/training/TRACKB1/ground_truth\\\\cTDaR_t00554.jpg',\n",
       " './ICDAR/ICDAR2019_cTDaR/training/TRACKB1/ground_truth\\\\cTDaR_t00555.jpg',\n",
       " './ICDAR/ICDAR2019_cTDaR/training/TRACKB1/ground_truth\\\\cTDaR_t00556.jpg',\n",
       " './ICDAR/ICDAR2019_cTDaR/training/TRACKB1/ground_truth\\\\cTDaR_t00557.jpg',\n",
       " './ICDAR/ICDAR2019_cTDaR/training/TRACKB1/ground_truth\\\\cTDaR_t00558.jpg',\n",
       " './ICDAR/ICDAR2019_cTDaR/training/TRACKB1/ground_truth\\\\cTDaR_t00559.jpg',\n",
       " './ICDAR/ICDAR2019_cTDaR/training/TRACKB1/ground_truth\\\\cTDaR_t00560.jpg',\n",
       " './ICDAR/ICDAR2019_cTDaR/training/TRACKB1/ground_truth\\\\cTDaR_t00561.jpg',\n",
       " './ICDAR/ICDAR2019_cTDaR/training/TRACKB1/ground_truth\\\\cTDaR_t00562.jpg',\n",
       " './ICDAR/ICDAR2019_cTDaR/training/TRACKB1/ground_truth\\\\cTDaR_t00563.jpg',\n",
       " './ICDAR/ICDAR2019_cTDaR/training/TRACKB1/ground_truth\\\\cTDaR_t00564.jpg',\n",
       " './ICDAR/ICDAR2019_cTDaR/training/TRACKB1/ground_truth\\\\cTDaR_t00565.jpg',\n",
       " './ICDAR/ICDAR2019_cTDaR/training/TRACKB1/ground_truth\\\\cTDaR_t00566.jpg',\n",
       " './ICDAR/ICDAR2019_cTDaR/training/TRACKB1/ground_truth\\\\cTDaR_t00567.jpg',\n",
       " './ICDAR/ICDAR2019_cTDaR/training/TRACKB1/ground_truth\\\\cTDaR_t00568.jpg',\n",
       " './ICDAR/ICDAR2019_cTDaR/training/TRACKB1/ground_truth\\\\cTDaR_t00569.jpg',\n",
       " './ICDAR/ICDAR2019_cTDaR/training/TRACKB1/ground_truth\\\\cTDaR_t00570.jpg',\n",
       " './ICDAR/ICDAR2019_cTDaR/training/TRACKB1/ground_truth\\\\cTDaR_t00571.jpg',\n",
       " './ICDAR/ICDAR2019_cTDaR/training/TRACKB1/ground_truth\\\\cTDaR_t00572.jpg',\n",
       " './ICDAR/ICDAR2019_cTDaR/training/TRACKB1/ground_truth\\\\cTDaR_t00573.jpg',\n",
       " './ICDAR/ICDAR2019_cTDaR/training/TRACKB1/ground_truth\\\\cTDaR_t00574.jpg',\n",
       " './ICDAR/ICDAR2019_cTDaR/training/TRACKB1/ground_truth\\\\cTDaR_t00575.jpg',\n",
       " './ICDAR/ICDAR2019_cTDaR/training/TRACKB1/ground_truth\\\\cTDaR_t00576.jpg',\n",
       " './ICDAR/ICDAR2019_cTDaR/training/TRACKB1/ground_truth\\\\cTDaR_t00577.jpg',\n",
       " './ICDAR/ICDAR2019_cTDaR/training/TRACKB1/ground_truth\\\\cTDaR_t00578.jpg',\n",
       " './ICDAR/ICDAR2019_cTDaR/training/TRACKB1/ground_truth\\\\cTDaR_t00579.jpg',\n",
       " './ICDAR/ICDAR2019_cTDaR/training/TRACKB1/ground_truth\\\\cTDaR_t00580.jpg',\n",
       " './ICDAR/ICDAR2019_cTDaR/training/TRACKB1/ground_truth\\\\cTDaR_t00581.jpg',\n",
       " './ICDAR/ICDAR2019_cTDaR/training/TRACKB1/ground_truth\\\\cTDaR_t00582.jpg',\n",
       " './ICDAR/ICDAR2019_cTDaR/training/TRACKB1/ground_truth\\\\cTDaR_t00583.jpg',\n",
       " './ICDAR/ICDAR2019_cTDaR/training/TRACKB1/ground_truth\\\\cTDaR_t00584.jpg',\n",
       " './ICDAR/ICDAR2019_cTDaR/training/TRACKB1/ground_truth\\\\cTDaR_t00585.jpg',\n",
       " './ICDAR/ICDAR2019_cTDaR/training/TRACKB1/ground_truth\\\\cTDaR_t00586.jpg',\n",
       " './ICDAR/ICDAR2019_cTDaR/training/TRACKB1/ground_truth\\\\cTDaR_t00587.jpg',\n",
       " './ICDAR/ICDAR2019_cTDaR/training/TRACKB1/ground_truth\\\\cTDaR_t00588.jpg',\n",
       " './ICDAR/ICDAR2019_cTDaR/training/TRACKB1/ground_truth\\\\cTDaR_t00589.jpg',\n",
       " './ICDAR/ICDAR2019_cTDaR/training/TRACKB1/ground_truth\\\\cTDaR_t00590.jpg',\n",
       " './ICDAR/ICDAR2019_cTDaR/training/TRACKB1/ground_truth\\\\cTDaR_t00591.jpg',\n",
       " './ICDAR/ICDAR2019_cTDaR/training/TRACKB1/ground_truth\\\\cTDaR_t00592.jpg',\n",
       " './ICDAR/ICDAR2019_cTDaR/training/TRACKB1/ground_truth\\\\cTDaR_t00593.jpg',\n",
       " './ICDAR/ICDAR2019_cTDaR/training/TRACKB1/ground_truth\\\\cTDaR_t00594.jpg',\n",
       " './ICDAR/ICDAR2019_cTDaR/training/TRACKB1/ground_truth\\\\cTDaR_t00595.jpg',\n",
       " './ICDAR/ICDAR2019_cTDaR/training/TRACKB1/ground_truth\\\\cTDaR_t00596.jpg',\n",
       " './ICDAR/ICDAR2019_cTDaR/training/TRACKB1/ground_truth\\\\cTDaR_t00597.jpg',\n",
       " './ICDAR/ICDAR2019_cTDaR/training/TRACKB1/ground_truth\\\\cTDaR_t00598.jpg',\n",
       " './ICDAR/ICDAR2019_cTDaR/training/TRACKB1/ground_truth\\\\cTDaR_t00599.jpg',\n",
       " './ICDAR/ICDAR2019_cTDaR/training/TRACKB1/ground_truth\\\\cTDaR_t00600.jpg',\n",
       " './ICDAR/ICDAR2019_cTDaR/training/TRACKB1/ground_truth\\\\cTDaR_t00601.jpg',\n",
       " './ICDAR/ICDAR2019_cTDaR/training/TRACKB1/ground_truth\\\\cTDaR_t00602.jpg',\n",
       " './ICDAR/ICDAR2019_cTDaR/training/TRACKB1/ground_truth\\\\cTDaR_t00603.jpg',\n",
       " './ICDAR/ICDAR2019_cTDaR/training/TRACKB1/ground_truth\\\\cTDaR_t00604.jpg',\n",
       " './ICDAR/ICDAR2019_cTDaR/training/TRACKB1/ground_truth\\\\cTDaR_t00605.jpg',\n",
       " './ICDAR/ICDAR2019_cTDaR/training/TRACKB1/ground_truth\\\\cTDaR_t00606.jpg',\n",
       " './ICDAR/ICDAR2019_cTDaR/training/TRACKB1/ground_truth\\\\cTDaR_t00607.jpg',\n",
       " './ICDAR/ICDAR2019_cTDaR/training/TRACKB1/ground_truth\\\\cTDaR_t00608.jpg',\n",
       " './ICDAR/ICDAR2019_cTDaR/training/TRACKB1/ground_truth\\\\cTDaR_t00609.jpg',\n",
       " './ICDAR/ICDAR2019_cTDaR/training/TRACKB1/ground_truth\\\\cTDaR_t00610.jpg',\n",
       " './ICDAR/ICDAR2019_cTDaR/training/TRACKB1/ground_truth\\\\cTDaR_t00611.jpg',\n",
       " './ICDAR/ICDAR2019_cTDaR/training/TRACKB1/ground_truth\\\\cTDaR_t00612.jpg',\n",
       " './ICDAR/ICDAR2019_cTDaR/training/TRACKB1/ground_truth\\\\cTDaR_t00613.jpg',\n",
       " './ICDAR/ICDAR2019_cTDaR/training/TRACKB1/ground_truth\\\\cTDaR_t00614.jpg',\n",
       " './ICDAR/ICDAR2019_cTDaR/training/TRACKB1/ground_truth\\\\cTDaR_t00615.jpg',\n",
       " './ICDAR/ICDAR2019_cTDaR/training/TRACKB1/ground_truth\\\\cTDaR_t00616.jpg',\n",
       " './ICDAR/ICDAR2019_cTDaR/training/TRACKB1/ground_truth\\\\cTDaR_t00617.jpg',\n",
       " './ICDAR/ICDAR2019_cTDaR/training/TRACKB1/ground_truth\\\\cTDaR_t00618.jpg',\n",
       " './ICDAR/ICDAR2019_cTDaR/training/TRACKB1/ground_truth\\\\cTDaR_t00619.jpg',\n",
       " './ICDAR/ICDAR2019_cTDaR/training/TRACKB1/ground_truth\\\\cTDaR_t00620.jpg',\n",
       " './ICDAR/ICDAR2019_cTDaR/training/TRACKB1/ground_truth\\\\cTDaR_t00641.jpg',\n",
       " './ICDAR/ICDAR2019_cTDaR/training/TRACKB1/ground_truth\\\\cTDaR_t00642.jpg',\n",
       " './ICDAR/ICDAR2019_cTDaR/training/TRACKB1/ground_truth\\\\cTDaR_t00643.jpg',\n",
       " './ICDAR/ICDAR2019_cTDaR/training/TRACKB1/ground_truth\\\\cTDaR_t00644.jpg',\n",
       " './ICDAR/ICDAR2019_cTDaR/training/TRACKB1/ground_truth\\\\cTDaR_t00645.jpg',\n",
       " './ICDAR/ICDAR2019_cTDaR/training/TRACKB1/ground_truth\\\\cTDaR_t00646.jpg',\n",
       " './ICDAR/ICDAR2019_cTDaR/training/TRACKB1/ground_truth\\\\cTDaR_t00647.jpg',\n",
       " './ICDAR/ICDAR2019_cTDaR/training/TRACKB1/ground_truth\\\\cTDaR_t00650.JPG',\n",
       " './ICDAR/ICDAR2019_cTDaR/training/TRACKB1/ground_truth\\\\cTDaR_t00651.jpg',\n",
       " './ICDAR/ICDAR2019_cTDaR/training/TRACKB1/ground_truth\\\\cTDaR_t00652.jpg',\n",
       " './ICDAR/ICDAR2019_cTDaR/training/TRACKB1/ground_truth\\\\cTDaR_t00653.jpg',\n",
       " './ICDAR/ICDAR2019_cTDaR/training/TRACKB1/ground_truth\\\\cTDaR_t00654.jpg',\n",
       " './ICDAR/ICDAR2019_cTDaR/training/TRACKB1/ground_truth\\\\cTDaR_t00655.jpg',\n",
       " './ICDAR/ICDAR2019_cTDaR/training/TRACKB1/ground_truth\\\\cTDaR_t00656.JPG',\n",
       " './ICDAR/ICDAR2019_cTDaR/training/TRACKB1/ground_truth\\\\cTDaR_t00657.jpg',\n",
       " './ICDAR/ICDAR2019_cTDaR/training/TRACKB1/ground_truth\\\\cTDaR_t00658.jpg',\n",
       " './ICDAR/ICDAR2019_cTDaR/training/TRACKB1/ground_truth\\\\cTDaR_t00662.jpg',\n",
       " './ICDAR/ICDAR2019_cTDaR/training/TRACKB1/ground_truth\\\\cTDaR_t00663.jpg',\n",
       " './ICDAR/ICDAR2019_cTDaR/training/TRACKB1/ground_truth\\\\cTDaR_t00664.jpg',\n",
       " './ICDAR/ICDAR2019_cTDaR/training/TRACKB1/ground_truth\\\\cTDaR_t00665.jpg',\n",
       " './ICDAR/ICDAR2019_cTDaR/training/TRACKB1/ground_truth\\\\cTDaR_t00666.jpg',\n",
       " './ICDAR/ICDAR2019_cTDaR/training/TRACKB1/ground_truth\\\\cTDaR_t00667.jpg',\n",
       " './ICDAR/ICDAR2019_cTDaR/training/TRACKB1/ground_truth\\\\cTDaR_t00668.jpg',\n",
       " './ICDAR/ICDAR2019_cTDaR/training/TRACKB1/ground_truth\\\\cTDaR_t00669.jpg',\n",
       " './ICDAR/ICDAR2019_cTDaR/training/TRACKB1/ground_truth\\\\cTDaR_t00670.jpg',\n",
       " './ICDAR/ICDAR2019_cTDaR/training/TRACKB1/ground_truth\\\\cTDaR_t00671.jpg',\n",
       " './ICDAR/ICDAR2019_cTDaR/training/TRACKB1/ground_truth\\\\cTDaR_t00672.jpg',\n",
       " './ICDAR/ICDAR2019_cTDaR/training/TRACKB1/ground_truth\\\\cTDaR_t00673.jpg',\n",
       " './ICDAR/ICDAR2019_cTDaR/training/TRACKB1/ground_truth\\\\cTDaR_t00674.jpg',\n",
       " './ICDAR/ICDAR2019_cTDaR/training/TRACKB1/ground_truth\\\\cTDaR_t00675.jpg',\n",
       " './ICDAR/ICDAR2019_cTDaR/training/TRACKB1/ground_truth\\\\cTDaR_t00676.jpg',\n",
       " './ICDAR/ICDAR2019_cTDaR/training/TRACKB1/ground_truth\\\\cTDaR_t00677.jpg',\n",
       " './ICDAR/ICDAR2019_cTDaR/training/TRACKB1/ground_truth\\\\cTDaR_t00678.jpg',\n",
       " './ICDAR/ICDAR2019_cTDaR/training/TRACKB1/ground_truth\\\\cTDaR_t00679.jpg',\n",
       " './ICDAR/ICDAR2019_cTDaR/training/TRACKB1/ground_truth\\\\cTDaR_t00708.jpg',\n",
       " './ICDAR/ICDAR2019_cTDaR/training/TRACKB1/ground_truth\\\\cTDaR_t00709.jpg',\n",
       " './ICDAR/ICDAR2019_cTDaR/training/TRACKB1/ground_truth\\\\cTDaR_t00710.jpg',\n",
       " './ICDAR/ICDAR2019_cTDaR/training/TRACKB1/ground_truth\\\\cTDaR_t00711.jpg',\n",
       " './ICDAR/ICDAR2019_cTDaR/training/TRACKB1/ground_truth\\\\cTDaR_t00712.jpg',\n",
       " './ICDAR/ICDAR2019_cTDaR/training/TRACKB1/ground_truth\\\\cTDaR_t00713.jpg',\n",
       " './ICDAR/ICDAR2019_cTDaR/training/TRACKB1/ground_truth\\\\cTDaR_t00714.jpg',\n",
       " './ICDAR/ICDAR2019_cTDaR/training/TRACKB1/ground_truth\\\\cTDaR_t00715.jpg',\n",
       " './ICDAR/ICDAR2019_cTDaR/training/TRACKB1/ground_truth\\\\cTDaR_t00716.jpg',\n",
       " './ICDAR/ICDAR2019_cTDaR/training/TRACKB1/ground_truth\\\\cTDaR_t00717.jpg',\n",
       " './ICDAR/ICDAR2019_cTDaR/training/TRACKB1/ground_truth\\\\cTDaR_t00718.jpg',\n",
       " './ICDAR/ICDAR2019_cTDaR/training/TRACKB1/ground_truth\\\\cTDaR_t00719.jpg',\n",
       " './ICDAR/ICDAR2019_cTDaR/training/TRACKB1/ground_truth\\\\cTDaR_t00760.jpg',\n",
       " './ICDAR/ICDAR2019_cTDaR/training/TRACKB1/ground_truth\\\\cTDaR_t00761.jpg',\n",
       " './ICDAR/ICDAR2019_cTDaR/training/TRACKB1/ground_truth\\\\cTDaR_t00762.jpg',\n",
       " './ICDAR/ICDAR2019_cTDaR/training/TRACKB1/ground_truth\\\\cTDaR_t00763.jpg',\n",
       " './ICDAR/ICDAR2019_cTDaR/training/TRACKB1/ground_truth\\\\cTDaR_t00764.jpg',\n",
       " './ICDAR/ICDAR2019_cTDaR/training/TRACKB1/ground_truth\\\\cTDaR_t00765.jpg',\n",
       " './ICDAR/ICDAR2019_cTDaR/training/TRACKB1/ground_truth\\\\cTDaR_t00766.jpg',\n",
       " './ICDAR/ICDAR2019_cTDaR/training/TRACKB1/ground_truth\\\\cTDaR_t00767.jpg',\n",
       " './ICDAR/ICDAR2019_cTDaR/training/TRACKB1/ground_truth\\\\cTDaR_t00768.jpg',\n",
       " './ICDAR/ICDAR2019_cTDaR/training/TRACKB1/ground_truth\\\\cTDaR_t00769.jpg',\n",
       " './ICDAR/ICDAR2019_cTDaR/training/TRACKB1/ground_truth\\\\cTDaR_t00770.jpg',\n",
       " './ICDAR/ICDAR2019_cTDaR/training/TRACKB1/ground_truth\\\\cTDaR_t00771.jpg',\n",
       " './ICDAR/ICDAR2019_cTDaR/training/TRACKB1/ground_truth\\\\cTDaR_t00772.jpg',\n",
       " './ICDAR/ICDAR2019_cTDaR/training/TRACKB1/ground_truth\\\\cTDaR_t00799.jpg',\n",
       " './ICDAR/ICDAR2019_cTDaR/training/TRACKB1/ground_truth\\\\cTDaR_t00800.jpg',\n",
       " './ICDAR/ICDAR2019_cTDaR/training/TRACKB1/ground_truth\\\\cTDaR_t00801.jpg',\n",
       " './ICDAR/ICDAR2019_cTDaR/training/TRACKB1/ground_truth\\\\cTDaR_t00802.jpg',\n",
       " './ICDAR/ICDAR2019_cTDaR/training/TRACKB1/ground_truth\\\\cTDaR_t00803.jpg',\n",
       " './ICDAR/ICDAR2019_cTDaR/training/TRACKB1/ground_truth\\\\cTDaR_t00804.jpg',\n",
       " './ICDAR/ICDAR2019_cTDaR/training/TRACKB1/ground_truth\\\\cTDaR_t00805.jpg',\n",
       " './ICDAR/ICDAR2019_cTDaR/training/TRACKB1/ground_truth\\\\cTDaR_t00806.jpg',\n",
       " './ICDAR/ICDAR2019_cTDaR/training/TRACKB1/ground_truth\\\\cTDaR_t00807.jpg',\n",
       " './ICDAR/ICDAR2019_cTDaR/training/TRACKB1/ground_truth\\\\cTDaR_t00808.jpg',\n",
       " './ICDAR/ICDAR2019_cTDaR/training/TRACKB1/ground_truth\\\\cTDaR_t00809.jpg',\n",
       " './ICDAR/ICDAR2019_cTDaR/training/TRACKB1/ground_truth\\\\cTDaR_t00815.jpg',\n",
       " './ICDAR/ICDAR2019_cTDaR/training/TRACKB1/ground_truth\\\\cTDaR_t00816.jpg',\n",
       " './ICDAR/ICDAR2019_cTDaR/training/TRACKB1/ground_truth\\\\cTDaR_t00817.jpg',\n",
       " './ICDAR/ICDAR2019_cTDaR/training/TRACKB1/ground_truth\\\\cTDaR_t00818.jpg',\n",
       " './ICDAR/ICDAR2019_cTDaR/training/TRACKB1/ground_truth\\\\cTDaR_t00819.jpg',\n",
       " './ICDAR/ICDAR2019_cTDaR/training/TRACKB1/ground_truth\\\\cTDaR_t00820.jpg',\n",
       " './ICDAR/ICDAR2019_cTDaR/training/TRACKB1/ground_truth\\\\cTDaR_t00821.jpg',\n",
       " './ICDAR/ICDAR2019_cTDaR/training/TRACKB1/ground_truth\\\\cTDaR_t00822.jpg',\n",
       " './ICDAR/ICDAR2019_cTDaR/training/TRACKB1/ground_truth\\\\cTDaR_t00823.jpg',\n",
       " './ICDAR/ICDAR2019_cTDaR/training/TRACKB1/ground_truth\\\\cTDaR_t00824.jpg',\n",
       " './ICDAR/ICDAR2019_cTDaR/training/TRACKB1/ground_truth\\\\cTDaR_t00825.jpg',\n",
       " './ICDAR/ICDAR2019_cTDaR/training/TRACKB1/ground_truth\\\\cTDaR_t00826.jpg',\n",
       " './ICDAR/ICDAR2019_cTDaR/training/TRACKB1/ground_truth\\\\cTDaR_t00827.jpg',\n",
       " './ICDAR/ICDAR2019_cTDaR/training/TRACKB1/ground_truth\\\\cTDaR_t00841.jpg',\n",
       " './ICDAR/ICDAR2019_cTDaR/training/TRACKB1/ground_truth\\\\cTDaR_t00842.jpg',\n",
       " './ICDAR/ICDAR2019_cTDaR/training/TRACKB1/ground_truth\\\\cTDaR_t00843.jpg',\n",
       " './ICDAR/ICDAR2019_cTDaR/training/TRACKB1/ground_truth\\\\cTDaR_t00844.jpg',\n",
       " './ICDAR/ICDAR2019_cTDaR/training/TRACKB1/ground_truth\\\\cTDaR_t00845.jpg',\n",
       " './ICDAR/ICDAR2019_cTDaR/training/TRACKB1/ground_truth\\\\cTDaR_t00846.jpg',\n",
       " './ICDAR/ICDAR2019_cTDaR/training/TRACKB1/ground_truth\\\\cTDaR_t00851.jpg',\n",
       " './ICDAR/ICDAR2019_cTDaR/training/TRACKB1/ground_truth\\\\cTDaR_t00852.jpg',\n",
       " './ICDAR/ICDAR2019_cTDaR/training/TRACKB1/ground_truth\\\\cTDaR_t00853.jpg',\n",
       " './ICDAR/ICDAR2019_cTDaR/training/TRACKB1/ground_truth\\\\cTDaR_t00854.jpg',\n",
       " './ICDAR/ICDAR2019_cTDaR/training/TRACKB1/ground_truth\\\\cTDaR_t00855.jpg',\n",
       " './ICDAR/ICDAR2019_cTDaR/training/TRACKB1/ground_truth\\\\cTDaR_t00856.jpg',\n",
       " './ICDAR/ICDAR2019_cTDaR/training/TRACKB1/ground_truth\\\\cTDaR_t00857.jpg',\n",
       " './ICDAR/ICDAR2019_cTDaR/training/TRACKB1/ground_truth\\\\cTDaR_t00860.jpg',\n",
       " './ICDAR/ICDAR2019_cTDaR/training/TRACKB1/ground_truth\\\\cTDaR_t00861.jpg',\n",
       " './ICDAR/ICDAR2019_cTDaR/training/TRACKB1/ground_truth\\\\cTDaR_t00862.jpg',\n",
       " './ICDAR/ICDAR2019_cTDaR/training/TRACKB1/ground_truth\\\\cTDaR_t00863.jpg',\n",
       " './ICDAR/ICDAR2019_cTDaR/training/TRACKB1/ground_truth\\\\cTDaR_t00864.jpg',\n",
       " './ICDAR/ICDAR2019_cTDaR/training/TRACKB1/ground_truth\\\\cTDaR_t00865.jpg',\n",
       " './ICDAR/ICDAR2019_cTDaR/training/TRACKB1/ground_truth\\\\cTDaR_t00866.jpg',\n",
       " './ICDAR/ICDAR2019_cTDaR/training/TRACKB1/ground_truth\\\\cTDaR_t00867.jpg',\n",
       " './ICDAR/ICDAR2019_cTDaR/training/TRACKB1/ground_truth\\\\cTDaR_t00868.jpg',\n",
       " './ICDAR/ICDAR2019_cTDaR/training/TRACKB1/ground_truth\\\\cTDaR_t00869.jpg',\n",
       " './ICDAR/ICDAR2019_cTDaR/training/TRACKB1/ground_truth\\\\cTDaR_t00870.jpg',\n",
       " './ICDAR/ICDAR2019_cTDaR/training/TRACKB1/ground_truth\\\\cTDaR_t00871.jpg',\n",
       " './ICDAR/ICDAR2019_cTDaR/training/TRACKB1/ground_truth\\\\cTDaR_t00872.jpg',\n",
       " './ICDAR/ICDAR2019_cTDaR/training/TRACKB1/ground_truth\\\\cTDaR_t00873.jpg',\n",
       " './ICDAR/ICDAR2019_cTDaR/training/TRACKB1/ground_truth\\\\cTDaR_t00874.jpg',\n",
       " './ICDAR/ICDAR2019_cTDaR/training/TRACKB1/ground_truth\\\\cTDaR_t00875.jpg',\n",
       " './ICDAR/ICDAR2019_cTDaR/training/TRACKB1/ground_truth\\\\cTDaR_t00876.jpg',\n",
       " './ICDAR/ICDAR2019_cTDaR/training/TRACKB1/ground_truth\\\\cTDaR_t00877.jpg',\n",
       " './ICDAR/ICDAR2019_cTDaR/training/TRACKB1/ground_truth\\\\cTDaR_t00878.jpg',\n",
       " './ICDAR/ICDAR2019_cTDaR/training/TRACKB1/ground_truth\\\\cTDaR_t00879.jpg',\n",
       " './ICDAR/ICDAR2019_cTDaR/training/TRACKB1/ground_truth\\\\cTDaR_t00880.jpg',\n",
       " './ICDAR/ICDAR2019_cTDaR/training/TRACKB1/ground_truth\\\\cTDaR_t00881.jpg',\n",
       " './ICDAR/ICDAR2019_cTDaR/training/TRACKB1/ground_truth\\\\cTDaR_t00882.jpg',\n",
       " './ICDAR/ICDAR2019_cTDaR/training/TRACKB1/ground_truth\\\\cTDaR_t00883.jpg',\n",
       " './ICDAR/ICDAR2019_cTDaR/training/TRACKB1/ground_truth\\\\cTDaR_t00884.jpg',\n",
       " './ICDAR/ICDAR2019_cTDaR/training/TRACKB1/ground_truth\\\\cTDaR_t00885.jpg',\n",
       " './ICDAR/ICDAR2019_cTDaR/training/TRACKB1/ground_truth\\\\cTDaR_t00886.jpg',\n",
       " './ICDAR/ICDAR2019_cTDaR/training/TRACKB1/ground_truth\\\\cTDaR_t00887.jpg',\n",
       " './ICDAR/ICDAR2019_cTDaR/training/TRACKB1/ground_truth\\\\cTDaR_t00888.jpg',\n",
       " './ICDAR/ICDAR2019_cTDaR/training/TRACKB1/ground_truth\\\\cTDaR_t00889.jpg',\n",
       " './ICDAR/ICDAR2019_cTDaR/training/TRACKB1/ground_truth\\\\cTDaR_t00890.jpg',\n",
       " './ICDAR/ICDAR2019_cTDaR/training/TRACKB1/ground_truth\\\\cTDaR_t00891.jpg',\n",
       " './ICDAR/ICDAR2019_cTDaR/training/TRACKB1/ground_truth\\\\cTDaR_t00892.jpg',\n",
       " './ICDAR/ICDAR2019_cTDaR/training/TRACKB1/ground_truth\\\\cTDaR_t00893.jpg',\n",
       " './ICDAR/ICDAR2019_cTDaR/training/TRACKB1/ground_truth\\\\cTDaR_t00894.jpg',\n",
       " './ICDAR/ICDAR2019_cTDaR/training/TRACKB1/ground_truth\\\\cTDaR_t00895.jpg',\n",
       " './ICDAR/ICDAR2019_cTDaR/training/TRACKB1/ground_truth\\\\cTDaR_t00896.jpg',\n",
       " './ICDAR/ICDAR2019_cTDaR/training/TRACKB1/ground_truth\\\\cTDaR_t00897.jpg',\n",
       " './ICDAR/ICDAR2019_cTDaR/training/TRACKB1/ground_truth\\\\cTDaR_t00898.jpg',\n",
       " './ICDAR/ICDAR2019_cTDaR/training/TRACKB1/ground_truth\\\\cTDaR_t00899.jpg',\n",
       " './ICDAR/ICDAR2019_cTDaR/training/TRACKB1/ground_truth\\\\cTDaR_t00900.jpg',\n",
       " './ICDAR/ICDAR2019_cTDaR/training/TRACKB1/ground_truth\\\\cTDaR_t00901.jpg',\n",
       " './ICDAR/ICDAR2019_cTDaR/training/TRACKB1/ground_truth\\\\cTDaR_t00902.jpg',\n",
       " './ICDAR/ICDAR2019_cTDaR/training/TRACKB1/ground_truth\\\\cTDaR_t00903.jpg',\n",
       " './ICDAR/ICDAR2019_cTDaR/training/TRACKB1/ground_truth\\\\cTDaR_t00904.jpg',\n",
       " './ICDAR/ICDAR2019_cTDaR/training/TRACKB1/ground_truth\\\\cTDaR_t00905.jpg',\n",
       " './ICDAR/ICDAR2019_cTDaR/training/TRACKB1/ground_truth\\\\cTDaR_t00906.jpg',\n",
       " './ICDAR/ICDAR2019_cTDaR/training/TRACKB1/ground_truth\\\\cTDaR_t00907.jpg',\n",
       " './ICDAR/ICDAR2019_cTDaR/training/TRACKB1/ground_truth\\\\cTDaR_t00908.jpg',\n",
       " './ICDAR/ICDAR2019_cTDaR/training/TRACKB1/ground_truth\\\\cTDaR_t00909.jpg',\n",
       " './ICDAR/ICDAR2019_cTDaR/training/TRACKB1/ground_truth\\\\cTDaR_t00910.jpg',\n",
       " './ICDAR/ICDAR2019_cTDaR/training/TRACKB1/ground_truth\\\\cTDaR_t00911.jpg',\n",
       " './ICDAR/ICDAR2019_cTDaR/training/TRACKB1/ground_truth\\\\cTDaR_t00912.jpg',\n",
       " './ICDAR/ICDAR2019_cTDaR/training/TRACKB1/ground_truth\\\\cTDaR_t00913.jpg',\n",
       " './ICDAR/ICDAR2019_cTDaR/training/TRACKB1/ground_truth\\\\cTDaR_t00914.jpg',\n",
       " './ICDAR/ICDAR2019_cTDaR/training/TRACKB1/ground_truth\\\\cTDaR_t00915.jpg',\n",
       " './ICDAR/ICDAR2019_cTDaR/training/TRACKB1/ground_truth\\\\cTDaR_t00916.jpg',\n",
       " './ICDAR/ICDAR2019_cTDaR/training/TRACKB1/ground_truth\\\\cTDaR_t00917.jpg',\n",
       " './ICDAR/ICDAR2019_cTDaR/training/TRACKB1/ground_truth\\\\cTDaR_t00918.jpg',\n",
       " './ICDAR/ICDAR2019_cTDaR/training/TRACKB1/ground_truth\\\\cTDaR_t00919.jpg',\n",
       " './ICDAR/ICDAR2019_cTDaR/training/TRACKB1/ground_truth\\\\cTDaR_t00920.jpg',\n",
       " './ICDAR/ICDAR2019_cTDaR/training/TRACKB1/ground_truth\\\\cTDaR_t00921.jpg',\n",
       " './ICDAR/ICDAR2019_cTDaR/training/TRACKB1/ground_truth\\\\cTDaR_t00922.jpg',\n",
       " './ICDAR/ICDAR2019_cTDaR/training/TRACKB1/ground_truth\\\\cTDaR_t00923.jpg',\n",
       " './ICDAR/ICDAR2019_cTDaR/training/TRACKB1/ground_truth\\\\cTDaR_t00924.jpg',\n",
       " './ICDAR/ICDAR2019_cTDaR/training/TRACKB1/ground_truth\\\\cTDaR_t00925.jpg',\n",
       " './ICDAR/ICDAR2019_cTDaR/training/TRACKB1/ground_truth\\\\cTDaR_t00926.jpg',\n",
       " './ICDAR/ICDAR2019_cTDaR/training/TRACKB1/ground_truth\\\\cTDaR_t00927.jpg',\n",
       " './ICDAR/ICDAR2019_cTDaR/training/TRACKB1/ground_truth\\\\cTDaR_t00928.jpg',\n",
       " './ICDAR/ICDAR2019_cTDaR/training/TRACKB1/ground_truth\\\\cTDaR_t00929.jpg',\n",
       " './ICDAR/ICDAR2019_cTDaR/training/TRACKB1/ground_truth\\\\cTDaR_t00930.jpg']"
      ]
     },
     "execution_count": 15,
     "metadata": {},
     "output_type": "execute_result"
    }
   ],
   "source": [
    "jpgs"
   ]
  },
  {
   "cell_type": "code",
   "execution_count": null,
   "metadata": {},
   "outputs": [],
   "source": [
    "# Convert a PNG image to JPEG\n",
    "def convert_png_to_jpg(png_file, jpg_file):\n",
    "  \"\"\"Converts a PNG image to a JPEG image.\n",
    "\n",
    "  Args:\n",
    "    png_file: The path to the PNG image file.\n",
    "    jpg_file: The path to the JPEG image file.\n",
    "  \"\"\"\n",
    "\n",
    "  # Open the PNG image.\n",
    "  img = Image.open(png_file)\n",
    "\n",
    "  # Convert the image to JPEG.\n",
    "  img.convert(\"RGB\").save(jpg_file, \"JPEG\")\n",
    "\n",
    "# Convert a TIFF image to JPEG\n",
    "def convert_tiff_to_jpg(tiff_file, jpg_file):\n",
    "  \"\"\"Converts a TIFF image to a JPEG image.\n",
    "\n",
    "  Args:\n",
    "    tiff_file: The path to the TIFF image file.\n",
    "    jpg_file: The path to the JPEG image file.\n",
    "  \"\"\"\n",
    "\n",
    "  # Open the TIFF image.\n",
    "  img = Image.open(tiff_file)\n",
    "\n",
    "  # Convert the image to JPEG.\n",
    "  img.convert(\"RGB\").save(jpg_file, \"JPEG\")\n",
    "\n",
    "# Example usage:\n",
    "\n",
    "# convert_png_to_jpg(\"image.png\", \"image.jpg\")\n",
    "# convert_tiff_to_jpg(\"image.tif\", \"image.jpg\")"
   ]
  },
  {
   "cell_type": "code",
   "execution_count": null,
   "metadata": {},
   "outputs": [],
   "source": [
    "tifs = glob.glob('./ICDAR/ICDAR2019_cTDaR/training/TRACKB1/ground_truth' + '/*.TIFF')\n",
    "pngs = glob.glob('./ICDAR/ICDAR2019_cTDaR/training/TRACKB1/ground_truth' + '/*.png')"
   ]
  },
  {
   "cell_type": "code",
   "execution_count": null,
   "metadata": {},
   "outputs": [],
   "source": [
    "tifs"
   ]
  },
  {
   "cell_type": "code",
   "execution_count": null,
   "metadata": {},
   "outputs": [],
   "source": [
    "for i in tifs:\n",
    "    input_path = i\n",
    "    output_path = input_path.replace('.TIFF', '.jpg')\n",
    "    convert_tiff_to_jpg(input_path, output_path)\n",
    "    print(output_path)"
   ]
  },
  {
   "cell_type": "code",
   "execution_count": null,
   "metadata": {},
   "outputs": [],
   "source": [
    "for i in pngs:\n",
    "    input_path = i\n",
    "    output_path = input_path.replace('.png', '.jpg')\n",
    "    convert_png_to_jpg(input_path, output_path)\n",
    "    print(output_path)"
   ]
  },
  {
   "cell_type": "code",
   "execution_count": null,
   "metadata": {},
   "outputs": [],
   "source": [
    "len(xmls)"
   ]
  },
  {
   "cell_type": "code",
   "execution_count": null,
   "metadata": {},
   "outputs": [],
   "source": [
    "len(jpgs)"
   ]
  },
  {
   "cell_type": "code",
   "execution_count": 16,
   "metadata": {},
   "outputs": [
    {
     "data": {
      "image/png": "[encoded data removed]",
      "text/plain": [
       "<Figure size 1000x500 with 1 Axes>"
      ]
     },
     "metadata": {},
     "output_type": "display_data"
    }
   ],
   "source": [
    "fig = plt.figure(figsize = (10, 5))\n",
    "\n",
    "x = ['XML', 'JPG']\n",
    "y = [len(xmls), len(jpgs)]\n",
    "plt.bar(x, y,width = 0.4)\n",
    "plt.title('Distribution of Image files and Ground Truth')\n",
    "plt.show()"
   ]
  },
  {
   "cell_type": "code",
   "execution_count": 17,
   "metadata": {},
   "outputs": [],
   "source": [
    "new_h, new_w = 1024, 1024"
   ]
  },
  {
   "cell_type": "code",
   "execution_count": 18,
   "metadata": {},
   "outputs": [],
   "source": [
    "def tableplot(resultant, image_path, pathtosave):\n",
    "# Define the size of the bitmap\n",
    "  width, height = get_image_dimensions(image_path)\n",
    "\n",
    "# Create a blank black image\n",
    "  img = Image.new('RGB', (width, height), color='black')\n",
    "  draw = ImageDraw.Draw(img)\n",
    "\n",
    "# Define the closed areas\n",
    "  closed_areas = resultant\n",
    "# Draw the closed areas in white\n",
    "  for area in closed_areas:\n",
    "    draw.polygon(area, fill='white')\n",
    "\n",
    "# Save the image\n",
    "  img.save(pathtosave)\n",
    "\n",
    "def colplot(resultant, image_path, pathtosave):\n",
    "# Define the size of the bitmap\n",
    "  width, height = get_image_dimensions(image_path)\n",
    "\n",
    "# Create a blank black image\n",
    "  img = Image.new('RGB', (width, height), color='black')\n",
    "  draw = ImageDraw.Draw(img)\n",
    "\n",
    "  for result in resultant:\n",
    "  # Define the closed areas\n",
    "    closed_areas = result\n",
    "  # Draw the closed areas in white\n",
    "    for area in closed_areas:\n",
    "      draw.polygon(area, fill='white')\n",
    "\n",
    "# Save the image\n",
    "  img.save(pathtosave)"
   ]
  },
  {
   "cell_type": "markdown",
   "metadata": {},
   "source": [
    "## Data Preprocessing"
   ]
  },
  {
   "cell_type": "code",
   "execution_count": 19,
   "metadata": {},
   "outputs": [],
   "source": [
    "import xml.etree.ElementTree as ET"
   ]
  },
  {
   "cell_type": "code",
   "execution_count": 111,
   "metadata": {},
   "outputs": [],
   "source": [
    "processed_data = []"
   ]
  },
  {
   "cell_type": "code",
   "execution_count": 112,
   "metadata": {},
   "outputs": [
    {
     "name": "stderr",
     "output_type": "stream",
     "text": [
      "1it [00:00,  3.75it/s]"
     ]
    },
    {
     "name": "stdout",
     "output_type": "stream",
     "text": [
      "0 cTDaR_t00000.xml\n"
     ]
    },
    {
     "name": "stderr",
     "output_type": "stream",
     "text": [
      "2it [00:00,  3.60it/s]"
     ]
    },
    {
     "name": "stdout",
     "output_type": "stream",
     "text": [
      "1 cTDaR_t00001.xml\n"
     ]
    },
    {
     "name": "stderr",
     "output_type": "stream",
     "text": [
      "3it [00:00,  3.48it/s]"
     ]
    },
    {
     "name": "stdout",
     "output_type": "stream",
     "text": [
      "2 cTDaR_t00002.xml\n",
      "3 cTDaR_t00003.xml\n"
     ]
    },
    {
     "name": "stderr",
     "output_type": "stream",
     "text": [
      "4it [00:01,  3.34it/s]"
     ]
    },
    {
     "name": "stdout",
     "output_type": "stream",
     "text": [
      "4 cTDaR_t00004.xml\n"
     ]
    },
    {
     "name": "stderr",
     "output_type": "stream",
     "text": [
      "5it [00:01,  3.36it/s]"
     ]
    },
    {
     "name": "stdout",
     "output_type": "stream",
     "text": [
      "5 cTDaR_t00005.xml\n"
     ]
    },
    {
     "name": "stderr",
     "output_type": "stream",
     "text": [
      "6it [00:01,  3.31it/s]"
     ]
    },
    {
     "name": "stdout",
     "output_type": "stream",
     "text": [
      "6 cTDaR_t00006.xml\n"
     ]
    },
    {
     "name": "stderr",
     "output_type": "stream",
     "text": [
      "8it [00:02,  2.93it/s]"
     ]
    },
    {
     "name": "stdout",
     "output_type": "stream",
     "text": [
      "7 cTDaR_t00007.xml\n"
     ]
    },
    {
     "name": "stderr",
     "output_type": "stream",
     "text": [
      "9it [00:02,  3.17it/s]"
     ]
    },
    {
     "name": "stdout",
     "output_type": "stream",
     "text": [
      "8 cTDaR_t00008.xml\n"
     ]
    },
    {
     "name": "stderr",
     "output_type": "stream",
     "text": [
      "10it [00:03,  3.31it/s]"
     ]
    },
    {
     "name": "stdout",
     "output_type": "stream",
     "text": [
      "9 cTDaR_t00009.xml\n"
     ]
    },
    {
     "name": "stderr",
     "output_type": "stream",
     "text": [
      "11it [00:03,  3.27it/s]"
     ]
    },
    {
     "name": "stdout",
     "output_type": "stream",
     "text": [
      "10 cTDaR_t00010.xml\n"
     ]
    },
    {
     "name": "stderr",
     "output_type": "stream",
     "text": [
      "12it [00:03,  3.00it/s]"
     ]
    },
    {
     "name": "stdout",
     "output_type": "stream",
     "text": [
      "11 cTDaR_t00018.xml\n",
      "12 cTDaR_t00019.xml\n"
     ]
    },
    {
     "name": "stderr",
     "output_type": "stream",
     "text": [
      "13it [00:04,  2.53it/s]"
     ]
    },
    {
     "name": "stdout",
     "output_type": "stream",
     "text": [
      "13 cTDaR_t00020.xml\n",
      "!!!!!!!!!!!!!!!!!!!!works!!!!!!!!!!!!!!!!!!!!!\n"
     ]
    },
    {
     "name": "stderr",
     "output_type": "stream",
     "text": [
      "15it [00:05,  2.69it/s]"
     ]
    },
    {
     "name": "stdout",
     "output_type": "stream",
     "text": [
      "14 cTDaR_t00021.xml\n",
      "!!!!!!!!!!!!!!!!!!!!works!!!!!!!!!!!!!!!!!!!!!\n"
     ]
    },
    {
     "name": "stderr",
     "output_type": "stream",
     "text": [
      "16it [00:05,  3.23it/s]"
     ]
    },
    {
     "name": "stdout",
     "output_type": "stream",
     "text": [
      "15 cTDaR_t00022.xml\n",
      "16 cTDaR_t00023.xml\n",
      "!!!!!!!!!!!!!!!!!!!!works!!!!!!!!!!!!!!!!!!!!!\n"
     ]
    },
    {
     "name": "stderr",
     "output_type": "stream",
     "text": [
      "17it [00:05,  2.77it/s]"
     ]
    },
    {
     "name": "stdout",
     "output_type": "stream",
     "text": [
      "17 cTDaR_t00024.xml\n",
      "!!!!!!!!!!!!!!!!!!!!works!!!!!!!!!!!!!!!!!!!!!\n"
     ]
    },
    {
     "name": "stderr",
     "output_type": "stream",
     "text": [
      "19it [00:06,  2.39it/s]"
     ]
    },
    {
     "name": "stdout",
     "output_type": "stream",
     "text": [
      "18 cTDaR_t00025.xml\n",
      "!!!!!!!!!!!!!!!!!!!!works!!!!!!!!!!!!!!!!!!!!!\n"
     ]
    },
    {
     "name": "stderr",
     "output_type": "stream",
     "text": [
      "20it [00:06,  2.61it/s]"
     ]
    },
    {
     "name": "stdout",
     "output_type": "stream",
     "text": [
      "19 cTDaR_t00026.xml\n",
      "20 cTDaR_t00027.xml\n",
      "!!!!!!!!!!!!!!!!!!!!works!!!!!!!!!!!!!!!!!!!!!\n"
     ]
    },
    {
     "name": "stderr",
     "output_type": "stream",
     "text": [
      "21it [00:07,  2.07it/s]"
     ]
    },
    {
     "name": "stdout",
     "output_type": "stream",
     "text": [
      "21 cTDaR_t00028.xml\n",
      "!!!!!!!!!!!!!!!!!!!!works!!!!!!!!!!!!!!!!!!!!!\n"
     ]
    },
    {
     "name": "stderr",
     "output_type": "stream",
     "text": [
      "23it [00:08,  2.13it/s]"
     ]
    },
    {
     "name": "stdout",
     "output_type": "stream",
     "text": [
      "22 cTDaR_t00029.xml\n",
      "!!!!!!!!!!!!!!!!!!!!works!!!!!!!!!!!!!!!!!!!!!\n"
     ]
    },
    {
     "name": "stderr",
     "output_type": "stream",
     "text": [
      "24it [00:09,  2.26it/s]"
     ]
    },
    {
     "name": "stdout",
     "output_type": "stream",
     "text": [
      "23 cTDaR_t00030.xml\n"
     ]
    },
    {
     "name": "stderr",
     "output_type": "stream",
     "text": [
      "25it [00:09,  2.38it/s]"
     ]
    },
    {
     "name": "stdout",
     "output_type": "stream",
     "text": [
      "24 cTDaR_t00031.xml\n",
      "!!!!!!!!!!!!!!!!!!!!works!!!!!!!!!!!!!!!!!!!!!\n",
      "25 cTDaR_t00032.xml\n",
      "!!!!!!!!!!!!!!!!!!!!works!!!!!!!!!!!!!!!!!!!!!\n"
     ]
    },
    {
     "name": "stderr",
     "output_type": "stream",
     "text": [
      "27it [00:10,  2.74it/s]"
     ]
    },
    {
     "name": "stdout",
     "output_type": "stream",
     "text": [
      "26 cTDaR_t00033.xml\n"
     ]
    },
    {
     "name": "stderr",
     "output_type": "stream",
     "text": [
      "28it [00:10,  2.85it/s]"
     ]
    },
    {
     "name": "stdout",
     "output_type": "stream",
     "text": [
      "27 cTDaR_t00034.xml\n"
     ]
    },
    {
     "name": "stderr",
     "output_type": "stream",
     "text": [
      "29it [00:10,  2.53it/s]"
     ]
    },
    {
     "name": "stdout",
     "output_type": "stream",
     "text": [
      "28 cTDaR_t00035.xml\n"
     ]
    },
    {
     "name": "stderr",
     "output_type": "stream",
     "text": [
      "30it [00:11,  2.92it/s]"
     ]
    },
    {
     "name": "stdout",
     "output_type": "stream",
     "text": [
      "29 cTDaR_t00036.xml\n"
     ]
    },
    {
     "name": "stderr",
     "output_type": "stream",
     "text": [
      "31it [00:11,  2.68it/s]"
     ]
    },
    {
     "name": "stdout",
     "output_type": "stream",
     "text": [
      "30 cTDaR_t00037.xml\n"
     ]
    },
    {
     "name": "stderr",
     "output_type": "stream",
     "text": [
      "32it [00:11,  3.15it/s]"
     ]
    },
    {
     "name": "stdout",
     "output_type": "stream",
     "text": [
      "31 cTDaR_t00038.xml\n"
     ]
    },
    {
     "name": "stderr",
     "output_type": "stream",
     "text": [
      "33it [00:11,  3.49it/s]"
     ]
    },
    {
     "name": "stdout",
     "output_type": "stream",
     "text": [
      "32 cTDaR_t00039.xml\n",
      "33 cTDaR_t00040.xml\n"
     ]
    },
    {
     "name": "stderr",
     "output_type": "stream",
     "text": [
      "35it [00:12,  4.16it/s]"
     ]
    },
    {
     "name": "stdout",
     "output_type": "stream",
     "text": [
      "34 cTDaR_t00041.xml\n"
     ]
    },
    {
     "name": "stderr",
     "output_type": "stream",
     "text": [
      "36it [00:12,  3.73it/s]"
     ]
    },
    {
     "name": "stdout",
     "output_type": "stream",
     "text": [
      "35 cTDaR_t00042.xml\n",
      "36 cTDaR_t00043.xml\n",
      "!!!!!!!!!!!!!!!!!!!!works!!!!!!!!!!!!!!!!!!!!!\n"
     ]
    },
    {
     "name": "stderr",
     "output_type": "stream",
     "text": [
      "37it [00:13,  2.90it/s]"
     ]
    },
    {
     "name": "stdout",
     "output_type": "stream",
     "text": [
      "37 cTDaR_t00044.xml\n",
      "!!!!!!!!!!!!!!!!!!!!works!!!!!!!!!!!!!!!!!!!!!\n"
     ]
    },
    {
     "name": "stderr",
     "output_type": "stream",
     "text": [
      "39it [00:14,  2.65it/s]"
     ]
    },
    {
     "name": "stdout",
     "output_type": "stream",
     "text": [
      "38 cTDaR_t00045.xml\n",
      "!!!!!!!!!!!!!!!!!!!!works!!!!!!!!!!!!!!!!!!!!!\n",
      "39 cTDaR_t00046.xml\n"
     ]
    },
    {
     "name": "stderr",
     "output_type": "stream",
     "text": [
      "41it [00:14,  2.41it/s]"
     ]
    },
    {
     "name": "stdout",
     "output_type": "stream",
     "text": [
      "40 cTDaR_t00047.xml\n",
      "!!!!!!!!!!!!!!!!!!!!works!!!!!!!!!!!!!!!!!!!!!\n"
     ]
    },
    {
     "name": "stderr",
     "output_type": "stream",
     "text": [
      "42it [00:15,  2.25it/s]"
     ]
    },
    {
     "name": "stdout",
     "output_type": "stream",
     "text": [
      "41 cTDaR_t00048.xml\n",
      "42 cTDaR_t00049.xml\n",
      "!!!!!!!!!!!!!!!!!!!!works!!!!!!!!!!!!!!!!!!!!!\n"
     ]
    },
    {
     "name": "stderr",
     "output_type": "stream",
     "text": [
      "43it [00:16,  2.10it/s]"
     ]
    },
    {
     "name": "stdout",
     "output_type": "stream",
     "text": [
      "43 cTDaR_t00050.xml\n",
      "!!!!!!!!!!!!!!!!!!!!works!!!!!!!!!!!!!!!!!!!!!\n"
     ]
    },
    {
     "name": "stderr",
     "output_type": "stream",
     "text": [
      "45it [00:17,  1.65it/s]"
     ]
    },
    {
     "name": "stdout",
     "output_type": "stream",
     "text": [
      "44 cTDaR_t00051.xml\n",
      "45 cTDaR_t00052.xml\n",
      "!!!!!!!!!!!!!!!!!!!!works!!!!!!!!!!!!!!!!!!!!!\n"
     ]
    },
    {
     "name": "stderr",
     "output_type": "stream",
     "text": [
      "47it [00:18,  1.81it/s]"
     ]
    },
    {
     "name": "stdout",
     "output_type": "stream",
     "text": [
      "46 cTDaR_t00053.xml\n"
     ]
    },
    {
     "name": "stderr",
     "output_type": "stream",
     "text": [
      "48it [00:18,  1.99it/s]"
     ]
    },
    {
     "name": "stdout",
     "output_type": "stream",
     "text": [
      "47 cTDaR_t00054.xml\n",
      "!!!!!!!!!!!!!!!!!!!!works!!!!!!!!!!!!!!!!!!!!!\n",
      "48 cTDaR_t00055.xml\n",
      "!!!!!!!!!!!!!!!!!!!!works!!!!!!!!!!!!!!!!!!!!!\n"
     ]
    },
    {
     "name": "stderr",
     "output_type": "stream",
     "text": [
      "49it [00:19,  1.96it/s]"
     ]
    },
    {
     "name": "stdout",
     "output_type": "stream",
     "text": [
      "49 cTDaR_t00056.xml\n",
      "!!!!!!!!!!!!!!!!!!!!works!!!!!!!!!!!!!!!!!!!!!\n"
     ]
    },
    {
     "name": "stderr",
     "output_type": "stream",
     "text": [
      "51it [00:20,  2.28it/s]"
     ]
    },
    {
     "name": "stdout",
     "output_type": "stream",
     "text": [
      "50 cTDaR_t00057.xml\n"
     ]
    },
    {
     "name": "stderr",
     "output_type": "stream",
     "text": [
      "52it [00:20,  2.33it/s]"
     ]
    },
    {
     "name": "stdout",
     "output_type": "stream",
     "text": [
      "51 cTDaR_t00058.xml\n",
      "!!!!!!!!!!!!!!!!!!!!works!!!!!!!!!!!!!!!!!!!!!\n"
     ]
    },
    {
     "name": "stderr",
     "output_type": "stream",
     "text": [
      "53it [00:20,  2.48it/s]"
     ]
    },
    {
     "name": "stdout",
     "output_type": "stream",
     "text": [
      "52 cTDaR_t00059.xml\n",
      "!!!!!!!!!!!!!!!!!!!!works!!!!!!!!!!!!!!!!!!!!!\n"
     ]
    },
    {
     "name": "stderr",
     "output_type": "stream",
     "text": [
      "54it [00:21,  2.84it/s]"
     ]
    },
    {
     "name": "stdout",
     "output_type": "stream",
     "text": [
      "53 cTDaR_t00060.xml\n"
     ]
    },
    {
     "name": "stderr",
     "output_type": "stream",
     "text": [
      "55it [00:21,  2.48it/s]"
     ]
    },
    {
     "name": "stdout",
     "output_type": "stream",
     "text": [
      "54 cTDaR_t00061.xml\n",
      "!!!!!!!!!!!!!!!!!!!!works!!!!!!!!!!!!!!!!!!!!!\n",
      "55 cTDaR_t00062.xml\n"
     ]
    },
    {
     "name": "stderr",
     "output_type": "stream",
     "text": [
      "56it [00:22,  2.31it/s]"
     ]
    },
    {
     "name": "stdout",
     "output_type": "stream",
     "text": [
      "56 cTDaR_t00063.xml\n"
     ]
    },
    {
     "name": "stderr",
     "output_type": "stream",
     "text": [
      "58it [00:23,  2.18it/s]"
     ]
    },
    {
     "name": "stdout",
     "output_type": "stream",
     "text": [
      "57 cTDaR_t00064.xml\n",
      "!!!!!!!!!!!!!!!!!!!!works!!!!!!!!!!!!!!!!!!!!!\n"
     ]
    },
    {
     "name": "stderr",
     "output_type": "stream",
     "text": [
      "59it [00:23,  2.15it/s]"
     ]
    },
    {
     "name": "stdout",
     "output_type": "stream",
     "text": [
      "58 cTDaR_t00065.xml\n",
      "!!!!!!!!!!!!!!!!!!!!works!!!!!!!!!!!!!!!!!!!!!\n",
      "59 cTDaR_t00066.xml\n",
      "!!!!!!!!!!!!!!!!!!!!works!!!!!!!!!!!!!!!!!!!!!\n"
     ]
    },
    {
     "name": "stderr",
     "output_type": "stream",
     "text": [
      "61it [00:24,  2.01it/s]"
     ]
    },
    {
     "name": "stdout",
     "output_type": "stream",
     "text": [
      "60 cTDaR_t00067.xml\n"
     ]
    },
    {
     "name": "stderr",
     "output_type": "stream",
     "text": [
      "62it [00:25,  2.27it/s]"
     ]
    },
    {
     "name": "stdout",
     "output_type": "stream",
     "text": [
      "61 cTDaR_t00068.xml\n",
      "!!!!!!!!!!!!!!!!!!!!works!!!!!!!!!!!!!!!!!!!!!\n",
      "62 cTDaR_t00069.xml\n",
      "!!!!!!!!!!!!!!!!!!!!works!!!!!!!!!!!!!!!!!!!!!\n"
     ]
    },
    {
     "name": "stderr",
     "output_type": "stream",
     "text": [
      "64it [00:26,  2.21it/s]"
     ]
    },
    {
     "name": "stdout",
     "output_type": "stream",
     "text": [
      "63 cTDaR_t00070.xml\n"
     ]
    },
    {
     "name": "stderr",
     "output_type": "stream",
     "text": [
      "65it [00:26,  2.31it/s]"
     ]
    },
    {
     "name": "stdout",
     "output_type": "stream",
     "text": [
      "64 cTDaR_t00091.xml\n",
      "!!!!!!!!!!!!!!!!!!!!works!!!!!!!!!!!!!!!!!!!!!\n"
     ]
    },
    {
     "name": "stderr",
     "output_type": "stream",
     "text": [
      "66it [00:26,  2.40it/s]"
     ]
    },
    {
     "name": "stdout",
     "output_type": "stream",
     "text": [
      "65 cTDaR_t00092.xml\n",
      "!!!!!!!!!!!!!!!!!!!!works!!!!!!!!!!!!!!!!!!!!!\n"
     ]
    },
    {
     "name": "stderr",
     "output_type": "stream",
     "text": [
      "67it [00:27,  2.46it/s]"
     ]
    },
    {
     "name": "stdout",
     "output_type": "stream",
     "text": [
      "66 cTDaR_t00093.xml\n",
      "!!!!!!!!!!!!!!!!!!!!works!!!!!!!!!!!!!!!!!!!!!\n"
     ]
    },
    {
     "name": "stderr",
     "output_type": "stream",
     "text": [
      "68it [00:27,  2.50it/s]"
     ]
    },
    {
     "name": "stdout",
     "output_type": "stream",
     "text": [
      "67 cTDaR_t00094.xml\n",
      "!!!!!!!!!!!!!!!!!!!!works!!!!!!!!!!!!!!!!!!!!!\n"
     ]
    },
    {
     "name": "stderr",
     "output_type": "stream",
     "text": [
      "69it [00:28,  2.54it/s]"
     ]
    },
    {
     "name": "stdout",
     "output_type": "stream",
     "text": [
      "68 cTDaR_t00095.xml\n",
      "!!!!!!!!!!!!!!!!!!!!works!!!!!!!!!!!!!!!!!!!!!\n"
     ]
    },
    {
     "name": "stderr",
     "output_type": "stream",
     "text": [
      "70it [00:28,  2.57it/s]"
     ]
    },
    {
     "name": "stdout",
     "output_type": "stream",
     "text": [
      "69 cTDaR_t00096.xml\n",
      "!!!!!!!!!!!!!!!!!!!!works!!!!!!!!!!!!!!!!!!!!!\n"
     ]
    },
    {
     "name": "stderr",
     "output_type": "stream",
     "text": [
      "71it [00:28,  2.65it/s]"
     ]
    },
    {
     "name": "stdout",
     "output_type": "stream",
     "text": [
      "70 cTDaR_t00097.xml\n",
      "!!!!!!!!!!!!!!!!!!!!works!!!!!!!!!!!!!!!!!!!!!\n",
      "71 cTDaR_t00098.xml\n",
      "!!!!!!!!!!!!!!!!!!!!works!!!!!!!!!!!!!!!!!!!!!\n"
     ]
    },
    {
     "name": "stderr",
     "output_type": "stream",
     "text": [
      "72it [00:29,  2.30it/s]"
     ]
    },
    {
     "name": "stdout",
     "output_type": "stream",
     "text": [
      "72 cTDaR_t00099.xml\n",
      "!!!!!!!!!!!!!!!!!!!!works!!!!!!!!!!!!!!!!!!!!!\n"
     ]
    },
    {
     "name": "stderr",
     "output_type": "stream",
     "text": [
      "73it [00:29,  2.04it/s]"
     ]
    },
    {
     "name": "stdout",
     "output_type": "stream",
     "text": [
      "73 cTDaR_t00100.xml\n",
      "!!!!!!!!!!!!!!!!!!!!works!!!!!!!!!!!!!!!!!!!!!\n"
     ]
    },
    {
     "name": "stderr",
     "output_type": "stream",
     "text": [
      "75it [00:30,  2.16it/s]"
     ]
    },
    {
     "name": "stdout",
     "output_type": "stream",
     "text": [
      "74 cTDaR_t00101.xml\n",
      "!!!!!!!!!!!!!!!!!!!!works!!!!!!!!!!!!!!!!!!!!!\n"
     ]
    },
    {
     "name": "stderr",
     "output_type": "stream",
     "text": [
      "76it [00:31,  2.47it/s]"
     ]
    },
    {
     "name": "stdout",
     "output_type": "stream",
     "text": [
      "75 cTDaR_t00116.xml\n"
     ]
    },
    {
     "name": "stderr",
     "output_type": "stream",
     "text": [
      "77it [00:31,  2.69it/s]"
     ]
    },
    {
     "name": "stdout",
     "output_type": "stream",
     "text": [
      "76 cTDaR_t00117.xml\n"
     ]
    },
    {
     "name": "stderr",
     "output_type": "stream",
     "text": [
      "78it [00:31,  2.94it/s]"
     ]
    },
    {
     "name": "stdout",
     "output_type": "stream",
     "text": [
      "77 cTDaR_t00118.xml\n"
     ]
    },
    {
     "name": "stderr",
     "output_type": "stream",
     "text": [
      "79it [00:31,  3.02it/s]"
     ]
    },
    {
     "name": "stdout",
     "output_type": "stream",
     "text": [
      "78 cTDaR_t00119.xml\n"
     ]
    },
    {
     "name": "stderr",
     "output_type": "stream",
     "text": [
      "80it [00:32,  3.14it/s]"
     ]
    },
    {
     "name": "stdout",
     "output_type": "stream",
     "text": [
      "79 cTDaR_t00120.xml\n"
     ]
    },
    {
     "name": "stderr",
     "output_type": "stream",
     "text": [
      "81it [00:32,  3.28it/s]"
     ]
    },
    {
     "name": "stdout",
     "output_type": "stream",
     "text": [
      "80 cTDaR_t00121.xml\n"
     ]
    },
    {
     "name": "stderr",
     "output_type": "stream",
     "text": [
      "82it [00:32,  3.40it/s]"
     ]
    },
    {
     "name": "stdout",
     "output_type": "stream",
     "text": [
      "81 cTDaR_t00122.xml\n",
      "82 cTDaR_t00125.xml\n"
     ]
    },
    {
     "name": "stderr",
     "output_type": "stream",
     "text": [
      "83it [00:33,  1.77it/s]"
     ]
    },
    {
     "name": "stdout",
     "output_type": "stream",
     "text": [
      "83 cTDaR_t00126.xml\n"
     ]
    },
    {
     "name": "stderr",
     "output_type": "stream",
     "text": [
      "84it [00:35,  1.28it/s]"
     ]
    },
    {
     "name": "stdout",
     "output_type": "stream",
     "text": [
      "84 cTDaR_t00127.xml\n"
     ]
    },
    {
     "name": "stderr",
     "output_type": "stream",
     "text": [
      "85it [00:36,  1.07it/s]"
     ]
    },
    {
     "name": "stdout",
     "output_type": "stream",
     "text": [
      "85 cTDaR_t00128.xml\n"
     ]
    },
    {
     "name": "stderr",
     "output_type": "stream",
     "text": [
      "86it [00:37,  1.00it/s]"
     ]
    },
    {
     "name": "stdout",
     "output_type": "stream",
     "text": [
      "86 cTDaR_t00129.xml\n"
     ]
    },
    {
     "name": "stderr",
     "output_type": "stream",
     "text": [
      "87it [00:39,  1.11s/it]"
     ]
    },
    {
     "name": "stdout",
     "output_type": "stream",
     "text": [
      "87 cTDaR_t00130.xml\n"
     ]
    },
    {
     "name": "stderr",
     "output_type": "stream",
     "text": [
      "88it [00:40,  1.12s/it]"
     ]
    },
    {
     "name": "stdout",
     "output_type": "stream",
     "text": [
      "88 cTDaR_t00131.xml\n"
     ]
    },
    {
     "name": "stderr",
     "output_type": "stream",
     "text": [
      "89it [00:41,  1.18s/it]"
     ]
    },
    {
     "name": "stdout",
     "output_type": "stream",
     "text": [
      "89 cTDaR_t00132.xml\n"
     ]
    },
    {
     "name": "stderr",
     "output_type": "stream",
     "text": [
      "90it [00:42,  1.18s/it]"
     ]
    },
    {
     "name": "stdout",
     "output_type": "stream",
     "text": [
      "90 cTDaR_t00133.xml\n"
     ]
    },
    {
     "name": "stderr",
     "output_type": "stream",
     "text": [
      "91it [00:44,  1.24s/it]"
     ]
    },
    {
     "name": "stdout",
     "output_type": "stream",
     "text": [
      "91 cTDaR_t00134.xml\n"
     ]
    },
    {
     "name": "stderr",
     "output_type": "stream",
     "text": [
      "92it [00:45,  1.21s/it]"
     ]
    },
    {
     "name": "stdout",
     "output_type": "stream",
     "text": [
      "92 cTDaR_t00135.xml\n"
     ]
    },
    {
     "name": "stderr",
     "output_type": "stream",
     "text": [
      "93it [00:46,  1.21s/it]"
     ]
    },
    {
     "name": "stdout",
     "output_type": "stream",
     "text": [
      "93 cTDaR_t00136.xml\n"
     ]
    },
    {
     "name": "stderr",
     "output_type": "stream",
     "text": [
      "94it [00:47,  1.26s/it]"
     ]
    },
    {
     "name": "stdout",
     "output_type": "stream",
     "text": [
      "94 cTDaR_t00137.xml\n"
     ]
    },
    {
     "name": "stderr",
     "output_type": "stream",
     "text": [
      "95it [00:49,  1.29s/it]"
     ]
    },
    {
     "name": "stdout",
     "output_type": "stream",
     "text": [
      "95 cTDaR_t00138.xml\n"
     ]
    },
    {
     "name": "stderr",
     "output_type": "stream",
     "text": [
      "96it [00:50,  1.30s/it]"
     ]
    },
    {
     "name": "stdout",
     "output_type": "stream",
     "text": [
      "96 cTDaR_t00139.xml\n"
     ]
    },
    {
     "name": "stderr",
     "output_type": "stream",
     "text": [
      "97it [00:51,  1.33s/it]"
     ]
    },
    {
     "name": "stdout",
     "output_type": "stream",
     "text": [
      "97 cTDaR_t00140.xml\n"
     ]
    },
    {
     "name": "stderr",
     "output_type": "stream",
     "text": [
      "98it [00:53,  1.27s/it]"
     ]
    },
    {
     "name": "stdout",
     "output_type": "stream",
     "text": [
      "98 cTDaR_t00141.xml\n"
     ]
    },
    {
     "name": "stderr",
     "output_type": "stream",
     "text": [
      "99it [00:54,  1.30s/it]"
     ]
    },
    {
     "name": "stdout",
     "output_type": "stream",
     "text": [
      "99 cTDaR_t00142.xml\n"
     ]
    },
    {
     "name": "stderr",
     "output_type": "stream",
     "text": [
      "100it [00:55,  1.26s/it]"
     ]
    },
    {
     "name": "stdout",
     "output_type": "stream",
     "text": [
      "100 cTDaR_t00143.xml\n"
     ]
    },
    {
     "name": "stderr",
     "output_type": "stream",
     "text": [
      "101it [00:56,  1.25s/it]"
     ]
    },
    {
     "name": "stdout",
     "output_type": "stream",
     "text": [
      "101 cTDaR_t00144.xml\n"
     ]
    },
    {
     "name": "stderr",
     "output_type": "stream",
     "text": [
      "102it [00:58,  1.24s/it]"
     ]
    },
    {
     "name": "stdout",
     "output_type": "stream",
     "text": [
      "102 cTDaR_t00145.xml\n"
     ]
    },
    {
     "name": "stderr",
     "output_type": "stream",
     "text": [
      "103it [00:59,  1.23s/it]"
     ]
    },
    {
     "name": "stdout",
     "output_type": "stream",
     "text": [
      "103 cTDaR_t00167.xml\n"
     ]
    },
    {
     "name": "stderr",
     "output_type": "stream",
     "text": [
      "104it [00:59,  1.08s/it]"
     ]
    },
    {
     "name": "stdout",
     "output_type": "stream",
     "text": [
      "104 cTDaR_t00168.xml\n"
     ]
    },
    {
     "name": "stderr",
     "output_type": "stream",
     "text": [
      "105it [01:00,  1.01it/s]"
     ]
    },
    {
     "name": "stdout",
     "output_type": "stream",
     "text": [
      "105 cTDaR_t00169.xml\n"
     ]
    },
    {
     "name": "stderr",
     "output_type": "stream",
     "text": [
      "107it [01:02,  1.19it/s]"
     ]
    },
    {
     "name": "stdout",
     "output_type": "stream",
     "text": [
      "106 cTDaR_t00170.xml\n",
      "107 cTDaR_t00171.xml\n"
     ]
    },
    {
     "name": "stderr",
     "output_type": "stream",
     "text": [
      "108it [01:02,  1.24it/s]"
     ]
    },
    {
     "name": "stdout",
     "output_type": "stream",
     "text": [
      "108 cTDaR_t00172.xml\n"
     ]
    },
    {
     "name": "stderr",
     "output_type": "stream",
     "text": [
      "109it [01:04,  1.14it/s]"
     ]
    },
    {
     "name": "stdout",
     "output_type": "stream",
     "text": [
      "109 cTDaR_t00173.xml\n"
     ]
    },
    {
     "name": "stderr",
     "output_type": "stream",
     "text": [
      "110it [01:05,  1.13s/it]"
     ]
    },
    {
     "name": "stdout",
     "output_type": "stream",
     "text": [
      "110 cTDaR_t00174.xml\n",
      "!!!!!!!!!!!!!!!!!!!!works!!!!!!!!!!!!!!!!!!!!!\n"
     ]
    },
    {
     "name": "stderr",
     "output_type": "stream",
     "text": [
      "112it [01:07,  1.04it/s]"
     ]
    },
    {
     "name": "stdout",
     "output_type": "stream",
     "text": [
      "111 cTDaR_t00177.xml\n",
      "112 cTDaR_t00178.xml\n"
     ]
    },
    {
     "name": "stderr",
     "output_type": "stream",
     "text": [
      "113it [01:07,  1.20it/s]"
     ]
    },
    {
     "name": "stdout",
     "output_type": "stream",
     "text": [
      "113 cTDaR_t00179.xml\n"
     ]
    },
    {
     "name": "stderr",
     "output_type": "stream",
     "text": [
      "114it [01:08,  1.28it/s]"
     ]
    },
    {
     "name": "stdout",
     "output_type": "stream",
     "text": [
      "114 cTDaR_t00180.xml\n"
     ]
    },
    {
     "name": "stderr",
     "output_type": "stream",
     "text": [
      "115it [01:09,  1.30it/s]"
     ]
    },
    {
     "name": "stdout",
     "output_type": "stream",
     "text": [
      "115 cTDaR_t00181.xml\n"
     ]
    },
    {
     "name": "stderr",
     "output_type": "stream",
     "text": [
      "117it [01:10,  1.68it/s]"
     ]
    },
    {
     "name": "stdout",
     "output_type": "stream",
     "text": [
      "116 cTDaR_t00182.xml\n"
     ]
    },
    {
     "name": "stderr",
     "output_type": "stream",
     "text": [
      "118it [01:10,  1.90it/s]"
     ]
    },
    {
     "name": "stdout",
     "output_type": "stream",
     "text": [
      "117 cTDaR_t00183.xml\n",
      "118 cTDaR_t00184.xml\n"
     ]
    },
    {
     "name": "stderr",
     "output_type": "stream",
     "text": [
      "120it [01:11,  2.19it/s]"
     ]
    },
    {
     "name": "stdout",
     "output_type": "stream",
     "text": [
      "119 cTDaR_t00185.xml\n",
      "120 cTDaR_t00186.xml\n"
     ]
    },
    {
     "name": "stderr",
     "output_type": "stream",
     "text": [
      "122it [01:12,  2.46it/s]"
     ]
    },
    {
     "name": "stdout",
     "output_type": "stream",
     "text": [
      "121 cTDaR_t00187.xml\n"
     ]
    },
    {
     "name": "stderr",
     "output_type": "stream",
     "text": [
      "123it [01:12,  2.60it/s]"
     ]
    },
    {
     "name": "stdout",
     "output_type": "stream",
     "text": [
      "122 cTDaR_t00188.xml\n"
     ]
    },
    {
     "name": "stderr",
     "output_type": "stream",
     "text": [
      "124it [01:12,  2.66it/s]"
     ]
    },
    {
     "name": "stdout",
     "output_type": "stream",
     "text": [
      "123 cTDaR_t00189.xml\n",
      "124 cTDaR_t00190.xml\n"
     ]
    },
    {
     "name": "stderr",
     "output_type": "stream",
     "text": [
      "125it [01:13,  2.45it/s]"
     ]
    },
    {
     "name": "stdout",
     "output_type": "stream",
     "text": [
      "125 cTDaR_t00191.xml\n",
      "!!!!!!!!!!!!!!!!!!!!works!!!!!!!!!!!!!!!!!!!!!\n",
      "!!!!!!!!!!!!!!!!!!!!works!!!!!!!!!!!!!!!!!!!!!\n",
      "!!!!!!!!!!!!!!!!!!!!works!!!!!!!!!!!!!!!!!!!!!\n",
      "!!!!!!!!!!!!!!!!!!!!works!!!!!!!!!!!!!!!!!!!!!\n"
     ]
    },
    {
     "name": "stderr",
     "output_type": "stream",
     "text": [
      "126it [01:13,  2.16it/s]"
     ]
    },
    {
     "name": "stdout",
     "output_type": "stream",
     "text": [
      "126 cTDaR_t00192.xml\n"
     ]
    },
    {
     "name": "stderr",
     "output_type": "stream",
     "text": [
      "127it [01:14,  1.68it/s]"
     ]
    },
    {
     "name": "stdout",
     "output_type": "stream",
     "text": [
      "127 cTDaR_t00198.xml\n"
     ]
    },
    {
     "name": "stderr",
     "output_type": "stream",
     "text": [
      "128it [01:15,  1.88it/s]"
     ]
    },
    {
     "name": "stdout",
     "output_type": "stream",
     "text": [
      "128 cTDaR_t00199.xml\n"
     ]
    },
    {
     "name": "stderr",
     "output_type": "stream",
     "text": [
      "129it [01:16,  1.25it/s]"
     ]
    },
    {
     "name": "stdout",
     "output_type": "stream",
     "text": [
      "129 cTDaR_t00200.xml\n"
     ]
    },
    {
     "name": "stderr",
     "output_type": "stream",
     "text": [
      "130it [01:17,  1.29it/s]"
     ]
    },
    {
     "name": "stdout",
     "output_type": "stream",
     "text": [
      "130 cTDaR_t00201.xml\n"
     ]
    },
    {
     "name": "stderr",
     "output_type": "stream",
     "text": [
      "131it [01:18,  1.29it/s]"
     ]
    },
    {
     "name": "stdout",
     "output_type": "stream",
     "text": [
      "131 cTDaR_t00202.xml\n"
     ]
    },
    {
     "name": "stderr",
     "output_type": "stream",
     "text": [
      "132it [01:18,  1.27it/s]"
     ]
    },
    {
     "name": "stdout",
     "output_type": "stream",
     "text": [
      "132 cTDaR_t00203.xml\n"
     ]
    },
    {
     "name": "stderr",
     "output_type": "stream",
     "text": [
      "133it [01:19,  1.31it/s]"
     ]
    },
    {
     "name": "stdout",
     "output_type": "stream",
     "text": [
      "133 cTDaR_t00204.xml\n"
     ]
    },
    {
     "name": "stderr",
     "output_type": "stream",
     "text": [
      "134it [01:20,  1.25it/s]"
     ]
    },
    {
     "name": "stdout",
     "output_type": "stream",
     "text": [
      "134 cTDaR_t00205.xml\n"
     ]
    },
    {
     "name": "stderr",
     "output_type": "stream",
     "text": [
      "135it [01:21,  1.23it/s]"
     ]
    },
    {
     "name": "stdout",
     "output_type": "stream",
     "text": [
      "135 cTDaR_t00206.xml\n"
     ]
    },
    {
     "name": "stderr",
     "output_type": "stream",
     "text": [
      "136it [01:22,  1.20it/s]"
     ]
    },
    {
     "name": "stdout",
     "output_type": "stream",
     "text": [
      "136 cTDaR_t00207.xml\n"
     ]
    },
    {
     "name": "stderr",
     "output_type": "stream",
     "text": [
      "137it [01:23,  1.21it/s]"
     ]
    },
    {
     "name": "stdout",
     "output_type": "stream",
     "text": [
      "137 cTDaR_t00208.xml\n"
     ]
    },
    {
     "name": "stderr",
     "output_type": "stream",
     "text": [
      "138it [01:23,  1.19it/s]"
     ]
    },
    {
     "name": "stdout",
     "output_type": "stream",
     "text": [
      "138 cTDaR_t00209.xml\n"
     ]
    },
    {
     "name": "stderr",
     "output_type": "stream",
     "text": [
      "139it [01:24,  1.16it/s]"
     ]
    },
    {
     "name": "stdout",
     "output_type": "stream",
     "text": [
      "139 cTDaR_t00228.xml\n"
     ]
    },
    {
     "name": "stderr",
     "output_type": "stream",
     "text": [
      "140it [01:25,  1.32it/s]"
     ]
    },
    {
     "name": "stdout",
     "output_type": "stream",
     "text": [
      "140 cTDaR_t00229.xml\n"
     ]
    },
    {
     "name": "stderr",
     "output_type": "stream",
     "text": [
      "141it [01:25,  1.51it/s]"
     ]
    },
    {
     "name": "stdout",
     "output_type": "stream",
     "text": [
      "141 cTDaR_t00230.xml\n"
     ]
    },
    {
     "name": "stderr",
     "output_type": "stream",
     "text": [
      "143it [01:26,  1.99it/s]"
     ]
    },
    {
     "name": "stdout",
     "output_type": "stream",
     "text": [
      "142 cTDaR_t00231.xml\n",
      "143 cTDaR_t00232.xml\n"
     ]
    },
    {
     "name": "stderr",
     "output_type": "stream",
     "text": [
      "145it [01:28,  1.11it/s]"
     ]
    },
    {
     "name": "stdout",
     "output_type": "stream",
     "text": [
      "144 cTDaR_t00233.xml\n",
      "!!!!!!!!!!!!!!!!!!!!works!!!!!!!!!!!!!!!!!!!!!\n"
     ]
    },
    {
     "name": "stderr",
     "output_type": "stream",
     "text": [
      "146it [01:29,  1.22it/s]"
     ]
    },
    {
     "name": "stdout",
     "output_type": "stream",
     "text": [
      "145 cTDaR_t00234.xml\n"
     ]
    },
    {
     "name": "stderr",
     "output_type": "stream",
     "text": [
      "147it [01:30,  1.11it/s]"
     ]
    },
    {
     "name": "stdout",
     "output_type": "stream",
     "text": [
      "146 cTDaR_t00235.xml\n"
     ]
    },
    {
     "name": "stderr",
     "output_type": "stream",
     "text": [
      "148it [01:31,  1.00s/it]"
     ]
    },
    {
     "name": "stdout",
     "output_type": "stream",
     "text": [
      "147 cTDaR_t00236.xml\n"
     ]
    },
    {
     "name": "stderr",
     "output_type": "stream",
     "text": [
      "149it [01:32,  1.00s/it]"
     ]
    },
    {
     "name": "stdout",
     "output_type": "stream",
     "text": [
      "148 cTDaR_t00237.xml\n"
     ]
    },
    {
     "name": "stderr",
     "output_type": "stream",
     "text": [
      "150it [01:34,  1.20s/it]"
     ]
    },
    {
     "name": "stdout",
     "output_type": "stream",
     "text": [
      "149 cTDaR_t00238.xml\n",
      "150 cTDaR_t00239.xml\n"
     ]
    },
    {
     "name": "stderr",
     "output_type": "stream",
     "text": [
      "151it [01:36,  1.36s/it]"
     ]
    },
    {
     "name": "stdout",
     "output_type": "stream",
     "text": [
      "151 cTDaR_t00240.xml\n"
     ]
    },
    {
     "name": "stderr",
     "output_type": "stream",
     "text": [
      "152it [01:37,  1.27s/it]"
     ]
    },
    {
     "name": "stdout",
     "output_type": "stream",
     "text": [
      "152 cTDaR_t00241.xml\n"
     ]
    },
    {
     "name": "stderr",
     "output_type": "stream",
     "text": [
      "154it [01:39,  1.06s/it]"
     ]
    },
    {
     "name": "stdout",
     "output_type": "stream",
     "text": [
      "153 cTDaR_t00242.xml\n",
      "154 cTDaR_t00243.xml\n"
     ]
    },
    {
     "name": "stderr",
     "output_type": "stream",
     "text": [
      "156it [01:44,  1.75s/it]"
     ]
    },
    {
     "name": "stdout",
     "output_type": "stream",
     "text": [
      "155 cTDaR_t00244.xml\n"
     ]
    },
    {
     "name": "stderr",
     "output_type": "stream",
     "text": [
      "157it [01:45,  1.45s/it]"
     ]
    },
    {
     "name": "stdout",
     "output_type": "stream",
     "text": [
      "156 cTDaR_t00245.xml\n",
      "157 cTDaR_t00246.xml\n"
     ]
    },
    {
     "name": "stderr",
     "output_type": "stream",
     "text": [
      "158it [01:46,  1.32s/it]"
     ]
    },
    {
     "name": "stdout",
     "output_type": "stream",
     "text": [
      "158 cTDaR_t00247.xml\n"
     ]
    },
    {
     "name": "stderr",
     "output_type": "stream",
     "text": [
      "160it [01:48,  1.36s/it]"
     ]
    },
    {
     "name": "stdout",
     "output_type": "stream",
     "text": [
      "159 cTDaR_t00254.xml\n",
      "!!!!!!!!!!!!!!!!!!!!works!!!!!!!!!!!!!!!!!!!!!\n"
     ]
    },
    {
     "name": "stderr",
     "output_type": "stream",
     "text": [
      "161it [01:50,  1.42s/it]"
     ]
    },
    {
     "name": "stdout",
     "output_type": "stream",
     "text": [
      "160 cTDaR_t00255.xml\n",
      "!!!!!!!!!!!!!!!!!!!!works!!!!!!!!!!!!!!!!!!!!!\n",
      "161 cTDaR_t00256.xml\n",
      "!!!!!!!!!!!!!!!!!!!!works!!!!!!!!!!!!!!!!!!!!!\n"
     ]
    },
    {
     "name": "stderr",
     "output_type": "stream",
     "text": [
      "163it [01:51,  1.03s/it]"
     ]
    },
    {
     "name": "stdout",
     "output_type": "stream",
     "text": [
      "162 cTDaR_t00257.xml\n",
      "!!!!!!!!!!!!!!!!!!!!works!!!!!!!!!!!!!!!!!!!!!\n"
     ]
    },
    {
     "name": "stderr",
     "output_type": "stream",
     "text": [
      "164it [01:52,  1.04it/s]"
     ]
    },
    {
     "name": "stdout",
     "output_type": "stream",
     "text": [
      "163 cTDaR_t00258.xml\n",
      "!!!!!!!!!!!!!!!!!!!!works!!!!!!!!!!!!!!!!!!!!!\n"
     ]
    },
    {
     "name": "stderr",
     "output_type": "stream",
     "text": [
      "165it [01:54,  1.14s/it]"
     ]
    },
    {
     "name": "stdout",
     "output_type": "stream",
     "text": [
      "164 cTDaR_t00259.xml\n"
     ]
    },
    {
     "name": "stderr",
     "output_type": "stream",
     "text": [
      "166it [01:54,  1.04s/it]"
     ]
    },
    {
     "name": "stdout",
     "output_type": "stream",
     "text": [
      "165 cTDaR_t00260.xml\n",
      "!!!!!!!!!!!!!!!!!!!!works!!!!!!!!!!!!!!!!!!!!!\n"
     ]
    },
    {
     "name": "stderr",
     "output_type": "stream",
     "text": [
      "167it [01:55,  1.06it/s]"
     ]
    },
    {
     "name": "stdout",
     "output_type": "stream",
     "text": [
      "166 cTDaR_t00261.xml\n"
     ]
    },
    {
     "name": "stderr",
     "output_type": "stream",
     "text": [
      "168it [01:57,  1.27s/it]"
     ]
    },
    {
     "name": "stdout",
     "output_type": "stream",
     "text": [
      "167 cTDaR_t00262.xml\n"
     ]
    },
    {
     "name": "stderr",
     "output_type": "stream",
     "text": [
      "169it [01:59,  1.37s/it]"
     ]
    },
    {
     "name": "stdout",
     "output_type": "stream",
     "text": [
      "168 cTDaR_t00263.xml\n"
     ]
    },
    {
     "name": "stderr",
     "output_type": "stream",
     "text": [
      "170it [02:00,  1.16s/it]"
     ]
    },
    {
     "name": "stdout",
     "output_type": "stream",
     "text": [
      "169 cTDaR_t00264.xml\n",
      "!!!!!!!!!!!!!!!!!!!!works!!!!!!!!!!!!!!!!!!!!!\n",
      "170 cTDaR_t00265.xml\n"
     ]
    },
    {
     "name": "stderr",
     "output_type": "stream",
     "text": [
      "172it [02:02,  1.17s/it]"
     ]
    },
    {
     "name": "stdout",
     "output_type": "stream",
     "text": [
      "171 cTDaR_t00266.xml\n"
     ]
    },
    {
     "name": "stderr",
     "output_type": "stream",
     "text": [
      "173it [02:04,  1.30s/it]"
     ]
    },
    {
     "name": "stdout",
     "output_type": "stream",
     "text": [
      "172 cTDaR_t00267.xml\n"
     ]
    },
    {
     "name": "stderr",
     "output_type": "stream",
     "text": [
      "174it [02:04,  1.16s/it]"
     ]
    },
    {
     "name": "stdout",
     "output_type": "stream",
     "text": [
      "173 cTDaR_t00268.xml\n"
     ]
    },
    {
     "name": "stderr",
     "output_type": "stream",
     "text": [
      "175it [02:05,  1.04s/it]"
     ]
    },
    {
     "name": "stdout",
     "output_type": "stream",
     "text": [
      "174 cTDaR_t00269.xml\n"
     ]
    },
    {
     "name": "stderr",
     "output_type": "stream",
     "text": [
      "176it [02:07,  1.29s/it]"
     ]
    },
    {
     "name": "stdout",
     "output_type": "stream",
     "text": [
      "175 cTDaR_t00270.xml\n",
      "!!!!!!!!!!!!!!!!!!!!works!!!!!!!!!!!!!!!!!!!!!\n"
     ]
    },
    {
     "name": "stderr",
     "output_type": "stream",
     "text": [
      "177it [02:08,  1.05s/it]"
     ]
    },
    {
     "name": "stdout",
     "output_type": "stream",
     "text": [
      "176 cTDaR_t00271.xml\n"
     ]
    },
    {
     "name": "stderr",
     "output_type": "stream",
     "text": [
      "178it [02:10,  1.50s/it]"
     ]
    },
    {
     "name": "stdout",
     "output_type": "stream",
     "text": [
      "177 cTDaR_t00272.xml\n",
      "!!!!!!!!!!!!!!!!!!!!works!!!!!!!!!!!!!!!!!!!!!\n"
     ]
    },
    {
     "name": "stderr",
     "output_type": "stream",
     "text": [
      "179it [02:15,  2.47s/it]"
     ]
    },
    {
     "name": "stdout",
     "output_type": "stream",
     "text": [
      "178 cTDaR_t00273.xml\n",
      "!!!!!!!!!!!!!!!!!!!!works!!!!!!!!!!!!!!!!!!!!!\n"
     ]
    },
    {
     "name": "stderr",
     "output_type": "stream",
     "text": [
      "180it [02:21,  3.62s/it]"
     ]
    },
    {
     "name": "stdout",
     "output_type": "stream",
     "text": [
      "179 cTDaR_t00274.xml\n",
      "!!!!!!!!!!!!!!!!!!!!works!!!!!!!!!!!!!!!!!!!!!\n"
     ]
    },
    {
     "name": "stderr",
     "output_type": "stream",
     "text": [
      "181it [02:25,  3.59s/it]"
     ]
    },
    {
     "name": "stdout",
     "output_type": "stream",
     "text": [
      "180 cTDaR_t00275.xml\n",
      "181 cTDaR_t00276.xml\n",
      "!!!!!!!!!!!!!!!!!!!!works!!!!!!!!!!!!!!!!!!!!!\n"
     ]
    },
    {
     "name": "stderr",
     "output_type": "stream",
     "text": [
      "182it [02:30,  4.07s/it]"
     ]
    },
    {
     "name": "stdout",
     "output_type": "stream",
     "text": [
      "182 cTDaR_t00277.xml\n"
     ]
    },
    {
     "name": "stderr",
     "output_type": "stream",
     "text": [
      "184it [02:36,  3.53s/it]"
     ]
    },
    {
     "name": "stdout",
     "output_type": "stream",
     "text": [
      "183 cTDaR_t00278.xml\n",
      "!!!!!!!!!!!!!!!!!!!!works!!!!!!!!!!!!!!!!!!!!!\n"
     ]
    },
    {
     "name": "stderr",
     "output_type": "stream",
     "text": [
      "185it [02:37,  2.76s/it]"
     ]
    },
    {
     "name": "stdout",
     "output_type": "stream",
     "text": [
      "184 cTDaR_t00279.xml\n",
      "185 cTDaR_t00280.xml\n",
      "!!!!!!!!!!!!!!!!!!!!works!!!!!!!!!!!!!!!!!!!!!\n"
     ]
    },
    {
     "name": "stderr",
     "output_type": "stream",
     "text": [
      "187it [02:38,  1.64s/it]"
     ]
    },
    {
     "name": "stdout",
     "output_type": "stream",
     "text": [
      "186 cTDaR_t00281.xml\n",
      "!!!!!!!!!!!!!!!!!!!!works!!!!!!!!!!!!!!!!!!!!!\n"
     ]
    },
    {
     "name": "stderr",
     "output_type": "stream",
     "text": [
      "188it [02:40,  1.71s/it]"
     ]
    },
    {
     "name": "stdout",
     "output_type": "stream",
     "text": [
      "187 cTDaR_t00282.xml\n",
      "!!!!!!!!!!!!!!!!!!!!works!!!!!!!!!!!!!!!!!!!!!\n"
     ]
    },
    {
     "name": "stderr",
     "output_type": "stream",
     "text": [
      "189it [02:42,  1.66s/it]"
     ]
    },
    {
     "name": "stdout",
     "output_type": "stream",
     "text": [
      "188 cTDaR_t00283.xml\n",
      "!!!!!!!!!!!!!!!!!!!!works!!!!!!!!!!!!!!!!!!!!!\n"
     ]
    },
    {
     "name": "stderr",
     "output_type": "stream",
     "text": [
      "190it [02:43,  1.43s/it]"
     ]
    },
    {
     "name": "stdout",
     "output_type": "stream",
     "text": [
      "189 cTDaR_t00284.xml\n",
      "!!!!!!!!!!!!!!!!!!!!works!!!!!!!!!!!!!!!!!!!!!\n",
      "190 cTDaR_t00304.xml\n"
     ]
    },
    {
     "name": "stderr",
     "output_type": "stream",
     "text": [
      "191it [02:45,  1.80s/it]"
     ]
    },
    {
     "name": "stdout",
     "output_type": "stream",
     "text": [
      "191 cTDaR_t00305.xml\n"
     ]
    },
    {
     "name": "stderr",
     "output_type": "stream",
     "text": [
      "192it [02:49,  2.22s/it]"
     ]
    },
    {
     "name": "stdout",
     "output_type": "stream",
     "text": [
      "192 cTDaR_t00306.xml\n"
     ]
    },
    {
     "name": "stderr",
     "output_type": "stream",
     "text": [
      "193it [02:53,  3.00s/it]"
     ]
    },
    {
     "name": "stdout",
     "output_type": "stream",
     "text": [
      "193 cTDaR_t00307.xml\n"
     ]
    },
    {
     "name": "stderr",
     "output_type": "stream",
     "text": [
      "194it [02:55,  2.70s/it]"
     ]
    },
    {
     "name": "stdout",
     "output_type": "stream",
     "text": [
      "194 cTDaR_t00308.xml\n"
     ]
    },
    {
     "name": "stderr",
     "output_type": "stream",
     "text": [
      "195it [02:57,  2.43s/it]"
     ]
    },
    {
     "name": "stdout",
     "output_type": "stream",
     "text": [
      "195 cTDaR_t00309.xml\n"
     ]
    },
    {
     "name": "stderr",
     "output_type": "stream",
     "text": [
      "196it [02:59,  2.26s/it]"
     ]
    },
    {
     "name": "stdout",
     "output_type": "stream",
     "text": [
      "196 cTDaR_t00310.xml\n"
     ]
    },
    {
     "name": "stderr",
     "output_type": "stream",
     "text": [
      "197it [03:01,  2.25s/it]"
     ]
    },
    {
     "name": "stdout",
     "output_type": "stream",
     "text": [
      "197 cTDaR_t00311.xml\n"
     ]
    },
    {
     "name": "stderr",
     "output_type": "stream",
     "text": [
      "198it [03:03,  2.04s/it]"
     ]
    },
    {
     "name": "stdout",
     "output_type": "stream",
     "text": [
      "198 cTDaR_t00312.xml\n"
     ]
    },
    {
     "name": "stderr",
     "output_type": "stream",
     "text": [
      "199it [03:05,  2.03s/it]"
     ]
    },
    {
     "name": "stdout",
     "output_type": "stream",
     "text": [
      "199 cTDaR_t00313.xml\n"
     ]
    },
    {
     "name": "stderr",
     "output_type": "stream",
     "text": [
      "200it [03:07,  2.04s/it]"
     ]
    },
    {
     "name": "stdout",
     "output_type": "stream",
     "text": [
      "200 cTDaR_t00314.xml\n"
     ]
    },
    {
     "name": "stderr",
     "output_type": "stream",
     "text": [
      "201it [03:09,  1.90s/it]"
     ]
    },
    {
     "name": "stdout",
     "output_type": "stream",
     "text": [
      "201 cTDaR_t00315.xml\n"
     ]
    },
    {
     "name": "stderr",
     "output_type": "stream",
     "text": [
      "202it [03:11,  1.92s/it]"
     ]
    },
    {
     "name": "stdout",
     "output_type": "stream",
     "text": [
      "202 cTDaR_t00316.xml\n"
     ]
    },
    {
     "name": "stderr",
     "output_type": "stream",
     "text": [
      "203it [03:12,  1.81s/it]"
     ]
    },
    {
     "name": "stdout",
     "output_type": "stream",
     "text": [
      "203 cTDaR_t00317.xml\n"
     ]
    },
    {
     "name": "stderr",
     "output_type": "stream",
     "text": [
      "204it [03:14,  1.80s/it]"
     ]
    },
    {
     "name": "stdout",
     "output_type": "stream",
     "text": [
      "204 cTDaR_t00318.xml\n"
     ]
    },
    {
     "name": "stderr",
     "output_type": "stream",
     "text": [
      "205it [03:16,  1.80s/it]"
     ]
    },
    {
     "name": "stdout",
     "output_type": "stream",
     "text": [
      "205 cTDaR_t00319.xml\n"
     ]
    },
    {
     "name": "stderr",
     "output_type": "stream",
     "text": [
      "206it [03:19,  2.25s/it]"
     ]
    },
    {
     "name": "stdout",
     "output_type": "stream",
     "text": [
      "206 cTDaR_t00320.xml\n"
     ]
    },
    {
     "name": "stderr",
     "output_type": "stream",
     "text": [
      "207it [03:21,  2.13s/it]"
     ]
    },
    {
     "name": "stdout",
     "output_type": "stream",
     "text": [
      "207 cTDaR_t00321.xml\n"
     ]
    },
    {
     "name": "stderr",
     "output_type": "stream",
     "text": [
      "208it [03:23,  2.16s/it]"
     ]
    },
    {
     "name": "stdout",
     "output_type": "stream",
     "text": [
      "208 cTDaR_t00343.xml\n",
      "!!!!!!!!!!!!!!!!!!!!works!!!!!!!!!!!!!!!!!!!!!\n"
     ]
    },
    {
     "name": "stderr",
     "output_type": "stream",
     "text": [
      "209it [03:24,  1.85s/it]"
     ]
    },
    {
     "name": "stdout",
     "output_type": "stream",
     "text": [
      "209 cTDaR_t00344.xml\n",
      "!!!!!!!!!!!!!!!!!!!!works!!!!!!!!!!!!!!!!!!!!!\n"
     ]
    },
    {
     "name": "stderr",
     "output_type": "stream",
     "text": [
      "210it [03:26,  1.70s/it]"
     ]
    },
    {
     "name": "stdout",
     "output_type": "stream",
     "text": [
      "210 cTDaR_t00345.xml\n",
      "!!!!!!!!!!!!!!!!!!!!works!!!!!!!!!!!!!!!!!!!!!\n"
     ]
    },
    {
     "name": "stderr",
     "output_type": "stream",
     "text": [
      "211it [03:27,  1.68s/it]"
     ]
    },
    {
     "name": "stdout",
     "output_type": "stream",
     "text": [
      "211 cTDaR_t00346.xml\n",
      "!!!!!!!!!!!!!!!!!!!!works!!!!!!!!!!!!!!!!!!!!!\n"
     ]
    },
    {
     "name": "stderr",
     "output_type": "stream",
     "text": [
      "212it [03:28,  1.43s/it]"
     ]
    },
    {
     "name": "stdout",
     "output_type": "stream",
     "text": [
      "212 cTDaR_t00347.xml\n",
      "!!!!!!!!!!!!!!!!!!!!works!!!!!!!!!!!!!!!!!!!!!\n"
     ]
    },
    {
     "name": "stderr",
     "output_type": "stream",
     "text": [
      "213it [03:29,  1.33s/it]"
     ]
    },
    {
     "name": "stdout",
     "output_type": "stream",
     "text": [
      "213 cTDaR_t00348.xml\n",
      "!!!!!!!!!!!!!!!!!!!!works!!!!!!!!!!!!!!!!!!!!!\n"
     ]
    },
    {
     "name": "stderr",
     "output_type": "stream",
     "text": [
      "214it [03:31,  1.52s/it]"
     ]
    },
    {
     "name": "stdout",
     "output_type": "stream",
     "text": [
      "214 cTDaR_t00349.xml\n",
      "!!!!!!!!!!!!!!!!!!!!works!!!!!!!!!!!!!!!!!!!!!\n"
     ]
    },
    {
     "name": "stderr",
     "output_type": "stream",
     "text": [
      "215it [03:33,  1.59s/it]"
     ]
    },
    {
     "name": "stdout",
     "output_type": "stream",
     "text": [
      "215 cTDaR_t00350.xml\n",
      "!!!!!!!!!!!!!!!!!!!!works!!!!!!!!!!!!!!!!!!!!!\n"
     ]
    },
    {
     "name": "stderr",
     "output_type": "stream",
     "text": [
      "216it [03:34,  1.59s/it]"
     ]
    },
    {
     "name": "stdout",
     "output_type": "stream",
     "text": [
      "216 cTDaR_t00351.xml\n",
      "!!!!!!!!!!!!!!!!!!!!works!!!!!!!!!!!!!!!!!!!!!\n"
     ]
    },
    {
     "name": "stderr",
     "output_type": "stream",
     "text": [
      "217it [03:35,  1.43s/it]"
     ]
    },
    {
     "name": "stdout",
     "output_type": "stream",
     "text": [
      "217 cTDaR_t00352.xml\n",
      "!!!!!!!!!!!!!!!!!!!!works!!!!!!!!!!!!!!!!!!!!!\n"
     ]
    },
    {
     "name": "stderr",
     "output_type": "stream",
     "text": [
      "218it [03:37,  1.54s/it]"
     ]
    },
    {
     "name": "stdout",
     "output_type": "stream",
     "text": [
      "218 cTDaR_t00353.xml\n",
      "!!!!!!!!!!!!!!!!!!!!works!!!!!!!!!!!!!!!!!!!!!\n"
     ]
    },
    {
     "name": "stderr",
     "output_type": "stream",
     "text": [
      "219it [03:38,  1.32s/it]"
     ]
    },
    {
     "name": "stdout",
     "output_type": "stream",
     "text": [
      "219 cTDaR_t00354.xml\n"
     ]
    },
    {
     "name": "stderr",
     "output_type": "stream",
     "text": [
      "220it [03:39,  1.28s/it]"
     ]
    },
    {
     "name": "stdout",
     "output_type": "stream",
     "text": [
      "220 cTDaR_t00355.xml\n",
      "!!!!!!!!!!!!!!!!!!!!works!!!!!!!!!!!!!!!!!!!!!\n"
     ]
    },
    {
     "name": "stderr",
     "output_type": "stream",
     "text": [
      "221it [03:42,  1.67s/it]"
     ]
    },
    {
     "name": "stdout",
     "output_type": "stream",
     "text": [
      "221 cTDaR_t00356.xml\n",
      "!!!!!!!!!!!!!!!!!!!!works!!!!!!!!!!!!!!!!!!!!!\n"
     ]
    },
    {
     "name": "stderr",
     "output_type": "stream",
     "text": [
      "222it [03:43,  1.64s/it]"
     ]
    },
    {
     "name": "stdout",
     "output_type": "stream",
     "text": [
      "222 cTDaR_t00357.xml\n",
      "!!!!!!!!!!!!!!!!!!!!works!!!!!!!!!!!!!!!!!!!!!\n"
     ]
    },
    {
     "name": "stderr",
     "output_type": "stream",
     "text": [
      "223it [03:45,  1.68s/it]"
     ]
    },
    {
     "name": "stdout",
     "output_type": "stream",
     "text": [
      "223 cTDaR_t00358.xml\n",
      "!!!!!!!!!!!!!!!!!!!!works!!!!!!!!!!!!!!!!!!!!!\n"
     ]
    },
    {
     "name": "stderr",
     "output_type": "stream",
     "text": [
      "224it [03:47,  1.67s/it]"
     ]
    },
    {
     "name": "stdout",
     "output_type": "stream",
     "text": [
      "224 cTDaR_t00359.xml\n",
      "!!!!!!!!!!!!!!!!!!!!works!!!!!!!!!!!!!!!!!!!!!\n"
     ]
    },
    {
     "name": "stderr",
     "output_type": "stream",
     "text": [
      "225it [03:48,  1.54s/it]"
     ]
    },
    {
     "name": "stdout",
     "output_type": "stream",
     "text": [
      "225 cTDaR_t00360.xml\n",
      "!!!!!!!!!!!!!!!!!!!!works!!!!!!!!!!!!!!!!!!!!!\n"
     ]
    },
    {
     "name": "stderr",
     "output_type": "stream",
     "text": [
      "226it [03:49,  1.40s/it]"
     ]
    },
    {
     "name": "stdout",
     "output_type": "stream",
     "text": [
      "226 cTDaR_t00361.xml\n",
      "!!!!!!!!!!!!!!!!!!!!works!!!!!!!!!!!!!!!!!!!!!\n"
     ]
    },
    {
     "name": "stderr",
     "output_type": "stream",
     "text": [
      "227it [03:51,  1.51s/it]"
     ]
    },
    {
     "name": "stdout",
     "output_type": "stream",
     "text": [
      "227 cTDaR_t00362.xml\n",
      "!!!!!!!!!!!!!!!!!!!!works!!!!!!!!!!!!!!!!!!!!!\n"
     ]
    },
    {
     "name": "stderr",
     "output_type": "stream",
     "text": [
      "228it [03:52,  1.47s/it]"
     ]
    },
    {
     "name": "stdout",
     "output_type": "stream",
     "text": [
      "228 cTDaR_t00363.xml\n",
      "!!!!!!!!!!!!!!!!!!!!works!!!!!!!!!!!!!!!!!!!!!\n"
     ]
    },
    {
     "name": "stderr",
     "output_type": "stream",
     "text": [
      "229it [03:54,  1.54s/it]"
     ]
    },
    {
     "name": "stdout",
     "output_type": "stream",
     "text": [
      "229 cTDaR_t00364.xml\n",
      "!!!!!!!!!!!!!!!!!!!!works!!!!!!!!!!!!!!!!!!!!!\n"
     ]
    },
    {
     "name": "stderr",
     "output_type": "stream",
     "text": [
      "230it [03:56,  1.71s/it]"
     ]
    },
    {
     "name": "stdout",
     "output_type": "stream",
     "text": [
      "230 cTDaR_t00365.xml\n",
      "!!!!!!!!!!!!!!!!!!!!works!!!!!!!!!!!!!!!!!!!!!\n"
     ]
    },
    {
     "name": "stderr",
     "output_type": "stream",
     "text": [
      "231it [03:58,  1.88s/it]"
     ]
    },
    {
     "name": "stdout",
     "output_type": "stream",
     "text": [
      "231 cTDaR_t00366.xml\n",
      "!!!!!!!!!!!!!!!!!!!!works!!!!!!!!!!!!!!!!!!!!!\n"
     ]
    },
    {
     "name": "stderr",
     "output_type": "stream",
     "text": [
      "232it [04:00,  1.70s/it]"
     ]
    },
    {
     "name": "stdout",
     "output_type": "stream",
     "text": [
      "232 cTDaR_t00367.xml\n",
      "!!!!!!!!!!!!!!!!!!!!works!!!!!!!!!!!!!!!!!!!!!\n"
     ]
    },
    {
     "name": "stderr",
     "output_type": "stream",
     "text": [
      "233it [04:01,  1.48s/it]"
     ]
    },
    {
     "name": "stdout",
     "output_type": "stream",
     "text": [
      "233 cTDaR_t00368.xml\n",
      "!!!!!!!!!!!!!!!!!!!!works!!!!!!!!!!!!!!!!!!!!!\n"
     ]
    },
    {
     "name": "stderr",
     "output_type": "stream",
     "text": [
      "234it [04:02,  1.56s/it]"
     ]
    },
    {
     "name": "stdout",
     "output_type": "stream",
     "text": [
      "234 cTDaR_t00369.xml\n",
      "!!!!!!!!!!!!!!!!!!!!works!!!!!!!!!!!!!!!!!!!!!\n"
     ]
    },
    {
     "name": "stderr",
     "output_type": "stream",
     "text": [
      "235it [04:03,  1.44s/it]"
     ]
    },
    {
     "name": "stdout",
     "output_type": "stream",
     "text": [
      "235 cTDaR_t00370.xml\n",
      "!!!!!!!!!!!!!!!!!!!!works!!!!!!!!!!!!!!!!!!!!!\n"
     ]
    },
    {
     "name": "stderr",
     "output_type": "stream",
     "text": [
      "236it [04:05,  1.53s/it]"
     ]
    },
    {
     "name": "stdout",
     "output_type": "stream",
     "text": [
      "236 cTDaR_t00371.xml\n",
      "!!!!!!!!!!!!!!!!!!!!works!!!!!!!!!!!!!!!!!!!!!\n"
     ]
    },
    {
     "name": "stderr",
     "output_type": "stream",
     "text": [
      "237it [04:06,  1.45s/it]"
     ]
    },
    {
     "name": "stdout",
     "output_type": "stream",
     "text": [
      "237 cTDaR_t00372.xml\n",
      "!!!!!!!!!!!!!!!!!!!!works!!!!!!!!!!!!!!!!!!!!!\n"
     ]
    },
    {
     "name": "stderr",
     "output_type": "stream",
     "text": [
      "238it [04:08,  1.33s/it]"
     ]
    },
    {
     "name": "stdout",
     "output_type": "stream",
     "text": [
      "238 cTDaR_t00373.xml\n",
      "!!!!!!!!!!!!!!!!!!!!works!!!!!!!!!!!!!!!!!!!!!\n"
     ]
    },
    {
     "name": "stderr",
     "output_type": "stream",
     "text": [
      "239it [04:09,  1.34s/it]"
     ]
    },
    {
     "name": "stdout",
     "output_type": "stream",
     "text": [
      "239 cTDaR_t00388.xml\n"
     ]
    },
    {
     "name": "stderr",
     "output_type": "stream",
     "text": [
      "240it [04:10,  1.35s/it]"
     ]
    },
    {
     "name": "stdout",
     "output_type": "stream",
     "text": [
      "240 cTDaR_t00389.xml\n",
      "!!!!!!!!!!!!!!!!!!!!works!!!!!!!!!!!!!!!!!!!!!\n"
     ]
    },
    {
     "name": "stderr",
     "output_type": "stream",
     "text": [
      "241it [04:12,  1.60s/it]"
     ]
    },
    {
     "name": "stdout",
     "output_type": "stream",
     "text": [
      "241 cTDaR_t00390.xml\n",
      "!!!!!!!!!!!!!!!!!!!!works!!!!!!!!!!!!!!!!!!!!!\n"
     ]
    },
    {
     "name": "stderr",
     "output_type": "stream",
     "text": [
      "243it [04:14,  1.30s/it]"
     ]
    },
    {
     "name": "stdout",
     "output_type": "stream",
     "text": [
      "242 cTDaR_t00391.xml\n"
     ]
    },
    {
     "name": "stderr",
     "output_type": "stream",
     "text": [
      "244it [04:15,  1.14s/it]"
     ]
    },
    {
     "name": "stdout",
     "output_type": "stream",
     "text": [
      "243 cTDaR_t00392.xml\n"
     ]
    },
    {
     "name": "stderr",
     "output_type": "stream",
     "text": [
      "245it [04:16,  1.06it/s]"
     ]
    },
    {
     "name": "stdout",
     "output_type": "stream",
     "text": [
      "244 cTDaR_t00393.xml\n",
      "!!!!!!!!!!!!!!!!!!!!works!!!!!!!!!!!!!!!!!!!!!\n"
     ]
    },
    {
     "name": "stderr",
     "output_type": "stream",
     "text": [
      "246it [04:17,  1.10s/it]"
     ]
    },
    {
     "name": "stdout",
     "output_type": "stream",
     "text": [
      "245 cTDaR_t00394.xml\n",
      "!!!!!!!!!!!!!!!!!!!!works!!!!!!!!!!!!!!!!!!!!!\n",
      "246 cTDaR_t00395.xml\n",
      "!!!!!!!!!!!!!!!!!!!!works!!!!!!!!!!!!!!!!!!!!!\n"
     ]
    },
    {
     "name": "stderr",
     "output_type": "stream",
     "text": [
      "247it [04:18,  1.02it/s]"
     ]
    },
    {
     "name": "stdout",
     "output_type": "stream",
     "text": [
      "247 cTDaR_t00396.xml\n",
      "!!!!!!!!!!!!!!!!!!!!works!!!!!!!!!!!!!!!!!!!!!\n"
     ]
    },
    {
     "name": "stderr",
     "output_type": "stream",
     "text": [
      "248it [04:20,  1.28s/it]"
     ]
    },
    {
     "name": "stdout",
     "output_type": "stream",
     "text": [
      "248 cTDaR_t00397.xml\n"
     ]
    },
    {
     "name": "stderr",
     "output_type": "stream",
     "text": [
      "250it [04:22,  1.19s/it]"
     ]
    },
    {
     "name": "stdout",
     "output_type": "stream",
     "text": [
      "249 cTDaR_t00398.xml\n"
     ]
    },
    {
     "name": "stderr",
     "output_type": "stream",
     "text": [
      "251it [04:25,  1.66s/it]"
     ]
    },
    {
     "name": "stdout",
     "output_type": "stream",
     "text": [
      "250 cTDaR_t00403.xml\n",
      "251 cTDaR_t00404.xml\n"
     ]
    },
    {
     "name": "stderr",
     "output_type": "stream",
     "text": [
      "253it [04:30,  2.12s/it]"
     ]
    },
    {
     "name": "stdout",
     "output_type": "stream",
     "text": [
      "252 cTDaR_t00405.xml\n",
      "253 cTDaR_t00406.xml\n"
     ]
    },
    {
     "name": "stderr",
     "output_type": "stream",
     "text": [
      "254it [04:33,  2.26s/it]"
     ]
    },
    {
     "name": "stdout",
     "output_type": "stream",
     "text": [
      "254 cTDaR_t00407.xml\n"
     ]
    },
    {
     "name": "stderr",
     "output_type": "stream",
     "text": [
      "256it [04:40,  2.75s/it]"
     ]
    },
    {
     "name": "stdout",
     "output_type": "stream",
     "text": [
      "255 cTDaR_t00408.xml\n"
     ]
    },
    {
     "name": "stderr",
     "output_type": "stream",
     "text": [
      "257it [04:47,  4.18s/it]"
     ]
    },
    {
     "name": "stdout",
     "output_type": "stream",
     "text": [
      "256 cTDaR_t00409.xml\n"
     ]
    },
    {
     "name": "stderr",
     "output_type": "stream",
     "text": [
      "258it [04:51,  4.19s/it]"
     ]
    },
    {
     "name": "stdout",
     "output_type": "stream",
     "text": [
      "257 cTDaR_t00410.xml\n"
     ]
    },
    {
     "name": "stderr",
     "output_type": "stream",
     "text": [
      "259it [04:52,  3.26s/it]"
     ]
    },
    {
     "name": "stdout",
     "output_type": "stream",
     "text": [
      "258 cTDaR_t00411.xml\n"
     ]
    },
    {
     "name": "stderr",
     "output_type": "stream",
     "text": [
      "260it [04:53,  2.61s/it]"
     ]
    },
    {
     "name": "stdout",
     "output_type": "stream",
     "text": [
      "259 cTDaR_t00412.xml\n",
      "260 cTDaR_t00413.xml\n"
     ]
    },
    {
     "name": "stderr",
     "output_type": "stream",
     "text": [
      "261it [04:56,  2.69s/it]"
     ]
    },
    {
     "name": "stdout",
     "output_type": "stream",
     "text": [
      "261 cTDaR_t00414.xml\n"
     ]
    },
    {
     "name": "stderr",
     "output_type": "stream",
     "text": [
      "262it [04:59,  2.78s/it]"
     ]
    },
    {
     "name": "stdout",
     "output_type": "stream",
     "text": [
      "262 cTDaR_t00415.xml\n"
     ]
    },
    {
     "name": "stderr",
     "output_type": "stream",
     "text": [
      "264it [05:02,  1.93s/it]"
     ]
    },
    {
     "name": "stdout",
     "output_type": "stream",
     "text": [
      "263 cTDaR_t00416.xml\n"
     ]
    },
    {
     "name": "stderr",
     "output_type": "stream",
     "text": [
      "265it [05:05,  2.39s/it]"
     ]
    },
    {
     "name": "stdout",
     "output_type": "stream",
     "text": [
      "264 cTDaR_t00417.xml\n"
     ]
    },
    {
     "name": "stderr",
     "output_type": "stream",
     "text": [
      "266it [05:06,  1.94s/it]"
     ]
    },
    {
     "name": "stdout",
     "output_type": "stream",
     "text": [
      "265 cTDaR_t00418.xml\n",
      "266 cTDaR_t00419.xml\n"
     ]
    },
    {
     "name": "stderr",
     "output_type": "stream",
     "text": [
      "267it [05:09,  2.22s/it]"
     ]
    },
    {
     "name": "stdout",
     "output_type": "stream",
     "text": [
      "267 cTDaR_t00420.xml\n"
     ]
    },
    {
     "name": "stderr",
     "output_type": "stream",
     "text": [
      "269it [05:12,  1.90s/it]"
     ]
    },
    {
     "name": "stdout",
     "output_type": "stream",
     "text": [
      "268 cTDaR_t00421.xml\n"
     ]
    },
    {
     "name": "stderr",
     "output_type": "stream",
     "text": [
      "270it [05:14,  1.80s/it]"
     ]
    },
    {
     "name": "stdout",
     "output_type": "stream",
     "text": [
      "269 cTDaR_t00422.xml\n"
     ]
    },
    {
     "name": "stderr",
     "output_type": "stream",
     "text": [
      "271it [05:16,  1.91s/it]"
     ]
    },
    {
     "name": "stdout",
     "output_type": "stream",
     "text": [
      "270 cTDaR_t00423.xml\n",
      "271 cTDaR_t00424.xml\n"
     ]
    },
    {
     "name": "stderr",
     "output_type": "stream",
     "text": [
      "273it [05:19,  1.73s/it]"
     ]
    },
    {
     "name": "stdout",
     "output_type": "stream",
     "text": [
      "272 cTDaR_t00425.xml\n",
      "273 cTDaR_t00426.xml\n"
     ]
    },
    {
     "name": "stderr",
     "output_type": "stream",
     "text": [
      "275it [05:22,  1.52s/it]"
     ]
    },
    {
     "name": "stdout",
     "output_type": "stream",
     "text": [
      "274 cTDaR_t00427.xml\n"
     ]
    },
    {
     "name": "stderr",
     "output_type": "stream",
     "text": [
      "276it [05:23,  1.41s/it]"
     ]
    },
    {
     "name": "stdout",
     "output_type": "stream",
     "text": [
      "275 cTDaR_t00428.xml\n"
     ]
    },
    {
     "name": "stderr",
     "output_type": "stream",
     "text": [
      "277it [05:24,  1.32s/it]"
     ]
    },
    {
     "name": "stdout",
     "output_type": "stream",
     "text": [
      "276 cTDaR_t00429.xml\n"
     ]
    },
    {
     "name": "stderr",
     "output_type": "stream",
     "text": [
      "278it [05:25,  1.20s/it]"
     ]
    },
    {
     "name": "stdout",
     "output_type": "stream",
     "text": [
      "277 cTDaR_t00430.xml\n"
     ]
    },
    {
     "name": "stderr",
     "output_type": "stream",
     "text": [
      "279it [05:26,  1.07s/it]"
     ]
    },
    {
     "name": "stdout",
     "output_type": "stream",
     "text": [
      "278 cTDaR_t00431.xml\n"
     ]
    },
    {
     "name": "stderr",
     "output_type": "stream",
     "text": [
      "280it [05:27,  1.08s/it]"
     ]
    },
    {
     "name": "stdout",
     "output_type": "stream",
     "text": [
      "279 cTDaR_t00432.xml\n"
     ]
    },
    {
     "name": "stderr",
     "output_type": "stream",
     "text": [
      "281it [05:27,  1.01it/s]"
     ]
    },
    {
     "name": "stdout",
     "output_type": "stream",
     "text": [
      "280 cTDaR_t00433.xml\n"
     ]
    },
    {
     "name": "stderr",
     "output_type": "stream",
     "text": [
      "282it [05:28,  1.09it/s]"
     ]
    },
    {
     "name": "stdout",
     "output_type": "stream",
     "text": [
      "281 cTDaR_t00434.xml\n"
     ]
    },
    {
     "name": "stderr",
     "output_type": "stream",
     "text": [
      "283it [05:29,  1.10it/s]"
     ]
    },
    {
     "name": "stdout",
     "output_type": "stream",
     "text": [
      "282 cTDaR_t00435.xml\n"
     ]
    },
    {
     "name": "stderr",
     "output_type": "stream",
     "text": [
      "284it [05:30,  1.08it/s]"
     ]
    },
    {
     "name": "stdout",
     "output_type": "stream",
     "text": [
      "283 cTDaR_t00436.xml\n"
     ]
    },
    {
     "name": "stderr",
     "output_type": "stream",
     "text": [
      "285it [05:31,  1.05s/it]"
     ]
    },
    {
     "name": "stdout",
     "output_type": "stream",
     "text": [
      "284 cTDaR_t00437.xml\n"
     ]
    },
    {
     "name": "stderr",
     "output_type": "stream",
     "text": [
      "286it [05:33,  1.10s/it]"
     ]
    },
    {
     "name": "stdout",
     "output_type": "stream",
     "text": [
      "285 cTDaR_t00438.xml\n"
     ]
    },
    {
     "name": "stderr",
     "output_type": "stream",
     "text": [
      "287it [05:34,  1.12s/it]"
     ]
    },
    {
     "name": "stdout",
     "output_type": "stream",
     "text": [
      "286 cTDaR_t00439.xml\n"
     ]
    },
    {
     "name": "stderr",
     "output_type": "stream",
     "text": [
      "288it [05:35,  1.16s/it]"
     ]
    },
    {
     "name": "stdout",
     "output_type": "stream",
     "text": [
      "287 cTDaR_t00440.xml\n"
     ]
    },
    {
     "name": "stderr",
     "output_type": "stream",
     "text": [
      "289it [05:36,  1.07s/it]"
     ]
    },
    {
     "name": "stdout",
     "output_type": "stream",
     "text": [
      "288 cTDaR_t00441.xml\n"
     ]
    },
    {
     "name": "stderr",
     "output_type": "stream",
     "text": [
      "290it [05:37,  1.16s/it]"
     ]
    },
    {
     "name": "stdout",
     "output_type": "stream",
     "text": [
      "289 cTDaR_t00442.xml\n"
     ]
    },
    {
     "name": "stderr",
     "output_type": "stream",
     "text": [
      "291it [05:38,  1.08s/it]"
     ]
    },
    {
     "name": "stdout",
     "output_type": "stream",
     "text": [
      "290 cTDaR_t00443.xml\n"
     ]
    },
    {
     "name": "stderr",
     "output_type": "stream",
     "text": [
      "292it [05:39,  1.11it/s]"
     ]
    },
    {
     "name": "stdout",
     "output_type": "stream",
     "text": [
      "291 cTDaR_t00448.xml\n"
     ]
    },
    {
     "name": "stderr",
     "output_type": "stream",
     "text": [
      "293it [05:39,  1.22it/s]"
     ]
    },
    {
     "name": "stdout",
     "output_type": "stream",
     "text": [
      "292 cTDaR_t00449.xml\n"
     ]
    },
    {
     "name": "stderr",
     "output_type": "stream",
     "text": [
      "294it [05:40,  1.25it/s]"
     ]
    },
    {
     "name": "stdout",
     "output_type": "stream",
     "text": [
      "293 cTDaR_t00450.xml\n"
     ]
    },
    {
     "name": "stderr",
     "output_type": "stream",
     "text": [
      "295it [05:41,  1.24it/s]"
     ]
    },
    {
     "name": "stdout",
     "output_type": "stream",
     "text": [
      "294 cTDaR_t00451.xml\n"
     ]
    },
    {
     "name": "stderr",
     "output_type": "stream",
     "text": [
      "296it [05:42,  1.06it/s]"
     ]
    },
    {
     "name": "stdout",
     "output_type": "stream",
     "text": [
      "295 cTDaR_t00452.xml\n"
     ]
    },
    {
     "name": "stderr",
     "output_type": "stream",
     "text": [
      "297it [05:43,  1.08it/s]"
     ]
    },
    {
     "name": "stdout",
     "output_type": "stream",
     "text": [
      "296 cTDaR_t00453.xml\n"
     ]
    },
    {
     "name": "stderr",
     "output_type": "stream",
     "text": [
      "298it [05:44,  1.10it/s]"
     ]
    },
    {
     "name": "stdout",
     "output_type": "stream",
     "text": [
      "297 cTDaR_t00454.xml\n"
     ]
    },
    {
     "name": "stderr",
     "output_type": "stream",
     "text": [
      "299it [05:45,  1.17it/s]"
     ]
    },
    {
     "name": "stdout",
     "output_type": "stream",
     "text": [
      "298 cTDaR_t00455.xml\n"
     ]
    },
    {
     "name": "stderr",
     "output_type": "stream",
     "text": [
      "300it [05:45,  1.22it/s]"
     ]
    },
    {
     "name": "stdout",
     "output_type": "stream",
     "text": [
      "299 cTDaR_t00456.xml\n"
     ]
    },
    {
     "name": "stderr",
     "output_type": "stream",
     "text": [
      "301it [05:46,  1.12it/s]"
     ]
    },
    {
     "name": "stdout",
     "output_type": "stream",
     "text": [
      "300 cTDaR_t00457.xml\n"
     ]
    },
    {
     "name": "stderr",
     "output_type": "stream",
     "text": [
      "302it [05:47,  1.17it/s]"
     ]
    },
    {
     "name": "stdout",
     "output_type": "stream",
     "text": [
      "301 cTDaR_t00458.xml\n"
     ]
    },
    {
     "name": "stderr",
     "output_type": "stream",
     "text": [
      "303it [05:48,  1.18it/s]"
     ]
    },
    {
     "name": "stdout",
     "output_type": "stream",
     "text": [
      "302 cTDaR_t00459.xml\n"
     ]
    },
    {
     "name": "stderr",
     "output_type": "stream",
     "text": [
      "304it [05:49,  1.21it/s]"
     ]
    },
    {
     "name": "stdout",
     "output_type": "stream",
     "text": [
      "303 cTDaR_t00460.xml\n",
      "304 cTDaR_t00461.xml\n"
     ]
    },
    {
     "name": "stderr",
     "output_type": "stream",
     "text": [
      "306it [05:50,  1.24it/s]"
     ]
    },
    {
     "name": "stdout",
     "output_type": "stream",
     "text": [
      "305 cTDaR_t00462.xml\n"
     ]
    },
    {
     "name": "stderr",
     "output_type": "stream",
     "text": [
      "307it [05:51,  1.29it/s]"
     ]
    },
    {
     "name": "stdout",
     "output_type": "stream",
     "text": [
      "306 cTDaR_t00463.xml\n"
     ]
    },
    {
     "name": "stderr",
     "output_type": "stream",
     "text": [
      "308it [05:52,  1.23it/s]"
     ]
    },
    {
     "name": "stdout",
     "output_type": "stream",
     "text": [
      "307 cTDaR_t00464.xml\n"
     ]
    },
    {
     "name": "stderr",
     "output_type": "stream",
     "text": [
      "309it [05:53,  1.21it/s]"
     ]
    },
    {
     "name": "stdout",
     "output_type": "stream",
     "text": [
      "308 cTDaR_t00465.xml\n"
     ]
    },
    {
     "name": "stderr",
     "output_type": "stream",
     "text": [
      "310it [05:54,  1.23it/s]"
     ]
    },
    {
     "name": "stdout",
     "output_type": "stream",
     "text": [
      "309 cTDaR_t00466.xml\n"
     ]
    },
    {
     "name": "stderr",
     "output_type": "stream",
     "text": [
      "311it [05:54,  1.27it/s]"
     ]
    },
    {
     "name": "stdout",
     "output_type": "stream",
     "text": [
      "310 cTDaR_t00467.xml\n"
     ]
    },
    {
     "name": "stderr",
     "output_type": "stream",
     "text": [
      "312it [05:56,  1.04it/s]"
     ]
    },
    {
     "name": "stdout",
     "output_type": "stream",
     "text": [
      "311 cTDaR_t00468.xml\n",
      "312 cTDaR_t00469.xml\n"
     ]
    },
    {
     "name": "stderr",
     "output_type": "stream",
     "text": [
      "314it [06:02,  1.99s/it]"
     ]
    },
    {
     "name": "stdout",
     "output_type": "stream",
     "text": [
      "313 cTDaR_t00470.xml\n",
      "314 cTDaR_t00471.xml\n"
     ]
    },
    {
     "name": "stderr",
     "output_type": "stream",
     "text": [
      "316it [06:05,  1.99s/it]"
     ]
    },
    {
     "name": "stdout",
     "output_type": "stream",
     "text": [
      "315 cTDaR_t00472.xml\n"
     ]
    },
    {
     "name": "stderr",
     "output_type": "stream",
     "text": [
      "317it [06:09,  2.49s/it]"
     ]
    },
    {
     "name": "stdout",
     "output_type": "stream",
     "text": [
      "316 cTDaR_t00473.xml\n"
     ]
    },
    {
     "name": "stderr",
     "output_type": "stream",
     "text": [
      "318it [06:12,  2.64s/it]"
     ]
    },
    {
     "name": "stdout",
     "output_type": "stream",
     "text": [
      "317 cTDaR_t00474.xml\n"
     ]
    },
    {
     "name": "stderr",
     "output_type": "stream",
     "text": [
      "319it [06:15,  2.83s/it]"
     ]
    },
    {
     "name": "stdout",
     "output_type": "stream",
     "text": [
      "318 cTDaR_t00475.xml\n"
     ]
    },
    {
     "name": "stderr",
     "output_type": "stream",
     "text": [
      "320it [06:16,  2.19s/it]"
     ]
    },
    {
     "name": "stdout",
     "output_type": "stream",
     "text": [
      "319 cTDaR_t00476.xml\n"
     ]
    },
    {
     "name": "stderr",
     "output_type": "stream",
     "text": [
      "321it [06:17,  1.80s/it]"
     ]
    },
    {
     "name": "stdout",
     "output_type": "stream",
     "text": [
      "320 cTDaR_t00501.xml\n",
      "321 cTDaR_t00502.xml\n",
      "!!!!!!!!!!!!!!!!!!!!works!!!!!!!!!!!!!!!!!!!!!\n",
      "!!!!!!!!!!!!!!!!!!!!works!!!!!!!!!!!!!!!!!!!!!\n",
      "!!!!!!!!!!!!!!!!!!!!works!!!!!!!!!!!!!!!!!!!!!\n",
      "!!!!!!!!!!!!!!!!!!!!works!!!!!!!!!!!!!!!!!!!!!\n",
      "!!!!!!!!!!!!!!!!!!!!works!!!!!!!!!!!!!!!!!!!!!\n",
      "!!!!!!!!!!!!!!!!!!!!works!!!!!!!!!!!!!!!!!!!!!\n"
     ]
    },
    {
     "name": "stderr",
     "output_type": "stream",
     "text": [
      "323it [06:19,  1.35s/it]"
     ]
    },
    {
     "name": "stdout",
     "output_type": "stream",
     "text": [
      "322 cTDaR_t00503.xml\n",
      "!!!!!!!!!!!!!!!!!!!!works!!!!!!!!!!!!!!!!!!!!!\n",
      "!!!!!!!!!!!!!!!!!!!!works!!!!!!!!!!!!!!!!!!!!!\n",
      "!!!!!!!!!!!!!!!!!!!!works!!!!!!!!!!!!!!!!!!!!!\n",
      "!!!!!!!!!!!!!!!!!!!!works!!!!!!!!!!!!!!!!!!!!!\n",
      "!!!!!!!!!!!!!!!!!!!!works!!!!!!!!!!!!!!!!!!!!!\n",
      "!!!!!!!!!!!!!!!!!!!!works!!!!!!!!!!!!!!!!!!!!!\n",
      "323 cTDaR_t00504.xml\n"
     ]
    },
    {
     "name": "stderr",
     "output_type": "stream",
     "text": [
      "324it [06:20,  1.15s/it]"
     ]
    },
    {
     "name": "stdout",
     "output_type": "stream",
     "text": [
      "324 cTDaR_t00505.xml\n"
     ]
    },
    {
     "name": "stderr",
     "output_type": "stream",
     "text": [
      "325it [06:21,  1.29s/it]"
     ]
    },
    {
     "name": "stdout",
     "output_type": "stream",
     "text": [
      "325 cTDaR_t00506.xml\n"
     ]
    },
    {
     "name": "stderr",
     "output_type": "stream",
     "text": [
      "327it [06:24,  1.21s/it]"
     ]
    },
    {
     "name": "stdout",
     "output_type": "stream",
     "text": [
      "326 cTDaR_t00507.xml\n",
      "!!!!!!!!!!!!!!!!!!!!works!!!!!!!!!!!!!!!!!!!!!\n",
      "!!!!!!!!!!!!!!!!!!!!works!!!!!!!!!!!!!!!!!!!!!\n",
      "!!!!!!!!!!!!!!!!!!!!works!!!!!!!!!!!!!!!!!!!!!\n",
      "!!!!!!!!!!!!!!!!!!!!works!!!!!!!!!!!!!!!!!!!!!\n",
      "!!!!!!!!!!!!!!!!!!!!works!!!!!!!!!!!!!!!!!!!!!\n"
     ]
    },
    {
     "name": "stderr",
     "output_type": "stream",
     "text": [
      "328it [06:26,  1.61s/it]"
     ]
    },
    {
     "name": "stdout",
     "output_type": "stream",
     "text": [
      "327 cTDaR_t00508.xml\n",
      "328 cTDaR_t00509.xml\n"
     ]
    },
    {
     "name": "stderr",
     "output_type": "stream",
     "text": [
      "330it [06:30,  1.76s/it]"
     ]
    },
    {
     "name": "stdout",
     "output_type": "stream",
     "text": [
      "329 cTDaR_t00510.xml\n"
     ]
    },
    {
     "name": "stderr",
     "output_type": "stream",
     "text": [
      "331it [06:32,  1.66s/it]"
     ]
    },
    {
     "name": "stdout",
     "output_type": "stream",
     "text": [
      "330 cTDaR_t00511.xml\n",
      "331 cTDaR_t00512.xml\n",
      "!!!!!!!!!!!!!!!!!!!!works!!!!!!!!!!!!!!!!!!!!!\n"
     ]
    },
    {
     "name": "stderr",
     "output_type": "stream",
     "text": [
      "332it [06:34,  1.78s/it]"
     ]
    },
    {
     "name": "stdout",
     "output_type": "stream",
     "text": [
      "332 cTDaR_t00513.xml\n"
     ]
    },
    {
     "name": "stderr",
     "output_type": "stream",
     "text": [
      "334it [06:38,  2.09s/it]"
     ]
    },
    {
     "name": "stdout",
     "output_type": "stream",
     "text": [
      "333 cTDaR_t00514.xml\n",
      "334 cTDaR_t00515.xml\n"
     ]
    },
    {
     "name": "stderr",
     "output_type": "stream",
     "text": [
      "336it [06:41,  1.68s/it]"
     ]
    },
    {
     "name": "stdout",
     "output_type": "stream",
     "text": [
      "335 cTDaR_t00516.xml\n",
      "336 cTDaR_t00517.xml\n"
     ]
    },
    {
     "name": "stderr",
     "output_type": "stream",
     "text": [
      "338it [06:45,  1.67s/it]"
     ]
    },
    {
     "name": "stdout",
     "output_type": "stream",
     "text": [
      "337 cTDaR_t00518.xml\n"
     ]
    },
    {
     "name": "stderr",
     "output_type": "stream",
     "text": [
      "339it [06:46,  1.59s/it]"
     ]
    },
    {
     "name": "stdout",
     "output_type": "stream",
     "text": [
      "338 cTDaR_t00519.xml\n",
      "!!!!!!!!!!!!!!!!!!!!works!!!!!!!!!!!!!!!!!!!!!\n",
      "!!!!!!!!!!!!!!!!!!!!works!!!!!!!!!!!!!!!!!!!!!\n",
      "!!!!!!!!!!!!!!!!!!!!works!!!!!!!!!!!!!!!!!!!!!\n"
     ]
    },
    {
     "name": "stderr",
     "output_type": "stream",
     "text": [
      "340it [06:47,  1.41s/it]"
     ]
    },
    {
     "name": "stdout",
     "output_type": "stream",
     "text": [
      "339 cTDaR_t00520.xml\n",
      "340 cTDaR_t00521.xml\n"
     ]
    },
    {
     "name": "stderr",
     "output_type": "stream",
     "text": [
      "341it [06:49,  1.47s/it]"
     ]
    },
    {
     "name": "stdout",
     "output_type": "stream",
     "text": [
      "341 cTDaR_t00522.xml\n"
     ]
    },
    {
     "name": "stderr",
     "output_type": "stream",
     "text": [
      "343it [06:51,  1.19s/it]"
     ]
    },
    {
     "name": "stdout",
     "output_type": "stream",
     "text": [
      "342 cTDaR_t00530.xml\n"
     ]
    },
    {
     "name": "stderr",
     "output_type": "stream",
     "text": [
      "344it [06:52,  1.16s/it]"
     ]
    },
    {
     "name": "stdout",
     "output_type": "stream",
     "text": [
      "343 cTDaR_t00531.xml\n"
     ]
    },
    {
     "name": "stderr",
     "output_type": "stream",
     "text": [
      "345it [06:52,  1.02s/it]"
     ]
    },
    {
     "name": "stdout",
     "output_type": "stream",
     "text": [
      "344 cTDaR_t00532.xml\n"
     ]
    },
    {
     "name": "stderr",
     "output_type": "stream",
     "text": [
      "346it [06:53,  1.09it/s]"
     ]
    },
    {
     "name": "stdout",
     "output_type": "stream",
     "text": [
      "345 cTDaR_t00533.xml\n",
      "346 cTDaR_t00534.xml\n"
     ]
    },
    {
     "name": "stderr",
     "output_type": "stream",
     "text": [
      "347it [06:54,  1.02it/s]"
     ]
    },
    {
     "name": "stdout",
     "output_type": "stream",
     "text": [
      "347 cTDaR_t00535.xml\n"
     ]
    },
    {
     "name": "stderr",
     "output_type": "stream",
     "text": [
      "349it [06:56,  1.24it/s]"
     ]
    },
    {
     "name": "stdout",
     "output_type": "stream",
     "text": [
      "348 cTDaR_t00536.xml\n"
     ]
    },
    {
     "name": "stderr",
     "output_type": "stream",
     "text": [
      "350it [06:56,  1.33it/s]"
     ]
    },
    {
     "name": "stdout",
     "output_type": "stream",
     "text": [
      "349 cTDaR_t00537.xml\n"
     ]
    },
    {
     "name": "stderr",
     "output_type": "stream",
     "text": [
      "351it [06:57,  1.31it/s]"
     ]
    },
    {
     "name": "stdout",
     "output_type": "stream",
     "text": [
      "350 cTDaR_t00538.xml\n"
     ]
    },
    {
     "name": "stderr",
     "output_type": "stream",
     "text": [
      "352it [06:58,  1.32it/s]"
     ]
    },
    {
     "name": "stdout",
     "output_type": "stream",
     "text": [
      "351 cTDaR_t00539.xml\n"
     ]
    },
    {
     "name": "stderr",
     "output_type": "stream",
     "text": [
      "353it [06:59,  1.21it/s]"
     ]
    },
    {
     "name": "stdout",
     "output_type": "stream",
     "text": [
      "352 cTDaR_t00540.xml\n"
     ]
    },
    {
     "name": "stderr",
     "output_type": "stream",
     "text": [
      "354it [06:59,  1.29it/s]"
     ]
    },
    {
     "name": "stdout",
     "output_type": "stream",
     "text": [
      "353 cTDaR_t00541.xml\n",
      "354 cTDaR_t00542.xml\n"
     ]
    },
    {
     "name": "stderr",
     "output_type": "stream",
     "text": [
      "355it [07:01,  1.11it/s]"
     ]
    },
    {
     "name": "stdout",
     "output_type": "stream",
     "text": [
      "355 cTDaR_t00543.xml\n"
     ]
    },
    {
     "name": "stderr",
     "output_type": "stream",
     "text": [
      "357it [07:02,  1.16it/s]"
     ]
    },
    {
     "name": "stdout",
     "output_type": "stream",
     "text": [
      "356 cTDaR_t00544.xml\n",
      "357 cTDaR_t00545.xml\n"
     ]
    },
    {
     "name": "stderr",
     "output_type": "stream",
     "text": [
      "359it [07:04,  1.09it/s]"
     ]
    },
    {
     "name": "stdout",
     "output_type": "stream",
     "text": [
      "358 cTDaR_t00546.xml\n"
     ]
    },
    {
     "name": "stderr",
     "output_type": "stream",
     "text": [
      "360it [07:06,  1.14s/it]"
     ]
    },
    {
     "name": "stdout",
     "output_type": "stream",
     "text": [
      "359 cTDaR_t00547.xml\n",
      "360 cTDaR_t00548.xml\n"
     ]
    },
    {
     "name": "stderr",
     "output_type": "stream",
     "text": [
      "362it [07:11,  1.82s/it]"
     ]
    },
    {
     "name": "stdout",
     "output_type": "stream",
     "text": [
      "361 cTDaR_t00549.xml\n"
     ]
    },
    {
     "name": "stderr",
     "output_type": "stream",
     "text": [
      "363it [07:14,  2.05s/it]"
     ]
    },
    {
     "name": "stdout",
     "output_type": "stream",
     "text": [
      "362 cTDaR_t00550.xml\n",
      "363 cTDaR_t00551.xml\n"
     ]
    },
    {
     "name": "stderr",
     "output_type": "stream",
     "text": [
      "365it [07:20,  2.48s/it]"
     ]
    },
    {
     "name": "stdout",
     "output_type": "stream",
     "text": [
      "364 cTDaR_t00552.xml\n"
     ]
    },
    {
     "name": "stderr",
     "output_type": "stream",
     "text": [
      "366it [07:22,  2.35s/it]"
     ]
    },
    {
     "name": "stdout",
     "output_type": "stream",
     "text": [
      "365 cTDaR_t00553.xml\n"
     ]
    },
    {
     "name": "stderr",
     "output_type": "stream",
     "text": [
      "367it [07:24,  2.48s/it]"
     ]
    },
    {
     "name": "stdout",
     "output_type": "stream",
     "text": [
      "366 cTDaR_t00554.xml\n",
      "367 cTDaR_t00555.xml\n"
     ]
    },
    {
     "name": "stderr",
     "output_type": "stream",
     "text": [
      "369it [07:29,  2.34s/it]"
     ]
    },
    {
     "name": "stdout",
     "output_type": "stream",
     "text": [
      "368 cTDaR_t00556.xml\n",
      "369 cTDaR_t00557.xml\n"
     ]
    },
    {
     "name": "stderr",
     "output_type": "stream",
     "text": [
      "371it [07:37,  3.26s/it]"
     ]
    },
    {
     "name": "stdout",
     "output_type": "stream",
     "text": [
      "370 cTDaR_t00558.xml\n",
      "371 cTDaR_t00559.xml\n"
     ]
    },
    {
     "name": "stderr",
     "output_type": "stream",
     "text": [
      "373it [07:44,  3.38s/it]"
     ]
    },
    {
     "name": "stdout",
     "output_type": "stream",
     "text": [
      "372 cTDaR_t00560.xml\n",
      "373 cTDaR_t00561.xml\n"
     ]
    },
    {
     "name": "stderr",
     "output_type": "stream",
     "text": [
      "374it [07:45,  2.66s/it]"
     ]
    },
    {
     "name": "stdout",
     "output_type": "stream",
     "text": [
      "374 cTDaR_t00562.xml\n"
     ]
    },
    {
     "name": "stderr",
     "output_type": "stream",
     "text": [
      "376it [07:49,  2.43s/it]"
     ]
    },
    {
     "name": "stdout",
     "output_type": "stream",
     "text": [
      "375 cTDaR_t00563.xml\n"
     ]
    },
    {
     "name": "stderr",
     "output_type": "stream",
     "text": [
      "377it [07:50,  1.96s/it]"
     ]
    },
    {
     "name": "stdout",
     "output_type": "stream",
     "text": [
      "376 cTDaR_t00564.xml\n"
     ]
    },
    {
     "name": "stderr",
     "output_type": "stream",
     "text": [
      "378it [07:54,  2.43s/it]"
     ]
    },
    {
     "name": "stdout",
     "output_type": "stream",
     "text": [
      "377 cTDaR_t00565.xml\n",
      "378 cTDaR_t00566.xml\n"
     ]
    },
    {
     "name": "stderr",
     "output_type": "stream",
     "text": [
      "380it [07:59,  2.36s/it]"
     ]
    },
    {
     "name": "stdout",
     "output_type": "stream",
     "text": [
      "379 cTDaR_t00567.xml\n",
      "380 cTDaR_t00568.xml\n"
     ]
    },
    {
     "name": "stderr",
     "output_type": "stream",
     "text": [
      "382it [08:01,  1.73s/it]"
     ]
    },
    {
     "name": "stdout",
     "output_type": "stream",
     "text": [
      "381 cTDaR_t00569.xml\n"
     ]
    },
    {
     "name": "stderr",
     "output_type": "stream",
     "text": [
      "383it [08:03,  1.91s/it]"
     ]
    },
    {
     "name": "stdout",
     "output_type": "stream",
     "text": [
      "382 cTDaR_t00570.xml\n"
     ]
    },
    {
     "name": "stderr",
     "output_type": "stream",
     "text": [
      "384it [08:04,  1.56s/it]"
     ]
    },
    {
     "name": "stdout",
     "output_type": "stream",
     "text": [
      "383 cTDaR_t00571.xml\n",
      "384 cTDaR_t00572.xml\n"
     ]
    },
    {
     "name": "stderr",
     "output_type": "stream",
     "text": [
      "385it [08:06,  1.69s/it]"
     ]
    },
    {
     "name": "stdout",
     "output_type": "stream",
     "text": [
      "385 cTDaR_t00573.xml\n"
     ]
    },
    {
     "name": "stderr",
     "output_type": "stream",
     "text": [
      "387it [08:08,  1.38s/it]"
     ]
    },
    {
     "name": "stdout",
     "output_type": "stream",
     "text": [
      "386 cTDaR_t00574.xml\n",
      "387 cTDaR_t00575.xml\n"
     ]
    },
    {
     "name": "stderr",
     "output_type": "stream",
     "text": [
      "389it [08:11,  1.34s/it]"
     ]
    },
    {
     "name": "stdout",
     "output_type": "stream",
     "text": [
      "388 cTDaR_t00576.xml\n"
     ]
    },
    {
     "name": "stderr",
     "output_type": "stream",
     "text": [
      "390it [08:11,  1.10s/it]"
     ]
    },
    {
     "name": "stdout",
     "output_type": "stream",
     "text": [
      "389 cTDaR_t00577.xml\n"
     ]
    },
    {
     "name": "stderr",
     "output_type": "stream",
     "text": [
      "391it [08:12,  1.09it/s]"
     ]
    },
    {
     "name": "stdout",
     "output_type": "stream",
     "text": [
      "390 cTDaR_t00578.xml\n"
     ]
    },
    {
     "name": "stderr",
     "output_type": "stream",
     "text": [
      "392it [08:12,  1.28it/s]"
     ]
    },
    {
     "name": "stdout",
     "output_type": "stream",
     "text": [
      "391 cTDaR_t00579.xml\n"
     ]
    },
    {
     "name": "stderr",
     "output_type": "stream",
     "text": [
      "393it [08:13,  1.35it/s]"
     ]
    },
    {
     "name": "stdout",
     "output_type": "stream",
     "text": [
      "392 cTDaR_t00580.xml\n"
     ]
    },
    {
     "name": "stderr",
     "output_type": "stream",
     "text": [
      "394it [08:13,  1.49it/s]"
     ]
    },
    {
     "name": "stdout",
     "output_type": "stream",
     "text": [
      "393 cTDaR_t00581.xml\n"
     ]
    },
    {
     "name": "stderr",
     "output_type": "stream",
     "text": [
      "395it [08:14,  1.58it/s]"
     ]
    },
    {
     "name": "stdout",
     "output_type": "stream",
     "text": [
      "394 cTDaR_t00582.xml\n"
     ]
    },
    {
     "name": "stderr",
     "output_type": "stream",
     "text": [
      "396it [08:14,  1.68it/s]"
     ]
    },
    {
     "name": "stdout",
     "output_type": "stream",
     "text": [
      "395 cTDaR_t00583.xml\n"
     ]
    },
    {
     "name": "stderr",
     "output_type": "stream",
     "text": [
      "397it [08:15,  1.69it/s]"
     ]
    },
    {
     "name": "stdout",
     "output_type": "stream",
     "text": [
      "396 cTDaR_t00584.xml\n"
     ]
    },
    {
     "name": "stderr",
     "output_type": "stream",
     "text": [
      "398it [08:15,  1.82it/s]"
     ]
    },
    {
     "name": "stdout",
     "output_type": "stream",
     "text": [
      "397 cTDaR_t00585.xml\n"
     ]
    },
    {
     "name": "stderr",
     "output_type": "stream",
     "text": [
      "399it [08:17,  1.43it/s]"
     ]
    },
    {
     "name": "stdout",
     "output_type": "stream",
     "text": [
      "398 cTDaR_t00586.xml\n"
     ]
    },
    {
     "name": "stderr",
     "output_type": "stream",
     "text": [
      "400it [08:17,  1.40it/s]"
     ]
    },
    {
     "name": "stdout",
     "output_type": "stream",
     "text": [
      "399 cTDaR_t00587.xml\n"
     ]
    },
    {
     "name": "stderr",
     "output_type": "stream",
     "text": [
      "401it [08:18,  1.23it/s]"
     ]
    },
    {
     "name": "stdout",
     "output_type": "stream",
     "text": [
      "400 cTDaR_t00588.xml\n"
     ]
    },
    {
     "name": "stderr",
     "output_type": "stream",
     "text": [
      "402it [08:19,  1.26it/s]"
     ]
    },
    {
     "name": "stdout",
     "output_type": "stream",
     "text": [
      "401 cTDaR_t00589.xml\n"
     ]
    },
    {
     "name": "stderr",
     "output_type": "stream",
     "text": [
      "403it [08:20,  1.25it/s]"
     ]
    },
    {
     "name": "stdout",
     "output_type": "stream",
     "text": [
      "402 cTDaR_t00590.xml\n"
     ]
    },
    {
     "name": "stderr",
     "output_type": "stream",
     "text": [
      "404it [08:21,  1.28it/s]"
     ]
    },
    {
     "name": "stdout",
     "output_type": "stream",
     "text": [
      "403 cTDaR_t00591.xml\n"
     ]
    },
    {
     "name": "stderr",
     "output_type": "stream",
     "text": [
      "405it [08:21,  1.24it/s]"
     ]
    },
    {
     "name": "stdout",
     "output_type": "stream",
     "text": [
      "404 cTDaR_t00592.xml\n"
     ]
    },
    {
     "name": "stderr",
     "output_type": "stream",
     "text": [
      "406it [08:22,  1.31it/s]"
     ]
    },
    {
     "name": "stdout",
     "output_type": "stream",
     "text": [
      "405 cTDaR_t00593.xml\n"
     ]
    },
    {
     "name": "stderr",
     "output_type": "stream",
     "text": [
      "407it [08:23,  1.38it/s]"
     ]
    },
    {
     "name": "stdout",
     "output_type": "stream",
     "text": [
      "406 cTDaR_t00594.xml\n"
     ]
    },
    {
     "name": "stderr",
     "output_type": "stream",
     "text": [
      "408it [08:23,  1.52it/s]"
     ]
    },
    {
     "name": "stdout",
     "output_type": "stream",
     "text": [
      "407 cTDaR_t00595.xml\n"
     ]
    },
    {
     "name": "stderr",
     "output_type": "stream",
     "text": [
      "409it [08:24,  1.49it/s]"
     ]
    },
    {
     "name": "stdout",
     "output_type": "stream",
     "text": [
      "408 cTDaR_t00596.xml\n"
     ]
    },
    {
     "name": "stderr",
     "output_type": "stream",
     "text": [
      "410it [08:25,  1.55it/s]"
     ]
    },
    {
     "name": "stdout",
     "output_type": "stream",
     "text": [
      "409 cTDaR_t00597.xml\n"
     ]
    },
    {
     "name": "stderr",
     "output_type": "stream",
     "text": [
      "411it [08:25,  1.68it/s]"
     ]
    },
    {
     "name": "stdout",
     "output_type": "stream",
     "text": [
      "410 cTDaR_t00598.xml\n"
     ]
    },
    {
     "name": "stderr",
     "output_type": "stream",
     "text": [
      "412it [08:26,  1.78it/s]"
     ]
    },
    {
     "name": "stdout",
     "output_type": "stream",
     "text": [
      "411 cTDaR_t00599.xml\n",
      "412 cTDaR_t00600.xml\n"
     ]
    },
    {
     "name": "stderr",
     "output_type": "stream",
     "text": [
      "413it [08:28,  1.23s/it]"
     ]
    },
    {
     "name": "stdout",
     "output_type": "stream",
     "text": [
      "413 cTDaR_t00601.xml\n"
     ]
    },
    {
     "name": "stderr",
     "output_type": "stream",
     "text": [
      "414it [08:31,  1.52s/it]"
     ]
    },
    {
     "name": "stdout",
     "output_type": "stream",
     "text": [
      "414 cTDaR_t00602.xml\n"
     ]
    },
    {
     "name": "stderr",
     "output_type": "stream",
     "text": [
      "415it [08:32,  1.46s/it]"
     ]
    },
    {
     "name": "stdout",
     "output_type": "stream",
     "text": [
      "415 cTDaR_t00603.xml\n"
     ]
    },
    {
     "name": "stderr",
     "output_type": "stream",
     "text": [
      "416it [08:33,  1.41s/it]"
     ]
    },
    {
     "name": "stdout",
     "output_type": "stream",
     "text": [
      "416 cTDaR_t00604.xml\n"
     ]
    },
    {
     "name": "stderr",
     "output_type": "stream",
     "text": [
      "417it [08:35,  1.46s/it]"
     ]
    },
    {
     "name": "stdout",
     "output_type": "stream",
     "text": [
      "417 cTDaR_t00605.xml\n"
     ]
    },
    {
     "name": "stderr",
     "output_type": "stream",
     "text": [
      "418it [08:37,  1.65s/it]"
     ]
    },
    {
     "name": "stdout",
     "output_type": "stream",
     "text": [
      "418 cTDaR_t00606.xml\n"
     ]
    },
    {
     "name": "stderr",
     "output_type": "stream",
     "text": [
      "419it [08:39,  1.74s/it]"
     ]
    },
    {
     "name": "stdout",
     "output_type": "stream",
     "text": [
      "419 cTDaR_t00607.xml\n"
     ]
    },
    {
     "name": "stderr",
     "output_type": "stream",
     "text": [
      "420it [08:40,  1.67s/it]"
     ]
    },
    {
     "name": "stdout",
     "output_type": "stream",
     "text": [
      "420 cTDaR_t00608.xml\n"
     ]
    },
    {
     "name": "stderr",
     "output_type": "stream",
     "text": [
      "421it [08:42,  1.78s/it]"
     ]
    },
    {
     "name": "stdout",
     "output_type": "stream",
     "text": [
      "421 cTDaR_t00609.xml\n"
     ]
    },
    {
     "name": "stderr",
     "output_type": "stream",
     "text": [
      "423it [08:46,  1.79s/it]"
     ]
    },
    {
     "name": "stdout",
     "output_type": "stream",
     "text": [
      "422 cTDaR_t00610.xml\n",
      "423 cTDaR_t00611.xml\n"
     ]
    },
    {
     "name": "stderr",
     "output_type": "stream",
     "text": [
      "425it [08:49,  1.56s/it]"
     ]
    },
    {
     "name": "stdout",
     "output_type": "stream",
     "text": [
      "424 cTDaR_t00612.xml\n",
      "425 cTDaR_t00613.xml\n"
     ]
    },
    {
     "name": "stderr",
     "output_type": "stream",
     "text": [
      "427it [08:52,  1.53s/it]"
     ]
    },
    {
     "name": "stdout",
     "output_type": "stream",
     "text": [
      "426 cTDaR_t00614.xml\n"
     ]
    },
    {
     "name": "stderr",
     "output_type": "stream",
     "text": [
      "428it [08:53,  1.34s/it]"
     ]
    },
    {
     "name": "stdout",
     "output_type": "stream",
     "text": [
      "427 cTDaR_t00615.xml\n"
     ]
    },
    {
     "name": "stderr",
     "output_type": "stream",
     "text": [
      "429it [08:53,  1.13s/it]"
     ]
    },
    {
     "name": "stdout",
     "output_type": "stream",
     "text": [
      "428 cTDaR_t00616.xml\n"
     ]
    },
    {
     "name": "stderr",
     "output_type": "stream",
     "text": [
      "430it [08:56,  1.57s/it]"
     ]
    },
    {
     "name": "stdout",
     "output_type": "stream",
     "text": [
      "429 cTDaR_t00617.xml\n"
     ]
    },
    {
     "name": "stderr",
     "output_type": "stream",
     "text": [
      "431it [08:57,  1.47s/it]"
     ]
    },
    {
     "name": "stdout",
     "output_type": "stream",
     "text": [
      "430 cTDaR_t00618.xml\n"
     ]
    },
    {
     "name": "stderr",
     "output_type": "stream",
     "text": [
      "432it [08:58,  1.31s/it]"
     ]
    },
    {
     "name": "stdout",
     "output_type": "stream",
     "text": [
      "431 cTDaR_t00619.xml\n"
     ]
    },
    {
     "name": "stderr",
     "output_type": "stream",
     "text": [
      "433it [08:59,  1.14s/it]"
     ]
    },
    {
     "name": "stdout",
     "output_type": "stream",
     "text": [
      "432 cTDaR_t00620.xml\n",
      "433 cTDaR_t00641.xml\n"
     ]
    },
    {
     "name": "stderr",
     "output_type": "stream",
     "text": [
      "434it [09:00,  1.23s/it]"
     ]
    },
    {
     "name": "stdout",
     "output_type": "stream",
     "text": [
      "434 cTDaR_t00642.xml\n"
     ]
    },
    {
     "name": "stderr",
     "output_type": "stream",
     "text": [
      "435it [09:04,  1.99s/it]"
     ]
    },
    {
     "name": "stdout",
     "output_type": "stream",
     "text": [
      "435 cTDaR_t00643.xml\n"
     ]
    },
    {
     "name": "stderr",
     "output_type": "stream",
     "text": [
      "437it [09:14,  3.46s/it]"
     ]
    },
    {
     "name": "stdout",
     "output_type": "stream",
     "text": [
      "436 cTDaR_t00644.xml\n"
     ]
    },
    {
     "name": "stderr",
     "output_type": "stream",
     "text": [
      "438it [09:16,  3.11s/it]"
     ]
    },
    {
     "name": "stdout",
     "output_type": "stream",
     "text": [
      "437 cTDaR_t00645.xml\n"
     ]
    },
    {
     "name": "stderr",
     "output_type": "stream",
     "text": [
      "439it [09:16,  2.33s/it]"
     ]
    },
    {
     "name": "stdout",
     "output_type": "stream",
     "text": [
      "438 cTDaR_t00646.xml\n"
     ]
    },
    {
     "name": "stderr",
     "output_type": "stream",
     "text": [
      "440it [09:18,  1.98s/it]"
     ]
    },
    {
     "name": "stdout",
     "output_type": "stream",
     "text": [
      "439 cTDaR_t00647.xml\n"
     ]
    },
    {
     "name": "stderr",
     "output_type": "stream",
     "text": [
      "441it [09:19,  1.64s/it]"
     ]
    },
    {
     "name": "stdout",
     "output_type": "stream",
     "text": [
      "440 cTDaR_t00650.xml\n",
      "!!!!!!!!!!!!!!!!!!!!works!!!!!!!!!!!!!!!!!!!!!\n"
     ]
    },
    {
     "name": "stderr",
     "output_type": "stream",
     "text": [
      "442it [09:19,  1.26s/it]"
     ]
    },
    {
     "name": "stdout",
     "output_type": "stream",
     "text": [
      "441 cTDaR_t00651.xml\n",
      "442 cTDaR_t00652.xml\n",
      "!!!!!!!!!!!!!!!!!!!!works!!!!!!!!!!!!!!!!!!!!!\n"
     ]
    },
    {
     "name": "stderr",
     "output_type": "stream",
     "text": [
      "443it [09:20,  1.29s/it]"
     ]
    },
    {
     "name": "stdout",
     "output_type": "stream",
     "text": [
      "443 cTDaR_t00653.xml\n",
      "!!!!!!!!!!!!!!!!!!!!works!!!!!!!!!!!!!!!!!!!!!\n"
     ]
    },
    {
     "name": "stderr",
     "output_type": "stream",
     "text": [
      "445it [09:22,  1.20s/it]"
     ]
    },
    {
     "name": "stdout",
     "output_type": "stream",
     "text": [
      "444 cTDaR_t00654.xml\n",
      "!!!!!!!!!!!!!!!!!!!!works!!!!!!!!!!!!!!!!!!!!!\n",
      "445 cTDaR_t00655.xml\n",
      "!!!!!!!!!!!!!!!!!!!!works!!!!!!!!!!!!!!!!!!!!!\n"
     ]
    },
    {
     "name": "stderr",
     "output_type": "stream",
     "text": [
      "447it [09:25,  1.19s/it]"
     ]
    },
    {
     "name": "stdout",
     "output_type": "stream",
     "text": [
      "446 cTDaR_t00656.xml\n",
      "!!!!!!!!!!!!!!!!!!!!works!!!!!!!!!!!!!!!!!!!!!\n",
      "447 cTDaR_t00657.xml\n",
      "!!!!!!!!!!!!!!!!!!!!works!!!!!!!!!!!!!!!!!!!!!\n"
     ]
    },
    {
     "name": "stderr",
     "output_type": "stream",
     "text": [
      "448it [09:26,  1.12s/it]"
     ]
    },
    {
     "name": "stdout",
     "output_type": "stream",
     "text": [
      "448 cTDaR_t00658.xml\n",
      "!!!!!!!!!!!!!!!!!!!!works!!!!!!!!!!!!!!!!!!!!!\n"
     ]
    },
    {
     "name": "stderr",
     "output_type": "stream",
     "text": [
      "450it [09:30,  1.77s/it]"
     ]
    },
    {
     "name": "stdout",
     "output_type": "stream",
     "text": [
      "449 cTDaR_t00662.xml\n"
     ]
    },
    {
     "name": "stderr",
     "output_type": "stream",
     "text": [
      "451it [09:36,  2.88s/it]"
     ]
    },
    {
     "name": "stdout",
     "output_type": "stream",
     "text": [
      "450 cTDaR_t00663.xml\n",
      "451 cTDaR_t00664.xml\n"
     ]
    },
    {
     "name": "stderr",
     "output_type": "stream",
     "text": [
      "453it [09:42,  2.90s/it]"
     ]
    },
    {
     "name": "stdout",
     "output_type": "stream",
     "text": [
      "452 cTDaR_t00665.xml\n",
      "453 cTDaR_t00666.xml\n"
     ]
    },
    {
     "name": "stderr",
     "output_type": "stream",
     "text": [
      "454it [09:44,  2.81s/it]"
     ]
    },
    {
     "name": "stdout",
     "output_type": "stream",
     "text": [
      "454 cTDaR_t00667.xml\n"
     ]
    },
    {
     "name": "stderr",
     "output_type": "stream",
     "text": [
      "455it [09:46,  2.61s/it]"
     ]
    },
    {
     "name": "stdout",
     "output_type": "stream",
     "text": [
      "455 cTDaR_t00668.xml\n"
     ]
    },
    {
     "name": "stderr",
     "output_type": "stream",
     "text": [
      "457it [09:51,  2.40s/it]"
     ]
    },
    {
     "name": "stdout",
     "output_type": "stream",
     "text": [
      "456 cTDaR_t00669.xml\n"
     ]
    },
    {
     "name": "stderr",
     "output_type": "stream",
     "text": [
      "458it [09:52,  2.10s/it]"
     ]
    },
    {
     "name": "stdout",
     "output_type": "stream",
     "text": [
      "457 cTDaR_t00670.xml\n",
      "458 cTDaR_t00671.xml\n"
     ]
    },
    {
     "name": "stderr",
     "output_type": "stream",
     "text": [
      "460it [09:55,  1.70s/it]"
     ]
    },
    {
     "name": "stdout",
     "output_type": "stream",
     "text": [
      "459 cTDaR_t00672.xml\n"
     ]
    },
    {
     "name": "stderr",
     "output_type": "stream",
     "text": [
      "461it [09:57,  1.64s/it]"
     ]
    },
    {
     "name": "stdout",
     "output_type": "stream",
     "text": [
      "460 cTDaR_t00673.xml\n"
     ]
    },
    {
     "name": "stderr",
     "output_type": "stream",
     "text": [
      "462it [09:59,  1.96s/it]"
     ]
    },
    {
     "name": "stdout",
     "output_type": "stream",
     "text": [
      "461 cTDaR_t00674.xml\n",
      "462 cTDaR_t00675.xml\n"
     ]
    },
    {
     "name": "stderr",
     "output_type": "stream",
     "text": [
      "464it [10:01,  1.51s/it]"
     ]
    },
    {
     "name": "stdout",
     "output_type": "stream",
     "text": [
      "463 cTDaR_t00676.xml\n",
      "464 cTDaR_t00677.xml\n"
     ]
    },
    {
     "name": "stderr",
     "output_type": "stream",
     "text": [
      "465it [10:03,  1.54s/it]"
     ]
    },
    {
     "name": "stdout",
     "output_type": "stream",
     "text": [
      "465 cTDaR_t00678.xml\n"
     ]
    },
    {
     "name": "stderr",
     "output_type": "stream",
     "text": [
      "466it [10:04,  1.47s/it]"
     ]
    },
    {
     "name": "stdout",
     "output_type": "stream",
     "text": [
      "466 cTDaR_t00679.xml\n"
     ]
    },
    {
     "name": "stderr",
     "output_type": "stream",
     "text": [
      "467it [10:06,  1.46s/it]"
     ]
    },
    {
     "name": "stdout",
     "output_type": "stream",
     "text": [
      "467 cTDaR_t00708.xml\n"
     ]
    },
    {
     "name": "stderr",
     "output_type": "stream",
     "text": [
      "469it [10:08,  1.28s/it]"
     ]
    },
    {
     "name": "stdout",
     "output_type": "stream",
     "text": [
      "468 cTDaR_t00709.xml\n",
      "469 cTDaR_t00710.xml\n"
     ]
    },
    {
     "name": "stderr",
     "output_type": "stream",
     "text": [
      "471it [10:19,  3.91s/it]"
     ]
    },
    {
     "name": "stdout",
     "output_type": "stream",
     "text": [
      "470 cTDaR_t00711.xml\n"
     ]
    },
    {
     "name": "stderr",
     "output_type": "stream",
     "text": [
      "472it [10:46, 10.65s/it]"
     ]
    },
    {
     "name": "stdout",
     "output_type": "stream",
     "text": [
      "471 cTDaR_t00712.xml\n",
      "472 cTDaR_t00713.xml\n"
     ]
    },
    {
     "name": "stderr",
     "output_type": "stream",
     "text": [
      "474it [11:21, 13.38s/it]"
     ]
    },
    {
     "name": "stdout",
     "output_type": "stream",
     "text": [
      "473 cTDaR_t00714.xml\n",
      "474 cTDaR_t00715.xml\n"
     ]
    },
    {
     "name": "stderr",
     "output_type": "stream",
     "text": [
      "476it [11:48, 12.71s/it]"
     ]
    },
    {
     "name": "stdout",
     "output_type": "stream",
     "text": [
      "475 cTDaR_t00716.xml\n"
     ]
    },
    {
     "name": "stderr",
     "output_type": "stream",
     "text": [
      "477it [11:51,  9.81s/it]"
     ]
    },
    {
     "name": "stdout",
     "output_type": "stream",
     "text": [
      "476 cTDaR_t00717.xml\n",
      "477 cTDaR_t00718.xml\n"
     ]
    },
    {
     "name": "stderr",
     "output_type": "stream",
     "text": [
      "478it [11:56,  8.28s/it]"
     ]
    },
    {
     "name": "stdout",
     "output_type": "stream",
     "text": [
      "478 cTDaR_t00719.xml\n"
     ]
    },
    {
     "name": "stderr",
     "output_type": "stream",
     "text": [
      "479it [12:01,  7.49s/it]"
     ]
    },
    {
     "name": "stdout",
     "output_type": "stream",
     "text": [
      "479 cTDaR_t00760.xml\n"
     ]
    },
    {
     "name": "stderr",
     "output_type": "stream",
     "text": [
      "481it [12:17,  7.82s/it]"
     ]
    },
    {
     "name": "stdout",
     "output_type": "stream",
     "text": [
      "480 cTDaR_t00761.xml\n",
      "481 cTDaR_t00762.xml\n"
     ]
    },
    {
     "name": "stderr",
     "output_type": "stream",
     "text": [
      "483it [12:43, 10.82s/it]"
     ]
    },
    {
     "name": "stdout",
     "output_type": "stream",
     "text": [
      "482 cTDaR_t00763.xml\n",
      "483 cTDaR_t00764.xml\n"
     ]
    },
    {
     "name": "stderr",
     "output_type": "stream",
     "text": [
      "484it [12:48,  9.23s/it]"
     ]
    },
    {
     "name": "stdout",
     "output_type": "stream",
     "text": [
      "484 cTDaR_t00765.xml\n"
     ]
    },
    {
     "name": "stderr",
     "output_type": "stream",
     "text": [
      "485it [12:54,  8.29s/it]"
     ]
    },
    {
     "name": "stdout",
     "output_type": "stream",
     "text": [
      "485 cTDaR_t00766.xml\n"
     ]
    },
    {
     "name": "stderr",
     "output_type": "stream",
     "text": [
      "486it [12:57,  6.52s/it]"
     ]
    },
    {
     "name": "stdout",
     "output_type": "stream",
     "text": [
      "486 cTDaR_t00767.xml\n"
     ]
    },
    {
     "name": "stderr",
     "output_type": "stream",
     "text": [
      "488it [12:59,  3.73s/it]"
     ]
    },
    {
     "name": "stdout",
     "output_type": "stream",
     "text": [
      "487 cTDaR_t00768.xml\n"
     ]
    },
    {
     "name": "stderr",
     "output_type": "stream",
     "text": [
      "489it [13:00,  2.78s/it]"
     ]
    },
    {
     "name": "stdout",
     "output_type": "stream",
     "text": [
      "488 cTDaR_t00769.xml\n",
      "489 cTDaR_t00770.xml\n"
     ]
    },
    {
     "name": "stderr",
     "output_type": "stream",
     "text": [
      "491it [13:01,  1.77s/it]"
     ]
    },
    {
     "name": "stdout",
     "output_type": "stream",
     "text": [
      "490 cTDaR_t00771.xml\n"
     ]
    },
    {
     "name": "stderr",
     "output_type": "stream",
     "text": [
      "492it [13:02,  1.42s/it]"
     ]
    },
    {
     "name": "stdout",
     "output_type": "stream",
     "text": [
      "491 cTDaR_t00772.xml\n",
      "492 cTDaR_t00799.xml\n"
     ]
    },
    {
     "name": "stderr",
     "output_type": "stream",
     "text": [
      "494it [13:04,  1.21s/it]"
     ]
    },
    {
     "name": "stdout",
     "output_type": "stream",
     "text": [
      "493 cTDaR_t00800.xml\n",
      "494 cTDaR_t00801.xml\n",
      "!!!!!!!!!!!!!!!!!!!!works!!!!!!!!!!!!!!!!!!!!!\n"
     ]
    },
    {
     "name": "stderr",
     "output_type": "stream",
     "text": [
      "495it [13:05,  1.07s/it]"
     ]
    },
    {
     "name": "stdout",
     "output_type": "stream",
     "text": [
      "495 cTDaR_t00802.xml\n",
      "!!!!!!!!!!!!!!!!!!!!works!!!!!!!!!!!!!!!!!!!!!\n"
     ]
    },
    {
     "name": "stderr",
     "output_type": "stream",
     "text": [
      "497it [13:06,  1.05it/s]"
     ]
    },
    {
     "name": "stdout",
     "output_type": "stream",
     "text": [
      "496 cTDaR_t00803.xml\n",
      "!!!!!!!!!!!!!!!!!!!!works!!!!!!!!!!!!!!!!!!!!!\n"
     ]
    },
    {
     "name": "stderr",
     "output_type": "stream",
     "text": [
      "498it [13:07,  1.07it/s]"
     ]
    },
    {
     "name": "stdout",
     "output_type": "stream",
     "text": [
      "497 cTDaR_t00804.xml\n",
      "!!!!!!!!!!!!!!!!!!!!works!!!!!!!!!!!!!!!!!!!!!\n",
      "498 cTDaR_t00805.xml\n"
     ]
    },
    {
     "name": "stderr",
     "output_type": "stream",
     "text": [
      "499it [13:09,  1.05s/it]"
     ]
    },
    {
     "name": "stdout",
     "output_type": "stream",
     "text": [
      "499 cTDaR_t00806.xml\n",
      "!!!!!!!!!!!!!!!!!!!!works!!!!!!!!!!!!!!!!!!!!!\n"
     ]
    },
    {
     "name": "stderr",
     "output_type": "stream",
     "text": [
      "500it [13:10,  1.10s/it]"
     ]
    },
    {
     "name": "stdout",
     "output_type": "stream",
     "text": [
      "500 cTDaR_t00807.xml\n"
     ]
    },
    {
     "name": "stderr",
     "output_type": "stream",
     "text": [
      "502it [13:12,  1.16s/it]"
     ]
    },
    {
     "name": "stdout",
     "output_type": "stream",
     "text": [
      "501 cTDaR_t00808.xml\n",
      "502 cTDaR_t00809.xml\n"
     ]
    },
    {
     "name": "stderr",
     "output_type": "stream",
     "text": [
      "503it [13:13,  1.05s/it]"
     ]
    },
    {
     "name": "stdout",
     "output_type": "stream",
     "text": [
      "503 cTDaR_t00815.xml\n"
     ]
    },
    {
     "name": "stderr",
     "output_type": "stream",
     "text": [
      "504it [13:14,  1.04s/it]"
     ]
    },
    {
     "name": "stdout",
     "output_type": "stream",
     "text": [
      "504 cTDaR_t00816.xml\n"
     ]
    },
    {
     "name": "stderr",
     "output_type": "stream",
     "text": [
      "505it [13:16,  1.17s/it]"
     ]
    },
    {
     "name": "stdout",
     "output_type": "stream",
     "text": [
      "505 cTDaR_t00817.xml\n"
     ]
    },
    {
     "name": "stderr",
     "output_type": "stream",
     "text": [
      "506it [13:18,  1.64s/it]"
     ]
    },
    {
     "name": "stdout",
     "output_type": "stream",
     "text": [
      "506 cTDaR_t00818.xml\n"
     ]
    },
    {
     "name": "stderr",
     "output_type": "stream",
     "text": [
      "507it [13:25,  2.99s/it]"
     ]
    },
    {
     "name": "stdout",
     "output_type": "stream",
     "text": [
      "507 cTDaR_t00819.xml\n"
     ]
    },
    {
     "name": "stderr",
     "output_type": "stream",
     "text": [
      "508it [13:28,  3.10s/it]"
     ]
    },
    {
     "name": "stdout",
     "output_type": "stream",
     "text": [
      "508 cTDaR_t00820.xml\n"
     ]
    },
    {
     "name": "stderr",
     "output_type": "stream",
     "text": [
      "509it [13:33,  1.60s/it]"
     ]
    },
    {
     "name": "stdout",
     "output_type": "stream",
     "text": [
      "509 cTDaR_t00821.xml\n"
     ]
    },
    {
     "name": "stderr",
     "output_type": "stream",
     "text": [
      "\n"
     ]
    },
    {
     "ename": "KeyError",
     "evalue": "(75, 3)",
     "output_type": "error",
     "traceback": [
      "\u001b[1;31m---------------------------------------------------------------------------\u001b[0m",
      "\u001b[1;31mKeyError\u001b[0m                                  Traceback (most recent call last)",
      "Cell \u001b[1;32mIn[112], line 28\u001b[0m\n\u001b[0;32m     25\u001b[0m tables, all_points, max_col \u001b[38;5;241m=\u001b[39m getall(root)\n\u001b[0;32m     26\u001b[0m all_points \u001b[38;5;241m=\u001b[39m customsort(all_points)\n\u001b[1;32m---> 28\u001b[0m crds \u001b[38;5;241m=\u001b[39m \u001b[43mtoplot\u001b[49m\u001b[43m(\u001b[49m\u001b[43mall_points\u001b[49m\u001b[43m,\u001b[49m\u001b[43m \u001b[49m\u001b[43mmax_col\u001b[49m\u001b[43m)\u001b[49m\n\u001b[0;32m     29\u001b[0m \u001b[38;5;66;03m# print(crds, tables)\u001b[39;00m\n\u001b[0;32m     30\u001b[0m colmask, tablemask \u001b[38;5;241m=\u001b[39m os\u001b[38;5;241m.\u001b[39mpath\u001b[38;5;241m.\u001b[39mjoin(COL_MASK_PATH, image_name), os\u001b[38;5;241m.\u001b[39mpath\u001b[38;5;241m.\u001b[39mjoin(TABLE_MASK_PATH, image_name)\n",
      "Cell \u001b[1;32mIn[56], line 34\u001b[0m, in \u001b[0;36mtoplot\u001b[1;34m(all_ps, max_col)\u001b[0m\n\u001b[0;32m     30\u001b[0m res, rep \u001b[38;5;241m=\u001b[39m \u001b[38;5;28;01mNone\u001b[39;00m, \u001b[38;5;28;01mNone\u001b[39;00m\n\u001b[0;32m     31\u001b[0m \u001b[38;5;28;01mwhile\u001b[39;00m res \u001b[38;5;241m==\u001b[39m \u001b[38;5;28;01mNone\u001b[39;00m:\n\u001b[0;32m     32\u001b[0m   \u001b[38;5;66;03m# print(\"j:\", j,\"R1:\", R1, all_poins[(R1 - j, i)])\u001b[39;00m\n\u001b[0;32m     33\u001b[0m   \u001b[38;5;66;03m# print(all_poins[(R1 - j, i)])\u001b[39;00m\n\u001b[1;32m---> 34\u001b[0m   res\u001b[38;5;241m=\u001b[39m \u001b[43mall_poins\u001b[49m\u001b[43m[\u001b[49m\u001b[43m(\u001b[49m\u001b[43mR1\u001b[49m\u001b[43m \u001b[49m\u001b[38;5;241;43m-\u001b[39;49m\u001b[43m \u001b[49m\u001b[43mj\u001b[49m\u001b[43m,\u001b[49m\u001b[43m \u001b[49m\u001b[43mi\u001b[49m\u001b[43m)\u001b[49m\u001b[43m]\u001b[49m\n\u001b[0;32m     35\u001b[0m   j \u001b[38;5;241m=\u001b[39m j\u001b[38;5;241m+\u001b[39m\u001b[38;5;241m1\u001b[39m\n\u001b[0;32m     36\u001b[0m   \u001b[38;5;28;01mif\u001b[39;00m(R1\u001b[38;5;241m-\u001b[39mj\u001b[38;5;241m<\u001b[39m\u001b[38;5;241m0\u001b[39m):\n",
      "\u001b[1;31mKeyError\u001b[0m: (75, 3)"
     ]
    }
   ],
   "source": [
    "# processed_data = []\n",
    "\n",
    "for i, data in enumerate([jpgs]):\n",
    "    \n",
    "    for j, img_path in tqdm(enumerate(data)):\n",
    "    #    if j > 99: \n",
    "        image_name = os.path.basename(img_path)\n",
    "        image = Image.open(img_path)\n",
    "        w, h = image.size\n",
    "        #convert to RGB image\n",
    "        image = image.resize((new_h, new_w))\n",
    "        if image.mode != 'RGB':\n",
    "            image = image.convert(\"RGB\")\n",
    "        # table_bboxes, col_bboxes = [], []\n",
    "            \n",
    "        #get xml filename\n",
    "        xml_file = image_name.replace('.jpg', '.xml')\n",
    "        xml_file = xml_file.replace('.JPG', '.xml')\n",
    "        xml_path = os.path.join(ORIG_DATA_PATH, xml_file)\n",
    "        # xml_file.replace(\" \", \"\")\n",
    "        #processing XML\n",
    "        tree = ET.parse(xml_path)\n",
    "        root = tree.getroot()\n",
    "        print(j, xml_file)\n",
    "        tables, all_points, max_col = getall(root)\n",
    "        all_points = customsort(all_points)\n",
    "        \n",
    "        crds = toplot(all_points, max_col)\n",
    "        # print(crds, tables)\n",
    "        colmask, tablemask = os.path.join(COL_MASK_PATH, image_name), os.path.join(TABLE_MASK_PATH, image_name)\n",
    "        colplot(crds, img_path, colmask)\n",
    "        tableplot(tables, img_path, tablemask)\n",
    "        value = (img_path, tablemask, colmask, h, w, int(tables != 0), \\\n",
    "                len(tables), len(crds), tables, crds)\n",
    "        \n",
    "        processed_data.append(value)\n",
    "            # print(xml_path, w, h)\n",
    "        # if j == 100:\n",
    "            # break"
   ]
  },
  {
   "cell_type": "code",
   "execution_count": 113,
   "metadata": {},
   "outputs": [],
   "source": [
    "column_name = ['img_path','table_mask','col_mask','original_height','original_width','hasTable','table_count','col_count','table_bboxes','col_bboxes']\n",
    "processed_data = pd.DataFrame(processed_data, columns=column_name)"
   ]
  },
  {
   "cell_type": "code",
   "execution_count": 114,
   "metadata": {},
   "outputs": [],
   "source": [
    "processed_data.to_csv(\"processed_data_ICDAR.csv\", index = False)"
   ]
  },
  {
   "cell_type": "code",
   "execution_count": 115,
   "metadata": {},
   "outputs": [
    {
     "data": {
      "text/html": [
       "<div>\n",
       "<style scoped>\n",
       "    .dataframe tbody tr th:only-of-type {\n",
       "        vertical-align: middle;\n",
       "    }\n",
       "\n",
       "    .dataframe tbody tr th {\n",
       "        vertical-align: top;\n",
       "    }\n",
       "\n",
       "    .dataframe thead th {\n",
       "        text-align: right;\n",
       "    }\n",
       "</style>\n",
       "<table border=\"1\" class=\"dataframe\">\n",
       "  <thead>\n",
       "    <tr style=\"text-align: right;\">\n",
       "      <th></th>\n",
       "      <th>img_path</th>\n",
       "      <th>table_mask</th>\n",
       "      <th>col_mask</th>\n",
       "      <th>original_height</th>\n",
       "      <th>original_width</th>\n",
       "      <th>hasTable</th>\n",
       "      <th>table_count</th>\n",
       "      <th>col_count</th>\n",
       "      <th>table_bboxes</th>\n",
       "      <th>col_bboxes</th>\n",
       "    </tr>\n",
       "  </thead>\n",
       "  <tbody>\n",
       "    <tr>\n",
       "      <th>0</th>\n",
       "      <td>./ICDAR/ICDAR2019_cTDaR/training/TRACKB1/groun...</td>\n",
       "      <td>./ICDAR/ICDAR_Processed\\table_mask\\cTDaR_t0000...</td>\n",
       "      <td>./ICDAR/ICDAR_Processed\\col_mask\\cTDaR_t00000.jpg</td>\n",
       "      <td>3584</td>\n",
       "      <td>4912</td>\n",
       "      <td>1</td>\n",
       "      <td>1</td>\n",
       "      <td>1</td>\n",
       "      <td>[[(1722, 698), (3961, 698), (3961, 3247), (172...</td>\n",
       "      <td>[[[(1742, 698), (1695, 3239), (1740, 3239), (1...</td>\n",
       "    </tr>\n",
       "    <tr>\n",
       "      <th>1</th>\n",
       "      <td>./ICDAR/ICDAR2019_cTDaR/training/TRACKB1/groun...</td>\n",
       "      <td>./ICDAR/ICDAR_Processed\\table_mask\\cTDaR_t0000...</td>\n",
       "      <td>./ICDAR/ICDAR_Processed\\col_mask\\cTDaR_t00001.jpg</td>\n",
       "      <td>3584</td>\n",
       "      <td>4912</td>\n",
       "      <td>1</td>\n",
       "      <td>2</td>\n",
       "      <td>2</td>\n",
       "      <td>[[(130, 538), (2398, 615), (2327, 3112), (128,...</td>\n",
       "      <td>[[[(129, 542), (69, 3073), (106, 3073), (153, ...</td>\n",
       "    </tr>\n",
       "    <tr>\n",
       "      <th>2</th>\n",
       "      <td>./ICDAR/ICDAR2019_cTDaR/training/TRACKB1/groun...</td>\n",
       "      <td>./ICDAR/ICDAR_Processed\\table_mask\\cTDaR_t0000...</td>\n",
       "      <td>./ICDAR/ICDAR_Processed\\col_mask\\cTDaR_t00002.jpg</td>\n",
       "      <td>3584</td>\n",
       "      <td>4912</td>\n",
       "      <td>1</td>\n",
       "      <td>2</td>\n",
       "      <td>2</td>\n",
       "      <td>[[(149, 521), (2425, 639), (2317, 3117), (163,...</td>\n",
       "      <td>[[[(162, 526), (138, 1173), (48, 3065), (182, ...</td>\n",
       "    </tr>\n",
       "    <tr>\n",
       "      <th>3</th>\n",
       "      <td>./ICDAR/ICDAR2019_cTDaR/training/TRACKB1/groun...</td>\n",
       "      <td>./ICDAR/ICDAR_Processed\\table_mask\\cTDaR_t0000...</td>\n",
       "      <td>./ICDAR/ICDAR_Processed\\col_mask\\cTDaR_t00003.jpg</td>\n",
       "      <td>3584</td>\n",
       "      <td>4912</td>\n",
       "      <td>1</td>\n",
       "      <td>2</td>\n",
       "      <td>2</td>\n",
       "      <td>[[(296, 237), (2461, 473), (2209, 3015), (346,...</td>\n",
       "      <td>[[[(323, 228), (33, 2780), (97, 2792), (363, 2...</td>\n",
       "    </tr>\n",
       "    <tr>\n",
       "      <th>4</th>\n",
       "      <td>./ICDAR/ICDAR2019_cTDaR/training/TRACKB1/groun...</td>\n",
       "      <td>./ICDAR/ICDAR_Processed\\table_mask\\cTDaR_t0000...</td>\n",
       "      <td>./ICDAR/ICDAR_Processed\\col_mask\\cTDaR_t00004.jpg</td>\n",
       "      <td>3584</td>\n",
       "      <td>4912</td>\n",
       "      <td>1</td>\n",
       "      <td>2</td>\n",
       "      <td>2</td>\n",
       "      <td>[[(169, 374), (2278, 462), (2265, 3022), (180,...</td>\n",
       "      <td>[[[(183, 385), (85, 3064), (145, 3064), (231, ...</td>\n",
       "    </tr>\n",
       "  </tbody>\n",
       "</table>\n",
       "</div>"
      ],
      "text/plain": [
       "                                            img_path  \\\n",
       "0  ./ICDAR/ICDAR2019_cTDaR/training/TRACKB1/groun...   \n",
       "1  ./ICDAR/ICDAR2019_cTDaR/training/TRACKB1/groun...   \n",
       "2  ./ICDAR/ICDAR2019_cTDaR/training/TRACKB1/groun...   \n",
       "3  ./ICDAR/ICDAR2019_cTDaR/training/TRACKB1/groun...   \n",
       "4  ./ICDAR/ICDAR2019_cTDaR/training/TRACKB1/groun...   \n",
       "\n",
       "                                          table_mask  \\\n",
       "0  ./ICDAR/ICDAR_Processed\\table_mask\\cTDaR_t0000...   \n",
       "1  ./ICDAR/ICDAR_Processed\\table_mask\\cTDaR_t0000...   \n",
       "2  ./ICDAR/ICDAR_Processed\\table_mask\\cTDaR_t0000...   \n",
       "3  ./ICDAR/ICDAR_Processed\\table_mask\\cTDaR_t0000...   \n",
       "4  ./ICDAR/ICDAR_Processed\\table_mask\\cTDaR_t0000...   \n",
       "\n",
       "                                            col_mask  original_height  \\\n",
       "0  ./ICDAR/ICDAR_Processed\\col_mask\\cTDaR_t00000.jpg             3584   \n",
       "1  ./ICDAR/ICDAR_Processed\\col_mask\\cTDaR_t00001.jpg             3584   \n",
       "2  ./ICDAR/ICDAR_Processed\\col_mask\\cTDaR_t00002.jpg             3584   \n",
       "3  ./ICDAR/ICDAR_Processed\\col_mask\\cTDaR_t00003.jpg             3584   \n",
       "4  ./ICDAR/ICDAR_Processed\\col_mask\\cTDaR_t00004.jpg             3584   \n",
       "\n",
       "   original_width  hasTable  table_count  col_count  \\\n",
       "0            4912         1            1          1   \n",
       "1            4912         1            2          2   \n",
       "2            4912         1            2          2   \n",
       "3            4912         1            2          2   \n",
       "4            4912         1            2          2   \n",
       "\n",
       "                                        table_bboxes  \\\n",
       "0  [[(1722, 698), (3961, 698), (3961, 3247), (172...   \n",
       "1  [[(130, 538), (2398, 615), (2327, 3112), (128,...   \n",
       "2  [[(149, 521), (2425, 639), (2317, 3117), (163,...   \n",
       "3  [[(296, 237), (2461, 473), (2209, 3015), (346,...   \n",
       "4  [[(169, 374), (2278, 462), (2265, 3022), (180,...   \n",
       "\n",
       "                                          col_bboxes  \n",
       "0  [[[(1742, 698), (1695, 3239), (1740, 3239), (1...  \n",
       "1  [[[(129, 542), (69, 3073), (106, 3073), (153, ...  \n",
       "2  [[[(162, 526), (138, 1173), (48, 3065), (182, ...  \n",
       "3  [[[(323, 228), (33, 2780), (97, 2792), (363, 2...  \n",
       "4  [[[(183, 385), (85, 3064), (145, 3064), (231, ...  "
      ]
     },
     "execution_count": 115,
     "metadata": {},
     "output_type": "execute_result"
    }
   ],
   "source": [
    "processed_data.head()"
   ]
  },
  {
   "cell_type": "code",
   "execution_count": 116,
   "metadata": {},
   "outputs": [],
   "source": [
    "processed_data = pd.read_csv('processed_data_ICDAR.csv')"
   ]
  },
  {
   "cell_type": "code",
   "execution_count": 117,
   "metadata": {},
   "outputs": [
    {
     "data": {
      "text/html": [
       "<div>\n",
       "<style scoped>\n",
       "    .dataframe tbody tr th:only-of-type {\n",
       "        vertical-align: middle;\n",
       "    }\n",
       "\n",
       "    .dataframe tbody tr th {\n",
       "        vertical-align: top;\n",
       "    }\n",
       "\n",
       "    .dataframe thead th {\n",
       "        text-align: right;\n",
       "    }\n",
       "</style>\n",
       "<table border=\"1\" class=\"dataframe\">\n",
       "  <thead>\n",
       "    <tr style=\"text-align: right;\">\n",
       "      <th></th>\n",
       "      <th>original_height</th>\n",
       "      <th>original_width</th>\n",
       "      <th>hasTable</th>\n",
       "      <th>table_count</th>\n",
       "      <th>col_count</th>\n",
       "    </tr>\n",
       "  </thead>\n",
       "  <tbody>\n",
       "    <tr>\n",
       "      <th>count</th>\n",
       "      <td>509.000000</td>\n",
       "      <td>509.000000</td>\n",
       "      <td>509.0</td>\n",
       "      <td>509.000000</td>\n",
       "      <td>509.000000</td>\n",
       "    </tr>\n",
       "    <tr>\n",
       "      <th>mean</th>\n",
       "      <td>4105.412574</td>\n",
       "      <td>4020.762279</td>\n",
       "      <td>1.0</td>\n",
       "      <td>1.123772</td>\n",
       "      <td>1.123772</td>\n",
       "    </tr>\n",
       "    <tr>\n",
       "      <th>std</th>\n",
       "      <td>964.617293</td>\n",
       "      <td>1745.301742</td>\n",
       "      <td>0.0</td>\n",
       "      <td>0.423712</td>\n",
       "      <td>0.423712</td>\n",
       "    </tr>\n",
       "    <tr>\n",
       "      <th>min</th>\n",
       "      <td>1977.000000</td>\n",
       "      <td>1386.000000</td>\n",
       "      <td>1.0</td>\n",
       "      <td>1.000000</td>\n",
       "      <td>1.000000</td>\n",
       "    </tr>\n",
       "    <tr>\n",
       "      <th>25%</th>\n",
       "      <td>3584.000000</td>\n",
       "      <td>2734.000000</td>\n",
       "      <td>1.0</td>\n",
       "      <td>1.000000</td>\n",
       "      <td>1.000000</td>\n",
       "    </tr>\n",
       "    <tr>\n",
       "      <th>50%</th>\n",
       "      <td>3873.000000</td>\n",
       "      <td>3251.000000</td>\n",
       "      <td>1.0</td>\n",
       "      <td>1.000000</td>\n",
       "      <td>1.000000</td>\n",
       "    </tr>\n",
       "    <tr>\n",
       "      <th>75%</th>\n",
       "      <td>4689.000000</td>\n",
       "      <td>4912.000000</td>\n",
       "      <td>1.0</td>\n",
       "      <td>1.000000</td>\n",
       "      <td>1.000000</td>\n",
       "    </tr>\n",
       "    <tr>\n",
       "      <th>max</th>\n",
       "      <td>7662.000000</td>\n",
       "      <td>8487.000000</td>\n",
       "      <td>1.0</td>\n",
       "      <td>4.000000</td>\n",
       "      <td>4.000000</td>\n",
       "    </tr>\n",
       "  </tbody>\n",
       "</table>\n",
       "</div>"
      ],
      "text/plain": [
       "       original_height  original_width  hasTable  table_count   col_count\n",
       "count       509.000000      509.000000     509.0   509.000000  509.000000\n",
       "mean       4105.412574     4020.762279       1.0     1.123772    1.123772\n",
       "std         964.617293     1745.301742       0.0     0.423712    0.423712\n",
       "min        1977.000000     1386.000000       1.0     1.000000    1.000000\n",
       "25%        3584.000000     2734.000000       1.0     1.000000    1.000000\n",
       "50%        3873.000000     3251.000000       1.0     1.000000    1.000000\n",
       "75%        4689.000000     4912.000000       1.0     1.000000    1.000000\n",
       "max        7662.000000     8487.000000       1.0     4.000000    4.000000"
      ]
     },
     "execution_count": 117,
     "metadata": {},
     "output_type": "execute_result"
    }
   ],
   "source": [
    "processed_data.describe()"
   ]
  },
  {
   "cell_type": "code",
   "execution_count": 118,
   "metadata": {},
   "outputs": [
    {
     "data": {
      "text/plain": [
       "509"
      ]
     },
     "execution_count": 118,
     "metadata": {},
     "output_type": "execute_result"
    }
   ],
   "source": [
    "len(processed_data)"
   ]
  },
  {
   "cell_type": "markdown",
   "metadata": {},
   "source": [
    "## Advanced EDA"
   ]
  },
  {
   "cell_type": "code",
   "execution_count": null,
   "metadata": {},
   "outputs": [],
   "source": [
    "processed_data['hasTable'].value_counts().tolist()"
   ]
  },
  {
   "cell_type": "markdown",
   "metadata": {},
   "source": [
    "#### Positive : Negative Ratio"
   ]
  },
  {
   "cell_type": "code",
   "execution_count": null,
   "metadata": {},
   "outputs": [],
   "source": [
    "fig = plt.figure(figsize = (10, 5))\n",
    "\n",
    "x = ['Neg Samples', 'Pos Samples']\n",
    "data = processed_data['hasTable'].value_counts().tolist()\n",
    "y = [data[1],data[0]]\n",
    "plt.bar(x, y,width = 0.4)\n",
    "plt.title('Distribution of Positive and Negative Samples')\n",
    "plt.show()"
   ]
  },
  {
   "cell_type": "markdown",
   "metadata": {},
   "source": [
    "#### Columns without any Table"
   ]
  },
  {
   "cell_type": "code",
   "execution_count": null,
   "metadata": {},
   "outputs": [],
   "source": [
    "processed_data[(processed_data['table_count']==0)]"
   ]
  },
  {
   "cell_type": "markdown",
   "metadata": {},
   "source": [
    "#### Table with No Columns"
   ]
  },
  {
   "cell_type": "code",
   "execution_count": null,
   "metadata": {},
   "outputs": [],
   "source": [
    "processed_data[(processed_data['hasTable']==1) & (processed_data['col_count']==0)]"
   ]
  },
  {
   "cell_type": "markdown",
   "metadata": {},
   "source": [
    "#### plotting image with table but no columns"
   ]
  },
  {
   "cell_type": "code",
   "execution_count": null,
   "metadata": {},
   "outputs": [],
   "source": [
    "plt.figure(figsize = (20,10))\n",
    "image = plt.imread('marmot_processed/image/10.1.1.1.2010_5.jpg')\n",
    "plt.imshow(image)\n",
    "plt.title('Table with No columns')\n",
    "plt.show()"
   ]
  },
  {
   "cell_type": "code",
   "execution_count": null,
   "metadata": {},
   "outputs": [],
   "source": [
    "plt.figure(figsize = (20,10))\n",
    "image = plt.imread('marmot_processed/image/10.1.1.1.2107_9.jpg')\n",
    "plt.imshow(image)\n",
    "plt.title('Table with No columns')\n",
    "plt.show()"
   ]
  },
  {
   "cell_type": "code",
   "execution_count": null,
   "metadata": {},
   "outputs": [],
   "source": [
    "plt.figure(figsize = (20,10))\n",
    "image = plt.imread('marmot_processed/image/10.1.1.160.669_3.jpg')\n",
    "plt.imshow(image)\n",
    "plt.title('Table with No columns')\n",
    "plt.show()"
   ]
  },
  {
   "cell_type": "code",
   "execution_count": null,
   "metadata": {},
   "outputs": [],
   "source": [
    "plt.figure(figsize = (20,10))\n",
    "image = plt.imread('marmot_processed/image/10.1.1.7.2174_3.jpg')\n",
    "plt.imshow(image)\n",
    "plt.title('Table with No columns')\n",
    "plt.show()"
   ]
  },
  {
   "cell_type": "code",
   "execution_count": null,
   "metadata": {},
   "outputs": [],
   "source": [
    "plt.figure(figsize = (20,10))\n",
    "image = plt.imread('marmot_processed/image/10.1.1.7.2174_8.jpg')\n",
    "plt.imshow(image)\n",
    "plt.title('Table with No columns')\n",
    "plt.show()"
   ]
  },
  {
   "cell_type": "markdown",
   "metadata": {},
   "source": [
    "### Observations\n",
    "\n",
    "- There are 5 images with tables but no columns\n",
    "- There are total 494 Negative Samples and 499 Positive Samples.\n",
    "- Also, we confirmed that there are no columns with only tables."
   ]
  },
  {
   "cell_type": "code",
   "execution_count": null,
   "metadata": {},
   "outputs": [],
   "source": []
  },
  {
   "cell_type": "markdown",
   "metadata": {},
   "source": [
    "### Height of the Image"
   ]
  },
  {
   "cell_type": "code",
   "execution_count": null,
   "metadata": {},
   "outputs": [],
   "source": [
    "processed_data['original_height'].plot.hist(bins = 10)"
   ]
  },
  {
   "cell_type": "code",
   "execution_count": null,
   "metadata": {},
   "outputs": [],
   "source": [
    "sns.kdeplot(processed_data['original_height'], color='b', fill=True)\n",
    "  \n",
    "plt.xlabel('Height')\n",
    "plt.ylabel('Probability Density')\n",
    "plt.show()"
   ]
  },
  {
   "cell_type": "markdown",
   "metadata": {},
   "source": [
    "### Width of the Image"
   ]
  },
  {
   "cell_type": "code",
   "execution_count": null,
   "metadata": {},
   "outputs": [],
   "source": [
    "processed_data['original_width'].plot.hist(bins = 10)"
   ]
  },
  {
   "cell_type": "code",
   "execution_count": null,
   "metadata": {},
   "outputs": [],
   "source": [
    "sns.kdeplot(processed_data['original_width'], color='b', fill=True)\n",
    "\n",
    "plt.xlabel('Width')\n",
    "plt.ylabel('Probability Density')\n",
    "plt.show()"
   ]
  },
  {
   "cell_type": "markdown",
   "metadata": {},
   "source": [
    "### Total Tables"
   ]
  },
  {
   "cell_type": "code",
   "execution_count": null,
   "metadata": {},
   "outputs": [],
   "source": [
    "processed_data['table_count'].value_counts().plot.bar()\n",
    "plt.xlabel('Tables')\n",
    "plt.ylabel('Count')\n",
    "plt.show()"
   ]
  },
  {
   "cell_type": "markdown",
   "metadata": {},
   "source": [
    "### Total Columns"
   ]
  },
  {
   "cell_type": "code",
   "execution_count": null,
   "metadata": {},
   "outputs": [],
   "source": [
    "processed_data['col_count'].value_counts().plot.bar()\n",
    "plt.xlabel('Columns')\n",
    "plt.ylabel('Count')\n",
    "plt.show()"
   ]
  },
  {
   "cell_type": "code",
   "execution_count": null,
   "metadata": {},
   "outputs": [],
   "source": [
    "import json\n"
   ]
  },
  {
   "cell_type": "markdown",
   "metadata": {},
   "source": [
    "### Observations\n",
    "\n",
    "- Height of most images are between 1000 - 1100\n",
    "- Width of most images are between 700-800.\n",
    "- Apart from images with no Tables, most images contains only 1 table and at maximum 4 tables.\n",
    "- Total Columns in an image (can have multiple tables in a page) ranges from 4 - 42\n",
    "- We have also seen Image with no columns but have Tables in them."
   ]
  },
  {
   "cell_type": "markdown",
   "metadata": {},
   "source": [
    "### Height of Table"
   ]
  },
  {
   "cell_type": "code",
   "execution_count": null,
   "metadata": {},
   "outputs": [],
   "source": [
    "heights = []\n",
    "widths = []\n",
    "for boxes in processed_data[processed_data['hasTable']==1]['table_bboxes']:\n",
    "    # boxes = [json.loads('[' + boxes.strip('][').strip(',') + ']')]\n",
    "    print(boxes)\n",
    "# Convert the cleaned string to a Python list\n",
    "# array = json.loads('[' + cleaned_string + ']')\n",
    "    # for box in boxes:\n",
    "    #     heights.append(box[3]-box[1])\n",
    "    #     widths.append(box[2]-box[0])"
   ]
  },
  {
   "cell_type": "code",
   "execution_count": null,
   "metadata": {},
   "outputs": [],
   "source": [
    "min(col_widths)"
   ]
  },
  {
   "cell_type": "code",
   "execution_count": null,
   "metadata": {},
   "outputs": [],
   "source": [
    "sns.histplot(heights, color='b', Label='Table Height')\n",
    "\n",
    "plt.xlabel('Table Height')\n",
    "plt.ylabel('Counts')\n",
    "plt.show()"
   ]
  },
  {
   "cell_type": "code",
   "execution_count": null,
   "metadata": {},
   "outputs": [],
   "source": [
    "sns.kdeplot(heights, color='b', shade=True, Label='Table Height')\n",
    "\n",
    "plt.xlabel('Table Height')\n",
    "plt.ylabel('Probability Density')\n",
    "plt.show()"
   ]
  },
  {
   "cell_type": "markdown",
   "metadata": {},
   "source": [
    "### Width of the Table"
   ]
  },
  {
   "cell_type": "code",
   "execution_count": null,
   "metadata": {},
   "outputs": [],
   "source": [
    "sns.histplot(widths, color='b', Label='Table Width')\n",
    "\n",
    "plt.xlabel('Table Width')\n",
    "plt.ylabel('Counts')\n",
    "plt.show()"
   ]
  },
  {
   "cell_type": "code",
   "execution_count": null,
   "metadata": {},
   "outputs": [],
   "source": [
    "sns.kdeplot(widths, color='b', shade=True, Label='Table Width')\n",
    "\n",
    "plt.xlabel('Table Width')\n",
    "plt.ylabel('Probability Density')\n",
    "plt.show()"
   ]
  },
  {
   "cell_type": "markdown",
   "metadata": {},
   "source": [
    "### Height of the Column"
   ]
  },
  {
   "cell_type": "code",
   "execution_count": null,
   "metadata": {},
   "outputs": [],
   "source": [
    "col_heights = []\n",
    "col_widths = []\n",
    "for boxes in processed_data[processed_data['hasTable']==1]['col_bboxes']:\n",
    "    for box in boxes:\n",
    "        col_heights.append(box[3]-box[1])\n",
    "        col_widths.append(box[2]-box[0])"
   ]
  },
  {
   "cell_type": "code",
   "execution_count": null,
   "metadata": {},
   "outputs": [],
   "source": [
    "sns.histplot(col_heights, color='b', Label='Column Height')\n",
    "\n",
    "plt.xlabel('Column Height')\n",
    "plt.ylabel('Counts')\n",
    "plt.show()"
   ]
  },
  {
   "cell_type": "code",
   "execution_count": null,
   "metadata": {},
   "outputs": [],
   "source": [
    "sns.kdeplot(col_heights, color='b', shade=True, Label='Column Height')\n",
    "\n",
    "plt.xlabel('Column Height')\n",
    "plt.ylabel('Probability Density')\n",
    "plt.show()"
   ]
  },
  {
   "cell_type": "markdown",
   "metadata": {},
   "source": [
    "### Width of the Column"
   ]
  },
  {
   "cell_type": "code",
   "execution_count": null,
   "metadata": {},
   "outputs": [],
   "source": [
    "sns.histplot(col_widths, color='b', Label='Column Width')\n",
    "\n",
    "plt.xlabel('Column Width')\n",
    "plt.ylabel('Counts')\n",
    "plt.show()"
   ]
  },
  {
   "cell_type": "code",
   "execution_count": null,
   "metadata": {},
   "outputs": [],
   "source": [
    "sns.kdeplot(col_widths, color='b', shade=True, Label='Table Column')\n",
    "\n",
    "plt.xlabel('Table Column')\n",
    "plt.ylabel('Probability Density')\n",
    "plt.show()"
   ]
  },
  {
   "cell_type": "markdown",
   "metadata": {},
   "source": [
    "### Observations\n",
    "\n",
    "- Height of tables ranges from 30 - 870, but most are between  50-300.\n",
    "- Width of tables ranges from 50 - 900, but common width is 400.\n",
    "- Height of columns ranges from 10 - 880 showing a right skewed distribution\n",
    "- Width of columns ranges from 7 - 671 showing a right skewed distribution"
   ]
  },
  {
   "cell_type": "code",
   "execution_count": 108,
   "metadata": {},
   "outputs": [
    {
     "name": "stdout",
     "output_type": "stream",
     "text": [
      ".\\ICDAR\\ICDAR2019_cTDaR/training\\TRACKB1\\ground_truth\\cTDaR_t00199.xml\n"
     ]
    }
   ],
   "source": [
    "xml_file1 = \"cTDaR_t00199.jpg\"\n",
    "xml_file1 = image_name.replace('.jpg', '.xml')\n",
    "xml_file1 = image_name.replace('.JPG', '.xml')\n",
    "xml1_file = os.path.join(ORIG_DATA_PATH, xml_file1)\n",
    "print(xml1_file)\n",
    "\n",
    "xml1_file.replace(\" \", \"\")\n",
    "tree1 = ET.parse(xml1_file)\n",
    "root1 = tree1.getroot()"
   ]
  },
  {
   "cell_type": "code",
   "execution_count": 101,
   "metadata": {},
   "outputs": [
    {
     "data": {
      "text/plain": [
       "<Element 'document' at 0x000002BD0F0A3C40>"
      ]
     },
     "execution_count": 101,
     "metadata": {},
     "output_type": "execute_result"
    }
   ],
   "source": [
    "root1"
   ]
  },
  {
   "cell_type": "code",
   "execution_count": 93,
   "metadata": {},
   "outputs": [
    {
     "data": {
      "text/plain": [
       "<xml.etree.ElementTree.ElementTree at 0x2bd0eef1d80>"
      ]
     },
     "execution_count": 93,
     "metadata": {},
     "output_type": "execute_result"
    }
   ],
   "source": [
    "tree1\n"
   ]
  },
  {
   "cell_type": "code",
   "execution_count": 119,
   "metadata": {},
   "outputs": [
    {
     "data": {
      "text/plain": [
       "list"
      ]
     },
     "execution_count": 119,
     "metadata": {},
     "output_type": "execute_result"
    }
   ],
   "source": [
    "type(xmls)"
   ]
  },
  {
   "cell_type": "code",
   "execution_count": 120,
   "metadata": {},
   "outputs": [
    {
     "data": {
      "text/plain": [
       "['./ICDAR/ICDAR2019_cTDaR/training/TRACKB1/ground_truth\\\\cTDaR_t00930.xml']"
      ]
     },
     "execution_count": 120,
     "metadata": {},
     "output_type": "execute_result"
    }
   ],
   "source": [
    "xmls[-1:]"
   ]
  },
  {
   "cell_type": "code",
   "execution_count": 125,
   "metadata": {},
   "outputs": [],
   "source": [
    "test = jpgs[-92:]"
   ]
  },
  {
   "cell_type": "code",
   "execution_count": 126,
   "metadata": {},
   "outputs": [
    {
     "data": {
      "text/plain": [
       "'./ICDAR/ICDAR2019_cTDaR/training/TRACKB1/ground_truth\\\\cTDaR_t00820.jpg'"
      ]
     },
     "execution_count": 126,
     "metadata": {},
     "output_type": "execute_result"
    }
   ],
   "source": [
    "test[0]"
   ]
  },
  {
   "cell_type": "code",
   "execution_count": 127,
   "metadata": {},
   "outputs": [
    {
     "data": {
      "text/plain": [
       "'./ICDAR/ICDAR2019_cTDaR/training/TRACKB1/ground_truth\\\\cTDaR_t00930.jpg'"
      ]
     },
     "execution_count": 127,
     "metadata": {},
     "output_type": "execute_result"
    }
   ],
   "source": [
    "test[-1]"
   ]
  },
  {
   "cell_type": "code",
   "execution_count": 133,
   "metadata": {},
   "outputs": [],
   "source": [
    "def toplot_2(all_ps, max_col):\n",
    "    ret = []\n",
    "    for p, all_poins in enumerate(all_ps):\n",
    "      print(len(all_poins))\n",
    "      # print(all_poins.keys())\n",
    "      temp_ret = []\n",
    "      resultant = list(all_poins.items())[-max_col[p]:]\n",
    "      replacefrm = list(all_poins.items())[:max_col[p]]\n",
    "\n",
    "# Iterate through the dictionary keys\n",
    "      resultant = dict(resultant)\n",
    "      replacefrm = dict(replacefrm)\n",
    "      R1 = 0\n",
    "      for key1 in resultant.keys():\n",
    "        A = key1[0]\n",
    "        if A > R1:\n",
    "          R1 = A\n",
    "      R2 = 1234567890123456789012345678901234567890\n",
    "      for key2 in replacefrm.keys():\n",
    "        B = key2[0]\n",
    "        if B < R2:\n",
    "          R2 = B\n",
    "      # print(resultant)\n",
    "      # print(replacefrm)\n",
    "      # print(max_col[p], len(resultant), len(replacefrm))\n",
    "      for i in range(max_col[p]):\n",
    "        # j, k = 1, 1\n",
    "        # res, rep = resultant[(R1, i)],  replacefrm[(R2, i)]\n",
    "        j, k = 0, 0\n",
    "        res, rep = None, None\n",
    "        while res == None:\n",
    "          # print(\"j:\", j,\"R1:\", R1, all_poins[(R1 - j, i)])\n",
    "          # print(all_poins[(R1 - j, i)])\n",
    "          try:\n",
    "            res=all_poins[(R1 - j, i)]\n",
    "          except:  \n",
    "            j=j+1\n",
    "          res= all_poins[(R1 - j, i)]\n",
    "          j = j+1\n",
    "          if(R1-j<0):\n",
    "            res= False\n",
    "        while rep == None:\n",
    "          # print(\"k:\", k,\"R2:\", R2, all_poins[(R2 + k, i)])\n",
    "          rep = all_poins[(R2 + k, i)]\n",
    "          k = k+1\n",
    "          # if(R1+k>R1):\n",
    "          try:\n",
    "            all_poins[(R2 + k, i)]\n",
    "          except:  \n",
    "            rep= False\n",
    "        if(rep == False and res == False):\n",
    "          print(\"!!!!!!!!!!!!!!!!!!!!works!!!!!!!!!!!!!!!!!!!!!\")\n",
    "        if(rep != False and res != False):\n",
    "          res[0] = rep[0]\n",
    "          res[3] = rep[3]\n",
    "          res[0], res[1], res[2], res[3] = list(res[0]), list(res[1]), list(res[2]), list(res[3])\n",
    "          res[0][0] += 20\n",
    "          res[1][0] += 20\n",
    "          res[2][0] -= 20\n",
    "          res[3][0] -= 20\n",
    "          res[0], res[1], res[2], res[3] = tuple(res[0]), tuple(res[1]), tuple(res[2]), tuple(res[3])\n",
    "          temp_ret.append(res)\n",
    "        # else:\n",
    "        #   #REDUCE MAX_COL[P] BY 1\n",
    "      #if:\n",
    "      # max_col[p] = max_col[p]-1\n",
    "      # print(\"temp_ret:\" , temp_ret)\n",
    "      ret.append(temp_ret)\n",
    "    return ret"
   ]
  },
  {
   "cell_type": "code",
   "execution_count": 129,
   "metadata": {},
   "outputs": [],
   "source": [
    "further_proces = []"
   ]
  },
  {
   "cell_type": "code",
   "execution_count": 134,
   "metadata": {},
   "outputs": [
    {
     "name": "stderr",
     "output_type": "stream",
     "text": [
      "0it [00:00, ?it/s]"
     ]
    },
    {
     "name": "stdout",
     "output_type": "stream",
     "text": [
      "0 cTDaR_t00820.xml\n",
      "312\n",
      "352\n",
      "240\n"
     ]
    },
    {
     "name": "stderr",
     "output_type": "stream",
     "text": [
      "1it [00:00,  1.52it/s]"
     ]
    },
    {
     "name": "stdout",
     "output_type": "stream",
     "text": [
      "1 cTDaR_t00821.xml\n",
      "316\n",
      "303\n"
     ]
    },
    {
     "name": "stderr",
     "output_type": "stream",
     "text": [
      "2it [00:01,  1.42it/s]"
     ]
    },
    {
     "name": "stdout",
     "output_type": "stream",
     "text": [
      "2 cTDaR_t00822.xml\n",
      "320\n",
      "348\n",
      "240\n"
     ]
    },
    {
     "name": "stderr",
     "output_type": "stream",
     "text": [
      "3it [00:02,  1.04s/it]"
     ]
    },
    {
     "name": "stdout",
     "output_type": "stream",
     "text": [
      "3 cTDaR_t00823.xml\n",
      "316\n",
      "352\n",
      "240\n"
     ]
    },
    {
     "name": "stderr",
     "output_type": "stream",
     "text": [
      "4it [00:04,  1.11s/it]"
     ]
    },
    {
     "name": "stdout",
     "output_type": "stream",
     "text": [
      "4 cTDaR_t00824.xml\n",
      "320\n",
      "304\n"
     ]
    },
    {
     "name": "stderr",
     "output_type": "stream",
     "text": [
      "5it [00:05,  1.07s/it]"
     ]
    },
    {
     "name": "stdout",
     "output_type": "stream",
     "text": [
      "5 cTDaR_t00825.xml\n",
      "316\n",
      "352\n",
      "240\n"
     ]
    },
    {
     "name": "stderr",
     "output_type": "stream",
     "text": [
      "6it [00:06,  1.07s/it]"
     ]
    },
    {
     "name": "stdout",
     "output_type": "stream",
     "text": [
      "6 cTDaR_t00826.xml\n",
      "316\n",
      "300\n"
     ]
    },
    {
     "name": "stderr",
     "output_type": "stream",
     "text": [
      "7it [00:07,  1.07s/it]"
     ]
    },
    {
     "name": "stdout",
     "output_type": "stream",
     "text": [
      "7 cTDaR_t00827.xml\n",
      "316\n",
      "352\n",
      "244\n"
     ]
    },
    {
     "name": "stderr",
     "output_type": "stream",
     "text": [
      "8it [00:09,  1.35s/it]"
     ]
    },
    {
     "name": "stdout",
     "output_type": "stream",
     "text": [
      "8 cTDaR_t00841.xml\n",
      "589\n"
     ]
    },
    {
     "name": "stderr",
     "output_type": "stream",
     "text": [
      "9it [00:12,  1.82s/it]"
     ]
    },
    {
     "name": "stdout",
     "output_type": "stream",
     "text": [
      "9 cTDaR_t00842.xml\n",
      "620\n"
     ]
    },
    {
     "name": "stderr",
     "output_type": "stream",
     "text": [
      "10it [00:13,  1.77s/it]"
     ]
    },
    {
     "name": "stdout",
     "output_type": "stream",
     "text": [
      "10 cTDaR_t00843.xml\n",
      "682\n"
     ]
    },
    {
     "name": "stderr",
     "output_type": "stream",
     "text": [
      "11it [00:15,  1.70s/it]"
     ]
    },
    {
     "name": "stdout",
     "output_type": "stream",
     "text": [
      "11 cTDaR_t00844.xml\n",
      "620\n"
     ]
    },
    {
     "name": "stderr",
     "output_type": "stream",
     "text": [
      "12it [00:16,  1.64s/it]"
     ]
    },
    {
     "name": "stdout",
     "output_type": "stream",
     "text": [
      "12 cTDaR_t00845.xml\n",
      "713\n"
     ]
    },
    {
     "name": "stderr",
     "output_type": "stream",
     "text": [
      "13it [00:18,  1.62s/it]"
     ]
    },
    {
     "name": "stdout",
     "output_type": "stream",
     "text": [
      "13 cTDaR_t00846.xml\n",
      "245\n"
     ]
    },
    {
     "name": "stderr",
     "output_type": "stream",
     "text": [
      "14it [00:20,  1.72s/it]"
     ]
    },
    {
     "name": "stdout",
     "output_type": "stream",
     "text": [
      "14 cTDaR_t00851.xml\n",
      "64\n",
      "64\n"
     ]
    },
    {
     "name": "stderr",
     "output_type": "stream",
     "text": [
      "16it [00:22,  1.28s/it]"
     ]
    },
    {
     "name": "stdout",
     "output_type": "stream",
     "text": [
      "15 cTDaR_t00852.xml\n",
      "24\n",
      "24\n",
      "21\n",
      "18\n"
     ]
    },
    {
     "name": "stderr",
     "output_type": "stream",
     "text": [
      "17it [00:22,  1.15s/it]"
     ]
    },
    {
     "name": "stdout",
     "output_type": "stream",
     "text": [
      "16 cTDaR_t00853.xml\n",
      "9\n",
      "17 cTDaR_t00854.xml\n",
      "512\n"
     ]
    },
    {
     "name": "stderr",
     "output_type": "stream",
     "text": [
      "18it [00:23,  1.12s/it]"
     ]
    },
    {
     "name": "stdout",
     "output_type": "stream",
     "text": [
      "18 cTDaR_t00855.xml\n",
      "30\n",
      "35\n"
     ]
    },
    {
     "name": "stderr",
     "output_type": "stream",
     "text": [
      "19it [00:25,  1.26s/it]"
     ]
    },
    {
     "name": "stdout",
     "output_type": "stream",
     "text": [
      "19 cTDaR_t00856.xml\n",
      "165\n"
     ]
    },
    {
     "name": "stderr",
     "output_type": "stream",
     "text": [
      "20it [00:26,  1.18s/it]"
     ]
    },
    {
     "name": "stdout",
     "output_type": "stream",
     "text": [
      "20 cTDaR_t00857.xml\n",
      "315\n"
     ]
    },
    {
     "name": "stderr",
     "output_type": "stream",
     "text": [
      "22it [00:27,  1.10it/s]"
     ]
    },
    {
     "name": "stdout",
     "output_type": "stream",
     "text": [
      "21 cTDaR_t00860.xml\n",
      "156\n"
     ]
    },
    {
     "name": "stderr",
     "output_type": "stream",
     "text": [
      "23it [00:28,  1.32it/s]"
     ]
    },
    {
     "name": "stdout",
     "output_type": "stream",
     "text": [
      "22 cTDaR_t00861.xml\n",
      "114\n"
     ]
    },
    {
     "name": "stderr",
     "output_type": "stream",
     "text": [
      "24it [00:28,  1.41it/s]"
     ]
    },
    {
     "name": "stdout",
     "output_type": "stream",
     "text": [
      "23 cTDaR_t00862.xml\n",
      "48\n"
     ]
    },
    {
     "name": "stderr",
     "output_type": "stream",
     "text": [
      "25it [00:29,  1.56it/s]"
     ]
    },
    {
     "name": "stdout",
     "output_type": "stream",
     "text": [
      "24 cTDaR_t00863.xml\n",
      "77\n"
     ]
    },
    {
     "name": "stderr",
     "output_type": "stream",
     "text": [
      "26it [00:29,  1.72it/s]"
     ]
    },
    {
     "name": "stdout",
     "output_type": "stream",
     "text": [
      "25 cTDaR_t00864.xml\n",
      "174\n"
     ]
    },
    {
     "name": "stderr",
     "output_type": "stream",
     "text": [
      "27it [00:30,  1.65it/s]"
     ]
    },
    {
     "name": "stdout",
     "output_type": "stream",
     "text": [
      "26 cTDaR_t00865.xml\n",
      "140\n"
     ]
    },
    {
     "name": "stderr",
     "output_type": "stream",
     "text": [
      "28it [00:31,  1.56it/s]"
     ]
    },
    {
     "name": "stdout",
     "output_type": "stream",
     "text": [
      "27 cTDaR_t00866.xml\n",
      "217\n"
     ]
    },
    {
     "name": "stderr",
     "output_type": "stream",
     "text": [
      "29it [00:31,  1.48it/s]"
     ]
    },
    {
     "name": "stdout",
     "output_type": "stream",
     "text": [
      "28 cTDaR_t00867.xml\n",
      "102\n"
     ]
    },
    {
     "name": "stderr",
     "output_type": "stream",
     "text": [
      "30it [00:32,  1.73it/s]"
     ]
    },
    {
     "name": "stdout",
     "output_type": "stream",
     "text": [
      "29 cTDaR_t00868.xml\n",
      "232\n"
     ]
    },
    {
     "name": "stderr",
     "output_type": "stream",
     "text": [
      "31it [00:32,  1.81it/s]"
     ]
    },
    {
     "name": "stdout",
     "output_type": "stream",
     "text": [
      "30 cTDaR_t00869.xml\n",
      "96\n"
     ]
    },
    {
     "name": "stderr",
     "output_type": "stream",
     "text": [
      "32it [00:33,  1.81it/s]"
     ]
    },
    {
     "name": "stdout",
     "output_type": "stream",
     "text": [
      "31 cTDaR_t00870.xml\n",
      "186\n"
     ]
    },
    {
     "name": "stderr",
     "output_type": "stream",
     "text": [
      "33it [00:33,  1.92it/s]"
     ]
    },
    {
     "name": "stdout",
     "output_type": "stream",
     "text": [
      "32 cTDaR_t00871.xml\n",
      "156\n"
     ]
    },
    {
     "name": "stderr",
     "output_type": "stream",
     "text": [
      "34it [00:34,  1.62it/s]"
     ]
    },
    {
     "name": "stdout",
     "output_type": "stream",
     "text": [
      "33 cTDaR_t00872.xml\n",
      "186\n",
      "!!!!!!!!!!!!!!!!!!!!works!!!!!!!!!!!!!!!!!!!!!\n"
     ]
    },
    {
     "name": "stderr",
     "output_type": "stream",
     "text": [
      "35it [00:35,  1.63it/s]"
     ]
    },
    {
     "name": "stdout",
     "output_type": "stream",
     "text": [
      "34 cTDaR_t00873.xml\n",
      "96\n"
     ]
    },
    {
     "name": "stderr",
     "output_type": "stream",
     "text": [
      "36it [00:35,  1.75it/s]"
     ]
    },
    {
     "name": "stdout",
     "output_type": "stream",
     "text": [
      "35 cTDaR_t00874.xml\n",
      "132\n"
     ]
    },
    {
     "name": "stderr",
     "output_type": "stream",
     "text": [
      "37it [00:36,  1.70it/s]"
     ]
    },
    {
     "name": "stdout",
     "output_type": "stream",
     "text": [
      "36 cTDaR_t00875.xml\n",
      "136\n"
     ]
    },
    {
     "name": "stderr",
     "output_type": "stream",
     "text": [
      "38it [00:38,  1.04s/it]"
     ]
    },
    {
     "name": "stdout",
     "output_type": "stream",
     "text": [
      "37 cTDaR_t00876.xml\n",
      "182\n"
     ]
    },
    {
     "name": "stderr",
     "output_type": "stream",
     "text": [
      "39it [00:39,  1.08s/it]"
     ]
    },
    {
     "name": "stdout",
     "output_type": "stream",
     "text": [
      "38 cTDaR_t00877.xml\n",
      "102\n"
     ]
    },
    {
     "name": "stderr",
     "output_type": "stream",
     "text": [
      "40it [00:40,  1.02it/s]"
     ]
    },
    {
     "name": "stdout",
     "output_type": "stream",
     "text": [
      "39 cTDaR_t00878.xml\n",
      "210\n"
     ]
    },
    {
     "name": "stderr",
     "output_type": "stream",
     "text": [
      "41it [00:42,  1.21s/it]"
     ]
    },
    {
     "name": "stdout",
     "output_type": "stream",
     "text": [
      "40 cTDaR_t00879.xml\n",
      "108\n"
     ]
    },
    {
     "name": "stderr",
     "output_type": "stream",
     "text": [
      "42it [00:43,  1.31s/it]"
     ]
    },
    {
     "name": "stdout",
     "output_type": "stream",
     "text": [
      "41 cTDaR_t00880.xml\n",
      "168\n"
     ]
    },
    {
     "name": "stderr",
     "output_type": "stream",
     "text": [
      "43it [00:44,  1.06s/it]"
     ]
    },
    {
     "name": "stdout",
     "output_type": "stream",
     "text": [
      "42 cTDaR_t00881.xml\n",
      "96\n"
     ]
    },
    {
     "name": "stderr",
     "output_type": "stream",
     "text": [
      "44it [00:44,  1.12it/s]"
     ]
    },
    {
     "name": "stdout",
     "output_type": "stream",
     "text": [
      "43 cTDaR_t00882.xml\n",
      "144\n"
     ]
    },
    {
     "name": "stderr",
     "output_type": "stream",
     "text": [
      "45it [00:45,  1.30it/s]"
     ]
    },
    {
     "name": "stdout",
     "output_type": "stream",
     "text": [
      "44 cTDaR_t00883.xml\n",
      "108\n"
     ]
    },
    {
     "name": "stderr",
     "output_type": "stream",
     "text": [
      "46it [00:45,  1.41it/s]"
     ]
    },
    {
     "name": "stdout",
     "output_type": "stream",
     "text": [
      "45 cTDaR_t00884.xml\n",
      "168\n"
     ]
    },
    {
     "name": "stderr",
     "output_type": "stream",
     "text": [
      "47it [00:46,  1.38it/s]"
     ]
    },
    {
     "name": "stdout",
     "output_type": "stream",
     "text": [
      "46 cTDaR_t00885.xml\n",
      "132\n"
     ]
    },
    {
     "name": "stderr",
     "output_type": "stream",
     "text": [
      "48it [00:47,  1.46it/s]"
     ]
    },
    {
     "name": "stdout",
     "output_type": "stream",
     "text": [
      "47 cTDaR_t00886.xml\n",
      "174\n"
     ]
    },
    {
     "name": "stderr",
     "output_type": "stream",
     "text": [
      "49it [00:47,  1.50it/s]"
     ]
    },
    {
     "name": "stdout",
     "output_type": "stream",
     "text": [
      "48 cTDaR_t00887.xml\n",
      "84\n"
     ]
    },
    {
     "name": "stderr",
     "output_type": "stream",
     "text": [
      "50it [00:48,  1.41it/s]"
     ]
    },
    {
     "name": "stdout",
     "output_type": "stream",
     "text": [
      "49 cTDaR_t00888.xml\n",
      "30\n"
     ]
    },
    {
     "name": "stderr",
     "output_type": "stream",
     "text": [
      "51it [00:49,  1.43it/s]"
     ]
    },
    {
     "name": "stdout",
     "output_type": "stream",
     "text": [
      "50 cTDaR_t00889.xml\n",
      "108\n"
     ]
    },
    {
     "name": "stderr",
     "output_type": "stream",
     "text": [
      "52it [00:50,  1.27it/s]"
     ]
    },
    {
     "name": "stdout",
     "output_type": "stream",
     "text": [
      "51 cTDaR_t00890.xml\n",
      "174\n"
     ]
    },
    {
     "name": "stderr",
     "output_type": "stream",
     "text": [
      "53it [00:50,  1.46it/s]"
     ]
    },
    {
     "name": "stdout",
     "output_type": "stream",
     "text": [
      "52 cTDaR_t00891.xml\n",
      "114\n"
     ]
    },
    {
     "name": "stderr",
     "output_type": "stream",
     "text": [
      "54it [00:51,  1.61it/s]"
     ]
    },
    {
     "name": "stdout",
     "output_type": "stream",
     "text": [
      "53 cTDaR_t00892.xml\n",
      "24\n"
     ]
    },
    {
     "name": "stderr",
     "output_type": "stream",
     "text": [
      "55it [00:51,  1.46it/s]"
     ]
    },
    {
     "name": "stdout",
     "output_type": "stream",
     "text": [
      "54 cTDaR_t00893.xml\n",
      "54\n"
     ]
    },
    {
     "name": "stderr",
     "output_type": "stream",
     "text": [
      "56it [00:52,  1.51it/s]"
     ]
    },
    {
     "name": "stdout",
     "output_type": "stream",
     "text": [
      "55 cTDaR_t00894.xml\n",
      "150\n"
     ]
    },
    {
     "name": "stderr",
     "output_type": "stream",
     "text": [
      "57it [00:52,  1.74it/s]"
     ]
    },
    {
     "name": "stdout",
     "output_type": "stream",
     "text": [
      "56 cTDaR_t00895.xml\n",
      "120\n"
     ]
    },
    {
     "name": "stderr",
     "output_type": "stream",
     "text": [
      "58it [00:53,  1.50it/s]"
     ]
    },
    {
     "name": "stdout",
     "output_type": "stream",
     "text": [
      "57 cTDaR_t00896.xml\n",
      "132\n"
     ]
    },
    {
     "name": "stderr",
     "output_type": "stream",
     "text": [
      "59it [00:54,  1.52it/s]"
     ]
    },
    {
     "name": "stdout",
     "output_type": "stream",
     "text": [
      "58 cTDaR_t00897.xml\n",
      "120\n"
     ]
    },
    {
     "name": "stderr",
     "output_type": "stream",
     "text": [
      "60it [00:54,  1.67it/s]"
     ]
    },
    {
     "name": "stdout",
     "output_type": "stream",
     "text": [
      "59 cTDaR_t00898.xml\n",
      "36\n"
     ]
    },
    {
     "name": "stderr",
     "output_type": "stream",
     "text": [
      "61it [00:55,  1.64it/s]"
     ]
    },
    {
     "name": "stdout",
     "output_type": "stream",
     "text": [
      "60 cTDaR_t00899.xml\n",
      "48\n"
     ]
    },
    {
     "name": "stderr",
     "output_type": "stream",
     "text": [
      "62it [00:56,  1.67it/s]"
     ]
    },
    {
     "name": "stdout",
     "output_type": "stream",
     "text": [
      "61 cTDaR_t00900.xml\n",
      "156\n"
     ]
    },
    {
     "name": "stderr",
     "output_type": "stream",
     "text": [
      "63it [00:56,  1.61it/s]"
     ]
    },
    {
     "name": "stdout",
     "output_type": "stream",
     "text": [
      "62 cTDaR_t00901.xml\n",
      "114\n"
     ]
    },
    {
     "name": "stderr",
     "output_type": "stream",
     "text": [
      "64it [00:57,  1.53it/s]"
     ]
    },
    {
     "name": "stdout",
     "output_type": "stream",
     "text": [
      "63 cTDaR_t00902.xml\n",
      "42\n"
     ]
    },
    {
     "name": "stderr",
     "output_type": "stream",
     "text": [
      "65it [00:59,  1.07s/it]"
     ]
    },
    {
     "name": "stdout",
     "output_type": "stream",
     "text": [
      "64 cTDaR_t00903.xml\n",
      "42\n"
     ]
    },
    {
     "name": "stderr",
     "output_type": "stream",
     "text": [
      "66it [01:00,  1.10it/s]"
     ]
    },
    {
     "name": "stdout",
     "output_type": "stream",
     "text": [
      "65 cTDaR_t00904.xml\n",
      "162\n"
     ]
    },
    {
     "name": "stderr",
     "output_type": "stream",
     "text": [
      "67it [01:01,  1.05it/s]"
     ]
    },
    {
     "name": "stdout",
     "output_type": "stream",
     "text": [
      "66 cTDaR_t00905.xml\n",
      "96\n"
     ]
    },
    {
     "name": "stderr",
     "output_type": "stream",
     "text": [
      "68it [01:02,  1.04s/it]"
     ]
    },
    {
     "name": "stdout",
     "output_type": "stream",
     "text": [
      "67 cTDaR_t00906.xml\n",
      "18\n"
     ]
    },
    {
     "name": "stderr",
     "output_type": "stream",
     "text": [
      "69it [01:03,  1.03s/it]"
     ]
    },
    {
     "name": "stdout",
     "output_type": "stream",
     "text": [
      "68 cTDaR_t00907.xml\n",
      "48\n"
     ]
    },
    {
     "name": "stderr",
     "output_type": "stream",
     "text": [
      "70it [01:04,  1.07it/s]"
     ]
    },
    {
     "name": "stdout",
     "output_type": "stream",
     "text": [
      "69 cTDaR_t00908.xml\n",
      "156\n"
     ]
    },
    {
     "name": "stderr",
     "output_type": "stream",
     "text": [
      "71it [01:05,  1.01it/s]"
     ]
    },
    {
     "name": "stdout",
     "output_type": "stream",
     "text": [
      "70 cTDaR_t00909.xml\n",
      "126\n"
     ]
    },
    {
     "name": "stderr",
     "output_type": "stream",
     "text": [
      "72it [01:07,  1.25s/it]"
     ]
    },
    {
     "name": "stdout",
     "output_type": "stream",
     "text": [
      "71 cTDaR_t00910.xml\n",
      "192\n"
     ]
    },
    {
     "name": "stderr",
     "output_type": "stream",
     "text": [
      "73it [01:08,  1.40s/it]"
     ]
    },
    {
     "name": "stdout",
     "output_type": "stream",
     "text": [
      "72 cTDaR_t00911.xml\n",
      "126\n"
     ]
    },
    {
     "name": "stderr",
     "output_type": "stream",
     "text": [
      "74it [01:09,  1.17s/it]"
     ]
    },
    {
     "name": "stdout",
     "output_type": "stream",
     "text": [
      "73 cTDaR_t00912.xml\n",
      "174\n"
     ]
    },
    {
     "name": "stderr",
     "output_type": "stream",
     "text": [
      "75it [01:10,  1.09s/it]"
     ]
    },
    {
     "name": "stdout",
     "output_type": "stream",
     "text": [
      "74 cTDaR_t00913.xml\n",
      "138\n"
     ]
    },
    {
     "name": "stderr",
     "output_type": "stream",
     "text": [
      "76it [01:11,  1.07s/it]"
     ]
    },
    {
     "name": "stdout",
     "output_type": "stream",
     "text": [
      "75 cTDaR_t00914.xml\n",
      "174\n"
     ]
    },
    {
     "name": "stderr",
     "output_type": "stream",
     "text": [
      "77it [01:12,  1.00s/it]"
     ]
    },
    {
     "name": "stdout",
     "output_type": "stream",
     "text": [
      "76 cTDaR_t00915.xml\n",
      "120\n"
     ]
    },
    {
     "name": "stderr",
     "output_type": "stream",
     "text": [
      "78it [01:13,  1.04s/it]"
     ]
    },
    {
     "name": "stdout",
     "output_type": "stream",
     "text": [
      "77 cTDaR_t00916.xml\n",
      "156\n"
     ]
    },
    {
     "name": "stderr",
     "output_type": "stream",
     "text": [
      "79it [01:15,  1.40s/it]"
     ]
    },
    {
     "name": "stdout",
     "output_type": "stream",
     "text": [
      "78 cTDaR_t00917.xml\n",
      "120\n"
     ]
    },
    {
     "name": "stderr",
     "output_type": "stream",
     "text": [
      "80it [01:16,  1.20s/it]"
     ]
    },
    {
     "name": "stdout",
     "output_type": "stream",
     "text": [
      "79 cTDaR_t00918.xml\n",
      "150\n"
     ]
    },
    {
     "name": "stderr",
     "output_type": "stream",
     "text": [
      "81it [01:18,  1.38s/it]"
     ]
    },
    {
     "name": "stdout",
     "output_type": "stream",
     "text": [
      "80 cTDaR_t00919.xml\n",
      "140\n"
     ]
    },
    {
     "name": "stderr",
     "output_type": "stream",
     "text": [
      "82it [01:18,  1.13s/it]"
     ]
    },
    {
     "name": "stdout",
     "output_type": "stream",
     "text": [
      "81 cTDaR_t00920.xml\n",
      "210\n"
     ]
    },
    {
     "name": "stderr",
     "output_type": "stream",
     "text": [
      "83it [01:19,  1.02it/s]"
     ]
    },
    {
     "name": "stdout",
     "output_type": "stream",
     "text": [
      "82 cTDaR_t00921.xml\n",
      "156\n"
     ]
    },
    {
     "name": "stderr",
     "output_type": "stream",
     "text": [
      "84it [01:19,  1.22it/s]"
     ]
    },
    {
     "name": "stdout",
     "output_type": "stream",
     "text": [
      "83 cTDaR_t00922.xml\n",
      "175\n"
     ]
    },
    {
     "name": "stderr",
     "output_type": "stream",
     "text": [
      "85it [01:20,  1.38it/s]"
     ]
    },
    {
     "name": "stdout",
     "output_type": "stream",
     "text": [
      "84 cTDaR_t00923.xml\n",
      "108\n"
     ]
    },
    {
     "name": "stderr",
     "output_type": "stream",
     "text": [
      "86it [01:20,  1.58it/s]"
     ]
    },
    {
     "name": "stdout",
     "output_type": "stream",
     "text": [
      "85 cTDaR_t00924.xml\n",
      "144\n"
     ]
    },
    {
     "name": "stderr",
     "output_type": "stream",
     "text": [
      "87it [01:21,  1.69it/s]"
     ]
    },
    {
     "name": "stdout",
     "output_type": "stream",
     "text": [
      "86 cTDaR_t00925.xml\n",
      "119\n"
     ]
    },
    {
     "name": "stderr",
     "output_type": "stream",
     "text": [
      "88it [01:22,  1.48it/s]"
     ]
    },
    {
     "name": "stdout",
     "output_type": "stream",
     "text": [
      "87 cTDaR_t00926.xml\n",
      "138\n"
     ]
    },
    {
     "name": "stderr",
     "output_type": "stream",
     "text": [
      "89it [01:22,  1.71it/s]"
     ]
    },
    {
     "name": "stdout",
     "output_type": "stream",
     "text": [
      "88 cTDaR_t00927.xml\n",
      "112\n"
     ]
    },
    {
     "name": "stderr",
     "output_type": "stream",
     "text": [
      "90it [01:22,  1.85it/s]"
     ]
    },
    {
     "name": "stdout",
     "output_type": "stream",
     "text": [
      "89 cTDaR_t00928.xml\n",
      "150\n"
     ]
    },
    {
     "name": "stderr",
     "output_type": "stream",
     "text": [
      "91it [01:23,  1.91it/s]"
     ]
    },
    {
     "name": "stdout",
     "output_type": "stream",
     "text": [
      "90 cTDaR_t00929.xml\n",
      "154\n"
     ]
    },
    {
     "name": "stderr",
     "output_type": "stream",
     "text": [
      "92it [01:23,  1.10it/s]"
     ]
    },
    {
     "name": "stdout",
     "output_type": "stream",
     "text": [
      "91 cTDaR_t00930.xml\n",
      "162\n"
     ]
    },
    {
     "name": "stderr",
     "output_type": "stream",
     "text": [
      "\n"
     ]
    }
   ],
   "source": [
    "for i, data in enumerate([test]):\n",
    "    \n",
    "    for j, img_path in tqdm(enumerate(data)):\n",
    "    #    if j > 99: \n",
    "        image_name = os.path.basename(img_path)\n",
    "        image = Image.open(img_path)\n",
    "        w, h = image.size\n",
    "        #convert to RGB image\n",
    "        image = image.resize((new_h, new_w))\n",
    "        if image.mode != 'RGB':\n",
    "            image = image.convert(\"RGB\")\n",
    "        # table_bboxes, col_bboxes = [], []\n",
    "            \n",
    "        #get xml filename\n",
    "        xml_file = image_name.replace('.jpg', '.xml')\n",
    "        xml_file = xml_file.replace('.JPG', '.xml')\n",
    "        xml_path = os.path.join(ORIG_DATA_PATH, xml_file)\n",
    "        # xml_file.replace(\" \", \"\")\n",
    "        #processing XML\n",
    "        tree = ET.parse(xml_path)\n",
    "        root = tree.getroot()\n",
    "        print(j, xml_file)\n",
    "        tables, all_points, max_col = getall(root)\n",
    "        all_points = customsort(all_points)\n",
    "        \n",
    "        crds = toplot_2(all_points, max_col)\n",
    "        # print(crds, tables)\n",
    "        colmask, tablemask = os.path.join(COL_MASK_PATH, image_name), os.path.join(TABLE_MASK_PATH, image_name)\n",
    "        colplot(crds, img_path, colmask)\n",
    "        tableplot(tables, img_path, tablemask)\n",
    "        value = (img_path, tablemask, colmask, h, w, int(tables != 0), \\\n",
    "                len(tables), len(crds), tables, crds)\n",
    "        \n",
    "        further_proces.append(value)\n"
   ]
  },
  {
   "cell_type": "code",
   "execution_count": 135,
   "metadata": {},
   "outputs": [],
   "source": [
    "column_name = ['img_path','table_mask','col_mask','original_height','original_width','hasTable','table_count','col_count','table_bboxes','col_bboxes']\n",
    "further_proces = pd.DataFrame(further_proces, columns=column_name)"
   ]
  },
  {
   "cell_type": "code",
   "execution_count": 136,
   "metadata": {},
   "outputs": [],
   "source": [
    "further_proces.to_csv(\"processed_data_ICDAR_extension.csv\", index = False)"
   ]
  },
  {
   "cell_type": "code",
   "execution_count": 137,
   "metadata": {},
   "outputs": [],
   "source": [
    "temp3 =pd.read_csv('processed_data_ICDAR_extension.csv')"
   ]
  },
  {
   "cell_type": "code",
   "execution_count": 141,
   "metadata": {},
   "outputs": [
    {
     "data": {
      "text/html": [
       "<div>\n",
       "<style scoped>\n",
       "    .dataframe tbody tr th:only-of-type {\n",
       "        vertical-align: middle;\n",
       "    }\n",
       "\n",
       "    .dataframe tbody tr th {\n",
       "        vertical-align: top;\n",
       "    }\n",
       "\n",
       "    .dataframe thead th {\n",
       "        text-align: right;\n",
       "    }\n",
       "</style>\n",
       "<table border=\"1\" class=\"dataframe\">\n",
       "  <thead>\n",
       "    <tr style=\"text-align: right;\">\n",
       "      <th></th>\n",
       "      <th>img_path</th>\n",
       "      <th>table_mask</th>\n",
       "      <th>col_mask</th>\n",
       "      <th>original_height</th>\n",
       "      <th>original_width</th>\n",
       "      <th>hasTable</th>\n",
       "      <th>table_count</th>\n",
       "      <th>col_count</th>\n",
       "      <th>table_bboxes</th>\n",
       "      <th>col_bboxes</th>\n",
       "    </tr>\n",
       "  </thead>\n",
       "  <tbody>\n",
       "    <tr>\n",
       "      <th>0</th>\n",
       "      <td>./ICDAR/ICDAR2019_cTDaR/training/TRACKB1/groun...</td>\n",
       "      <td>./ICDAR/ICDAR_Processed\\table_mask\\cTDaR_t0082...</td>\n",
       "      <td>./ICDAR/ICDAR_Processed\\col_mask\\cTDaR_t00820.jpg</td>\n",
       "      <td>6160</td>\n",
       "      <td>4897</td>\n",
       "      <td>1</td>\n",
       "      <td>3</td>\n",
       "      <td>3</td>\n",
       "      <td>[[(288, 791), (1707, 791), (1707, 6144), (288,...</td>\n",
       "      <td>[[[(304, 791), (282, 6094), (329, 6133), (905,...</td>\n",
       "    </tr>\n",
       "    <tr>\n",
       "      <th>1</th>\n",
       "      <td>./ICDAR/ICDAR2019_cTDaR/training/TRACKB1/groun...</td>\n",
       "      <td>./ICDAR/ICDAR_Processed\\table_mask\\cTDaR_t0082...</td>\n",
       "      <td>./ICDAR/ICDAR_Processed\\col_mask\\cTDaR_t00820.jpg</td>\n",
       "      <td>6160</td>\n",
       "      <td>4897</td>\n",
       "      <td>1</td>\n",
       "      <td>3</td>\n",
       "      <td>3</td>\n",
       "      <td>[[(288, 791), (1707, 791), (1707, 6144), (288,...</td>\n",
       "      <td>[[[(304, 791), (282, 6094), (329, 6133), (905,...</td>\n",
       "    </tr>\n",
       "    <tr>\n",
       "      <th>2</th>\n",
       "      <td>./ICDAR/ICDAR2019_cTDaR/training/TRACKB1/groun...</td>\n",
       "      <td>./ICDAR/ICDAR_Processed\\table_mask\\cTDaR_t0082...</td>\n",
       "      <td>./ICDAR/ICDAR_Processed\\col_mask\\cTDaR_t00820.jpg</td>\n",
       "      <td>6160</td>\n",
       "      <td>4897</td>\n",
       "      <td>1</td>\n",
       "      <td>3</td>\n",
       "      <td>3</td>\n",
       "      <td>[[(288, 791), (1707, 791), (1707, 6144), (288,...</td>\n",
       "      <td>[[[(304, 791), (282, 6094), (329, 6133), (905,...</td>\n",
       "    </tr>\n",
       "    <tr>\n",
       "      <th>3</th>\n",
       "      <td>./ICDAR/ICDAR2019_cTDaR/training/TRACKB1/groun...</td>\n",
       "      <td>./ICDAR/ICDAR_Processed\\table_mask\\cTDaR_t0082...</td>\n",
       "      <td>./ICDAR/ICDAR_Processed\\col_mask\\cTDaR_t00821.jpg</td>\n",
       "      <td>6160</td>\n",
       "      <td>4897</td>\n",
       "      <td>1</td>\n",
       "      <td>2</td>\n",
       "      <td>2</td>\n",
       "      <td>[[(236, 904), (2100, 904), (2100, 5853), (236,...</td>\n",
       "      <td>[[[(240, 912), (268, 5850), (1043, 5850), (100...</td>\n",
       "    </tr>\n",
       "    <tr>\n",
       "      <th>4</th>\n",
       "      <td>./ICDAR/ICDAR2019_cTDaR/training/TRACKB1/groun...</td>\n",
       "      <td>./ICDAR/ICDAR_Processed\\table_mask\\cTDaR_t0082...</td>\n",
       "      <td>./ICDAR/ICDAR_Processed\\col_mask\\cTDaR_t00822.jpg</td>\n",
       "      <td>6160</td>\n",
       "      <td>4897</td>\n",
       "      <td>1</td>\n",
       "      <td>3</td>\n",
       "      <td>3</td>\n",
       "      <td>[[(302, 782), (1688, 782), (1688, 6140), (302,...</td>\n",
       "      <td>[[[(313, 786), (270, 6090), (458, 6140), (913,...</td>\n",
       "    </tr>\n",
       "    <tr>\n",
       "      <th>5</th>\n",
       "      <td>./ICDAR/ICDAR2019_cTDaR/training/TRACKB1/groun...</td>\n",
       "      <td>./ICDAR/ICDAR_Processed\\table_mask\\cTDaR_t0082...</td>\n",
       "      <td>./ICDAR/ICDAR_Processed\\col_mask\\cTDaR_t00823.jpg</td>\n",
       "      <td>6160</td>\n",
       "      <td>4897</td>\n",
       "      <td>1</td>\n",
       "      <td>3</td>\n",
       "      <td>3</td>\n",
       "      <td>[[(258, 787), (1688, 787), (1688, 6150), (258,...</td>\n",
       "      <td>[[[(295, 790), (275, 6098), (335, 6132), (894,...</td>\n",
       "    </tr>\n",
       "    <tr>\n",
       "      <th>6</th>\n",
       "      <td>./ICDAR/ICDAR2019_cTDaR/training/TRACKB1/groun...</td>\n",
       "      <td>./ICDAR/ICDAR_Processed\\table_mask\\cTDaR_t0082...</td>\n",
       "      <td>./ICDAR/ICDAR_Processed\\col_mask\\cTDaR_t00824.jpg</td>\n",
       "      <td>5881</td>\n",
       "      <td>4239</td>\n",
       "      <td>1</td>\n",
       "      <td>2</td>\n",
       "      <td>2</td>\n",
       "      <td>[[(214, 836), (2101, 836), (2101, 5775), (214,...</td>\n",
       "      <td>[[[(235, 844), (264, 5770), (1040, 5772), (103...</td>\n",
       "    </tr>\n",
       "    <tr>\n",
       "      <th>7</th>\n",
       "      <td>./ICDAR/ICDAR2019_cTDaR/training/TRACKB1/groun...</td>\n",
       "      <td>./ICDAR/ICDAR_Processed\\table_mask\\cTDaR_t0082...</td>\n",
       "      <td>./ICDAR/ICDAR_Processed\\col_mask\\cTDaR_t00825.jpg</td>\n",
       "      <td>6160</td>\n",
       "      <td>4897</td>\n",
       "      <td>1</td>\n",
       "      <td>3</td>\n",
       "      <td>3</td>\n",
       "      <td>[[(317, 791), (1707, 789), (1671, 6149), (235,...</td>\n",
       "      <td>[[[(325, 792), (260, 6091), (345, 6128), (926,...</td>\n",
       "    </tr>\n",
       "    <tr>\n",
       "      <th>8</th>\n",
       "      <td>./ICDAR/ICDAR2019_cTDaR/training/TRACKB1/groun...</td>\n",
       "      <td>./ICDAR/ICDAR_Processed\\table_mask\\cTDaR_t0082...</td>\n",
       "      <td>./ICDAR/ICDAR_Processed\\col_mask\\cTDaR_t00826.jpg</td>\n",
       "      <td>5928</td>\n",
       "      <td>4223</td>\n",
       "      <td>1</td>\n",
       "      <td>2</td>\n",
       "      <td>2</td>\n",
       "      <td>[[(217, 903), (2089, 903), (2089, 5863), (217,...</td>\n",
       "      <td>[[[(239, 907), (260, 5844), (1027, 5850), (107...</td>\n",
       "    </tr>\n",
       "    <tr>\n",
       "      <th>9</th>\n",
       "      <td>./ICDAR/ICDAR2019_cTDaR/training/TRACKB1/groun...</td>\n",
       "      <td>./ICDAR/ICDAR_Processed\\table_mask\\cTDaR_t0082...</td>\n",
       "      <td>./ICDAR/ICDAR_Processed\\col_mask\\cTDaR_t00827.jpg</td>\n",
       "      <td>6160</td>\n",
       "      <td>4897</td>\n",
       "      <td>1</td>\n",
       "      <td>3</td>\n",
       "      <td>3</td>\n",
       "      <td>[[(281, 795), (1674, 795), (1674, 6149), (281,...</td>\n",
       "      <td>[[[(295, 797), (261, 6111), (607, 6136), (891,...</td>\n",
       "    </tr>\n",
       "  </tbody>\n",
       "</table>\n",
       "</div>"
      ],
      "text/plain": [
       "                                            img_path  \\\n",
       "0  ./ICDAR/ICDAR2019_cTDaR/training/TRACKB1/groun...   \n",
       "1  ./ICDAR/ICDAR2019_cTDaR/training/TRACKB1/groun...   \n",
       "2  ./ICDAR/ICDAR2019_cTDaR/training/TRACKB1/groun...   \n",
       "3  ./ICDAR/ICDAR2019_cTDaR/training/TRACKB1/groun...   \n",
       "4  ./ICDAR/ICDAR2019_cTDaR/training/TRACKB1/groun...   \n",
       "5  ./ICDAR/ICDAR2019_cTDaR/training/TRACKB1/groun...   \n",
       "6  ./ICDAR/ICDAR2019_cTDaR/training/TRACKB1/groun...   \n",
       "7  ./ICDAR/ICDAR2019_cTDaR/training/TRACKB1/groun...   \n",
       "8  ./ICDAR/ICDAR2019_cTDaR/training/TRACKB1/groun...   \n",
       "9  ./ICDAR/ICDAR2019_cTDaR/training/TRACKB1/groun...   \n",
       "\n",
       "                                          table_mask  \\\n",
       "0  ./ICDAR/ICDAR_Processed\\table_mask\\cTDaR_t0082...   \n",
       "1  ./ICDAR/ICDAR_Processed\\table_mask\\cTDaR_t0082...   \n",
       "2  ./ICDAR/ICDAR_Processed\\table_mask\\cTDaR_t0082...   \n",
       "3  ./ICDAR/ICDAR_Processed\\table_mask\\cTDaR_t0082...   \n",
       "4  ./ICDAR/ICDAR_Processed\\table_mask\\cTDaR_t0082...   \n",
       "5  ./ICDAR/ICDAR_Processed\\table_mask\\cTDaR_t0082...   \n",
       "6  ./ICDAR/ICDAR_Processed\\table_mask\\cTDaR_t0082...   \n",
       "7  ./ICDAR/ICDAR_Processed\\table_mask\\cTDaR_t0082...   \n",
       "8  ./ICDAR/ICDAR_Processed\\table_mask\\cTDaR_t0082...   \n",
       "9  ./ICDAR/ICDAR_Processed\\table_mask\\cTDaR_t0082...   \n",
       "\n",
       "                                            col_mask  original_height  \\\n",
       "0  ./ICDAR/ICDAR_Processed\\col_mask\\cTDaR_t00820.jpg             6160   \n",
       "1  ./ICDAR/ICDAR_Processed\\col_mask\\cTDaR_t00820.jpg             6160   \n",
       "2  ./ICDAR/ICDAR_Processed\\col_mask\\cTDaR_t00820.jpg             6160   \n",
       "3  ./ICDAR/ICDAR_Processed\\col_mask\\cTDaR_t00821.jpg             6160   \n",
       "4  ./ICDAR/ICDAR_Processed\\col_mask\\cTDaR_t00822.jpg             6160   \n",
       "5  ./ICDAR/ICDAR_Processed\\col_mask\\cTDaR_t00823.jpg             6160   \n",
       "6  ./ICDAR/ICDAR_Processed\\col_mask\\cTDaR_t00824.jpg             5881   \n",
       "7  ./ICDAR/ICDAR_Processed\\col_mask\\cTDaR_t00825.jpg             6160   \n",
       "8  ./ICDAR/ICDAR_Processed\\col_mask\\cTDaR_t00826.jpg             5928   \n",
       "9  ./ICDAR/ICDAR_Processed\\col_mask\\cTDaR_t00827.jpg             6160   \n",
       "\n",
       "   original_width  hasTable  table_count  col_count  \\\n",
       "0            4897         1            3          3   \n",
       "1            4897         1            3          3   \n",
       "2            4897         1            3          3   \n",
       "3            4897         1            2          2   \n",
       "4            4897         1            3          3   \n",
       "5            4897         1            3          3   \n",
       "6            4239         1            2          2   \n",
       "7            4897         1            3          3   \n",
       "8            4223         1            2          2   \n",
       "9            4897         1            3          3   \n",
       "\n",
       "                                        table_bboxes  \\\n",
       "0  [[(288, 791), (1707, 791), (1707, 6144), (288,...   \n",
       "1  [[(288, 791), (1707, 791), (1707, 6144), (288,...   \n",
       "2  [[(288, 791), (1707, 791), (1707, 6144), (288,...   \n",
       "3  [[(236, 904), (2100, 904), (2100, 5853), (236,...   \n",
       "4  [[(302, 782), (1688, 782), (1688, 6140), (302,...   \n",
       "5  [[(258, 787), (1688, 787), (1688, 6150), (258,...   \n",
       "6  [[(214, 836), (2101, 836), (2101, 5775), (214,...   \n",
       "7  [[(317, 791), (1707, 789), (1671, 6149), (235,...   \n",
       "8  [[(217, 903), (2089, 903), (2089, 5863), (217,...   \n",
       "9  [[(281, 795), (1674, 795), (1674, 6149), (281,...   \n",
       "\n",
       "                                          col_bboxes  \n",
       "0  [[[(304, 791), (282, 6094), (329, 6133), (905,...  \n",
       "1  [[[(304, 791), (282, 6094), (329, 6133), (905,...  \n",
       "2  [[[(304, 791), (282, 6094), (329, 6133), (905,...  \n",
       "3  [[[(240, 912), (268, 5850), (1043, 5850), (100...  \n",
       "4  [[[(313, 786), (270, 6090), (458, 6140), (913,...  \n",
       "5  [[[(295, 790), (275, 6098), (335, 6132), (894,...  \n",
       "6  [[[(235, 844), (264, 5770), (1040, 5772), (103...  \n",
       "7  [[[(325, 792), (260, 6091), (345, 6128), (926,...  \n",
       "8  [[[(239, 907), (260, 5844), (1027, 5850), (107...  \n",
       "9  [[[(295, 797), (261, 6111), (607, 6136), (891,...  "
      ]
     },
     "execution_count": 141,
     "metadata": {},
     "output_type": "execute_result"
    }
   ],
   "source": [
    "temp3.head(10)"
   ]
  },
  {
   "cell_type": "code",
   "execution_count": 139,
   "metadata": {},
   "outputs": [
    {
     "data": {
      "text/plain": [
       "94"
      ]
     },
     "execution_count": 139,
     "metadata": {},
     "output_type": "execute_result"
    }
   ],
   "source": [
    "len(temp3)"
   ]
  },
  {
   "cell_type": "code",
   "execution_count": 142,
   "metadata": {},
   "outputs": [
    {
     "data": {
      "text/html": [
       "<div>\n",
       "<style scoped>\n",
       "    .dataframe tbody tr th:only-of-type {\n",
       "        vertical-align: middle;\n",
       "    }\n",
       "\n",
       "    .dataframe tbody tr th {\n",
       "        vertical-align: top;\n",
       "    }\n",
       "\n",
       "    .dataframe thead th {\n",
       "        text-align: right;\n",
       "    }\n",
       "</style>\n",
       "<table border=\"1\" class=\"dataframe\">\n",
       "  <thead>\n",
       "    <tr style=\"text-align: right;\">\n",
       "      <th></th>\n",
       "      <th>img_path</th>\n",
       "      <th>table_mask</th>\n",
       "      <th>col_mask</th>\n",
       "      <th>original_height</th>\n",
       "      <th>original_width</th>\n",
       "      <th>hasTable</th>\n",
       "      <th>table_count</th>\n",
       "      <th>col_count</th>\n",
       "      <th>table_bboxes</th>\n",
       "      <th>col_bboxes</th>\n",
       "    </tr>\n",
       "  </thead>\n",
       "  <tbody>\n",
       "    <tr>\n",
       "      <th>84</th>\n",
       "      <td>./ICDAR/ICDAR2019_cTDaR/training/TRACKB1/groun...</td>\n",
       "      <td>./ICDAR/ICDAR_Processed\\table_mask\\cTDaR_t0092...</td>\n",
       "      <td>./ICDAR/ICDAR_Processed\\col_mask\\cTDaR_t00921.jpg</td>\n",
       "      <td>3830</td>\n",
       "      <td>2480</td>\n",
       "      <td>1</td>\n",
       "      <td>1</td>\n",
       "      <td>1</td>\n",
       "      <td>[[(104, 564), (2335, 564), (2335, 3719), (104,...</td>\n",
       "      <td>[[[(124, 564), (124, 3712), (290, 3714), (328,...</td>\n",
       "    </tr>\n",
       "    <tr>\n",
       "      <th>85</th>\n",
       "      <td>./ICDAR/ICDAR2019_cTDaR/training/TRACKB1/groun...</td>\n",
       "      <td>./ICDAR/ICDAR_Processed\\table_mask\\cTDaR_t0092...</td>\n",
       "      <td>./ICDAR/ICDAR_Processed\\col_mask\\cTDaR_t00922.jpg</td>\n",
       "      <td>3830</td>\n",
       "      <td>2480</td>\n",
       "      <td>1</td>\n",
       "      <td>1</td>\n",
       "      <td>1</td>\n",
       "      <td>[[(140, 574), (2416, 574), (2416, 3502), (140,...</td>\n",
       "      <td>[[[(168, 578), (160, 3502), (371, 3501), (371,...</td>\n",
       "    </tr>\n",
       "    <tr>\n",
       "      <th>86</th>\n",
       "      <td>./ICDAR/ICDAR2019_cTDaR/training/TRACKB1/groun...</td>\n",
       "      <td>./ICDAR/ICDAR_Processed\\table_mask\\cTDaR_t0092...</td>\n",
       "      <td>./ICDAR/ICDAR_Processed\\col_mask\\cTDaR_t00923.jpg</td>\n",
       "      <td>3830</td>\n",
       "      <td>2480</td>\n",
       "      <td>1</td>\n",
       "      <td>1</td>\n",
       "      <td>1</td>\n",
       "      <td>[[(94, 564), (2329, 564), (2329, 3130), (94, 3...</td>\n",
       "      <td>[[[(121, 566), (114, 3130), (294, 3130), (320,...</td>\n",
       "    </tr>\n",
       "    <tr>\n",
       "      <th>87</th>\n",
       "      <td>./ICDAR/ICDAR2019_cTDaR/training/TRACKB1/groun...</td>\n",
       "      <td>./ICDAR/ICDAR_Processed\\table_mask\\cTDaR_t0092...</td>\n",
       "      <td>./ICDAR/ICDAR_Processed\\col_mask\\cTDaR_t00924.jpg</td>\n",
       "      <td>3830</td>\n",
       "      <td>2480</td>\n",
       "      <td>1</td>\n",
       "      <td>1</td>\n",
       "      <td>1</td>\n",
       "      <td>[[(145, 576), (2417, 576), (2417, 3036), (145,...</td>\n",
       "      <td>[[[(169, 575), (165, 3036), (375, 3036), (375,...</td>\n",
       "    </tr>\n",
       "    <tr>\n",
       "      <th>88</th>\n",
       "      <td>./ICDAR/ICDAR2019_cTDaR/training/TRACKB1/groun...</td>\n",
       "      <td>./ICDAR/ICDAR_Processed\\table_mask\\cTDaR_t0092...</td>\n",
       "      <td>./ICDAR/ICDAR_Processed\\col_mask\\cTDaR_t00925.jpg</td>\n",
       "      <td>3830</td>\n",
       "      <td>2480</td>\n",
       "      <td>1</td>\n",
       "      <td>1</td>\n",
       "      <td>1</td>\n",
       "      <td>[[(96, 565), (2342, 565), (2342, 3315), (96, 3...</td>\n",
       "      <td>[[[(122, 570), (116, 3315), (295, 3316), (323,...</td>\n",
       "    </tr>\n",
       "    <tr>\n",
       "      <th>89</th>\n",
       "      <td>./ICDAR/ICDAR2019_cTDaR/training/TRACKB1/groun...</td>\n",
       "      <td>./ICDAR/ICDAR_Processed\\table_mask\\cTDaR_t0092...</td>\n",
       "      <td>./ICDAR/ICDAR_Processed\\col_mask\\cTDaR_t00926.jpg</td>\n",
       "      <td>3830</td>\n",
       "      <td>2480</td>\n",
       "      <td>1</td>\n",
       "      <td>1</td>\n",
       "      <td>1</td>\n",
       "      <td>[[(145, 574), (2412, 574), (2412, 3501), (145,...</td>\n",
       "      <td>[[[(166, 575), (165, 3501), (370, 3502), (375,...</td>\n",
       "    </tr>\n",
       "    <tr>\n",
       "      <th>90</th>\n",
       "      <td>./ICDAR/ICDAR2019_cTDaR/training/TRACKB1/groun...</td>\n",
       "      <td>./ICDAR/ICDAR_Processed\\table_mask\\cTDaR_t0092...</td>\n",
       "      <td>./ICDAR/ICDAR_Processed\\col_mask\\cTDaR_t00927.jpg</td>\n",
       "      <td>3830</td>\n",
       "      <td>2480</td>\n",
       "      <td>1</td>\n",
       "      <td>1</td>\n",
       "      <td>1</td>\n",
       "      <td>[[(92, 569), (2323, 569), (2323, 3750), (92, 3...</td>\n",
       "      <td>[[[(112, 569), (111, 3745), (278, 3747), (318,...</td>\n",
       "    </tr>\n",
       "    <tr>\n",
       "      <th>91</th>\n",
       "      <td>./ICDAR/ICDAR2019_cTDaR/training/TRACKB1/groun...</td>\n",
       "      <td>./ICDAR/ICDAR_Processed\\table_mask\\cTDaR_t0092...</td>\n",
       "      <td>./ICDAR/ICDAR_Processed\\col_mask\\cTDaR_t00928.jpg</td>\n",
       "      <td>3830</td>\n",
       "      <td>2480</td>\n",
       "      <td>1</td>\n",
       "      <td>1</td>\n",
       "      <td>1</td>\n",
       "      <td>[[(156, 587), (2425, 587), (2425, 3512), (156,...</td>\n",
       "      <td>[[[(176, 587), (176, 3512), (385, 3511), (386,...</td>\n",
       "    </tr>\n",
       "    <tr>\n",
       "      <th>92</th>\n",
       "      <td>./ICDAR/ICDAR2019_cTDaR/training/TRACKB1/groun...</td>\n",
       "      <td>./ICDAR/ICDAR_Processed\\table_mask\\cTDaR_t0092...</td>\n",
       "      <td>./ICDAR/ICDAR_Processed\\col_mask\\cTDaR_t00929.jpg</td>\n",
       "      <td>3830</td>\n",
       "      <td>2480</td>\n",
       "      <td>1</td>\n",
       "      <td>1</td>\n",
       "      <td>1</td>\n",
       "      <td>[[(96, 573), (2322, 573), (2322, 3499), (96, 3...</td>\n",
       "      <td>[[[(116, 573), (116, 3499), (281, 3499), (318,...</td>\n",
       "    </tr>\n",
       "    <tr>\n",
       "      <th>93</th>\n",
       "      <td>./ICDAR/ICDAR2019_cTDaR/training/TRACKB1/groun...</td>\n",
       "      <td>./ICDAR/ICDAR_Processed\\table_mask\\cTDaR_t0093...</td>\n",
       "      <td>./ICDAR/ICDAR_Processed\\col_mask\\cTDaR_t00930.jpg</td>\n",
       "      <td>3830</td>\n",
       "      <td>2480</td>\n",
       "      <td>1</td>\n",
       "      <td>1</td>\n",
       "      <td>1</td>\n",
       "      <td>[[(161, 585), (2458, 585), (2458, 3416), (161,...</td>\n",
       "      <td>[[[(185, 590), (181, 3416), (393, 3416), (393,...</td>\n",
       "    </tr>\n",
       "  </tbody>\n",
       "</table>\n",
       "</div>"
      ],
      "text/plain": [
       "                                             img_path  \\\n",
       "84  ./ICDAR/ICDAR2019_cTDaR/training/TRACKB1/groun...   \n",
       "85  ./ICDAR/ICDAR2019_cTDaR/training/TRACKB1/groun...   \n",
       "86  ./ICDAR/ICDAR2019_cTDaR/training/TRACKB1/groun...   \n",
       "87  ./ICDAR/ICDAR2019_cTDaR/training/TRACKB1/groun...   \n",
       "88  ./ICDAR/ICDAR2019_cTDaR/training/TRACKB1/groun...   \n",
       "89  ./ICDAR/ICDAR2019_cTDaR/training/TRACKB1/groun...   \n",
       "90  ./ICDAR/ICDAR2019_cTDaR/training/TRACKB1/groun...   \n",
       "91  ./ICDAR/ICDAR2019_cTDaR/training/TRACKB1/groun...   \n",
       "92  ./ICDAR/ICDAR2019_cTDaR/training/TRACKB1/groun...   \n",
       "93  ./ICDAR/ICDAR2019_cTDaR/training/TRACKB1/groun...   \n",
       "\n",
       "                                           table_mask  \\\n",
       "84  ./ICDAR/ICDAR_Processed\\table_mask\\cTDaR_t0092...   \n",
       "85  ./ICDAR/ICDAR_Processed\\table_mask\\cTDaR_t0092...   \n",
       "86  ./ICDAR/ICDAR_Processed\\table_mask\\cTDaR_t0092...   \n",
       "87  ./ICDAR/ICDAR_Processed\\table_mask\\cTDaR_t0092...   \n",
       "88  ./ICDAR/ICDAR_Processed\\table_mask\\cTDaR_t0092...   \n",
       "89  ./ICDAR/ICDAR_Processed\\table_mask\\cTDaR_t0092...   \n",
       "90  ./ICDAR/ICDAR_Processed\\table_mask\\cTDaR_t0092...   \n",
       "91  ./ICDAR/ICDAR_Processed\\table_mask\\cTDaR_t0092...   \n",
       "92  ./ICDAR/ICDAR_Processed\\table_mask\\cTDaR_t0092...   \n",
       "93  ./ICDAR/ICDAR_Processed\\table_mask\\cTDaR_t0093...   \n",
       "\n",
       "                                             col_mask  original_height  \\\n",
       "84  ./ICDAR/ICDAR_Processed\\col_mask\\cTDaR_t00921.jpg             3830   \n",
       "85  ./ICDAR/ICDAR_Processed\\col_mask\\cTDaR_t00922.jpg             3830   \n",
       "86  ./ICDAR/ICDAR_Processed\\col_mask\\cTDaR_t00923.jpg             3830   \n",
       "87  ./ICDAR/ICDAR_Processed\\col_mask\\cTDaR_t00924.jpg             3830   \n",
       "88  ./ICDAR/ICDAR_Processed\\col_mask\\cTDaR_t00925.jpg             3830   \n",
       "89  ./ICDAR/ICDAR_Processed\\col_mask\\cTDaR_t00926.jpg             3830   \n",
       "90  ./ICDAR/ICDAR_Processed\\col_mask\\cTDaR_t00927.jpg             3830   \n",
       "91  ./ICDAR/ICDAR_Processed\\col_mask\\cTDaR_t00928.jpg             3830   \n",
       "92  ./ICDAR/ICDAR_Processed\\col_mask\\cTDaR_t00929.jpg             3830   \n",
       "93  ./ICDAR/ICDAR_Processed\\col_mask\\cTDaR_t00930.jpg             3830   \n",
       "\n",
       "    original_width  hasTable  table_count  col_count  \\\n",
       "84            2480         1            1          1   \n",
       "85            2480         1            1          1   \n",
       "86            2480         1            1          1   \n",
       "87            2480         1            1          1   \n",
       "88            2480         1            1          1   \n",
       "89            2480         1            1          1   \n",
       "90            2480         1            1          1   \n",
       "91            2480         1            1          1   \n",
       "92            2480         1            1          1   \n",
       "93            2480         1            1          1   \n",
       "\n",
       "                                         table_bboxes  \\\n",
       "84  [[(104, 564), (2335, 564), (2335, 3719), (104,...   \n",
       "85  [[(140, 574), (2416, 574), (2416, 3502), (140,...   \n",
       "86  [[(94, 564), (2329, 564), (2329, 3130), (94, 3...   \n",
       "87  [[(145, 576), (2417, 576), (2417, 3036), (145,...   \n",
       "88  [[(96, 565), (2342, 565), (2342, 3315), (96, 3...   \n",
       "89  [[(145, 574), (2412, 574), (2412, 3501), (145,...   \n",
       "90  [[(92, 569), (2323, 569), (2323, 3750), (92, 3...   \n",
       "91  [[(156, 587), (2425, 587), (2425, 3512), (156,...   \n",
       "92  [[(96, 573), (2322, 573), (2322, 3499), (96, 3...   \n",
       "93  [[(161, 585), (2458, 585), (2458, 3416), (161,...   \n",
       "\n",
       "                                           col_bboxes  \n",
       "84  [[[(124, 564), (124, 3712), (290, 3714), (328,...  \n",
       "85  [[[(168, 578), (160, 3502), (371, 3501), (371,...  \n",
       "86  [[[(121, 566), (114, 3130), (294, 3130), (320,...  \n",
       "87  [[[(169, 575), (165, 3036), (375, 3036), (375,...  \n",
       "88  [[[(122, 570), (116, 3315), (295, 3316), (323,...  \n",
       "89  [[[(166, 575), (165, 3501), (370, 3502), (375,...  \n",
       "90  [[[(112, 569), (111, 3745), (278, 3747), (318,...  \n",
       "91  [[[(176, 587), (176, 3512), (385, 3511), (386,...  \n",
       "92  [[[(116, 573), (116, 3499), (281, 3499), (318,...  \n",
       "93  [[[(185, 590), (181, 3416), (393, 3416), (393,...  "
      ]
     },
     "execution_count": 142,
     "metadata": {},
     "output_type": "execute_result"
    }
   ],
   "source": [
    "temp3.tail(10)"
   ]
  },
  {
   "cell_type": "code",
   "execution_count": null,
   "metadata": {},
   "outputs": [],
   "source": []
  }
 ],
 "metadata": {
  "interpreter": {
   "hash": "cce9c5b3b81fcb98a8d09dfcaff65dd7cd23b6605cc49ab6f14f654f1c8962b0"
  },
  "kernelspec": {
   "display_name": "Python 3",
   "language": "python",
   "name": "python3"
  },
  "language_info": {
   "codemirror_mode": {
    "name": "ipython",
    "version": 3
   },
   "file_extension": ".py",
   "mimetype": "text/x-python",
   "name": "python",
   "nbconvert_exporter": "python",
   "pygments_lexer": "ipython3",
   "version": "3.10.2"
  }
 },
 "nbformat": 4,
 "nbformat_minor": 4
}
