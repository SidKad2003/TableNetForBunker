{
 "cells": [
  {
   "cell_type": "code",
   "execution_count": 3,
   "metadata": {},
   "outputs": [
    {
     "name": "stdout",
     "output_type": "stream",
     "text": [
      "Requirement already satisfied: seaborn in c:\\users\\sid\\appdata\\local\\programs\\python\\python310\\lib\\site-packages (0.13.2)\n",
      "Requirement already satisfied: numpy!=1.24.0,>=1.20 in c:\\users\\sid\\appdata\\local\\programs\\python\\python310\\lib\\site-packages (from seaborn) (1.25.2)\n",
      "Requirement already satisfied: pandas>=1.2 in c:\\users\\sid\\appdata\\local\\programs\\python\\python310\\lib\\site-packages (from seaborn) (2.1.2)\n",
      "Requirement already satisfied: matplotlib!=3.6.1,>=3.4 in c:\\users\\sid\\appdata\\local\\programs\\python\\python310\\lib\\site-packages (from seaborn) (3.8.2)\n",
      "Requirement already satisfied: contourpy>=1.0.1 in c:\\users\\sid\\appdata\\local\\programs\\python\\python310\\lib\\site-packages (from matplotlib!=3.6.1,>=3.4->seaborn) (1.1.1)\n",
      "Requirement already satisfied: cycler>=0.10 in c:\\users\\sid\\appdata\\local\\programs\\python\\python310\\lib\\site-packages (from matplotlib!=3.6.1,>=3.4->seaborn) (0.12.1)\n",
      "Requirement already satisfied: fonttools>=4.22.0 in c:\\users\\sid\\appdata\\local\\programs\\python\\python310\\lib\\site-packages (from matplotlib!=3.6.1,>=3.4->seaborn) (4.43.1)\n",
      "Requirement already satisfied: kiwisolver>=1.3.1 in c:\\users\\sid\\appdata\\local\\programs\\python\\python310\\lib\\site-packages (from matplotlib!=3.6.1,>=3.4->seaborn) (1.4.5)\n",
      "Requirement already satisfied: packaging>=20.0 in c:\\users\\sid\\appdata\\local\\programs\\python\\python310\\lib\\site-packages (from matplotlib!=3.6.1,>=3.4->seaborn) (23.0)\n",
      "Requirement already satisfied: pillow>=8 in c:\\users\\sid\\appdata\\local\\programs\\python\\python310\\lib\\site-packages (from matplotlib!=3.6.1,>=3.4->seaborn) (9.4.0)\n",
      "Requirement already satisfied: pyparsing>=2.3.1 in c:\\users\\sid\\appdata\\local\\programs\\python\\python310\\lib\\site-packages (from matplotlib!=3.6.1,>=3.4->seaborn) (3.1.1)\n",
      "Requirement already satisfied: python-dateutil>=2.7 in c:\\users\\sid\\appdata\\local\\programs\\python\\python310\\lib\\site-packages (from matplotlib!=3.6.1,>=3.4->seaborn) (2.8.2)\n",
      "Requirement already satisfied: pytz>=2020.1 in c:\\users\\sid\\appdata\\local\\programs\\python\\python310\\lib\\site-packages (from pandas>=1.2->seaborn) (2023.3.post1)\n",
      "Requirement already satisfied: tzdata>=2022.1 in c:\\users\\sid\\appdata\\local\\programs\\python\\python310\\lib\\site-packages (from pandas>=1.2->seaborn) (2023.3)\n",
      "Requirement already satisfied: six>=1.5 in c:\\users\\sid\\appdata\\local\\programs\\python\\python310\\lib\\site-packages (from python-dateutil>=2.7->matplotlib!=3.6.1,>=3.4->seaborn) (1.16.0)\n",
      "Note: you may need to restart the kernel to use updated packages.\n"
     ]
    },
    {
     "name": "stderr",
     "output_type": "stream",
     "text": [
      "\n",
      "[notice] A new release of pip is available: 24.0 -> 24.1\n",
      "[notice] To update, run: python.exe -m pip install --upgrade pip\n"
     ]
    }
   ],
   "source": [
    "%pip install seaborn"
   ]
  },
  {
   "cell_type": "code",
   "execution_count": 4,
   "metadata": {},
   "outputs": [],
   "source": [
    "#import libraries\n",
    "\n",
    "import os\n",
    "import math\n",
    "import cv2\n",
    "import struct\n",
    "import glob\n",
    "from tqdm import tqdm\n",
    "from PIL import Image\n",
    "import pandas as pd\n",
    "import numpy as np\n",
    "import matplotlib.pyplot as plt\n",
    "import matplotlib.image as mpimg\n",
    "import seaborn as sns\n",
    "import xml.etree.ElementTree as ET"
   ]
  },
  {
   "cell_type": "code",
   "execution_count": 5,
   "metadata": {},
   "outputs": [],
   "source": [
    "PROCESSED_DATA = './ICDAR/ICDAR_Processed'\n",
    "IMAGE_PATH = os.path.join(PROCESSED_DATA, 'image')\n",
    "TABLE_MASK_PATH = os.path.join(PROCESSED_DATA, 'table_mask')\n",
    "COL_MASK_PATH = os.path.join(PROCESSED_DATA, 'col_mask')\n",
    "ORIG_DATA_PATH = '.\\ICDAR\\ICDAR2019_cTDaR/training\\TRACKB1\\ground_truth'"
   ]
  },
  {
   "cell_type": "code",
   "execution_count": null,
   "metadata": {},
   "outputs": [],
   "source": [
    "os.makedirs(PROCESSED_DATA, exist_ok = True)\n",
    "os.makedirs(IMAGE_PATH, exist_ok = True)\n",
    "os.makedirs(TABLE_MASK_PATH, exist_ok = True)\n",
    "os.makedirs(COL_MASK_PATH, exist_ok = True)"
   ]
  },
  {
   "cell_type": "code",
   "execution_count": null,
   "metadata": {},
   "outputs": [],
   "source": [
    "import xml.etree.ElementTree as ET\n",
    "tree = ET.parse('cTDaR_t00005.xml')\n",
    "root = tree.getroot()"
   ]
  },
  {
   "cell_type": "code",
   "execution_count": 6,
   "metadata": {},
   "outputs": [],
   "source": [
    "# Function to set a value in the table\n",
    "def set_value(table, row, col, value):\n",
    "    table[(row, col)] = value\n",
    "\n",
    "# Function to get a value from the table\n",
    "def get_value(table, row, col):\n",
    "    return table.get((row, col), None)"
   ]
  },
  {
   "cell_type": "markdown",
   "metadata": {},
   "source": [
    "# Point Extraction from XMLS"
   ]
  },
  {
   "cell_type": "markdown",
   "metadata": {},
   "source": [
    "### Extraction and arrangement of points for columns from XMLs"
   ]
  },
  {
   "cell_type": "code",
   "execution_count": 49,
   "metadata": {},
   "outputs": [],
   "source": [
    "import math\n",
    "def parrange(start_row, start_col, end_row, end_col, pointsfornow, points):\n",
    "  if(end_row == None):\n",
    "    end_row = start_row\n",
    "  if(end_col == None):\n",
    "    end_col = start_col\n",
    "  rows = end_row - start_row + 1\n",
    "  cols = end_col - start_col + 1\n",
    "  if(rows == 1 and cols == 1):\n",
    "    set_value(pointsfornow, start_row, start_col, points[0:4])\n",
    "    set_value(pointsfornow, start_row, start_col, [points[0], points[1], points[math.floor((len(points)-2)/2)+1], points[math.floor((len(points)-2)/2)+2]])\n",
    "  elif (rows != 1 or cols != 1) and len(points) > 4:\n",
    "    left = points[:rows+1]\n",
    "    top = points[rows+1:rows+cols]\n",
    "    right = points[rows+cols:rows+cols+rows+1]\n",
    "    bottom = points[rows+cols+rows+1:]\n",
    "    right.reverse()\n",
    "    bottom.reverse()\n",
    "    pts1 = True if len(points) == 2*(rows+cols) else False\n",
    "    L1 = True if len(left) == rows+1 else False\n",
    "    R1 = True if len(left) == rows+1 else False\n",
    "    T1 = True if  len(top) == cols-1 else False\n",
    "    B1 = True if  len(bottom) == cols-1 else False\n",
    "    master = True if pts1 and L1 and R1 and T1 and B1 else False\n",
    "    for row in range(rows):\n",
    "      for col in range(cols):\n",
    "        if col == 0 and cols > 1 and master and len(top)>0:\n",
    "          set_value(pointsfornow, start_row+row, start_col+col, [left[row], left[row+1], top[col], bottom[col]])\n",
    "        elif col == cols-1 and master and len(top)>0:\n",
    "          set_value(pointsfornow, start_row+row, start_col+col, [bottom[col-1], top[col-1], right[row], right[row+1]])\n",
    "        elif col > 0 and col < cols-1 and master and len(top)>0:\n",
    "          set_value(pointsfornow, start_row+row, start_col+col, [bottom[col-1], top[col-1], top[col], bottom[col]])\n",
    "        else:\n",
    "          set_value(pointsfornow, start_row+row, start_col+col, None)\n",
    "  elif (rows != 1 or cols != 1):  \n",
    "    for row in range(rows):\n",
    "      for col in range(cols):\n",
    "        set_value(pointsfornow, start_row+row, start_col+col, [points[0], points[1], points[2], points[3]])"
   ]
  },
  {
   "cell_type": "code",
   "execution_count": 8,
   "metadata": {},
   "outputs": [],
   "source": [
    "def string_to_points(coord_string):\n",
    "    points = coord_string.split()\n",
    "    return [tuple(map(int, point.split(','))) for point in points]"
   ]
  },
  {
   "cell_type": "code",
   "execution_count": 9,
   "metadata": {},
   "outputs": [],
   "source": [
    "def getall(root):\n",
    "  table= []\n",
    "  all_points = []\n",
    "  max_col = []  # Variable to track the maximum end-col value\n",
    "\n",
    "  for child in root: #Tables in Document\n",
    "      pointsfornow = {}\n",
    "      mxc = 0\n",
    "      for child2 in child: #coord for table and cell in Table\n",
    "        if 'points' in child2.attrib:\n",
    "              table.append(string_to_points(child2.attrib['points']))\n",
    "        else:\n",
    "            start_row, start_col, end_row, end_col = None, None, None, None\n",
    "            try:\n",
    "              start_row = int(child2.attrib['start-row'])\n",
    "              start_col = int(child2.attrib['start-col'])\n",
    "              end_row = int(child2.attrib['end-row'])\n",
    "              end_col = int(child2.attrib['end-col'])\n",
    "            except(ValueError, TypeError):\n",
    "              print(\"exception in Start/End Row/Column\")\n",
    "            try:\n",
    "              if end_col > mxc:\n",
    "                mxc = end_col\n",
    "            except (ValueError, TypeError):\n",
    "              print(\"exception in max col\")\n",
    "              if start_col > mxc:\n",
    "                mxc = start_col\n",
    "        for child3 in child2: #coord in Cell within Table\n",
    "          if 'points' in child3.attrib:\n",
    "                  parrange(start_row, start_col, end_row, end_col, pointsfornow, string_to_points(child3.attrib['points']))\n",
    "      all_points.append(pointsfornow)\n",
    "      max_col.append(mxc+1)\n",
    "  return table, all_points, max_col "
   ]
  },
  {
   "cell_type": "markdown",
   "metadata": {},
   "source": [
    "## THIS is for COLUMN MASK ONLY"
   ]
  },
  {
   "cell_type": "code",
   "execution_count": 10,
   "metadata": {},
   "outputs": [],
   "source": [
    "def customsort(points):\n",
    "  toreturn = []\n",
    "  for unsorted_dict in points:\n",
    "    sorted_dict = dict(sorted(unsorted_dict.items(), key=lambda item: (item[0][0], item[0][1])))\n",
    "    toreturn.append(sorted_dict)\n",
    "  return toreturn"
   ]
  },
  {
   "cell_type": "code",
   "execution_count": 56,
   "metadata": {},
   "outputs": [],
   "source": [
    "def toplot(all_ps, max_col):\n",
    "    ret = []\n",
    "    for p, all_poins in enumerate(all_ps):\n",
    "      # print(len(all_poins))\n",
    "      # print(all_poins.keys())\n",
    "      temp_ret = []\n",
    "      resultant = list(all_poins.items())[-max_col[p]:]\n",
    "      replacefrm = list(all_poins.items())[:max_col[p]]\n",
    "\n",
    "# Iterate through the dictionary keys\n",
    "      resultant = dict(resultant)\n",
    "      replacefrm = dict(replacefrm)\n",
    "      R1 = 0\n",
    "      for key1 in resultant.keys():\n",
    "        A = key1[0]\n",
    "        if A > R1:\n",
    "          R1 = A\n",
    "      R2 = 1234567890123456789012345678901234567890\n",
    "      for key2 in replacefrm.keys():\n",
    "        B = key2[0]\n",
    "        if B < R2:\n",
    "          R2 = B\n",
    "      # print(resultant)\n",
    "      # print(replacefrm)\n",
    "      # print(max_col[p], len(resultant), len(replacefrm))\n",
    "      for i in range(max_col[p]):\n",
    "        # j, k = 1, 1\n",
    "        # res, rep = resultant[(R1, i)],  replacefrm[(R2, i)]\n",
    "        j, k = 0, 0\n",
    "        res, rep = None, None\n",
    "        while res == None:\n",
    "          # print(\"j:\", j,\"R1:\", R1, all_poins[(R1 - j, i)])\n",
    "          # print(all_poins[(R1 - j, i)])\n",
    "          res= all_poins[(R1 - j, i)]\n",
    "          j = j+1\n",
    "          if(R1-j<0):\n",
    "            res= False\n",
    "        while rep == None:\n",
    "          # print(\"k:\", k,\"R2:\", R2, all_poins[(R2 + k, i)])\n",
    "          rep = all_poins[(R2 + k, i)]\n",
    "          k = k+1\n",
    "          # if(R1+k>R1):\n",
    "          try:\n",
    "            all_poins[(R2 + k, i)]\n",
    "          except:  \n",
    "            rep= False\n",
    "        if(rep == False and res == False):\n",
    "          print(\"!!!!!!!!!!!!!!!!!!!!works!!!!!!!!!!!!!!!!!!!!!\")\n",
    "        if(rep != False and res != False):\n",
    "          res[0] = rep[0]\n",
    "          res[3] = rep[3]\n",
    "          res[0], res[1], res[2], res[3] = list(res[0]), list(res[1]), list(res[2]), list(res[3])\n",
    "          res[0][0] += 20\n",
    "          res[1][0] += 20\n",
    "          res[2][0] -= 20\n",
    "          res[3][0] -= 20\n",
    "          res[0], res[1], res[2], res[3] = tuple(res[0]), tuple(res[1]), tuple(res[2]), tuple(res[3])\n",
    "          temp_ret.append(res)\n",
    "        # else:\n",
    "        #   #REDUCE MAX_COL[P] BY 1\n",
    "      #if:\n",
    "      # max_col[p] = max_col[p]-1\n",
    "      # print(\"temp_ret:\" , temp_ret)\n",
    "      ret.append(temp_ret)\n",
    "    return ret"
   ]
  },
  {
   "cell_type": "markdown",
   "metadata": {},
   "source": [
    "# Mask Generation"
   ]
  },
  {
   "cell_type": "code",
   "execution_count": 12,
   "metadata": {},
   "outputs": [],
   "source": [
    "from PIL import Image, ImageDraw\n",
    "\n",
    "def get_image_dimensions(image_path):\n",
    "    with Image.open(image_path) as img:\n",
    "        width, height = img.size\n",
    "        return width, height"
   ]
  },
  {
   "cell_type": "markdown",
   "metadata": {},
   "source": [
    "# EDA"
   ]
  },
  {
   "cell_type": "markdown",
   "metadata": {},
   "source": [
    "## Marmot Dataset"
   ]
  },
  {
   "cell_type": "markdown",
   "metadata": {},
   "source": [
    "We will be using data in terms of\n",
    "\n",
    "- Positive Samples : Images with table in them\n",
    "- Negative Samples : Images with no table in them"
   ]
  },
  {
   "cell_type": "code",
   "execution_count": 13,
   "metadata": {},
   "outputs": [],
   "source": [
    "xmls = glob.glob('./ICDAR/ICDAR2019_cTDaR/training/TRACKB1/ground_truth' + '/*.xml')\n",
    "jpgs = glob.glob('./ICDAR/ICDAR2019_cTDaR/training/TRACKB1/ground_truth' + '/*.jpg')"
   ]
  },
  {
   "cell_type": "code",
   "execution_count": 14,
   "metadata": {},
   "outputs": [
    {
     "data": {
      "text/plain": [
       "['./ICDAR/ICDAR2019_cTDaR/training/TRACKB1/ground_truth\\\\cTDaR_t00000.xml',\n",
       " './ICDAR/ICDAR2019_cTDaR/training/TRACKB1/ground_truth\\\\cTDaR_t00001.xml',\n",
       " './ICDAR/ICDAR2019_cTDaR/training/TRACKB1/ground_truth\\\\cTDaR_t00002.xml',\n",
       " './ICDAR/ICDAR2019_cTDaR/training/TRACKB1/ground_truth\\\\cTDaR_t00003.xml',\n",
       " './ICDAR/ICDAR2019_cTDaR/training/TRACKB1/ground_truth\\\\cTDaR_t00004.xml',\n",
       " './ICDAR/ICDAR2019_cTDaR/training/TRACKB1/ground_truth\\\\cTDaR_t00005.xml',\n",
       " './ICDAR/ICDAR2019_cTDaR/training/TRACKB1/ground_truth\\\\cTDaR_t00006.xml',\n",
       " './ICDAR/ICDAR2019_cTDaR/training/TRACKB1/ground_truth\\\\cTDaR_t00007.xml',\n",
       " './ICDAR/ICDAR2019_cTDaR/training/TRACKB1/ground_truth\\\\cTDaR_t00008.xml',\n",
       " './ICDAR/ICDAR2019_cTDaR/training/TRACKB1/ground_truth\\\\cTDaR_t00009.xml',\n",
       " './ICDAR/ICDAR2019_cTDaR/training/TRACKB1/ground_truth\\\\cTDaR_t00010.xml',\n",
       " './ICDAR/ICDAR2019_cTDaR/training/TRACKB1/ground_truth\\\\cTDaR_t00018.xml',\n",
       " './ICDAR/ICDAR2019_cTDaR/training/TRACKB1/ground_truth\\\\cTDaR_t00019.xml',\n",
       " './ICDAR/ICDAR2019_cTDaR/training/TRACKB1/ground_truth\\\\cTDaR_t00020.xml',\n",
       " './ICDAR/ICDAR2019_cTDaR/training/TRACKB1/ground_truth\\\\cTDaR_t00021.xml',\n",
       " './ICDAR/ICDAR2019_cTDaR/training/TRACKB1/ground_truth\\\\cTDaR_t00022.xml',\n",
       " './ICDAR/ICDAR2019_cTDaR/training/TRACKB1/ground_truth\\\\cTDaR_t00023.xml',\n",
       " './ICDAR/ICDAR2019_cTDaR/training/TRACKB1/ground_truth\\\\cTDaR_t00024.xml',\n",
       " './ICDAR/ICDAR2019_cTDaR/training/TRACKB1/ground_truth\\\\cTDaR_t00025.xml',\n",
       " './ICDAR/ICDAR2019_cTDaR/training/TRACKB1/ground_truth\\\\cTDaR_t00026.xml',\n",
       " './ICDAR/ICDAR2019_cTDaR/training/TRACKB1/ground_truth\\\\cTDaR_t00027.xml',\n",
       " './ICDAR/ICDAR2019_cTDaR/training/TRACKB1/ground_truth\\\\cTDaR_t00028.xml',\n",
       " './ICDAR/ICDAR2019_cTDaR/training/TRACKB1/ground_truth\\\\cTDaR_t00029.xml',\n",
       " './ICDAR/ICDAR2019_cTDaR/training/TRACKB1/ground_truth\\\\cTDaR_t00030.xml',\n",
       " './ICDAR/ICDAR2019_cTDaR/training/TRACKB1/ground_truth\\\\cTDaR_t00031.xml',\n",
       " './ICDAR/ICDAR2019_cTDaR/training/TRACKB1/ground_truth\\\\cTDaR_t00032.xml',\n",
       " './ICDAR/ICDAR2019_cTDaR/training/TRACKB1/ground_truth\\\\cTDaR_t00033.xml',\n",
       " './ICDAR/ICDAR2019_cTDaR/training/TRACKB1/ground_truth\\\\cTDaR_t00034.xml',\n",
       " './ICDAR/ICDAR2019_cTDaR/training/TRACKB1/ground_truth\\\\cTDaR_t00035.xml',\n",
       " './ICDAR/ICDAR2019_cTDaR/training/TRACKB1/ground_truth\\\\cTDaR_t00036.xml',\n",
       " './ICDAR/ICDAR2019_cTDaR/training/TRACKB1/ground_truth\\\\cTDaR_t00037.xml',\n",
       " './ICDAR/ICDAR2019_cTDaR/training/TRACKB1/ground_truth\\\\cTDaR_t00038.xml',\n",
       " './ICDAR/ICDAR2019_cTDaR/training/TRACKB1/ground_truth\\\\cTDaR_t00039.xml',\n",
       " './ICDAR/ICDAR2019_cTDaR/training/TRACKB1/ground_truth\\\\cTDaR_t00040.xml',\n",
       " './ICDAR/ICDAR2019_cTDaR/training/TRACKB1/ground_truth\\\\cTDaR_t00041.xml',\n",
       " './ICDAR/ICDAR2019_cTDaR/training/TRACKB1/ground_truth\\\\cTDaR_t00042.xml',\n",
       " './ICDAR/ICDAR2019_cTDaR/training/TRACKB1/ground_truth\\\\cTDaR_t00043.xml',\n",
       " './ICDAR/ICDAR2019_cTDaR/training/TRACKB1/ground_truth\\\\cTDaR_t00044.xml',\n",
       " './ICDAR/ICDAR2019_cTDaR/training/TRACKB1/ground_truth\\\\cTDaR_t00045.xml',\n",
       " './ICDAR/ICDAR2019_cTDaR/training/TRACKB1/ground_truth\\\\cTDaR_t00046.xml',\n",
       " './ICDAR/ICDAR2019_cTDaR/training/TRACKB1/ground_truth\\\\cTDaR_t00047.xml',\n",
       " './ICDAR/ICDAR2019_cTDaR/training/TRACKB1/ground_truth\\\\cTDaR_t00048.xml',\n",
       " './ICDAR/ICDAR2019_cTDaR/training/TRACKB1/ground_truth\\\\cTDaR_t00049.xml',\n",
       " './ICDAR/ICDAR2019_cTDaR/training/TRACKB1/ground_truth\\\\cTDaR_t00050.xml',\n",
       " './ICDAR/ICDAR2019_cTDaR/training/TRACKB1/ground_truth\\\\cTDaR_t00051.xml',\n",
       " './ICDAR/ICDAR2019_cTDaR/training/TRACKB1/ground_truth\\\\cTDaR_t00052.xml',\n",
       " './ICDAR/ICDAR2019_cTDaR/training/TRACKB1/ground_truth\\\\cTDaR_t00053.xml',\n",
       " './ICDAR/ICDAR2019_cTDaR/training/TRACKB1/ground_truth\\\\cTDaR_t00054.xml',\n",
       " './ICDAR/ICDAR2019_cTDaR/training/TRACKB1/ground_truth\\\\cTDaR_t00055.xml',\n",
       " './ICDAR/ICDAR2019_cTDaR/training/TRACKB1/ground_truth\\\\cTDaR_t00056.xml',\n",
       " './ICDAR/ICDAR2019_cTDaR/training/TRACKB1/ground_truth\\\\cTDaR_t00057.xml',\n",
       " './ICDAR/ICDAR2019_cTDaR/training/TRACKB1/ground_truth\\\\cTDaR_t00058.xml',\n",
       " './ICDAR/ICDAR2019_cTDaR/training/TRACKB1/ground_truth\\\\cTDaR_t00059.xml',\n",
       " './ICDAR/ICDAR2019_cTDaR/training/TRACKB1/ground_truth\\\\cTDaR_t00060.xml',\n",
       " './ICDAR/ICDAR2019_cTDaR/training/TRACKB1/ground_truth\\\\cTDaR_t00061.xml',\n",
       " './ICDAR/ICDAR2019_cTDaR/training/TRACKB1/ground_truth\\\\cTDaR_t00062.xml',\n",
       " './ICDAR/ICDAR2019_cTDaR/training/TRACKB1/ground_truth\\\\cTDaR_t00063.xml',\n",
       " './ICDAR/ICDAR2019_cTDaR/training/TRACKB1/ground_truth\\\\cTDaR_t00064.xml',\n",
       " './ICDAR/ICDAR2019_cTDaR/training/TRACKB1/ground_truth\\\\cTDaR_t00065.xml',\n",
       " './ICDAR/ICDAR2019_cTDaR/training/TRACKB1/ground_truth\\\\cTDaR_t00066.xml',\n",
       " './ICDAR/ICDAR2019_cTDaR/training/TRACKB1/ground_truth\\\\cTDaR_t00067.xml',\n",
       " './ICDAR/ICDAR2019_cTDaR/training/TRACKB1/ground_truth\\\\cTDaR_t00068.xml',\n",
       " './ICDAR/ICDAR2019_cTDaR/training/TRACKB1/ground_truth\\\\cTDaR_t00069.xml',\n",
       " './ICDAR/ICDAR2019_cTDaR/training/TRACKB1/ground_truth\\\\cTDaR_t00070.xml',\n",
       " './ICDAR/ICDAR2019_cTDaR/training/TRACKB1/ground_truth\\\\cTDaR_t00091.xml',\n",
       " './ICDAR/ICDAR2019_cTDaR/training/TRACKB1/ground_truth\\\\cTDaR_t00092.xml',\n",
       " './ICDAR/ICDAR2019_cTDaR/training/TRACKB1/ground_truth\\\\cTDaR_t00093.xml',\n",
       " './ICDAR/ICDAR2019_cTDaR/training/TRACKB1/ground_truth\\\\cTDaR_t00094.xml',\n",
       " './ICDAR/ICDAR2019_cTDaR/training/TRACKB1/ground_truth\\\\cTDaR_t00095.xml',\n",
       " './ICDAR/ICDAR2019_cTDaR/training/TRACKB1/ground_truth\\\\cTDaR_t00096.xml',\n",
       " './ICDAR/ICDAR2019_cTDaR/training/TRACKB1/ground_truth\\\\cTDaR_t00097.xml',\n",
       " './ICDAR/ICDAR2019_cTDaR/training/TRACKB1/ground_truth\\\\cTDaR_t00098.xml',\n",
       " './ICDAR/ICDAR2019_cTDaR/training/TRACKB1/ground_truth\\\\cTDaR_t00099.xml',\n",
       " './ICDAR/ICDAR2019_cTDaR/training/TRACKB1/ground_truth\\\\cTDaR_t00100.xml',\n",
       " './ICDAR/ICDAR2019_cTDaR/training/TRACKB1/ground_truth\\\\cTDaR_t00101.xml',\n",
       " './ICDAR/ICDAR2019_cTDaR/training/TRACKB1/ground_truth\\\\cTDaR_t00116.xml',\n",
       " './ICDAR/ICDAR2019_cTDaR/training/TRACKB1/ground_truth\\\\cTDaR_t00117.xml',\n",
       " './ICDAR/ICDAR2019_cTDaR/training/TRACKB1/ground_truth\\\\cTDaR_t00118.xml',\n",
       " './ICDAR/ICDAR2019_cTDaR/training/TRACKB1/ground_truth\\\\cTDaR_t00119.xml',\n",
       " './ICDAR/ICDAR2019_cTDaR/training/TRACKB1/ground_truth\\\\cTDaR_t00120.xml',\n",
       " './ICDAR/ICDAR2019_cTDaR/training/TRACKB1/ground_truth\\\\cTDaR_t00121.xml',\n",
       " './ICDAR/ICDAR2019_cTDaR/training/TRACKB1/ground_truth\\\\cTDaR_t00122.xml',\n",
       " './ICDAR/ICDAR2019_cTDaR/training/TRACKB1/ground_truth\\\\cTDaR_t00125.xml',\n",
       " './ICDAR/ICDAR2019_cTDaR/training/TRACKB1/ground_truth\\\\cTDaR_t00126.xml',\n",
       " './ICDAR/ICDAR2019_cTDaR/training/TRACKB1/ground_truth\\\\cTDaR_t00127.xml',\n",
       " './ICDAR/ICDAR2019_cTDaR/training/TRACKB1/ground_truth\\\\cTDaR_t00128.xml',\n",
       " './ICDAR/ICDAR2019_cTDaR/training/TRACKB1/ground_truth\\\\cTDaR_t00129.xml',\n",
       " './ICDAR/ICDAR2019_cTDaR/training/TRACKB1/ground_truth\\\\cTDaR_t00130.xml',\n",
       " './ICDAR/ICDAR2019_cTDaR/training/TRACKB1/ground_truth\\\\cTDaR_t00131.xml',\n",
       " './ICDAR/ICDAR2019_cTDaR/training/TRACKB1/ground_truth\\\\cTDaR_t00132.xml',\n",
       " './ICDAR/ICDAR2019_cTDaR/training/TRACKB1/ground_truth\\\\cTDaR_t00133.xml',\n",
       " './ICDAR/ICDAR2019_cTDaR/training/TRACKB1/ground_truth\\\\cTDaR_t00134.xml',\n",
       " './ICDAR/ICDAR2019_cTDaR/training/TRACKB1/ground_truth\\\\cTDaR_t00135.xml',\n",
       " './ICDAR/ICDAR2019_cTDaR/training/TRACKB1/ground_truth\\\\cTDaR_t00136.xml',\n",
       " './ICDAR/ICDAR2019_cTDaR/training/TRACKB1/ground_truth\\\\cTDaR_t00137.xml',\n",
       " './ICDAR/ICDAR2019_cTDaR/training/TRACKB1/ground_truth\\\\cTDaR_t00138.xml',\n",
       " './ICDAR/ICDAR2019_cTDaR/training/TRACKB1/ground_truth\\\\cTDaR_t00139.xml',\n",
       " './ICDAR/ICDAR2019_cTDaR/training/TRACKB1/ground_truth\\\\cTDaR_t00140.xml',\n",
       " './ICDAR/ICDAR2019_cTDaR/training/TRACKB1/ground_truth\\\\cTDaR_t00141.xml',\n",
       " './ICDAR/ICDAR2019_cTDaR/training/TRACKB1/ground_truth\\\\cTDaR_t00142.xml',\n",
       " './ICDAR/ICDAR2019_cTDaR/training/TRACKB1/ground_truth\\\\cTDaR_t00143.xml',\n",
       " './ICDAR/ICDAR2019_cTDaR/training/TRACKB1/ground_truth\\\\cTDaR_t00144.xml',\n",
       " './ICDAR/ICDAR2019_cTDaR/training/TRACKB1/ground_truth\\\\cTDaR_t00145.xml',\n",
       " './ICDAR/ICDAR2019_cTDaR/training/TRACKB1/ground_truth\\\\cTDaR_t00167.xml',\n",
       " './ICDAR/ICDAR2019_cTDaR/training/TRACKB1/ground_truth\\\\cTDaR_t00168.xml',\n",
       " './ICDAR/ICDAR2019_cTDaR/training/TRACKB1/ground_truth\\\\cTDaR_t00169.xml',\n",
       " './ICDAR/ICDAR2019_cTDaR/training/TRACKB1/ground_truth\\\\cTDaR_t00170.xml',\n",
       " './ICDAR/ICDAR2019_cTDaR/training/TRACKB1/ground_truth\\\\cTDaR_t00171.xml',\n",
       " './ICDAR/ICDAR2019_cTDaR/training/TRACKB1/ground_truth\\\\cTDaR_t00172.xml',\n",
       " './ICDAR/ICDAR2019_cTDaR/training/TRACKB1/ground_truth\\\\cTDaR_t00173.xml',\n",
       " './ICDAR/ICDAR2019_cTDaR/training/TRACKB1/ground_truth\\\\cTDaR_t00174.xml',\n",
       " './ICDAR/ICDAR2019_cTDaR/training/TRACKB1/ground_truth\\\\cTDaR_t00177.xml',\n",
       " './ICDAR/ICDAR2019_cTDaR/training/TRACKB1/ground_truth\\\\cTDaR_t00178.xml',\n",
       " './ICDAR/ICDAR2019_cTDaR/training/TRACKB1/ground_truth\\\\cTDaR_t00179.xml',\n",
       " './ICDAR/ICDAR2019_cTDaR/training/TRACKB1/ground_truth\\\\cTDaR_t00180.xml',\n",
       " './ICDAR/ICDAR2019_cTDaR/training/TRACKB1/ground_truth\\\\cTDaR_t00181.xml',\n",
       " './ICDAR/ICDAR2019_cTDaR/training/TRACKB1/ground_truth\\\\cTDaR_t00182.xml',\n",
       " './ICDAR/ICDAR2019_cTDaR/training/TRACKB1/ground_truth\\\\cTDaR_t00183.xml',\n",
       " './ICDAR/ICDAR2019_cTDaR/training/TRACKB1/ground_truth\\\\cTDaR_t00184.xml',\n",
       " './ICDAR/ICDAR2019_cTDaR/training/TRACKB1/ground_truth\\\\cTDaR_t00185.xml',\n",
       " './ICDAR/ICDAR2019_cTDaR/training/TRACKB1/ground_truth\\\\cTDaR_t00186.xml',\n",
       " './ICDAR/ICDAR2019_cTDaR/training/TRACKB1/ground_truth\\\\cTDaR_t00187.xml',\n",
       " './ICDAR/ICDAR2019_cTDaR/training/TRACKB1/ground_truth\\\\cTDaR_t00188.xml',\n",
       " './ICDAR/ICDAR2019_cTDaR/training/TRACKB1/ground_truth\\\\cTDaR_t00189.xml',\n",
       " './ICDAR/ICDAR2019_cTDaR/training/TRACKB1/ground_truth\\\\cTDaR_t00190.xml',\n",
       " './ICDAR/ICDAR2019_cTDaR/training/TRACKB1/ground_truth\\\\cTDaR_t00191.xml',\n",
       " './ICDAR/ICDAR2019_cTDaR/training/TRACKB1/ground_truth\\\\cTDaR_t00192.xml',\n",
       " './ICDAR/ICDAR2019_cTDaR/training/TRACKB1/ground_truth\\\\cTDaR_t00198.xml',\n",
       " './ICDAR/ICDAR2019_cTDaR/training/TRACKB1/ground_truth\\\\cTDaR_t00199.xml',\n",
       " './ICDAR/ICDAR2019_cTDaR/training/TRACKB1/ground_truth\\\\cTDaR_t00200.xml',\n",
       " './ICDAR/ICDAR2019_cTDaR/training/TRACKB1/ground_truth\\\\cTDaR_t00201.xml',\n",
       " './ICDAR/ICDAR2019_cTDaR/training/TRACKB1/ground_truth\\\\cTDaR_t00202.xml',\n",
       " './ICDAR/ICDAR2019_cTDaR/training/TRACKB1/ground_truth\\\\cTDaR_t00203.xml',\n",
       " './ICDAR/ICDAR2019_cTDaR/training/TRACKB1/ground_truth\\\\cTDaR_t00204.xml',\n",
       " './ICDAR/ICDAR2019_cTDaR/training/TRACKB1/ground_truth\\\\cTDaR_t00205.xml',\n",
       " './ICDAR/ICDAR2019_cTDaR/training/TRACKB1/ground_truth\\\\cTDaR_t00206.xml',\n",
       " './ICDAR/ICDAR2019_cTDaR/training/TRACKB1/ground_truth\\\\cTDaR_t00207.xml',\n",
       " './ICDAR/ICDAR2019_cTDaR/training/TRACKB1/ground_truth\\\\cTDaR_t00208.xml',\n",
       " './ICDAR/ICDAR2019_cTDaR/training/TRACKB1/ground_truth\\\\cTDaR_t00209.xml',\n",
       " './ICDAR/ICDAR2019_cTDaR/training/TRACKB1/ground_truth\\\\cTDaR_t00228.xml',\n",
       " './ICDAR/ICDAR2019_cTDaR/training/TRACKB1/ground_truth\\\\cTDaR_t00229.xml',\n",
       " './ICDAR/ICDAR2019_cTDaR/training/TRACKB1/ground_truth\\\\cTDaR_t00230.xml',\n",
       " './ICDAR/ICDAR2019_cTDaR/training/TRACKB1/ground_truth\\\\cTDaR_t00231.xml',\n",
       " './ICDAR/ICDAR2019_cTDaR/training/TRACKB1/ground_truth\\\\cTDaR_t00232.xml',\n",
       " './ICDAR/ICDAR2019_cTDaR/training/TRACKB1/ground_truth\\\\cTDaR_t00233.xml',\n",
       " './ICDAR/ICDAR2019_cTDaR/training/TRACKB1/ground_truth\\\\cTDaR_t00234.xml',\n",
       " './ICDAR/ICDAR2019_cTDaR/training/TRACKB1/ground_truth\\\\cTDaR_t00235.xml',\n",
       " './ICDAR/ICDAR2019_cTDaR/training/TRACKB1/ground_truth\\\\cTDaR_t00236.xml',\n",
       " './ICDAR/ICDAR2019_cTDaR/training/TRACKB1/ground_truth\\\\cTDaR_t00237.xml',\n",
       " './ICDAR/ICDAR2019_cTDaR/training/TRACKB1/ground_truth\\\\cTDaR_t00238.xml',\n",
       " './ICDAR/ICDAR2019_cTDaR/training/TRACKB1/ground_truth\\\\cTDaR_t00239.xml',\n",
       " './ICDAR/ICDAR2019_cTDaR/training/TRACKB1/ground_truth\\\\cTDaR_t00240.xml',\n",
       " './ICDAR/ICDAR2019_cTDaR/training/TRACKB1/ground_truth\\\\cTDaR_t00241.xml',\n",
       " './ICDAR/ICDAR2019_cTDaR/training/TRACKB1/ground_truth\\\\cTDaR_t00242.xml',\n",
       " './ICDAR/ICDAR2019_cTDaR/training/TRACKB1/ground_truth\\\\cTDaR_t00243.xml',\n",
       " './ICDAR/ICDAR2019_cTDaR/training/TRACKB1/ground_truth\\\\cTDaR_t00244.xml',\n",
       " './ICDAR/ICDAR2019_cTDaR/training/TRACKB1/ground_truth\\\\cTDaR_t00245.xml',\n",
       " './ICDAR/ICDAR2019_cTDaR/training/TRACKB1/ground_truth\\\\cTDaR_t00246.xml',\n",
       " './ICDAR/ICDAR2019_cTDaR/training/TRACKB1/ground_truth\\\\cTDaR_t00247.xml',\n",
       " './ICDAR/ICDAR2019_cTDaR/training/TRACKB1/ground_truth\\\\cTDaR_t00254.xml',\n",
       " './ICDAR/ICDAR2019_cTDaR/training/TRACKB1/ground_truth\\\\cTDaR_t00255.xml',\n",
       " './ICDAR/ICDAR2019_cTDaR/training/TRACKB1/ground_truth\\\\cTDaR_t00256.xml',\n",
       " './ICDAR/ICDAR2019_cTDaR/training/TRACKB1/ground_truth\\\\cTDaR_t00257.xml',\n",
       " './ICDAR/ICDAR2019_cTDaR/training/TRACKB1/ground_truth\\\\cTDaR_t00258.xml',\n",
       " './ICDAR/ICDAR2019_cTDaR/training/TRACKB1/ground_truth\\\\cTDaR_t00259.xml',\n",
       " './ICDAR/ICDAR2019_cTDaR/training/TRACKB1/ground_truth\\\\cTDaR_t00260.xml',\n",
       " './ICDAR/ICDAR2019_cTDaR/training/TRACKB1/ground_truth\\\\cTDaR_t00261.xml',\n",
       " './ICDAR/ICDAR2019_cTDaR/training/TRACKB1/ground_truth\\\\cTDaR_t00262.xml',\n",
       " './ICDAR/ICDAR2019_cTDaR/training/TRACKB1/ground_truth\\\\cTDaR_t00263.xml',\n",
       " './ICDAR/ICDAR2019_cTDaR/training/TRACKB1/ground_truth\\\\cTDaR_t00264.xml',\n",
       " './ICDAR/ICDAR2019_cTDaR/training/TRACKB1/ground_truth\\\\cTDaR_t00265.xml',\n",
       " './ICDAR/ICDAR2019_cTDaR/training/TRACKB1/ground_truth\\\\cTDaR_t00266.xml',\n",
       " './ICDAR/ICDAR2019_cTDaR/training/TRACKB1/ground_truth\\\\cTDaR_t00267.xml',\n",
       " './ICDAR/ICDAR2019_cTDaR/training/TRACKB1/ground_truth\\\\cTDaR_t00268.xml',\n",
       " './ICDAR/ICDAR2019_cTDaR/training/TRACKB1/ground_truth\\\\cTDaR_t00269.xml',\n",
       " './ICDAR/ICDAR2019_cTDaR/training/TRACKB1/ground_truth\\\\cTDaR_t00270.xml',\n",
       " './ICDAR/ICDAR2019_cTDaR/training/TRACKB1/ground_truth\\\\cTDaR_t00271.xml',\n",
       " './ICDAR/ICDAR2019_cTDaR/training/TRACKB1/ground_truth\\\\cTDaR_t00272.xml',\n",
       " './ICDAR/ICDAR2019_cTDaR/training/TRACKB1/ground_truth\\\\cTDaR_t00273.xml',\n",
       " './ICDAR/ICDAR2019_cTDaR/training/TRACKB1/ground_truth\\\\cTDaR_t00274.xml',\n",
       " './ICDAR/ICDAR2019_cTDaR/training/TRACKB1/ground_truth\\\\cTDaR_t00275.xml',\n",
       " './ICDAR/ICDAR2019_cTDaR/training/TRACKB1/ground_truth\\\\cTDaR_t00276.xml',\n",
       " './ICDAR/ICDAR2019_cTDaR/training/TRACKB1/ground_truth\\\\cTDaR_t00277.xml',\n",
       " './ICDAR/ICDAR2019_cTDaR/training/TRACKB1/ground_truth\\\\cTDaR_t00278.xml',\n",
       " './ICDAR/ICDAR2019_cTDaR/training/TRACKB1/ground_truth\\\\cTDaR_t00279.xml',\n",
       " './ICDAR/ICDAR2019_cTDaR/training/TRACKB1/ground_truth\\\\cTDaR_t00280.xml',\n",
       " './ICDAR/ICDAR2019_cTDaR/training/TRACKB1/ground_truth\\\\cTDaR_t00281.xml',\n",
       " './ICDAR/ICDAR2019_cTDaR/training/TRACKB1/ground_truth\\\\cTDaR_t00282.xml',\n",
       " './ICDAR/ICDAR2019_cTDaR/training/TRACKB1/ground_truth\\\\cTDaR_t00283.xml',\n",
       " './ICDAR/ICDAR2019_cTDaR/training/TRACKB1/ground_truth\\\\cTDaR_t00284.xml',\n",
       " './ICDAR/ICDAR2019_cTDaR/training/TRACKB1/ground_truth\\\\cTDaR_t00304.xml',\n",
       " './ICDAR/ICDAR2019_cTDaR/training/TRACKB1/ground_truth\\\\cTDaR_t00305.xml',\n",
       " './ICDAR/ICDAR2019_cTDaR/training/TRACKB1/ground_truth\\\\cTDaR_t00306.xml',\n",
       " './ICDAR/ICDAR2019_cTDaR/training/TRACKB1/ground_truth\\\\cTDaR_t00307.xml',\n",
       " './ICDAR/ICDAR2019_cTDaR/training/TRACKB1/ground_truth\\\\cTDaR_t00308.xml',\n",
       " './ICDAR/ICDAR2019_cTDaR/training/TRACKB1/ground_truth\\\\cTDaR_t00309.xml',\n",
       " './ICDAR/ICDAR2019_cTDaR/training/TRACKB1/ground_truth\\\\cTDaR_t00310.xml',\n",
       " './ICDAR/ICDAR2019_cTDaR/training/TRACKB1/ground_truth\\\\cTDaR_t00311.xml',\n",
       " './ICDAR/ICDAR2019_cTDaR/training/TRACKB1/ground_truth\\\\cTDaR_t00312.xml',\n",
       " './ICDAR/ICDAR2019_cTDaR/training/TRACKB1/ground_truth\\\\cTDaR_t00313.xml',\n",
       " './ICDAR/ICDAR2019_cTDaR/training/TRACKB1/ground_truth\\\\cTDaR_t00314.xml',\n",
       " './ICDAR/ICDAR2019_cTDaR/training/TRACKB1/ground_truth\\\\cTDaR_t00315.xml',\n",
       " './ICDAR/ICDAR2019_cTDaR/training/TRACKB1/ground_truth\\\\cTDaR_t00316.xml',\n",
       " './ICDAR/ICDAR2019_cTDaR/training/TRACKB1/ground_truth\\\\cTDaR_t00317.xml',\n",
       " './ICDAR/ICDAR2019_cTDaR/training/TRACKB1/ground_truth\\\\cTDaR_t00318.xml',\n",
       " './ICDAR/ICDAR2019_cTDaR/training/TRACKB1/ground_truth\\\\cTDaR_t00319.xml',\n",
       " './ICDAR/ICDAR2019_cTDaR/training/TRACKB1/ground_truth\\\\cTDaR_t00320.xml',\n",
       " './ICDAR/ICDAR2019_cTDaR/training/TRACKB1/ground_truth\\\\cTDaR_t00321.xml',\n",
       " './ICDAR/ICDAR2019_cTDaR/training/TRACKB1/ground_truth\\\\cTDaR_t00343.xml',\n",
       " './ICDAR/ICDAR2019_cTDaR/training/TRACKB1/ground_truth\\\\cTDaR_t00344.xml',\n",
       " './ICDAR/ICDAR2019_cTDaR/training/TRACKB1/ground_truth\\\\cTDaR_t00345.xml',\n",
       " './ICDAR/ICDAR2019_cTDaR/training/TRACKB1/ground_truth\\\\cTDaR_t00346.xml',\n",
       " './ICDAR/ICDAR2019_cTDaR/training/TRACKB1/ground_truth\\\\cTDaR_t00347.xml',\n",
       " './ICDAR/ICDAR2019_cTDaR/training/TRACKB1/ground_truth\\\\cTDaR_t00348.xml',\n",
       " './ICDAR/ICDAR2019_cTDaR/training/TRACKB1/ground_truth\\\\cTDaR_t00349.xml',\n",
       " './ICDAR/ICDAR2019_cTDaR/training/TRACKB1/ground_truth\\\\cTDaR_t00350.xml',\n",
       " './ICDAR/ICDAR2019_cTDaR/training/TRACKB1/ground_truth\\\\cTDaR_t00351.xml',\n",
       " './ICDAR/ICDAR2019_cTDaR/training/TRACKB1/ground_truth\\\\cTDaR_t00352.xml',\n",
       " './ICDAR/ICDAR2019_cTDaR/training/TRACKB1/ground_truth\\\\cTDaR_t00353.xml',\n",
       " './ICDAR/ICDAR2019_cTDaR/training/TRACKB1/ground_truth\\\\cTDaR_t00354.xml',\n",
       " './ICDAR/ICDAR2019_cTDaR/training/TRACKB1/ground_truth\\\\cTDaR_t00355.xml',\n",
       " './ICDAR/ICDAR2019_cTDaR/training/TRACKB1/ground_truth\\\\cTDaR_t00356.xml',\n",
       " './ICDAR/ICDAR2019_cTDaR/training/TRACKB1/ground_truth\\\\cTDaR_t00357.xml',\n",
       " './ICDAR/ICDAR2019_cTDaR/training/TRACKB1/ground_truth\\\\cTDaR_t00358.xml',\n",
       " './ICDAR/ICDAR2019_cTDaR/training/TRACKB1/ground_truth\\\\cTDaR_t00359.xml',\n",
       " './ICDAR/ICDAR2019_cTDaR/training/TRACKB1/ground_truth\\\\cTDaR_t00360.xml',\n",
       " './ICDAR/ICDAR2019_cTDaR/training/TRACKB1/ground_truth\\\\cTDaR_t00361.xml',\n",
       " './ICDAR/ICDAR2019_cTDaR/training/TRACKB1/ground_truth\\\\cTDaR_t00362.xml',\n",
       " './ICDAR/ICDAR2019_cTDaR/training/TRACKB1/ground_truth\\\\cTDaR_t00363.xml',\n",
       " './ICDAR/ICDAR2019_cTDaR/training/TRACKB1/ground_truth\\\\cTDaR_t00364.xml',\n",
       " './ICDAR/ICDAR2019_cTDaR/training/TRACKB1/ground_truth\\\\cTDaR_t00365.xml',\n",
       " './ICDAR/ICDAR2019_cTDaR/training/TRACKB1/ground_truth\\\\cTDaR_t00366.xml',\n",
       " './ICDAR/ICDAR2019_cTDaR/training/TRACKB1/ground_truth\\\\cTDaR_t00367.xml',\n",
       " './ICDAR/ICDAR2019_cTDaR/training/TRACKB1/ground_truth\\\\cTDaR_t00368.xml',\n",
       " './ICDAR/ICDAR2019_cTDaR/training/TRACKB1/ground_truth\\\\cTDaR_t00369.xml',\n",
       " './ICDAR/ICDAR2019_cTDaR/training/TRACKB1/ground_truth\\\\cTDaR_t00370.xml',\n",
       " './ICDAR/ICDAR2019_cTDaR/training/TRACKB1/ground_truth\\\\cTDaR_t00371.xml',\n",
       " './ICDAR/ICDAR2019_cTDaR/training/TRACKB1/ground_truth\\\\cTDaR_t00372.xml',\n",
       " './ICDAR/ICDAR2019_cTDaR/training/TRACKB1/ground_truth\\\\cTDaR_t00373.xml',\n",
       " './ICDAR/ICDAR2019_cTDaR/training/TRACKB1/ground_truth\\\\cTDaR_t00388.xml',\n",
       " './ICDAR/ICDAR2019_cTDaR/training/TRACKB1/ground_truth\\\\cTDaR_t00389.xml',\n",
       " './ICDAR/ICDAR2019_cTDaR/training/TRACKB1/ground_truth\\\\cTDaR_t00390.xml',\n",
       " './ICDAR/ICDAR2019_cTDaR/training/TRACKB1/ground_truth\\\\cTDaR_t00391.xml',\n",
       " './ICDAR/ICDAR2019_cTDaR/training/TRACKB1/ground_truth\\\\cTDaR_t00392.xml',\n",
       " './ICDAR/ICDAR2019_cTDaR/training/TRACKB1/ground_truth\\\\cTDaR_t00393.xml',\n",
       " './ICDAR/ICDAR2019_cTDaR/training/TRACKB1/ground_truth\\\\cTDaR_t00394.xml',\n",
       " './ICDAR/ICDAR2019_cTDaR/training/TRACKB1/ground_truth\\\\cTDaR_t00395.xml',\n",
       " './ICDAR/ICDAR2019_cTDaR/training/TRACKB1/ground_truth\\\\cTDaR_t00396.xml',\n",
       " './ICDAR/ICDAR2019_cTDaR/training/TRACKB1/ground_truth\\\\cTDaR_t00397.xml',\n",
       " './ICDAR/ICDAR2019_cTDaR/training/TRACKB1/ground_truth\\\\cTDaR_t00398.xml',\n",
       " './ICDAR/ICDAR2019_cTDaR/training/TRACKB1/ground_truth\\\\cTDaR_t00403.xml',\n",
       " './ICDAR/ICDAR2019_cTDaR/training/TRACKB1/ground_truth\\\\cTDaR_t00404.xml',\n",
       " './ICDAR/ICDAR2019_cTDaR/training/TRACKB1/ground_truth\\\\cTDaR_t00405.xml',\n",
       " './ICDAR/ICDAR2019_cTDaR/training/TRACKB1/ground_truth\\\\cTDaR_t00406.xml',\n",
       " './ICDAR/ICDAR2019_cTDaR/training/TRACKB1/ground_truth\\\\cTDaR_t00407.xml',\n",
       " './ICDAR/ICDAR2019_cTDaR/training/TRACKB1/ground_truth\\\\cTDaR_t00408.xml',\n",
       " './ICDAR/ICDAR2019_cTDaR/training/TRACKB1/ground_truth\\\\cTDaR_t00409.xml',\n",
       " './ICDAR/ICDAR2019_cTDaR/training/TRACKB1/ground_truth\\\\cTDaR_t00410.xml',\n",
       " './ICDAR/ICDAR2019_cTDaR/training/TRACKB1/ground_truth\\\\cTDaR_t00411.xml',\n",
       " './ICDAR/ICDAR2019_cTDaR/training/TRACKB1/ground_truth\\\\cTDaR_t00412.xml',\n",
       " './ICDAR/ICDAR2019_cTDaR/training/TRACKB1/ground_truth\\\\cTDaR_t00413.xml',\n",
       " './ICDAR/ICDAR2019_cTDaR/training/TRACKB1/ground_truth\\\\cTDaR_t00414.xml',\n",
       " './ICDAR/ICDAR2019_cTDaR/training/TRACKB1/ground_truth\\\\cTDaR_t00415.xml',\n",
       " './ICDAR/ICDAR2019_cTDaR/training/TRACKB1/ground_truth\\\\cTDaR_t00416.xml',\n",
       " './ICDAR/ICDAR2019_cTDaR/training/TRACKB1/ground_truth\\\\cTDaR_t00417.xml',\n",
       " './ICDAR/ICDAR2019_cTDaR/training/TRACKB1/ground_truth\\\\cTDaR_t00418.xml',\n",
       " './ICDAR/ICDAR2019_cTDaR/training/TRACKB1/ground_truth\\\\cTDaR_t00419.xml',\n",
       " './ICDAR/ICDAR2019_cTDaR/training/TRACKB1/ground_truth\\\\cTDaR_t00420.xml',\n",
       " './ICDAR/ICDAR2019_cTDaR/training/TRACKB1/ground_truth\\\\cTDaR_t00421.xml',\n",
       " './ICDAR/ICDAR2019_cTDaR/training/TRACKB1/ground_truth\\\\cTDaR_t00422.xml',\n",
       " './ICDAR/ICDAR2019_cTDaR/training/TRACKB1/ground_truth\\\\cTDaR_t00423.xml',\n",
       " './ICDAR/ICDAR2019_cTDaR/training/TRACKB1/ground_truth\\\\cTDaR_t00424.xml',\n",
       " './ICDAR/ICDAR2019_cTDaR/training/TRACKB1/ground_truth\\\\cTDaR_t00425.xml',\n",
       " './ICDAR/ICDAR2019_cTDaR/training/TRACKB1/ground_truth\\\\cTDaR_t00426.xml',\n",
       " './ICDAR/ICDAR2019_cTDaR/training/TRACKB1/ground_truth\\\\cTDaR_t00427.xml',\n",
       " './ICDAR/ICDAR2019_cTDaR/training/TRACKB1/ground_truth\\\\cTDaR_t00428.xml',\n",
       " './ICDAR/ICDAR2019_cTDaR/training/TRACKB1/ground_truth\\\\cTDaR_t00429.xml',\n",
       " './ICDAR/ICDAR2019_cTDaR/training/TRACKB1/ground_truth\\\\cTDaR_t00430.xml',\n",
       " './ICDAR/ICDAR2019_cTDaR/training/TRACKB1/ground_truth\\\\cTDaR_t00431.xml',\n",
       " './ICDAR/ICDAR2019_cTDaR/training/TRACKB1/ground_truth\\\\cTDaR_t00432.xml',\n",
       " './ICDAR/ICDAR2019_cTDaR/training/TRACKB1/ground_truth\\\\cTDaR_t00433.xml',\n",
       " './ICDAR/ICDAR2019_cTDaR/training/TRACKB1/ground_truth\\\\cTDaR_t00434.xml',\n",
       " './ICDAR/ICDAR2019_cTDaR/training/TRACKB1/ground_truth\\\\cTDaR_t00435.xml',\n",
       " './ICDAR/ICDAR2019_cTDaR/training/TRACKB1/ground_truth\\\\cTDaR_t00436.xml',\n",
       " './ICDAR/ICDAR2019_cTDaR/training/TRACKB1/ground_truth\\\\cTDaR_t00437.xml',\n",
       " './ICDAR/ICDAR2019_cTDaR/training/TRACKB1/ground_truth\\\\cTDaR_t00438.xml',\n",
       " './ICDAR/ICDAR2019_cTDaR/training/TRACKB1/ground_truth\\\\cTDaR_t00439.xml',\n",
       " './ICDAR/ICDAR2019_cTDaR/training/TRACKB1/ground_truth\\\\cTDaR_t00440.xml',\n",
       " './ICDAR/ICDAR2019_cTDaR/training/TRACKB1/ground_truth\\\\cTDaR_t00441.xml',\n",
       " './ICDAR/ICDAR2019_cTDaR/training/TRACKB1/ground_truth\\\\cTDaR_t00442.xml',\n",
       " './ICDAR/ICDAR2019_cTDaR/training/TRACKB1/ground_truth\\\\cTDaR_t00443.xml',\n",
       " './ICDAR/ICDAR2019_cTDaR/training/TRACKB1/ground_truth\\\\cTDaR_t00448.xml',\n",
       " './ICDAR/ICDAR2019_cTDaR/training/TRACKB1/ground_truth\\\\cTDaR_t00449.xml',\n",
       " './ICDAR/ICDAR2019_cTDaR/training/TRACKB1/ground_truth\\\\cTDaR_t00450.xml',\n",
       " './ICDAR/ICDAR2019_cTDaR/training/TRACKB1/ground_truth\\\\cTDaR_t00451.xml',\n",
       " './ICDAR/ICDAR2019_cTDaR/training/TRACKB1/ground_truth\\\\cTDaR_t00452.xml',\n",
       " './ICDAR/ICDAR2019_cTDaR/training/TRACKB1/ground_truth\\\\cTDaR_t00453.xml',\n",
       " './ICDAR/ICDAR2019_cTDaR/training/TRACKB1/ground_truth\\\\cTDaR_t00454.xml',\n",
       " './ICDAR/ICDAR2019_cTDaR/training/TRACKB1/ground_truth\\\\cTDaR_t00455.xml',\n",
       " './ICDAR/ICDAR2019_cTDaR/training/TRACKB1/ground_truth\\\\cTDaR_t00456.xml',\n",
       " './ICDAR/ICDAR2019_cTDaR/training/TRACKB1/ground_truth\\\\cTDaR_t00457.xml',\n",
       " './ICDAR/ICDAR2019_cTDaR/training/TRACKB1/ground_truth\\\\cTDaR_t00458.xml',\n",
       " './ICDAR/ICDAR2019_cTDaR/training/TRACKB1/ground_truth\\\\cTDaR_t00459.xml',\n",
       " './ICDAR/ICDAR2019_cTDaR/training/TRACKB1/ground_truth\\\\cTDaR_t00460.xml',\n",
       " './ICDAR/ICDAR2019_cTDaR/training/TRACKB1/ground_truth\\\\cTDaR_t00461.xml',\n",
       " './ICDAR/ICDAR2019_cTDaR/training/TRACKB1/ground_truth\\\\cTDaR_t00462.xml',\n",
       " './ICDAR/ICDAR2019_cTDaR/training/TRACKB1/ground_truth\\\\cTDaR_t00463.xml',\n",
       " './ICDAR/ICDAR2019_cTDaR/training/TRACKB1/ground_truth\\\\cTDaR_t00464.xml',\n",
       " './ICDAR/ICDAR2019_cTDaR/training/TRACKB1/ground_truth\\\\cTDaR_t00465.xml',\n",
       " './ICDAR/ICDAR2019_cTDaR/training/TRACKB1/ground_truth\\\\cTDaR_t00466.xml',\n",
       " './ICDAR/ICDAR2019_cTDaR/training/TRACKB1/ground_truth\\\\cTDaR_t00467.xml',\n",
       " './ICDAR/ICDAR2019_cTDaR/training/TRACKB1/ground_truth\\\\cTDaR_t00468.xml',\n",
       " './ICDAR/ICDAR2019_cTDaR/training/TRACKB1/ground_truth\\\\cTDaR_t00469.xml',\n",
       " './ICDAR/ICDAR2019_cTDaR/training/TRACKB1/ground_truth\\\\cTDaR_t00470.xml',\n",
       " './ICDAR/ICDAR2019_cTDaR/training/TRACKB1/ground_truth\\\\cTDaR_t00471.xml',\n",
       " './ICDAR/ICDAR2019_cTDaR/training/TRACKB1/ground_truth\\\\cTDaR_t00472.xml',\n",
       " './ICDAR/ICDAR2019_cTDaR/training/TRACKB1/ground_truth\\\\cTDaR_t00473.xml',\n",
       " './ICDAR/ICDAR2019_cTDaR/training/TRACKB1/ground_truth\\\\cTDaR_t00474.xml',\n",
       " './ICDAR/ICDAR2019_cTDaR/training/TRACKB1/ground_truth\\\\cTDaR_t00475.xml',\n",
       " './ICDAR/ICDAR2019_cTDaR/training/TRACKB1/ground_truth\\\\cTDaR_t00476.xml',\n",
       " './ICDAR/ICDAR2019_cTDaR/training/TRACKB1/ground_truth\\\\cTDaR_t00501.xml',\n",
       " './ICDAR/ICDAR2019_cTDaR/training/TRACKB1/ground_truth\\\\cTDaR_t00502.xml',\n",
       " './ICDAR/ICDAR2019_cTDaR/training/TRACKB1/ground_truth\\\\cTDaR_t00503.xml',\n",
       " './ICDAR/ICDAR2019_cTDaR/training/TRACKB1/ground_truth\\\\cTDaR_t00504.xml',\n",
       " './ICDAR/ICDAR2019_cTDaR/training/TRACKB1/ground_truth\\\\cTDaR_t00505.xml',\n",
       " './ICDAR/ICDAR2019_cTDaR/training/TRACKB1/ground_truth\\\\cTDaR_t00506.xml',\n",
       " './ICDAR/ICDAR2019_cTDaR/training/TRACKB1/ground_truth\\\\cTDaR_t00507.xml',\n",
       " './ICDAR/ICDAR2019_cTDaR/training/TRACKB1/ground_truth\\\\cTDaR_t00508.xml',\n",
       " './ICDAR/ICDAR2019_cTDaR/training/TRACKB1/ground_truth\\\\cTDaR_t00509.xml',\n",
       " './ICDAR/ICDAR2019_cTDaR/training/TRACKB1/ground_truth\\\\cTDaR_t00510.xml',\n",
       " './ICDAR/ICDAR2019_cTDaR/training/TRACKB1/ground_truth\\\\cTDaR_t00511.xml',\n",
       " './ICDAR/ICDAR2019_cTDaR/training/TRACKB1/ground_truth\\\\cTDaR_t00512.xml',\n",
       " './ICDAR/ICDAR2019_cTDaR/training/TRACKB1/ground_truth\\\\cTDaR_t00513.xml',\n",
       " './ICDAR/ICDAR2019_cTDaR/training/TRACKB1/ground_truth\\\\cTDaR_t00514.xml',\n",
       " './ICDAR/ICDAR2019_cTDaR/training/TRACKB1/ground_truth\\\\cTDaR_t00515.xml',\n",
       " './ICDAR/ICDAR2019_cTDaR/training/TRACKB1/ground_truth\\\\cTDaR_t00516.xml',\n",
       " './ICDAR/ICDAR2019_cTDaR/training/TRACKB1/ground_truth\\\\cTDaR_t00517.xml',\n",
       " './ICDAR/ICDAR2019_cTDaR/training/TRACKB1/ground_truth\\\\cTDaR_t00518.xml',\n",
       " './ICDAR/ICDAR2019_cTDaR/training/TRACKB1/ground_truth\\\\cTDaR_t00519.xml',\n",
       " './ICDAR/ICDAR2019_cTDaR/training/TRACKB1/ground_truth\\\\cTDaR_t00520.xml',\n",
       " './ICDAR/ICDAR2019_cTDaR/training/TRACKB1/ground_truth\\\\cTDaR_t00521.xml',\n",
       " './ICDAR/ICDAR2019_cTDaR/training/TRACKB1/ground_truth\\\\cTDaR_t00522.xml',\n",
       " './ICDAR/ICDAR2019_cTDaR/training/TRACKB1/ground_truth\\\\cTDaR_t00530.xml',\n",
       " './ICDAR/ICDAR2019_cTDaR/training/TRACKB1/ground_truth\\\\cTDaR_t00531.xml',\n",
       " './ICDAR/ICDAR2019_cTDaR/training/TRACKB1/ground_truth\\\\cTDaR_t00532.xml',\n",
       " './ICDAR/ICDAR2019_cTDaR/training/TRACKB1/ground_truth\\\\cTDaR_t00533.xml',\n",
       " './ICDAR/ICDAR2019_cTDaR/training/TRACKB1/ground_truth\\\\cTDaR_t00534.xml',\n",
       " './ICDAR/ICDAR2019_cTDaR/training/TRACKB1/ground_truth\\\\cTDaR_t00535.xml',\n",
       " './ICDAR/ICDAR2019_cTDaR/training/TRACKB1/ground_truth\\\\cTDaR_t00536.xml',\n",
       " './ICDAR/ICDAR2019_cTDaR/training/TRACKB1/ground_truth\\\\cTDaR_t00537.xml',\n",
       " './ICDAR/ICDAR2019_cTDaR/training/TRACKB1/ground_truth\\\\cTDaR_t00538.xml',\n",
       " './ICDAR/ICDAR2019_cTDaR/training/TRACKB1/ground_truth\\\\cTDaR_t00539.xml',\n",
       " './ICDAR/ICDAR2019_cTDaR/training/TRACKB1/ground_truth\\\\cTDaR_t00540.xml',\n",
       " './ICDAR/ICDAR2019_cTDaR/training/TRACKB1/ground_truth\\\\cTDaR_t00541.xml',\n",
       " './ICDAR/ICDAR2019_cTDaR/training/TRACKB1/ground_truth\\\\cTDaR_t00542.xml',\n",
       " './ICDAR/ICDAR2019_cTDaR/training/TRACKB1/ground_truth\\\\cTDaR_t00543.xml',\n",
       " './ICDAR/ICDAR2019_cTDaR/training/TRACKB1/ground_truth\\\\cTDaR_t00544.xml',\n",
       " './ICDAR/ICDAR2019_cTDaR/training/TRACKB1/ground_truth\\\\cTDaR_t00545.xml',\n",
       " './ICDAR/ICDAR2019_cTDaR/training/TRACKB1/ground_truth\\\\cTDaR_t00546.xml',\n",
       " './ICDAR/ICDAR2019_cTDaR/training/TRACKB1/ground_truth\\\\cTDaR_t00547.xml',\n",
       " './ICDAR/ICDAR2019_cTDaR/training/TRACKB1/ground_truth\\\\cTDaR_t00548.xml',\n",
       " './ICDAR/ICDAR2019_cTDaR/training/TRACKB1/ground_truth\\\\cTDaR_t00549.xml',\n",
       " './ICDAR/ICDAR2019_cTDaR/training/TRACKB1/ground_truth\\\\cTDaR_t00550.xml',\n",
       " './ICDAR/ICDAR2019_cTDaR/training/TRACKB1/ground_truth\\\\cTDaR_t00551.xml',\n",
       " './ICDAR/ICDAR2019_cTDaR/training/TRACKB1/ground_truth\\\\cTDaR_t00552.xml',\n",
       " './ICDAR/ICDAR2019_cTDaR/training/TRACKB1/ground_truth\\\\cTDaR_t00553.xml',\n",
       " './ICDAR/ICDAR2019_cTDaR/training/TRACKB1/ground_truth\\\\cTDaR_t00554.xml',\n",
       " './ICDAR/ICDAR2019_cTDaR/training/TRACKB1/ground_truth\\\\cTDaR_t00555.xml',\n",
       " './ICDAR/ICDAR2019_cTDaR/training/TRACKB1/ground_truth\\\\cTDaR_t00556.xml',\n",
       " './ICDAR/ICDAR2019_cTDaR/training/TRACKB1/ground_truth\\\\cTDaR_t00557.xml',\n",
       " './ICDAR/ICDAR2019_cTDaR/training/TRACKB1/ground_truth\\\\cTDaR_t00558.xml',\n",
       " './ICDAR/ICDAR2019_cTDaR/training/TRACKB1/ground_truth\\\\cTDaR_t00559.xml',\n",
       " './ICDAR/ICDAR2019_cTDaR/training/TRACKB1/ground_truth\\\\cTDaR_t00560.xml',\n",
       " './ICDAR/ICDAR2019_cTDaR/training/TRACKB1/ground_truth\\\\cTDaR_t00561.xml',\n",
       " './ICDAR/ICDAR2019_cTDaR/training/TRACKB1/ground_truth\\\\cTDaR_t00562.xml',\n",
       " './ICDAR/ICDAR2019_cTDaR/training/TRACKB1/ground_truth\\\\cTDaR_t00563.xml',\n",
       " './ICDAR/ICDAR2019_cTDaR/training/TRACKB1/ground_truth\\\\cTDaR_t00564.xml',\n",
       " './ICDAR/ICDAR2019_cTDaR/training/TRACKB1/ground_truth\\\\cTDaR_t00565.xml',\n",
       " './ICDAR/ICDAR2019_cTDaR/training/TRACKB1/ground_truth\\\\cTDaR_t00566.xml',\n",
       " './ICDAR/ICDAR2019_cTDaR/training/TRACKB1/ground_truth\\\\cTDaR_t00567.xml',\n",
       " './ICDAR/ICDAR2019_cTDaR/training/TRACKB1/ground_truth\\\\cTDaR_t00568.xml',\n",
       " './ICDAR/ICDAR2019_cTDaR/training/TRACKB1/ground_truth\\\\cTDaR_t00569.xml',\n",
       " './ICDAR/ICDAR2019_cTDaR/training/TRACKB1/ground_truth\\\\cTDaR_t00570.xml',\n",
       " './ICDAR/ICDAR2019_cTDaR/training/TRACKB1/ground_truth\\\\cTDaR_t00571.xml',\n",
       " './ICDAR/ICDAR2019_cTDaR/training/TRACKB1/ground_truth\\\\cTDaR_t00572.xml',\n",
       " './ICDAR/ICDAR2019_cTDaR/training/TRACKB1/ground_truth\\\\cTDaR_t00573.xml',\n",
       " './ICDAR/ICDAR2019_cTDaR/training/TRACKB1/ground_truth\\\\cTDaR_t00574.xml',\n",
       " './ICDAR/ICDAR2019_cTDaR/training/TRACKB1/ground_truth\\\\cTDaR_t00575.xml',\n",
       " './ICDAR/ICDAR2019_cTDaR/training/TRACKB1/ground_truth\\\\cTDaR_t00576.xml',\n",
       " './ICDAR/ICDAR2019_cTDaR/training/TRACKB1/ground_truth\\\\cTDaR_t00577.xml',\n",
       " './ICDAR/ICDAR2019_cTDaR/training/TRACKB1/ground_truth\\\\cTDaR_t00578.xml',\n",
       " './ICDAR/ICDAR2019_cTDaR/training/TRACKB1/ground_truth\\\\cTDaR_t00579.xml',\n",
       " './ICDAR/ICDAR2019_cTDaR/training/TRACKB1/ground_truth\\\\cTDaR_t00580.xml',\n",
       " './ICDAR/ICDAR2019_cTDaR/training/TRACKB1/ground_truth\\\\cTDaR_t00581.xml',\n",
       " './ICDAR/ICDAR2019_cTDaR/training/TRACKB1/ground_truth\\\\cTDaR_t00582.xml',\n",
       " './ICDAR/ICDAR2019_cTDaR/training/TRACKB1/ground_truth\\\\cTDaR_t00583.xml',\n",
       " './ICDAR/ICDAR2019_cTDaR/training/TRACKB1/ground_truth\\\\cTDaR_t00584.xml',\n",
       " './ICDAR/ICDAR2019_cTDaR/training/TRACKB1/ground_truth\\\\cTDaR_t00585.xml',\n",
       " './ICDAR/ICDAR2019_cTDaR/training/TRACKB1/ground_truth\\\\cTDaR_t00586.xml',\n",
       " './ICDAR/ICDAR2019_cTDaR/training/TRACKB1/ground_truth\\\\cTDaR_t00587.xml',\n",
       " './ICDAR/ICDAR2019_cTDaR/training/TRACKB1/ground_truth\\\\cTDaR_t00588.xml',\n",
       " './ICDAR/ICDAR2019_cTDaR/training/TRACKB1/ground_truth\\\\cTDaR_t00589.xml',\n",
       " './ICDAR/ICDAR2019_cTDaR/training/TRACKB1/ground_truth\\\\cTDaR_t00590.xml',\n",
       " './ICDAR/ICDAR2019_cTDaR/training/TRACKB1/ground_truth\\\\cTDaR_t00591.xml',\n",
       " './ICDAR/ICDAR2019_cTDaR/training/TRACKB1/ground_truth\\\\cTDaR_t00592.xml',\n",
       " './ICDAR/ICDAR2019_cTDaR/training/TRACKB1/ground_truth\\\\cTDaR_t00593.xml',\n",
       " './ICDAR/ICDAR2019_cTDaR/training/TRACKB1/ground_truth\\\\cTDaR_t00594.xml',\n",
       " './ICDAR/ICDAR2019_cTDaR/training/TRACKB1/ground_truth\\\\cTDaR_t00595.xml',\n",
       " './ICDAR/ICDAR2019_cTDaR/training/TRACKB1/ground_truth\\\\cTDaR_t00596.xml',\n",
       " './ICDAR/ICDAR2019_cTDaR/training/TRACKB1/ground_truth\\\\cTDaR_t00597.xml',\n",
       " './ICDAR/ICDAR2019_cTDaR/training/TRACKB1/ground_truth\\\\cTDaR_t00598.xml',\n",
       " './ICDAR/ICDAR2019_cTDaR/training/TRACKB1/ground_truth\\\\cTDaR_t00599.xml',\n",
       " './ICDAR/ICDAR2019_cTDaR/training/TRACKB1/ground_truth\\\\cTDaR_t00600.xml',\n",
       " './ICDAR/ICDAR2019_cTDaR/training/TRACKB1/ground_truth\\\\cTDaR_t00601.xml',\n",
       " './ICDAR/ICDAR2019_cTDaR/training/TRACKB1/ground_truth\\\\cTDaR_t00602.xml',\n",
       " './ICDAR/ICDAR2019_cTDaR/training/TRACKB1/ground_truth\\\\cTDaR_t00603.xml',\n",
       " './ICDAR/ICDAR2019_cTDaR/training/TRACKB1/ground_truth\\\\cTDaR_t00604.xml',\n",
       " './ICDAR/ICDAR2019_cTDaR/training/TRACKB1/ground_truth\\\\cTDaR_t00605.xml',\n",
       " './ICDAR/ICDAR2019_cTDaR/training/TRACKB1/ground_truth\\\\cTDaR_t00606.xml',\n",
       " './ICDAR/ICDAR2019_cTDaR/training/TRACKB1/ground_truth\\\\cTDaR_t00607.xml',\n",
       " './ICDAR/ICDAR2019_cTDaR/training/TRACKB1/ground_truth\\\\cTDaR_t00608.xml',\n",
       " './ICDAR/ICDAR2019_cTDaR/training/TRACKB1/ground_truth\\\\cTDaR_t00609.xml',\n",
       " './ICDAR/ICDAR2019_cTDaR/training/TRACKB1/ground_truth\\\\cTDaR_t00610.xml',\n",
       " './ICDAR/ICDAR2019_cTDaR/training/TRACKB1/ground_truth\\\\cTDaR_t00611.xml',\n",
       " './ICDAR/ICDAR2019_cTDaR/training/TRACKB1/ground_truth\\\\cTDaR_t00612.xml',\n",
       " './ICDAR/ICDAR2019_cTDaR/training/TRACKB1/ground_truth\\\\cTDaR_t00613.xml',\n",
       " './ICDAR/ICDAR2019_cTDaR/training/TRACKB1/ground_truth\\\\cTDaR_t00614.xml',\n",
       " './ICDAR/ICDAR2019_cTDaR/training/TRACKB1/ground_truth\\\\cTDaR_t00615.xml',\n",
       " './ICDAR/ICDAR2019_cTDaR/training/TRACKB1/ground_truth\\\\cTDaR_t00616.xml',\n",
       " './ICDAR/ICDAR2019_cTDaR/training/TRACKB1/ground_truth\\\\cTDaR_t00617.xml',\n",
       " './ICDAR/ICDAR2019_cTDaR/training/TRACKB1/ground_truth\\\\cTDaR_t00618.xml',\n",
       " './ICDAR/ICDAR2019_cTDaR/training/TRACKB1/ground_truth\\\\cTDaR_t00619.xml',\n",
       " './ICDAR/ICDAR2019_cTDaR/training/TRACKB1/ground_truth\\\\cTDaR_t00620.xml',\n",
       " './ICDAR/ICDAR2019_cTDaR/training/TRACKB1/ground_truth\\\\cTDaR_t00641.xml',\n",
       " './ICDAR/ICDAR2019_cTDaR/training/TRACKB1/ground_truth\\\\cTDaR_t00642.xml',\n",
       " './ICDAR/ICDAR2019_cTDaR/training/TRACKB1/ground_truth\\\\cTDaR_t00643.xml',\n",
       " './ICDAR/ICDAR2019_cTDaR/training/TRACKB1/ground_truth\\\\cTDaR_t00644.xml',\n",
       " './ICDAR/ICDAR2019_cTDaR/training/TRACKB1/ground_truth\\\\cTDaR_t00645.xml',\n",
       " './ICDAR/ICDAR2019_cTDaR/training/TRACKB1/ground_truth\\\\cTDaR_t00646.xml',\n",
       " './ICDAR/ICDAR2019_cTDaR/training/TRACKB1/ground_truth\\\\cTDaR_t00647.xml',\n",
       " './ICDAR/ICDAR2019_cTDaR/training/TRACKB1/ground_truth\\\\cTDaR_t00650.xml',\n",
       " './ICDAR/ICDAR2019_cTDaR/training/TRACKB1/ground_truth\\\\cTDaR_t00651.xml',\n",
       " './ICDAR/ICDAR2019_cTDaR/training/TRACKB1/ground_truth\\\\cTDaR_t00652.xml',\n",
       " './ICDAR/ICDAR2019_cTDaR/training/TRACKB1/ground_truth\\\\cTDaR_t00653.xml',\n",
       " './ICDAR/ICDAR2019_cTDaR/training/TRACKB1/ground_truth\\\\cTDaR_t00654.xml',\n",
       " './ICDAR/ICDAR2019_cTDaR/training/TRACKB1/ground_truth\\\\cTDaR_t00655.xml',\n",
       " './ICDAR/ICDAR2019_cTDaR/training/TRACKB1/ground_truth\\\\cTDaR_t00656.xml',\n",
       " './ICDAR/ICDAR2019_cTDaR/training/TRACKB1/ground_truth\\\\cTDaR_t00657.xml',\n",
       " './ICDAR/ICDAR2019_cTDaR/training/TRACKB1/ground_truth\\\\cTDaR_t00658.xml',\n",
       " './ICDAR/ICDAR2019_cTDaR/training/TRACKB1/ground_truth\\\\cTDaR_t00662.xml',\n",
       " './ICDAR/ICDAR2019_cTDaR/training/TRACKB1/ground_truth\\\\cTDaR_t00663.xml',\n",
       " './ICDAR/ICDAR2019_cTDaR/training/TRACKB1/ground_truth\\\\cTDaR_t00664.xml',\n",
       " './ICDAR/ICDAR2019_cTDaR/training/TRACKB1/ground_truth\\\\cTDaR_t00665.xml',\n",
       " './ICDAR/ICDAR2019_cTDaR/training/TRACKB1/ground_truth\\\\cTDaR_t00666.xml',\n",
       " './ICDAR/ICDAR2019_cTDaR/training/TRACKB1/ground_truth\\\\cTDaR_t00667.xml',\n",
       " './ICDAR/ICDAR2019_cTDaR/training/TRACKB1/ground_truth\\\\cTDaR_t00668.xml',\n",
       " './ICDAR/ICDAR2019_cTDaR/training/TRACKB1/ground_truth\\\\cTDaR_t00669.xml',\n",
       " './ICDAR/ICDAR2019_cTDaR/training/TRACKB1/ground_truth\\\\cTDaR_t00670.xml',\n",
       " './ICDAR/ICDAR2019_cTDaR/training/TRACKB1/ground_truth\\\\cTDaR_t00671.xml',\n",
       " './ICDAR/ICDAR2019_cTDaR/training/TRACKB1/ground_truth\\\\cTDaR_t00672.xml',\n",
       " './ICDAR/ICDAR2019_cTDaR/training/TRACKB1/ground_truth\\\\cTDaR_t00673.xml',\n",
       " './ICDAR/ICDAR2019_cTDaR/training/TRACKB1/ground_truth\\\\cTDaR_t00674.xml',\n",
       " './ICDAR/ICDAR2019_cTDaR/training/TRACKB1/ground_truth\\\\cTDaR_t00675.xml',\n",
       " './ICDAR/ICDAR2019_cTDaR/training/TRACKB1/ground_truth\\\\cTDaR_t00676.xml',\n",
       " './ICDAR/ICDAR2019_cTDaR/training/TRACKB1/ground_truth\\\\cTDaR_t00677.xml',\n",
       " './ICDAR/ICDAR2019_cTDaR/training/TRACKB1/ground_truth\\\\cTDaR_t00678.xml',\n",
       " './ICDAR/ICDAR2019_cTDaR/training/TRACKB1/ground_truth\\\\cTDaR_t00679.xml',\n",
       " './ICDAR/ICDAR2019_cTDaR/training/TRACKB1/ground_truth\\\\cTDaR_t00708.xml',\n",
       " './ICDAR/ICDAR2019_cTDaR/training/TRACKB1/ground_truth\\\\cTDaR_t00709.xml',\n",
       " './ICDAR/ICDAR2019_cTDaR/training/TRACKB1/ground_truth\\\\cTDaR_t00710.xml',\n",
       " './ICDAR/ICDAR2019_cTDaR/training/TRACKB1/ground_truth\\\\cTDaR_t00711.xml',\n",
       " './ICDAR/ICDAR2019_cTDaR/training/TRACKB1/ground_truth\\\\cTDaR_t00712.xml',\n",
       " './ICDAR/ICDAR2019_cTDaR/training/TRACKB1/ground_truth\\\\cTDaR_t00713.xml',\n",
       " './ICDAR/ICDAR2019_cTDaR/training/TRACKB1/ground_truth\\\\cTDaR_t00714.xml',\n",
       " './ICDAR/ICDAR2019_cTDaR/training/TRACKB1/ground_truth\\\\cTDaR_t00715.xml',\n",
       " './ICDAR/ICDAR2019_cTDaR/training/TRACKB1/ground_truth\\\\cTDaR_t00716.xml',\n",
       " './ICDAR/ICDAR2019_cTDaR/training/TRACKB1/ground_truth\\\\cTDaR_t00717.xml',\n",
       " './ICDAR/ICDAR2019_cTDaR/training/TRACKB1/ground_truth\\\\cTDaR_t00718.xml',\n",
       " './ICDAR/ICDAR2019_cTDaR/training/TRACKB1/ground_truth\\\\cTDaR_t00719.xml',\n",
       " './ICDAR/ICDAR2019_cTDaR/training/TRACKB1/ground_truth\\\\cTDaR_t00760.xml',\n",
       " './ICDAR/ICDAR2019_cTDaR/training/TRACKB1/ground_truth\\\\cTDaR_t00761.xml',\n",
       " './ICDAR/ICDAR2019_cTDaR/training/TRACKB1/ground_truth\\\\cTDaR_t00762.xml',\n",
       " './ICDAR/ICDAR2019_cTDaR/training/TRACKB1/ground_truth\\\\cTDaR_t00763.xml',\n",
       " './ICDAR/ICDAR2019_cTDaR/training/TRACKB1/ground_truth\\\\cTDaR_t00764.xml',\n",
       " './ICDAR/ICDAR2019_cTDaR/training/TRACKB1/ground_truth\\\\cTDaR_t00765.xml',\n",
       " './ICDAR/ICDAR2019_cTDaR/training/TRACKB1/ground_truth\\\\cTDaR_t00766.xml',\n",
       " './ICDAR/ICDAR2019_cTDaR/training/TRACKB1/ground_truth\\\\cTDaR_t00767.xml',\n",
       " './ICDAR/ICDAR2019_cTDaR/training/TRACKB1/ground_truth\\\\cTDaR_t00768.xml',\n",
       " './ICDAR/ICDAR2019_cTDaR/training/TRACKB1/ground_truth\\\\cTDaR_t00769.xml',\n",
       " './ICDAR/ICDAR2019_cTDaR/training/TRACKB1/ground_truth\\\\cTDaR_t00770.xml',\n",
       " './ICDAR/ICDAR2019_cTDaR/training/TRACKB1/ground_truth\\\\cTDaR_t00771.xml',\n",
       " './ICDAR/ICDAR2019_cTDaR/training/TRACKB1/ground_truth\\\\cTDaR_t00772.xml',\n",
       " './ICDAR/ICDAR2019_cTDaR/training/TRACKB1/ground_truth\\\\cTDaR_t00799.xml',\n",
       " './ICDAR/ICDAR2019_cTDaR/training/TRACKB1/ground_truth\\\\cTDaR_t00800.xml',\n",
       " './ICDAR/ICDAR2019_cTDaR/training/TRACKB1/ground_truth\\\\cTDaR_t00801.xml',\n",
       " './ICDAR/ICDAR2019_cTDaR/training/TRACKB1/ground_truth\\\\cTDaR_t00802.xml',\n",
       " './ICDAR/ICDAR2019_cTDaR/training/TRACKB1/ground_truth\\\\cTDaR_t00803.xml',\n",
       " './ICDAR/ICDAR2019_cTDaR/training/TRACKB1/ground_truth\\\\cTDaR_t00804.xml',\n",
       " './ICDAR/ICDAR2019_cTDaR/training/TRACKB1/ground_truth\\\\cTDaR_t00805.xml',\n",
       " './ICDAR/ICDAR2019_cTDaR/training/TRACKB1/ground_truth\\\\cTDaR_t00806.xml',\n",
       " './ICDAR/ICDAR2019_cTDaR/training/TRACKB1/ground_truth\\\\cTDaR_t00807.xml',\n",
       " './ICDAR/ICDAR2019_cTDaR/training/TRACKB1/ground_truth\\\\cTDaR_t00808.xml',\n",
       " './ICDAR/ICDAR2019_cTDaR/training/TRACKB1/ground_truth\\\\cTDaR_t00809.xml',\n",
       " './ICDAR/ICDAR2019_cTDaR/training/TRACKB1/ground_truth\\\\cTDaR_t00815.xml',\n",
       " './ICDAR/ICDAR2019_cTDaR/training/TRACKB1/ground_truth\\\\cTDaR_t00816.xml',\n",
       " './ICDAR/ICDAR2019_cTDaR/training/TRACKB1/ground_truth\\\\cTDaR_t00817.xml',\n",
       " './ICDAR/ICDAR2019_cTDaR/training/TRACKB1/ground_truth\\\\cTDaR_t00818.xml',\n",
       " './ICDAR/ICDAR2019_cTDaR/training/TRACKB1/ground_truth\\\\cTDaR_t00819.xml',\n",
       " './ICDAR/ICDAR2019_cTDaR/training/TRACKB1/ground_truth\\\\cTDaR_t00820.xml',\n",
       " './ICDAR/ICDAR2019_cTDaR/training/TRACKB1/ground_truth\\\\cTDaR_t00821.xml',\n",
       " './ICDAR/ICDAR2019_cTDaR/training/TRACKB1/ground_truth\\\\cTDaR_t00822.xml',\n",
       " './ICDAR/ICDAR2019_cTDaR/training/TRACKB1/ground_truth\\\\cTDaR_t00823.xml',\n",
       " './ICDAR/ICDAR2019_cTDaR/training/TRACKB1/ground_truth\\\\cTDaR_t00824.xml',\n",
       " './ICDAR/ICDAR2019_cTDaR/training/TRACKB1/ground_truth\\\\cTDaR_t00825.xml',\n",
       " './ICDAR/ICDAR2019_cTDaR/training/TRACKB1/ground_truth\\\\cTDaR_t00826.xml',\n",
       " './ICDAR/ICDAR2019_cTDaR/training/TRACKB1/ground_truth\\\\cTDaR_t00827.xml',\n",
       " './ICDAR/ICDAR2019_cTDaR/training/TRACKB1/ground_truth\\\\cTDaR_t00841.xml',\n",
       " './ICDAR/ICDAR2019_cTDaR/training/TRACKB1/ground_truth\\\\cTDaR_t00842.xml',\n",
       " './ICDAR/ICDAR2019_cTDaR/training/TRACKB1/ground_truth\\\\cTDaR_t00843.xml',\n",
       " './ICDAR/ICDAR2019_cTDaR/training/TRACKB1/ground_truth\\\\cTDaR_t00844.xml',\n",
       " './ICDAR/ICDAR2019_cTDaR/training/TRACKB1/ground_truth\\\\cTDaR_t00845.xml',\n",
       " './ICDAR/ICDAR2019_cTDaR/training/TRACKB1/ground_truth\\\\cTDaR_t00846.xml',\n",
       " './ICDAR/ICDAR2019_cTDaR/training/TRACKB1/ground_truth\\\\cTDaR_t00851.xml',\n",
       " './ICDAR/ICDAR2019_cTDaR/training/TRACKB1/ground_truth\\\\cTDaR_t00852.xml',\n",
       " './ICDAR/ICDAR2019_cTDaR/training/TRACKB1/ground_truth\\\\cTDaR_t00853.xml',\n",
       " './ICDAR/ICDAR2019_cTDaR/training/TRACKB1/ground_truth\\\\cTDaR_t00854.xml',\n",
       " './ICDAR/ICDAR2019_cTDaR/training/TRACKB1/ground_truth\\\\cTDaR_t00855.xml',\n",
       " './ICDAR/ICDAR2019_cTDaR/training/TRACKB1/ground_truth\\\\cTDaR_t00856.xml',\n",
       " './ICDAR/ICDAR2019_cTDaR/training/TRACKB1/ground_truth\\\\cTDaR_t00857.xml',\n",
       " './ICDAR/ICDAR2019_cTDaR/training/TRACKB1/ground_truth\\\\cTDaR_t00860.xml',\n",
       " './ICDAR/ICDAR2019_cTDaR/training/TRACKB1/ground_truth\\\\cTDaR_t00861.xml',\n",
       " './ICDAR/ICDAR2019_cTDaR/training/TRACKB1/ground_truth\\\\cTDaR_t00862.xml',\n",
       " './ICDAR/ICDAR2019_cTDaR/training/TRACKB1/ground_truth\\\\cTDaR_t00863.xml',\n",
       " './ICDAR/ICDAR2019_cTDaR/training/TRACKB1/ground_truth\\\\cTDaR_t00864.xml',\n",
       " './ICDAR/ICDAR2019_cTDaR/training/TRACKB1/ground_truth\\\\cTDaR_t00865.xml',\n",
       " './ICDAR/ICDAR2019_cTDaR/training/TRACKB1/ground_truth\\\\cTDaR_t00866.xml',\n",
       " './ICDAR/ICDAR2019_cTDaR/training/TRACKB1/ground_truth\\\\cTDaR_t00867.xml',\n",
       " './ICDAR/ICDAR2019_cTDaR/training/TRACKB1/ground_truth\\\\cTDaR_t00868.xml',\n",
       " './ICDAR/ICDAR2019_cTDaR/training/TRACKB1/ground_truth\\\\cTDaR_t00869.xml',\n",
       " './ICDAR/ICDAR2019_cTDaR/training/TRACKB1/ground_truth\\\\cTDaR_t00870.xml',\n",
       " './ICDAR/ICDAR2019_cTDaR/training/TRACKB1/ground_truth\\\\cTDaR_t00871.xml',\n",
       " './ICDAR/ICDAR2019_cTDaR/training/TRACKB1/ground_truth\\\\cTDaR_t00872.xml',\n",
       " './ICDAR/ICDAR2019_cTDaR/training/TRACKB1/ground_truth\\\\cTDaR_t00873.xml',\n",
       " './ICDAR/ICDAR2019_cTDaR/training/TRACKB1/ground_truth\\\\cTDaR_t00874.xml',\n",
       " './ICDAR/ICDAR2019_cTDaR/training/TRACKB1/ground_truth\\\\cTDaR_t00875.xml',\n",
       " './ICDAR/ICDAR2019_cTDaR/training/TRACKB1/ground_truth\\\\cTDaR_t00876.xml',\n",
       " './ICDAR/ICDAR2019_cTDaR/training/TRACKB1/ground_truth\\\\cTDaR_t00877.xml',\n",
       " './ICDAR/ICDAR2019_cTDaR/training/TRACKB1/ground_truth\\\\cTDaR_t00878.xml',\n",
       " './ICDAR/ICDAR2019_cTDaR/training/TRACKB1/ground_truth\\\\cTDaR_t00879.xml',\n",
       " './ICDAR/ICDAR2019_cTDaR/training/TRACKB1/ground_truth\\\\cTDaR_t00880.xml',\n",
       " './ICDAR/ICDAR2019_cTDaR/training/TRACKB1/ground_truth\\\\cTDaR_t00881.xml',\n",
       " './ICDAR/ICDAR2019_cTDaR/training/TRACKB1/ground_truth\\\\cTDaR_t00882.xml',\n",
       " './ICDAR/ICDAR2019_cTDaR/training/TRACKB1/ground_truth\\\\cTDaR_t00883.xml',\n",
       " './ICDAR/ICDAR2019_cTDaR/training/TRACKB1/ground_truth\\\\cTDaR_t00884.xml',\n",
       " './ICDAR/ICDAR2019_cTDaR/training/TRACKB1/ground_truth\\\\cTDaR_t00885.xml',\n",
       " './ICDAR/ICDAR2019_cTDaR/training/TRACKB1/ground_truth\\\\cTDaR_t00886.xml',\n",
       " './ICDAR/ICDAR2019_cTDaR/training/TRACKB1/ground_truth\\\\cTDaR_t00887.xml',\n",
       " './ICDAR/ICDAR2019_cTDaR/training/TRACKB1/ground_truth\\\\cTDaR_t00888.xml',\n",
       " './ICDAR/ICDAR2019_cTDaR/training/TRACKB1/ground_truth\\\\cTDaR_t00889.xml',\n",
       " './ICDAR/ICDAR2019_cTDaR/training/TRACKB1/ground_truth\\\\cTDaR_t00890.xml',\n",
       " './ICDAR/ICDAR2019_cTDaR/training/TRACKB1/ground_truth\\\\cTDaR_t00891.xml',\n",
       " './ICDAR/ICDAR2019_cTDaR/training/TRACKB1/ground_truth\\\\cTDaR_t00892.xml',\n",
       " './ICDAR/ICDAR2019_cTDaR/training/TRACKB1/ground_truth\\\\cTDaR_t00893.xml',\n",
       " './ICDAR/ICDAR2019_cTDaR/training/TRACKB1/ground_truth\\\\cTDaR_t00894.xml',\n",
       " './ICDAR/ICDAR2019_cTDaR/training/TRACKB1/ground_truth\\\\cTDaR_t00895.xml',\n",
       " './ICDAR/ICDAR2019_cTDaR/training/TRACKB1/ground_truth\\\\cTDaR_t00896.xml',\n",
       " './ICDAR/ICDAR2019_cTDaR/training/TRACKB1/ground_truth\\\\cTDaR_t00897.xml',\n",
       " './ICDAR/ICDAR2019_cTDaR/training/TRACKB1/ground_truth\\\\cTDaR_t00898.xml',\n",
       " './ICDAR/ICDAR2019_cTDaR/training/TRACKB1/ground_truth\\\\cTDaR_t00899.xml',\n",
       " './ICDAR/ICDAR2019_cTDaR/training/TRACKB1/ground_truth\\\\cTDaR_t00900.xml',\n",
       " './ICDAR/ICDAR2019_cTDaR/training/TRACKB1/ground_truth\\\\cTDaR_t00901.xml',\n",
       " './ICDAR/ICDAR2019_cTDaR/training/TRACKB1/ground_truth\\\\cTDaR_t00902.xml',\n",
       " './ICDAR/ICDAR2019_cTDaR/training/TRACKB1/ground_truth\\\\cTDaR_t00903.xml',\n",
       " './ICDAR/ICDAR2019_cTDaR/training/TRACKB1/ground_truth\\\\cTDaR_t00904.xml',\n",
       " './ICDAR/ICDAR2019_cTDaR/training/TRACKB1/ground_truth\\\\cTDaR_t00905.xml',\n",
       " './ICDAR/ICDAR2019_cTDaR/training/TRACKB1/ground_truth\\\\cTDaR_t00906.xml',\n",
       " './ICDAR/ICDAR2019_cTDaR/training/TRACKB1/ground_truth\\\\cTDaR_t00907.xml',\n",
       " './ICDAR/ICDAR2019_cTDaR/training/TRACKB1/ground_truth\\\\cTDaR_t00908.xml',\n",
       " './ICDAR/ICDAR2019_cTDaR/training/TRACKB1/ground_truth\\\\cTDaR_t00909.xml',\n",
       " './ICDAR/ICDAR2019_cTDaR/training/TRACKB1/ground_truth\\\\cTDaR_t00910.xml',\n",
       " './ICDAR/ICDAR2019_cTDaR/training/TRACKB1/ground_truth\\\\cTDaR_t00911.xml',\n",
       " './ICDAR/ICDAR2019_cTDaR/training/TRACKB1/ground_truth\\\\cTDaR_t00912.xml',\n",
       " './ICDAR/ICDAR2019_cTDaR/training/TRACKB1/ground_truth\\\\cTDaR_t00913.xml',\n",
       " './ICDAR/ICDAR2019_cTDaR/training/TRACKB1/ground_truth\\\\cTDaR_t00914.xml',\n",
       " './ICDAR/ICDAR2019_cTDaR/training/TRACKB1/ground_truth\\\\cTDaR_t00915.xml',\n",
       " './ICDAR/ICDAR2019_cTDaR/training/TRACKB1/ground_truth\\\\cTDaR_t00916.xml',\n",
       " './ICDAR/ICDAR2019_cTDaR/training/TRACKB1/ground_truth\\\\cTDaR_t00917.xml',\n",
       " './ICDAR/ICDAR2019_cTDaR/training/TRACKB1/ground_truth\\\\cTDaR_t00918.xml',\n",
       " './ICDAR/ICDAR2019_cTDaR/training/TRACKB1/ground_truth\\\\cTDaR_t00919.xml',\n",
       " './ICDAR/ICDAR2019_cTDaR/training/TRACKB1/ground_truth\\\\cTDaR_t00920.xml',\n",
       " './ICDAR/ICDAR2019_cTDaR/training/TRACKB1/ground_truth\\\\cTDaR_t00921.xml',\n",
       " './ICDAR/ICDAR2019_cTDaR/training/TRACKB1/ground_truth\\\\cTDaR_t00922.xml',\n",
       " './ICDAR/ICDAR2019_cTDaR/training/TRACKB1/ground_truth\\\\cTDaR_t00923.xml',\n",
       " './ICDAR/ICDAR2019_cTDaR/training/TRACKB1/ground_truth\\\\cTDaR_t00924.xml',\n",
       " './ICDAR/ICDAR2019_cTDaR/training/TRACKB1/ground_truth\\\\cTDaR_t00925.xml',\n",
       " './ICDAR/ICDAR2019_cTDaR/training/TRACKB1/ground_truth\\\\cTDaR_t00926.xml',\n",
       " './ICDAR/ICDAR2019_cTDaR/training/TRACKB1/ground_truth\\\\cTDaR_t00927.xml',\n",
       " './ICDAR/ICDAR2019_cTDaR/training/TRACKB1/ground_truth\\\\cTDaR_t00928.xml',\n",
       " './ICDAR/ICDAR2019_cTDaR/training/TRACKB1/ground_truth\\\\cTDaR_t00929.xml',\n",
       " './ICDAR/ICDAR2019_cTDaR/training/TRACKB1/ground_truth\\\\cTDaR_t00930.xml']"
      ]
     },
     "execution_count": 14,
     "metadata": {},
     "output_type": "execute_result"
    }
   ],
   "source": [
    "xmls"
   ]
  },
  {
   "cell_type": "code",
   "execution_count": 15,
   "metadata": {},
   "outputs": [
    {
     "data": {
      "text/plain": [
       "['./ICDAR/ICDAR2019_cTDaR/training/TRACKB1/ground_truth\\\\cTDaR_t00000.jpg',\n",
       " './ICDAR/ICDAR2019_cTDaR/training/TRACKB1/ground_truth\\\\cTDaR_t00001.jpg',\n",
       " './ICDAR/ICDAR2019_cTDaR/training/TRACKB1/ground_truth\\\\cTDaR_t00002.jpg',\n",
       " './ICDAR/ICDAR2019_cTDaR/training/TRACKB1/ground_truth\\\\cTDaR_t00003.jpg',\n",
       " './ICDAR/ICDAR2019_cTDaR/training/TRACKB1/ground_truth\\\\cTDaR_t00004.jpg',\n",
       " './ICDAR/ICDAR2019_cTDaR/training/TRACKB1/ground_truth\\\\cTDaR_t00005.jpg',\n",
       " './ICDAR/ICDAR2019_cTDaR/training/TRACKB1/ground_truth\\\\cTDaR_t00006.jpg',\n",
       " './ICDAR/ICDAR2019_cTDaR/training/TRACKB1/ground_truth\\\\cTDaR_t00007.jpg',\n",
       " './ICDAR/ICDAR2019_cTDaR/training/TRACKB1/ground_truth\\\\cTDaR_t00008.jpg',\n",
       " './ICDAR/ICDAR2019_cTDaR/training/TRACKB1/ground_truth\\\\cTDaR_t00009.jpg',\n",
       " './ICDAR/ICDAR2019_cTDaR/training/TRACKB1/ground_truth\\\\cTDaR_t00010.jpg',\n",
       " './ICDAR/ICDAR2019_cTDaR/training/TRACKB1/ground_truth\\\\cTDaR_t00018.jpg',\n",
       " './ICDAR/ICDAR2019_cTDaR/training/TRACKB1/ground_truth\\\\cTDaR_t00019.jpg',\n",
       " './ICDAR/ICDAR2019_cTDaR/training/TRACKB1/ground_truth\\\\cTDaR_t00020.jpg',\n",
       " './ICDAR/ICDAR2019_cTDaR/training/TRACKB1/ground_truth\\\\cTDaR_t00021.jpg',\n",
       " './ICDAR/ICDAR2019_cTDaR/training/TRACKB1/ground_truth\\\\cTDaR_t00022.jpg',\n",
       " './ICDAR/ICDAR2019_cTDaR/training/TRACKB1/ground_truth\\\\cTDaR_t00023.jpg',\n",
       " './ICDAR/ICDAR2019_cTDaR/training/TRACKB1/ground_truth\\\\cTDaR_t00024.jpg',\n",
       " './ICDAR/ICDAR2019_cTDaR/training/TRACKB1/ground_truth\\\\cTDaR_t00025.jpg',\n",
       " './ICDAR/ICDAR2019_cTDaR/training/TRACKB1/ground_truth\\\\cTDaR_t00026.jpg',\n",
       " './ICDAR/ICDAR2019_cTDaR/training/TRACKB1/ground_truth\\\\cTDaR_t00027.jpg',\n",
       " './ICDAR/ICDAR2019_cTDaR/training/TRACKB1/ground_truth\\\\cTDaR_t00028.jpg',\n",
       " './ICDAR/ICDAR2019_cTDaR/training/TRACKB1/ground_truth\\\\cTDaR_t00029.jpg',\n",
       " './ICDAR/ICDAR2019_cTDaR/training/TRACKB1/ground_truth\\\\cTDaR_t00030.jpg',\n",
       " './ICDAR/ICDAR2019_cTDaR/training/TRACKB1/ground_truth\\\\cTDaR_t00031.jpg',\n",
       " './ICDAR/ICDAR2019_cTDaR/training/TRACKB1/ground_truth\\\\cTDaR_t00032.jpg',\n",
       " './ICDAR/ICDAR2019_cTDaR/training/TRACKB1/ground_truth\\\\cTDaR_t00033.jpg',\n",
       " './ICDAR/ICDAR2019_cTDaR/training/TRACKB1/ground_truth\\\\cTDaR_t00034.jpg',\n",
       " './ICDAR/ICDAR2019_cTDaR/training/TRACKB1/ground_truth\\\\cTDaR_t00035.jpg',\n",
       " './ICDAR/ICDAR2019_cTDaR/training/TRACKB1/ground_truth\\\\cTDaR_t00036.jpg',\n",
       " './ICDAR/ICDAR2019_cTDaR/training/TRACKB1/ground_truth\\\\cTDaR_t00037.jpg',\n",
       " './ICDAR/ICDAR2019_cTDaR/training/TRACKB1/ground_truth\\\\cTDaR_t00038.jpg',\n",
       " './ICDAR/ICDAR2019_cTDaR/training/TRACKB1/ground_truth\\\\cTDaR_t00039.jpg',\n",
       " './ICDAR/ICDAR2019_cTDaR/training/TRACKB1/ground_truth\\\\cTDaR_t00040.jpg',\n",
       " './ICDAR/ICDAR2019_cTDaR/training/TRACKB1/ground_truth\\\\cTDaR_t00041.jpg',\n",
       " './ICDAR/ICDAR2019_cTDaR/training/TRACKB1/ground_truth\\\\cTDaR_t00042.jpg',\n",
       " './ICDAR/ICDAR2019_cTDaR/training/TRACKB1/ground_truth\\\\cTDaR_t00043.jpg',\n",
       " './ICDAR/ICDAR2019_cTDaR/training/TRACKB1/ground_truth\\\\cTDaR_t00044.jpg',\n",
       " './ICDAR/ICDAR2019_cTDaR/training/TRACKB1/ground_truth\\\\cTDaR_t00045.jpg',\n",
       " './ICDAR/ICDAR2019_cTDaR/training/TRACKB1/ground_truth\\\\cTDaR_t00046.jpg',\n",
       " './ICDAR/ICDAR2019_cTDaR/training/TRACKB1/ground_truth\\\\cTDaR_t00047.jpg',\n",
       " './ICDAR/ICDAR2019_cTDaR/training/TRACKB1/ground_truth\\\\cTDaR_t00048.jpg',\n",
       " './ICDAR/ICDAR2019_cTDaR/training/TRACKB1/ground_truth\\\\cTDaR_t00049.jpg',\n",
       " './ICDAR/ICDAR2019_cTDaR/training/TRACKB1/ground_truth\\\\cTDaR_t00050.jpg',\n",
       " './ICDAR/ICDAR2019_cTDaR/training/TRACKB1/ground_truth\\\\cTDaR_t00051.jpg',\n",
       " './ICDAR/ICDAR2019_cTDaR/training/TRACKB1/ground_truth\\\\cTDaR_t00052.jpg',\n",
       " './ICDAR/ICDAR2019_cTDaR/training/TRACKB1/ground_truth\\\\cTDaR_t00053.jpg',\n",
       " './ICDAR/ICDAR2019_cTDaR/training/TRACKB1/ground_truth\\\\cTDaR_t00054.jpg',\n",
       " './ICDAR/ICDAR2019_cTDaR/training/TRACKB1/ground_truth\\\\cTDaR_t00055.jpg',\n",
       " './ICDAR/ICDAR2019_cTDaR/training/TRACKB1/ground_truth\\\\cTDaR_t00056.jpg',\n",
       " './ICDAR/ICDAR2019_cTDaR/training/TRACKB1/ground_truth\\\\cTDaR_t00057.jpg',\n",
       " './ICDAR/ICDAR2019_cTDaR/training/TRACKB1/ground_truth\\\\cTDaR_t00058.jpg',\n",
       " './ICDAR/ICDAR2019_cTDaR/training/TRACKB1/ground_truth\\\\cTDaR_t00059.jpg',\n",
       " './ICDAR/ICDAR2019_cTDaR/training/TRACKB1/ground_truth\\\\cTDaR_t00060.jpg',\n",
       " './ICDAR/ICDAR2019_cTDaR/training/TRACKB1/ground_truth\\\\cTDaR_t00061.jpg',\n",
       " './ICDAR/ICDAR2019_cTDaR/training/TRACKB1/ground_truth\\\\cTDaR_t00062.jpg',\n",
       " './ICDAR/ICDAR2019_cTDaR/training/TRACKB1/ground_truth\\\\cTDaR_t00063.jpg',\n",
       " './ICDAR/ICDAR2019_cTDaR/training/TRACKB1/ground_truth\\\\cTDaR_t00064.jpg',\n",
       " './ICDAR/ICDAR2019_cTDaR/training/TRACKB1/ground_truth\\\\cTDaR_t00065.jpg',\n",
       " './ICDAR/ICDAR2019_cTDaR/training/TRACKB1/ground_truth\\\\cTDaR_t00066.jpg',\n",
       " './ICDAR/ICDAR2019_cTDaR/training/TRACKB1/ground_truth\\\\cTDaR_t00067.jpg',\n",
       " './ICDAR/ICDAR2019_cTDaR/training/TRACKB1/ground_truth\\\\cTDaR_t00068.jpg',\n",
       " './ICDAR/ICDAR2019_cTDaR/training/TRACKB1/ground_truth\\\\cTDaR_t00069.jpg',\n",
       " './ICDAR/ICDAR2019_cTDaR/training/TRACKB1/ground_truth\\\\cTDaR_t00070.jpg',\n",
       " './ICDAR/ICDAR2019_cTDaR/training/TRACKB1/ground_truth\\\\cTDaR_t00091.jpg',\n",
       " './ICDAR/ICDAR2019_cTDaR/training/TRACKB1/ground_truth\\\\cTDaR_t00092.jpg',\n",
       " './ICDAR/ICDAR2019_cTDaR/training/TRACKB1/ground_truth\\\\cTDaR_t00093.jpg',\n",
       " './ICDAR/ICDAR2019_cTDaR/training/TRACKB1/ground_truth\\\\cTDaR_t00094.jpg',\n",
       " './ICDAR/ICDAR2019_cTDaR/training/TRACKB1/ground_truth\\\\cTDaR_t00095.jpg',\n",
       " './ICDAR/ICDAR2019_cTDaR/training/TRACKB1/ground_truth\\\\cTDaR_t00096.jpg',\n",
       " './ICDAR/ICDAR2019_cTDaR/training/TRACKB1/ground_truth\\\\cTDaR_t00097.jpg',\n",
       " './ICDAR/ICDAR2019_cTDaR/training/TRACKB1/ground_truth\\\\cTDaR_t00098.jpg',\n",
       " './ICDAR/ICDAR2019_cTDaR/training/TRACKB1/ground_truth\\\\cTDaR_t00099.jpg',\n",
       " './ICDAR/ICDAR2019_cTDaR/training/TRACKB1/ground_truth\\\\cTDaR_t00100.jpg',\n",
       " './ICDAR/ICDAR2019_cTDaR/training/TRACKB1/ground_truth\\\\cTDaR_t00101.jpg',\n",
       " './ICDAR/ICDAR2019_cTDaR/training/TRACKB1/ground_truth\\\\cTDaR_t00116.jpg',\n",
       " './ICDAR/ICDAR2019_cTDaR/training/TRACKB1/ground_truth\\\\cTDaR_t00117.jpg',\n",
       " './ICDAR/ICDAR2019_cTDaR/training/TRACKB1/ground_truth\\\\cTDaR_t00118.jpg',\n",
       " './ICDAR/ICDAR2019_cTDaR/training/TRACKB1/ground_truth\\\\cTDaR_t00119.jpg',\n",
       " './ICDAR/ICDAR2019_cTDaR/training/TRACKB1/ground_truth\\\\cTDaR_t00120.jpg',\n",
       " './ICDAR/ICDAR2019_cTDaR/training/TRACKB1/ground_truth\\\\cTDaR_t00121.jpg',\n",
       " './ICDAR/ICDAR2019_cTDaR/training/TRACKB1/ground_truth\\\\cTDaR_t00122.jpg',\n",
       " './ICDAR/ICDAR2019_cTDaR/training/TRACKB1/ground_truth\\\\cTDaR_t00125.jpg',\n",
       " './ICDAR/ICDAR2019_cTDaR/training/TRACKB1/ground_truth\\\\cTDaR_t00126.jpg',\n",
       " './ICDAR/ICDAR2019_cTDaR/training/TRACKB1/ground_truth\\\\cTDaR_t00127.jpg',\n",
       " './ICDAR/ICDAR2019_cTDaR/training/TRACKB1/ground_truth\\\\cTDaR_t00128.jpg',\n",
       " './ICDAR/ICDAR2019_cTDaR/training/TRACKB1/ground_truth\\\\cTDaR_t00129.jpg',\n",
       " './ICDAR/ICDAR2019_cTDaR/training/TRACKB1/ground_truth\\\\cTDaR_t00130.jpg',\n",
       " './ICDAR/ICDAR2019_cTDaR/training/TRACKB1/ground_truth\\\\cTDaR_t00131.jpg',\n",
       " './ICDAR/ICDAR2019_cTDaR/training/TRACKB1/ground_truth\\\\cTDaR_t00132.jpg',\n",
       " './ICDAR/ICDAR2019_cTDaR/training/TRACKB1/ground_truth\\\\cTDaR_t00133.jpg',\n",
       " './ICDAR/ICDAR2019_cTDaR/training/TRACKB1/ground_truth\\\\cTDaR_t00134.jpg',\n",
       " './ICDAR/ICDAR2019_cTDaR/training/TRACKB1/ground_truth\\\\cTDaR_t00135.jpg',\n",
       " './ICDAR/ICDAR2019_cTDaR/training/TRACKB1/ground_truth\\\\cTDaR_t00136.jpg',\n",
       " './ICDAR/ICDAR2019_cTDaR/training/TRACKB1/ground_truth\\\\cTDaR_t00137.jpg',\n",
       " './ICDAR/ICDAR2019_cTDaR/training/TRACKB1/ground_truth\\\\cTDaR_t00138.jpg',\n",
       " './ICDAR/ICDAR2019_cTDaR/training/TRACKB1/ground_truth\\\\cTDaR_t00139.jpg',\n",
       " './ICDAR/ICDAR2019_cTDaR/training/TRACKB1/ground_truth\\\\cTDaR_t00140.jpg',\n",
       " './ICDAR/ICDAR2019_cTDaR/training/TRACKB1/ground_truth\\\\cTDaR_t00141.jpg',\n",
       " './ICDAR/ICDAR2019_cTDaR/training/TRACKB1/ground_truth\\\\cTDaR_t00142.jpg',\n",
       " './ICDAR/ICDAR2019_cTDaR/training/TRACKB1/ground_truth\\\\cTDaR_t00143.jpg',\n",
       " './ICDAR/ICDAR2019_cTDaR/training/TRACKB1/ground_truth\\\\cTDaR_t00144.jpg',\n",
       " './ICDAR/ICDAR2019_cTDaR/training/TRACKB1/ground_truth\\\\cTDaR_t00145.jpg',\n",
       " './ICDAR/ICDAR2019_cTDaR/training/TRACKB1/ground_truth\\\\cTDaR_t00167.jpg',\n",
       " './ICDAR/ICDAR2019_cTDaR/training/TRACKB1/ground_truth\\\\cTDaR_t00168.jpg',\n",
       " './ICDAR/ICDAR2019_cTDaR/training/TRACKB1/ground_truth\\\\cTDaR_t00169.jpg',\n",
       " './ICDAR/ICDAR2019_cTDaR/training/TRACKB1/ground_truth\\\\cTDaR_t00170.jpg',\n",
       " './ICDAR/ICDAR2019_cTDaR/training/TRACKB1/ground_truth\\\\cTDaR_t00171.jpg',\n",
       " './ICDAR/ICDAR2019_cTDaR/training/TRACKB1/ground_truth\\\\cTDaR_t00172.jpg',\n",
       " './ICDAR/ICDAR2019_cTDaR/training/TRACKB1/ground_truth\\\\cTDaR_t00173.jpg',\n",
       " './ICDAR/ICDAR2019_cTDaR/training/TRACKB1/ground_truth\\\\cTDaR_t00174.jpg',\n",
       " './ICDAR/ICDAR2019_cTDaR/training/TRACKB1/ground_truth\\\\cTDaR_t00177.jpg',\n",
       " './ICDAR/ICDAR2019_cTDaR/training/TRACKB1/ground_truth\\\\cTDaR_t00178.jpg',\n",
       " './ICDAR/ICDAR2019_cTDaR/training/TRACKB1/ground_truth\\\\cTDaR_t00179.jpg',\n",
       " './ICDAR/ICDAR2019_cTDaR/training/TRACKB1/ground_truth\\\\cTDaR_t00180.jpg',\n",
       " './ICDAR/ICDAR2019_cTDaR/training/TRACKB1/ground_truth\\\\cTDaR_t00181.jpg',\n",
       " './ICDAR/ICDAR2019_cTDaR/training/TRACKB1/ground_truth\\\\cTDaR_t00182.jpg',\n",
       " './ICDAR/ICDAR2019_cTDaR/training/TRACKB1/ground_truth\\\\cTDaR_t00183.jpg',\n",
       " './ICDAR/ICDAR2019_cTDaR/training/TRACKB1/ground_truth\\\\cTDaR_t00184.jpg',\n",
       " './ICDAR/ICDAR2019_cTDaR/training/TRACKB1/ground_truth\\\\cTDaR_t00185.jpg',\n",
       " './ICDAR/ICDAR2019_cTDaR/training/TRACKB1/ground_truth\\\\cTDaR_t00186.jpg',\n",
       " './ICDAR/ICDAR2019_cTDaR/training/TRACKB1/ground_truth\\\\cTDaR_t00187.jpg',\n",
       " './ICDAR/ICDAR2019_cTDaR/training/TRACKB1/ground_truth\\\\cTDaR_t00188.jpg',\n",
       " './ICDAR/ICDAR2019_cTDaR/training/TRACKB1/ground_truth\\\\cTDaR_t00189.jpg',\n",
       " './ICDAR/ICDAR2019_cTDaR/training/TRACKB1/ground_truth\\\\cTDaR_t00190.jpg',\n",
       " './ICDAR/ICDAR2019_cTDaR/training/TRACKB1/ground_truth\\\\cTDaR_t00191.jpg',\n",
       " './ICDAR/ICDAR2019_cTDaR/training/TRACKB1/ground_truth\\\\cTDaR_t00192.jpg',\n",
       " './ICDAR/ICDAR2019_cTDaR/training/TRACKB1/ground_truth\\\\cTDaR_t00198.jpg',\n",
       " './ICDAR/ICDAR2019_cTDaR/training/TRACKB1/ground_truth\\\\cTDaR_t00199.JPG',\n",
       " './ICDAR/ICDAR2019_cTDaR/training/TRACKB1/ground_truth\\\\cTDaR_t00200.JPG',\n",
       " './ICDAR/ICDAR2019_cTDaR/training/TRACKB1/ground_truth\\\\cTDaR_t00201.JPG',\n",
       " './ICDAR/ICDAR2019_cTDaR/training/TRACKB1/ground_truth\\\\cTDaR_t00202.JPG',\n",
       " './ICDAR/ICDAR2019_cTDaR/training/TRACKB1/ground_truth\\\\cTDaR_t00203.JPG',\n",
       " './ICDAR/ICDAR2019_cTDaR/training/TRACKB1/ground_truth\\\\cTDaR_t00204.JPG',\n",
       " './ICDAR/ICDAR2019_cTDaR/training/TRACKB1/ground_truth\\\\cTDaR_t00205.JPG',\n",
       " './ICDAR/ICDAR2019_cTDaR/training/TRACKB1/ground_truth\\\\cTDaR_t00206.JPG',\n",
       " './ICDAR/ICDAR2019_cTDaR/training/TRACKB1/ground_truth\\\\cTDaR_t00207.JPG',\n",
       " './ICDAR/ICDAR2019_cTDaR/training/TRACKB1/ground_truth\\\\cTDaR_t00208.JPG',\n",
       " './ICDAR/ICDAR2019_cTDaR/training/TRACKB1/ground_truth\\\\cTDaR_t00209.JPG',\n",
       " './ICDAR/ICDAR2019_cTDaR/training/TRACKB1/ground_truth\\\\cTDaR_t00228.jpg',\n",
       " './ICDAR/ICDAR2019_cTDaR/training/TRACKB1/ground_truth\\\\cTDaR_t00229.jpg',\n",
       " './ICDAR/ICDAR2019_cTDaR/training/TRACKB1/ground_truth\\\\cTDaR_t00230.jpg',\n",
       " './ICDAR/ICDAR2019_cTDaR/training/TRACKB1/ground_truth\\\\cTDaR_t00231.jpg',\n",
       " './ICDAR/ICDAR2019_cTDaR/training/TRACKB1/ground_truth\\\\cTDaR_t00232.jpg',\n",
       " './ICDAR/ICDAR2019_cTDaR/training/TRACKB1/ground_truth\\\\cTDaR_t00233.jpg',\n",
       " './ICDAR/ICDAR2019_cTDaR/training/TRACKB1/ground_truth\\\\cTDaR_t00234.jpg',\n",
       " './ICDAR/ICDAR2019_cTDaR/training/TRACKB1/ground_truth\\\\cTDaR_t00235.jpg',\n",
       " './ICDAR/ICDAR2019_cTDaR/training/TRACKB1/ground_truth\\\\cTDaR_t00236.jpg',\n",
       " './ICDAR/ICDAR2019_cTDaR/training/TRACKB1/ground_truth\\\\cTDaR_t00237.jpg',\n",
       " './ICDAR/ICDAR2019_cTDaR/training/TRACKB1/ground_truth\\\\cTDaR_t00238.jpg',\n",
       " './ICDAR/ICDAR2019_cTDaR/training/TRACKB1/ground_truth\\\\cTDaR_t00239.jpg',\n",
       " './ICDAR/ICDAR2019_cTDaR/training/TRACKB1/ground_truth\\\\cTDaR_t00240.jpg',\n",
       " './ICDAR/ICDAR2019_cTDaR/training/TRACKB1/ground_truth\\\\cTDaR_t00241.jpg',\n",
       " './ICDAR/ICDAR2019_cTDaR/training/TRACKB1/ground_truth\\\\cTDaR_t00242.jpg',\n",
       " './ICDAR/ICDAR2019_cTDaR/training/TRACKB1/ground_truth\\\\cTDaR_t00243.jpg',\n",
       " './ICDAR/ICDAR2019_cTDaR/training/TRACKB1/ground_truth\\\\cTDaR_t00244.jpg',\n",
       " './ICDAR/ICDAR2019_cTDaR/training/TRACKB1/ground_truth\\\\cTDaR_t00245.jpg',\n",
       " './ICDAR/ICDAR2019_cTDaR/training/TRACKB1/ground_truth\\\\cTDaR_t00246.jpg',\n",
       " './ICDAR/ICDAR2019_cTDaR/training/TRACKB1/ground_truth\\\\cTDaR_t00247.jpg',\n",
       " './ICDAR/ICDAR2019_cTDaR/training/TRACKB1/ground_truth\\\\cTDaR_t00254.jpg',\n",
       " './ICDAR/ICDAR2019_cTDaR/training/TRACKB1/ground_truth\\\\cTDaR_t00255.jpg',\n",
       " './ICDAR/ICDAR2019_cTDaR/training/TRACKB1/ground_truth\\\\cTDaR_t00256.jpg',\n",
       " './ICDAR/ICDAR2019_cTDaR/training/TRACKB1/ground_truth\\\\cTDaR_t00257.jpg',\n",
       " './ICDAR/ICDAR2019_cTDaR/training/TRACKB1/ground_truth\\\\cTDaR_t00258.jpg',\n",
       " './ICDAR/ICDAR2019_cTDaR/training/TRACKB1/ground_truth\\\\cTDaR_t00259.jpg',\n",
       " './ICDAR/ICDAR2019_cTDaR/training/TRACKB1/ground_truth\\\\cTDaR_t00260.jpg',\n",
       " './ICDAR/ICDAR2019_cTDaR/training/TRACKB1/ground_truth\\\\cTDaR_t00261.jpg',\n",
       " './ICDAR/ICDAR2019_cTDaR/training/TRACKB1/ground_truth\\\\cTDaR_t00262.jpg',\n",
       " './ICDAR/ICDAR2019_cTDaR/training/TRACKB1/ground_truth\\\\cTDaR_t00263.jpg',\n",
       " './ICDAR/ICDAR2019_cTDaR/training/TRACKB1/ground_truth\\\\cTDaR_t00264.jpg',\n",
       " './ICDAR/ICDAR2019_cTDaR/training/TRACKB1/ground_truth\\\\cTDaR_t00265.jpg',\n",
       " './ICDAR/ICDAR2019_cTDaR/training/TRACKB1/ground_truth\\\\cTDaR_t00266.jpg',\n",
       " './ICDAR/ICDAR2019_cTDaR/training/TRACKB1/ground_truth\\\\cTDaR_t00267.jpg',\n",
       " './ICDAR/ICDAR2019_cTDaR/training/TRACKB1/ground_truth\\\\cTDaR_t00268.jpg',\n",
       " './ICDAR/ICDAR2019_cTDaR/training/TRACKB1/ground_truth\\\\cTDaR_t00269.jpg',\n",
       " './ICDAR/ICDAR2019_cTDaR/training/TRACKB1/ground_truth\\\\cTDaR_t00270.jpg',\n",
       " './ICDAR/ICDAR2019_cTDaR/training/TRACKB1/ground_truth\\\\cTDaR_t00271.jpg',\n",
       " './ICDAR/ICDAR2019_cTDaR/training/TRACKB1/ground_truth\\\\cTDaR_t00272.jpg',\n",
       " './ICDAR/ICDAR2019_cTDaR/training/TRACKB1/ground_truth\\\\cTDaR_t00273.jpg',\n",
       " './ICDAR/ICDAR2019_cTDaR/training/TRACKB1/ground_truth\\\\cTDaR_t00274.jpg',\n",
       " './ICDAR/ICDAR2019_cTDaR/training/TRACKB1/ground_truth\\\\cTDaR_t00275.jpg',\n",
       " './ICDAR/ICDAR2019_cTDaR/training/TRACKB1/ground_truth\\\\cTDaR_t00276.jpg',\n",
       " './ICDAR/ICDAR2019_cTDaR/training/TRACKB1/ground_truth\\\\cTDaR_t00277.jpg',\n",
       " './ICDAR/ICDAR2019_cTDaR/training/TRACKB1/ground_truth\\\\cTDaR_t00278.jpg',\n",
       " './ICDAR/ICDAR2019_cTDaR/training/TRACKB1/ground_truth\\\\cTDaR_t00279.jpg',\n",
       " './ICDAR/ICDAR2019_cTDaR/training/TRACKB1/ground_truth\\\\cTDaR_t00280.jpg',\n",
       " './ICDAR/ICDAR2019_cTDaR/training/TRACKB1/ground_truth\\\\cTDaR_t00281.jpg',\n",
       " './ICDAR/ICDAR2019_cTDaR/training/TRACKB1/ground_truth\\\\cTDaR_t00282.jpg',\n",
       " './ICDAR/ICDAR2019_cTDaR/training/TRACKB1/ground_truth\\\\cTDaR_t00283.jpg',\n",
       " './ICDAR/ICDAR2019_cTDaR/training/TRACKB1/ground_truth\\\\cTDaR_t00284.jpg',\n",
       " './ICDAR/ICDAR2019_cTDaR/training/TRACKB1/ground_truth\\\\cTDaR_t00304.jpg',\n",
       " './ICDAR/ICDAR2019_cTDaR/training/TRACKB1/ground_truth\\\\cTDaR_t00305.jpg',\n",
       " './ICDAR/ICDAR2019_cTDaR/training/TRACKB1/ground_truth\\\\cTDaR_t00306.jpg',\n",
       " './ICDAR/ICDAR2019_cTDaR/training/TRACKB1/ground_truth\\\\cTDaR_t00307.jpg',\n",
       " './ICDAR/ICDAR2019_cTDaR/training/TRACKB1/ground_truth\\\\cTDaR_t00308.jpg',\n",
       " './ICDAR/ICDAR2019_cTDaR/training/TRACKB1/ground_truth\\\\cTDaR_t00309.jpg',\n",
       " './ICDAR/ICDAR2019_cTDaR/training/TRACKB1/ground_truth\\\\cTDaR_t00310.jpg',\n",
       " './ICDAR/ICDAR2019_cTDaR/training/TRACKB1/ground_truth\\\\cTDaR_t00311.jpg',\n",
       " './ICDAR/ICDAR2019_cTDaR/training/TRACKB1/ground_truth\\\\cTDaR_t00312.jpg',\n",
       " './ICDAR/ICDAR2019_cTDaR/training/TRACKB1/ground_truth\\\\cTDaR_t00313.jpg',\n",
       " './ICDAR/ICDAR2019_cTDaR/training/TRACKB1/ground_truth\\\\cTDaR_t00314.jpg',\n",
       " './ICDAR/ICDAR2019_cTDaR/training/TRACKB1/ground_truth\\\\cTDaR_t00315.jpg',\n",
       " './ICDAR/ICDAR2019_cTDaR/training/TRACKB1/ground_truth\\\\cTDaR_t00316.jpg',\n",
       " './ICDAR/ICDAR2019_cTDaR/training/TRACKB1/ground_truth\\\\cTDaR_t00317.jpg',\n",
       " './ICDAR/ICDAR2019_cTDaR/training/TRACKB1/ground_truth\\\\cTDaR_t00318.jpg',\n",
       " './ICDAR/ICDAR2019_cTDaR/training/TRACKB1/ground_truth\\\\cTDaR_t00319.jpg',\n",
       " './ICDAR/ICDAR2019_cTDaR/training/TRACKB1/ground_truth\\\\cTDaR_t00320.jpg',\n",
       " './ICDAR/ICDAR2019_cTDaR/training/TRACKB1/ground_truth\\\\cTDaR_t00321.jpg',\n",
       " './ICDAR/ICDAR2019_cTDaR/training/TRACKB1/ground_truth\\\\cTDaR_t00343.jpg',\n",
       " './ICDAR/ICDAR2019_cTDaR/training/TRACKB1/ground_truth\\\\cTDaR_t00344.jpg',\n",
       " './ICDAR/ICDAR2019_cTDaR/training/TRACKB1/ground_truth\\\\cTDaR_t00345.jpg',\n",
       " './ICDAR/ICDAR2019_cTDaR/training/TRACKB1/ground_truth\\\\cTDaR_t00346.jpg',\n",
       " './ICDAR/ICDAR2019_cTDaR/training/TRACKB1/ground_truth\\\\cTDaR_t00347.jpg',\n",
       " './ICDAR/ICDAR2019_cTDaR/training/TRACKB1/ground_truth\\\\cTDaR_t00348.jpg',\n",
       " './ICDAR/ICDAR2019_cTDaR/training/TRACKB1/ground_truth\\\\cTDaR_t00349.jpg',\n",
       " './ICDAR/ICDAR2019_cTDaR/training/TRACKB1/ground_truth\\\\cTDaR_t00350.jpg',\n",
       " './ICDAR/ICDAR2019_cTDaR/training/TRACKB1/ground_truth\\\\cTDaR_t00351.jpg',\n",
       " './ICDAR/ICDAR2019_cTDaR/training/TRACKB1/ground_truth\\\\cTDaR_t00352.jpg',\n",
       " './ICDAR/ICDAR2019_cTDaR/training/TRACKB1/ground_truth\\\\cTDaR_t00353.jpg',\n",
       " './ICDAR/ICDAR2019_cTDaR/training/TRACKB1/ground_truth\\\\cTDaR_t00354.jpg',\n",
       " './ICDAR/ICDAR2019_cTDaR/training/TRACKB1/ground_truth\\\\cTDaR_t00355.jpg',\n",
       " './ICDAR/ICDAR2019_cTDaR/training/TRACKB1/ground_truth\\\\cTDaR_t00356.jpg',\n",
       " './ICDAR/ICDAR2019_cTDaR/training/TRACKB1/ground_truth\\\\cTDaR_t00357.jpg',\n",
       " './ICDAR/ICDAR2019_cTDaR/training/TRACKB1/ground_truth\\\\cTDaR_t00358.jpg',\n",
       " './ICDAR/ICDAR2019_cTDaR/training/TRACKB1/ground_truth\\\\cTDaR_t00359.jpg',\n",
       " './ICDAR/ICDAR2019_cTDaR/training/TRACKB1/ground_truth\\\\cTDaR_t00360.jpg',\n",
       " './ICDAR/ICDAR2019_cTDaR/training/TRACKB1/ground_truth\\\\cTDaR_t00361.jpg',\n",
       " './ICDAR/ICDAR2019_cTDaR/training/TRACKB1/ground_truth\\\\cTDaR_t00362.jpg',\n",
       " './ICDAR/ICDAR2019_cTDaR/training/TRACKB1/ground_truth\\\\cTDaR_t00363.jpg',\n",
       " './ICDAR/ICDAR2019_cTDaR/training/TRACKB1/ground_truth\\\\cTDaR_t00364.jpg',\n",
       " './ICDAR/ICDAR2019_cTDaR/training/TRACKB1/ground_truth\\\\cTDaR_t00365.jpg',\n",
       " './ICDAR/ICDAR2019_cTDaR/training/TRACKB1/ground_truth\\\\cTDaR_t00366.jpg',\n",
       " './ICDAR/ICDAR2019_cTDaR/training/TRACKB1/ground_truth\\\\cTDaR_t00367.jpg',\n",
       " './ICDAR/ICDAR2019_cTDaR/training/TRACKB1/ground_truth\\\\cTDaR_t00368.jpg',\n",
       " './ICDAR/ICDAR2019_cTDaR/training/TRACKB1/ground_truth\\\\cTDaR_t00369.jpg',\n",
       " './ICDAR/ICDAR2019_cTDaR/training/TRACKB1/ground_truth\\\\cTDaR_t00370.jpg',\n",
       " './ICDAR/ICDAR2019_cTDaR/training/TRACKB1/ground_truth\\\\cTDaR_t00371.jpg',\n",
       " './ICDAR/ICDAR2019_cTDaR/training/TRACKB1/ground_truth\\\\cTDaR_t00372.jpg',\n",
       " './ICDAR/ICDAR2019_cTDaR/training/TRACKB1/ground_truth\\\\cTDaR_t00373.jpg',\n",
       " './ICDAR/ICDAR2019_cTDaR/training/TRACKB1/ground_truth\\\\cTDaR_t00388.jpg',\n",
       " './ICDAR/ICDAR2019_cTDaR/training/TRACKB1/ground_truth\\\\cTDaR_t00389.jpg',\n",
       " './ICDAR/ICDAR2019_cTDaR/training/TRACKB1/ground_truth\\\\cTDaR_t00390.jpg',\n",
       " './ICDAR/ICDAR2019_cTDaR/training/TRACKB1/ground_truth\\\\cTDaR_t00391.jpg',\n",
       " './ICDAR/ICDAR2019_cTDaR/training/TRACKB1/ground_truth\\\\cTDaR_t00392.jpg',\n",
       " './ICDAR/ICDAR2019_cTDaR/training/TRACKB1/ground_truth\\\\cTDaR_t00393.jpg',\n",
       " './ICDAR/ICDAR2019_cTDaR/training/TRACKB1/ground_truth\\\\cTDaR_t00394.jpg',\n",
       " './ICDAR/ICDAR2019_cTDaR/training/TRACKB1/ground_truth\\\\cTDaR_t00395.jpg',\n",
       " './ICDAR/ICDAR2019_cTDaR/training/TRACKB1/ground_truth\\\\cTDaR_t00396.jpg',\n",
       " './ICDAR/ICDAR2019_cTDaR/training/TRACKB1/ground_truth\\\\cTDaR_t00397.jpg',\n",
       " './ICDAR/ICDAR2019_cTDaR/training/TRACKB1/ground_truth\\\\cTDaR_t00398.jpg',\n",
       " './ICDAR/ICDAR2019_cTDaR/training/TRACKB1/ground_truth\\\\cTDaR_t00403.jpg',\n",
       " './ICDAR/ICDAR2019_cTDaR/training/TRACKB1/ground_truth\\\\cTDaR_t00404.jpg',\n",
       " './ICDAR/ICDAR2019_cTDaR/training/TRACKB1/ground_truth\\\\cTDaR_t00405.jpg',\n",
       " './ICDAR/ICDAR2019_cTDaR/training/TRACKB1/ground_truth\\\\cTDaR_t00406.jpg',\n",
       " './ICDAR/ICDAR2019_cTDaR/training/TRACKB1/ground_truth\\\\cTDaR_t00407.jpg',\n",
       " './ICDAR/ICDAR2019_cTDaR/training/TRACKB1/ground_truth\\\\cTDaR_t00408.jpg',\n",
       " './ICDAR/ICDAR2019_cTDaR/training/TRACKB1/ground_truth\\\\cTDaR_t00409.jpg',\n",
       " './ICDAR/ICDAR2019_cTDaR/training/TRACKB1/ground_truth\\\\cTDaR_t00410.jpg',\n",
       " './ICDAR/ICDAR2019_cTDaR/training/TRACKB1/ground_truth\\\\cTDaR_t00411.jpg',\n",
       " './ICDAR/ICDAR2019_cTDaR/training/TRACKB1/ground_truth\\\\cTDaR_t00412.jpg',\n",
       " './ICDAR/ICDAR2019_cTDaR/training/TRACKB1/ground_truth\\\\cTDaR_t00413.jpg',\n",
       " './ICDAR/ICDAR2019_cTDaR/training/TRACKB1/ground_truth\\\\cTDaR_t00414.jpg',\n",
       " './ICDAR/ICDAR2019_cTDaR/training/TRACKB1/ground_truth\\\\cTDaR_t00415.jpg',\n",
       " './ICDAR/ICDAR2019_cTDaR/training/TRACKB1/ground_truth\\\\cTDaR_t00416.jpg',\n",
       " './ICDAR/ICDAR2019_cTDaR/training/TRACKB1/ground_truth\\\\cTDaR_t00417.jpg',\n",
       " './ICDAR/ICDAR2019_cTDaR/training/TRACKB1/ground_truth\\\\cTDaR_t00418.jpg',\n",
       " './ICDAR/ICDAR2019_cTDaR/training/TRACKB1/ground_truth\\\\cTDaR_t00419.jpg',\n",
       " './ICDAR/ICDAR2019_cTDaR/training/TRACKB1/ground_truth\\\\cTDaR_t00420.jpg',\n",
       " './ICDAR/ICDAR2019_cTDaR/training/TRACKB1/ground_truth\\\\cTDaR_t00421.jpg',\n",
       " './ICDAR/ICDAR2019_cTDaR/training/TRACKB1/ground_truth\\\\cTDaR_t00422.jpg',\n",
       " './ICDAR/ICDAR2019_cTDaR/training/TRACKB1/ground_truth\\\\cTDaR_t00423.jpg',\n",
       " './ICDAR/ICDAR2019_cTDaR/training/TRACKB1/ground_truth\\\\cTDaR_t00424.jpg',\n",
       " './ICDAR/ICDAR2019_cTDaR/training/TRACKB1/ground_truth\\\\cTDaR_t00425.jpg',\n",
       " './ICDAR/ICDAR2019_cTDaR/training/TRACKB1/ground_truth\\\\cTDaR_t00426.jpg',\n",
       " './ICDAR/ICDAR2019_cTDaR/training/TRACKB1/ground_truth\\\\cTDaR_t00427.jpg',\n",
       " './ICDAR/ICDAR2019_cTDaR/training/TRACKB1/ground_truth\\\\cTDaR_t00428.jpg',\n",
       " './ICDAR/ICDAR2019_cTDaR/training/TRACKB1/ground_truth\\\\cTDaR_t00429.jpg',\n",
       " './ICDAR/ICDAR2019_cTDaR/training/TRACKB1/ground_truth\\\\cTDaR_t00430.jpg',\n",
       " './ICDAR/ICDAR2019_cTDaR/training/TRACKB1/ground_truth\\\\cTDaR_t00431.jpg',\n",
       " './ICDAR/ICDAR2019_cTDaR/training/TRACKB1/ground_truth\\\\cTDaR_t00432.jpg',\n",
       " './ICDAR/ICDAR2019_cTDaR/training/TRACKB1/ground_truth\\\\cTDaR_t00433.jpg',\n",
       " './ICDAR/ICDAR2019_cTDaR/training/TRACKB1/ground_truth\\\\cTDaR_t00434.jpg',\n",
       " './ICDAR/ICDAR2019_cTDaR/training/TRACKB1/ground_truth\\\\cTDaR_t00435.jpg',\n",
       " './ICDAR/ICDAR2019_cTDaR/training/TRACKB1/ground_truth\\\\cTDaR_t00436.jpg',\n",
       " './ICDAR/ICDAR2019_cTDaR/training/TRACKB1/ground_truth\\\\cTDaR_t00437.jpg',\n",
       " './ICDAR/ICDAR2019_cTDaR/training/TRACKB1/ground_truth\\\\cTDaR_t00438.jpg',\n",
       " './ICDAR/ICDAR2019_cTDaR/training/TRACKB1/ground_truth\\\\cTDaR_t00439.jpg',\n",
       " './ICDAR/ICDAR2019_cTDaR/training/TRACKB1/ground_truth\\\\cTDaR_t00440.jpg',\n",
       " './ICDAR/ICDAR2019_cTDaR/training/TRACKB1/ground_truth\\\\cTDaR_t00441.jpg',\n",
       " './ICDAR/ICDAR2019_cTDaR/training/TRACKB1/ground_truth\\\\cTDaR_t00442.jpg',\n",
       " './ICDAR/ICDAR2019_cTDaR/training/TRACKB1/ground_truth\\\\cTDaR_t00443.jpg',\n",
       " './ICDAR/ICDAR2019_cTDaR/training/TRACKB1/ground_truth\\\\cTDaR_t00448.JPG',\n",
       " './ICDAR/ICDAR2019_cTDaR/training/TRACKB1/ground_truth\\\\cTDaR_t00449.JPG',\n",
       " './ICDAR/ICDAR2019_cTDaR/training/TRACKB1/ground_truth\\\\cTDaR_t00450.JPG',\n",
       " './ICDAR/ICDAR2019_cTDaR/training/TRACKB1/ground_truth\\\\cTDaR_t00451.JPG',\n",
       " './ICDAR/ICDAR2019_cTDaR/training/TRACKB1/ground_truth\\\\cTDaR_t00452.JPG',\n",
       " './ICDAR/ICDAR2019_cTDaR/training/TRACKB1/ground_truth\\\\cTDaR_t00453.JPG',\n",
       " './ICDAR/ICDAR2019_cTDaR/training/TRACKB1/ground_truth\\\\cTDaR_t00454.JPG',\n",
       " './ICDAR/ICDAR2019_cTDaR/training/TRACKB1/ground_truth\\\\cTDaR_t00455.JPG',\n",
       " './ICDAR/ICDAR2019_cTDaR/training/TRACKB1/ground_truth\\\\cTDaR_t00456.JPG',\n",
       " './ICDAR/ICDAR2019_cTDaR/training/TRACKB1/ground_truth\\\\cTDaR_t00457.JPG',\n",
       " './ICDAR/ICDAR2019_cTDaR/training/TRACKB1/ground_truth\\\\cTDaR_t00458.JPG',\n",
       " './ICDAR/ICDAR2019_cTDaR/training/TRACKB1/ground_truth\\\\cTDaR_t00459.JPG',\n",
       " './ICDAR/ICDAR2019_cTDaR/training/TRACKB1/ground_truth\\\\cTDaR_t00460.JPG',\n",
       " './ICDAR/ICDAR2019_cTDaR/training/TRACKB1/ground_truth\\\\cTDaR_t00461.JPG',\n",
       " './ICDAR/ICDAR2019_cTDaR/training/TRACKB1/ground_truth\\\\cTDaR_t00462.JPG',\n",
       " './ICDAR/ICDAR2019_cTDaR/training/TRACKB1/ground_truth\\\\cTDaR_t00463.JPG',\n",
       " './ICDAR/ICDAR2019_cTDaR/training/TRACKB1/ground_truth\\\\cTDaR_t00464.JPG',\n",
       " './ICDAR/ICDAR2019_cTDaR/training/TRACKB1/ground_truth\\\\cTDaR_t00465.JPG',\n",
       " './ICDAR/ICDAR2019_cTDaR/training/TRACKB1/ground_truth\\\\cTDaR_t00466.JPG',\n",
       " './ICDAR/ICDAR2019_cTDaR/training/TRACKB1/ground_truth\\\\cTDaR_t00467.JPG',\n",
       " './ICDAR/ICDAR2019_cTDaR/training/TRACKB1/ground_truth\\\\cTDaR_t00468.JPG',\n",
       " './ICDAR/ICDAR2019_cTDaR/training/TRACKB1/ground_truth\\\\cTDaR_t00469.JPG',\n",
       " './ICDAR/ICDAR2019_cTDaR/training/TRACKB1/ground_truth\\\\cTDaR_t00470.JPG',\n",
       " './ICDAR/ICDAR2019_cTDaR/training/TRACKB1/ground_truth\\\\cTDaR_t00471.JPG',\n",
       " './ICDAR/ICDAR2019_cTDaR/training/TRACKB1/ground_truth\\\\cTDaR_t00472.JPG',\n",
       " './ICDAR/ICDAR2019_cTDaR/training/TRACKB1/ground_truth\\\\cTDaR_t00473.JPG',\n",
       " './ICDAR/ICDAR2019_cTDaR/training/TRACKB1/ground_truth\\\\cTDaR_t00474.JPG',\n",
       " './ICDAR/ICDAR2019_cTDaR/training/TRACKB1/ground_truth\\\\cTDaR_t00475.JPG',\n",
       " './ICDAR/ICDAR2019_cTDaR/training/TRACKB1/ground_truth\\\\cTDaR_t00476.JPG',\n",
       " './ICDAR/ICDAR2019_cTDaR/training/TRACKB1/ground_truth\\\\cTDaR_t00501.jpg',\n",
       " './ICDAR/ICDAR2019_cTDaR/training/TRACKB1/ground_truth\\\\cTDaR_t00502.jpg',\n",
       " './ICDAR/ICDAR2019_cTDaR/training/TRACKB1/ground_truth\\\\cTDaR_t00503.jpg',\n",
       " './ICDAR/ICDAR2019_cTDaR/training/TRACKB1/ground_truth\\\\cTDaR_t00504.jpg',\n",
       " './ICDAR/ICDAR2019_cTDaR/training/TRACKB1/ground_truth\\\\cTDaR_t00505.jpg',\n",
       " './ICDAR/ICDAR2019_cTDaR/training/TRACKB1/ground_truth\\\\cTDaR_t00506.jpg',\n",
       " './ICDAR/ICDAR2019_cTDaR/training/TRACKB1/ground_truth\\\\cTDaR_t00507.jpg',\n",
       " './ICDAR/ICDAR2019_cTDaR/training/TRACKB1/ground_truth\\\\cTDaR_t00508.jpg',\n",
       " './ICDAR/ICDAR2019_cTDaR/training/TRACKB1/ground_truth\\\\cTDaR_t00509.jpg',\n",
       " './ICDAR/ICDAR2019_cTDaR/training/TRACKB1/ground_truth\\\\cTDaR_t00510.jpg',\n",
       " './ICDAR/ICDAR2019_cTDaR/training/TRACKB1/ground_truth\\\\cTDaR_t00511.jpg',\n",
       " './ICDAR/ICDAR2019_cTDaR/training/TRACKB1/ground_truth\\\\cTDaR_t00512.jpg',\n",
       " './ICDAR/ICDAR2019_cTDaR/training/TRACKB1/ground_truth\\\\cTDaR_t00513.jpg',\n",
       " './ICDAR/ICDAR2019_cTDaR/training/TRACKB1/ground_truth\\\\cTDaR_t00514.jpg',\n",
       " './ICDAR/ICDAR2019_cTDaR/training/TRACKB1/ground_truth\\\\cTDaR_t00515.jpg',\n",
       " './ICDAR/ICDAR2019_cTDaR/training/TRACKB1/ground_truth\\\\cTDaR_t00516.jpg',\n",
       " './ICDAR/ICDAR2019_cTDaR/training/TRACKB1/ground_truth\\\\cTDaR_t00517.jpg',\n",
       " './ICDAR/ICDAR2019_cTDaR/training/TRACKB1/ground_truth\\\\cTDaR_t00518.jpg',\n",
       " './ICDAR/ICDAR2019_cTDaR/training/TRACKB1/ground_truth\\\\cTDaR_t00519.jpg',\n",
       " './ICDAR/ICDAR2019_cTDaR/training/TRACKB1/ground_truth\\\\cTDaR_t00520.jpg',\n",
       " './ICDAR/ICDAR2019_cTDaR/training/TRACKB1/ground_truth\\\\cTDaR_t00521.jpg',\n",
       " './ICDAR/ICDAR2019_cTDaR/training/TRACKB1/ground_truth\\\\cTDaR_t00522.jpg',\n",
       " './ICDAR/ICDAR2019_cTDaR/training/TRACKB1/ground_truth\\\\cTDaR_t00530.jpg',\n",
       " './ICDAR/ICDAR2019_cTDaR/training/TRACKB1/ground_truth\\\\cTDaR_t00531.jpg',\n",
       " './ICDAR/ICDAR2019_cTDaR/training/TRACKB1/ground_truth\\\\cTDaR_t00532.jpg',\n",
       " './ICDAR/ICDAR2019_cTDaR/training/TRACKB1/ground_truth\\\\cTDaR_t00533.jpg',\n",
       " './ICDAR/ICDAR2019_cTDaR/training/TRACKB1/ground_truth\\\\cTDaR_t00534.jpg',\n",
       " './ICDAR/ICDAR2019_cTDaR/training/TRACKB1/ground_truth\\\\cTDaR_t00535.jpg',\n",
       " './ICDAR/ICDAR2019_cTDaR/training/TRACKB1/ground_truth\\\\cTDaR_t00536.jpg',\n",
       " './ICDAR/ICDAR2019_cTDaR/training/TRACKB1/ground_truth\\\\cTDaR_t00537.jpg',\n",
       " './ICDAR/ICDAR2019_cTDaR/training/TRACKB1/ground_truth\\\\cTDaR_t00538.jpg',\n",
       " './ICDAR/ICDAR2019_cTDaR/training/TRACKB1/ground_truth\\\\cTDaR_t00539.jpg',\n",
       " './ICDAR/ICDAR2019_cTDaR/training/TRACKB1/ground_truth\\\\cTDaR_t00540.jpg',\n",
       " './ICDAR/ICDAR2019_cTDaR/training/TRACKB1/ground_truth\\\\cTDaR_t00541.jpg',\n",
       " './ICDAR/ICDAR2019_cTDaR/training/TRACKB1/ground_truth\\\\cTDaR_t00542.jpg',\n",
       " './ICDAR/ICDAR2019_cTDaR/training/TRACKB1/ground_truth\\\\cTDaR_t00543.jpg',\n",
       " './ICDAR/ICDAR2019_cTDaR/training/TRACKB1/ground_truth\\\\cTDaR_t00544.jpg',\n",
       " './ICDAR/ICDAR2019_cTDaR/training/TRACKB1/ground_truth\\\\cTDaR_t00545.jpg',\n",
       " './ICDAR/ICDAR2019_cTDaR/training/TRACKB1/ground_truth\\\\cTDaR_t00546.jpg',\n",
       " './ICDAR/ICDAR2019_cTDaR/training/TRACKB1/ground_truth\\\\cTDaR_t00547.jpg',\n",
       " './ICDAR/ICDAR2019_cTDaR/training/TRACKB1/ground_truth\\\\cTDaR_t00548.jpg',\n",
       " './ICDAR/ICDAR2019_cTDaR/training/TRACKB1/ground_truth\\\\cTDaR_t00549.jpg',\n",
       " './ICDAR/ICDAR2019_cTDaR/training/TRACKB1/ground_truth\\\\cTDaR_t00550.jpg',\n",
       " './ICDAR/ICDAR2019_cTDaR/training/TRACKB1/ground_truth\\\\cTDaR_t00551.jpg',\n",
       " './ICDAR/ICDAR2019_cTDaR/training/TRACKB1/ground_truth\\\\cTDaR_t00552.jpg',\n",
       " './ICDAR/ICDAR2019_cTDaR/training/TRACKB1/ground_truth\\\\cTDaR_t00553.jpg',\n",
       " './ICDAR/ICDAR2019_cTDaR/training/TRACKB1/ground_truth\\\\cTDaR_t00554.jpg',\n",
       " './ICDAR/ICDAR2019_cTDaR/training/TRACKB1/ground_truth\\\\cTDaR_t00555.jpg',\n",
       " './ICDAR/ICDAR2019_cTDaR/training/TRACKB1/ground_truth\\\\cTDaR_t00556.jpg',\n",
       " './ICDAR/ICDAR2019_cTDaR/training/TRACKB1/ground_truth\\\\cTDaR_t00557.jpg',\n",
       " './ICDAR/ICDAR2019_cTDaR/training/TRACKB1/ground_truth\\\\cTDaR_t00558.jpg',\n",
       " './ICDAR/ICDAR2019_cTDaR/training/TRACKB1/ground_truth\\\\cTDaR_t00559.jpg',\n",
       " './ICDAR/ICDAR2019_cTDaR/training/TRACKB1/ground_truth\\\\cTDaR_t00560.jpg',\n",
       " './ICDAR/ICDAR2019_cTDaR/training/TRACKB1/ground_truth\\\\cTDaR_t00561.jpg',\n",
       " './ICDAR/ICDAR2019_cTDaR/training/TRACKB1/ground_truth\\\\cTDaR_t00562.jpg',\n",
       " './ICDAR/ICDAR2019_cTDaR/training/TRACKB1/ground_truth\\\\cTDaR_t00563.jpg',\n",
       " './ICDAR/ICDAR2019_cTDaR/training/TRACKB1/ground_truth\\\\cTDaR_t00564.jpg',\n",
       " './ICDAR/ICDAR2019_cTDaR/training/TRACKB1/ground_truth\\\\cTDaR_t00565.jpg',\n",
       " './ICDAR/ICDAR2019_cTDaR/training/TRACKB1/ground_truth\\\\cTDaR_t00566.jpg',\n",
       " './ICDAR/ICDAR2019_cTDaR/training/TRACKB1/ground_truth\\\\cTDaR_t00567.jpg',\n",
       " './ICDAR/ICDAR2019_cTDaR/training/TRACKB1/ground_truth\\\\cTDaR_t00568.jpg',\n",
       " './ICDAR/ICDAR2019_cTDaR/training/TRACKB1/ground_truth\\\\cTDaR_t00569.jpg',\n",
       " './ICDAR/ICDAR2019_cTDaR/training/TRACKB1/ground_truth\\\\cTDaR_t00570.jpg',\n",
       " './ICDAR/ICDAR2019_cTDaR/training/TRACKB1/ground_truth\\\\cTDaR_t00571.jpg',\n",
       " './ICDAR/ICDAR2019_cTDaR/training/TRACKB1/ground_truth\\\\cTDaR_t00572.jpg',\n",
       " './ICDAR/ICDAR2019_cTDaR/training/TRACKB1/ground_truth\\\\cTDaR_t00573.jpg',\n",
       " './ICDAR/ICDAR2019_cTDaR/training/TRACKB1/ground_truth\\\\cTDaR_t00574.jpg',\n",
       " './ICDAR/ICDAR2019_cTDaR/training/TRACKB1/ground_truth\\\\cTDaR_t00575.jpg',\n",
       " './ICDAR/ICDAR2019_cTDaR/training/TRACKB1/ground_truth\\\\cTDaR_t00576.jpg',\n",
       " './ICDAR/ICDAR2019_cTDaR/training/TRACKB1/ground_truth\\\\cTDaR_t00577.jpg',\n",
       " './ICDAR/ICDAR2019_cTDaR/training/TRACKB1/ground_truth\\\\cTDaR_t00578.jpg',\n",
       " './ICDAR/ICDAR2019_cTDaR/training/TRACKB1/ground_truth\\\\cTDaR_t00579.jpg',\n",
       " './ICDAR/ICDAR2019_cTDaR/training/TRACKB1/ground_truth\\\\cTDaR_t00580.jpg',\n",
       " './ICDAR/ICDAR2019_cTDaR/training/TRACKB1/ground_truth\\\\cTDaR_t00581.jpg',\n",
       " './ICDAR/ICDAR2019_cTDaR/training/TRACKB1/ground_truth\\\\cTDaR_t00582.jpg',\n",
       " './ICDAR/ICDAR2019_cTDaR/training/TRACKB1/ground_truth\\\\cTDaR_t00583.jpg',\n",
       " './ICDAR/ICDAR2019_cTDaR/training/TRACKB1/ground_truth\\\\cTDaR_t00584.jpg',\n",
       " './ICDAR/ICDAR2019_cTDaR/training/TRACKB1/ground_truth\\\\cTDaR_t00585.jpg',\n",
       " './ICDAR/ICDAR2019_cTDaR/training/TRACKB1/ground_truth\\\\cTDaR_t00586.jpg',\n",
       " './ICDAR/ICDAR2019_cTDaR/training/TRACKB1/ground_truth\\\\cTDaR_t00587.jpg',\n",
       " './ICDAR/ICDAR2019_cTDaR/training/TRACKB1/ground_truth\\\\cTDaR_t00588.jpg',\n",
       " './ICDAR/ICDAR2019_cTDaR/training/TRACKB1/ground_truth\\\\cTDaR_t00589.jpg',\n",
       " './ICDAR/ICDAR2019_cTDaR/training/TRACKB1/ground_truth\\\\cTDaR_t00590.jpg',\n",
       " './ICDAR/ICDAR2019_cTDaR/training/TRACKB1/ground_truth\\\\cTDaR_t00591.jpg',\n",
       " './ICDAR/ICDAR2019_cTDaR/training/TRACKB1/ground_truth\\\\cTDaR_t00592.jpg',\n",
       " './ICDAR/ICDAR2019_cTDaR/training/TRACKB1/ground_truth\\\\cTDaR_t00593.jpg',\n",
       " './ICDAR/ICDAR2019_cTDaR/training/TRACKB1/ground_truth\\\\cTDaR_t00594.jpg',\n",
       " './ICDAR/ICDAR2019_cTDaR/training/TRACKB1/ground_truth\\\\cTDaR_t00595.jpg',\n",
       " './ICDAR/ICDAR2019_cTDaR/training/TRACKB1/ground_truth\\\\cTDaR_t00596.jpg',\n",
       " './ICDAR/ICDAR2019_cTDaR/training/TRACKB1/ground_truth\\\\cTDaR_t00597.jpg',\n",
       " './ICDAR/ICDAR2019_cTDaR/training/TRACKB1/ground_truth\\\\cTDaR_t00598.jpg',\n",
       " './ICDAR/ICDAR2019_cTDaR/training/TRACKB1/ground_truth\\\\cTDaR_t00599.jpg',\n",
       " './ICDAR/ICDAR2019_cTDaR/training/TRACKB1/ground_truth\\\\cTDaR_t00600.jpg',\n",
       " './ICDAR/ICDAR2019_cTDaR/training/TRACKB1/ground_truth\\\\cTDaR_t00601.jpg',\n",
       " './ICDAR/ICDAR2019_cTDaR/training/TRACKB1/ground_truth\\\\cTDaR_t00602.jpg',\n",
       " './ICDAR/ICDAR2019_cTDaR/training/TRACKB1/ground_truth\\\\cTDaR_t00603.jpg',\n",
       " './ICDAR/ICDAR2019_cTDaR/training/TRACKB1/ground_truth\\\\cTDaR_t00604.jpg',\n",
       " './ICDAR/ICDAR2019_cTDaR/training/TRACKB1/ground_truth\\\\cTDaR_t00605.jpg',\n",
       " './ICDAR/ICDAR2019_cTDaR/training/TRACKB1/ground_truth\\\\cTDaR_t00606.jpg',\n",
       " './ICDAR/ICDAR2019_cTDaR/training/TRACKB1/ground_truth\\\\cTDaR_t00607.jpg',\n",
       " './ICDAR/ICDAR2019_cTDaR/training/TRACKB1/ground_truth\\\\cTDaR_t00608.jpg',\n",
       " './ICDAR/ICDAR2019_cTDaR/training/TRACKB1/ground_truth\\\\cTDaR_t00609.jpg',\n",
       " './ICDAR/ICDAR2019_cTDaR/training/TRACKB1/ground_truth\\\\cTDaR_t00610.jpg',\n",
       " './ICDAR/ICDAR2019_cTDaR/training/TRACKB1/ground_truth\\\\cTDaR_t00611.jpg',\n",
       " './ICDAR/ICDAR2019_cTDaR/training/TRACKB1/ground_truth\\\\cTDaR_t00612.jpg',\n",
       " './ICDAR/ICDAR2019_cTDaR/training/TRACKB1/ground_truth\\\\cTDaR_t00613.jpg',\n",
       " './ICDAR/ICDAR2019_cTDaR/training/TRACKB1/ground_truth\\\\cTDaR_t00614.jpg',\n",
       " './ICDAR/ICDAR2019_cTDaR/training/TRACKB1/ground_truth\\\\cTDaR_t00615.jpg',\n",
       " './ICDAR/ICDAR2019_cTDaR/training/TRACKB1/ground_truth\\\\cTDaR_t00616.jpg',\n",
       " './ICDAR/ICDAR2019_cTDaR/training/TRACKB1/ground_truth\\\\cTDaR_t00617.jpg',\n",
       " './ICDAR/ICDAR2019_cTDaR/training/TRACKB1/ground_truth\\\\cTDaR_t00618.jpg',\n",
       " './ICDAR/ICDAR2019_cTDaR/training/TRACKB1/ground_truth\\\\cTDaR_t00619.jpg',\n",
       " './ICDAR/ICDAR2019_cTDaR/training/TRACKB1/ground_truth\\\\cTDaR_t00620.jpg',\n",
       " './ICDAR/ICDAR2019_cTDaR/training/TRACKB1/ground_truth\\\\cTDaR_t00641.jpg',\n",
       " './ICDAR/ICDAR2019_cTDaR/training/TRACKB1/ground_truth\\\\cTDaR_t00642.jpg',\n",
       " './ICDAR/ICDAR2019_cTDaR/training/TRACKB1/ground_truth\\\\cTDaR_t00643.jpg',\n",
       " './ICDAR/ICDAR2019_cTDaR/training/TRACKB1/ground_truth\\\\cTDaR_t00644.jpg',\n",
       " './ICDAR/ICDAR2019_cTDaR/training/TRACKB1/ground_truth\\\\cTDaR_t00645.jpg',\n",
       " './ICDAR/ICDAR2019_cTDaR/training/TRACKB1/ground_truth\\\\cTDaR_t00646.jpg',\n",
       " './ICDAR/ICDAR2019_cTDaR/training/TRACKB1/ground_truth\\\\cTDaR_t00647.jpg',\n",
       " './ICDAR/ICDAR2019_cTDaR/training/TRACKB1/ground_truth\\\\cTDaR_t00650.JPG',\n",
       " './ICDAR/ICDAR2019_cTDaR/training/TRACKB1/ground_truth\\\\cTDaR_t00651.jpg',\n",
       " './ICDAR/ICDAR2019_cTDaR/training/TRACKB1/ground_truth\\\\cTDaR_t00652.jpg',\n",
       " './ICDAR/ICDAR2019_cTDaR/training/TRACKB1/ground_truth\\\\cTDaR_t00653.jpg',\n",
       " './ICDAR/ICDAR2019_cTDaR/training/TRACKB1/ground_truth\\\\cTDaR_t00654.jpg',\n",
       " './ICDAR/ICDAR2019_cTDaR/training/TRACKB1/ground_truth\\\\cTDaR_t00655.jpg',\n",
       " './ICDAR/ICDAR2019_cTDaR/training/TRACKB1/ground_truth\\\\cTDaR_t00656.JPG',\n",
       " './ICDAR/ICDAR2019_cTDaR/training/TRACKB1/ground_truth\\\\cTDaR_t00657.jpg',\n",
       " './ICDAR/ICDAR2019_cTDaR/training/TRACKB1/ground_truth\\\\cTDaR_t00658.jpg',\n",
       " './ICDAR/ICDAR2019_cTDaR/training/TRACKB1/ground_truth\\\\cTDaR_t00662.jpg',\n",
       " './ICDAR/ICDAR2019_cTDaR/training/TRACKB1/ground_truth\\\\cTDaR_t00663.jpg',\n",
       " './ICDAR/ICDAR2019_cTDaR/training/TRACKB1/ground_truth\\\\cTDaR_t00664.jpg',\n",
       " './ICDAR/ICDAR2019_cTDaR/training/TRACKB1/ground_truth\\\\cTDaR_t00665.jpg',\n",
       " './ICDAR/ICDAR2019_cTDaR/training/TRACKB1/ground_truth\\\\cTDaR_t00666.jpg',\n",
       " './ICDAR/ICDAR2019_cTDaR/training/TRACKB1/ground_truth\\\\cTDaR_t00667.jpg',\n",
       " './ICDAR/ICDAR2019_cTDaR/training/TRACKB1/ground_truth\\\\cTDaR_t00668.jpg',\n",
       " './ICDAR/ICDAR2019_cTDaR/training/TRACKB1/ground_truth\\\\cTDaR_t00669.jpg',\n",
       " './ICDAR/ICDAR2019_cTDaR/training/TRACKB1/ground_truth\\\\cTDaR_t00670.jpg',\n",
       " './ICDAR/ICDAR2019_cTDaR/training/TRACKB1/ground_truth\\\\cTDaR_t00671.jpg',\n",
       " './ICDAR/ICDAR2019_cTDaR/training/TRACKB1/ground_truth\\\\cTDaR_t00672.jpg',\n",
       " './ICDAR/ICDAR2019_cTDaR/training/TRACKB1/ground_truth\\\\cTDaR_t00673.jpg',\n",
       " './ICDAR/ICDAR2019_cTDaR/training/TRACKB1/ground_truth\\\\cTDaR_t00674.jpg',\n",
       " './ICDAR/ICDAR2019_cTDaR/training/TRACKB1/ground_truth\\\\cTDaR_t00675.jpg',\n",
       " './ICDAR/ICDAR2019_cTDaR/training/TRACKB1/ground_truth\\\\cTDaR_t00676.jpg',\n",
       " './ICDAR/ICDAR2019_cTDaR/training/TRACKB1/ground_truth\\\\cTDaR_t00677.jpg',\n",
       " './ICDAR/ICDAR2019_cTDaR/training/TRACKB1/ground_truth\\\\cTDaR_t00678.jpg',\n",
       " './ICDAR/ICDAR2019_cTDaR/training/TRACKB1/ground_truth\\\\cTDaR_t00679.jpg',\n",
       " './ICDAR/ICDAR2019_cTDaR/training/TRACKB1/ground_truth\\\\cTDaR_t00708.jpg',\n",
       " './ICDAR/ICDAR2019_cTDaR/training/TRACKB1/ground_truth\\\\cTDaR_t00709.jpg',\n",
       " './ICDAR/ICDAR2019_cTDaR/training/TRACKB1/ground_truth\\\\cTDaR_t00710.jpg',\n",
       " './ICDAR/ICDAR2019_cTDaR/training/TRACKB1/ground_truth\\\\cTDaR_t00711.jpg',\n",
       " './ICDAR/ICDAR2019_cTDaR/training/TRACKB1/ground_truth\\\\cTDaR_t00712.jpg',\n",
       " './ICDAR/ICDAR2019_cTDaR/training/TRACKB1/ground_truth\\\\cTDaR_t00713.jpg',\n",
       " './ICDAR/ICDAR2019_cTDaR/training/TRACKB1/ground_truth\\\\cTDaR_t00714.jpg',\n",
       " './ICDAR/ICDAR2019_cTDaR/training/TRACKB1/ground_truth\\\\cTDaR_t00715.jpg',\n",
       " './ICDAR/ICDAR2019_cTDaR/training/TRACKB1/ground_truth\\\\cTDaR_t00716.jpg',\n",
       " './ICDAR/ICDAR2019_cTDaR/training/TRACKB1/ground_truth\\\\cTDaR_t00717.jpg',\n",
       " './ICDAR/ICDAR2019_cTDaR/training/TRACKB1/ground_truth\\\\cTDaR_t00718.jpg',\n",
       " './ICDAR/ICDAR2019_cTDaR/training/TRACKB1/ground_truth\\\\cTDaR_t00719.jpg',\n",
       " './ICDAR/ICDAR2019_cTDaR/training/TRACKB1/ground_truth\\\\cTDaR_t00760.jpg',\n",
       " './ICDAR/ICDAR2019_cTDaR/training/TRACKB1/ground_truth\\\\cTDaR_t00761.jpg',\n",
       " './ICDAR/ICDAR2019_cTDaR/training/TRACKB1/ground_truth\\\\cTDaR_t00762.jpg',\n",
       " './ICDAR/ICDAR2019_cTDaR/training/TRACKB1/ground_truth\\\\cTDaR_t00763.jpg',\n",
       " './ICDAR/ICDAR2019_cTDaR/training/TRACKB1/ground_truth\\\\cTDaR_t00764.jpg',\n",
       " './ICDAR/ICDAR2019_cTDaR/training/TRACKB1/ground_truth\\\\cTDaR_t00765.jpg',\n",
       " './ICDAR/ICDAR2019_cTDaR/training/TRACKB1/ground_truth\\\\cTDaR_t00766.jpg',\n",
       " './ICDAR/ICDAR2019_cTDaR/training/TRACKB1/ground_truth\\\\cTDaR_t00767.jpg',\n",
       " './ICDAR/ICDAR2019_cTDaR/training/TRACKB1/ground_truth\\\\cTDaR_t00768.jpg',\n",
       " './ICDAR/ICDAR2019_cTDaR/training/TRACKB1/ground_truth\\\\cTDaR_t00769.jpg',\n",
       " './ICDAR/ICDAR2019_cTDaR/training/TRACKB1/ground_truth\\\\cTDaR_t00770.jpg',\n",
       " './ICDAR/ICDAR2019_cTDaR/training/TRACKB1/ground_truth\\\\cTDaR_t00771.jpg',\n",
       " './ICDAR/ICDAR2019_cTDaR/training/TRACKB1/ground_truth\\\\cTDaR_t00772.jpg',\n",
       " './ICDAR/ICDAR2019_cTDaR/training/TRACKB1/ground_truth\\\\cTDaR_t00799.jpg',\n",
       " './ICDAR/ICDAR2019_cTDaR/training/TRACKB1/ground_truth\\\\cTDaR_t00800.jpg',\n",
       " './ICDAR/ICDAR2019_cTDaR/training/TRACKB1/ground_truth\\\\cTDaR_t00801.jpg',\n",
       " './ICDAR/ICDAR2019_cTDaR/training/TRACKB1/ground_truth\\\\cTDaR_t00802.jpg',\n",
       " './ICDAR/ICDAR2019_cTDaR/training/TRACKB1/ground_truth\\\\cTDaR_t00803.jpg',\n",
       " './ICDAR/ICDAR2019_cTDaR/training/TRACKB1/ground_truth\\\\cTDaR_t00804.jpg',\n",
       " './ICDAR/ICDAR2019_cTDaR/training/TRACKB1/ground_truth\\\\cTDaR_t00805.jpg',\n",
       " './ICDAR/ICDAR2019_cTDaR/training/TRACKB1/ground_truth\\\\cTDaR_t00806.jpg',\n",
       " './ICDAR/ICDAR2019_cTDaR/training/TRACKB1/ground_truth\\\\cTDaR_t00807.jpg',\n",
       " './ICDAR/ICDAR2019_cTDaR/training/TRACKB1/ground_truth\\\\cTDaR_t00808.jpg',\n",
       " './ICDAR/ICDAR2019_cTDaR/training/TRACKB1/ground_truth\\\\cTDaR_t00809.jpg',\n",
       " './ICDAR/ICDAR2019_cTDaR/training/TRACKB1/ground_truth\\\\cTDaR_t00815.jpg',\n",
       " './ICDAR/ICDAR2019_cTDaR/training/TRACKB1/ground_truth\\\\cTDaR_t00816.jpg',\n",
       " './ICDAR/ICDAR2019_cTDaR/training/TRACKB1/ground_truth\\\\cTDaR_t00817.jpg',\n",
       " './ICDAR/ICDAR2019_cTDaR/training/TRACKB1/ground_truth\\\\cTDaR_t00818.jpg',\n",
       " './ICDAR/ICDAR2019_cTDaR/training/TRACKB1/ground_truth\\\\cTDaR_t00819.jpg',\n",
       " './ICDAR/ICDAR2019_cTDaR/training/TRACKB1/ground_truth\\\\cTDaR_t00820.jpg',\n",
       " './ICDAR/ICDAR2019_cTDaR/training/TRACKB1/ground_truth\\\\cTDaR_t00821.jpg',\n",
       " './ICDAR/ICDAR2019_cTDaR/training/TRACKB1/ground_truth\\\\cTDaR_t00822.jpg',\n",
       " './ICDAR/ICDAR2019_cTDaR/training/TRACKB1/ground_truth\\\\cTDaR_t00823.jpg',\n",
       " './ICDAR/ICDAR2019_cTDaR/training/TRACKB1/ground_truth\\\\cTDaR_t00824.jpg',\n",
       " './ICDAR/ICDAR2019_cTDaR/training/TRACKB1/ground_truth\\\\cTDaR_t00825.jpg',\n",
       " './ICDAR/ICDAR2019_cTDaR/training/TRACKB1/ground_truth\\\\cTDaR_t00826.jpg',\n",
       " './ICDAR/ICDAR2019_cTDaR/training/TRACKB1/ground_truth\\\\cTDaR_t00827.jpg',\n",
       " './ICDAR/ICDAR2019_cTDaR/training/TRACKB1/ground_truth\\\\cTDaR_t00841.jpg',\n",
       " './ICDAR/ICDAR2019_cTDaR/training/TRACKB1/ground_truth\\\\cTDaR_t00842.jpg',\n",
       " './ICDAR/ICDAR2019_cTDaR/training/TRACKB1/ground_truth\\\\cTDaR_t00843.jpg',\n",
       " './ICDAR/ICDAR2019_cTDaR/training/TRACKB1/ground_truth\\\\cTDaR_t00844.jpg',\n",
       " './ICDAR/ICDAR2019_cTDaR/training/TRACKB1/ground_truth\\\\cTDaR_t00845.jpg',\n",
       " './ICDAR/ICDAR2019_cTDaR/training/TRACKB1/ground_truth\\\\cTDaR_t00846.jpg',\n",
       " './ICDAR/ICDAR2019_cTDaR/training/TRACKB1/ground_truth\\\\cTDaR_t00851.jpg',\n",
       " './ICDAR/ICDAR2019_cTDaR/training/TRACKB1/ground_truth\\\\cTDaR_t00852.jpg',\n",
       " './ICDAR/ICDAR2019_cTDaR/training/TRACKB1/ground_truth\\\\cTDaR_t00853.jpg',\n",
       " './ICDAR/ICDAR2019_cTDaR/training/TRACKB1/ground_truth\\\\cTDaR_t00854.jpg',\n",
       " './ICDAR/ICDAR2019_cTDaR/training/TRACKB1/ground_truth\\\\cTDaR_t00855.jpg',\n",
       " './ICDAR/ICDAR2019_cTDaR/training/TRACKB1/ground_truth\\\\cTDaR_t00856.jpg',\n",
       " './ICDAR/ICDAR2019_cTDaR/training/TRACKB1/ground_truth\\\\cTDaR_t00857.jpg',\n",
       " './ICDAR/ICDAR2019_cTDaR/training/TRACKB1/ground_truth\\\\cTDaR_t00860.jpg',\n",
       " './ICDAR/ICDAR2019_cTDaR/training/TRACKB1/ground_truth\\\\cTDaR_t00861.jpg',\n",
       " './ICDAR/ICDAR2019_cTDaR/training/TRACKB1/ground_truth\\\\cTDaR_t00862.jpg',\n",
       " './ICDAR/ICDAR2019_cTDaR/training/TRACKB1/ground_truth\\\\cTDaR_t00863.jpg',\n",
       " './ICDAR/ICDAR2019_cTDaR/training/TRACKB1/ground_truth\\\\cTDaR_t00864.jpg',\n",
       " './ICDAR/ICDAR2019_cTDaR/training/TRACKB1/ground_truth\\\\cTDaR_t00865.jpg',\n",
       " './ICDAR/ICDAR2019_cTDaR/training/TRACKB1/ground_truth\\\\cTDaR_t00866.jpg',\n",
       " './ICDAR/ICDAR2019_cTDaR/training/TRACKB1/ground_truth\\\\cTDaR_t00867.jpg',\n",
       " './ICDAR/ICDAR2019_cTDaR/training/TRACKB1/ground_truth\\\\cTDaR_t00868.jpg',\n",
       " './ICDAR/ICDAR2019_cTDaR/training/TRACKB1/ground_truth\\\\cTDaR_t00869.jpg',\n",
       " './ICDAR/ICDAR2019_cTDaR/training/TRACKB1/ground_truth\\\\cTDaR_t00870.jpg',\n",
       " './ICDAR/ICDAR2019_cTDaR/training/TRACKB1/ground_truth\\\\cTDaR_t00871.jpg',\n",
       " './ICDAR/ICDAR2019_cTDaR/training/TRACKB1/ground_truth\\\\cTDaR_t00872.jpg',\n",
       " './ICDAR/ICDAR2019_cTDaR/training/TRACKB1/ground_truth\\\\cTDaR_t00873.jpg',\n",
       " './ICDAR/ICDAR2019_cTDaR/training/TRACKB1/ground_truth\\\\cTDaR_t00874.jpg',\n",
       " './ICDAR/ICDAR2019_cTDaR/training/TRACKB1/ground_truth\\\\cTDaR_t00875.jpg',\n",
       " './ICDAR/ICDAR2019_cTDaR/training/TRACKB1/ground_truth\\\\cTDaR_t00876.jpg',\n",
       " './ICDAR/ICDAR2019_cTDaR/training/TRACKB1/ground_truth\\\\cTDaR_t00877.jpg',\n",
       " './ICDAR/ICDAR2019_cTDaR/training/TRACKB1/ground_truth\\\\cTDaR_t00878.jpg',\n",
       " './ICDAR/ICDAR2019_cTDaR/training/TRACKB1/ground_truth\\\\cTDaR_t00879.jpg',\n",
       " './ICDAR/ICDAR2019_cTDaR/training/TRACKB1/ground_truth\\\\cTDaR_t00880.jpg',\n",
       " './ICDAR/ICDAR2019_cTDaR/training/TRACKB1/ground_truth\\\\cTDaR_t00881.jpg',\n",
       " './ICDAR/ICDAR2019_cTDaR/training/TRACKB1/ground_truth\\\\cTDaR_t00882.jpg',\n",
       " './ICDAR/ICDAR2019_cTDaR/training/TRACKB1/ground_truth\\\\cTDaR_t00883.jpg',\n",
       " './ICDAR/ICDAR2019_cTDaR/training/TRACKB1/ground_truth\\\\cTDaR_t00884.jpg',\n",
       " './ICDAR/ICDAR2019_cTDaR/training/TRACKB1/ground_truth\\\\cTDaR_t00885.jpg',\n",
       " './ICDAR/ICDAR2019_cTDaR/training/TRACKB1/ground_truth\\\\cTDaR_t00886.jpg',\n",
       " './ICDAR/ICDAR2019_cTDaR/training/TRACKB1/ground_truth\\\\cTDaR_t00887.jpg',\n",
       " './ICDAR/ICDAR2019_cTDaR/training/TRACKB1/ground_truth\\\\cTDaR_t00888.jpg',\n",
       " './ICDAR/ICDAR2019_cTDaR/training/TRACKB1/ground_truth\\\\cTDaR_t00889.jpg',\n",
       " './ICDAR/ICDAR2019_cTDaR/training/TRACKB1/ground_truth\\\\cTDaR_t00890.jpg',\n",
       " './ICDAR/ICDAR2019_cTDaR/training/TRACKB1/ground_truth\\\\cTDaR_t00891.jpg',\n",
       " './ICDAR/ICDAR2019_cTDaR/training/TRACKB1/ground_truth\\\\cTDaR_t00892.jpg',\n",
       " './ICDAR/ICDAR2019_cTDaR/training/TRACKB1/ground_truth\\\\cTDaR_t00893.jpg',\n",
       " './ICDAR/ICDAR2019_cTDaR/training/TRACKB1/ground_truth\\\\cTDaR_t00894.jpg',\n",
       " './ICDAR/ICDAR2019_cTDaR/training/TRACKB1/ground_truth\\\\cTDaR_t00895.jpg',\n",
       " './ICDAR/ICDAR2019_cTDaR/training/TRACKB1/ground_truth\\\\cTDaR_t00896.jpg',\n",
       " './ICDAR/ICDAR2019_cTDaR/training/TRACKB1/ground_truth\\\\cTDaR_t00897.jpg',\n",
       " './ICDAR/ICDAR2019_cTDaR/training/TRACKB1/ground_truth\\\\cTDaR_t00898.jpg',\n",
       " './ICDAR/ICDAR2019_cTDaR/training/TRACKB1/ground_truth\\\\cTDaR_t00899.jpg',\n",
       " './ICDAR/ICDAR2019_cTDaR/training/TRACKB1/ground_truth\\\\cTDaR_t00900.jpg',\n",
       " './ICDAR/ICDAR2019_cTDaR/training/TRACKB1/ground_truth\\\\cTDaR_t00901.jpg',\n",
       " './ICDAR/ICDAR2019_cTDaR/training/TRACKB1/ground_truth\\\\cTDaR_t00902.jpg',\n",
       " './ICDAR/ICDAR2019_cTDaR/training/TRACKB1/ground_truth\\\\cTDaR_t00903.jpg',\n",
       " './ICDAR/ICDAR2019_cTDaR/training/TRACKB1/ground_truth\\\\cTDaR_t00904.jpg',\n",
       " './ICDAR/ICDAR2019_cTDaR/training/TRACKB1/ground_truth\\\\cTDaR_t00905.jpg',\n",
       " './ICDAR/ICDAR2019_cTDaR/training/TRACKB1/ground_truth\\\\cTDaR_t00906.jpg',\n",
       " './ICDAR/ICDAR2019_cTDaR/training/TRACKB1/ground_truth\\\\cTDaR_t00907.jpg',\n",
       " './ICDAR/ICDAR2019_cTDaR/training/TRACKB1/ground_truth\\\\cTDaR_t00908.jpg',\n",
       " './ICDAR/ICDAR2019_cTDaR/training/TRACKB1/ground_truth\\\\cTDaR_t00909.jpg',\n",
       " './ICDAR/ICDAR2019_cTDaR/training/TRACKB1/ground_truth\\\\cTDaR_t00910.jpg',\n",
       " './ICDAR/ICDAR2019_cTDaR/training/TRACKB1/ground_truth\\\\cTDaR_t00911.jpg',\n",
       " './ICDAR/ICDAR2019_cTDaR/training/TRACKB1/ground_truth\\\\cTDaR_t00912.jpg',\n",
       " './ICDAR/ICDAR2019_cTDaR/training/TRACKB1/ground_truth\\\\cTDaR_t00913.jpg',\n",
       " './ICDAR/ICDAR2019_cTDaR/training/TRACKB1/ground_truth\\\\cTDaR_t00914.jpg',\n",
       " './ICDAR/ICDAR2019_cTDaR/training/TRACKB1/ground_truth\\\\cTDaR_t00915.jpg',\n",
       " './ICDAR/ICDAR2019_cTDaR/training/TRACKB1/ground_truth\\\\cTDaR_t00916.jpg',\n",
       " './ICDAR/ICDAR2019_cTDaR/training/TRACKB1/ground_truth\\\\cTDaR_t00917.jpg',\n",
       " './ICDAR/ICDAR2019_cTDaR/training/TRACKB1/ground_truth\\\\cTDaR_t00918.jpg',\n",
       " './ICDAR/ICDAR2019_cTDaR/training/TRACKB1/ground_truth\\\\cTDaR_t00919.jpg',\n",
       " './ICDAR/ICDAR2019_cTDaR/training/TRACKB1/ground_truth\\\\cTDaR_t00920.jpg',\n",
       " './ICDAR/ICDAR2019_cTDaR/training/TRACKB1/ground_truth\\\\cTDaR_t00921.jpg',\n",
       " './ICDAR/ICDAR2019_cTDaR/training/TRACKB1/ground_truth\\\\cTDaR_t00922.jpg',\n",
       " './ICDAR/ICDAR2019_cTDaR/training/TRACKB1/ground_truth\\\\cTDaR_t00923.jpg',\n",
       " './ICDAR/ICDAR2019_cTDaR/training/TRACKB1/ground_truth\\\\cTDaR_t00924.jpg',\n",
       " './ICDAR/ICDAR2019_cTDaR/training/TRACKB1/ground_truth\\\\cTDaR_t00925.jpg',\n",
       " './ICDAR/ICDAR2019_cTDaR/training/TRACKB1/ground_truth\\\\cTDaR_t00926.jpg',\n",
       " './ICDAR/ICDAR2019_cTDaR/training/TRACKB1/ground_truth\\\\cTDaR_t00927.jpg',\n",
       " './ICDAR/ICDAR2019_cTDaR/training/TRACKB1/ground_truth\\\\cTDaR_t00928.jpg',\n",
       " './ICDAR/ICDAR2019_cTDaR/training/TRACKB1/ground_truth\\\\cTDaR_t00929.jpg',\n",
       " './ICDAR/ICDAR2019_cTDaR/training/TRACKB1/ground_truth\\\\cTDaR_t00930.jpg']"
      ]
     },
     "execution_count": 15,
     "metadata": {},
     "output_type": "execute_result"
    }
   ],
   "source": [
    "jpgs"
   ]
  },
  {
   "cell_type": "code",
   "execution_count": null,
   "metadata": {},
   "outputs": [],
   "source": [
    "# Convert a PNG image to JPEG\n",
    "def convert_png_to_jpg(png_file, jpg_file):\n",
    "  \"\"\"Converts a PNG image to a JPEG image.\n",
    "\n",
    "  Args:\n",
    "    png_file: The path to the PNG image file.\n",
    "    jpg_file: The path to the JPEG image file.\n",
    "  \"\"\"\n",
    "\n",
    "  # Open the PNG image.\n",
    "  img = Image.open(png_file)\n",
    "\n",
    "  # Convert the image to JPEG.\n",
    "  img.convert(\"RGB\").save(jpg_file, \"JPEG\")\n",
    "\n",
    "# Convert a TIFF image to JPEG\n",
    "def convert_tiff_to_jpg(tiff_file, jpg_file):\n",
    "  \"\"\"Converts a TIFF image to a JPEG image.\n",
    "\n",
    "  Args:\n",
    "    tiff_file: The path to the TIFF image file.\n",
    "    jpg_file: The path to the JPEG image file.\n",
    "  \"\"\"\n",
    "\n",
    "  # Open the TIFF image.\n",
    "  img = Image.open(tiff_file)\n",
    "\n",
    "  # Convert the image to JPEG.\n",
    "  img.convert(\"RGB\").save(jpg_file, \"JPEG\")\n",
    "\n",
    "# Example usage:\n",
    "\n",
    "# convert_png_to_jpg(\"image.png\", \"image.jpg\")\n",
    "# convert_tiff_to_jpg(\"image.tif\", \"image.jpg\")"
   ]
  },
  {
   "cell_type": "code",
   "execution_count": null,
   "metadata": {},
   "outputs": [],
   "source": [
    "tifs = glob.glob('./ICDAR/ICDAR2019_cTDaR/training/TRACKB1/ground_truth' + '/*.TIFF')\n",
    "pngs = glob.glob('./ICDAR/ICDAR2019_cTDaR/training/TRACKB1/ground_truth' + '/*.png')"
   ]
  },
  {
   "cell_type": "code",
   "execution_count": null,
   "metadata": {},
   "outputs": [],
   "source": [
    "tifs"
   ]
  },
  {
   "cell_type": "code",
   "execution_count": null,
   "metadata": {},
   "outputs": [],
   "source": [
    "for i in tifs:\n",
    "    input_path = i\n",
    "    output_path = input_path.replace('.TIFF', '.jpg')\n",
    "    convert_tiff_to_jpg(input_path, output_path)\n",
    "    print(output_path)"
   ]
  },
  {
   "cell_type": "code",
   "execution_count": null,
   "metadata": {},
   "outputs": [],
   "source": [
    "for i in pngs:\n",
    "    input_path = i\n",
    "    output_path = input_path.replace('.png', '.jpg')\n",
    "    convert_png_to_jpg(input_path, output_path)\n",
    "    print(output_path)"
   ]
  },
  {
   "cell_type": "code",
   "execution_count": null,
   "metadata": {},
   "outputs": [],
   "source": [
    "len(xmls)"
   ]
  },
  {
   "cell_type": "code",
   "execution_count": null,
   "metadata": {},
   "outputs": [],
   "source": [
    "len(jpgs)"
   ]
  },
  {
   "cell_type": "code",
   "execution_count": 16,
   "metadata": {},
   "outputs": [
    {
     "data": {
      "image/png": "[encoded data removed]",
      "text/plain": [
       "<Figure size 1000x500 with 1 Axes>"
      ]
     },
     "metadata": {},
     "output_type": "display_data"
    }
   ],
   "source": [
    "fig = plt.figure(figsize = (10, 5))\n",
    "\n",
    "x = ['XML', 'JPG']\n",
    "y = [len(xmls), len(jpgs)]\n",
    "plt.bar(x, y,width = 0.4)\n",
    "plt.title('Distribution of Image files and Ground Truth')\n",
    "plt.show()"
   ]
  },
  {
   "cell_type": "code",
   "execution_count": 17,
   "metadata": {},
   "outputs": [],
   "source": [
    "new_h, new_w = 1024, 1024"
   ]
  },
  {
   "cell_type": "code",
   "execution_count": 18,
   "metadata": {},
   "outputs": [],
   "source": [
    "def tableplot(resultant, image_path, pathtosave):\n",
    "# Define the size of the bitmap\n",
    "  width, height = get_image_dimensions(image_path)\n",
    "\n",
    "# Create a blank black image\n",
    "  img = Image.new('RGB', (width, height), color='black')\n",
    "  draw = ImageDraw.Draw(img)\n",
    "\n",
    "# Define the closed areas\n",
    "  closed_areas = resultant\n",
    "# Draw the closed areas in white\n",
    "  for area in closed_areas:\n",
    "    draw.polygon(area, fill='white')\n",
    "\n",
    "# Save the image\n",
    "  img.save(pathtosave)\n",
    "\n",
    "def colplot(resultant, image_path, pathtosave):\n",
    "# Define the size of the bitmap\n",
    "  width, height = get_image_dimensions(image_path)\n",
    "\n",
    "# Create a blank black image\n",
    "  img = Image.new('RGB', (width, height), color='black')\n",
    "  draw = ImageDraw.Draw(img)\n",
    "\n",
    "  for result in resultant:\n",
    "  # Define the closed areas\n",
    "    closed_areas = result\n",
    "  # Draw the closed areas in white\n",
    "    for area in closed_areas:\n",
    "      draw.polygon(area, fill='white')\n",
    "\n",
    "# Save the image\n",
    "  img.save(pathtosave)"
   ]
  },
  {
   "cell_type": "markdown",
   "metadata": {},
   "source": [
    "## Data Preprocessing"
   ]
  },
  {
   "cell_type": "code",
   "execution_count": 19,
   "metadata": {},
   "outputs": [],
   "source": [
    "import xml.etree.ElementTree as ET"
   ]
  },
  {
   "cell_type": "code",
   "execution_count": 110,
   "metadata": {},
   "outputs": [],
   "source": [
    "processed_data = []"
   ]
  },
  {
   "cell_type": "code",
   "execution_count": 109,
   "metadata": {},
   "outputs": [
    {
     "name": "stderr",
     "output_type": "stream",
     "text": [
      "3it [00:00,  9.57it/s]"
     ]
    },
    {
     "name": "stdout",
     "output_type": "stream",
     "text": [
      "0 cTDaR_t00000.xml\n",
      "1 cTDaR_t00001.xml\n",
      "2 cTDaR_t00002.xml\n"
     ]
    },
    {
     "name": "stderr",
     "output_type": "stream",
     "text": [
      "5it [00:00,  9.11it/s]"
     ]
    },
    {
     "name": "stdout",
     "output_type": "stream",
     "text": [
      "3 cTDaR_t00003.xml\n",
      "4 cTDaR_t00004.xml\n"
     ]
    },
    {
     "name": "stderr",
     "output_type": "stream",
     "text": [
      "7it [00:00,  9.63it/s]"
     ]
    },
    {
     "name": "stdout",
     "output_type": "stream",
     "text": [
      "5 cTDaR_t00005.xml\n",
      "6 cTDaR_t00006.xml\n",
      "7 cTDaR_t00007.xml\n"
     ]
    },
    {
     "name": "stderr",
     "output_type": "stream",
     "text": [
      "11it [00:01, 10.24it/s]"
     ]
    },
    {
     "name": "stdout",
     "output_type": "stream",
     "text": [
      "8 cTDaR_t00008.xml\n",
      "9 cTDaR_t00009.xml\n",
      "10 cTDaR_t00010.xml\n",
      "11 cTDaR_t00018.xml\n"
     ]
    },
    {
     "name": "stderr",
     "output_type": "stream",
     "text": [
      "13it [00:01,  6.67it/s]"
     ]
    },
    {
     "name": "stdout",
     "output_type": "stream",
     "text": [
      "12 cTDaR_t00019.xml\n"
     ]
    },
    {
     "name": "stderr",
     "output_type": "stream",
     "text": [
      "15it [00:02,  5.72it/s]"
     ]
    },
    {
     "name": "stdout",
     "output_type": "stream",
     "text": [
      "13 cTDaR_t00020.xml\n",
      "!!!!!!!!!!!!!!!!!!!!works!!!!!!!!!!!!!!!!!!!!!\n",
      "14 cTDaR_t00021.xml\n",
      "!!!!!!!!!!!!!!!!!!!!works!!!!!!!!!!!!!!!!!!!!!\n"
     ]
    },
    {
     "name": "stderr",
     "output_type": "stream",
     "text": [
      "16it [00:02,  6.22it/s]"
     ]
    },
    {
     "name": "stdout",
     "output_type": "stream",
     "text": [
      "15 cTDaR_t00022.xml\n"
     ]
    },
    {
     "name": "stderr",
     "output_type": "stream",
     "text": [
      "17it [00:02,  5.54it/s]"
     ]
    },
    {
     "name": "stdout",
     "output_type": "stream",
     "text": [
      "16 cTDaR_t00023.xml\n",
      "!!!!!!!!!!!!!!!!!!!!works!!!!!!!!!!!!!!!!!!!!!\n"
     ]
    },
    {
     "name": "stderr",
     "output_type": "stream",
     "text": [
      "18it [00:02,  3.85it/s]"
     ]
    },
    {
     "name": "stdout",
     "output_type": "stream",
     "text": [
      "17 cTDaR_t00024.xml\n",
      "!!!!!!!!!!!!!!!!!!!!works!!!!!!!!!!!!!!!!!!!!!\n"
     ]
    },
    {
     "name": "stderr",
     "output_type": "stream",
     "text": [
      "20it [00:03,  4.37it/s]"
     ]
    },
    {
     "name": "stdout",
     "output_type": "stream",
     "text": [
      "18 cTDaR_t00025.xml\n",
      "!!!!!!!!!!!!!!!!!!!!works!!!!!!!!!!!!!!!!!!!!!\n",
      "19 cTDaR_t00026.xml\n"
     ]
    },
    {
     "name": "stderr",
     "output_type": "stream",
     "text": [
      "21it [00:03,  3.93it/s]"
     ]
    },
    {
     "name": "stdout",
     "output_type": "stream",
     "text": [
      "20 cTDaR_t00027.xml\n",
      "!!!!!!!!!!!!!!!!!!!!works!!!!!!!!!!!!!!!!!!!!!\n"
     ]
    },
    {
     "name": "stderr",
     "output_type": "stream",
     "text": [
      "23it [00:04,  4.10it/s]"
     ]
    },
    {
     "name": "stdout",
     "output_type": "stream",
     "text": [
      "21 cTDaR_t00028.xml\n",
      "!!!!!!!!!!!!!!!!!!!!works!!!!!!!!!!!!!!!!!!!!!\n",
      "22 cTDaR_t00029.xml\n",
      "!!!!!!!!!!!!!!!!!!!!works!!!!!!!!!!!!!!!!!!!!!\n"
     ]
    },
    {
     "name": "stderr",
     "output_type": "stream",
     "text": [
      "25it [00:04,  4.63it/s]"
     ]
    },
    {
     "name": "stdout",
     "output_type": "stream",
     "text": [
      "23 cTDaR_t00030.xml\n",
      "24 cTDaR_t00031.xml\n",
      "!!!!!!!!!!!!!!!!!!!!works!!!!!!!!!!!!!!!!!!!!!\n"
     ]
    },
    {
     "name": "stderr",
     "output_type": "stream",
     "text": [
      "26it [00:04,  4.24it/s]"
     ]
    },
    {
     "name": "stdout",
     "output_type": "stream",
     "text": [
      "25 cTDaR_t00032.xml\n",
      "!!!!!!!!!!!!!!!!!!!!works!!!!!!!!!!!!!!!!!!!!!\n",
      "26 cTDaR_t00033.xml\n"
     ]
    },
    {
     "name": "stderr",
     "output_type": "stream",
     "text": [
      "29it [00:05,  5.18it/s]"
     ]
    },
    {
     "name": "stdout",
     "output_type": "stream",
     "text": [
      "27 cTDaR_t00034.xml\n",
      "28 cTDaR_t00035.xml\n"
     ]
    },
    {
     "name": "stderr",
     "output_type": "stream",
     "text": [
      "30it [00:05,  5.78it/s]"
     ]
    },
    {
     "name": "stdout",
     "output_type": "stream",
     "text": [
      "29 cTDaR_t00036.xml\n"
     ]
    },
    {
     "name": "stderr",
     "output_type": "stream",
     "text": [
      "32it [00:05,  5.67it/s]"
     ]
    },
    {
     "name": "stdout",
     "output_type": "stream",
     "text": [
      "30 cTDaR_t00037.xml\n",
      "31 cTDaR_t00038.xml\n"
     ]
    },
    {
     "name": "stderr",
     "output_type": "stream",
     "text": [
      "33it [00:05,  6.26it/s]"
     ]
    },
    {
     "name": "stdout",
     "output_type": "stream",
     "text": [
      "32 cTDaR_t00039.xml\n",
      "33 cTDaR_t00040.xml\n",
      "34 cTDaR_t00041.xml\n"
     ]
    },
    {
     "name": "stderr",
     "output_type": "stream",
     "text": [
      "36it [00:06,  6.71it/s]"
     ]
    },
    {
     "name": "stdout",
     "output_type": "stream",
     "text": [
      "35 cTDaR_t00042.xml\n"
     ]
    },
    {
     "name": "stderr",
     "output_type": "stream",
     "text": [
      "37it [00:06,  5.84it/s]"
     ]
    },
    {
     "name": "stdout",
     "output_type": "stream",
     "text": [
      "36 cTDaR_t00043.xml\n",
      "!!!!!!!!!!!!!!!!!!!!works!!!!!!!!!!!!!!!!!!!!!\n"
     ]
    },
    {
     "name": "stderr",
     "output_type": "stream",
     "text": [
      "39it [00:06,  5.17it/s]"
     ]
    },
    {
     "name": "stdout",
     "output_type": "stream",
     "text": [
      "37 cTDaR_t00044.xml\n",
      "!!!!!!!!!!!!!!!!!!!!works!!!!!!!!!!!!!!!!!!!!!\n",
      "38 cTDaR_t00045.xml\n",
      "!!!!!!!!!!!!!!!!!!!!works!!!!!!!!!!!!!!!!!!!!!\n"
     ]
    },
    {
     "name": "stderr",
     "output_type": "stream",
     "text": [
      "40it [00:07,  4.76it/s]"
     ]
    },
    {
     "name": "stdout",
     "output_type": "stream",
     "text": [
      "39 cTDaR_t00046.xml\n"
     ]
    },
    {
     "name": "stderr",
     "output_type": "stream",
     "text": [
      "41it [00:07,  4.41it/s]"
     ]
    },
    {
     "name": "stdout",
     "output_type": "stream",
     "text": [
      "40 cTDaR_t00047.xml\n",
      "!!!!!!!!!!!!!!!!!!!!works!!!!!!!!!!!!!!!!!!!!!\n"
     ]
    },
    {
     "name": "stderr",
     "output_type": "stream",
     "text": [
      "42it [00:07,  3.93it/s]"
     ]
    },
    {
     "name": "stdout",
     "output_type": "stream",
     "text": [
      "41 cTDaR_t00048.xml\n"
     ]
    },
    {
     "name": "stderr",
     "output_type": "stream",
     "text": [
      "43it [00:08,  3.90it/s]"
     ]
    },
    {
     "name": "stdout",
     "output_type": "stream",
     "text": [
      "42 cTDaR_t00049.xml\n",
      "!!!!!!!!!!!!!!!!!!!!works!!!!!!!!!!!!!!!!!!!!!\n"
     ]
    },
    {
     "name": "stderr",
     "output_type": "stream",
     "text": [
      "44it [00:08,  3.60it/s]"
     ]
    },
    {
     "name": "stdout",
     "output_type": "stream",
     "text": [
      "43 cTDaR_t00050.xml\n",
      "!!!!!!!!!!!!!!!!!!!!works!!!!!!!!!!!!!!!!!!!!!\n"
     ]
    },
    {
     "name": "stderr",
     "output_type": "stream",
     "text": [
      "45it [00:08,  3.71it/s]"
     ]
    },
    {
     "name": "stdout",
     "output_type": "stream",
     "text": [
      "44 cTDaR_t00051.xml\n"
     ]
    },
    {
     "name": "stderr",
     "output_type": "stream",
     "text": [
      "46it [00:08,  3.53it/s]"
     ]
    },
    {
     "name": "stdout",
     "output_type": "stream",
     "text": [
      "45 cTDaR_t00052.xml\n",
      "!!!!!!!!!!!!!!!!!!!!works!!!!!!!!!!!!!!!!!!!!!\n"
     ]
    },
    {
     "name": "stderr",
     "output_type": "stream",
     "text": [
      "47it [00:09,  3.70it/s]"
     ]
    },
    {
     "name": "stdout",
     "output_type": "stream",
     "text": [
      "46 cTDaR_t00053.xml\n",
      "47 cTDaR_t00054.xml\n",
      "!!!!!!!!!!!!!!!!!!!!works!!!!!!!!!!!!!!!!!!!!!\n"
     ]
    },
    {
     "name": "stderr",
     "output_type": "stream",
     "text": [
      "49it [00:09,  3.80it/s]"
     ]
    },
    {
     "name": "stdout",
     "output_type": "stream",
     "text": [
      "48 cTDaR_t00055.xml\n",
      "!!!!!!!!!!!!!!!!!!!!works!!!!!!!!!!!!!!!!!!!!!\n"
     ]
    },
    {
     "name": "stderr",
     "output_type": "stream",
     "text": [
      "51it [00:10,  4.35it/s]"
     ]
    },
    {
     "name": "stdout",
     "output_type": "stream",
     "text": [
      "49 cTDaR_t00056.xml\n",
      "!!!!!!!!!!!!!!!!!!!!works!!!!!!!!!!!!!!!!!!!!!\n",
      "50 cTDaR_t00057.xml\n"
     ]
    },
    {
     "name": "stderr",
     "output_type": "stream",
     "text": [
      "53it [00:10,  4.55it/s]"
     ]
    },
    {
     "name": "stdout",
     "output_type": "stream",
     "text": [
      "51 cTDaR_t00058.xml\n",
      "!!!!!!!!!!!!!!!!!!!!works!!!!!!!!!!!!!!!!!!!!!\n",
      "52 cTDaR_t00059.xml\n",
      "!!!!!!!!!!!!!!!!!!!!works!!!!!!!!!!!!!!!!!!!!!\n"
     ]
    },
    {
     "name": "stderr",
     "output_type": "stream",
     "text": [
      "54it [00:10,  5.02it/s]"
     ]
    },
    {
     "name": "stdout",
     "output_type": "stream",
     "text": [
      "53 cTDaR_t00060.xml\n"
     ]
    },
    {
     "name": "stderr",
     "output_type": "stream",
     "text": [
      "55it [00:10,  4.65it/s]"
     ]
    },
    {
     "name": "stdout",
     "output_type": "stream",
     "text": [
      "54 cTDaR_t00061.xml\n",
      "!!!!!!!!!!!!!!!!!!!!works!!!!!!!!!!!!!!!!!!!!!\n"
     ]
    },
    {
     "name": "stderr",
     "output_type": "stream",
     "text": [
      "56it [00:11,  4.26it/s]"
     ]
    },
    {
     "name": "stdout",
     "output_type": "stream",
     "text": [
      "55 cTDaR_t00062.xml\n"
     ]
    },
    {
     "name": "stderr",
     "output_type": "stream",
     "text": [
      "57it [00:11,  4.16it/s]"
     ]
    },
    {
     "name": "stdout",
     "output_type": "stream",
     "text": [
      "56 cTDaR_t00063.xml\n",
      "57 cTDaR_t00064.xml\n",
      "!!!!!!!!!!!!!!!!!!!!works!!!!!!!!!!!!!!!!!!!!!\n"
     ]
    },
    {
     "name": "stderr",
     "output_type": "stream",
     "text": [
      "59it [00:11,  4.38it/s]"
     ]
    },
    {
     "name": "stdout",
     "output_type": "stream",
     "text": [
      "58 cTDaR_t00065.xml\n",
      "!!!!!!!!!!!!!!!!!!!!works!!!!!!!!!!!!!!!!!!!!!\n"
     ]
    },
    {
     "name": "stderr",
     "output_type": "stream",
     "text": [
      "60it [00:12,  4.31it/s]"
     ]
    },
    {
     "name": "stdout",
     "output_type": "stream",
     "text": [
      "59 cTDaR_t00066.xml\n",
      "!!!!!!!!!!!!!!!!!!!!works!!!!!!!!!!!!!!!!!!!!!\n"
     ]
    },
    {
     "name": "stderr",
     "output_type": "stream",
     "text": [
      "61it [00:12,  3.64it/s]"
     ]
    },
    {
     "name": "stdout",
     "output_type": "stream",
     "text": [
      "60 cTDaR_t00067.xml\n",
      "61 cTDaR_t00068.xml\n",
      "!!!!!!!!!!!!!!!!!!!!works!!!!!!!!!!!!!!!!!!!!!\n"
     ]
    },
    {
     "name": "stderr",
     "output_type": "stream",
     "text": [
      "63it [00:12,  3.89it/s]"
     ]
    },
    {
     "name": "stdout",
     "output_type": "stream",
     "text": [
      "62 cTDaR_t00069.xml\n",
      "!!!!!!!!!!!!!!!!!!!!works!!!!!!!!!!!!!!!!!!!!!\n"
     ]
    },
    {
     "name": "stderr",
     "output_type": "stream",
     "text": [
      "64it [00:13,  4.14it/s]"
     ]
    },
    {
     "name": "stdout",
     "output_type": "stream",
     "text": [
      "63 cTDaR_t00070.xml\n"
     ]
    },
    {
     "name": "stderr",
     "output_type": "stream",
     "text": [
      "65it [00:13,  4.30it/s]"
     ]
    },
    {
     "name": "stdout",
     "output_type": "stream",
     "text": [
      "64 cTDaR_t00091.xml\n",
      "!!!!!!!!!!!!!!!!!!!!works!!!!!!!!!!!!!!!!!!!!!\n"
     ]
    },
    {
     "name": "stderr",
     "output_type": "stream",
     "text": [
      "66it [00:13,  4.39it/s]"
     ]
    },
    {
     "name": "stdout",
     "output_type": "stream",
     "text": [
      "65 cTDaR_t00092.xml\n",
      "!!!!!!!!!!!!!!!!!!!!works!!!!!!!!!!!!!!!!!!!!!\n",
      "66 cTDaR_t00093.xml\n",
      "!!!!!!!!!!!!!!!!!!!!works!!!!!!!!!!!!!!!!!!!!!\n"
     ]
    },
    {
     "name": "stderr",
     "output_type": "stream",
     "text": [
      "69it [00:14,  4.72it/s]"
     ]
    },
    {
     "name": "stdout",
     "output_type": "stream",
     "text": [
      "67 cTDaR_t00094.xml\n",
      "!!!!!!!!!!!!!!!!!!!!works!!!!!!!!!!!!!!!!!!!!!\n",
      "68 cTDaR_t00095.xml\n",
      "!!!!!!!!!!!!!!!!!!!!works!!!!!!!!!!!!!!!!!!!!!\n"
     ]
    },
    {
     "name": "stderr",
     "output_type": "stream",
     "text": [
      "70it [00:14,  4.80it/s]"
     ]
    },
    {
     "name": "stdout",
     "output_type": "stream",
     "text": [
      "69 cTDaR_t00096.xml\n",
      "!!!!!!!!!!!!!!!!!!!!works!!!!!!!!!!!!!!!!!!!!!\n"
     ]
    },
    {
     "name": "stderr",
     "output_type": "stream",
     "text": [
      "72it [00:14,  4.91it/s]"
     ]
    },
    {
     "name": "stdout",
     "output_type": "stream",
     "text": [
      "70 cTDaR_t00097.xml\n",
      "!!!!!!!!!!!!!!!!!!!!works!!!!!!!!!!!!!!!!!!!!!\n",
      "71 cTDaR_t00098.xml\n",
      "!!!!!!!!!!!!!!!!!!!!works!!!!!!!!!!!!!!!!!!!!!\n"
     ]
    },
    {
     "name": "stderr",
     "output_type": "stream",
     "text": [
      "73it [00:15,  4.94it/s]"
     ]
    },
    {
     "name": "stdout",
     "output_type": "stream",
     "text": [
      "72 cTDaR_t00099.xml\n",
      "!!!!!!!!!!!!!!!!!!!!works!!!!!!!!!!!!!!!!!!!!!\n"
     ]
    },
    {
     "name": "stderr",
     "output_type": "stream",
     "text": [
      "74it [00:15,  4.95it/s]"
     ]
    },
    {
     "name": "stdout",
     "output_type": "stream",
     "text": [
      "73 cTDaR_t00100.xml\n",
      "!!!!!!!!!!!!!!!!!!!!works!!!!!!!!!!!!!!!!!!!!!\n"
     ]
    },
    {
     "name": "stderr",
     "output_type": "stream",
     "text": [
      "75it [00:15,  4.85it/s]"
     ]
    },
    {
     "name": "stdout",
     "output_type": "stream",
     "text": [
      "74 cTDaR_t00101.xml\n",
      "!!!!!!!!!!!!!!!!!!!!works!!!!!!!!!!!!!!!!!!!!!\n",
      "75 cTDaR_t00116.xml\n"
     ]
    },
    {
     "name": "stderr",
     "output_type": "stream",
     "text": [
      "79it [00:15,  7.44it/s]"
     ]
    },
    {
     "name": "stdout",
     "output_type": "stream",
     "text": [
      "76 cTDaR_t00117.xml\n",
      "77 cTDaR_t00118.xml\n",
      "78 cTDaR_t00119.xml\n"
     ]
    },
    {
     "name": "stderr",
     "output_type": "stream",
     "text": [
      "82it [00:16,  8.60it/s]"
     ]
    },
    {
     "name": "stdout",
     "output_type": "stream",
     "text": [
      "79 cTDaR_t00120.xml\n",
      "80 cTDaR_t00121.xml\n",
      "81 cTDaR_t00122.xml\n"
     ]
    },
    {
     "name": "stderr",
     "output_type": "stream",
     "text": [
      "83it [00:16,  3.95it/s]"
     ]
    },
    {
     "name": "stdout",
     "output_type": "stream",
     "text": [
      "82 cTDaR_t00125.xml\n"
     ]
    },
    {
     "name": "stderr",
     "output_type": "stream",
     "text": [
      "84it [00:17,  2.73it/s]"
     ]
    },
    {
     "name": "stdout",
     "output_type": "stream",
     "text": [
      "83 cTDaR_t00126.xml\n"
     ]
    },
    {
     "name": "stderr",
     "output_type": "stream",
     "text": [
      "85it [00:18,  2.24it/s]"
     ]
    },
    {
     "name": "stdout",
     "output_type": "stream",
     "text": [
      "84 cTDaR_t00127.xml\n"
     ]
    },
    {
     "name": "stderr",
     "output_type": "stream",
     "text": [
      "86it [00:19,  1.79it/s]"
     ]
    },
    {
     "name": "stdout",
     "output_type": "stream",
     "text": [
      "85 cTDaR_t00128.xml\n"
     ]
    },
    {
     "name": "stderr",
     "output_type": "stream",
     "text": [
      "87it [00:19,  1.64it/s]"
     ]
    },
    {
     "name": "stdout",
     "output_type": "stream",
     "text": [
      "86 cTDaR_t00129.xml\n"
     ]
    },
    {
     "name": "stderr",
     "output_type": "stream",
     "text": [
      "88it [00:20,  1.54it/s]"
     ]
    },
    {
     "name": "stdout",
     "output_type": "stream",
     "text": [
      "87 cTDaR_t00130.xml\n"
     ]
    },
    {
     "name": "stderr",
     "output_type": "stream",
     "text": [
      "89it [00:21,  1.38it/s]"
     ]
    },
    {
     "name": "stdout",
     "output_type": "stream",
     "text": [
      "88 cTDaR_t00131.xml\n"
     ]
    },
    {
     "name": "stderr",
     "output_type": "stream",
     "text": [
      "90it [00:22,  1.39it/s]"
     ]
    },
    {
     "name": "stdout",
     "output_type": "stream",
     "text": [
      "89 cTDaR_t00132.xml\n"
     ]
    },
    {
     "name": "stderr",
     "output_type": "stream",
     "text": [
      "91it [00:23,  1.34it/s]"
     ]
    },
    {
     "name": "stdout",
     "output_type": "stream",
     "text": [
      "90 cTDaR_t00133.xml\n"
     ]
    },
    {
     "name": "stderr",
     "output_type": "stream",
     "text": [
      "92it [00:23,  1.34it/s]"
     ]
    },
    {
     "name": "stdout",
     "output_type": "stream",
     "text": [
      "91 cTDaR_t00134.xml\n"
     ]
    },
    {
     "name": "stderr",
     "output_type": "stream",
     "text": [
      "93it [00:24,  1.35it/s]"
     ]
    },
    {
     "name": "stdout",
     "output_type": "stream",
     "text": [
      "92 cTDaR_t00135.xml\n"
     ]
    },
    {
     "name": "stderr",
     "output_type": "stream",
     "text": [
      "94it [00:25,  1.35it/s]"
     ]
    },
    {
     "name": "stdout",
     "output_type": "stream",
     "text": [
      "93 cTDaR_t00136.xml\n"
     ]
    },
    {
     "name": "stderr",
     "output_type": "stream",
     "text": [
      "95it [00:26,  1.31it/s]"
     ]
    },
    {
     "name": "stdout",
     "output_type": "stream",
     "text": [
      "94 cTDaR_t00137.xml\n"
     ]
    },
    {
     "name": "stderr",
     "output_type": "stream",
     "text": [
      "96it [00:26,  1.32it/s]"
     ]
    },
    {
     "name": "stdout",
     "output_type": "stream",
     "text": [
      "95 cTDaR_t00138.xml\n"
     ]
    },
    {
     "name": "stderr",
     "output_type": "stream",
     "text": [
      "97it [00:27,  1.27it/s]"
     ]
    },
    {
     "name": "stdout",
     "output_type": "stream",
     "text": [
      "96 cTDaR_t00139.xml\n"
     ]
    },
    {
     "name": "stderr",
     "output_type": "stream",
     "text": [
      "98it [00:28,  1.30it/s]"
     ]
    },
    {
     "name": "stdout",
     "output_type": "stream",
     "text": [
      "97 cTDaR_t00140.xml\n"
     ]
    },
    {
     "name": "stderr",
     "output_type": "stream",
     "text": [
      "99it [00:29,  1.31it/s]"
     ]
    },
    {
     "name": "stdout",
     "output_type": "stream",
     "text": [
      "98 cTDaR_t00141.xml\n"
     ]
    },
    {
     "name": "stderr",
     "output_type": "stream",
     "text": [
      "100it [00:29,  1.34it/s]"
     ]
    },
    {
     "name": "stdout",
     "output_type": "stream",
     "text": [
      "99 cTDaR_t00142.xml\n"
     ]
    },
    {
     "name": "stderr",
     "output_type": "stream",
     "text": [
      "101it [00:30,  1.28it/s]"
     ]
    },
    {
     "name": "stdout",
     "output_type": "stream",
     "text": [
      "100 cTDaR_t00143.xml\n"
     ]
    },
    {
     "name": "stderr",
     "output_type": "stream",
     "text": [
      "102it [00:31,  1.32it/s]"
     ]
    },
    {
     "name": "stdout",
     "output_type": "stream",
     "text": [
      "101 cTDaR_t00144.xml\n"
     ]
    },
    {
     "name": "stderr",
     "output_type": "stream",
     "text": [
      "103it [00:32,  1.31it/s]"
     ]
    },
    {
     "name": "stdout",
     "output_type": "stream",
     "text": [
      "102 cTDaR_t00145.xml\n"
     ]
    },
    {
     "name": "stderr",
     "output_type": "stream",
     "text": [
      "104it [00:32,  1.46it/s]"
     ]
    },
    {
     "name": "stdout",
     "output_type": "stream",
     "text": [
      "103 cTDaR_t00167.xml\n"
     ]
    },
    {
     "name": "stderr",
     "output_type": "stream",
     "text": [
      "105it [00:33,  1.65it/s]"
     ]
    },
    {
     "name": "stdout",
     "output_type": "stream",
     "text": [
      "104 cTDaR_t00168.xml\n"
     ]
    },
    {
     "name": "stderr",
     "output_type": "stream",
     "text": [
      "107it [00:33,  2.12it/s]"
     ]
    },
    {
     "name": "stdout",
     "output_type": "stream",
     "text": [
      "105 cTDaR_t00169.xml\n",
      "106 cTDaR_t00170.xml\n"
     ]
    },
    {
     "name": "stderr",
     "output_type": "stream",
     "text": [
      "108it [00:34,  2.32it/s]"
     ]
    },
    {
     "name": "stdout",
     "output_type": "stream",
     "text": [
      "107 cTDaR_t00171.xml\n"
     ]
    },
    {
     "name": "stderr",
     "output_type": "stream",
     "text": [
      "109it [00:34,  2.10it/s]"
     ]
    },
    {
     "name": "stdout",
     "output_type": "stream",
     "text": [
      "108 cTDaR_t00172.xml\n"
     ]
    },
    {
     "name": "stderr",
     "output_type": "stream",
     "text": [
      "110it [00:35,  1.56it/s]"
     ]
    },
    {
     "name": "stdout",
     "output_type": "stream",
     "text": [
      "109 cTDaR_t00173.xml\n"
     ]
    },
    {
     "name": "stderr",
     "output_type": "stream",
     "text": [
      "111it [00:36,  1.40it/s]"
     ]
    },
    {
     "name": "stdout",
     "output_type": "stream",
     "text": [
      "110 cTDaR_t00174.xml\n",
      "!!!!!!!!!!!!!!!!!!!!works!!!!!!!!!!!!!!!!!!!!!\n"
     ]
    },
    {
     "name": "stderr",
     "output_type": "stream",
     "text": [
      "112it [00:36,  1.75it/s]"
     ]
    },
    {
     "name": "stdout",
     "output_type": "stream",
     "text": [
      "111 cTDaR_t00177.xml\n"
     ]
    },
    {
     "name": "stderr",
     "output_type": "stream",
     "text": [
      "113it [00:37,  2.11it/s]"
     ]
    },
    {
     "name": "stdout",
     "output_type": "stream",
     "text": [
      "112 cTDaR_t00178.xml\n"
     ]
    },
    {
     "name": "stderr",
     "output_type": "stream",
     "text": [
      "114it [00:37,  2.52it/s]"
     ]
    },
    {
     "name": "stdout",
     "output_type": "stream",
     "text": [
      "113 cTDaR_t00179.xml\n"
     ]
    },
    {
     "name": "stderr",
     "output_type": "stream",
     "text": [
      "115it [00:37,  2.77it/s]"
     ]
    },
    {
     "name": "stdout",
     "output_type": "stream",
     "text": [
      "114 cTDaR_t00180.xml\n"
     ]
    },
    {
     "name": "stderr",
     "output_type": "stream",
     "text": [
      "116it [00:37,  3.07it/s]"
     ]
    },
    {
     "name": "stdout",
     "output_type": "stream",
     "text": [
      "115 cTDaR_t00181.xml\n"
     ]
    },
    {
     "name": "stderr",
     "output_type": "stream",
     "text": [
      "117it [00:38,  3.27it/s]"
     ]
    },
    {
     "name": "stdout",
     "output_type": "stream",
     "text": [
      "116 cTDaR_t00182.xml\n"
     ]
    },
    {
     "name": "stderr",
     "output_type": "stream",
     "text": [
      "118it [00:38,  3.60it/s]"
     ]
    },
    {
     "name": "stdout",
     "output_type": "stream",
     "text": [
      "117 cTDaR_t00183.xml\n"
     ]
    },
    {
     "name": "stderr",
     "output_type": "stream",
     "text": [
      "119it [00:38,  3.84it/s]"
     ]
    },
    {
     "name": "stdout",
     "output_type": "stream",
     "text": [
      "118 cTDaR_t00184.xml\n"
     ]
    },
    {
     "name": "stderr",
     "output_type": "stream",
     "text": [
      "120it [00:38,  3.89it/s]"
     ]
    },
    {
     "name": "stdout",
     "output_type": "stream",
     "text": [
      "119 cTDaR_t00185.xml\n"
     ]
    },
    {
     "name": "stderr",
     "output_type": "stream",
     "text": [
      "121it [00:39,  4.07it/s]"
     ]
    },
    {
     "name": "stdout",
     "output_type": "stream",
     "text": [
      "120 cTDaR_t00186.xml\n"
     ]
    },
    {
     "name": "stderr",
     "output_type": "stream",
     "text": [
      "122it [00:39,  4.22it/s]"
     ]
    },
    {
     "name": "stdout",
     "output_type": "stream",
     "text": [
      "121 cTDaR_t00187.xml\n"
     ]
    },
    {
     "name": "stderr",
     "output_type": "stream",
     "text": [
      "123it [00:39,  4.37it/s]"
     ]
    },
    {
     "name": "stdout",
     "output_type": "stream",
     "text": [
      "122 cTDaR_t00188.xml\n"
     ]
    },
    {
     "name": "stderr",
     "output_type": "stream",
     "text": [
      "124it [00:39,  4.54it/s]"
     ]
    },
    {
     "name": "stdout",
     "output_type": "stream",
     "text": [
      "123 cTDaR_t00189.xml\n"
     ]
    },
    {
     "name": "stderr",
     "output_type": "stream",
     "text": [
      "125it [00:39,  4.66it/s]"
     ]
    },
    {
     "name": "stdout",
     "output_type": "stream",
     "text": [
      "124 cTDaR_t00190.xml\n"
     ]
    },
    {
     "name": "stderr",
     "output_type": "stream",
     "text": [
      "126it [00:40,  3.51it/s]"
     ]
    },
    {
     "name": "stdout",
     "output_type": "stream",
     "text": [
      "125 cTDaR_t00191.xml\n",
      "!!!!!!!!!!!!!!!!!!!!works!!!!!!!!!!!!!!!!!!!!!\n",
      "!!!!!!!!!!!!!!!!!!!!works!!!!!!!!!!!!!!!!!!!!!\n",
      "!!!!!!!!!!!!!!!!!!!!works!!!!!!!!!!!!!!!!!!!!!\n",
      "!!!!!!!!!!!!!!!!!!!!works!!!!!!!!!!!!!!!!!!!!!\n"
     ]
    },
    {
     "name": "stderr",
     "output_type": "stream",
     "text": [
      "127it [00:40,  3.63it/s]"
     ]
    },
    {
     "name": "stdout",
     "output_type": "stream",
     "text": [
      "126 cTDaR_t00192.xml\n",
      "127 cTDaR_t00198.xml\n"
     ]
    },
    {
     "name": "stderr",
     "output_type": "stream",
     "text": [
      "129it [00:41,  3.37it/s]"
     ]
    },
    {
     "name": "stdout",
     "output_type": "stream",
     "text": [
      "128 cTDaR_t00199.xml\n"
     ]
    },
    {
     "name": "stderr",
     "output_type": "stream",
     "text": [
      "130it [00:41,  2.70it/s]"
     ]
    },
    {
     "name": "stdout",
     "output_type": "stream",
     "text": [
      "129 cTDaR_t00200.xml\n"
     ]
    },
    {
     "name": "stderr",
     "output_type": "stream",
     "text": [
      "131it [00:42,  2.43it/s]"
     ]
    },
    {
     "name": "stdout",
     "output_type": "stream",
     "text": [
      "130 cTDaR_t00201.xml\n"
     ]
    },
    {
     "name": "stderr",
     "output_type": "stream",
     "text": [
      "132it [00:42,  2.23it/s]"
     ]
    },
    {
     "name": "stdout",
     "output_type": "stream",
     "text": [
      "131 cTDaR_t00202.xml\n"
     ]
    },
    {
     "name": "stderr",
     "output_type": "stream",
     "text": [
      "133it [00:43,  2.12it/s]"
     ]
    },
    {
     "name": "stdout",
     "output_type": "stream",
     "text": [
      "132 cTDaR_t00203.xml\n"
     ]
    },
    {
     "name": "stderr",
     "output_type": "stream",
     "text": [
      "134it [00:44,  2.02it/s]"
     ]
    },
    {
     "name": "stdout",
     "output_type": "stream",
     "text": [
      "133 cTDaR_t00204.xml\n"
     ]
    },
    {
     "name": "stderr",
     "output_type": "stream",
     "text": [
      "135it [00:44,  1.84it/s]"
     ]
    },
    {
     "name": "stdout",
     "output_type": "stream",
     "text": [
      "134 cTDaR_t00205.xml\n"
     ]
    },
    {
     "name": "stderr",
     "output_type": "stream",
     "text": [
      "136it [00:45,  1.87it/s]"
     ]
    },
    {
     "name": "stdout",
     "output_type": "stream",
     "text": [
      "135 cTDaR_t00206.xml\n"
     ]
    },
    {
     "name": "stderr",
     "output_type": "stream",
     "text": [
      "137it [00:45,  1.75it/s]"
     ]
    },
    {
     "name": "stdout",
     "output_type": "stream",
     "text": [
      "136 cTDaR_t00207.xml\n"
     ]
    },
    {
     "name": "stderr",
     "output_type": "stream",
     "text": [
      "138it [00:46,  1.54it/s]"
     ]
    },
    {
     "name": "stdout",
     "output_type": "stream",
     "text": [
      "137 cTDaR_t00208.xml\n"
     ]
    },
    {
     "name": "stderr",
     "output_type": "stream",
     "text": [
      "139it [00:47,  1.54it/s]"
     ]
    },
    {
     "name": "stdout",
     "output_type": "stream",
     "text": [
      "138 cTDaR_t00209.xml\n"
     ]
    },
    {
     "name": "stderr",
     "output_type": "stream",
     "text": [
      "140it [00:47,  1.81it/s]"
     ]
    },
    {
     "name": "stdout",
     "output_type": "stream",
     "text": [
      "139 cTDaR_t00228.xml\n"
     ]
    },
    {
     "name": "stderr",
     "output_type": "stream",
     "text": [
      "141it [00:47,  2.12it/s]"
     ]
    },
    {
     "name": "stdout",
     "output_type": "stream",
     "text": [
      "140 cTDaR_t00229.xml\n"
     ]
    },
    {
     "name": "stderr",
     "output_type": "stream",
     "text": [
      "143it [00:48,  2.86it/s]"
     ]
    },
    {
     "name": "stdout",
     "output_type": "stream",
     "text": [
      "141 cTDaR_t00230.xml\n",
      "142 cTDaR_t00231.xml\n"
     ]
    },
    {
     "name": "stderr",
     "output_type": "stream",
     "text": [
      "143it [00:48,  2.94it/s]\n"
     ]
    },
    {
     "ename": "KeyboardInterrupt",
     "evalue": "",
     "output_type": "error",
     "traceback": [
      "\u001b[1;31m---------------------------------------------------------------------------\u001b[0m",
      "\u001b[1;31mKeyboardInterrupt\u001b[0m                         Traceback (most recent call last)",
      "Cell \u001b[1;32mIn[109], line 11\u001b[0m\n\u001b[0;32m      9\u001b[0m w, h \u001b[38;5;241m=\u001b[39m image\u001b[38;5;241m.\u001b[39msize\n\u001b[0;32m     10\u001b[0m \u001b[38;5;66;03m#convert to RGB image\u001b[39;00m\n\u001b[1;32m---> 11\u001b[0m image \u001b[38;5;241m=\u001b[39m \u001b[43mimage\u001b[49m\u001b[38;5;241;43m.\u001b[39;49m\u001b[43mresize\u001b[49m\u001b[43m(\u001b[49m\u001b[43m(\u001b[49m\u001b[43mnew_h\u001b[49m\u001b[43m,\u001b[49m\u001b[43m \u001b[49m\u001b[43mnew_w\u001b[49m\u001b[43m)\u001b[49m\u001b[43m)\u001b[49m\n\u001b[0;32m     12\u001b[0m \u001b[38;5;28;01mif\u001b[39;00m image\u001b[38;5;241m.\u001b[39mmode \u001b[38;5;241m!=\u001b[39m \u001b[38;5;124m'\u001b[39m\u001b[38;5;124mRGB\u001b[39m\u001b[38;5;124m'\u001b[39m:\n\u001b[0;32m     13\u001b[0m     image \u001b[38;5;241m=\u001b[39m image\u001b[38;5;241m.\u001b[39mconvert(\u001b[38;5;124m\"\u001b[39m\u001b[38;5;124mRGB\u001b[39m\u001b[38;5;124m\"\u001b[39m)\n",
      "File \u001b[1;32mc:\\Users\\sid\\AppData\\Local\\Programs\\Python\\Python310\\lib\\site-packages\\PIL\\Image.py:2192\u001b[0m, in \u001b[0;36mImage.resize\u001b[1;34m(self, size, resample, box, reducing_gap)\u001b[0m\n\u001b[0;32m   2184\u001b[0m             \u001b[38;5;28mself\u001b[39m \u001b[38;5;241m=\u001b[39m Image\u001b[38;5;241m.\u001b[39mreduce(\u001b[38;5;28mself\u001b[39m, factor, box\u001b[38;5;241m=\u001b[39mreduce_box)\n\u001b[0;32m   2185\u001b[0m         box \u001b[38;5;241m=\u001b[39m (\n\u001b[0;32m   2186\u001b[0m             (box[\u001b[38;5;241m0\u001b[39m] \u001b[38;5;241m-\u001b[39m reduce_box[\u001b[38;5;241m0\u001b[39m]) \u001b[38;5;241m/\u001b[39m factor_x,\n\u001b[0;32m   2187\u001b[0m             (box[\u001b[38;5;241m1\u001b[39m] \u001b[38;5;241m-\u001b[39m reduce_box[\u001b[38;5;241m1\u001b[39m]) \u001b[38;5;241m/\u001b[39m factor_y,\n\u001b[0;32m   2188\u001b[0m             (box[\u001b[38;5;241m2\u001b[39m] \u001b[38;5;241m-\u001b[39m reduce_box[\u001b[38;5;241m0\u001b[39m]) \u001b[38;5;241m/\u001b[39m factor_x,\n\u001b[0;32m   2189\u001b[0m             (box[\u001b[38;5;241m3\u001b[39m] \u001b[38;5;241m-\u001b[39m reduce_box[\u001b[38;5;241m1\u001b[39m]) \u001b[38;5;241m/\u001b[39m factor_y,\n\u001b[0;32m   2190\u001b[0m         )\n\u001b[1;32m-> 2192\u001b[0m \u001b[38;5;28;01mreturn\u001b[39;00m \u001b[38;5;28mself\u001b[39m\u001b[38;5;241m.\u001b[39m_new(\u001b[38;5;28;43mself\u001b[39;49m\u001b[38;5;241;43m.\u001b[39;49m\u001b[43mim\u001b[49m\u001b[38;5;241;43m.\u001b[39;49m\u001b[43mresize\u001b[49m\u001b[43m(\u001b[49m\u001b[43msize\u001b[49m\u001b[43m,\u001b[49m\u001b[43m \u001b[49m\u001b[43mresample\u001b[49m\u001b[43m,\u001b[49m\u001b[43m \u001b[49m\u001b[43mbox\u001b[49m\u001b[43m)\u001b[49m)\n",
      "\u001b[1;31mKeyboardInterrupt\u001b[0m: "
     ]
    }
   ],
   "source": [
    "# processed_data = []\n",
    "\n",
    "for i, data in enumerate([jpgs]):\n",
    "    \n",
    "    for j, img_path in tqdm(enumerate(data)):\n",
    "    #    if j > 99: \n",
    "        image_name = os.path.basename(img_path)\n",
    "        image = Image.open(img_path)\n",
    "        w, h = image.size\n",
    "        #convert to RGB image\n",
    "        image = image.resize((new_h, new_w))\n",
    "        if image.mode != 'RGB':\n",
    "            image = image.convert(\"RGB\")\n",
    "        # table_bboxes, col_bboxes = [], []\n",
    "            \n",
    "        #get xml filename\n",
    "        xml_file = image_name.replace('.jpg', '.xml')\n",
    "        xml_file = xml_file.replace('.JPG', '.xml')\n",
    "        xml_path = os.path.join(ORIG_DATA_PATH, xml_file)\n",
    "        # xml_file.replace(\" \", \"\")\n",
    "        #processing XML\n",
    "        tree = ET.parse(xml_path)\n",
    "        root = tree.getroot()\n",
    "        print(j, xml_file)\n",
    "        tables, all_points, max_col = getall(root)\n",
    "        all_points = customsort(all_points)\n",
    "        \n",
    "        crds = toplot(all_points, max_col)\n",
    "        # print(crds, tables)\n",
    "        colmask, tablemask = os.path.join(COL_MASK_PATH, image_name), os.path.join(TABLE_MASK_PATH, image_name)\n",
    "        colplot(crds, img_path, colmask)\n",
    "        tableplot(tables, img_path, tablemask)\n",
    "        value = (img_path, tablemask, colmask, h, w, int(tables != 0), \\\n",
    "                len(tables), len(crds), tables, crds)\n",
    "        \n",
    "        processed_data.append(value)\n",
    "            # print(xml_path, w, h)\n",
    "        # if j == 100:\n",
    "            # break"
   ]
  },
  {
   "cell_type": "code",
   "execution_count": 69,
   "metadata": {},
   "outputs": [],
   "source": [
    "column_name = ['img_path','table_mask','col_mask','original_height','original_width','hasTable','table_count','col_count','table_bboxes','col_bboxes']\n",
    "processed_data = pd.DataFrame(processed_data, columns=column_name)"
   ]
  },
  {
   "cell_type": "code",
   "execution_count": 70,
   "metadata": {},
   "outputs": [],
   "source": [
    "processed_data.to_csv(\"processed_data.csv\", index = False)"
   ]
  },
  {
   "cell_type": "code",
   "execution_count": 62,
   "metadata": {},
   "outputs": [
    {
     "data": {
      "text/html": [
       "<div>\n",
       "<style scoped>\n",
       "    .dataframe tbody tr th:only-of-type {\n",
       "        vertical-align: middle;\n",
       "    }\n",
       "\n",
       "    .dataframe tbody tr th {\n",
       "        vertical-align: top;\n",
       "    }\n",
       "\n",
       "    .dataframe thead th {\n",
       "        text-align: right;\n",
       "    }\n",
       "</style>\n",
       "<table border=\"1\" class=\"dataframe\">\n",
       "  <thead>\n",
       "    <tr style=\"text-align: right;\">\n",
       "      <th></th>\n",
       "      <th>img_path</th>\n",
       "      <th>table_mask</th>\n",
       "      <th>col_mask</th>\n",
       "      <th>original_height</th>\n",
       "      <th>original_width</th>\n",
       "      <th>hasTable</th>\n",
       "      <th>table_count</th>\n",
       "      <th>col_count</th>\n",
       "      <th>table_bboxes</th>\n",
       "      <th>col_bboxes</th>\n",
       "    </tr>\n",
       "  </thead>\n",
       "  <tbody>\n",
       "    <tr>\n",
       "      <th>0</th>\n",
       "      <td>./ICDAR/ICDAR2019_cTDaR/training/TRACKB1/groun...</td>\n",
       "      <td>./ICDAR/ICDAR_Processed\\table_mask\\cTDaR_t0000...</td>\n",
       "      <td>./ICDAR/ICDAR_Processed\\col_mask\\cTDaR_t00000.jpg</td>\n",
       "      <td>3584</td>\n",
       "      <td>4912</td>\n",
       "      <td>1</td>\n",
       "      <td>1</td>\n",
       "      <td>1</td>\n",
       "      <td>[[(1722, 698), (3961, 698), (3961, 3247), (172...</td>\n",
       "      <td>[[[(1742, 698), (1695, 3239), (1740, 3239), (1...</td>\n",
       "    </tr>\n",
       "    <tr>\n",
       "      <th>1</th>\n",
       "      <td>./ICDAR/ICDAR2019_cTDaR/training/TRACKB1/groun...</td>\n",
       "      <td>./ICDAR/ICDAR_Processed\\table_mask\\cTDaR_t0000...</td>\n",
       "      <td>./ICDAR/ICDAR_Processed\\col_mask\\cTDaR_t00001.jpg</td>\n",
       "      <td>3584</td>\n",
       "      <td>4912</td>\n",
       "      <td>1</td>\n",
       "      <td>2</td>\n",
       "      <td>2</td>\n",
       "      <td>[[(130, 538), (2398, 615), (2327, 3112), (128,...</td>\n",
       "      <td>[[[(129, 542), (69, 3073), (106, 3073), (153, ...</td>\n",
       "    </tr>\n",
       "    <tr>\n",
       "      <th>2</th>\n",
       "      <td>./ICDAR/ICDAR2019_cTDaR/training/TRACKB1/groun...</td>\n",
       "      <td>./ICDAR/ICDAR_Processed\\table_mask\\cTDaR_t0000...</td>\n",
       "      <td>./ICDAR/ICDAR_Processed\\col_mask\\cTDaR_t00002.jpg</td>\n",
       "      <td>3584</td>\n",
       "      <td>4912</td>\n",
       "      <td>1</td>\n",
       "      <td>2</td>\n",
       "      <td>2</td>\n",
       "      <td>[[(149, 521), (2425, 639), (2317, 3117), (163,...</td>\n",
       "      <td>[[[(162, 526), (138, 1173), (48, 3065), (182, ...</td>\n",
       "    </tr>\n",
       "    <tr>\n",
       "      <th>3</th>\n",
       "      <td>./ICDAR/ICDAR2019_cTDaR/training/TRACKB1/groun...</td>\n",
       "      <td>./ICDAR/ICDAR_Processed\\table_mask\\cTDaR_t0000...</td>\n",
       "      <td>./ICDAR/ICDAR_Processed\\col_mask\\cTDaR_t00003.jpg</td>\n",
       "      <td>3584</td>\n",
       "      <td>4912</td>\n",
       "      <td>1</td>\n",
       "      <td>2</td>\n",
       "      <td>2</td>\n",
       "      <td>[[(296, 237), (2461, 473), (2209, 3015), (346,...</td>\n",
       "      <td>[[[(323, 228), (33, 2780), (97, 2792), (363, 2...</td>\n",
       "    </tr>\n",
       "    <tr>\n",
       "      <th>4</th>\n",
       "      <td>./ICDAR/ICDAR2019_cTDaR/training/TRACKB1/groun...</td>\n",
       "      <td>./ICDAR/ICDAR_Processed\\table_mask\\cTDaR_t0000...</td>\n",
       "      <td>./ICDAR/ICDAR_Processed\\col_mask\\cTDaR_t00004.jpg</td>\n",
       "      <td>3584</td>\n",
       "      <td>4912</td>\n",
       "      <td>1</td>\n",
       "      <td>2</td>\n",
       "      <td>2</td>\n",
       "      <td>[[(169, 374), (2278, 462), (2265, 3022), (180,...</td>\n",
       "      <td>[[[(183, 385), (85, 3064), (145, 3064), (231, ...</td>\n",
       "    </tr>\n",
       "  </tbody>\n",
       "</table>\n",
       "</div>"
      ],
      "text/plain": [
       "                                            img_path  \\\n",
       "0  ./ICDAR/ICDAR2019_cTDaR/training/TRACKB1/groun...   \n",
       "1  ./ICDAR/ICDAR2019_cTDaR/training/TRACKB1/groun...   \n",
       "2  ./ICDAR/ICDAR2019_cTDaR/training/TRACKB1/groun...   \n",
       "3  ./ICDAR/ICDAR2019_cTDaR/training/TRACKB1/groun...   \n",
       "4  ./ICDAR/ICDAR2019_cTDaR/training/TRACKB1/groun...   \n",
       "\n",
       "                                          table_mask  \\\n",
       "0  ./ICDAR/ICDAR_Processed\\table_mask\\cTDaR_t0000...   \n",
       "1  ./ICDAR/ICDAR_Processed\\table_mask\\cTDaR_t0000...   \n",
       "2  ./ICDAR/ICDAR_Processed\\table_mask\\cTDaR_t0000...   \n",
       "3  ./ICDAR/ICDAR_Processed\\table_mask\\cTDaR_t0000...   \n",
       "4  ./ICDAR/ICDAR_Processed\\table_mask\\cTDaR_t0000...   \n",
       "\n",
       "                                            col_mask  original_height  \\\n",
       "0  ./ICDAR/ICDAR_Processed\\col_mask\\cTDaR_t00000.jpg             3584   \n",
       "1  ./ICDAR/ICDAR_Processed\\col_mask\\cTDaR_t00001.jpg             3584   \n",
       "2  ./ICDAR/ICDAR_Processed\\col_mask\\cTDaR_t00002.jpg             3584   \n",
       "3  ./ICDAR/ICDAR_Processed\\col_mask\\cTDaR_t00003.jpg             3584   \n",
       "4  ./ICDAR/ICDAR_Processed\\col_mask\\cTDaR_t00004.jpg             3584   \n",
       "\n",
       "   original_width  hasTable  table_count  col_count  \\\n",
       "0            4912         1            1          1   \n",
       "1            4912         1            2          2   \n",
       "2            4912         1            2          2   \n",
       "3            4912         1            2          2   \n",
       "4            4912         1            2          2   \n",
       "\n",
       "                                        table_bboxes  \\\n",
       "0  [[(1722, 698), (3961, 698), (3961, 3247), (172...   \n",
       "1  [[(130, 538), (2398, 615), (2327, 3112), (128,...   \n",
       "2  [[(149, 521), (2425, 639), (2317, 3117), (163,...   \n",
       "3  [[(296, 237), (2461, 473), (2209, 3015), (346,...   \n",
       "4  [[(169, 374), (2278, 462), (2265, 3022), (180,...   \n",
       "\n",
       "                                          col_bboxes  \n",
       "0  [[[(1742, 698), (1695, 3239), (1740, 3239), (1...  \n",
       "1  [[[(129, 542), (69, 3073), (106, 3073), (153, ...  \n",
       "2  [[[(162, 526), (138, 1173), (48, 3065), (182, ...  \n",
       "3  [[[(323, 228), (33, 2780), (97, 2792), (363, 2...  \n",
       "4  [[[(183, 385), (85, 3064), (145, 3064), (231, ...  "
      ]
     },
     "execution_count": 62,
     "metadata": {},
     "output_type": "execute_result"
    }
   ],
   "source": [
    "processed_data.head()"
   ]
  },
  {
   "cell_type": "code",
   "execution_count": 71,
   "metadata": {},
   "outputs": [],
   "source": [
    "processed_data = pd.read_csv('processed_data.csv')"
   ]
  },
  {
   "cell_type": "code",
   "execution_count": 72,
   "metadata": {},
   "outputs": [
    {
     "data": {
      "text/html": [
       "<div>\n",
       "<style scoped>\n",
       "    .dataframe tbody tr th:only-of-type {\n",
       "        vertical-align: middle;\n",
       "    }\n",
       "\n",
       "    .dataframe tbody tr th {\n",
       "        vertical-align: top;\n",
       "    }\n",
       "\n",
       "    .dataframe thead th {\n",
       "        text-align: right;\n",
       "    }\n",
       "</style>\n",
       "<table border=\"1\" class=\"dataframe\">\n",
       "  <thead>\n",
       "    <tr style=\"text-align: right;\">\n",
       "      <th></th>\n",
       "      <th>img_path</th>\n",
       "      <th>table_mask</th>\n",
       "      <th>col_mask</th>\n",
       "      <th>original_height</th>\n",
       "      <th>original_width</th>\n",
       "      <th>hasTable</th>\n",
       "      <th>table_count</th>\n",
       "      <th>col_count</th>\n",
       "      <th>table_bboxes</th>\n",
       "      <th>col_bboxes</th>\n",
       "    </tr>\n",
       "  </thead>\n",
       "  <tbody>\n",
       "    <tr>\n",
       "      <th>0</th>\n",
       "      <td>./ICDAR/ICDAR2019_cTDaR/training/TRACKB1/groun...</td>\n",
       "      <td>./ICDAR/ICDAR_Processed\\table_mask\\cTDaR_t0000...</td>\n",
       "      <td>./ICDAR/ICDAR_Processed\\col_mask\\cTDaR_t00000.jpg</td>\n",
       "      <td>3584</td>\n",
       "      <td>4912</td>\n",
       "      <td>1</td>\n",
       "      <td>1</td>\n",
       "      <td>1</td>\n",
       "      <td>[[(1722, 698), (3961, 698), (3961, 3247), (172...</td>\n",
       "      <td>[[[(1742, 698), (1695, 3239), (1740, 3239), (1...</td>\n",
       "    </tr>\n",
       "    <tr>\n",
       "      <th>1</th>\n",
       "      <td>./ICDAR/ICDAR2019_cTDaR/training/TRACKB1/groun...</td>\n",
       "      <td>./ICDAR/ICDAR_Processed\\table_mask\\cTDaR_t0000...</td>\n",
       "      <td>./ICDAR/ICDAR_Processed\\col_mask\\cTDaR_t00001.jpg</td>\n",
       "      <td>3584</td>\n",
       "      <td>4912</td>\n",
       "      <td>1</td>\n",
       "      <td>2</td>\n",
       "      <td>2</td>\n",
       "      <td>[[(130, 538), (2398, 615), (2327, 3112), (128,...</td>\n",
       "      <td>[[[(129, 542), (69, 3073), (106, 3073), (153, ...</td>\n",
       "    </tr>\n",
       "    <tr>\n",
       "      <th>2</th>\n",
       "      <td>./ICDAR/ICDAR2019_cTDaR/training/TRACKB1/groun...</td>\n",
       "      <td>./ICDAR/ICDAR_Processed\\table_mask\\cTDaR_t0000...</td>\n",
       "      <td>./ICDAR/ICDAR_Processed\\col_mask\\cTDaR_t00002.jpg</td>\n",
       "      <td>3584</td>\n",
       "      <td>4912</td>\n",
       "      <td>1</td>\n",
       "      <td>2</td>\n",
       "      <td>2</td>\n",
       "      <td>[[(149, 521), (2425, 639), (2317, 3117), (163,...</td>\n",
       "      <td>[[[(162, 526), (138, 1173), (48, 3065), (182, ...</td>\n",
       "    </tr>\n",
       "    <tr>\n",
       "      <th>3</th>\n",
       "      <td>./ICDAR/ICDAR2019_cTDaR/training/TRACKB1/groun...</td>\n",
       "      <td>./ICDAR/ICDAR_Processed\\table_mask\\cTDaR_t0000...</td>\n",
       "      <td>./ICDAR/ICDAR_Processed\\col_mask\\cTDaR_t00003.jpg</td>\n",
       "      <td>3584</td>\n",
       "      <td>4912</td>\n",
       "      <td>1</td>\n",
       "      <td>2</td>\n",
       "      <td>2</td>\n",
       "      <td>[[(296, 237), (2461, 473), (2209, 3015), (346,...</td>\n",
       "      <td>[[[(323, 228), (33, 2780), (97, 2792), (363, 2...</td>\n",
       "    </tr>\n",
       "    <tr>\n",
       "      <th>4</th>\n",
       "      <td>./ICDAR/ICDAR2019_cTDaR/training/TRACKB1/groun...</td>\n",
       "      <td>./ICDAR/ICDAR_Processed\\table_mask\\cTDaR_t0000...</td>\n",
       "      <td>./ICDAR/ICDAR_Processed\\col_mask\\cTDaR_t00004.jpg</td>\n",
       "      <td>3584</td>\n",
       "      <td>4912</td>\n",
       "      <td>1</td>\n",
       "      <td>2</td>\n",
       "      <td>2</td>\n",
       "      <td>[[(169, 374), (2278, 462), (2265, 3022), (180,...</td>\n",
       "      <td>[[[(183, 385), (85, 3064), (145, 3064), (231, ...</td>\n",
       "    </tr>\n",
       "  </tbody>\n",
       "</table>\n",
       "</div>"
      ],
      "text/plain": [
       "                                            img_path  \\\n",
       "0  ./ICDAR/ICDAR2019_cTDaR/training/TRACKB1/groun...   \n",
       "1  ./ICDAR/ICDAR2019_cTDaR/training/TRACKB1/groun...   \n",
       "2  ./ICDAR/ICDAR2019_cTDaR/training/TRACKB1/groun...   \n",
       "3  ./ICDAR/ICDAR2019_cTDaR/training/TRACKB1/groun...   \n",
       "4  ./ICDAR/ICDAR2019_cTDaR/training/TRACKB1/groun...   \n",
       "\n",
       "                                          table_mask  \\\n",
       "0  ./ICDAR/ICDAR_Processed\\table_mask\\cTDaR_t0000...   \n",
       "1  ./ICDAR/ICDAR_Processed\\table_mask\\cTDaR_t0000...   \n",
       "2  ./ICDAR/ICDAR_Processed\\table_mask\\cTDaR_t0000...   \n",
       "3  ./ICDAR/ICDAR_Processed\\table_mask\\cTDaR_t0000...   \n",
       "4  ./ICDAR/ICDAR_Processed\\table_mask\\cTDaR_t0000...   \n",
       "\n",
       "                                            col_mask  original_height  \\\n",
       "0  ./ICDAR/ICDAR_Processed\\col_mask\\cTDaR_t00000.jpg             3584   \n",
       "1  ./ICDAR/ICDAR_Processed\\col_mask\\cTDaR_t00001.jpg             3584   \n",
       "2  ./ICDAR/ICDAR_Processed\\col_mask\\cTDaR_t00002.jpg             3584   \n",
       "3  ./ICDAR/ICDAR_Processed\\col_mask\\cTDaR_t00003.jpg             3584   \n",
       "4  ./ICDAR/ICDAR_Processed\\col_mask\\cTDaR_t00004.jpg             3584   \n",
       "\n",
       "   original_width  hasTable  table_count  col_count  \\\n",
       "0            4912         1            1          1   \n",
       "1            4912         1            2          2   \n",
       "2            4912         1            2          2   \n",
       "3            4912         1            2          2   \n",
       "4            4912         1            2          2   \n",
       "\n",
       "                                        table_bboxes  \\\n",
       "0  [[(1722, 698), (3961, 698), (3961, 3247), (172...   \n",
       "1  [[(130, 538), (2398, 615), (2327, 3112), (128,...   \n",
       "2  [[(149, 521), (2425, 639), (2317, 3117), (163,...   \n",
       "3  [[(296, 237), (2461, 473), (2209, 3015), (346,...   \n",
       "4  [[(169, 374), (2278, 462), (2265, 3022), (180,...   \n",
       "\n",
       "                                          col_bboxes  \n",
       "0  [[[(1742, 698), (1695, 3239), (1740, 3239), (1...  \n",
       "1  [[[(129, 542), (69, 3073), (106, 3073), (153, ...  \n",
       "2  [[[(162, 526), (138, 1173), (48, 3065), (182, ...  \n",
       "3  [[[(323, 228), (33, 2780), (97, 2792), (363, 2...  \n",
       "4  [[[(183, 385), (85, 3064), (145, 3064), (231, ...  "
      ]
     },
     "execution_count": 72,
     "metadata": {},
     "output_type": "execute_result"
    }
   ],
   "source": [
    "processed_data.head()"
   ]
  },
  {
   "cell_type": "markdown",
   "metadata": {},
   "source": [
    "## Advanced EDA"
   ]
  },
  {
   "cell_type": "code",
   "execution_count": null,
   "metadata": {},
   "outputs": [],
   "source": [
    "processed_data['hasTable'].value_counts().tolist()"
   ]
  },
  {
   "cell_type": "markdown",
   "metadata": {},
   "source": [
    "#### Positive : Negative Ratio"
   ]
  },
  {
   "cell_type": "code",
   "execution_count": null,
   "metadata": {},
   "outputs": [],
   "source": [
    "fig = plt.figure(figsize = (10, 5))\n",
    "\n",
    "x = ['Neg Samples', 'Pos Samples']\n",
    "data = processed_data['hasTable'].value_counts().tolist()\n",
    "y = [data[1],data[0]]\n",
    "plt.bar(x, y,width = 0.4)\n",
    "plt.title('Distribution of Positive and Negative Samples')\n",
    "plt.show()"
   ]
  },
  {
   "cell_type": "markdown",
   "metadata": {},
   "source": [
    "#### Columns without any Table"
   ]
  },
  {
   "cell_type": "code",
   "execution_count": null,
   "metadata": {},
   "outputs": [],
   "source": [
    "processed_data[(processed_data['table_count']==0)]"
   ]
  },
  {
   "cell_type": "markdown",
   "metadata": {},
   "source": [
    "#### Table with No Columns"
   ]
  },
  {
   "cell_type": "code",
   "execution_count": null,
   "metadata": {},
   "outputs": [],
   "source": [
    "processed_data[(processed_data['hasTable']==1) & (processed_data['col_count']==0)]"
   ]
  },
  {
   "cell_type": "markdown",
   "metadata": {},
   "source": [
    "#### plotting image with table but no columns"
   ]
  },
  {
   "cell_type": "code",
   "execution_count": null,
   "metadata": {},
   "outputs": [],
   "source": [
    "plt.figure(figsize = (20,10))\n",
    "image = plt.imread('marmot_processed/image/10.1.1.1.2010_5.jpg')\n",
    "plt.imshow(image)\n",
    "plt.title('Table with No columns')\n",
    "plt.show()"
   ]
  },
  {
   "cell_type": "code",
   "execution_count": null,
   "metadata": {},
   "outputs": [],
   "source": [
    "plt.figure(figsize = (20,10))\n",
    "image = plt.imread('marmot_processed/image/10.1.1.1.2107_9.jpg')\n",
    "plt.imshow(image)\n",
    "plt.title('Table with No columns')\n",
    "plt.show()"
   ]
  },
  {
   "cell_type": "code",
   "execution_count": null,
   "metadata": {},
   "outputs": [],
   "source": [
    "plt.figure(figsize = (20,10))\n",
    "image = plt.imread('marmot_processed/image/10.1.1.160.669_3.jpg')\n",
    "plt.imshow(image)\n",
    "plt.title('Table with No columns')\n",
    "plt.show()"
   ]
  },
  {
   "cell_type": "code",
   "execution_count": null,
   "metadata": {},
   "outputs": [],
   "source": [
    "plt.figure(figsize = (20,10))\n",
    "image = plt.imread('marmot_processed/image/10.1.1.7.2174_3.jpg')\n",
    "plt.imshow(image)\n",
    "plt.title('Table with No columns')\n",
    "plt.show()"
   ]
  },
  {
   "cell_type": "code",
   "execution_count": null,
   "metadata": {},
   "outputs": [],
   "source": [
    "plt.figure(figsize = (20,10))\n",
    "image = plt.imread('marmot_processed/image/10.1.1.7.2174_8.jpg')\n",
    "plt.imshow(image)\n",
    "plt.title('Table with No columns')\n",
    "plt.show()"
   ]
  },
  {
   "cell_type": "markdown",
   "metadata": {},
   "source": [
    "### Observations\n",
    "\n",
    "- There are 5 images with tables but no columns\n",
    "- There are total 494 Negative Samples and 499 Positive Samples.\n",
    "- Also, we confirmed that there are no columns with only tables."
   ]
  },
  {
   "cell_type": "code",
   "execution_count": null,
   "metadata": {},
   "outputs": [],
   "source": []
  },
  {
   "cell_type": "markdown",
   "metadata": {},
   "source": [
    "### Height of the Image"
   ]
  },
  {
   "cell_type": "code",
   "execution_count": null,
   "metadata": {},
   "outputs": [],
   "source": [
    "processed_data['original_height'].plot.hist(bins = 10)"
   ]
  },
  {
   "cell_type": "code",
   "execution_count": null,
   "metadata": {},
   "outputs": [],
   "source": [
    "sns.kdeplot(processed_data['original_height'], color='b', fill=True)\n",
    "  \n",
    "plt.xlabel('Height')\n",
    "plt.ylabel('Probability Density')\n",
    "plt.show()"
   ]
  },
  {
   "cell_type": "markdown",
   "metadata": {},
   "source": [
    "### Width of the Image"
   ]
  },
  {
   "cell_type": "code",
   "execution_count": null,
   "metadata": {},
   "outputs": [],
   "source": [
    "processed_data['original_width'].plot.hist(bins = 10)"
   ]
  },
  {
   "cell_type": "code",
   "execution_count": null,
   "metadata": {},
   "outputs": [],
   "source": [
    "sns.kdeplot(processed_data['original_width'], color='b', fill=True)\n",
    "\n",
    "plt.xlabel('Width')\n",
    "plt.ylabel('Probability Density')\n",
    "plt.show()"
   ]
  },
  {
   "cell_type": "markdown",
   "metadata": {},
   "source": [
    "### Total Tables"
   ]
  },
  {
   "cell_type": "code",
   "execution_count": null,
   "metadata": {},
   "outputs": [],
   "source": [
    "processed_data['table_count'].value_counts().plot.bar()\n",
    "plt.xlabel('Tables')\n",
    "plt.ylabel('Count')\n",
    "plt.show()"
   ]
  },
  {
   "cell_type": "markdown",
   "metadata": {},
   "source": [
    "### Total Columns"
   ]
  },
  {
   "cell_type": "code",
   "execution_count": null,
   "metadata": {},
   "outputs": [],
   "source": [
    "processed_data['col_count'].value_counts().plot.bar()\n",
    "plt.xlabel('Columns')\n",
    "plt.ylabel('Count')\n",
    "plt.show()"
   ]
  },
  {
   "cell_type": "code",
   "execution_count": null,
   "metadata": {},
   "outputs": [],
   "source": [
    "import json\n"
   ]
  },
  {
   "cell_type": "markdown",
   "metadata": {},
   "source": [
    "### Observations\n",
    "\n",
    "- Height of most images are between 1000 - 1100\n",
    "- Width of most images are between 700-800.\n",
    "- Apart from images with no Tables, most images contains only 1 table and at maximum 4 tables.\n",
    "- Total Columns in an image (can have multiple tables in a page) ranges from 4 - 42\n",
    "- We have also seen Image with no columns but have Tables in them."
   ]
  },
  {
   "cell_type": "markdown",
   "metadata": {},
   "source": [
    "### Height of Table"
   ]
  },
  {
   "cell_type": "code",
   "execution_count": null,
   "metadata": {},
   "outputs": [],
   "source": [
    "heights = []\n",
    "widths = []\n",
    "for boxes in processed_data[processed_data['hasTable']==1]['table_bboxes']:\n",
    "    # boxes = [json.loads('[' + boxes.strip('][').strip(',') + ']')]\n",
    "    print(boxes)\n",
    "# Convert the cleaned string to a Python list\n",
    "# array = json.loads('[' + cleaned_string + ']')\n",
    "    # for box in boxes:\n",
    "    #     heights.append(box[3]-box[1])\n",
    "    #     widths.append(box[2]-box[0])"
   ]
  },
  {
   "cell_type": "code",
   "execution_count": null,
   "metadata": {},
   "outputs": [],
   "source": [
    "min(col_widths)"
   ]
  },
  {
   "cell_type": "code",
   "execution_count": null,
   "metadata": {},
   "outputs": [],
   "source": [
    "sns.histplot(heights, color='b', Label='Table Height')\n",
    "\n",
    "plt.xlabel('Table Height')\n",
    "plt.ylabel('Counts')\n",
    "plt.show()"
   ]
  },
  {
   "cell_type": "code",
   "execution_count": null,
   "metadata": {},
   "outputs": [],
   "source": [
    "sns.kdeplot(heights, color='b', shade=True, Label='Table Height')\n",
    "\n",
    "plt.xlabel('Table Height')\n",
    "plt.ylabel('Probability Density')\n",
    "plt.show()"
   ]
  },
  {
   "cell_type": "markdown",
   "metadata": {},
   "source": [
    "### Width of the Table"
   ]
  },
  {
   "cell_type": "code",
   "execution_count": null,
   "metadata": {},
   "outputs": [],
   "source": [
    "sns.histplot(widths, color='b', Label='Table Width')\n",
    "\n",
    "plt.xlabel('Table Width')\n",
    "plt.ylabel('Counts')\n",
    "plt.show()"
   ]
  },
  {
   "cell_type": "code",
   "execution_count": null,
   "metadata": {},
   "outputs": [],
   "source": [
    "sns.kdeplot(widths, color='b', shade=True, Label='Table Width')\n",
    "\n",
    "plt.xlabel('Table Width')\n",
    "plt.ylabel('Probability Density')\n",
    "plt.show()"
   ]
  },
  {
   "cell_type": "markdown",
   "metadata": {},
   "source": [
    "### Height of the Column"
   ]
  },
  {
   "cell_type": "code",
   "execution_count": null,
   "metadata": {},
   "outputs": [],
   "source": [
    "col_heights = []\n",
    "col_widths = []\n",
    "for boxes in processed_data[processed_data['hasTable']==1]['col_bboxes']:\n",
    "    for box in boxes:\n",
    "        col_heights.append(box[3]-box[1])\n",
    "        col_widths.append(box[2]-box[0])"
   ]
  },
  {
   "cell_type": "code",
   "execution_count": null,
   "metadata": {},
   "outputs": [],
   "source": [
    "sns.histplot(col_heights, color='b', Label='Column Height')\n",
    "\n",
    "plt.xlabel('Column Height')\n",
    "plt.ylabel('Counts')\n",
    "plt.show()"
   ]
  },
  {
   "cell_type": "code",
   "execution_count": null,
   "metadata": {},
   "outputs": [],
   "source": [
    "sns.kdeplot(col_heights, color='b', shade=True, Label='Column Height')\n",
    "\n",
    "plt.xlabel('Column Height')\n",
    "plt.ylabel('Probability Density')\n",
    "plt.show()"
   ]
  },
  {
   "cell_type": "markdown",
   "metadata": {},
   "source": [
    "### Width of the Column"
   ]
  },
  {
   "cell_type": "code",
   "execution_count": null,
   "metadata": {},
   "outputs": [],
   "source": [
    "sns.histplot(col_widths, color='b', Label='Column Width')\n",
    "\n",
    "plt.xlabel('Column Width')\n",
    "plt.ylabel('Counts')\n",
    "plt.show()"
   ]
  },
  {
   "cell_type": "code",
   "execution_count": null,
   "metadata": {},
   "outputs": [],
   "source": [
    "sns.kdeplot(col_widths, color='b', shade=True, Label='Table Column')\n",
    "\n",
    "plt.xlabel('Table Column')\n",
    "plt.ylabel('Probability Density')\n",
    "plt.show()"
   ]
  },
  {
   "cell_type": "markdown",
   "metadata": {},
   "source": [
    "### Observations\n",
    "\n",
    "- Height of tables ranges from 30 - 870, but most are between  50-300.\n",
    "- Width of tables ranges from 50 - 900, but common width is 400.\n",
    "- Height of columns ranges from 10 - 880 showing a right skewed distribution\n",
    "- Width of columns ranges from 7 - 671 showing a right skewed distribution"
   ]
  },
  {
   "cell_type": "code",
   "execution_count": 108,
   "metadata": {},
   "outputs": [
    {
     "name": "stdout",
     "output_type": "stream",
     "text": [
      ".\\ICDAR\\ICDAR2019_cTDaR/training\\TRACKB1\\ground_truth\\cTDaR_t00199.xml\n"
     ]
    }
   ],
   "source": [
    "xml_file1 = \"cTDaR_t00199.jpg\"\n",
    "xml_file1 = image_name.replace('.jpg', '.xml')\n",
    "xml_file1 = image_name.replace('.JPG', '.xml')\n",
    "xml1_file = os.path.join(ORIG_DATA_PATH, xml_file1)\n",
    "print(xml1_file)\n",
    "\n",
    "xml1_file.replace(\" \", \"\")\n",
    "tree1 = ET.parse(xml1_file)\n",
    "root1 = tree1.getroot()"
   ]
  },
  {
   "cell_type": "code",
   "execution_count": 101,
   "metadata": {},
   "outputs": [
    {
     "data": {
      "text/plain": [
       "<Element 'document' at 0x000002BD0F0A3C40>"
      ]
     },
     "execution_count": 101,
     "metadata": {},
     "output_type": "execute_result"
    }
   ],
   "source": [
    "root1"
   ]
  },
  {
   "cell_type": "code",
   "execution_count": 93,
   "metadata": {},
   "outputs": [
    {
     "data": {
      "text/plain": [
       "<xml.etree.ElementTree.ElementTree at 0x2bd0eef1d80>"
      ]
     },
     "execution_count": 93,
     "metadata": {},
     "output_type": "execute_result"
    }
   ],
   "source": [
    "tree1\n"
   ]
  },
  {
   "cell_type": "code",
   "execution_count": null,
   "metadata": {},
   "outputs": [],
   "source": []
  }
 ],
 "metadata": {
  "interpreter": {
   "hash": "cce9c5b3b81fcb98a8d09dfcaff65dd7cd23b6605cc49ab6f14f654f1c8962b0"
  },
  "kernelspec": {
   "display_name": "Python 3",
   "language": "python",
   "name": "python3"
  },
  "language_info": {
   "codemirror_mode": {
    "name": "ipython",
    "version": 3
   },
   "file_extension": ".py",
   "mimetype": "text/x-python",
   "name": "python",
   "nbconvert_exporter": "python",
   "pygments_lexer": "ipython3",
   "version": "3.10.2"
  }
 },
 "nbformat": 4,
 "nbformat_minor": 4
}
